{
  "nbformat": 4,
  "nbformat_minor": 0,
  "metadata": {
    "colab": {
      "provenance": [],
      "authorship_tag": "ABX9TyNj8/Wgh5JM3nUG5/SAwWFB",
      "include_colab_link": true
    },
    "kernelspec": {
      "name": "python3",
      "display_name": "Python 3"
    },
    "language_info": {
      "name": "python"
    }
  },
  "cells": [
    {
      "cell_type": "markdown",
      "metadata": {
        "id": "view-in-github",
        "colab_type": "text"
      },
      "source": [
        "<a href=\"https://colab.research.google.com/github/jdasam/mas1004-2023/blob/main/1_jupyter_tutorial.ipynb\" target=\"_parent\"><img src=\"https://colab.research.google.com/assets/colab-badge.svg\" alt=\"Open In Colab\"/></a>"
      ]
    },
    {
      "cell_type": "markdown",
      "source": [
        "# Jupyter Tutorial"
      ],
      "metadata": {
        "id": "1DO_LoIv23e3"
      }
    },
    {
      "cell_type": "code",
      "source": [],
      "metadata": {
        "id": "TRE_4pmw24rj"
      },
      "execution_count": null,
      "outputs": []
    },
    {
      "cell_type": "markdown",
      "source": [
        "### Run Code"
      ],
      "metadata": {
        "id": "Wpk1ZSZK27N9"
      }
    },
    {
      "cell_type": "markdown",
      "source": [
        "### Install Library"
      ],
      "metadata": {
        "id": "T2MRuS_M25IR"
      }
    },
    {
      "cell_type": "markdown",
      "source": [
        "### Change Directory"
      ],
      "metadata": {
        "id": "4ZS1Qtw03B2r"
      }
    },
    {
      "cell_type": "code",
      "source": [
        "!mkdir test_files"
      ],
      "metadata": {
        "id": "osUnP0ZM264T"
      },
      "execution_count": 6,
      "outputs": []
    },
    {
      "cell_type": "code",
      "source": [
        "%pwd"
      ],
      "metadata": {
        "colab": {
          "base_uri": "https://localhost:8080/",
          "height": 36
        },
        "id": "s0sgD5g43Mju",
        "outputId": "c9f178ff-29b3-493d-c63d-475723883919"
      },
      "execution_count": 7,
      "outputs": [
        {
          "output_type": "execute_result",
          "data": {
            "text/plain": [
              "'/content'"
            ],
            "application/vnd.google.colaboratory.intrinsic+json": {
              "type": "string"
            }
          },
          "metadata": {},
          "execution_count": 7
        }
      ]
    },
    {
      "cell_type": "code",
      "source": [
        "%cd test_files"
      ],
      "metadata": {
        "colab": {
          "base_uri": "https://localhost:8080/"
        },
        "id": "ydyo04Va3NvF",
        "outputId": "a44f9c42-db0e-40c4-f4bf-d5893cea4adb"
      },
      "execution_count": 9,
      "outputs": [
        {
          "output_type": "stream",
          "name": "stdout",
          "text": [
            "/content/test_files\n"
          ]
        }
      ]
    },
    {
      "cell_type": "code",
      "source": [
        "with open('test_text.txt', 'wt') as f:\n",
        "  f.write('this is in test_files')"
      ],
      "metadata": {
        "id": "qpwD3SkU3Pz4"
      },
      "execution_count": 13,
      "outputs": []
    },
    {
      "cell_type": "code",
      "source": [
        "%cd .."
      ],
      "metadata": {
        "colab": {
          "base_uri": "https://localhost:8080/"
        },
        "id": "Ov8cp6-23YwU",
        "outputId": "59a4c065-ca0e-4009-b504-483d54949b77"
      },
      "execution_count": 14,
      "outputs": [
        {
          "output_type": "stream",
          "name": "stdout",
          "text": [
            "/content\n"
          ]
        }
      ]
    },
    {
      "cell_type": "code",
      "source": [
        "%pwd"
      ],
      "metadata": {
        "colab": {
          "base_uri": "https://localhost:8080/",
          "height": 36
        },
        "id": "Zao-NYA64CWV",
        "outputId": "b8324615-965f-4d04-da9d-1f0fb2c25cf4"
      },
      "execution_count": 15,
      "outputs": [
        {
          "output_type": "execute_result",
          "data": {
            "text/plain": [
              "'/content'"
            ],
            "application/vnd.google.colaboratory.intrinsic+json": {
              "type": "string"
            }
          },
          "metadata": {},
          "execution_count": 15
        }
      ]
    },
    {
      "cell_type": "code",
      "source": [
        "with open('test_text2.txt', 'wt') as f:\n",
        "  f.write('this is in content')"
      ],
      "metadata": {
        "id": "nmoa-JU94Dsc"
      },
      "execution_count": 16,
      "outputs": []
    },
    {
      "cell_type": "code",
      "source": [],
      "metadata": {
        "id": "sr5D2XA64G5X"
      },
      "execution_count": null,
      "outputs": []
    }
  ]
}