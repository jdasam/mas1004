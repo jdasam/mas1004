{
  "nbformat": 4,
  "nbformat_minor": 0,
  "metadata": {
    "colab": {
      "provenance": [],
      "authorship_tag": "ABX9TyME1hmg9DIQguoutwxipwan",
      "include_colab_link": true
    },
    "kernelspec": {
      "name": "python3",
      "display_name": "Python 3"
    },
    "language_info": {
      "name": "python"
    }
  },
  "cells": [
    {
      "cell_type": "markdown",
      "metadata": {
        "id": "view-in-github",
        "colab_type": "text"
      },
      "source": [
        "<a href=\"https://colab.research.google.com/github/jdasam/mas1004-2023/blob/main/live_coding/1_Jupyter_tutorial.ipynb\" target=\"_parent\"><img src=\"https://colab.research.google.com/assets/colab-badge.svg\" alt=\"Open In Colab\"/></a>"
      ]
    },
    {
      "cell_type": "markdown",
      "source": [
        "# Jupyter Tutorial"
      ],
      "metadata": {
        "id": "TD_enTEMjKjt"
      }
    },
    {
      "cell_type": "code",
      "execution_count": 1,
      "metadata": {
        "colab": {
          "base_uri": "https://localhost:8080/"
        },
        "id": "3OyCFoKxi_GC",
        "outputId": "d9e89420-95ce-4c75-ab76-01511b67b19c"
      },
      "outputs": [
        {
          "output_type": "stream",
          "name": "stdout",
          "text": [
            "/\n"
          ]
        }
      ],
      "source": []
    },
    {
      "cell_type": "markdown",
      "source": [
        "### How Jupyter Works"
      ],
      "metadata": {
        "id": "iDx9_Dzhod-_"
      }
    },
    {
      "cell_type": "code",
      "source": [],
      "metadata": {
        "id": "NGr5iqOWofn4"
      },
      "execution_count": null,
      "outputs": []
    },
    {
      "cell_type": "markdown",
      "source": [
        "### For loop and list comprehension"
      ],
      "metadata": {
        "id": "PHMO9pfYogIT"
      }
    },
    {
      "cell_type": "code",
      "source": [],
      "metadata": {
        "id": "fLf-oiZ_oiwV"
      },
      "execution_count": null,
      "outputs": []
    },
    {
      "cell_type": "markdown",
      "source": [
        "### Plot graph with *matplotlib*"
      ],
      "metadata": {
        "id": "zH5SFj9UojTH"
      }
    },
    {
      "cell_type": "code",
      "source": [],
      "execution_count": null,
      "outputs": [],

      "metadata": {
        "id": "eCmDX3uDolZC"
      },
      "execution_count": null,
      "outputs": []
    }
  ]
}
