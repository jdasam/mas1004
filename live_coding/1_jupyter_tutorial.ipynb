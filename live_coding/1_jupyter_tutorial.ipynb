{
  "cells": [
    {
      "cell_type": "markdown",
      "metadata": {
        "id": "view-in-github",
        "colab_type": "text"
      },
      "source": [
        "<a href=\"https://colab.research.google.com/github/jdasam/mas1004/blob/2024/live_coding/1_jupyter_tutorial.ipynb\" target=\"_parent\"><img src=\"https://colab.research.google.com/assets/colab-badge.svg\" alt=\"Open In Colab\"/></a>"
      ]
    },
    {
      "cell_type": "markdown",
      "metadata": {
        "id": "1DO_LoIv23e3"
      },
      "source": [
        "# Jupyter Tutorial\n",
        "- Jupyter has two type of cells\n",
        "  - markdown: to write down some text\n",
        "  - code cell: to run the code\n",
        "- you can write text in markdown grammar\n",
        "\n",
        "### Different heading\n",
        "- You can make *italic* or **bold** font\n",
        "\n",
        "\n",
        "# Difference with Jupyter Notebook and Colab?\n",
        "- Jupyter notebook is interactive environment for Python and R\n",
        "- Colab is Jupyter + Google Cloud\n",
        "  - You can mount your google drive into Colab\n",
        "  - It provides some computing resource from google cloud\n"
      ]
    },
    {
      "cell_type": "markdown",
      "metadata": {
        "id": "Wpk1ZSZK27N9"
      },
      "source": [
        "### Run Code\n",
        "- It saves variable in its memory\n",
        "- The cells does not have to be run in its place order\n",
        "  - You can run cells in arbitrary order\n",
        "- To run the code, you can press the play button on the left side of the cell\n",
        "  - or control + enter\n",
        "  - or shift + enter: this automatically proceeds to next cell\n",
        "- If you define some variable, it will be recorded in the namespace\n",
        "- You can reset namespace by rebooting the notebook."
      ]
    },
    {
      "cell_type": "code",
      "source": [],
      "metadata": {
        "id": "euPQgAEq1TGH"
      },
      "execution_count": null,
      "outputs": []
    },
    {
      "cell_type": "code",
      "source": [
        "a = 1\n"
      ],
      "metadata": {
        "id": "I4hTsOKf0it_"
      },
      "execution_count": 8,
      "outputs": []
    },
    {
      "cell_type": "code",
      "source": [
        "b = 3"
      ],
      "metadata": {
        "id": "_YUVka7j0xw4"
      },
      "execution_count": 9,
      "outputs": []
    },
    {
      "cell_type": "code",
      "source": [
        "a - b"
      ],
      "metadata": {
        "id": "dyWGNsgj0ykK",
        "outputId": "1ef2994c-624a-43d2-a984-5fb28da1da5d",
        "colab": {
          "base_uri": "https://localhost:8080/"
        }
      },
      "execution_count": 10,
      "outputs": [
        {
          "output_type": "execute_result",
          "data": {
            "text/plain": [
              "-2"
            ]
          },
          "metadata": {},
          "execution_count": 10
        }
      ]
    },
    {
      "cell_type": "code",
      "source": [
        "# % sign means special command for jupyter notebook\n",
        "# This command is not for python, but its for jupyter\n",
        "%whos\n",
        "# This print current variables"
      ],
      "metadata": {
        "id": "RbIaDBEt07S5",
        "outputId": "561e23c3-a114-4174-8b19-12dc12e4afb9",
        "colab": {
          "base_uri": "https://localhost:8080/"
        }
      },
      "execution_count": 1,
      "outputs": [
        {
          "output_type": "stream",
          "name": "stdout",
          "text": [
            "Interactive namespace is empty.\n"
          ]
        }
      ]
    },
    {
      "cell_type": "code",
      "source": [
        "a + c"
      ],
      "metadata": {
        "id": "ZIJct8hn1BIs",
        "outputId": "33296d36-afee-4376-c5ce-04824dae6f5d",
        "colab": {
          "base_uri": "https://localhost:8080/"
        }
      },
      "execution_count": 15,
      "outputs": [
        {
          "output_type": "execute_result",
          "data": {
            "text/plain": [
              "8"
            ]
          },
          "metadata": {},
          "execution_count": 15
        }
      ]
    },
    {
      "cell_type": "code",
      "source": [
        "c = 7"
      ],
      "metadata": {
        "id": "MJ1QQiKt1FMI"
      },
      "execution_count": 14,
      "outputs": []
    },
    {
      "cell_type": "code",
      "source": [
        "a = 1\n",
        "print(a + c)\n",
        "c = 3"
      ],
      "metadata": {
        "id": "PsCGWypZ1May",
        "outputId": "ea6543a8-b657-49e1-cd7d-578a654b76fb",
        "colab": {
          "base_uri": "https://localhost:8080/",
          "height": 181
        }
      },
      "execution_count": 12,
      "outputs": [
        {
          "output_type": "error",
          "ename": "NameError",
          "evalue": "name 'c' is not defined",
          "traceback": [
            "\u001b[0;31m---------------------------------------------------------------------------\u001b[0m",
            "\u001b[0;31mNameError\u001b[0m                                 Traceback (most recent call last)",
            "\u001b[0;32m<ipython-input-12-633679723d5e>\u001b[0m in \u001b[0;36m<cell line: 2>\u001b[0;34m()\u001b[0m\n\u001b[1;32m      1\u001b[0m \u001b[0ma\u001b[0m \u001b[0;34m=\u001b[0m \u001b[0;36m1\u001b[0m\u001b[0;34m\u001b[0m\u001b[0;34m\u001b[0m\u001b[0m\n\u001b[0;32m----> 2\u001b[0;31m \u001b[0mprint\u001b[0m\u001b[0;34m(\u001b[0m\u001b[0ma\u001b[0m \u001b[0;34m+\u001b[0m \u001b[0mc\u001b[0m\u001b[0;34m)\u001b[0m\u001b[0;34m\u001b[0m\u001b[0;34m\u001b[0m\u001b[0m\n\u001b[0m\u001b[1;32m      3\u001b[0m \u001b[0mc\u001b[0m \u001b[0;34m=\u001b[0m \u001b[0;36m3\u001b[0m\u001b[0;34m\u001b[0m\u001b[0;34m\u001b[0m\u001b[0m\n",
            "\u001b[0;31mNameError\u001b[0m: name 'c' is not defined"
          ]
        }
      ]
    },
    {
      "cell_type": "code",
      "source": [
        "my_func(a, c)"
      ],
      "metadata": {
        "id": "ixyHMCGd2dPG",
        "outputId": "ce8015ab-4bf5-42dd-b2d3-b5836de7de69",
        "colab": {
          "base_uri": "https://localhost:8080/"
        }
      },
      "execution_count": 20,
      "outputs": [
        {
          "output_type": "execute_result",
          "data": {
            "text/plain": [
              "8"
            ]
          },
          "metadata": {},
          "execution_count": 20
        }
      ]
    },
    {
      "cell_type": "code",
      "source": [
        "# you can define the function, and it will be on notebook status\n",
        "def my_func(a, b):\n",
        "  return a + b\n"
      ],
      "metadata": {
        "id": "rflNnRnj2AWR"
      },
      "execution_count": 17,
      "outputs": []
    },
    {
      "cell_type": "code",
      "source": [
        "# If you update variable, it will also recorded in the namespace\n",
        "print(a)\n",
        "a += 3\n",
        "print(a)"
      ],
      "metadata": {
        "id": "T1SzzSMo2pkK",
        "outputId": "8795f76c-edbc-4184-b360-709ccf981144",
        "colab": {
          "base_uri": "https://localhost:8080/"
        }
      },
      "execution_count": 23,
      "outputs": [
        {
          "output_type": "stream",
          "name": "stdout",
          "text": [
            "7\n",
            "10\n"
          ]
        }
      ]
    },
    {
      "cell_type": "code",
      "source": [
        "whos = 'jeong'"
      ],
      "metadata": {
        "id": "QCFFY1B53Q-Q"
      },
      "execution_count": 2,
      "outputs": []
    },
    {
      "cell_type": "code",
      "source": [
        "%whos"
      ],
      "metadata": {
        "id": "iUWoYW983Szf",
        "outputId": "c4de474a-0ff5-4f8d-eb05-31abaae2a0ba",
        "colab": {
          "base_uri": "https://localhost:8080/"
        }
      },
      "execution_count": 4,
      "outputs": [
        {
          "output_type": "stream",
          "name": "stdout",
          "text": [
            "Variable   Type    Data/Info\n",
            "----------------------------\n",
            "whos       str     jeong\n"
          ]
        }
      ]
    },
    {
      "cell_type": "markdown",
      "metadata": {
        "id": "T2MRuS_M25IR"
      },
      "source": [
        "### Install Library or make Terminal Command\n",
        "- Colab has many default-installed libraries\n",
        "  - numpy, pandas, torch, tensorflow, matplotlib"
      ]
    },
    {
      "cell_type": "code",
      "source": [
        "import numpy as np"
      ],
      "metadata": {
        "id": "CUesc2pX3f6s"
      },
      "execution_count": 5,
      "outputs": []
    },
    {
      "cell_type": "markdown",
      "source": [
        "- You can install libraries with terminal command\n",
        "  - Terminal is for interacting with operating system (with only keyboard)\n",
        "  - To install libraries, you have to install it on OS, not on Python.\n",
        "\n",
        "- To make command to your OS as in terminal, you can use ! mark"
      ],
      "metadata": {
        "id": "FFELu0Gs3sJQ"
      }
    },
    {
      "cell_type": "code",
      "source": [
        "# list the files of current directory\n",
        "!ls"
      ],
      "metadata": {
        "id": "GskzHLVt3rvl",
        "outputId": "930957ef-0168-4a4e-f815-28879fc55d53",
        "colab": {
          "base_uri": "https://localhost:8080/"
        }
      },
      "execution_count": 8,
      "outputs": [
        {
          "output_type": "stream",
          "name": "stdout",
          "text": [
            "my_new_empty_directory\tsample_data\n"
          ]
        }
      ]
    },
    {
      "cell_type": "code",
      "source": [
        "# make new empty directory\n",
        "!mkdir my_new_empty_directory"
      ],
      "metadata": {
        "id": "MbVs9EKi4x2X"
      },
      "execution_count": 7,
      "outputs": []
    },
    {
      "cell_type": "code",
      "source": [
        "# install library with pip\n",
        "# pip is a package that helps to install python libraries\n",
        "!pip install numpy"
      ],
      "metadata": {
        "id": "xpo0xVXq47uo",
        "outputId": "27941274-74e1-48b6-e9df-ca7afd637b8f",
        "colab": {
          "base_uri": "https://localhost:8080/"
        }
      },
      "execution_count": 10,
      "outputs": [
        {
          "output_type": "stream",
          "name": "stdout",
          "text": [
            "Requirement already satisfied: numpy in /usr/local/lib/python3.10/dist-packages (2.1.1)\n"
          ]
        }
      ]
    },
    {
      "cell_type": "markdown",
      "metadata": {
        "id": "4ZS1Qtw03B2r"
      },
      "source": [
        "### Change Directory"
      ]
    },
    {
      "cell_type": "code",
      "source": [
        "# we can print present working directory\n",
        "!pwd"
      ],
      "metadata": {
        "id": "oPxjZUXP5fYE",
        "outputId": "fe7719e7-f8b2-4bd8-8760-748de02f5d5e",
        "colab": {
          "base_uri": "https://localhost:8080/"
        }
      },
      "execution_count": 21,
      "outputs": [
        {
          "output_type": "stream",
          "name": "stdout",
          "text": [
            "/content/my_new_empty_directory\n"
          ]
        }
      ]
    },
    {
      "cell_type": "code",
      "source": [
        "!cd my_new_empty_directory\n",
        "# It does not work, because jupyter notebook is in different environment"
      ],
      "metadata": {
        "id": "GtnYPT_95zRj"
      },
      "execution_count": 16,
      "outputs": []
    },
    {
      "cell_type": "code",
      "source": [
        "# cd means change directory\n",
        "# You have to use jupyter function % to change directory of your jupyter environment\n",
        "%cd /content/my_new_empty_directory"
      ],
      "metadata": {
        "id": "vtkaK5O75c1-",
        "outputId": "84ffec12-cf91-4c78-88a9-6233b9e220f4",
        "colab": {
          "base_uri": "https://localhost:8080/"
        }
      },
      "execution_count": 20,
      "outputs": [
        {
          "output_type": "stream",
          "name": "stdout",
          "text": [
            "/content/my_new_empty_directory\n"
          ]
        }
      ]
    },
    {
      "cell_type": "markdown",
      "metadata": {
        "id": "7ABDYWoBZJyR"
      },
      "source": [
        "### List comprehension\n",
        "- With list comprehension, you can make the code shorter, and (usually) more readable"
      ]
    },
    {
      "cell_type": "code",
      "source": [
        "input_list = [3, 6, 7]\n",
        "# desired_output = [6, 12, 14]\n",
        "\n",
        "def double_the_list(alist: list):\n",
        "  # in alist: list, : means type hint.\n",
        "  # hint is not mandatory, its optional\n",
        "  blist = [elem * 2 for elem in alist]\n",
        "  # blist = []\n",
        "  # for elem in alist:\n",
        "  #   doubled_elem = elem * 2\n",
        "  #   blist.append(doubled_elem)\n",
        "  #   # blist.append(elem * 2)\n",
        "  return blist\n",
        "\n",
        "output = double_the_list(input_list)\n",
        "# output == [6, 12, 14]\n",
        "output"
      ],
      "metadata": {
        "id": "SaQgHL566rZx",
        "outputId": "c50dfd22-6d8d-4367-efbb-91df2be38609",
        "colab": {
          "base_uri": "https://localhost:8080/"
        }
      },
      "execution_count": 25,
      "outputs": [
        {
          "output_type": "execute_result",
          "data": {
            "text/plain": [
              "[6, 12, 14]"
            ]
          },
          "metadata": {},
          "execution_count": 25
        }
      ]
    },
    {
      "cell_type": "code",
      "source": [
        "alist = list(range(100))\n",
        "# let's assume that we want only numbers that are not divided by 2 or 3\n",
        "\n",
        "def filter_list_by_division(alist):\n",
        "  blist = []\n",
        "  for item in alist:\n",
        "    if item % 2 == 0: # item can be divided by two:\n",
        "      continue\n",
        "    elif item % 3 == 0:\n",
        "      continue\n",
        "    blist.append(item) # this line would be executed only when we didn't continue in previous lines\n",
        "  return blist\n",
        "\n",
        "filter_list_by_division(alist) # as this is not the final executed line, it won't be automatically printed\n",
        "print(filter_list_by_division(alist))\n",
        "# filter_list_by_division(alist) # Jupyter notebook automatically do pretty print for the last executed line"
      ],
      "metadata": {
        "id": "1PXwukfL80x9",
        "outputId": "593e5138-012e-44ad-8cfa-5e7ff9d0366d",
        "colab": {
          "base_uri": "https://localhost:8080/"
        }
      },
      "execution_count": 32,
      "outputs": [
        {
          "output_type": "stream",
          "name": "stdout",
          "text": [
            "[1, 5, 7, 11, 13, 17, 19, 23, 25, 29, 31, 35, 37, 41, 43, 47, 49, 53, 55, 59, 61, 65, 67, 71, 73, 77, 79, 83, 85, 89, 91, 95, 97]\n"
          ]
        }
      ]
    },
    {
      "cell_type": "code",
      "source": [
        "print(alist)"
      ],
      "metadata": {
        "id": "SqMZydnkB1BQ",
        "outputId": "92d4862f-acda-477b-9ba9-af82f7c34629",
        "colab": {
          "base_uri": "https://localhost:8080/"
        }
      },
      "execution_count": 40,
      "outputs": [
        {
          "output_type": "stream",
          "name": "stdout",
          "text": [
            "[0, 1, 2, 3, 4, 5, 6, 7, 8, 9, 10, 11, 12, 13, 14, 15, 16, 17, 18, 19, 20, 21, 22, 23, 24, 25, 26, 27, 28, 29, 30, 31, 32, 33, 34, 35, 36, 37, 38, 39, 40, 41, 42, 43, 44, 45, 46, 47, 48, 49, 50, 51, 52, 53, 54, 55, 56, 57, 58, 59, 60, 61, 62, 63, 64, 65, 66, 67, 68, 69, 70, 71, 72, 73, 74, 75, 76, 77, 78, 79, 80, 81, 82, 83, 84, 85, 86, 87, 88, 89, 90, 91, 92, 93, 94, 95, 96, 97, 98, 99]\n"
          ]
        }
      ]
    },
    {
      "cell_type": "code",
      "source": [
        "def filter_list_by_division(alist):\n",
        "  return [item for item in alist if item % 2 != 0 and item % 3 !=0]\n",
        "[item for item in alist if item % 2 != 0 and item % 3 !=0]"
      ],
      "metadata": {
        "collapsed": true,
        "id": "-Y6FOGi_-B3M",
        "outputId": "92b342d0-09b6-4323-a353-dbca69618a51",
        "colab": {
          "base_uri": "https://localhost:8080/"
        }
      },
      "execution_count": 34,
      "outputs": [
        {
          "output_type": "execute_result",
          "data": {
            "text/plain": [
              "[1,\n",
              " 5,\n",
              " 7,\n",
              " 11,\n",
              " 13,\n",
              " 17,\n",
              " 19,\n",
              " 23,\n",
              " 25,\n",
              " 29,\n",
              " 31,\n",
              " 35,\n",
              " 37,\n",
              " 41,\n",
              " 43,\n",
              " 47,\n",
              " 49,\n",
              " 53,\n",
              " 55,\n",
              " 59,\n",
              " 61,\n",
              " 65,\n",
              " 67,\n",
              " 71,\n",
              " 73,\n",
              " 77,\n",
              " 79,\n",
              " 83,\n",
              " 85,\n",
              " 89,\n",
              " 91,\n",
              " 95,\n",
              " 97]"
            ]
          },
          "metadata": {},
          "execution_count": 34
        }
      ]
    },
    {
      "cell_type": "code",
      "source": [
        "# We can do nested for loop\n",
        "sauce_list = ['tomato', 'basil pesto', 'ragu']\n",
        "pasta_list = ['spaghetti', 'penne', 'linguine', 'fusili']\n",
        "\n",
        "# make every possible combiniation between two\n",
        "every_comb = []\n",
        "for sauce in sauce_list:\n",
        "  for pasta in pasta_list:\n",
        "    # print(sauce + ' ' + pasta)\n",
        "    every_comb.append(sauce + ' ' + pasta)\n",
        "# every_comb\n",
        "\n",
        "# implement it with list comprehension\n",
        "every_comb = [sauce + ' ' + pasta for sauce in sauce_list for pasta in pasta_list]\n",
        "every_comb"
      ],
      "metadata": {
        "id": "6jU5_a3j_IKZ",
        "outputId": "f6ca5097-3a49-4b7d-a89c-6ba3fe6b7afe",
        "colab": {
          "base_uri": "https://localhost:8080/"
        }
      },
      "execution_count": 38,
      "outputs": [
        {
          "output_type": "execute_result",
          "data": {
            "text/plain": [
              "['tomato spaghetti',\n",
              " 'tomato penne',\n",
              " 'tomato linguine',\n",
              " 'tomato fusili',\n",
              " 'basil pesto spaghetti',\n",
              " 'basil pesto penne',\n",
              " 'basil pesto linguine',\n",
              " 'basil pesto fusili',\n",
              " 'ragu spaghetti',\n",
              " 'ragu penne',\n",
              " 'ragu linguine',\n",
              " 'ragu fusili']"
            ]
          },
          "metadata": {},
          "execution_count": 38
        }
      ]
    },
    {
      "cell_type": "markdown",
      "source": [
        "$s_i = s_{i-1} + s_{i-2}$"
      ],
      "metadata": {
        "id": "SiSa9M3vAh9a"
      }
    },
    {
      "cell_type": "code",
      "source": [
        "# There is something that you cannot implement with list comprehension\n",
        "# fibonacci sequence\n",
        "# 1, 1, 2, 3, 5, 8, 13, 21, 34,\n",
        "# s_i = s_{i-1} + s_{i+2}\n",
        "\n",
        "# make next 100 numbers in fibonacci sequence.\n",
        "seq = [1, 1]\n",
        "# easy way: directly update the `seq'\n",
        "for i in range(100):\n",
        "  penultimate_num = seq[-2]\n",
        "  last_num = seq[-1]\n",
        "  seq.append(penultimate_num + last_num)\n",
        "print(seq)\n",
        "\n"
      ],
      "metadata": {
        "id": "rh6FdCk-AHuV",
        "outputId": "4d5ccdc6-f77f-4ab2-8086-2f3c910193ae",
        "colab": {
          "base_uri": "https://localhost:8080/"
        }
      },
      "execution_count": 39,
      "outputs": [
        {
          "output_type": "stream",
          "name": "stdout",
          "text": [
            "[1, 1, 2, 3, 5, 8, 13, 21, 34, 55, 89, 144, 233, 377, 610, 987, 1597, 2584, 4181, 6765, 10946, 17711, 28657, 46368, 75025, 121393, 196418, 317811, 514229, 832040, 1346269, 2178309, 3524578, 5702887, 9227465, 14930352, 24157817, 39088169, 63245986, 102334155, 165580141, 267914296, 433494437, 701408733, 1134903170, 1836311903, 2971215073, 4807526976, 7778742049, 12586269025, 20365011074, 32951280099, 53316291173, 86267571272, 139583862445, 225851433717, 365435296162, 591286729879, 956722026041, 1548008755920, 2504730781961, 4052739537881, 6557470319842, 10610209857723, 17167680177565, 27777890035288, 44945570212853, 72723460248141, 117669030460994, 190392490709135, 308061521170129, 498454011879264, 806515533049393, 1304969544928657, 2111485077978050, 3416454622906707, 5527939700884757, 8944394323791464, 14472334024676221, 23416728348467685, 37889062373143906, 61305790721611591, 99194853094755497, 160500643816367088, 259695496911122585, 420196140727489673, 679891637638612258, 1100087778366101931, 1779979416004714189, 2880067194370816120, 4660046610375530309, 7540113804746346429, 12200160415121876738, 19740274219868223167, 31940434634990099905, 51680708854858323072, 83621143489848422977, 135301852344706746049, 218922995834555169026, 354224848179261915075, 573147844013817084101, 927372692193078999176]\n"
          ]
        }
      ]
    },
    {
      "cell_type": "markdown",
      "metadata": {
        "id": "8VnzJHFBY2A1"
      },
      "source": []
    }
  ],
  "metadata": {
    "colab": {
      "provenance": [],
      "include_colab_link": true
    },
    "kernelspec": {
      "display_name": "Python 3",
      "name": "python3"
    },
    "language_info": {
      "name": "python"
    }
  },
  "nbformat": 4,
  "nbformat_minor": 0
}