{
  "cells": [
    {
      "cell_type": "markdown",
      "metadata": {
        "colab_type": "text",
        "id": "view-in-github"
      },
      "source": [
        "<a href=\"https://colab.research.google.com/github/jdasam/mas1004/blob/2024/live_coding/1_jupyter_tutorial.ipynb\" target=\"_parent\"><img src=\"https://colab.research.google.com/assets/colab-badge.svg\" alt=\"Open In Colab\"/></a>"
      ]
    },
    {
      "cell_type": "markdown",
      "metadata": {
        "id": "1DO_LoIv23e3"
      },
      "source": [
        "# Jupyter Tutorial\n",
        "- you can write text in markdown grammar\n",
        "\n",
        "### Different heading\n",
        "- You can make *italic* or **bold** font"
      ]
    },
    {
      "cell_type": "markdown",
      "metadata": {
        "id": "Wpk1ZSZK27N9"
      },
      "source": [
        "### Run Code"
      ]
    },
    {
      "cell_type": "markdown",
      "metadata": {
        "id": "T2MRuS_M25IR"
      },
      "source": [
        "### Install Library or make Terminal Command"
      ]
    },
    {
      "cell_type": "markdown",
      "metadata": {
        "id": "4ZS1Qtw03B2r"
      },
      "source": [
        "### Change Directory"
      ]
    },
    {
      "cell_type": "markdown",
      "metadata": {
        "id": "7ABDYWoBZJyR"
      },
      "source": [
        "### List comprehension"
      ]
    },
    {
      "cell_type": "markdown",
      "metadata": {
        "id": "8VnzJHFBY2A1"
      },
      "source": []
    }
  ],
  "metadata": {
    "colab": {
      "authorship_tag": "ABX9TyOqqjczP3tQ9b1hxy/hNB1t",
      "include_colab_link": true,
      "provenance": []
    },
    "kernelspec": {
      "display_name": "Python 3",
      "name": "python3"
    },
    "language_info": {
      "name": "python"
    }
  },
  "nbformat": 4,
  "nbformat_minor": 0
}
