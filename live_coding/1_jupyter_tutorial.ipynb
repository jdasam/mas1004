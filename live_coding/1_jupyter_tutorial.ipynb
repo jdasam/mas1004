{
  "nbformat": 4,
  "nbformat_minor": 0,
  "metadata": {
    "colab": {
      "provenance": [],
      "authorship_tag": "ABX9TyOqqjczP3tQ9b1hxy/hNB1t",
      "include_colab_link": true
    },
    "kernelspec": {
      "name": "python3",
      "display_name": "Python 3"
    },
    "language_info": {
      "name": "python"
    }
  },
  "cells": [
    {
      "cell_type": "markdown",
      "metadata": {
        "id": "view-in-github",
        "colab_type": "text"
      },
      "source": [
        "<a href=\"https://colab.research.google.com/github/jdasam/mas1004-2023/blob/main/live_coding/1_jupyter_tutorial.ipynb\" target=\"_parent\"><img src=\"https://colab.research.google.com/assets/colab-badge.svg\" alt=\"Open In Colab\"/></a>"
      ]
    },
    {
      "cell_type": "markdown",
      "source": [
        "# Jupyter Tutorial\n",
        "- you can write text in markdown grammar\n",
        "\n",
        "### Different heading\n",
        "- You can make *italic* or **bold** font"
      ],
      "metadata": {
        "id": "1DO_LoIv23e3"
      }
    },
    {
      "cell_type": "code",
      "source": [
        "# if you restart the runtime, even though your code remains the same,\n",
        "# all the local variables will be get lost\n",
        "\n",
        "a * b + c"
      ],
      "metadata": {
        "id": "eQIX9SxjTBxY",
        "outputId": "266f5bd4-9ea4-44ca-c35a-de895eb0382a",
        "colab": {
          "base_uri": "https://localhost:8080/",
          "height": 253
        }
      },
      "execution_count": 1,
      "outputs": [
        {
          "output_type": "error",
          "ename": "NameError",
          "evalue": "ignored",
          "traceback": [
            "\u001b[0;31m---------------------------------------------------------------------------\u001b[0m",
            "\u001b[0;31mNameError\u001b[0m                                 Traceback (most recent call last)",
            "\u001b[0;32m<ipython-input-1-f23e9b742671>\u001b[0m in \u001b[0;36m<cell line: 4>\u001b[0;34m()\u001b[0m\n\u001b[1;32m      2\u001b[0m \u001b[0;31m# all the local variables will be get lost\u001b[0m\u001b[0;34m\u001b[0m\u001b[0;34m\u001b[0m\u001b[0m\n\u001b[1;32m      3\u001b[0m \u001b[0;34m\u001b[0m\u001b[0m\n\u001b[0;32m----> 4\u001b[0;31m \u001b[0ma\u001b[0m \u001b[0;34m*\u001b[0m \u001b[0mb\u001b[0m \u001b[0;34m+\u001b[0m \u001b[0mc\u001b[0m\u001b[0;34m\u001b[0m\u001b[0;34m\u001b[0m\u001b[0m\n\u001b[0m",
            "\u001b[0;31mNameError\u001b[0m: name 'a' is not defined"
          ]
        }
      ]
    },
    {
      "cell_type": "code",
      "source": [
        "import numpy as np"
      ],
      "metadata": {
        "id": "AKolbmFxTtbH"
      },
      "execution_count": 3,
      "outputs": []
    },
    {
      "cell_type": "code",
      "source": [
        "%whos\n",
        "\n",
        "# This will print list of variables in our namespace"
      ],
      "metadata": {
        "id": "NGj1a1KvShwQ",
        "outputId": "d1cad5b8-ea23-44b0-8591-0b03e66e315f",
        "colab": {
          "base_uri": "https://localhost:8080/",
          "height": 0
        }
      },
      "execution_count": 8,
      "outputs": [
        {
          "output_type": "stream",
          "name": "stdout",
          "text": [
            "Variable   Type        Data/Info\n",
            "--------------------------------\n",
            "a          int         10\n",
            "b          int         3\n",
            "c          int         13\n",
            "multiply   function    <function multiply at 0x78347b39e050>\n",
            "np         module      <module 'numpy' from '/us<...>kages/numpy/__init__.py'>\n"
          ]
        }
      ]
    },
    {
      "cell_type": "code",
      "source": [
        "print(my_name)"
      ],
      "metadata": {
        "id": "vEsw06pxQeOi",
        "outputId": "d2bb3aa6-86a3-46a3-ecba-aa2a5984140c",
        "colab": {
          "base_uri": "https://localhost:8080/",
          "height": 217
        }
      },
      "execution_count": 22,
      "outputs": [
        {
          "output_type": "error",
          "ename": "NameError",
          "evalue": "ignored",
          "traceback": [
            "\u001b[0;31m---------------------------------------------------------------------------\u001b[0m",
            "\u001b[0;31mNameError\u001b[0m                                 Traceback (most recent call last)",
            "\u001b[0;32m<ipython-input-22-b4a4e929ef4e>\u001b[0m in \u001b[0;36m<cell line: 1>\u001b[0;34m()\u001b[0m\n\u001b[0;32m----> 1\u001b[0;31m \u001b[0mprint\u001b[0m\u001b[0;34m(\u001b[0m\u001b[0mmy_name\u001b[0m\u001b[0;34m)\u001b[0m\u001b[0;34m\u001b[0m\u001b[0;34m\u001b[0m\u001b[0m\n\u001b[0m",
            "\u001b[0;31mNameError\u001b[0m: name 'my_name' is not defined"
          ]
        }
      ]
    },
    {
      "cell_type": "code",
      "source": [
        "del my_name"
      ],
      "metadata": {
        "id": "1cil-vvIS6bC"
      },
      "execution_count": 19,
      "outputs": []
    },
    {
      "cell_type": "code",
      "source": [
        "a = 10\n",
        "b = 3\n",
        "\n",
        "# if you run with shift + enter, your focus will progress to the next cell after running this cell\n",
        "# if you run with alt + enter (or ctrl + enter in mac), the focus will remain in this cell"
      ],
      "metadata": {
        "id": "WBccPuFJRUm0"
      },
      "execution_count": 5,
      "outputs": []
    },
    {
      "cell_type": "code",
      "source": [
        "c = a + b\n",
        "c # this won't be printed because it is not the last line\n",
        "print(c)\n",
        "a\n",
        "# It automatically prints the output of the last line"
      ],
      "metadata": {
        "id": "3-0vpnf_RXdc",
        "outputId": "49e8638c-7244-4f5b-936e-b9706ccfa97d",
        "colab": {
          "base_uri": "https://localhost:8080/",
          "height": 0
        }
      },
      "execution_count": 6,
      "outputs": [
        {
          "output_type": "stream",
          "name": "stdout",
          "text": [
            "13\n"
          ]
        },
        {
          "output_type": "execute_result",
          "data": {
            "text/plain": [
              "10"
            ]
          },
          "metadata": {},
          "execution_count": 6
        }
      ]
    },
    {
      "cell_type": "markdown",
      "source": [
        "### Run Code"
      ],
      "metadata": {
        "id": "Wpk1ZSZK27N9"
      }
    },
    {
      "cell_type": "code",
      "source": [
        "def multiply(a, b):\n",
        "  return a * b\n",
        "\n",
        "def multiply_by_a(b):\n",
        "  return a * b\n",
        "\n",
        "def multiply_by_a_b():\n",
        "  return a * b"
      ],
      "metadata": {
        "id": "46RcgT9-T-rh"
      },
      "execution_count": 18,
      "outputs": []
    },
    {
      "cell_type": "code",
      "source": [
        "multiply(a=4, b=7) # 4 * 7"
      ],
      "metadata": {
        "id": "qdKm42UlUFKI",
        "outputId": "7b19de17-d56f-48fc-d655-1b59d63f8830",
        "colab": {
          "base_uri": "https://localhost:8080/",
          "height": 0
        }
      },
      "execution_count": 16,
      "outputs": [
        {
          "output_type": "execute_result",
          "data": {
            "text/plain": [
              "28"
            ]
          },
          "metadata": {},
          "execution_count": 16
        }
      ]
    },
    {
      "cell_type": "code",
      "source": [
        "a, b"
      ],
      "metadata": {
        "id": "iJIFQSSgUSLr",
        "outputId": "93eaf451-3287-46ea-e1ec-fbe36c5e9364",
        "colab": {
          "base_uri": "https://localhost:8080/",
          "height": 0
        }
      },
      "execution_count": 17,
      "outputs": [
        {
          "output_type": "execute_result",
          "data": {
            "text/plain": [
              "(10, 3)"
            ]
          },
          "metadata": {},
          "execution_count": 17
        }
      ]
    },
    {
      "cell_type": "code",
      "source": [],
      "metadata": {
        "id": "l8exLrwlVrr-"
      },
      "execution_count": null,
      "outputs": []
    },
    {
      "cell_type": "code",
      "source": [
        "a = -5\n",
        "multiply_by_a(7) # the updated outside variable 'a' will be called for the function"
      ],
      "metadata": {
        "id": "_qXg3CGpUTIc",
        "outputId": "4ccb9a2c-3df7-4e8f-93bb-669485387155",
        "colab": {
          "base_uri": "https://localhost:8080/",
          "height": 0
        }
      },
      "execution_count": 21,
      "outputs": [
        {
          "output_type": "execute_result",
          "data": {
            "text/plain": [
              "-35"
            ]
          },
          "metadata": {},
          "execution_count": 21
        }
      ]
    },
    {
      "cell_type": "code",
      "source": [
        "multiply_by_a_b()"
      ],
      "metadata": {
        "id": "YaNZl6zsVazG",
        "outputId": "16194e5a-5dca-42a9-eb02-2cfad8a72bed",
        "colab": {
          "base_uri": "https://localhost:8080/",
          "height": 0
        }
      },
      "execution_count": 19,
      "outputs": [
        {
          "output_type": "execute_result",
          "data": {
            "text/plain": [
              "30"
            ]
          },
          "metadata": {},
          "execution_count": 19
        }
      ]
    },
    {
      "cell_type": "markdown",
      "source": [
        "### Install Library or make Terminal Command"
      ],
      "metadata": {
        "id": "T2MRuS_M25IR"
      }
    },
    {
      "cell_type": "code",
      "source": [
        "# Jupyter can run shell command\n",
        "# Most typical usage is install library\n",
        "\n",
        "# Let's say I want to install python package named pretty_midi\n",
        "# ! mark means that the following words are terminal command, not python or something\n",
        "\n",
        "# This makes OS command\n",
        "!pip install pretty_midi"
      ],
      "metadata": {
        "id": "4hJSj5E5V5d9",
        "outputId": "d2209fac-a6d8-4233-ecb5-232de594cead",
        "colab": {
          "base_uri": "https://localhost:8080/",
          "height": 0
        }
      },
      "execution_count": 22,
      "outputs": [
        {
          "output_type": "stream",
          "name": "stdout",
          "text": [
            "Collecting pretty_midi\n",
            "  Downloading pretty_midi-0.2.10.tar.gz (5.6 MB)\n",
            "\u001b[2K     \u001b[90m━━━━━━━━━━━━━━━━━━━━━━━━━━━━━━━━━━━━━━━━\u001b[0m \u001b[32m5.6/5.6 MB\u001b[0m \u001b[31m16.2 MB/s\u001b[0m eta \u001b[36m0:00:00\u001b[0m\n",
            "\u001b[?25h  Preparing metadata (setup.py) ... \u001b[?25l\u001b[?25hdone\n",
            "Requirement already satisfied: numpy>=1.7.0 in /usr/local/lib/python3.10/dist-packages (from pretty_midi) (1.23.5)\n",
            "Collecting mido>=1.1.16 (from pretty_midi)\n",
            "  Downloading mido-1.3.0-py3-none-any.whl (50 kB)\n",
            "\u001b[2K     \u001b[90m━━━━━━━━━━━━━━━━━━━━━━━━━━━━━━━━━━━━━━━━\u001b[0m \u001b[32m50.3/50.3 kB\u001b[0m \u001b[31m6.2 MB/s\u001b[0m eta \u001b[36m0:00:00\u001b[0m\n",
            "\u001b[?25hRequirement already satisfied: six in /usr/local/lib/python3.10/dist-packages (from pretty_midi) (1.16.0)\n",
            "Requirement already satisfied: packaging~=23.1 in /usr/local/lib/python3.10/dist-packages (from mido>=1.1.16->pretty_midi) (23.1)\n",
            "Building wheels for collected packages: pretty_midi\n",
            "  Building wheel for pretty_midi (setup.py) ... \u001b[?25l\u001b[?25hdone\n",
            "  Created wheel for pretty_midi: filename=pretty_midi-0.2.10-py3-none-any.whl size=5592287 sha256=c5e911d2d2cfd2234c89d22b4222edd7a8ab8fc48c254226eb9e0e81bd953e9c\n",
            "  Stored in directory: /root/.cache/pip/wheels/cd/a5/30/7b8b7f58709f5150f67f98fde4b891ebf0be9ef07a8af49f25\n",
            "Successfully built pretty_midi\n",
            "Installing collected packages: mido, pretty_midi\n",
            "Successfully installed mido-1.3.0 pretty_midi-0.2.10\n"
          ]
        }
      ]
    },
    {
      "cell_type": "markdown",
      "source": [
        "### Change Directory"
      ],
      "metadata": {
        "id": "4ZS1Qtw03B2r"
      }
    },
    {
      "cell_type": "code",
      "source": [
        "%pwd # present working directory"
      ],
      "metadata": {
        "id": "sr5D2XA64G5X",
        "outputId": "93a3216c-973e-42cd-8ae5-9c2886debd60",
        "colab": {
          "base_uri": "https://localhost:8080/",
          "height": 36
        }
      },
      "execution_count": 23,
      "outputs": [
        {
          "output_type": "execute_result",
          "data": {
            "text/plain": [
              "'/content'"
            ],
            "application/vnd.google.colaboratory.intrinsic+json": {
              "type": "string"
            }
          },
          "metadata": {},
          "execution_count": 23
        }
      ]
    },
    {
      "cell_type": "code",
      "source": [
        "!mkdir test_directory # make directory named test_directory"
      ],
      "metadata": {
        "id": "H1aDGmRWXEDt"
      },
      "execution_count": 24,
      "outputs": []
    },
    {
      "cell_type": "code",
      "source": [
        "!cd test_directory # move current working directory to other one"
      ],
      "metadata": {
        "id": "UKAKK4VhXYmG"
      },
      "execution_count": 25,
      "outputs": []
    },
    {
      "cell_type": "code",
      "source": [
        "%pwd # asking again where am I now\n",
        "# we are still in the same place"
      ],
      "metadata": {
        "id": "a4cxJ5zFXdfw",
        "outputId": "2332cf0c-ea10-4f51-c027-c02353b89b31",
        "colab": {
          "base_uri": "https://localhost:8080/",
          "height": 36
        }
      },
      "execution_count": 26,
      "outputs": [
        {
          "output_type": "execute_result",
          "data": {
            "text/plain": [
              "'/content'"
            ],
            "application/vnd.google.colaboratory.intrinsic+json": {
              "type": "string"
            }
          },
          "metadata": {},
          "execution_count": 26
        }
      ]
    },
    {
      "cell_type": "code",
      "source": [
        "# if you want to move current directory of this runtime\n",
        "# You have to use %cd\n",
        "%cd test_directory"
      ],
      "metadata": {
        "id": "WuWYATNgXoAX",
        "outputId": "06e167c3-09c1-4395-e0e7-329914bf4d20",
        "colab": {
          "base_uri": "https://localhost:8080/",
          "height": 0
        }
      },
      "execution_count": 27,
      "outputs": [
        {
          "output_type": "stream",
          "name": "stdout",
          "text": [
            "/content/test_directory\n"
          ]
        }
      ]
    },
    {
      "cell_type": "code",
      "source": [
        "%pwd"
      ],
      "metadata": {
        "id": "DJtItJQmX1Gc",
        "outputId": "4a77173a-3434-442d-f4ce-ee1e592abb13",
        "colab": {
          "base_uri": "https://localhost:8080/",
          "height": 36
        }
      },
      "execution_count": 28,
      "outputs": [
        {
          "output_type": "execute_result",
          "data": {
            "text/plain": [
              "'/content/test_directory'"
            ],
            "application/vnd.google.colaboratory.intrinsic+json": {
              "type": "string"
            }
          },
          "metadata": {},
          "execution_count": 28
        }
      ]
    },
    {
      "cell_type": "code",
      "source": [
        "my_file_name = 'test1.txt' # relative path\n",
        "# this is relative path because it does not provide specific absolute path\n",
        "\n",
        "f = open(my_file_name, 'wt')\n",
        "f.write('This is my test line')\n",
        "f.close()"
      ],
      "metadata": {
        "id": "aK-zic6uX2tE"
      },
      "execution_count": 29,
      "outputs": []
    },
    {
      "cell_type": "code",
      "source": [
        "# example of absolute path\n",
        "my_abs_path = '/content/abs_path.txt' # this is absolute because it starts with /\n",
        "f = open(my_abs_path, 'wt')\n",
        "f.write(\"Testing absolute path\")\n",
        "f.close()"
      ],
      "metadata": {
        "id": "1W2lDay4YaOi"
      },
      "execution_count": 30,
      "outputs": []
    },
    {
      "cell_type": "markdown",
      "source": [
        "### List comprehension"
      ],
      "metadata": {
        "id": "7ABDYWoBZJyR"
      }
    },
    {
      "cell_type": "code",
      "source": [
        "# Suppose you want to add numbers that are not divided by 2 or 3\n",
        "# and smaller than 100 and larger than 0\n",
        "\n",
        "\n",
        "output = []\n",
        "for number in range(1, 100):\n",
        "  if number % 2 != 0 and number % 3 != 0:\n",
        "    # print(number)\n",
        "    output.append(number)\n",
        "output\n"
      ],
      "metadata": {
        "id": "b1rQd1mGZG_A"
      },
      "execution_count": null,
      "outputs": []
    },
    {
      "cell_type": "code",
      "source": [
        "# example of how you make list comprehension with if statement\n",
        "# [x for x in something if condition]\n",
        "output = [number for number in range(1, 100) if number % 2 != 0 and number % 3 != 0]\n",
        "output"
      ],
      "metadata": {
        "id": "ok_GkTP1cdKk",
        "outputId": "a0613181-a75e-47c5-c1fe-45dbbaea76c2",
        "colab": {
          "base_uri": "https://localhost:8080/",
          "height": 0
        }
      },
      "execution_count": 48,
      "outputs": [
        {
          "output_type": "execute_result",
          "data": {
            "text/plain": [
              "[1,\n",
              " 5,\n",
              " 7,\n",
              " 11,\n",
              " 13,\n",
              " 17,\n",
              " 19,\n",
              " 23,\n",
              " 25,\n",
              " 29,\n",
              " 31,\n",
              " 35,\n",
              " 37,\n",
              " 41,\n",
              " 43,\n",
              " 47,\n",
              " 49,\n",
              " 53,\n",
              " 55,\n",
              " 59,\n",
              " 61,\n",
              " 65,\n",
              " 67,\n",
              " 71,\n",
              " 73,\n",
              " 77,\n",
              " 79,\n",
              " 83,\n",
              " 85,\n",
              " 89,\n",
              " 91,\n",
              " 95,\n",
              " 97]"
            ]
          },
          "metadata": {},
          "execution_count": 48
        }
      ]
    },
    {
      "cell_type": "code",
      "source": [
        "import time\n",
        "\n",
        "time.time()"
      ],
      "metadata": {
        "id": "xLWu8fd4b4B-",
        "outputId": "e5d19ab6-23b7-4bd2-dc9e-850f779d17db",
        "colab": {
          "base_uri": "https://localhost:8080/",
          "height": 0
        }
      },
      "execution_count": 38,
      "outputs": [
        {
          "output_type": "execute_result",
          "data": {
            "text/plain": [
              "1694069929.8898635"
            ]
          },
          "metadata": {},
          "execution_count": 38
        }
      ]
    },
    {
      "cell_type": "code",
      "source": [
        "\n",
        "# Get squared value of each number from zero to 99\n",
        "\n",
        "start_time = time.time()# record the timestamp of the beginning\n",
        "output = []\n",
        "for n in range(100000):\n",
        "  # squared_value = n ** 2\n",
        "  output.append(n ** 2)\n",
        "end_time = time.time()\n",
        "# output,\n",
        "end_time - start_time"
      ],
      "metadata": {
        "id": "-9Qe4aQ_aEKl",
        "outputId": "f26e8ad3-ef0f-42fa-db93-a80f0e094eaa",
        "colab": {
          "base_uri": "https://localhost:8080/",
          "height": 0
        }
      },
      "execution_count": 45,
      "outputs": [
        {
          "output_type": "execute_result",
          "data": {
            "text/plain": [
              "0.0522160530090332"
            ]
          },
          "metadata": {},
          "execution_count": 45
        }
      ]
    },
    {
      "cell_type": "code",
      "source": [
        "# Let's do the same thing with list comprehension\n",
        "\n",
        "start_time = time.time()\n",
        "output = [n ** 2 for n in range(100000)]\n",
        "# 1. List comprehension is shorter\n",
        "# 2. some people prefer to read it in this form\n",
        "# 3. append is slow\n",
        "end_time = time.time()\n",
        "# output\n",
        "end_time - start_time"
      ],
      "metadata": {
        "id": "gsOVsaL1aaQU",
        "outputId": "c9003d20-5d9a-4c59-c51e-bba84f750ae2",
        "colab": {
          "base_uri": "https://localhost:8080/",
          "height": 0
        }
      },
      "execution_count": 47,
      "outputs": [
        {
          "output_type": "execute_result",
          "data": {
            "text/plain": [
              "0.038329362869262695"
            ]
          },
          "metadata": {},
          "execution_count": 47
        }
      ]
    },
    {
      "cell_type": "code",
      "source": [
        "## nested for loop\n",
        "\n",
        "a_list = [1, 123, 4,19 , 3425, 1213]\n",
        "b_list = [12, 4,2, 132,5,1, 4,6346,21]\n",
        "\n",
        "# get multiplication between every element pair of a_list and b_list\n",
        "output = []\n",
        "\n",
        "for a in a_list:\n",
        "  for b in b_list:\n",
        "    output.append(a*b)\n",
        "output"
      ],
      "metadata": {
        "id": "w2wkdCZ4cvln"
      },
      "execution_count": null,
      "outputs": []
    },
    {
      "cell_type": "code",
      "source": [
        "output = [a * b for a in a_list for b in b_list]\n",
        "output"
      ],
      "metadata": {
        "id": "olvT8uBKdEh0",
        "outputId": "a82a91b3-2961-48b6-c781-cb28a715e980",
        "colab": {
          "base_uri": "https://localhost:8080/",
          "height": 0
        }
      },
      "execution_count": 51,
      "outputs": [
        {
          "output_type": "execute_result",
          "data": {
            "text/plain": [
              "[12,\n",
              " 4,\n",
              " 2,\n",
              " 132,\n",
              " 5,\n",
              " 1,\n",
              " 4,\n",
              " 6346,\n",
              " 21,\n",
              " 1476,\n",
              " 492,\n",
              " 246,\n",
              " 16236,\n",
              " 615,\n",
              " 123,\n",
              " 492,\n",
              " 780558,\n",
              " 2583,\n",
              " 48,\n",
              " 16,\n",
              " 8,\n",
              " 528,\n",
              " 20,\n",
              " 4,\n",
              " 16,\n",
              " 25384,\n",
              " 84,\n",
              " 228,\n",
              " 76,\n",
              " 38,\n",
              " 2508,\n",
              " 95,\n",
              " 19,\n",
              " 76,\n",
              " 120574,\n",
              " 399,\n",
              " 41100,\n",
              " 13700,\n",
              " 6850,\n",
              " 452100,\n",
              " 17125,\n",
              " 3425,\n",
              " 13700,\n",
              " 21735050,\n",
              " 71925,\n",
              " 14556,\n",
              " 4852,\n",
              " 2426,\n",
              " 160116,\n",
              " 6065,\n",
              " 1213,\n",
              " 4852,\n",
              " 7697698,\n",
              " 25473]"
            ]
          },
          "metadata": {},
          "execution_count": 51
        }
      ]
    },
    {
      "cell_type": "code",
      "source": [
        "# Things you can't do with list comprehension\n",
        "# Fibonacci sequence\n",
        "# [1, 1, 2, 3, 5, 8, 13]\n",
        "\n",
        "output = [1, 1]\n",
        "for i in range(2,10):\n",
        "  new_number = output[i-2] + output[i-1]\n",
        "  output.append(new_number)\n",
        "\n",
        "output"
      ],
      "metadata": {
        "id": "uiX1CeJBda7H",
        "outputId": "7371c51d-95f0-4e2a-ae7b-b372d2922d40",
        "colab": {
          "base_uri": "https://localhost:8080/",
          "height": 0
        }
      },
      "execution_count": 53,
      "outputs": [
        {
          "output_type": "execute_result",
          "data": {
            "text/plain": [
              "[1, 1, 2, 3, 5, 8, 13, 21, 34, 55]"
            ]
          },
          "metadata": {},
          "execution_count": 53
        }
      ]
    },
    {
      "cell_type": "markdown",
      "source": [],
      "metadata": {
        "id": "8VnzJHFBY2A1"
      }
    }
  ]
}