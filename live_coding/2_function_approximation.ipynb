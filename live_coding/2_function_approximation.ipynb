{
  "cells": [
    {
      "cell_type": "markdown",
      "metadata": {
        "id": "view-in-github",
        "colab_type": "text"
      },
      "source": [
        "<a href=\"https://colab.research.google.com/github/jdasam/mas1004-2023/blob/main/live_coding/2_function_approximation.ipynb\" target=\"_parent\"><img src=\"https://colab.research.google.com/assets/colab-badge.svg\" alt=\"Open In Colab\"/></a>"
      ]
    },
    {
      "cell_type": "markdown",
      "metadata": {
        "id": "ErJV9S8NChuq"
      },
      "source": [
        "# Function Approximation"
      ]
    },
    {
      "cell_type": "markdown",
      "metadata": {
        "id": "6K89yBL1BqnI"
      },
      "source": [
        "## A. Regression with One Variable\n",
        "- Regression:\n",
        "  - Process of training a model to predict a **continuous** numerical output based on one or more input features.\n",
        "  - e.g.: Predicts the child's height based on the parent's height.\n",
        "  - Why is it named \"regression\"?:\n",
        "    - The term was first used by Sir Francis Galton, a British statistician and cousin of Charles Darwin, in the late 19th century. Galton was studying the relationship between heights of parents and their children. He observed that although tall parents often had tall children, the children's heights tended to \"regress\" towards the average or mean height of the population. Similarly, children of short parents were often short but their heights still regressed towards the average."
      ]
    },
    {
      "cell_type": "markdown",
      "metadata": {
        "id": "R6zfXa2tChus"
      },
      "source": [
        "- Let's make function that works as f(x) = ax+b\n",
        "    -  In this cell, we will create a function that follows the linear equation format f(x) = ax + b. This function will take an input x and return value that is the result of the equation. The variables a and b are coefficients that we will define. The variable a is the slope of the line and b is the y-intercept. This function will help us understand the concept of function approximation in the context of regression.\n"
      ]
    },
    {
      "cell_type": "code",
      "execution_count": 55,
      "metadata": {
        "colab": {
          "base_uri": "https://localhost:8080/"
        },
        "id": "1HkqNYWTBqnJ",
        "outputId": "967eca9e-744d-420d-d393-4be5a4eaecbf"
      },
      "outputs": [
        {
          "output_type": "execute_result",
          "data": {
            "text/plain": [
              "2.5"
            ]
          },
          "metadata": {},
          "execution_count": 55
        }
      ],
      "source": [
        "# Let's make function that works as f(x) = ax+b\n",
        "\n",
        "a = 2\n",
        "b = 0.5\n",
        "def my_function(x):\n",
        "  return a*x + b\n",
        "\n",
        "my_function(1) # f(0.5) = 2 * 1 + 0.5"
      ]
    },
    {
      "cell_type": "code",
      "execution_count": 56,
      "metadata": {
        "colab": {
          "base_uri": "https://localhost:8080/"
        },
        "id": "qbcrAnKGDGtE",
        "outputId": "977faf6f-c797-48f9-b880-3b987cd08e14"
      },
      "outputs": [
        {
          "output_type": "stream",
          "name": "stdout",
          "text": [
            "First 10 numbers: [-5.0, -4.98, -4.96, -4.94, -4.92, -4.9, -4.88, -4.86, -4.84, -4.82]\n",
            "Last 10 numbers: [4.82, 4.84, 4.86, 4.88, 4.9, 4.92, 4.94, 4.96, 4.98, 5.0]\n"
          ]
        }
      ],
      "source": [
        "# Let's plot this function\n",
        "# First, let's make many x candidates\n",
        "# from -5 to 5, with 500 total x\n",
        "\n",
        "xs = [i for i in range(500)]\n",
        "xs = [(i-250)/50 for i in range(501)]\n",
        "print(f\"First 10 numbers: {xs[:10]}\")\n",
        "print(f\"Last 10 numbers: {xs[-10:]}\")"
      ]
    },
    {
      "cell_type": "code",
      "execution_count": 57,
      "metadata": {
        "colab": {
          "base_uri": "https://localhost:8080/"
        },
        "id": "wVatQ4InEUQ0",
        "outputId": "b2619056-e167-4e33-c1ff-156db83aa96a"
      },
      "outputs": [
        {
          "output_type": "stream",
          "name": "stdout",
          "text": [
            "First 10 numbers: [-9.5, -9.46, -9.42, -9.38, -9.34, -9.3, -9.26, -9.22, -9.18, -9.14]\n",
            "Last 10 numbers: [10.14, 10.18, 10.22, 10.26, 10.3, 10.34, 10.38, 10.42, 10.46, 10.5]\n"
          ]
        }
      ],
      "source": [
        "# Now, let's make y\n",
        "# y = f(x)\n",
        "\n",
        "# Using for loop\n",
        "ys = []\n",
        "for x in xs:\n",
        "  ys.append(my_function(x))\n",
        "\n",
        "# Using list comprehension\n",
        "ys = [my_function(x) for x in xs]\n",
        "\n",
        "print(f\"First 10 numbers: {ys[:10]}\")\n",
        "print(f\"Last 10 numbers: {ys[-10:]}\")\n"
      ]
    },
    {
      "cell_type": "code",
      "execution_count": 58,
      "metadata": {
        "colab": {
          "base_uri": "https://localhost:8080/"
        },
        "id": "bQDsS3vnEjRu",
        "outputId": "47a41d71-9b97-49ef-a44a-4fa1f95011f0"
      },
      "outputs": [
        {
          "output_type": "execute_result",
          "data": {
            "text/plain": [
              "(501, 501)"
            ]
          },
          "metadata": {},
          "execution_count": 58
        }
      ],
      "source": [
        "# Check the length of xs and ys are equal\n",
        "# The item of xs and ys are 1:1 mapping\n",
        "\n",
        "len(xs), len(ys)"
      ]
    },
    {
      "cell_type": "code",
      "execution_count": 59,
      "metadata": {
        "colab": {
          "base_uri": "https://localhost:8080/"
        },
        "id": "sv58AK2kEmun",
        "outputId": "90633b5a-6a2b-4287-9930-5fb70a7423cd"
      },
      "outputs": [
        {
          "output_type": "stream",
          "name": "stdout",
          "text": [
            "ys[23] = my_function(xs[23])\n",
            "xs[23]: -4.54, ys[23]: -8.58, my_function(xs[23]): -8.58\n"
          ]
        }
      ],
      "source": [
        "# We can check that i-th value of xs and ys are 1:1 mapping\n",
        "idx = 23\n",
        "print(f\"ys[{idx}] = my_function(xs[{idx}])\")\n",
        "print(f\"xs[{idx}]: {xs[idx]}, ys[{idx}]: {ys[idx]}, my_function(xs[{idx}]): {my_function(xs[idx])}\")\n"
      ]
    },
    {
      "cell_type": "code",
      "execution_count": 60,
      "metadata": {
        "colab": {
          "base_uri": "https://localhost:8080/",
          "height": 448
        },
        "id": "IGch1r6HE2sl",
        "outputId": "f774003a-186e-471e-b8c1-476cf4508771"
      },
      "outputs": [
        {
          "output_type": "execute_result",
          "data": {
            "text/plain": [
              "<matplotlib.collections.PathCollection at 0x7dcf8dcadd80>"
            ]
          },
          "metadata": {},
          "execution_count": 60
        },
        {
          "output_type": "display_data",
          "data": {
            "text/plain": [
              "<Figure size 640x480 with 1 Axes>"
            ],
            "image/png": "[encoded data removed]"
          },
          "metadata": {}
        }
      ],
      "source": [
        "# Let's plot this function\n",
        "\n",
        "import matplotlib.pyplot as plt # import matplotlib\n",
        "plt.scatter(x=xs, y=ys) # plot xs and ys by scatter plot"
      ]
    },
    {
      "cell_type": "code",
      "execution_count": 61,
      "metadata": {
        "id": "JmJxSsBSFKzo"
      },
      "outputs": [],
      "source": [
        "# Let's add some noise\n",
        "import random\n",
        "random.random() # return a random float value between 0 and 1\n",
        "\n",
        "ys_noise = [my_function(x) + (random.random()-0.5)*2  for x in xs]"
      ]
    },
    {
      "cell_type": "code",
      "execution_count": 62,
      "metadata": {
        "colab": {
          "base_uri": "https://localhost:8080/",
          "height": 448
        },
        "id": "4uuc-dMbFKsx",
        "outputId": "2324d405-3b73-4128-983d-ef1c0d7d38b7"
      },
      "outputs": [
        {
          "output_type": "execute_result",
          "data": {
            "text/plain": [
              "<matplotlib.collections.PathCollection at 0x7dcf8dd301f0>"
            ]
          },
          "metadata": {},
          "execution_count": 62
        },
        {
          "output_type": "display_data",
          "data": {
            "text/plain": [
              "<Figure size 640x480 with 1 Axes>"
            ],
            "image/png": "[encoded data removed]"
          },
          "metadata": {}
        }
      ],
      "source": [
        "plt.scatter(xs, ys_noise)"
      ]
    },
    {
      "cell_type": "markdown",
      "metadata": {
        "id": "9-ULt92mChuv"
      },
      "source": [
        "##### (Extra) Short Explanation about Random Number Generator\n",
        "- Random number generator is a function that generates a sequence of numbers that seem to occur in random order."
      ]
    },
    {
      "cell_type": "code",
      "execution_count": 63,
      "metadata": {
        "colab": {
          "base_uri": "https://localhost:8080/"
        },
        "id": "MU_PHZ1-F7Qg",
        "outputId": "5c070cbc-6c62-4bbb-abf7-c6b188716801"
      },
      "outputs": [
        {
          "output_type": "stream",
          "name": "stdout",
          "text": [
            "[0.8444218515250481, 0.7579544029403025, 0.420571580830845, 0.25891675029296335, 0.5112747213686085]\n"
          ]
        }
      ],
      "source": [
        "# random is not actually complete random\n",
        "# usually computers uses pseudo-random\n",
        "\n",
        "# random.random() in fact has its destiny. It will always return same value\n",
        "# if the seed is the same\n",
        "\n",
        "# No matter how many times you run this code, it will always return same value\n",
        "random.seed(0)\n",
        "print([random.random() for _ in range(5)])"
      ]
    },
    {
      "cell_type": "code",
      "execution_count": 64,
      "metadata": {
        "colab": {
          "base_uri": "https://localhost:8080/"
        },
        "id": "ogASDSU9Gb8N",
        "outputId": "48cd1ec5-de8d-4efb-ce8e-90ac84eb6537"
      },
      "outputs": [
        {
          "output_type": "execute_result",
          "data": {
            "text/plain": [
              "[0.4049341374504143,\n",
              " 0.7837985890347726,\n",
              " 0.30331272607892745,\n",
              " 0.4765969541523558,\n",
              " 0.5833820394550312,\n",
              " 0.9081128851953352,\n",
              " 0.5046868558173903,\n",
              " 0.28183784439970383,\n",
              " 0.7558042041572239,\n",
              " 0.6183689966753316]"
            ]
          },
          "metadata": {},
          "execution_count": 64
        }
      ],
      "source": [
        "[random.random() for _ in range(10)]\n"
      ]
    },
    {
      "cell_type": "code",
      "execution_count": 65,
      "metadata": {
        "id": "q9c-7UsFGylJ"
      },
      "outputs": [],
      "source": [
        "a = random.random()\n",
        "b = random.random()\n",
        "\n",
        "ys_noise = [my_function(x) + (random.random()-0.5)  for x in xs]\n"
      ]
    },
    {
      "cell_type": "code",
      "execution_count": 66,
      "metadata": {
        "colab": {
          "base_uri": "https://localhost:8080/",
          "height": 448
        },
        "id": "dqmWx_eXHLzA",
        "outputId": "4e138965-45d7-45bc-ccdb-8c2eb92cd944"
      },
      "outputs": [
        {
          "output_type": "execute_result",
          "data": {
            "text/plain": [
              "<matplotlib.collections.PathCollection at 0x7dcf8dd77a90>"
            ]
          },
          "metadata": {},
          "execution_count": 66
        },
        {
          "output_type": "display_data",
          "data": {
            "text/plain": [
              "<Figure size 640x480 with 1 Axes>"
            ],
            "image/png": "[encoded data removed]"
          },
          "metadata": {}
        }
      ],
      "source": [
        "plt.scatter(xs, ys_noise)"
      ]
    },
    {
      "cell_type": "markdown",
      "metadata": {
        "id": "ZHeOBhEMChuw"
      },
      "source": [
        "### 1) Guess Regression manually\n",
        "- Since we know the function f(x) = ax + b, we can guess the value of a and b.\n",
        "- If we select correct a and b, the line will be the best fit line for the data.\n",
        "    - What machine learning does is to find the best a and b automatically.\n",
        "    - But here, we will find the best a and b manually, so that we can understand the concept of machine learning better."
      ]
    },
    {
      "cell_type": "code",
      "execution_count": 67,
      "metadata": {
        "colab": {
          "base_uri": "https://localhost:8080/",
          "height": 448
        },
        "id": "PQMSHCf0HhCc",
        "outputId": "717fdd84-1398-466d-abf4-72b968f9b212"
      },
      "outputs": [
        {
          "output_type": "execute_result",
          "data": {
            "text/plain": [
              "<matplotlib.collections.PathCollection at 0x7dcf8dc02380>"
            ]
          },
          "metadata": {},
          "execution_count": 67
        },
        {
          "output_type": "display_data",
          "data": {
            "text/plain": [
              "<Figure size 640x480 with 1 Axes>"
            ],
            "image/png": "[encoded data removed]"
          },
          "metadata": {}
        }
      ],
      "source": [
        "# Let's suppose we try guessing a and b manually\n",
        "\n",
        "a_est = 0.1 # Change this value to see how it works\n",
        "b_est = 0.6 # Change this value to see how it works\n",
        "def my_estimation(x):\n",
        "  return a_est * x + b_est\n",
        "\n",
        "estimations = [my_estimation(x) for x in xs]\n",
        "\n",
        "plt.scatter(xs, ys_noise)\n",
        "plt.scatter(xs, estimations)"
      ]
    },
    {
      "cell_type": "markdown",
      "metadata": {
        "id": "Pvd3Q0rvChuw"
      },
      "source": [
        "#### 1-1) Calculating Error\n",
        "- How can we calculates how good or bad our estimation is?\n",
        "    - We can calculate the error between the actual value and the predicted value.\n",
        "        - There are many ways to calculate the error.\n",
        "            - For example, we can calculate the absolute value of the difference between the actual value and the predicted value.\n",
        "            - Or we can calculate the square of the difference between the actual value and the predicted value.\n",
        "    - We call this error value as **loss**.\n",
        "        - Sometimes, we call this error as **cost**.\n",
        "    - The function that calculates the loss is called **loss function**.\n",
        "        - Sometimes, we call this loss function as **cost function** or **objective function**."
      ]
    },
    {
      "cell_type": "code",
      "execution_count": 68,
      "metadata": {
        "colab": {
          "base_uri": "https://localhost:8080/"
        },
        "id": "wWNEMo0DIh6B",
        "outputId": "e7f88074-fa94-46c1-b77c-5c6da9d941b9"
      },
      "outputs": [
        {
          "output_type": "execute_result",
          "data": {
            "text/plain": [
              "(0.10000000000000009, 0.09999999999999987)"
            ]
          },
          "metadata": {},
          "execution_count": 68
        }
      ],
      "source": [
        "def cal_error(pred, target):\n",
        "  # target is the correct answer, desired output\n",
        "  # prediction is the output of your current model\n",
        "  return abs(pred-target) # use absolute error\n",
        "\n",
        "cal_error(1, 1.1), cal_error(1.2, 1.1)"
      ]
    },
    {
      "cell_type": "code",
      "execution_count": 69,
      "metadata": {
        "colab": {
          "base_uri": "https://localhost:8080/"
        },
        "id": "OBRLWcy9J6fH",
        "outputId": "7a36988f-12a1-496d-e6a1-c7f8b73b2ce9"
      },
      "outputs": [
        {
          "output_type": "execute_result",
          "data": {
            "text/plain": [
              "0.48611485115066055"
            ]
          },
          "metadata": {},
          "execution_count": 69
        }
      ],
      "source": [
        "# compare every value in y_noise and estimation\n",
        "# we have to compare values in the same idx\n",
        "\n",
        "errors = []\n",
        "for i in range(len(ys_noise)):\n",
        "  target = ys_noise[i]\n",
        "  pred = estimations[i]\n",
        "  error = cal_error(pred, target) # compare i-th value of y_noise and estimation\n",
        "  errors.append(error)\n",
        "\n",
        "errors = [cal_error(pred, target) for target, pred in zip(ys_noise, estimations)]\n",
        "\n",
        "sum(errors) / len(errors) # mean value of errors"
      ]
    },
    {
      "cell_type": "code",
      "execution_count": 70,
      "metadata": {
        "colab": {
          "base_uri": "https://localhost:8080/"
        },
        "id": "0U_wVFZjK8j2",
        "outputId": "84f28598-b6c5-4944-d4d0-3846c4553681"
      },
      "outputs": [
        {
          "output_type": "execute_result",
          "data": {
            "text/plain": [
              "1.7166181249219092"
            ]
          },
          "metadata": {},
          "execution_count": 70
        }
      ],
      "source": [
        "a_est = 0.92\n",
        "b_est = 0.5\n",
        "\n",
        "estimations = [my_estimation(x) for x in xs]\n",
        "errors = [cal_error(pred, target) for target, pred in zip(ys_noise, estimations)]\n",
        "mean_error = sum(errors) / len(errors)\n",
        "mean_error"
      ]
    },
    {
      "cell_type": "markdown",
      "source": [
        "#### (Extra) calculate gradient"
      ],
      "metadata": {
        "id": "xGuLMallPoCM"
      }
    },
    {
      "cell_type": "code",
      "source": [
        "# How can we calculate the slope (gradient) of each parameter?\n",
        "\n",
        "epsilon = 0.0001 # Very small value\n",
        "learning_rate = 0.01\n",
        "\n",
        "for i in range(100):\n",
        "  # before update, get the current loss\n",
        "  estimations = [my_estimation(x) for x in xs]\n",
        "  errors = [cal_error(pred, target) for target, pred in zip(ys_noise, estimations)]\n",
        "  mean_error = sum(errors) / len(errors)\n",
        "  print(mean_error)\n",
        "\n",
        "  # ---- fix b and only change a\n",
        "  # change the parameter a little bit (adding epsilon)\n",
        "  a_old = a_est\n",
        "  a_est = a_est + epsilon\n",
        "  # a_est = a_est - epsilon\n",
        "\n",
        "  # calculate the loss value again\n",
        "  estimations = [my_estimation(x) for x in xs]\n",
        "  errors = [cal_error(pred, target) for target, pred in zip(ys_noise, estimations)]\n",
        "  new_mean_error = sum(errors) / len(errors)\n",
        "\n",
        "  a_est = a_old # roll back the a_est (just in case, since we have changed it temporally)\n",
        "  change_in_loss = new_mean_error - mean_error\n",
        "  a_grad = change_in_loss / epsilon  # calculate gradient\n",
        "\n",
        "  # ---- fix a and only change b\n",
        "  b_old = b_est\n",
        "  b_est = b_est + epsilon\n",
        "  estimations = [my_estimation(x) for x in xs]\n",
        "  errors = [cal_error(pred, target) for target, pred in zip(ys_noise, estimations)]\n",
        "  new_mean_error = sum(errors) / len(errors)\n",
        "  b_est = b_old\n",
        "  change_in_loss = new_mean_error - mean_error\n",
        "  b_grad = change_in_loss / epsilon\n",
        "\n",
        "  a_est = a_est - a_grad * learning_rate # update the parameter\n",
        "  b_est = b_est - b_grad * learning_rate"
      ],
      "metadata": {
        "id": "AO9xazcLPsSC",
        "outputId": "db7b8ef6-1e84-4c3e-f081-b72e2db92b0f",
        "colab": {
          "base_uri": "https://localhost:8080/"
        }
      },
      "execution_count": 71,
      "outputs": [
        {
          "output_type": "stream",
          "name": "stdout",
          "text": [
            "1.7166181249219092\n",
            "1.6564196613830386\n",
            "1.5964961036382412\n",
            "1.5369277366479093\n",
            "1.4778996869192964\n",
            "1.4190843757254914\n",
            "1.3603679467076626\n",
            "1.3017665022981741\n",
            "1.2439056554884218\n",
            "1.1866356877812865\n",
            "1.1297457734127228\n",
            "1.0731903554667994\n",
            "1.0168407436897329\n",
            "0.961636257015232\n",
            "0.9080329416252262\n",
            "0.8557610600068268\n",
            "0.8044605553081614\n",
            "0.755123433657739\n",
            "0.7081233992377644\n",
            "0.6633863485281553\n",
            "0.6214344157803261\n",
            "0.5822974011546487\n",
            "0.5491303804850706\n",
            "0.5222268943969687\n",
            "0.49887220251192915\n",
            "0.4786950914905404\n",
            "0.46064400586519016\n",
            "0.4435717745927455\n",
            "0.42803197985101854\n",
            "0.41433976219303215\n",
            "0.40190953184264655\n",
            "0.3904005154352486\n",
            "0.380587418700438\n",
            "0.3717817255516991\n",
            "0.3637241662716407\n",
            "0.3569796577555573\n",
            "0.351385636181987\n",
            "0.34642455108187803\n",
            "0.34192872189427637\n",
            "0.3377359833879643\n",
            "0.33398264584579646\n",
            "0.33049789255691964\n",
            "0.32719608456234905\n",
            "0.32416649214065085\n",
            "0.3214921329639678\n",
            "0.31901029943521103\n",
            "0.3165859132821214\n",
            "0.31425657656123546\n",
            "0.3120965622801869\n",
            "0.310089242851191\n",
            "0.30809409186421965\n",
            "0.30617681272071723\n",
            "0.30433722620589\n",
            "0.30254992475022446\n",
            "0.3008159136360731\n",
            "0.29911789053295756\n",
            "0.29747270276080623\n",
            "0.2958341191420356\n",
            "0.2942609139680283\n",
            "0.292755832360836\n",
            "0.2912717271022968\n",
            "0.2897903699496973\n",
            "0.2884273933739646\n",
            "0.2871291198329886\n",
            "0.28592101481870297\n",
            "0.28475581398068933\n",
            "0.28362499822653603\n",
            "0.28254637150368267\n",
            "0.2814881191416264\n",
            "0.2804859956206758\n",
            "0.27948572231497765\n",
            "0.2784864220545589\n",
            "0.2775400629014209\n",
            "0.27664663697153724\n",
            "0.2758010695152576\n",
            "0.274987115086627\n",
            "0.27420206544579573\n",
            "0.2734533662135256\n",
            "0.27270466698125173\n",
            "0.27197305888331563\n",
            "0.27126620917355304\n",
            "0.27057412559238586\n",
            "0.26992632856836274\n",
            "0.26932433897480557\n",
            "0.2687465494728749\n",
            "0.26819225187198165\n",
            "0.2676885630501159\n",
            "0.2672543505432706\n",
            "0.2668616632169557\n",
            "0.2664693444612531\n",
            "0.26607702570555103\n",
            "0.2656905872251568\n",
            "0.2653396486017867\n",
            "0.26500829534024084\n",
            "0.26467694207869746\n",
            "0.2643455888171554\n",
            "0.2640142355556196\n",
            "0.2636874641119162\n",
            "0.2633905314981951\n",
            "0.263116070779837\n"
          ]
        }
      ]
    },
    {
      "cell_type": "code",
      "execution_count": 72,
      "metadata": {
        "colab": {
          "base_uri": "https://localhost:8080/",
          "height": 448
        },
        "id": "vF7iKKUrLvdF",
        "outputId": "92ce3505-d402-4993-9164-88a71a4ea57f"
      },
      "outputs": [
        {
          "output_type": "execute_result",
          "data": {
            "text/plain": [
              "<matplotlib.collections.PathCollection at 0x7dcf8dc77850>"
            ]
          },
          "metadata": {},
          "execution_count": 72
        },
        {
          "output_type": "display_data",
          "data": {
            "text/plain": [
              "<Figure size 640x480 with 1 Axes>"
            ],
            "image/png": "[encoded data removed]"
          },
          "metadata": {}
        }
      ],
      "source": [
        "plt.scatter(xs, ys_noise)\n",
        "plt.scatter(xs, estimations)"
      ]
    },
    {
      "cell_type": "markdown",
      "metadata": {
        "id": "IMEZ70i7YiCc"
      },
      "source": [
        "##### (Extra) Naming Convention\n",
        "- CamelCase\n",
        "  - uses upper letter to distinguish words\n",
        "    - MyModelFunction\n",
        "    - myModelFunction\n",
        "- snake_case\n",
        "  - uses underbar\n",
        "    - my_model_function"
      ]
    },
    {
      "cell_type": "markdown",
      "metadata": {
        "id": "DSExqxKBChux"
      },
      "source": [
        "### 2. Using Artificial Neural Network"
      ]
    },
    {
      "cell_type": "markdown",
      "metadata": {
        "id": "im6dyEahChux"
      },
      "source": [
        "#### 2-1) Define the function\n",
        "- We want to design more complex function that is not linear.\n",
        "    - And we will try approximating the function using neural network.\n",
        "\n",
        "- To do this, we will practice with ``class``\n",
        "    - ``class`` is a template for creating objects.\n",
        "        - It has attributes and methods.\n",
        "            - Attributes are variables that store data.\n",
        "            - Methods are functions that are defined inside the class.\n",
        "        - We can create an object from a class.\n",
        "            - We call this process as **instantiation**.\n",
        "            - The object that is created from a class is called **instance**.\n",
        "        - We can access the attributes and methods of an object using dot notation.\n",
        "            - ``object.attribute``\n",
        "            - ``object.method()``\n",
        "        - We can define a class using ``class`` keyword.\n",
        "            - ``class ClassName:``\n",
        "        - We can define a method using ``def`` keyword.\n",
        "            - ``def method_name(self, arguments):``\n",
        "            - Every method should have ``self`` as the first argument.\n",
        "                - ``self`` is a reference to the current instance of the class.\n",
        "                - We can access the attributes and methods of the class using ``self``.\n",
        "                - ``self`` is not a keyword. You can use any word instead of ``self``.\n",
        "                    - But it is a convention to use ``self``.\n",
        "            - There are special methods that are defined using double underscore.\n",
        "                - ``__init__`` is a special method that is called when an instance of a class is created.\n",
        "                    - We call this process as **instantiation**.\n",
        "                    - ``class_instance = ClassName(arguments)``\n",
        "                - ``__call__`` is a special method that is called when an instance of a class is called.\n",
        "                    - ``class_instance(arguments)``\n",
        "                \n",
        "\n",
        "        - We can define an attribute using ``self``.\n",
        "            - ``self.attribute_name = value``\n",
        "    \n",
        "\n",
        ""
      ]
    },
    {
      "cell_type": "code",
      "execution_count": 73,
      "metadata": {
        "colab": {
          "base_uri": "https://localhost:8080/"
        },
        "id": "e1LKUQb8MGyW",
        "outputId": "8160de8c-1b99-4b78-b72c-5c0b84ed4e2b"
      },
      "outputs": [
        {
          "output_type": "execute_result",
          "data": {
            "text/plain": [
              "3.8993036792301603"
            ]
          },
          "metadata": {},
          "execution_count": 73
        }
      ],
      "source": [
        "from math import sin, cos\n",
        "\n",
        "class ComplexFunction: # You ALWAYS HAVE TO name the class in CamelCase\n",
        "# class complex_function:\n",
        "# class name has to start with Upper letter\n",
        "  def __init__(self):\n",
        "    self.param_a = random.random()\n",
        "    self.param_b = random.random()\n",
        "    self.param_c = random.random() + 5\n",
        "    # these self.param_x is called attribute\n",
        "\n",
        "  def print_itself(self):\n",
        "    # every method of class has to take 'self' as its argument.\n",
        "    print(self.param_a, self.param_b, self.param_c)\n",
        "\n",
        "  def print_param_a(x, self):\n",
        "    # 0th argument is always the class instance itself\n",
        "    # no matter how you name it\n",
        "    print(x.param_a)\n",
        "\n",
        "  def __call__(self, x):\n",
        "    # this is a method of the class\n",
        "    # and this is example of special method\n",
        "    # this function is called when you call instance, such as comp_function(some_input)\n",
        "    return x * self.param_a +  x**2 * self.param_b +  sin(x) *self.param_c + (random.random()-0.5) * 2\n",
        "\n",
        "random.seed(0)\n",
        "comp_func = ComplexFunction()\n",
        "comp_func_b = ComplexFunction()\n",
        "# now comp_func is an instance of the class ComplexFunction\n",
        "# you have to call () the class name to declare its instance\n",
        "# this calls the Class's __init__ method\n",
        "\n",
        "# comp_func.param_a, comp_func.param_b, comp_func.param_c, comp_func_b.param_c\n",
        "# we can run the method of instance by calling it\n",
        "# comp_func.print_itself('input')\n",
        "# comp_func.print_param_a(\"this is my parameter\")\n",
        "\n",
        "random.seed(0)\n",
        "comp_func(0.5) # this calls ComplexFunction.__call__()\n"
      ]
    },
    {
      "cell_type": "code",
      "execution_count": 74,
      "metadata": {
        "colab": {
          "base_uri": "https://localhost:8080/"
        },
        "id": "JHTQ5_SiWoax",
        "outputId": "6860f6bf-9cac-4364-b8e0-798093bb025e"
      },
      "outputs": [
        {
          "output_type": "execute_result",
          "data": {
            "text/plain": [
              "2.0476717906237787"
            ]
          },
          "metadata": {},
          "execution_count": 74
        }
      ],
      "source": [
        "# You can do the same thing wihtout class\n",
        "# But it will look bit dirty\n",
        "\n",
        "# first define parameters\n",
        "param = [random.random(), random.random(), random.random()]\n",
        "random.seed(0)\n",
        "param = [random.random() for whatever in range(3)]\n",
        "param\n",
        "\n",
        "# define function\n",
        "def my_complex_func(x, parameters):\n",
        "  return x * parameters[0] + x**parameters[2] + x**2 * parameters[1] + (random.random()-0.5) * 2\n",
        "\n",
        "random.seed(0)\n",
        "my_complex_func(0.5, param)"
      ]
    },
    {
      "cell_type": "code",
      "execution_count": 75,
      "metadata": {
        "colab": {
          "base_uri": "https://localhost:8080/"
        },
        "id": "J1M0-ZcuUdPo",
        "outputId": "dcab2ba6-070c-4ca3-92d5-674c540f8a97"
      },
      "outputs": [
        {
          "output_type": "stream",
          "name": "stdout",
          "text": [
            "[0.8444218515250481, 0.7579544029403025, 0.420571580830845]\n",
            "0.8444218515250481 0.7579544029403025 5.4205715808308454\n"
          ]
        }
      ],
      "source": [
        "# comp_func.print_itself(),\n",
        "print(param)\n",
        "comp_func.print_itself()"
      ]
    },
    {
      "cell_type": "code",
      "execution_count": 76,
      "metadata": {
        "id": "F0Jq1cqMYLXE"
      },
      "outputs": [],
      "source": [
        "# ComplexFunction.print_itself() # the class itself cannot work as self,\n",
        "# because it is not an instance\n"
      ]
    },
    {
      "cell_type": "code",
      "execution_count": 77,
      "metadata": {
        "colab": {
          "base_uri": "https://localhost:8080/",
          "height": 448
        },
        "id": "2E8vM70NM0qz",
        "outputId": "2ebef2a6-6f6c-4b33-839d-7ba69b03e353"
      },
      "outputs": [
        {
          "output_type": "execute_result",
          "data": {
            "text/plain": [
              "<matplotlib.collections.PathCollection at 0x7dcf8db09930>"
            ]
          },
          "metadata": {},
          "execution_count": 77
        },
        {
          "output_type": "display_data",
          "data": {
            "text/plain": [
              "<Figure size 640x480 with 1 Axes>"
            ],
            "image/png": "[encoded data removed]"
          },
          "metadata": {}
        }
      ],
      "source": [
        "ys_comp = [comp_func(x) for x in xs]\n",
        "plt.scatter(xs, ys_comp)"
      ]
    },
    {
      "cell_type": "markdown",
      "metadata": {
        "id": "YLKychJdChuy"
      },
      "source": [
        "#### 2-2) Making Artificial Neuron\n",
        "An artificial neuron is a mathematical function designed to model the behavior of biological neurons. It serves as a fundamental building block of neural networks in machine learning.\n",
        "\n",
        "##### Basic Components\n",
        "- Input: Receives various forms of information (or data) that the neural network will learn from.\n",
        "- Weights: These are parameters that transform input data within the neuron's internal function.\n",
        "- Bias: An additional parameter to shift the activation function.\n",
        "- Activation Function: This function processes the incoming information, and depending on its output, the artificial neuron activates or not.\n",
        "\n",
        "$\\text{Output} = \\text{Activation Function}(\\sum^n_{i=1}(\\text{Input}[i] \\times \\text{Weight}[i]) + \\text{Bias})$\n"
      ]
    },
    {
      "cell_type": "code",
      "execution_count": 78,
      "metadata": {
        "colab": {
          "base_uri": "https://localhost:8080/"
        },
        "id": "TsGvqTWSNPqr",
        "outputId": "1e6fae42-847d-46fb-ff40-e0e070498e2d"
      },
      "outputs": [
        {
          "output_type": "stream",
          "name": "stdout",
          "text": [
            "neuron's weight: [0.8444218515250481, 0.7579544029403025, 0.420571580830845], neuron's bias: 0\n",
            "neuron's output for input: 0.5053996844839116\n",
            "How the output was calculated: 0.5 * 0.8444218515250481 + -1 * 0.7579544029403025 + 2 * 0.420571580830845 + 0\n"
          ]
        }
      ],
      "source": [
        "import torch\n",
        "\n",
        "# first let's define a neuron\n",
        "# we have one input dimension\n",
        "\n",
        "class Neuron:\n",
        "  def __init__(self, input_dim=1, use_bias=True):\n",
        "    self.weights = [random.random() for _ in range(input_dim)]\n",
        "    if use_bias:\n",
        "      self.bias = 0 # it is normal to initialize bias as zero\n",
        "\n",
        "  # def __call__(self, input_scalar):\n",
        "  #   return self.weights[0] * input_scalar + self.bias\n",
        "\n",
        "  def __call__(self, input_vector):\n",
        "    # first let's check whether the input_vector's dimension is correct\n",
        "    # A specific neuron always expects input vector as a specific dimension\n",
        "\n",
        "    # Make assertion that input_vector's dimension is same with self.weights' dimension\n",
        "    assert len(input_vector) == len(self.weights), 'Input dimension is different'\n",
        "    # if assertion is not True, it will make error and print the string behind\n",
        "\n",
        "    # Let's make vector multiplication as for loop\n",
        "    output = []\n",
        "    for i in range(len(input_vector)):\n",
        "      input_value = input_vector[i]\n",
        "      weight = self.weights[i]\n",
        "      mul = input_value * weight\n",
        "      output.append(mul)\n",
        "\n",
        "    # you can do it with list comprehension\n",
        "    output = [ input_vector[i] * self.weights[i] for i in range(len(input_vector))]\n",
        "\n",
        "    # you can do it with zip also\n",
        "    output = [ input_value * weight for input_value, weight in zip(input_vector, self.weights)]\n",
        "\n",
        "    # you can do it with dot product\n",
        "    # output = torch.dot(torch.tensor(input_vector), torch.tensor(self.weights)) # this will return value in tensor\n",
        "\n",
        "    return sum(output) + self.bias\n",
        "\n",
        "random.seed(0)\n",
        "neuron = Neuron(3)\n",
        "print(f\"neuron's weight: {neuron.weights}, neuron's bias: {neuron.bias}\")\n",
        "\n",
        "sample_input = [0.5, -1, 2]\n",
        "neuron_output = neuron(sample_input) # this is same with neuron.__call__(sample_input)\n",
        "print(f\"neuron's output for input: {neuron_output}\")\n",
        "\n",
        "print(f\"How the output was calculated: {sample_input[0]} * {neuron.weights[0]} + {sample_input[1]} * {neuron.weights[1]} + {sample_input[2]} * {neuron.weights[2]} + {neuron.bias}\")\n"
      ]
    },
    {
      "cell_type": "markdown",
      "metadata": {
        "id": "GZqLCB39Chuy"
      },
      "source": [
        "#### 2-4) Implementing following digaram in Python\n",
        "- Ignoring the bias and activation now\n",
        "![data_ai_figure.jpg](attachment:data_ai_figure.jpg)"
      ]
    },
    {
      "cell_type": "code",
      "execution_count": 79,
      "metadata": {
        "colab": {
          "base_uri": "https://localhost:8080/"
        },
        "id": "WLTlGHvBFjLA",
        "outputId": "16307e8e-750c-4415-aa03-a622cc27c949"
      },
      "outputs": [
        {
          "output_type": "stream",
          "name": "stdout",
          "text": [
            "Input was [0.5, -0.3, 1.3], output was 2.127\n",
            "Input was [-1.2, -0.5, -0.1], output was 2.125\n"
          ]
        }
      ],
      "source": [
        "input_sample = [0.5, -0.3, 1.3]\n",
        "another_input_sample = [-1.2, -0.5, -0.1]\n",
        "\n",
        "# Define neurons\n",
        "neuron_a = Neuron(3) # Neuron is a class, neuron_a is an instance of the class Neuron\n",
        "# neuron_a = Neuron(input_dim=3) # same with the line above\n",
        "neuron_a.weights = [0.8, 1.2, 0.7] # set neuron_a's weights following the diagram\n",
        "\n",
        "neuron_b = Neuron(3) # Using Neuron class, we can make as many neurons as we want\n",
        "neuron_b.weights = [-0.2, 0.5, 1.9]\n",
        "neuron_c = Neuron(input_dim=2)\n",
        "neuron_c.weights = [-1.5, 1.6]\n",
        "\n",
        "\n",
        "for input in [input_sample, another_input_sample]:\n",
        "  # Feed input data to the neurons\n",
        "  output_a = neuron_a(input) # 0.95\n",
        "  output_b = neuron_b(input) # 2.22\n",
        "\n",
        "  middle_output = [output_a, output_b] # [0.95, 2.22]\n",
        "\n",
        "  output = neuron_c(middle_output)\n",
        "  print(f\"Input was {input}, output was {output}\")\n"
      ]
    },
    {
      "cell_type": "markdown",
      "metadata": {
        "id": "JKK-iRmdChuy"
      },
      "source": [
        "#### 2-5) Implementing it as a matrix and layer\n",
        "- Using ``torch`` library"
      ]
    },
    {
      "cell_type": "code",
      "execution_count": 80,
      "metadata": {
        "colab": {
          "base_uri": "https://localhost:8080/"
        },
        "id": "bgEFHRjzJDF6",
        "outputId": "08723b07-4955-4c91-8752-9f45354aa503"
      },
      "outputs": [
        {
          "output_type": "stream",
          "name": "stdout",
          "text": [
            "[0.8, 1.2, 0.7] [-0.2, 0.5, 1.9]\n",
            "[[ 0.8  1.2  0.7]\n",
            " [-0.2  0.5  1.9]]\n",
            "tensor([[ 0.8000,  1.2000,  0.7000],\n",
            "        [-0.2000,  0.5000,  1.9000]])\n"
          ]
        }
      ],
      "source": [
        "import numpy as np\n",
        "import torch\n",
        "\n",
        "# make it as a matrix\n",
        "\n",
        "# make neurons as a matrix\n",
        "print(neuron_a.weights, neuron_b.weights)\n",
        "\n",
        "weight_array = np.asarray([neuron_a.weights, neuron_b.weights])\n",
        "# below will make error\n",
        "# np.asarray([neuron_a.weights, neuron_b.weights, neuron_c.weights])\n",
        "print(weight_array)\n",
        "\n",
        "# in torch, we use tensor, which corresponds to np.array\n",
        "weight_tensor = torch.tensor([neuron_a.weights, neuron_b.weights])\n",
        "print(weight_tensor)\n",
        "\n",
        "# below will make error\n",
        "# torch.tensor([neuron_a.weights, neuron_b.weights, neuron_c.weights])"
      ]
    },
    {
      "cell_type": "code",
      "execution_count": 81,
      "metadata": {
        "colab": {
          "base_uri": "https://localhost:8080/"
        },
        "id": "Vhjqi-8dK4ZJ",
        "outputId": "8826b00e-9a69-44a7-bbf3-1c188095d95c"
      },
      "outputs": [
        {
          "output_type": "execute_result",
          "data": {
            "text/plain": [
              "tensor(1.9000)"
            ]
          },
          "metadata": {},
          "execution_count": 81
        }
      ],
      "source": [
        "# indexing and slicing in tensor (it's same with using array)\n",
        "idx_for_0th_dim = 1\n",
        "idx_for_1st_dim = 2\n",
        "\n",
        "weight_tensor[idx_for_0th_dim, idx_for_1st_dim]"
      ]
    },
    {
      "cell_type": "code",
      "execution_count": 82,
      "metadata": {
        "colab": {
          "base_uri": "https://localhost:8080/"
        },
        "id": "eOFWfbf5LkDN",
        "outputId": "1e72e39f-3a82-4ccb-e2cc-d2eedaf6ab4b"
      },
      "outputs": [
        {
          "output_type": "execute_result",
          "data": {
            "text/plain": [
              "tensor([[ 0.8000,  1.2000],\n",
              "        [-0.2000,  0.5000]])"
            ]
          },
          "metadata": {},
          "execution_count": 82
        }
      ],
      "source": [
        "weight_tensor[:, :2] # select every item in 0th axis, select items until index 2 in 1st axis"
      ]
    },
    {
      "cell_type": "code",
      "execution_count": 83,
      "metadata": {
        "colab": {
          "base_uri": "https://localhost:8080/"
        },
        "id": "G8hAoTRjLzqU",
        "outputId": "3fbb858f-eeba-45aa-e0ab-9d9600bcbb59"
      },
      "outputs": [
        {
          "output_type": "stream",
          "name": "stdout",
          "text": [
            "<class 'list'>\n",
            "tensor([ 0.5000, -0.3000,  1.3000]) torch.Size([3]) torch.Size([2, 3])\n",
            "tensor([[ 0.5000, -0.3000,  1.3000]]) torch.Size([1, 3]) torch.Size([2, 3])\n"
          ]
        },
        {
          "output_type": "execute_result",
          "data": {
            "text/plain": [
              "tensor([[0.9500, 2.2200]])"
            ]
          },
          "metadata": {},
          "execution_count": 83
        }
      ],
      "source": [
        "# get matrix multiplication\n",
        "# using torch.mm (matrix multiplication)\n",
        "# torch.mm(matrix_a, matrix_b) # This will calculates matrix_a X matrix_b\n",
        "\n",
        "print(type(input_sample))\n",
        "# torch.mm(input_sample, weight_tensor) # this makes error\n",
        "input_tensor = torch.tensor(input_sample)\n",
        "print(input_tensor, input_tensor.shape, weight_tensor.shape)\n",
        "# torch.mm(input_tensor, weight_tensor)\n",
        "input_tensor = input_tensor.reshape([1, 3])\n",
        "print(input_tensor, input_tensor.shape, weight_tensor.shape)\n",
        "torch.mm(input_tensor, weight_tensor.T) # transpose weight_tensor"
      ]
    },
    {
      "cell_type": "code",
      "execution_count": 84,
      "metadata": {
        "colab": {
          "base_uri": "https://localhost:8080/"
        },
        "id": "56dq3zN6OtVB",
        "outputId": "7fbdcf6c-c58a-4473-9bc5-3aaa3b497c01"
      },
      "outputs": [
        {
          "output_type": "stream",
          "name": "stdout",
          "text": [
            "tensor([[ 0.8000,  1.2000,  0.7000],\n",
            "        [-0.2000,  0.5000,  1.9000]])\n",
            "tensor([[ 0.8000, -0.2000],\n",
            "        [ 1.2000,  0.5000],\n",
            "        [ 0.7000,  1.9000]])\n",
            "tensor([[ 0.8000,  1.2000],\n",
            "        [ 0.7000, -0.2000],\n",
            "        [ 0.5000,  1.9000]])\n"
          ]
        }
      ],
      "source": [
        "# transpose vs reshape\n",
        "print(weight_tensor)\n",
        "print(weight_tensor.T)\n",
        "print(weight_tensor.reshape([3,2]) ) # it just re arranges cutting position"
      ]
    },
    {
      "cell_type": "code",
      "execution_count": 85,
      "metadata": {
        "colab": {
          "base_uri": "https://localhost:8080/"
        },
        "id": "SN0NxldUPkQm",
        "outputId": "198d2f6a-8ee8-47e5-9bb4-8990604d8d81"
      },
      "outputs": [
        {
          "output_type": "stream",
          "name": "stdout",
          "text": [
            "tensor([[ 0.5000, -0.3000,  1.3000],\n",
            "        [-1.2000, -0.5000, -0.1000]]) torch.Size([2, 3])\n"
          ]
        },
        {
          "output_type": "execute_result",
          "data": {
            "text/plain": [
              "tensor([[ 0.9500,  2.2200],\n",
              "        [-1.6300, -0.2000]])"
            ]
          },
          "metadata": {},
          "execution_count": 85
        }
      ],
      "source": [
        "# let's make several input_samples as a matrix\n",
        "input_tensor = torch.tensor([input_sample, another_input_sample])\n",
        "print(input_tensor, input_tensor.shape)\n",
        "middle_output = torch.mm(input_tensor, weight_tensor.T)\n",
        "middle_output"
      ]
    },
    {
      "cell_type": "code",
      "execution_count": 86,
      "metadata": {
        "colab": {
          "base_uri": "https://localhost:8080/"
        },
        "id": "hlYCr1NSP65J",
        "outputId": "fff0963e-29bd-4242-9db2-c84b3a0f1669"
      },
      "outputs": [
        {
          "output_type": "stream",
          "name": "stdout",
          "text": [
            "torch.Size([1, 2])\n"
          ]
        },
        {
          "output_type": "execute_result",
          "data": {
            "text/plain": [
              "tensor([[2.1270],\n",
              "        [2.1250]])"
            ]
          },
          "metadata": {},
          "execution_count": 86
        }
      ],
      "source": [
        "weight_c_tensor = torch.tensor([neuron_c.weights])\n",
        "# torch.tensor(neuron_c.weights) is different with torch.tensor([neuron_c.weights])\n",
        "print(weight_c_tensor.shape)\n",
        "\n",
        "final_output = torch.mm(middle_output, weight_c_tensor.T)\n",
        "final_output"
      ]
    },
    {
      "cell_type": "code",
      "execution_count": 87,
      "metadata": {
        "colab": {
          "base_uri": "https://localhost:8080/"
        },
        "id": "ZTq7VgVpQnQY",
        "outputId": "8e288078-52d6-403d-b0ca-0bd515c0c1b0"
      },
      "outputs": [
        {
          "output_type": "execute_result",
          "data": {
            "text/plain": [
              "tensor([[ 0.9500,  2.2200],\n",
              "        [-1.6300, -0.2000]])"
            ]
          },
          "metadata": {},
          "execution_count": 87
        }
      ],
      "source": [
        "# In actual scenario, we define a layer, not a neuron\n",
        "# a layer is a set of neurons that shares the same input\n",
        "# such as neuron_a and neuron_b in the previous example\n",
        "\n",
        "class NeuralLayer:\n",
        "  def __init__(self, input_dim, output_dim):\n",
        "    # output_dim means number of neurons in the layer\n",
        "    self.weights = torch.randn(input_dim, output_dim)\n",
        "\n",
        "  def __call__(self, input):\n",
        "    return torch.mm(input, self.weights)\n",
        "\n",
        "# torch.randn([3,2]) # random numbers from normal distribution (Gaussian distribution)\n",
        "\n",
        "layer = NeuralLayer(input_dim=3, output_dim=2)\n",
        "layer.weights = weight_tensor.T\n",
        "layer(input_tensor)"
      ]
    },
    {
      "cell_type": "code",
      "execution_count": 88,
      "metadata": {
        "colab": {
          "base_uri": "https://localhost:8080/"
        },
        "id": "syMFQ3JoSWm2",
        "outputId": "74fc27dd-9e76-42d8-c232-5cd634ff5fd3"
      },
      "outputs": [
        {
          "output_type": "stream",
          "name": "stdout",
          "text": [
            "torch.Size([2, 3])\n"
          ]
        },
        {
          "output_type": "execute_result",
          "data": {
            "text/plain": [
              "tensor([[ 0.9500,  2.2200],\n",
              "        [-1.6300, -0.2000]], grad_fn=<MmBackward0>)"
            ]
          },
          "metadata": {},
          "execution_count": 88
        }
      ],
      "source": [
        "torch_layer = torch.nn.Linear(3,2, bias=False)\n",
        "print(torch_layer.weight.shape)\n",
        "torch_layer.weight.data = weight_tensor # copy the weight to the layer\n",
        "torch_layer(input_tensor)"
      ]
    },
    {
      "cell_type": "markdown",
      "metadata": {
        "id": "UKDxWQ4hChvA"
      },
      "source": [
        "#### 2-6) Make two layers model for function approximation"
      ]
    },
    {
      "cell_type": "code",
      "execution_count": 89,
      "metadata": {
        "id": "h1L3mCk_QveF"
      },
      "outputs": [],
      "source": [
        "from IPython import display\n",
        "import matplotlib.pyplot as plt\n",
        "\n",
        "# Prepare layer and data\n",
        "torch.manual_seed(0)\n",
        "layer1 = torch.nn.Linear(in_features=1, out_features=4)\n",
        "layer2 = torch.nn.Linear(in_features=4, out_features=1)"
      ]
    },
    {
      "cell_type": "code",
      "execution_count": 90,
      "metadata": {
        "colab": {
          "base_uri": "https://localhost:8080/"
        },
        "id": "9CGzBCt3WLJJ",
        "outputId": "0d303ddd-2b7b-44ee-bc8f-ff1445ae2ac6"
      },
      "outputs": [
        {
          "output_type": "execute_result",
          "data": {
            "text/plain": [
              "(Parameter containing:\n",
              " tensor([[-0.0075],\n",
              "         [ 0.5364],\n",
              "         [-0.8230],\n",
              "         [-0.7359]], requires_grad=True),\n",
              " Parameter containing:\n",
              " tensor([-0.3852,  0.2682, -0.0198,  0.7929], requires_grad=True))"
            ]
          },
          "metadata": {},
          "execution_count": 90
        }
      ],
      "source": [
        "layer1.weight, layer1.bias\n",
        "\n",
        "# layer1 has four neuron\n",
        "# each neuron is doing ax + b\n",
        "# or, weights * x + bias\n",
        "# neuron_0 = -0.0075 * x + (-0.3852)\n",
        "# neuron_1 = 0.5364 * x + 0.2682\n",
        "# ..."
      ]
    },
    {
      "cell_type": "code",
      "execution_count": 91,
      "metadata": {
        "colab": {
          "base_uri": "https://localhost:8080/"
        },
        "id": "qtFaVIGiYk3Z",
        "outputId": "77514e9e-7b16-42ae-cce5-91a433e269ac"
      },
      "outputs": [
        {
          "output_type": "execute_result",
          "data": {
            "text/plain": [
              "(Parameter containing:\n",
              " tensor([[-0.0444,  0.1323, -0.1511, -0.0983]], requires_grad=True),\n",
              " Parameter containing:\n",
              " tensor([-0.4777], requires_grad=True))"
            ]
          },
          "metadata": {},
          "execution_count": 91
        }
      ],
      "source": [
        "layer2.weight, layer2.bias\n",
        "\n",
        "# -0.0444 * neuron_0_output + 0.1323 & neuron_1_output + ... + (-0.4777)"
      ]
    },
    {
      "cell_type": "markdown",
      "metadata": {
        "id": "xNFq6cItChvA"
      },
      "source": [
        "#### 2-7) Combination of Linear Operation\n",
        "- Let's suppose the first layer of the neural network takes 1-dim input and has 4 neurons\n",
        "    - Each neuron has 1 weight and 1 bias\n",
        "    - weights = $[w_1, w_2, w_3, w_4]$\n",
        "    - bias = $[b_1, b_2, b_3, b_4]$\n",
        "    - for input $x$, the result is\n",
        "        - $[w_1 x + b_1, w_2 x + b_2, w_3 x + b_3, w_4 x + b_4]$\n",
        "        - or, we can notate them using $o_n$, so that\n",
        "            - $o_n = w_n x + b_n$\n",
        "            - $o_1 = w_1 x + b_1$\n",
        "- So the second layer takes $[o_1, o_2, o_3, o_4]$ as an input\n",
        "    - This layer has only one neuron, and it has 4 weights and 1 bias\n",
        "        - Because the input dimension is 4\n",
        "    - weights = $[u_1, u_2, u_3, u_4]$\n",
        "    - bias = $c$\n",
        "    - output = $u_1 o_1 + u_2 o_2 + u_3 o_3 + u_4 o_4 + c$\n",
        "        - = $u_1 (w_1 x + b_1) + u_2 (w_2 x + b_2) + u_3 (w_3 x + b_3) + u_4 (w_4 x + b_4) + c$\n",
        "        - = $ (u_1 w_1 + u_2 w_2 + u_3 w_3 + u_4 w_4) x + (u_1 b_1 + u_2 b_2 + u_3 b_3 + u_4 b_4 + c)$\n",
        "    - Therefore, if we replace the equation above using new symbol $v, d$,\n",
        "        - $v = u_1 w_1 + u_2 w_2 + u_3 w_3 + u_4 w_4$\n",
        "        - $d = u_1 b_1 + u_2 b_2 + u_3 b_3 + u_4 b_4 + c$\n",
        "        - output = $v x + d$\n",
        "            - Which is a linear equation\n",
        "- So, we can say that the combination of linear operations is also a linear operation\n",
        "    - **If** there is NO non-linear activation function between layers"
      ]
    },
    {
      "cell_type": "code",
      "execution_count": 92,
      "metadata": {
        "id": "olreacktaASl"
      },
      "outputs": [],
      "source": [
        "layer12 = torch.nn.Linear(1,1)\n",
        "layer12.weight, layer12.bias\n",
        "\n",
        "# Can we make a single layer, that do the same thing with layer1 + layer2?\n",
        "x_coefficient = (layer1.weight.data.squeeze() * layer2.weight.data.squeeze()).sum()\n",
        "total_bias = (layer1.bias.data * layer2.weight.data.squeeze()).sum() + layer2.bias\n",
        "\n",
        "layer12.weight.data = x_coefficient.view([1,1])\n",
        "layer12.bias.data = total_bias\n",
        "# layer12.bias.shape, total_bias.shape"
      ]
    },
    {
      "cell_type": "code",
      "execution_count": 93,
      "metadata": {
        "colab": {
          "base_uri": "https://localhost:8080/"
        },
        "id": "UqZuTRqyW1Eq",
        "outputId": "5ebd1f9c-2591-4240-da0e-1eabe931c34b"
      },
      "outputs": [
        {
          "output_type": "execute_result",
          "data": {
            "text/plain": [
              "(tensor([-0.5804], grad_fn=<AddBackward0>),\n",
              " tensor([-0.5804], grad_fn=<AddBackward0>))"
            ]
          },
          "metadata": {},
          "execution_count": 93
        }
      ],
      "source": [
        "input_value = torch.tensor([-0.3])\n",
        "layer1_out = layer1(input_value)\n",
        "layer2_out = layer2(layer1_out)\n",
        "\n",
        "layer12_out = layer12(input_value)\n",
        "\n",
        "layer2_out, layer12_out\n",
        "\n",
        "# Without non-linearity, even though you stack several layers,\n",
        "# Those layers can be perfectly replaced by a single layer"
      ]
    },
    {
      "cell_type": "markdown",
      "metadata": {
        "id": "btRusUQpChvA"
      },
      "source": [
        "#### 2-8) Combination of Linear and Non-linear Operations"
      ]
    },
    {
      "cell_type": "code",
      "execution_count": 94,
      "metadata": {
        "colab": {
          "base_uri": "https://localhost:8080/",
          "height": 448
        },
        "id": "LXckveSTX3il",
        "outputId": "06dea66a-d7f4-470c-b88e-d038af65d194"
      },
      "outputs": [
        {
          "output_type": "execute_result",
          "data": {
            "text/plain": [
              "<matplotlib.collections.PathCollection at 0x7dcef127aa40>"
            ]
          },
          "metadata": {},
          "execution_count": 94
        },
        {
          "output_type": "display_data",
          "data": {
            "text/plain": [
              "<Figure size 640x480 with 1 Axes>"
            ],
            "image/png": "[encoded data removed]"
          },
          "metadata": {}
        }
      ],
      "source": [
        "# Let's give Non-linearity\n",
        "def relu(x):\n",
        "  if x > 0:\n",
        "    return x\n",
        "  else:\n",
        "    return 0\n",
        "\n",
        "relu(0.5), relu(-1)\n",
        "\n",
        "relu_out = [relu(x) for x in xs] # xs = [-5, -4.98, ...., 4.98, 5.00]\n",
        "plt.scatter(xs, relu_out)"
      ]
    },
    {
      "cell_type": "code",
      "execution_count": 95,
      "metadata": {
        "id": "uBLfP3BNjyWA"
      },
      "outputs": [],
      "source": [
        "class ComplexFunction: # You ALWAYS HAVE TO name the class in CamelCase\n",
        "# class complex_function:\n",
        "# class name has to start with Upper letter\n",
        "  def __init__(self):\n",
        "    self.param_a = random.random() * 3\n",
        "    self.param_b = random.random() * 2\n",
        "    self.param_c = random.random() + 5\n",
        "    # these self.param_x is called attribute\n",
        "\n",
        "  def print_itself(self):\n",
        "    # every method of class has to take 'self' as its argument.\n",
        "    print(self.param_a, self.param_b, self.param_c)\n",
        "\n",
        "  def print_param_a(x, self):\n",
        "    # 0th argument is always the class instance itself\n",
        "    # no matter how you name it\n",
        "    print(x.param_a)\n",
        "\n",
        "  def __call__(self, x):\n",
        "    # this is a method of the class\n",
        "    # and this is example of special method\n",
        "    # this function is called when you call instance, such as comp_function(some_input)\n",
        "    return x * self.param_a +  cos(x) * self.param_b +  sin(x) *self.param_c + (random.random()-0.5) * 2\n",
        "\n",
        "random.seed(0)\n",
        "comp_func = ComplexFunction()\n",
        "\n",
        "ys_comp = [comp_func(x) for x in xs]\n",
        "ys_tensor = torch.tensor(ys_comp).unsqueeze(-1)\n"
      ]
    },
    {
      "cell_type": "markdown",
      "metadata": {
        "id": "wIoSFEteChvB"
      },
      "source": [
        "#### 2-9) Training the model"
      ]
    },
    {
      "cell_type": "code",
      "source": [
        "# For loop for training the neural network\n",
        "# For each iteration, the neural networks'parameter (weights and biases) are updated\n",
        "layer1 = torch.nn.Linear(in_features=1, out_features=128)\n",
        "layer2 = torch.nn.Linear(in_features=128, out_features=1)\n",
        "\n",
        "\n",
        "xs_tensor = torch.tensor(xs).unsqueeze(-1)\n",
        "ys_tensor = torch.tensor(ys_comp).unsqueeze(-1)\n",
        "optimizer = torch.optim.Adam([layer1.weight, layer2.weight, layer1.bias, layer2.bias], lr=0.1)\n",
        "\n",
        "for i in range(1):\n",
        "  # pred = layer2(torch.relu(layer1(xs_tensor)))\n",
        "  layer1_out = layer1(xs_tensor)\n",
        "  layer1_out = torch.relu(layer1_out)\n",
        "  pred = layer2(layer1_out) # feeding result without non-linear activation function\n",
        "  loss = ((pred - ys_tensor) ** 2).mean()\n",
        "\n",
        "  # These lines are where magic happens\n",
        "  # loss.backward() # automatically calculate gradient"
      ],
      "metadata": {
        "id": "ofo2CVf-Vb5n"
      },
      "execution_count": 98,
      "outputs": []
    },
    {
      "cell_type": "code",
      "source": [
        "loss.backward()\n",
        "layer1.weight.grad"
      ],
      "metadata": {
        "id": "gbzYdKi7VdaF",
        "outputId": "0afcd676-2509-4b63-d166-5f57b2485df3",
        "colab": {
          "base_uri": "https://localhost:8080/"
        }
      },
      "execution_count": 100,
      "outputs": [
        {
          "output_type": "execute_result",
          "data": {
            "text/plain": [
              "tensor([[-0.2116],\n",
              "        [ 0.0000],\n",
              "        [ 0.9481],\n",
              "        [-0.4833],\n",
              "        [ 0.2684],\n",
              "        [ 0.3520],\n",
              "        [-0.9423],\n",
              "        [ 1.0144],\n",
              "        [-0.1758],\n",
              "        [-1.1580],\n",
              "        [ 0.2278],\n",
              "        [-1.3588],\n",
              "        [ 0.3989],\n",
              "        [-2.3942],\n",
              "        [ 1.6105],\n",
              "        [ 0.2243],\n",
              "        [ 0.2941],\n",
              "        [-0.8622],\n",
              "        [ 0.0000],\n",
              "        [-1.0050],\n",
              "        [ 0.0000],\n",
              "        [ 0.0727],\n",
              "        [ 0.0000],\n",
              "        [ 0.2779],\n",
              "        [-1.3848],\n",
              "        [ 1.1022],\n",
              "        [ 0.1870],\n",
              "        [ 0.0895],\n",
              "        [-0.7419],\n",
              "        [-0.8856],\n",
              "        [ 0.2700],\n",
              "        [ 1.0844],\n",
              "        [-0.6118],\n",
              "        [ 0.0000],\n",
              "        [-0.6676],\n",
              "        [ 1.1044],\n",
              "        [-0.4472],\n",
              "        [-1.6610],\n",
              "        [-0.1130],\n",
              "        [ 1.5556],\n",
              "        [-1.1899],\n",
              "        [ 1.2413],\n",
              "        [-0.6064],\n",
              "        [-0.1933],\n",
              "        [ 0.7792],\n",
              "        [-0.4462],\n",
              "        [ 1.4897],\n",
              "        [-0.4450],\n",
              "        [ 0.0000],\n",
              "        [ 0.1761],\n",
              "        [-0.1687],\n",
              "        [-1.2929],\n",
              "        [ 0.6236],\n",
              "        [-0.7246],\n",
              "        [ 0.1998],\n",
              "        [ 0.6218],\n",
              "        [ 1.0310],\n",
              "        [ 1.1437],\n",
              "        [-1.6279],\n",
              "        [ 0.4423],\n",
              "        [-0.0847],\n",
              "        [-0.5280],\n",
              "        [-0.8770],\n",
              "        [-1.3781],\n",
              "        [-0.6027],\n",
              "        [ 1.1060],\n",
              "        [ 0.3401],\n",
              "        [ 0.9950],\n",
              "        [ 0.9242],\n",
              "        [-0.5434],\n",
              "        [-1.5387],\n",
              "        [ 1.0686],\n",
              "        [-0.7083],\n",
              "        [ 0.3977],\n",
              "        [ 0.2013],\n",
              "        [-1.3603],\n",
              "        [ 0.3759],\n",
              "        [-0.1148],\n",
              "        [ 1.1940],\n",
              "        [-1.0731],\n",
              "        [ 0.2140],\n",
              "        [ 1.2181],\n",
              "        [-0.4877],\n",
              "        [ 0.8285],\n",
              "        [ 2.3602],\n",
              "        [-0.0790],\n",
              "        [-1.0419],\n",
              "        [ 0.4094],\n",
              "        [-1.3999],\n",
              "        [-1.4366],\n",
              "        [-1.6919],\n",
              "        [ 0.7048],\n",
              "        [ 0.1388],\n",
              "        [ 0.5593],\n",
              "        [ 1.0527],\n",
              "        [ 0.0000],\n",
              "        [-1.2527],\n",
              "        [-1.3448],\n",
              "        [-0.1252],\n",
              "        [-0.2971],\n",
              "        [ 0.7069],\n",
              "        [-0.9880],\n",
              "        [ 0.5735],\n",
              "        [ 0.9104],\n",
              "        [-0.2017],\n",
              "        [-0.9986],\n",
              "        [ 1.2339],\n",
              "        [-1.1719],\n",
              "        [-0.5672],\n",
              "        [ 0.5306],\n",
              "        [ 0.2429],\n",
              "        [-1.1451],\n",
              "        [ 1.0301],\n",
              "        [ 0.4881],\n",
              "        [-0.4531],\n",
              "        [ 1.1467],\n",
              "        [-0.8668],\n",
              "        [-1.5483],\n",
              "        [-0.7785],\n",
              "        [ 1.8963],\n",
              "        [-0.8184],\n",
              "        [ 0.9679],\n",
              "        [-1.4397],\n",
              "        [ 1.5933],\n",
              "        [ 1.5987],\n",
              "        [-0.9684],\n",
              "        [-0.1326],\n",
              "        [-0.0865]])"
            ]
          },
          "metadata": {},
          "execution_count": 100
        }
      ]
    },
    {
      "cell_type": "code",
      "execution_count": null,
      "metadata": {
        "colab": {
          "base_uri": "https://localhost:8080/",
          "height": 430
        },
        "id": "leUqXFsRV3IK",
        "outputId": "ad9a0bac-b439-49cf-afae-7b75905a6784"
      },
      "outputs": [
        {
          "data": {
            "image/png": "[encoded data removed]",
            "text/plain": [
              "<Figure size 432x288 with 1 Axes>"
            ]
          },
          "metadata": {},
          "output_type": "display_data"
        }
      ],
      "source": [
        "# For loop for training the neural network\n",
        "# For each iteration, the neural networks'parameter (weights and biases) are updated\n",
        "layer1 = torch.nn.Linear(in_features=1, out_features=128)\n",
        "layer2 = torch.nn.Linear(in_features=128, out_features=1)\n",
        "\n",
        "\n",
        "xs_tensor = torch.tensor(xs).unsqueeze(-1)\n",
        "ys_tensor = torch.tensor(ys_comp).unsqueeze(-1)\n",
        "optimizer = torch.optim.Adam([layer1.weight, layer2.weight, layer1.bias, layer2.bias], lr=0.1)\n",
        "\n",
        "for i in range(100):\n",
        "  # pred = layer2(torch.relu(layer1(xs_tensor)))\n",
        "  layer1_out = layer1(xs_tensor)\n",
        "  layer1_out = torch.relu(layer1_out)\n",
        "  pred = layer2(layer1_out) # feeding result without non-linear activation function\n",
        "  loss = ((pred - ys_tensor) ** 2).mean()\n",
        "\n",
        "  # These lines are where magic happens\n",
        "  loss.backward() # automatically calculate gradient\n",
        "  optimizer.step()\n",
        "  optimizer.zero_grad()\n",
        "  # -----\n",
        "\n",
        "  # print(loss.item())\n",
        "  plt.scatter(xs, ys_comp)\n",
        "  plt.scatter(xs, pred.squeeze().detach())\n",
        "  display.clear_output(wait=True)\n",
        "  display.display(plt.gcf())\n",
        "  plt.close()"
      ]
    },
    {
      "cell_type": "markdown",
      "metadata": {
        "id": "IFtIX2feChvB"
      },
      "source": [
        "#### 2-10) Visualizing the result\n",
        "- Draw how each neuron in the first layer is activated"
      ]
    },
    {
      "cell_type": "code",
      "execution_count": null,
      "metadata": {
        "colab": {
          "base_uri": "https://localhost:8080/",
          "height": 718
        },
        "id": "pt-qMFq-ecuZ",
        "outputId": "55c58bdd-0067-4dc3-e99b-5acd5bc443b4"
      },
      "outputs": [
        {
          "name": "stdout",
          "output_type": "stream",
          "text": [
            "-0.8910753130912781 -0.9556609988212585\n",
            "-1.0339064598083496 -0.6342045068740845\n",
            "0.8154685497283936 1.3881564140319824\n",
            "-0.5571649074554443 -1.4513328075408936\n",
            "-2.1532022953033447 2.392153739929199\n",
            "0.4843023121356964 1.0663036108016968\n",
            "0.45859870314598083 1.262098789215088\n",
            "0.6954667568206787 -0.9106172919273376\n",
            "-0.2839178442955017 -1.7239000797271729\n",
            "-0.6330476999282837 -0.49812430143356323\n",
            "0.10581409931182861 -0.7753055095672607\n",
            "0.953682005405426 1.1799333095550537\n",
            "-1.2443112134933472 -2.8514442443847656\n",
            "-0.6389662027359009 -1.6428636312484741\n",
            "-0.2360525131225586 -0.561813235282898\n",
            "-0.06524413824081421 -1.7512413263320923\n"
          ]
        },
        {
          "data": {
            "image/png": "[encoded data removed]",
            "text/plain": [
              "<Figure size 640x480 with 1 Axes>"
            ]
          },
          "metadata": {},
          "output_type": "display_data"
        }
      ],
      "source": [
        "def neuron_function(layer, neuron_idx):\n",
        "  weight = layer.weight[neuron_idx]# idx-th weight of the layer\n",
        "  bias = layer.bias[neuron_idx]\n",
        "\n",
        "  # return lambda x: weight*x + b\n",
        "  return weight.item(), bias.item() # This convert tensor into a normal float value\n",
        "\n",
        "for i in range(16):\n",
        "  weight, bias = neuron_function(layer1, i)\n",
        "  print(weight, bias) # now they are just float numbers\n",
        "  neuron_out = [weight * x + bias for x in xs] # xs = [-5, -4.98, ...., 4.98, 5.00]\n",
        "  # plt.scatter(xs, neuron_out)\n",
        "  relu_out = [relu(x) for x in neuron_out]\n",
        "  plt.scatter(xs, relu_out)"
      ]
    },
    {
      "cell_type": "markdown",
      "metadata": {
        "id": "S4k1bqyiTa3L"
      },
      "source": [
        "### Update plot in for loop\n",
        "```\n",
        "from IPython import display\n",
        "import matplotlib.pyplot as plt\n",
        "\n",
        "for i in range(10):\n",
        "  plt.plot([i], [i], 'o')\n",
        "  display.clear_output(wait=True)\n",
        "  display.display(plt.gcf())\n",
        "  plt.close()\n",
        "```"
      ]
    },
    {
      "cell_type": "markdown",
      "metadata": {
        "id": "KJa9y0jJBqnJ"
      },
      "source": [
        "## 2. Regression with Multiple Variables\n",
        "  - e.g.: Predict wine quality based on features like acidity, sugar content, and alcohol level."
      ]
    },
    {
      "cell_type": "markdown",
      "metadata": {
        "id": "BJ8sA5wyBqnJ"
      },
      "source": []
    }
  ],
  "metadata": {
    "colab": {
      "provenance": [],
      "include_colab_link": true
    },
    "kernelspec": {
      "display_name": "Python 3",
      "language": "python",
      "name": "python3"
    },
    "language_info": {
      "codemirror_mode": {
        "name": "ipython",
        "version": 3
      },
      "file_extension": ".py",
      "mimetype": "text/x-python",
      "name": "python",
      "nbconvert_exporter": "python",
      "pygments_lexer": "ipython3",
      "version": "3.8.10"
    },
    "orig_nbformat": 4
  },
  "nbformat": 4,
  "nbformat_minor": 0
}