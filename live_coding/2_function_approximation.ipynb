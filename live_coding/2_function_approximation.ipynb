{
  "cells": [
    {
      "cell_type": "markdown",
      "metadata": {
        "colab_type": "text",
        "id": "view-in-github"
      },
      "source": [
        "<a href=\"https://colab.research.google.com/github/jdasam/mas1004-2023/blob/main/live_coding/2_function_approximation.ipynb\" target=\"_parent\"><img src=\"https://colab.research.google.com/assets/colab-badge.svg\" alt=\"Open In Colab\"/></a>"
      ]
    },
    {
      "cell_type": "markdown",
      "metadata": {
        "id": "6K89yBL1BqnI"
      },
      "source": [
        "# Function Approximation\n",
        "## 1. Regression with One Variable\n",
        "- Regression:\n",
        "  - Process of training a model to predict a **continuous** numerical output based on one or more input features.\n",
        "  - e.g.: Predicts the child's height based on the parent's height.\n",
        "  - Why is it named \"regression\"?:\n",
        "    - The term was first used by Sir Francis Galton, a British statistician and cousin of Charles Darwin, in the late 19th century. Galton was studying the relationship between heights of parents and their children. He observed that although tall parents often had tall children, the children's heights tended to \"regress\" towards the average or mean height of the population. Similarly, children of short parents were often short but their heights still regressed towards the average."
      ]
    },
    {
      "cell_type": "code",
      "execution_count": 1,
      "metadata": {
        "colab": {
          "base_uri": "https://localhost:8080/"
        },
        "id": "1HkqNYWTBqnJ",
        "outputId": "35ed441c-786d-4d3d-947a-f638fba41172"
      },
      "outputs": [
        {
          "data": {
            "text/plain": [
              "2.5"
            ]
          },
          "execution_count": 1,
          "metadata": {},
          "output_type": "execute_result"
        }
      ],
      "source": [
        "# Let's make function that works as f(x) = ax+b\n",
        "\n",
        "a = 2\n",
        "b = 0.5\n",
        "def my_function(x):\n",
        "  return a*x + b\n",
        "\n",
        "my_function(1)"
      ]
    },
    {
      "cell_type": "code",
      "execution_count": 4,
      "metadata": {
        "colab": {
          "base_uri": "https://localhost:8080/"
        },
        "id": "qbcrAnKGDGtE",
        "outputId": "f39c4a8c-4c45-4104-9316-70a77d4318cf"
      },
      "outputs": [
        {
          "data": {
            "text/plain": [
              "[-5.0,\n",
              " -4.98,\n",
              " -4.96,\n",
              " -4.94,\n",
              " -4.92,\n",
              " -4.9,\n",
              " -4.88,\n",
              " -4.86,\n",
              " -4.84,\n",
              " -4.82,\n",
              " -4.8,\n",
              " -4.78,\n",
              " -4.76,\n",
              " -4.74,\n",
              " -4.72,\n",
              " -4.7,\n",
              " -4.68,\n",
              " -4.66,\n",
              " -4.64,\n",
              " -4.62,\n",
              " -4.6,\n",
              " -4.58,\n",
              " -4.56,\n",
              " -4.54,\n",
              " -4.52,\n",
              " -4.5,\n",
              " -4.48,\n",
              " -4.46,\n",
              " -4.44,\n",
              " -4.42,\n",
              " -4.4,\n",
              " -4.38,\n",
              " -4.36,\n",
              " -4.34,\n",
              " -4.32,\n",
              " -4.3,\n",
              " -4.28,\n",
              " -4.26,\n",
              " -4.24,\n",
              " -4.22,\n",
              " -4.2,\n",
              " -4.18,\n",
              " -4.16,\n",
              " -4.14,\n",
              " -4.12,\n",
              " -4.1,\n",
              " -4.08,\n",
              " -4.06,\n",
              " -4.04,\n",
              " -4.02,\n",
              " -4.0,\n",
              " -3.98,\n",
              " -3.96,\n",
              " -3.94,\n",
              " -3.92,\n",
              " -3.9,\n",
              " -3.88,\n",
              " -3.86,\n",
              " -3.84,\n",
              " -3.82,\n",
              " -3.8,\n",
              " -3.78,\n",
              " -3.76,\n",
              " -3.74,\n",
              " -3.72,\n",
              " -3.7,\n",
              " -3.68,\n",
              " -3.66,\n",
              " -3.64,\n",
              " -3.62,\n",
              " -3.6,\n",
              " -3.58,\n",
              " -3.56,\n",
              " -3.54,\n",
              " -3.52,\n",
              " -3.5,\n",
              " -3.48,\n",
              " -3.46,\n",
              " -3.44,\n",
              " -3.42,\n",
              " -3.4,\n",
              " -3.38,\n",
              " -3.36,\n",
              " -3.34,\n",
              " -3.32,\n",
              " -3.3,\n",
              " -3.28,\n",
              " -3.26,\n",
              " -3.24,\n",
              " -3.22,\n",
              " -3.2,\n",
              " -3.18,\n",
              " -3.16,\n",
              " -3.14,\n",
              " -3.12,\n",
              " -3.1,\n",
              " -3.08,\n",
              " -3.06,\n",
              " -3.04,\n",
              " -3.02,\n",
              " -3.0,\n",
              " -2.98,\n",
              " -2.96,\n",
              " -2.94,\n",
              " -2.92,\n",
              " -2.9,\n",
              " -2.88,\n",
              " -2.86,\n",
              " -2.84,\n",
              " -2.82,\n",
              " -2.8,\n",
              " -2.78,\n",
              " -2.76,\n",
              " -2.74,\n",
              " -2.72,\n",
              " -2.7,\n",
              " -2.68,\n",
              " -2.66,\n",
              " -2.64,\n",
              " -2.62,\n",
              " -2.6,\n",
              " -2.58,\n",
              " -2.56,\n",
              " -2.54,\n",
              " -2.52,\n",
              " -2.5,\n",
              " -2.48,\n",
              " -2.46,\n",
              " -2.44,\n",
              " -2.42,\n",
              " -2.4,\n",
              " -2.38,\n",
              " -2.36,\n",
              " -2.34,\n",
              " -2.32,\n",
              " -2.3,\n",
              " -2.28,\n",
              " -2.26,\n",
              " -2.24,\n",
              " -2.22,\n",
              " -2.2,\n",
              " -2.18,\n",
              " -2.16,\n",
              " -2.14,\n",
              " -2.12,\n",
              " -2.1,\n",
              " -2.08,\n",
              " -2.06,\n",
              " -2.04,\n",
              " -2.02,\n",
              " -2.0,\n",
              " -1.98,\n",
              " -1.96,\n",
              " -1.94,\n",
              " -1.92,\n",
              " -1.9,\n",
              " -1.88,\n",
              " -1.86,\n",
              " -1.84,\n",
              " -1.82,\n",
              " -1.8,\n",
              " -1.78,\n",
              " -1.76,\n",
              " -1.74,\n",
              " -1.72,\n",
              " -1.7,\n",
              " -1.68,\n",
              " -1.66,\n",
              " -1.64,\n",
              " -1.62,\n",
              " -1.6,\n",
              " -1.58,\n",
              " -1.56,\n",
              " -1.54,\n",
              " -1.52,\n",
              " -1.5,\n",
              " -1.48,\n",
              " -1.46,\n",
              " -1.44,\n",
              " -1.42,\n",
              " -1.4,\n",
              " -1.38,\n",
              " -1.36,\n",
              " -1.34,\n",
              " -1.32,\n",
              " -1.3,\n",
              " -1.28,\n",
              " -1.26,\n",
              " -1.24,\n",
              " -1.22,\n",
              " -1.2,\n",
              " -1.18,\n",
              " -1.16,\n",
              " -1.14,\n",
              " -1.12,\n",
              " -1.1,\n",
              " -1.08,\n",
              " -1.06,\n",
              " -1.04,\n",
              " -1.02,\n",
              " -1.0,\n",
              " -0.98,\n",
              " -0.96,\n",
              " -0.94,\n",
              " -0.92,\n",
              " -0.9,\n",
              " -0.88,\n",
              " -0.86,\n",
              " -0.84,\n",
              " -0.82,\n",
              " -0.8,\n",
              " -0.78,\n",
              " -0.76,\n",
              " -0.74,\n",
              " -0.72,\n",
              " -0.7,\n",
              " -0.68,\n",
              " -0.66,\n",
              " -0.64,\n",
              " -0.62,\n",
              " -0.6,\n",
              " -0.58,\n",
              " -0.56,\n",
              " -0.54,\n",
              " -0.52,\n",
              " -0.5,\n",
              " -0.48,\n",
              " -0.46,\n",
              " -0.44,\n",
              " -0.42,\n",
              " -0.4,\n",
              " -0.38,\n",
              " -0.36,\n",
              " -0.34,\n",
              " -0.32,\n",
              " -0.3,\n",
              " -0.28,\n",
              " -0.26,\n",
              " -0.24,\n",
              " -0.22,\n",
              " -0.2,\n",
              " -0.18,\n",
              " -0.16,\n",
              " -0.14,\n",
              " -0.12,\n",
              " -0.1,\n",
              " -0.08,\n",
              " -0.06,\n",
              " -0.04,\n",
              " -0.02,\n",
              " 0.0,\n",
              " 0.02,\n",
              " 0.04,\n",
              " 0.06,\n",
              " 0.08,\n",
              " 0.1,\n",
              " 0.12,\n",
              " 0.14,\n",
              " 0.16,\n",
              " 0.18,\n",
              " 0.2,\n",
              " 0.22,\n",
              " 0.24,\n",
              " 0.26,\n",
              " 0.28,\n",
              " 0.3,\n",
              " 0.32,\n",
              " 0.34,\n",
              " 0.36,\n",
              " 0.38,\n",
              " 0.4,\n",
              " 0.42,\n",
              " 0.44,\n",
              " 0.46,\n",
              " 0.48,\n",
              " 0.5,\n",
              " 0.52,\n",
              " 0.54,\n",
              " 0.56,\n",
              " 0.58,\n",
              " 0.6,\n",
              " 0.62,\n",
              " 0.64,\n",
              " 0.66,\n",
              " 0.68,\n",
              " 0.7,\n",
              " 0.72,\n",
              " 0.74,\n",
              " 0.76,\n",
              " 0.78,\n",
              " 0.8,\n",
              " 0.82,\n",
              " 0.84,\n",
              " 0.86,\n",
              " 0.88,\n",
              " 0.9,\n",
              " 0.92,\n",
              " 0.94,\n",
              " 0.96,\n",
              " 0.98,\n",
              " 1.0,\n",
              " 1.02,\n",
              " 1.04,\n",
              " 1.06,\n",
              " 1.08,\n",
              " 1.1,\n",
              " 1.12,\n",
              " 1.14,\n",
              " 1.16,\n",
              " 1.18,\n",
              " 1.2,\n",
              " 1.22,\n",
              " 1.24,\n",
              " 1.26,\n",
              " 1.28,\n",
              " 1.3,\n",
              " 1.32,\n",
              " 1.34,\n",
              " 1.36,\n",
              " 1.38,\n",
              " 1.4,\n",
              " 1.42,\n",
              " 1.44,\n",
              " 1.46,\n",
              " 1.48,\n",
              " 1.5,\n",
              " 1.52,\n",
              " 1.54,\n",
              " 1.56,\n",
              " 1.58,\n",
              " 1.6,\n",
              " 1.62,\n",
              " 1.64,\n",
              " 1.66,\n",
              " 1.68,\n",
              " 1.7,\n",
              " 1.72,\n",
              " 1.74,\n",
              " 1.76,\n",
              " 1.78,\n",
              " 1.8,\n",
              " 1.82,\n",
              " 1.84,\n",
              " 1.86,\n",
              " 1.88,\n",
              " 1.9,\n",
              " 1.92,\n",
              " 1.94,\n",
              " 1.96,\n",
              " 1.98,\n",
              " 2.0,\n",
              " 2.02,\n",
              " 2.04,\n",
              " 2.06,\n",
              " 2.08,\n",
              " 2.1,\n",
              " 2.12,\n",
              " 2.14,\n",
              " 2.16,\n",
              " 2.18,\n",
              " 2.2,\n",
              " 2.22,\n",
              " 2.24,\n",
              " 2.26,\n",
              " 2.28,\n",
              " 2.3,\n",
              " 2.32,\n",
              " 2.34,\n",
              " 2.36,\n",
              " 2.38,\n",
              " 2.4,\n",
              " 2.42,\n",
              " 2.44,\n",
              " 2.46,\n",
              " 2.48,\n",
              " 2.5,\n",
              " 2.52,\n",
              " 2.54,\n",
              " 2.56,\n",
              " 2.58,\n",
              " 2.6,\n",
              " 2.62,\n",
              " 2.64,\n",
              " 2.66,\n",
              " 2.68,\n",
              " 2.7,\n",
              " 2.72,\n",
              " 2.74,\n",
              " 2.76,\n",
              " 2.78,\n",
              " 2.8,\n",
              " 2.82,\n",
              " 2.84,\n",
              " 2.86,\n",
              " 2.88,\n",
              " 2.9,\n",
              " 2.92,\n",
              " 2.94,\n",
              " 2.96,\n",
              " 2.98,\n",
              " 3.0,\n",
              " 3.02,\n",
              " 3.04,\n",
              " 3.06,\n",
              " 3.08,\n",
              " 3.1,\n",
              " 3.12,\n",
              " 3.14,\n",
              " 3.16,\n",
              " 3.18,\n",
              " 3.2,\n",
              " 3.22,\n",
              " 3.24,\n",
              " 3.26,\n",
              " 3.28,\n",
              " 3.3,\n",
              " 3.32,\n",
              " 3.34,\n",
              " 3.36,\n",
              " 3.38,\n",
              " 3.4,\n",
              " 3.42,\n",
              " 3.44,\n",
              " 3.46,\n",
              " 3.48,\n",
              " 3.5,\n",
              " 3.52,\n",
              " 3.54,\n",
              " 3.56,\n",
              " 3.58,\n",
              " 3.6,\n",
              " 3.62,\n",
              " 3.64,\n",
              " 3.66,\n",
              " 3.68,\n",
              " 3.7,\n",
              " 3.72,\n",
              " 3.74,\n",
              " 3.76,\n",
              " 3.78,\n",
              " 3.8,\n",
              " 3.82,\n",
              " 3.84,\n",
              " 3.86,\n",
              " 3.88,\n",
              " 3.9,\n",
              " 3.92,\n",
              " 3.94,\n",
              " 3.96,\n",
              " 3.98,\n",
              " 4.0,\n",
              " 4.02,\n",
              " 4.04,\n",
              " 4.06,\n",
              " 4.08,\n",
              " 4.1,\n",
              " 4.12,\n",
              " 4.14,\n",
              " 4.16,\n",
              " 4.18,\n",
              " 4.2,\n",
              " 4.22,\n",
              " 4.24,\n",
              " 4.26,\n",
              " 4.28,\n",
              " 4.3,\n",
              " 4.32,\n",
              " 4.34,\n",
              " 4.36,\n",
              " 4.38,\n",
              " 4.4,\n",
              " 4.42,\n",
              " 4.44,\n",
              " 4.46,\n",
              " 4.48,\n",
              " 4.5,\n",
              " 4.52,\n",
              " 4.54,\n",
              " 4.56,\n",
              " 4.58,\n",
              " 4.6,\n",
              " 4.62,\n",
              " 4.64,\n",
              " 4.66,\n",
              " 4.68,\n",
              " 4.7,\n",
              " 4.72,\n",
              " 4.74,\n",
              " 4.76,\n",
              " 4.78,\n",
              " 4.8,\n",
              " 4.82,\n",
              " 4.84,\n",
              " 4.86,\n",
              " 4.88,\n",
              " 4.9,\n",
              " 4.92,\n",
              " 4.94,\n",
              " 4.96,\n",
              " 4.98,\n",
              " 5.0]"
            ]
          },
          "execution_count": 4,
          "metadata": {},
          "output_type": "execute_result"
        }
      ],
      "source": [
        "# Let's plot this function\n",
        "# First, let's make many x candidates\n",
        "# from -5 to 5, with 500 total x\n",
        "\n",
        "xs = [i for i in range(500)]\n",
        "xs = [(i-250)/50 for i in range(501)]\n",
        "xs"
      ]
    },
    {
      "cell_type": "code",
      "execution_count": null,
      "metadata": {
        "id": "wVatQ4InEUQ0"
      },
      "outputs": [],
      "source": [
        "# y = f(x)\n",
        "ys = [my_function(x) for x in xs]\n",
        "ys"
      ]
    },
    {
      "cell_type": "code",
      "execution_count": 6,
      "metadata": {
        "colab": {
          "base_uri": "https://localhost:8080/"
        },
        "id": "bQDsS3vnEjRu",
        "outputId": "e02ebc4f-db40-4e6f-b9c8-b071abc743fc"
      },
      "outputs": [
        {
          "data": {
            "text/plain": [
              "(501, 501)"
            ]
          },
          "execution_count": 6,
          "metadata": {},
          "output_type": "execute_result"
        }
      ],
      "source": [
        "len(xs), len(ys)"
      ]
    },
    {
      "cell_type": "code",
      "execution_count": 7,
      "metadata": {
        "colab": {
          "base_uri": "https://localhost:8080/"
        },
        "id": "sv58AK2kEmun",
        "outputId": "ba063789-af0c-4a73-ba86-efbbf5e38339"
      },
      "outputs": [
        {
          "data": {
            "text/plain": [
              "(-4.54, -8.58, -8.58)"
            ]
          },
          "execution_count": 7,
          "metadata": {},
          "output_type": "execute_result"
        }
      ],
      "source": [
        "idx = 23\n",
        "xs[23], ys[23], my_function(xs[23])"
      ]
    },
    {
      "cell_type": "code",
      "execution_count": 8,
      "metadata": {
        "colab": {
          "base_uri": "https://localhost:8080/",
          "height": 448
        },
        "id": "IGch1r6HE2sl",
        "outputId": "fbc73bb8-9d04-4b33-ecbd-472f6162d6b9"
      },
      "outputs": [
        {
          "data": {
            "text/plain": [
              "<matplotlib.collections.PathCollection at 0x7a93770253f0>"
            ]
          },
          "execution_count": 8,
          "metadata": {},
          "output_type": "execute_result"
        },
        {
          "data": {
            "image/png": "[encoded data removed]",
            "text/plain": [
              "<Figure size 640x480 with 1 Axes>"
            ]
          },
          "metadata": {},
          "output_type": "display_data"
        }
      ],
      "source": [
        "import matplotlib.pyplot as plt\n",
        "\n",
        "plt.scatter(x=xs, y=ys)"
      ]
    },
    {
      "cell_type": "code",
      "execution_count": 17,
      "metadata": {
        "id": "JmJxSsBSFKzo"
      },
      "outputs": [],
      "source": [
        "# Let's add some noise\n",
        "import random\n",
        "random.random() # return a random float value between 0 and 1\n",
        "\n",
        "ys_noise = [my_function(x) + (random.random()-0.5)*2  for x in xs]"
      ]
    },
    {
      "cell_type": "code",
      "execution_count": 18,
      "metadata": {
        "colab": {
          "base_uri": "https://localhost:8080/",
          "height": 448
        },
        "id": "4uuc-dMbFKsx",
        "outputId": "a0c7257d-fef3-41c8-c765-d37e6b358e98"
      },
      "outputs": [
        {
          "data": {
            "text/plain": [
              "<matplotlib.collections.PathCollection at 0x7a9374ea98a0>"
            ]
          },
          "execution_count": 18,
          "metadata": {},
          "output_type": "execute_result"
        },
        {
          "data": {
            "image/png": "[encoded data removed]",
            "text/plain": [
              "<Figure size 640x480 with 1 Axes>"
            ]
          },
          "metadata": {},
          "output_type": "display_data"
        }
      ],
      "source": [
        "plt.scatter(xs, ys_noise)"
      ]
    },
    {
      "cell_type": "code",
      "execution_count": 26,
      "metadata": {
        "colab": {
          "base_uri": "https://localhost:8080/"
        },
        "id": "MU_PHZ1-F7Qg",
        "outputId": "1c8658c6-43d4-4fcb-f0e8-60d223c32d7d"
      },
      "outputs": [
        {
          "data": {
            "text/plain": [
              "[0.8444218515250481,\n",
              " 0.7579544029403025,\n",
              " 0.420571580830845,\n",
              " 0.25891675029296335,\n",
              " 0.5112747213686085,\n",
              " 0.4049341374504143,\n",
              " 0.7837985890347726,\n",
              " 0.30331272607892745,\n",
              " 0.4765969541523558,\n",
              " 0.5833820394550312]"
            ]
          },
          "execution_count": 26,
          "metadata": {},
          "output_type": "execute_result"
        }
      ],
      "source": [
        "# random is not actually complete random\n",
        "# usually computers uses pseudo-random\n",
        "\n",
        "# random.random() in fact has its destiny. It will always return same value\n",
        "# if the seed is the same\n",
        "\n",
        "random.seed(0)\n",
        "[random.random() for _ in range(10)]\n"
      ]
    },
    {
      "cell_type": "code",
      "execution_count": 22,
      "metadata": {
        "colab": {
          "base_uri": "https://localhost:8080/"
        },
        "id": "ogASDSU9Gb8N",
        "outputId": "1bbf51c3-28ea-42ca-84e1-3cc53edeb71a"
      },
      "outputs": [
        {
          "data": {
            "text/plain": [
              "[0.47700977655271704,\n",
              " 0.8653099277716401,\n",
              " 0.2604923103919594,\n",
              " 0.8050278270130223,\n",
              " 0.5486993038355893,\n",
              " 0.014041700164018955,\n",
              " 0.7197046864039541,\n",
              " 0.39882354222426875,\n",
              " 0.824844977148233,\n",
              " 0.6681532012318508]"
            ]
          },
          "execution_count": 22,
          "metadata": {},
          "output_type": "execute_result"
        }
      ],
      "source": [
        "[random.random() for _ in range(10)]\n"
      ]
    },
    {
      "cell_type": "code",
      "execution_count": 27,
      "metadata": {
        "id": "q9c-7UsFGylJ"
      },
      "outputs": [],
      "source": [
        "a = random.random()\n",
        "b = random.random()\n",
        "\n",
        "ys_noise = [my_function(x) + (random.random()-0.5)  for x in xs]\n"
      ]
    },
    {
      "cell_type": "code",
      "execution_count": 28,
      "metadata": {
        "colab": {
          "base_uri": "https://localhost:8080/",
          "height": 448
        },
        "id": "dqmWx_eXHLzA",
        "outputId": "7a348f12-7321-4749-ba28-d626969210fa"
      },
      "outputs": [
        {
          "data": {
            "text/plain": [
              "<matplotlib.collections.PathCollection at 0x7a93749a5300>"
            ]
          },
          "execution_count": 28,
          "metadata": {},
          "output_type": "execute_result"
        },
        {
          "data": {
            "image/png": "[encoded data removed]",
            "text/plain": [
              "<Figure size 640x480 with 1 Axes>"
            ]
          },
          "metadata": {},
          "output_type": "display_data"
        }
      ],
      "source": [
        "plt.scatter(xs, ys_noise)"
      ]
    },
    {
      "cell_type": "code",
      "execution_count": 38,
      "metadata": {
        "colab": {
          "base_uri": "https://localhost:8080/",
          "height": 448
        },
        "id": "PQMSHCf0HhCc",
        "outputId": "60900da7-f13b-4aba-e2b1-3f91fc000eb2"
      },
      "outputs": [
        {
          "data": {
            "text/plain": [
              "<matplotlib.collections.PathCollection at 0x7a93746cf2e0>"
            ]
          },
          "execution_count": 38,
          "metadata": {},
          "output_type": "execute_result"
        },
        {
          "data": {
            "image/png": "[encoded data removed]",
            "text/plain": [
              "<Figure size 640x480 with 1 Axes>"
            ]
          },
          "metadata": {},
          "output_type": "display_data"
        }
      ],
      "source": [
        "a_est = 0.1\n",
        "b_est = 0.6\n",
        "def my_estimation(x):\n",
        "  return a_est * x + b_est\n",
        "\n",
        "estimations = [my_estimation(x) for x in xs]\n",
        "\n",
        "plt.scatter(xs, ys_noise)\n",
        "plt.scatter(xs, estimations)"
      ]
    },
    {
      "cell_type": "code",
      "execution_count": 40,
      "metadata": {
        "colab": {
          "base_uri": "https://localhost:8080/"
        },
        "id": "wWNEMo0DIh6B",
        "outputId": "024ebe06-f48b-45cd-e12b-4aa24574c80b"
      },
      "outputs": [
        {
          "data": {
            "text/plain": [
              "(0.10000000000000009, 0.09999999999999987)"
            ]
          },
          "execution_count": 40,
          "metadata": {},
          "output_type": "execute_result"
        }
      ],
      "source": [
        "\n",
        "# How can we calculates how good our estimation is?\n",
        "def cal_error(pred, target):\n",
        "  # target is the correct answer, desired output\n",
        "  # prediction is the output of your current model\n",
        "  return abs(pred-target)\n",
        "\n",
        "cal_error(1, 1.1), cal_error(1.2, 1.1)"
      ]
    },
    {
      "cell_type": "code",
      "execution_count": 44,
      "metadata": {
        "colab": {
          "base_uri": "https://localhost:8080/"
        },
        "id": "OBRLWcy9J6fH",
        "outputId": "b0277df9-9c1b-44c8-ad6a-cdfc49a09445"
      },
      "outputs": [
        {
          "data": {
            "text/plain": [
              "2.0281079525463297"
            ]
          },
          "execution_count": 44,
          "metadata": {},
          "output_type": "execute_result"
        }
      ],
      "source": [
        "# compare every value in y_noise and estimation\n",
        "# we have to compare values in the same idx\n",
        "\n",
        "errors = []\n",
        "for i in range(len(ys_noise)):\n",
        "  target = ys_noise[i]\n",
        "  pred = estimations[i]\n",
        "  error = cal_error(pred, target)\n",
        "  errors.append(error)\n",
        "\n",
        "errors = [cal_error(pred, target) for target, pred in zip(ys_noise, estimations)]\n",
        "\n",
        "sum(errors) / len(errors) # mean value of errors"
      ]
    },
    {
      "cell_type": "code",
      "execution_count": 62,
      "metadata": {
        "colab": {
          "base_uri": "https://localhost:8080/"
        },
        "id": "0U_wVFZjK8j2",
        "outputId": "f5febb7f-73c8-472f-fa76-a64959ae41bd"
      },
      "outputs": [
        {
          "data": {
            "text/plain": [
              "0.2567998653631906"
            ]
          },
          "execution_count": 62,
          "metadata": {},
          "output_type": "execute_result"
        }
      ],
      "source": [
        "a_est = 0.91\n",
        "b_est = 0.5\n",
        "\n",
        "estimations = [my_estimation(x) for x in xs]\n",
        "errors = [cal_error(pred, target) for target, pred in zip(ys_noise, estimations)]\n",
        "sum(errors) / len(errors)"
      ]
    },
    {
      "cell_type": "code",
      "execution_count": 63,
      "metadata": {
        "colab": {
          "base_uri": "https://localhost:8080/",
          "height": 448
        },
        "id": "vF7iKKUrLvdF",
        "outputId": "3732d78b-7b53-4c0e-f934-1e7456479210"
      },
      "outputs": [
        {
          "data": {
            "text/plain": [
              "<matplotlib.collections.PathCollection at 0x7a9374337f40>"
            ]
          },
          "execution_count": 63,
          "metadata": {},
          "output_type": "execute_result"
        },
        {
          "data": {
            "image/png": "[encoded data removed]",
            "text/plain": [
              "<Figure size 640x480 with 1 Axes>"
            ]
          },
          "metadata": {},
          "output_type": "display_data"
        }
      ],
      "source": [
        "plt.scatter(xs, ys_noise)\n",
        "plt.scatter(xs, estimations)"
      ]
    },
    {
      "cell_type": "code",
      "execution_count": 67,
      "metadata": {
        "id": "e1LKUQb8MGyW"
      },
      "outputs": [],
      "source": [
        "class ComplexFunction:\n",
        "  def __init__(self):\n",
        "    self.param_a = random.random()\n",
        "    self.param_b = random.random()\n",
        "    self.param_c = random.random()\n",
        "\n",
        "  def __call__(self, x):\n",
        "    return x * self.param_a + x**self.param_c + x**2 * self.param_b + (random.random()-0.5) * 2\n",
        "\n",
        "comp_func = ComplexFunction()\n"
      ]
    },
    {
      "cell_type": "code",
      "execution_count": 68,
      "metadata": {
        "colab": {
          "base_uri": "https://localhost:8080/",
          "height": 504
        },
        "id": "2E8vM70NM0qz",
        "outputId": "cf71bc54-90c0-496d-e04c-2ee4cfa2ffc1"
      },
      "outputs": [
        {
          "name": "stderr",
          "output_type": "stream",
          "text": [
            "/usr/local/lib/python3.10/dist-packages/matplotlib/collections.py:192: ComplexWarning: Casting complex values to real discards the imaginary part\n",
            "  offsets = np.asanyarray(offsets, float)\n"
          ]
        },
        {
          "data": {
            "text/plain": [
              "<matplotlib.collections.PathCollection at 0x7a93746cc8e0>"
            ]
          },
          "execution_count": 68,
          "metadata": {},
          "output_type": "execute_result"
        },
        {
          "data": {
            "image/png": "[encoded data removed]",
            "text/plain": [
              "<Figure size 640x480 with 1 Axes>"
            ]
          },
          "metadata": {},
          "output_type": "display_data"
        }
      ],
      "source": [
        "ys_comp = [comp_func(x) for x in xs]\n",
        "plt.scatter(xs, ys_comp)"
      ]
    },
    {
      "cell_type": "code",
      "execution_count": null,
      "metadata": {
        "id": "TsGvqTWSNPqr"
      },
      "outputs": [],
      "source": [
        "import torch\n"
      ]
    },
    {
      "cell_type": "markdown",
      "metadata": {},
      "source": [
        "### Update plot in for loop\n",
        "```\n",
        "from IPython import display\n",
        "import matplotlib.pyplot as plt\n",
        "\n",
        "for i in range(10):\n",
        "  plt.plot([i], [i], 'o')\n",
        "  display.clear_output(wait=True)\n",
        "  display.display(plt.gcf())\n",
        "  plt.close()\n",
        "```"
      ]
    },
    {
      "cell_type": "markdown",
      "metadata": {
        "id": "KJa9y0jJBqnJ"
      },
      "source": [
        "## 2. Regression with Multiple Variables\n",
        "  - e.g.: Predict wine quality based on features like acidity, sugar content, and alcohol level."
      ]
    },
    {
      "cell_type": "markdown",
      "metadata": {
        "id": "BJ8sA5wyBqnJ"
      },
      "source": []
    }
  ],
  "metadata": {
    "colab": {
      "include_colab_link": true,
      "provenance": []
    },
    "kernelspec": {
      "display_name": "Python 3",
      "language": "python",
      "name": "python3"
    },
    "language_info": {
      "name": "python",
      "version": "3.8.10"
    },
    "orig_nbformat": 4
  },
  "nbformat": 4,
  "nbformat_minor": 0
}
