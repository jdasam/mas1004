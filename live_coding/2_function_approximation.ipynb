{
  "cells": [
    {
      "cell_type": "markdown",
      "metadata": {
        "id": "view-in-github",
        "colab_type": "text"
      },
      "source": [
        "<a href=\"https://colab.research.google.com/github/jdasam/mas1004-2023/blob/main/live_coding/2_function_approximation.ipynb\" target=\"_parent\"><img src=\"https://colab.research.google.com/assets/colab-badge.svg\" alt=\"Open In Colab\"/></a>"
      ]
    },
    {
      "cell_type": "markdown",
      "metadata": {
        "id": "6K89yBL1BqnI"
      },
      "source": [
        "# Function Approximation\n",
        "## 1. Regression with One Variable\n",
        "- Regression:\n",
        "  - Process of training a model to predict a **continuous** numerical output based on one or more input features.\n",
        "  - e.g.: Predicts the child's height based on the parent's height.\n",
        "  - Why is it named \"regression\"?:\n",
        "    - The term was first used by Sir Francis Galton, a British statistician and cousin of Charles Darwin, in the late 19th century. Galton was studying the relationship between heights of parents and their children. He observed that although tall parents often had tall children, the children's heights tended to \"regress\" towards the average or mean height of the population. Similarly, children of short parents were often short but their heights still regressed towards the average."
      ]
    },
    {
      "cell_type": "code",
      "execution_count": 22,
      "metadata": {
        "colab": {
          "base_uri": "https://localhost:8080/"
        },
        "id": "1HkqNYWTBqnJ",
        "outputId": "f09780cc-cb3c-41d6-e340-75a8028f79ca"
      },
      "outputs": [
        {
          "output_type": "execute_result",
          "data": {
            "text/plain": [
              "2.5"
            ]
          },
          "metadata": {},
          "execution_count": 22
        }
      ],
      "source": [
        "# Let's make function that works as f(x) = ax+b\n",
        "\n",
        "a = 2\n",
        "b = 0.5\n",
        "def my_function(x):\n",
        "  return a*x + b\n",
        "\n",
        "my_function(1)"
      ]
    },
    {
      "cell_type": "code",
      "execution_count": 23,
      "metadata": {
        "colab": {
          "base_uri": "https://localhost:8080/"
        },
        "id": "qbcrAnKGDGtE",
        "outputId": "8d3a1615-5a50-4bcf-addd-a40a268cd264"
      },
      "outputs": [
        {
          "output_type": "execute_result",
          "data": {
            "text/plain": [
              "[-5.0,\n",
              " -4.98,\n",
              " -4.96,\n",
              " -4.94,\n",
              " -4.92,\n",
              " -4.9,\n",
              " -4.88,\n",
              " -4.86,\n",
              " -4.84,\n",
              " -4.82,\n",
              " -4.8,\n",
              " -4.78,\n",
              " -4.76,\n",
              " -4.74,\n",
              " -4.72,\n",
              " -4.7,\n",
              " -4.68,\n",
              " -4.66,\n",
              " -4.64,\n",
              " -4.62,\n",
              " -4.6,\n",
              " -4.58,\n",
              " -4.56,\n",
              " -4.54,\n",
              " -4.52,\n",
              " -4.5,\n",
              " -4.48,\n",
              " -4.46,\n",
              " -4.44,\n",
              " -4.42,\n",
              " -4.4,\n",
              " -4.38,\n",
              " -4.36,\n",
              " -4.34,\n",
              " -4.32,\n",
              " -4.3,\n",
              " -4.28,\n",
              " -4.26,\n",
              " -4.24,\n",
              " -4.22,\n",
              " -4.2,\n",
              " -4.18,\n",
              " -4.16,\n",
              " -4.14,\n",
              " -4.12,\n",
              " -4.1,\n",
              " -4.08,\n",
              " -4.06,\n",
              " -4.04,\n",
              " -4.02,\n",
              " -4.0,\n",
              " -3.98,\n",
              " -3.96,\n",
              " -3.94,\n",
              " -3.92,\n",
              " -3.9,\n",
              " -3.88,\n",
              " -3.86,\n",
              " -3.84,\n",
              " -3.82,\n",
              " -3.8,\n",
              " -3.78,\n",
              " -3.76,\n",
              " -3.74,\n",
              " -3.72,\n",
              " -3.7,\n",
              " -3.68,\n",
              " -3.66,\n",
              " -3.64,\n",
              " -3.62,\n",
              " -3.6,\n",
              " -3.58,\n",
              " -3.56,\n",
              " -3.54,\n",
              " -3.52,\n",
              " -3.5,\n",
              " -3.48,\n",
              " -3.46,\n",
              " -3.44,\n",
              " -3.42,\n",
              " -3.4,\n",
              " -3.38,\n",
              " -3.36,\n",
              " -3.34,\n",
              " -3.32,\n",
              " -3.3,\n",
              " -3.28,\n",
              " -3.26,\n",
              " -3.24,\n",
              " -3.22,\n",
              " -3.2,\n",
              " -3.18,\n",
              " -3.16,\n",
              " -3.14,\n",
              " -3.12,\n",
              " -3.1,\n",
              " -3.08,\n",
              " -3.06,\n",
              " -3.04,\n",
              " -3.02,\n",
              " -3.0,\n",
              " -2.98,\n",
              " -2.96,\n",
              " -2.94,\n",
              " -2.92,\n",
              " -2.9,\n",
              " -2.88,\n",
              " -2.86,\n",
              " -2.84,\n",
              " -2.82,\n",
              " -2.8,\n",
              " -2.78,\n",
              " -2.76,\n",
              " -2.74,\n",
              " -2.72,\n",
              " -2.7,\n",
              " -2.68,\n",
              " -2.66,\n",
              " -2.64,\n",
              " -2.62,\n",
              " -2.6,\n",
              " -2.58,\n",
              " -2.56,\n",
              " -2.54,\n",
              " -2.52,\n",
              " -2.5,\n",
              " -2.48,\n",
              " -2.46,\n",
              " -2.44,\n",
              " -2.42,\n",
              " -2.4,\n",
              " -2.38,\n",
              " -2.36,\n",
              " -2.34,\n",
              " -2.32,\n",
              " -2.3,\n",
              " -2.28,\n",
              " -2.26,\n",
              " -2.24,\n",
              " -2.22,\n",
              " -2.2,\n",
              " -2.18,\n",
              " -2.16,\n",
              " -2.14,\n",
              " -2.12,\n",
              " -2.1,\n",
              " -2.08,\n",
              " -2.06,\n",
              " -2.04,\n",
              " -2.02,\n",
              " -2.0,\n",
              " -1.98,\n",
              " -1.96,\n",
              " -1.94,\n",
              " -1.92,\n",
              " -1.9,\n",
              " -1.88,\n",
              " -1.86,\n",
              " -1.84,\n",
              " -1.82,\n",
              " -1.8,\n",
              " -1.78,\n",
              " -1.76,\n",
              " -1.74,\n",
              " -1.72,\n",
              " -1.7,\n",
              " -1.68,\n",
              " -1.66,\n",
              " -1.64,\n",
              " -1.62,\n",
              " -1.6,\n",
              " -1.58,\n",
              " -1.56,\n",
              " -1.54,\n",
              " -1.52,\n",
              " -1.5,\n",
              " -1.48,\n",
              " -1.46,\n",
              " -1.44,\n",
              " -1.42,\n",
              " -1.4,\n",
              " -1.38,\n",
              " -1.36,\n",
              " -1.34,\n",
              " -1.32,\n",
              " -1.3,\n",
              " -1.28,\n",
              " -1.26,\n",
              " -1.24,\n",
              " -1.22,\n",
              " -1.2,\n",
              " -1.18,\n",
              " -1.16,\n",
              " -1.14,\n",
              " -1.12,\n",
              " -1.1,\n",
              " -1.08,\n",
              " -1.06,\n",
              " -1.04,\n",
              " -1.02,\n",
              " -1.0,\n",
              " -0.98,\n",
              " -0.96,\n",
              " -0.94,\n",
              " -0.92,\n",
              " -0.9,\n",
              " -0.88,\n",
              " -0.86,\n",
              " -0.84,\n",
              " -0.82,\n",
              " -0.8,\n",
              " -0.78,\n",
              " -0.76,\n",
              " -0.74,\n",
              " -0.72,\n",
              " -0.7,\n",
              " -0.68,\n",
              " -0.66,\n",
              " -0.64,\n",
              " -0.62,\n",
              " -0.6,\n",
              " -0.58,\n",
              " -0.56,\n",
              " -0.54,\n",
              " -0.52,\n",
              " -0.5,\n",
              " -0.48,\n",
              " -0.46,\n",
              " -0.44,\n",
              " -0.42,\n",
              " -0.4,\n",
              " -0.38,\n",
              " -0.36,\n",
              " -0.34,\n",
              " -0.32,\n",
              " -0.3,\n",
              " -0.28,\n",
              " -0.26,\n",
              " -0.24,\n",
              " -0.22,\n",
              " -0.2,\n",
              " -0.18,\n",
              " -0.16,\n",
              " -0.14,\n",
              " -0.12,\n",
              " -0.1,\n",
              " -0.08,\n",
              " -0.06,\n",
              " -0.04,\n",
              " -0.02,\n",
              " 0.0,\n",
              " 0.02,\n",
              " 0.04,\n",
              " 0.06,\n",
              " 0.08,\n",
              " 0.1,\n",
              " 0.12,\n",
              " 0.14,\n",
              " 0.16,\n",
              " 0.18,\n",
              " 0.2,\n",
              " 0.22,\n",
              " 0.24,\n",
              " 0.26,\n",
              " 0.28,\n",
              " 0.3,\n",
              " 0.32,\n",
              " 0.34,\n",
              " 0.36,\n",
              " 0.38,\n",
              " 0.4,\n",
              " 0.42,\n",
              " 0.44,\n",
              " 0.46,\n",
              " 0.48,\n",
              " 0.5,\n",
              " 0.52,\n",
              " 0.54,\n",
              " 0.56,\n",
              " 0.58,\n",
              " 0.6,\n",
              " 0.62,\n",
              " 0.64,\n",
              " 0.66,\n",
              " 0.68,\n",
              " 0.7,\n",
              " 0.72,\n",
              " 0.74,\n",
              " 0.76,\n",
              " 0.78,\n",
              " 0.8,\n",
              " 0.82,\n",
              " 0.84,\n",
              " 0.86,\n",
              " 0.88,\n",
              " 0.9,\n",
              " 0.92,\n",
              " 0.94,\n",
              " 0.96,\n",
              " 0.98,\n",
              " 1.0,\n",
              " 1.02,\n",
              " 1.04,\n",
              " 1.06,\n",
              " 1.08,\n",
              " 1.1,\n",
              " 1.12,\n",
              " 1.14,\n",
              " 1.16,\n",
              " 1.18,\n",
              " 1.2,\n",
              " 1.22,\n",
              " 1.24,\n",
              " 1.26,\n",
              " 1.28,\n",
              " 1.3,\n",
              " 1.32,\n",
              " 1.34,\n",
              " 1.36,\n",
              " 1.38,\n",
              " 1.4,\n",
              " 1.42,\n",
              " 1.44,\n",
              " 1.46,\n",
              " 1.48,\n",
              " 1.5,\n",
              " 1.52,\n",
              " 1.54,\n",
              " 1.56,\n",
              " 1.58,\n",
              " 1.6,\n",
              " 1.62,\n",
              " 1.64,\n",
              " 1.66,\n",
              " 1.68,\n",
              " 1.7,\n",
              " 1.72,\n",
              " 1.74,\n",
              " 1.76,\n",
              " 1.78,\n",
              " 1.8,\n",
              " 1.82,\n",
              " 1.84,\n",
              " 1.86,\n",
              " 1.88,\n",
              " 1.9,\n",
              " 1.92,\n",
              " 1.94,\n",
              " 1.96,\n",
              " 1.98,\n",
              " 2.0,\n",
              " 2.02,\n",
              " 2.04,\n",
              " 2.06,\n",
              " 2.08,\n",
              " 2.1,\n",
              " 2.12,\n",
              " 2.14,\n",
              " 2.16,\n",
              " 2.18,\n",
              " 2.2,\n",
              " 2.22,\n",
              " 2.24,\n",
              " 2.26,\n",
              " 2.28,\n",
              " 2.3,\n",
              " 2.32,\n",
              " 2.34,\n",
              " 2.36,\n",
              " 2.38,\n",
              " 2.4,\n",
              " 2.42,\n",
              " 2.44,\n",
              " 2.46,\n",
              " 2.48,\n",
              " 2.5,\n",
              " 2.52,\n",
              " 2.54,\n",
              " 2.56,\n",
              " 2.58,\n",
              " 2.6,\n",
              " 2.62,\n",
              " 2.64,\n",
              " 2.66,\n",
              " 2.68,\n",
              " 2.7,\n",
              " 2.72,\n",
              " 2.74,\n",
              " 2.76,\n",
              " 2.78,\n",
              " 2.8,\n",
              " 2.82,\n",
              " 2.84,\n",
              " 2.86,\n",
              " 2.88,\n",
              " 2.9,\n",
              " 2.92,\n",
              " 2.94,\n",
              " 2.96,\n",
              " 2.98,\n",
              " 3.0,\n",
              " 3.02,\n",
              " 3.04,\n",
              " 3.06,\n",
              " 3.08,\n",
              " 3.1,\n",
              " 3.12,\n",
              " 3.14,\n",
              " 3.16,\n",
              " 3.18,\n",
              " 3.2,\n",
              " 3.22,\n",
              " 3.24,\n",
              " 3.26,\n",
              " 3.28,\n",
              " 3.3,\n",
              " 3.32,\n",
              " 3.34,\n",
              " 3.36,\n",
              " 3.38,\n",
              " 3.4,\n",
              " 3.42,\n",
              " 3.44,\n",
              " 3.46,\n",
              " 3.48,\n",
              " 3.5,\n",
              " 3.52,\n",
              " 3.54,\n",
              " 3.56,\n",
              " 3.58,\n",
              " 3.6,\n",
              " 3.62,\n",
              " 3.64,\n",
              " 3.66,\n",
              " 3.68,\n",
              " 3.7,\n",
              " 3.72,\n",
              " 3.74,\n",
              " 3.76,\n",
              " 3.78,\n",
              " 3.8,\n",
              " 3.82,\n",
              " 3.84,\n",
              " 3.86,\n",
              " 3.88,\n",
              " 3.9,\n",
              " 3.92,\n",
              " 3.94,\n",
              " 3.96,\n",
              " 3.98,\n",
              " 4.0,\n",
              " 4.02,\n",
              " 4.04,\n",
              " 4.06,\n",
              " 4.08,\n",
              " 4.1,\n",
              " 4.12,\n",
              " 4.14,\n",
              " 4.16,\n",
              " 4.18,\n",
              " 4.2,\n",
              " 4.22,\n",
              " 4.24,\n",
              " 4.26,\n",
              " 4.28,\n",
              " 4.3,\n",
              " 4.32,\n",
              " 4.34,\n",
              " 4.36,\n",
              " 4.38,\n",
              " 4.4,\n",
              " 4.42,\n",
              " 4.44,\n",
              " 4.46,\n",
              " 4.48,\n",
              " 4.5,\n",
              " 4.52,\n",
              " 4.54,\n",
              " 4.56,\n",
              " 4.58,\n",
              " 4.6,\n",
              " 4.62,\n",
              " 4.64,\n",
              " 4.66,\n",
              " 4.68,\n",
              " 4.7,\n",
              " 4.72,\n",
              " 4.74,\n",
              " 4.76,\n",
              " 4.78,\n",
              " 4.8,\n",
              " 4.82,\n",
              " 4.84,\n",
              " 4.86,\n",
              " 4.88,\n",
              " 4.9,\n",
              " 4.92,\n",
              " 4.94,\n",
              " 4.96,\n",
              " 4.98,\n",
              " 5.0]"
            ]
          },
          "metadata": {},
          "execution_count": 23
        }
      ],
      "source": [
        "# Let's plot this function\n",
        "# First, let's make many x candidates\n",
        "# from -5 to 5, with 500 total x\n",
        "\n",
        "xs = [i for i in range(500)]\n",
        "xs = [(i-250)/50 for i in range(501)]\n",
        "xs"
      ]
    },
    {
      "cell_type": "code",
      "execution_count": 24,
      "metadata": {
        "id": "wVatQ4InEUQ0",
        "outputId": "2add7f02-40c6-47b8-bbf9-6006ad34fa0f",
        "colab": {
          "base_uri": "https://localhost:8080/"
        }
      },
      "outputs": [
        {
          "output_type": "execute_result",
          "data": {
            "text/plain": [
              "[-9.5,\n",
              " -9.46,\n",
              " -9.42,\n",
              " -9.38,\n",
              " -9.34,\n",
              " -9.3,\n",
              " -9.26,\n",
              " -9.22,\n",
              " -9.18,\n",
              " -9.14,\n",
              " -9.1,\n",
              " -9.06,\n",
              " -9.02,\n",
              " -8.98,\n",
              " -8.94,\n",
              " -8.9,\n",
              " -8.86,\n",
              " -8.82,\n",
              " -8.78,\n",
              " -8.74,\n",
              " -8.7,\n",
              " -8.66,\n",
              " -8.62,\n",
              " -8.58,\n",
              " -8.54,\n",
              " -8.5,\n",
              " -8.46,\n",
              " -8.42,\n",
              " -8.38,\n",
              " -8.34,\n",
              " -8.3,\n",
              " -8.26,\n",
              " -8.22,\n",
              " -8.18,\n",
              " -8.14,\n",
              " -8.1,\n",
              " -8.06,\n",
              " -8.02,\n",
              " -7.98,\n",
              " -7.9399999999999995,\n",
              " -7.9,\n",
              " -7.859999999999999,\n",
              " -7.82,\n",
              " -7.779999999999999,\n",
              " -7.74,\n",
              " -7.699999999999999,\n",
              " -7.66,\n",
              " -7.619999999999999,\n",
              " -7.58,\n",
              " -7.539999999999999,\n",
              " -7.5,\n",
              " -7.46,\n",
              " -7.42,\n",
              " -7.38,\n",
              " -7.34,\n",
              " -7.3,\n",
              " -7.26,\n",
              " -7.22,\n",
              " -7.18,\n",
              " -7.14,\n",
              " -7.1,\n",
              " -7.06,\n",
              " -7.02,\n",
              " -6.98,\n",
              " -6.94,\n",
              " -6.9,\n",
              " -6.86,\n",
              " -6.82,\n",
              " -6.78,\n",
              " -6.74,\n",
              " -6.7,\n",
              " -6.66,\n",
              " -6.62,\n",
              " -6.58,\n",
              " -6.54,\n",
              " -6.5,\n",
              " -6.46,\n",
              " -6.42,\n",
              " -6.38,\n",
              " -6.34,\n",
              " -6.3,\n",
              " -6.26,\n",
              " -6.22,\n",
              " -6.18,\n",
              " -6.14,\n",
              " -6.1,\n",
              " -6.06,\n",
              " -6.02,\n",
              " -5.98,\n",
              " -5.94,\n",
              " -5.9,\n",
              " -5.86,\n",
              " -5.82,\n",
              " -5.78,\n",
              " -5.74,\n",
              " -5.7,\n",
              " -5.66,\n",
              " -5.62,\n",
              " -5.58,\n",
              " -5.54,\n",
              " -5.5,\n",
              " -5.46,\n",
              " -5.42,\n",
              " -5.38,\n",
              " -5.34,\n",
              " -5.3,\n",
              " -5.26,\n",
              " -5.22,\n",
              " -5.18,\n",
              " -5.14,\n",
              " -5.1,\n",
              " -5.06,\n",
              " -5.02,\n",
              " -4.98,\n",
              " -4.94,\n",
              " -4.9,\n",
              " -4.86,\n",
              " -4.82,\n",
              " -4.78,\n",
              " -4.74,\n",
              " -4.7,\n",
              " -4.66,\n",
              " -4.62,\n",
              " -4.58,\n",
              " -4.54,\n",
              " -4.5,\n",
              " -4.46,\n",
              " -4.42,\n",
              " -4.38,\n",
              " -4.34,\n",
              " -4.3,\n",
              " -4.26,\n",
              " -4.22,\n",
              " -4.18,\n",
              " -4.14,\n",
              " -4.1,\n",
              " -4.06,\n",
              " -4.02,\n",
              " -3.9800000000000004,\n",
              " -3.9400000000000004,\n",
              " -3.9000000000000004,\n",
              " -3.8600000000000003,\n",
              " -3.8200000000000003,\n",
              " -3.7800000000000002,\n",
              " -3.74,\n",
              " -3.7,\n",
              " -3.66,\n",
              " -3.62,\n",
              " -3.58,\n",
              " -3.54,\n",
              " -3.5,\n",
              " -3.46,\n",
              " -3.42,\n",
              " -3.38,\n",
              " -3.34,\n",
              " -3.3,\n",
              " -3.26,\n",
              " -3.22,\n",
              " -3.18,\n",
              " -3.14,\n",
              " -3.1,\n",
              " -3.06,\n",
              " -3.02,\n",
              " -2.98,\n",
              " -2.94,\n",
              " -2.9,\n",
              " -2.86,\n",
              " -2.82,\n",
              " -2.78,\n",
              " -2.74,\n",
              " -2.7,\n",
              " -2.66,\n",
              " -2.62,\n",
              " -2.58,\n",
              " -2.54,\n",
              " -2.5,\n",
              " -2.46,\n",
              " -2.42,\n",
              " -2.38,\n",
              " -2.34,\n",
              " -2.3,\n",
              " -2.26,\n",
              " -2.22,\n",
              " -2.18,\n",
              " -2.14,\n",
              " -2.1,\n",
              " -2.06,\n",
              " -2.02,\n",
              " -1.98,\n",
              " -1.94,\n",
              " -1.9,\n",
              " -1.8599999999999999,\n",
              " -1.8199999999999998,\n",
              " -1.7799999999999998,\n",
              " -1.7400000000000002,\n",
              " -1.7000000000000002,\n",
              " -1.6600000000000001,\n",
              " -1.62,\n",
              " -1.58,\n",
              " -1.54,\n",
              " -1.5,\n",
              " -1.46,\n",
              " -1.42,\n",
              " -1.38,\n",
              " -1.34,\n",
              " -1.3,\n",
              " -1.26,\n",
              " -1.22,\n",
              " -1.18,\n",
              " -1.14,\n",
              " -1.1,\n",
              " -1.06,\n",
              " -1.02,\n",
              " -0.98,\n",
              " -0.94,\n",
              " -0.8999999999999999,\n",
              " -0.8600000000000001,\n",
              " -0.8200000000000001,\n",
              " -0.78,\n",
              " -0.74,\n",
              " -0.7,\n",
              " -0.6599999999999999,\n",
              " -0.6200000000000001,\n",
              " -0.5800000000000001,\n",
              " -0.54,\n",
              " -0.5,\n",
              " -0.45999999999999996,\n",
              " -0.42000000000000004,\n",
              " -0.38,\n",
              " -0.33999999999999997,\n",
              " -0.30000000000000004,\n",
              " -0.26,\n",
              " -0.21999999999999997,\n",
              " -0.18000000000000005,\n",
              " -0.14,\n",
              " -0.09999999999999998,\n",
              " -0.06000000000000005,\n",
              " -0.020000000000000018,\n",
              " 0.020000000000000018,\n",
              " 0.06,\n",
              " 0.09999999999999998,\n",
              " 0.14,\n",
              " 0.18,\n",
              " 0.21999999999999997,\n",
              " 0.26,\n",
              " 0.3,\n",
              " 0.33999999999999997,\n",
              " 0.38,\n",
              " 0.42,\n",
              " 0.46,\n",
              " 0.5,\n",
              " 0.54,\n",
              " 0.58,\n",
              " 0.62,\n",
              " 0.66,\n",
              " 0.7,\n",
              " 0.74,\n",
              " 0.78,\n",
              " 0.8200000000000001,\n",
              " 0.86,\n",
              " 0.9,\n",
              " 0.94,\n",
              " 0.98,\n",
              " 1.02,\n",
              " 1.06,\n",
              " 1.1,\n",
              " 1.1400000000000001,\n",
              " 1.1800000000000002,\n",
              " 1.22,\n",
              " 1.26,\n",
              " 1.3,\n",
              " 1.3399999999999999,\n",
              " 1.38,\n",
              " 1.42,\n",
              " 1.46,\n",
              " 1.5,\n",
              " 1.54,\n",
              " 1.58,\n",
              " 1.62,\n",
              " 1.66,\n",
              " 1.7,\n",
              " 1.74,\n",
              " 1.78,\n",
              " 1.82,\n",
              " 1.86,\n",
              " 1.9,\n",
              " 1.94,\n",
              " 1.98,\n",
              " 2.02,\n",
              " 2.06,\n",
              " 2.1,\n",
              " 2.1399999999999997,\n",
              " 2.1799999999999997,\n",
              " 2.2199999999999998,\n",
              " 2.26,\n",
              " 2.3,\n",
              " 2.34,\n",
              " 2.38,\n",
              " 2.42,\n",
              " 2.46,\n",
              " 2.5,\n",
              " 2.54,\n",
              " 2.58,\n",
              " 2.62,\n",
              " 2.66,\n",
              " 2.7,\n",
              " 2.74,\n",
              " 2.78,\n",
              " 2.82,\n",
              " 2.86,\n",
              " 2.9,\n",
              " 2.94,\n",
              " 2.98,\n",
              " 3.02,\n",
              " 3.06,\n",
              " 3.1,\n",
              " 3.14,\n",
              " 3.18,\n",
              " 3.22,\n",
              " 3.26,\n",
              " 3.3,\n",
              " 3.34,\n",
              " 3.38,\n",
              " 3.42,\n",
              " 3.46,\n",
              " 3.5,\n",
              " 3.54,\n",
              " 3.58,\n",
              " 3.62,\n",
              " 3.66,\n",
              " 3.7,\n",
              " 3.74,\n",
              " 3.78,\n",
              " 3.82,\n",
              " 3.86,\n",
              " 3.9,\n",
              " 3.94,\n",
              " 3.98,\n",
              " 4.02,\n",
              " 4.0600000000000005,\n",
              " 4.1,\n",
              " 4.140000000000001,\n",
              " 4.18,\n",
              " 4.220000000000001,\n",
              " 4.26,\n",
              " 4.3,\n",
              " 4.34,\n",
              " 4.38,\n",
              " 4.42,\n",
              " 4.46,\n",
              " 4.5,\n",
              " 4.54,\n",
              " 4.58,\n",
              " 4.62,\n",
              " 4.66,\n",
              " 4.7,\n",
              " 4.74,\n",
              " 4.78,\n",
              " 4.82,\n",
              " 4.86,\n",
              " 4.9,\n",
              " 4.94,\n",
              " 4.98,\n",
              " 5.02,\n",
              " 5.06,\n",
              " 5.1,\n",
              " 5.14,\n",
              " 5.18,\n",
              " 5.22,\n",
              " 5.26,\n",
              " 5.3,\n",
              " 5.34,\n",
              " 5.38,\n",
              " 5.42,\n",
              " 5.46,\n",
              " 5.5,\n",
              " 5.54,\n",
              " 5.58,\n",
              " 5.62,\n",
              " 5.66,\n",
              " 5.7,\n",
              " 5.74,\n",
              " 5.78,\n",
              " 5.82,\n",
              " 5.86,\n",
              " 5.9,\n",
              " 5.94,\n",
              " 5.98,\n",
              " 6.02,\n",
              " 6.06,\n",
              " 6.1,\n",
              " 6.14,\n",
              " 6.18,\n",
              " 6.22,\n",
              " 6.26,\n",
              " 6.3,\n",
              " 6.34,\n",
              " 6.38,\n",
              " 6.42,\n",
              " 6.46,\n",
              " 6.5,\n",
              " 6.54,\n",
              " 6.58,\n",
              " 6.62,\n",
              " 6.66,\n",
              " 6.7,\n",
              " 6.74,\n",
              " 6.78,\n",
              " 6.82,\n",
              " 6.86,\n",
              " 6.9,\n",
              " 6.94,\n",
              " 6.98,\n",
              " 7.02,\n",
              " 7.06,\n",
              " 7.1,\n",
              " 7.14,\n",
              " 7.18,\n",
              " 7.22,\n",
              " 7.26,\n",
              " 7.3,\n",
              " 7.34,\n",
              " 7.38,\n",
              " 7.42,\n",
              " 7.46,\n",
              " 7.5,\n",
              " 7.54,\n",
              " 7.58,\n",
              " 7.62,\n",
              " 7.66,\n",
              " 7.7,\n",
              " 7.74,\n",
              " 7.78,\n",
              " 7.82,\n",
              " 7.86,\n",
              " 7.9,\n",
              " 7.94,\n",
              " 7.98,\n",
              " 8.02,\n",
              " 8.059999999999999,\n",
              " 8.1,\n",
              " 8.14,\n",
              " 8.18,\n",
              " 8.219999999999999,\n",
              " 8.26,\n",
              " 8.3,\n",
              " 8.34,\n",
              " 8.379999999999999,\n",
              " 8.42,\n",
              " 8.46,\n",
              " 8.5,\n",
              " 8.54,\n",
              " 8.58,\n",
              " 8.62,\n",
              " 8.66,\n",
              " 8.7,\n",
              " 8.74,\n",
              " 8.78,\n",
              " 8.82,\n",
              " 8.86,\n",
              " 8.9,\n",
              " 8.94,\n",
              " 8.98,\n",
              " 9.02,\n",
              " 9.06,\n",
              " 9.1,\n",
              " 9.14,\n",
              " 9.18,\n",
              " 9.22,\n",
              " 9.26,\n",
              " 9.3,\n",
              " 9.34,\n",
              " 9.38,\n",
              " 9.42,\n",
              " 9.46,\n",
              " 9.5,\n",
              " 9.54,\n",
              " 9.58,\n",
              " 9.62,\n",
              " 9.66,\n",
              " 9.7,\n",
              " 9.74,\n",
              " 9.78,\n",
              " 9.82,\n",
              " 9.86,\n",
              " 9.9,\n",
              " 9.94,\n",
              " 9.98,\n",
              " 10.02,\n",
              " 10.06,\n",
              " 10.1,\n",
              " 10.14,\n",
              " 10.18,\n",
              " 10.22,\n",
              " 10.26,\n",
              " 10.3,\n",
              " 10.34,\n",
              " 10.38,\n",
              " 10.42,\n",
              " 10.46,\n",
              " 10.5]"
            ]
          },
          "metadata": {},
          "execution_count": 24
        }
      ],
      "source": [
        "# y = f(x)\n",
        "ys = [my_function(x) for x in xs]\n",
        "ys"
      ]
    },
    {
      "cell_type": "code",
      "execution_count": 25,
      "metadata": {
        "colab": {
          "base_uri": "https://localhost:8080/"
        },
        "id": "bQDsS3vnEjRu",
        "outputId": "d1253a2e-4ff3-4b26-8943-f55c5cdea64c"
      },
      "outputs": [
        {
          "output_type": "execute_result",
          "data": {
            "text/plain": [
              "(501, 501)"
            ]
          },
          "metadata": {},
          "execution_count": 25
        }
      ],
      "source": [
        "len(xs), len(ys)"
      ]
    },
    {
      "cell_type": "code",
      "execution_count": 26,
      "metadata": {
        "colab": {
          "base_uri": "https://localhost:8080/"
        },
        "id": "sv58AK2kEmun",
        "outputId": "4a36f64c-5909-46c7-dc44-aefb2ef7fff5"
      },
      "outputs": [
        {
          "output_type": "execute_result",
          "data": {
            "text/plain": [
              "(-4.54, -8.58, -8.58)"
            ]
          },
          "metadata": {},
          "execution_count": 26
        }
      ],
      "source": [
        "idx = 23\n",
        "xs[23], ys[23], my_function(xs[23])"
      ]
    },
    {
      "cell_type": "code",
      "execution_count": 27,
      "metadata": {
        "colab": {
          "base_uri": "https://localhost:8080/",
          "height": 448
        },
        "id": "IGch1r6HE2sl",
        "outputId": "2d9bb80c-8131-4ca5-d79a-836f0865e14b"
      },
      "outputs": [
        {
          "output_type": "execute_result",
          "data": {
            "text/plain": [
              "<matplotlib.collections.PathCollection at 0x7eb3a1b8bd00>"
            ]
          },
          "metadata": {},
          "execution_count": 27
        },
        {
          "output_type": "display_data",
          "data": {
            "text/plain": [
              "<Figure size 640x480 with 1 Axes>"
            ],
            "image/png": "[encoded data removed]"
          },
          "metadata": {}
        }
      ],
      "source": [
        "import matplotlib.pyplot as plt\n",
        "\n",
        "plt.scatter(x=xs, y=ys)"
      ]
    },
    {
      "cell_type": "code",
      "execution_count": 28,
      "metadata": {
        "id": "JmJxSsBSFKzo"
      },
      "outputs": [],
      "source": [
        "# Let's add some noise\n",
        "import random\n",
        "random.random() # return a random float value between 0 and 1\n",
        "\n",
        "ys_noise = [my_function(x) + (random.random()-0.5)*2  for x in xs]"
      ]
    },
    {
      "cell_type": "code",
      "execution_count": 29,
      "metadata": {
        "colab": {
          "base_uri": "https://localhost:8080/",
          "height": 448
        },
        "id": "4uuc-dMbFKsx",
        "outputId": "7dfa098b-d555-43dd-d737-7284a3eda528"
      },
      "outputs": [
        {
          "output_type": "execute_result",
          "data": {
            "text/plain": [
              "<matplotlib.collections.PathCollection at 0x7eb3a1b893c0>"
            ]
          },
          "metadata": {},
          "execution_count": 29
        },
        {
          "output_type": "display_data",
          "data": {
            "text/plain": [
              "<Figure size 640x480 with 1 Axes>"
            ],
            "image/png": "[encoded data removed]"
          },
          "metadata": {}
        }
      ],
      "source": [
        "plt.scatter(xs, ys_noise)"
      ]
    },
    {
      "cell_type": "code",
      "execution_count": 30,
      "metadata": {
        "colab": {
          "base_uri": "https://localhost:8080/"
        },
        "id": "MU_PHZ1-F7Qg",
        "outputId": "68c43270-272e-492f-ba85-0c659b12fee5"
      },
      "outputs": [
        {
          "output_type": "execute_result",
          "data": {
            "text/plain": [
              "[0.8444218515250481,\n",
              " 0.7579544029403025,\n",
              " 0.420571580830845,\n",
              " 0.25891675029296335,\n",
              " 0.5112747213686085,\n",
              " 0.4049341374504143,\n",
              " 0.7837985890347726,\n",
              " 0.30331272607892745,\n",
              " 0.4765969541523558,\n",
              " 0.5833820394550312]"
            ]
          },
          "metadata": {},
          "execution_count": 30
        }
      ],
      "source": [
        "# random is not actually complete random\n",
        "# usually computers uses pseudo-random\n",
        "\n",
        "# random.random() in fact has its destiny. It will always return same value\n",
        "# if the seed is the same\n",
        "\n",
        "random.seed(0)\n",
        "[random.random() for _ in range(10)]\n"
      ]
    },
    {
      "cell_type": "code",
      "execution_count": 31,
      "metadata": {
        "colab": {
          "base_uri": "https://localhost:8080/"
        },
        "id": "ogASDSU9Gb8N",
        "outputId": "46d31bc6-5a96-4767-d610-81a02bab4750"
      },
      "outputs": [
        {
          "output_type": "execute_result",
          "data": {
            "text/plain": [
              "[0.9081128851953352,\n",
              " 0.5046868558173903,\n",
              " 0.28183784439970383,\n",
              " 0.7558042041572239,\n",
              " 0.6183689966753316,\n",
              " 0.25050634136244054,\n",
              " 0.9097462559682401,\n",
              " 0.9827854760376531,\n",
              " 0.8102172359965896,\n",
              " 0.9021659504395827]"
            ]
          },
          "metadata": {},
          "execution_count": 31
        }
      ],
      "source": [
        "[random.random() for _ in range(10)]\n"
      ]
    },
    {
      "cell_type": "code",
      "execution_count": 32,
      "metadata": {
        "id": "q9c-7UsFGylJ"
      },
      "outputs": [],
      "source": [
        "a = random.random()\n",
        "b = random.random()\n",
        "\n",
        "ys_noise = [my_function(x) + (random.random()-0.5)  for x in xs]\n"
      ]
    },
    {
      "cell_type": "code",
      "execution_count": 33,
      "metadata": {
        "colab": {
          "base_uri": "https://localhost:8080/",
          "height": 448
        },
        "id": "dqmWx_eXHLzA",
        "outputId": "2f0bed39-a615-43a7-d38a-b7767112eed3"
      },
      "outputs": [
        {
          "output_type": "execute_result",
          "data": {
            "text/plain": [
              "<matplotlib.collections.PathCollection at 0x7eb3a1a9e530>"
            ]
          },
          "metadata": {},
          "execution_count": 33
        },
        {
          "output_type": "display_data",
          "data": {
            "text/plain": [
              "<Figure size 640x480 with 1 Axes>"
            ],
            "image/png": "[encoded data removed]"
          },
          "metadata": {}
        }
      ],
      "source": [
        "plt.scatter(xs, ys_noise)"
      ]
    },
    {
      "cell_type": "code",
      "execution_count": 34,
      "metadata": {
        "colab": {
          "base_uri": "https://localhost:8080/",
          "height": 448
        },
        "id": "PQMSHCf0HhCc",
        "outputId": "c04a5582-c351-4943-ddf7-4349cbebf0c2"
      },
      "outputs": [
        {
          "output_type": "execute_result",
          "data": {
            "text/plain": [
              "<matplotlib.collections.PathCollection at 0x7eb3a192cb80>"
            ]
          },
          "metadata": {},
          "execution_count": 34
        },
        {
          "output_type": "display_data",
          "data": {
            "text/plain": [
              "<Figure size 640x480 with 1 Axes>"
            ],
            "image/png": "[encoded data removed]"
          },
          "metadata": {}
        }
      ],
      "source": [
        "a_est = 0.1\n",
        "b_est = 0.6\n",
        "def my_estimation(x):\n",
        "  return a_est * x + b_est\n",
        "\n",
        "estimations = [my_estimation(x) for x in xs]\n",
        "\n",
        "plt.scatter(xs, ys_noise)\n",
        "plt.scatter(xs, estimations)"
      ]
    },
    {
      "cell_type": "code",
      "execution_count": 35,
      "metadata": {
        "colab": {
          "base_uri": "https://localhost:8080/"
        },
        "id": "wWNEMo0DIh6B",
        "outputId": "4c638540-8f8b-410f-ec17-6318fb279acb"
      },
      "outputs": [
        {
          "output_type": "execute_result",
          "data": {
            "text/plain": [
              "(0.10000000000000009, 0.09999999999999987)"
            ]
          },
          "metadata": {},
          "execution_count": 35
        }
      ],
      "source": [
        "\n",
        "# How can we calculates how good our estimation is?\n",
        "def cal_error(pred, target):\n",
        "  # target is the correct answer, desired output\n",
        "  # prediction is the output of your current model\n",
        "  return abs(pred-target)\n",
        "\n",
        "cal_error(1, 1.1), cal_error(1.2, 1.1)"
      ]
    },
    {
      "cell_type": "code",
      "execution_count": 36,
      "metadata": {
        "colab": {
          "base_uri": "https://localhost:8080/"
        },
        "id": "OBRLWcy9J6fH",
        "outputId": "25752ed4-f33b-47a6-de50-f50c446175cc"
      },
      "outputs": [
        {
          "output_type": "execute_result",
          "data": {
            "text/plain": [
              "0.5708082480613961"
            ]
          },
          "metadata": {},
          "execution_count": 36
        }
      ],
      "source": [
        "# compare every value in y_noise and estimation\n",
        "# we have to compare values in the same idx\n",
        "\n",
        "errors = []\n",
        "for i in range(len(ys_noise)):\n",
        "  target = ys_noise[i]\n",
        "  pred = estimations[i]\n",
        "  error = cal_error(pred, target)\n",
        "  errors.append(error)\n",
        "\n",
        "errors = [cal_error(pred, target) for target, pred in zip(ys_noise, estimations)]\n",
        "\n",
        "sum(errors) / len(errors) # mean value of errors"
      ]
    },
    {
      "cell_type": "code",
      "execution_count": 37,
      "metadata": {
        "colab": {
          "base_uri": "https://localhost:8080/"
        },
        "id": "0U_wVFZjK8j2",
        "outputId": "0a130c51-2bd9-478d-d206-9470fca0aede"
      },
      "outputs": [
        {
          "output_type": "execute_result",
          "data": {
            "text/plain": [
              "1.5260886365629844"
            ]
          },
          "metadata": {},
          "execution_count": 37
        }
      ],
      "source": [
        "a_est = 0.91\n",
        "b_est = 0.5\n",
        "\n",
        "estimations = [my_estimation(x) for x in xs]\n",
        "errors = [cal_error(pred, target) for target, pred in zip(ys_noise, estimations)]\n",
        "sum(errors) / len(errors)"
      ]
    },
    {
      "cell_type": "code",
      "execution_count": 38,
      "metadata": {
        "colab": {
          "base_uri": "https://localhost:8080/",
          "height": 448
        },
        "id": "vF7iKKUrLvdF",
        "outputId": "82d6b2bc-7019-459e-cfc7-e3fba2b020c0"
      },
      "outputs": [
        {
          "output_type": "execute_result",
          "data": {
            "text/plain": [
              "<matplotlib.collections.PathCollection at 0x7eb3a2742860>"
            ]
          },
          "metadata": {},
          "execution_count": 38
        },
        {
          "output_type": "display_data",
          "data": {
            "text/plain": [
              "<Figure size 640x480 with 1 Axes>"
            ],
            "image/png": "[encoded data removed]"
          },
          "metadata": {}
        }
      ],
      "source": [
        "plt.scatter(xs, ys_noise)\n",
        "plt.scatter(xs, estimations)"
      ]
    },
    {
      "cell_type": "markdown",
      "source": [
        "- CamelCase\n",
        "  - uses upper letter to distinguish words\n",
        "  - MyModelFunction\n",
        "  - myModelFunction\n",
        "- snake_case\n",
        "  - uses underbar\n",
        "  - my_model_function"
      ],
      "metadata": {
        "id": "IMEZ70i7YiCc"
      }
    },
    {
      "cell_type": "code",
      "execution_count": 39,
      "metadata": {
        "id": "e1LKUQb8MGyW",
        "outputId": "100e5bf3-5661-4b6a-dc7b-8ec2d395d91c",
        "colab": {
          "base_uri": "https://localhost:8080/"
        }
      },
      "outputs": [
        {
          "output_type": "execute_result",
          "data": {
            "text/plain": [
              "2.0476717906237787"
            ]
          },
          "metadata": {},
          "execution_count": 39
        }
      ],
      "source": [
        "class ComplexFunction: # You ALWAYS HAVE TO name the class in CamelCase\n",
        "# class complex_function:\n",
        "# class name has to start with Upper letter\n",
        "  def __init__(self):\n",
        "    self.param_a = random.random()\n",
        "    self.param_b = random.random()\n",
        "    self.param_c = random.random()\n",
        "    # these self.param_x is called attribute\n",
        "\n",
        "  def print_itself(self):\n",
        "    # every method of class has to take 'self' as its argument.\n",
        "    print(self.param_a, self.param_b, self.param_c)\n",
        "\n",
        "  def print_param_a(x, self):\n",
        "    # 0th argument is always the class instance itself\n",
        "    # no matter how you name it\n",
        "    print(x.param_a)\n",
        "\n",
        "  def __call__(self, x):\n",
        "    # this is a method of the class\n",
        "    # and this is example of special method\n",
        "    # this function is called when you call instance, such as comp_function(some_input)\n",
        "    return x * self.param_a + x**self.param_c + x**2 * self.param_b + (random.random()-0.5) * 2\n",
        "\n",
        "random.seed(0)\n",
        "comp_func = ComplexFunction()\n",
        "comp_func_b = ComplexFunction()\n",
        "# now comp_func is an instance of the class ComplexFunction\n",
        "# you have to call () the class name to declare its instance\n",
        "# this calls the Class's __init__ method\n",
        "\n",
        "# comp_func.param_a, comp_func.param_b, comp_func.param_c, comp_func_b.param_c\n",
        "# we can run the method of instance by calling it\n",
        "# comp_func.print_itself('input')\n",
        "# comp_func.print_param_a(\"this is my parameter\")\n",
        "\n",
        "random.seed(0)\n",
        "comp_func(0.5) # this calls ComplexFunction.__call__()\n"
      ]
    },
    {
      "cell_type": "code",
      "source": [
        "# You can do the same thing wihtout class\n",
        "# But it will look bit dirty\n",
        "\n",
        "# first define parameters\n",
        "param = [random.random(), random.random(), random.random()]\n",
        "random.seed(0)\n",
        "param = [random.random() for whatever in range(3)]\n",
        "param\n",
        "\n",
        "# define function\n",
        "def my_complex_func(x, parameters):\n",
        "  return x * parameters[0] + x**parameters[2] + x**2 * parameters[1] + (random.random()-0.5) * 2\n",
        "\n",
        "random.seed(0)\n",
        "my_complex_func(0.5, param)"
      ],
      "metadata": {
        "id": "JHTQ5_SiWoax",
        "outputId": "973243c3-2415-44c2-a6af-74bc9ffc1066",
        "colab": {
          "base_uri": "https://localhost:8080/"
        }
      },
      "execution_count": 40,
      "outputs": [
        {
          "output_type": "execute_result",
          "data": {
            "text/plain": [
              "2.0476717906237787"
            ]
          },
          "metadata": {},
          "execution_count": 40
        }
      ]
    },
    {
      "cell_type": "code",
      "source": [
        "# comp_func.print_itself(),\n",
        "print(param)\n",
        "comp_func.print_itself()"
      ],
      "metadata": {
        "id": "J1M0-ZcuUdPo",
        "outputId": "44824b4e-3777-4cb5-bfe3-11c5de484785",
        "colab": {
          "base_uri": "https://localhost:8080/"
        }
      },
      "execution_count": 41,
      "outputs": [
        {
          "output_type": "stream",
          "name": "stdout",
          "text": [
            "[0.8444218515250481, 0.7579544029403025, 0.420571580830845]\n",
            "0.8444218515250481 0.7579544029403025 0.420571580830845\n"
          ]
        }
      ]
    },
    {
      "cell_type": "code",
      "source": [
        "# ComplexFunction.print_itself() # the class itself cannot work as self,\n",
        "# because it is not an instance\n"
      ],
      "metadata": {
        "id": "F0Jq1cqMYLXE"
      },
      "execution_count": 42,
      "outputs": []
    },
    {
      "cell_type": "code",
      "execution_count": 43,
      "metadata": {
        "colab": {
          "base_uri": "https://localhost:8080/",
          "height": 504
        },
        "id": "2E8vM70NM0qz",
        "outputId": "48c6886c-7fdb-4c2c-f9e0-7afe4a6d335c"
      },
      "outputs": [
        {
          "output_type": "stream",
          "name": "stderr",
          "text": [
            "/usr/local/lib/python3.10/dist-packages/matplotlib/collections.py:192: ComplexWarning: Casting complex values to real discards the imaginary part\n",
            "  offsets = np.asanyarray(offsets, float)\n"
          ]
        },
        {
          "output_type": "execute_result",
          "data": {
            "text/plain": [
              "<matplotlib.collections.PathCollection at 0x7eb3b80cf640>"
            ]
          },
          "metadata": {},
          "execution_count": 43
        },
        {
          "output_type": "display_data",
          "data": {
            "text/plain": [
              "<Figure size 640x480 with 1 Axes>"
            ],
            "image/png": "[encoded data removed]"
          },
          "metadata": {}
        }
      ],
      "source": [
        "ys_comp = [comp_func(x) for x in xs]\n",
        "plt.scatter(xs, ys_comp)"
      ]
    },
    {
      "cell_type": "code",
      "execution_count": 44,
      "metadata": {
        "id": "TsGvqTWSNPqr",
        "outputId": "73e56a4d-d4f0-4876-f754-b0c16da4c4ce",
        "colab": {
          "base_uri": "https://localhost:8080/"
        }
      },
      "outputs": [
        {
          "output_type": "stream",
          "name": "stdout",
          "text": [
            "[0.8444218515250481, 0.7579544029403025, 0.420571580830845] 0\n"
          ]
        },
        {
          "output_type": "execute_result",
          "data": {
            "text/plain": [
              "0.5053996844839116"
            ]
          },
          "metadata": {},
          "execution_count": 44
        }
      ],
      "source": [
        "import torch\n",
        "\n",
        "# first let's define a neuron\n",
        "# we have one input dimension\n",
        "\n",
        "class Neuron:\n",
        "  def __init__(self, input_dim=1, use_bias=True):\n",
        "    self.weights = [random.random() for _ in range(input_dim)]\n",
        "    if use_bias:\n",
        "      self.bias = 0 # it is normal to initialize bias as zero\n",
        "\n",
        "  # def __call__(self, input_scalar):\n",
        "  #   return self.weights[0] * input_scalar + self.bias\n",
        "\n",
        "  def __call__(self, input_vector):\n",
        "    # first let's check whether the input_vector's dimension is correct\n",
        "    # A specific neuron always expects input vector as a specific dimension\n",
        "\n",
        "    # Make assertion that input_vector's dimension is same with self.weights' dimension\n",
        "    assert len(input_vector) == len(self.weights), 'Input dimension is different'\n",
        "    # if assertion is not True, it will make error and print the string behind\n",
        "\n",
        "    # Let's make vector multiplication as for loop\n",
        "    output = []\n",
        "    for i in range(len(input_vector)):\n",
        "      input_value = input_vector[i]\n",
        "      weight = self.weights[i]\n",
        "      mul = input_value * weight\n",
        "      output.append(mul)\n",
        "\n",
        "    # you can do it with list comprehension\n",
        "    output = [ input_vector[i] * self.weights[i] for i in range(len(input_vector))]\n",
        "\n",
        "    # you can do it with zip also\n",
        "    output = [ input_value * weight   for input_value, weight in zip(input_vector, self.weights)]\n",
        "\n",
        "    return sum(output) + self.bias\n",
        "\n",
        "random.seed(0)\n",
        "neuron = Neuron(3)\n",
        "print(neuron.weights, neuron.bias)\n",
        "\n",
        "# neuron(0.5)\n",
        "neuron([0.5, -1, 2])"
      ]
    },
    {
      "cell_type": "code",
      "source": [
        "input_sample = [0.5, -0.3, 1.3]\n",
        "another_input_sample = [-1.2, -0.5, -0.1]\n",
        "\n",
        "# Define neurons\n",
        "for input in [input_sample, another_input_sample]:\n",
        "  neuron_a = Neuron(3) # Neuron is a class, neuron_a is an instance of the class Neuron\n",
        "  # neuron_a = Neuron(input_dim=3) # same with the line above\n",
        "  neuron_a.weights = [0.8, 1.2, 0.7]\n",
        "  neuron_b = Neuron(3)\n",
        "  neuron_b.weights = [-0.2, 0.5, 1.9]\n",
        "  neuron_c = Neuron(input_dim=2)\n",
        "  neuron_c.weights = [-1.5, 1.6]\n",
        "\n",
        "  # Feed input data to the neurons\n",
        "  output_a = neuron_a(input) # 0.95\n",
        "  output_b = neuron_b(input) # 2.22\n",
        "\n",
        "  middle_output = [output_a, output_b] # [0.95, 2.22]\n",
        "\n",
        "  output = neuron_c(middle_output)\n",
        "  print(output)\n"
      ],
      "metadata": {
        "id": "WLTlGHvBFjLA",
        "outputId": "edf5c1e8-9c0a-4b8e-8e65-5332bf0eb0c3",
        "colab": {
          "base_uri": "https://localhost:8080/"
        }
      },
      "execution_count": 50,
      "outputs": [
        {
          "output_type": "stream",
          "name": "stdout",
          "text": [
            "2.127\n",
            "3.341\n"
          ]
        }
      ]
    },
    {
      "cell_type": "code",
      "source": [
        "import numpy as np\n",
        "import torch\n",
        "\n",
        "# make it as a matrix\n",
        "\n",
        "# make neurons as a matrix\n",
        "print(neuron_a.weights, neuron_b.weights)\n",
        "\n",
        "weight_array = np.asarray([neuron_a.weights, neuron_b.weights])\n",
        "# below will make error\n",
        "# np.asarray([neuron_a.weights, neuron_b.weights, neuron_c.weights])\n",
        "print(weight_array)\n",
        "\n",
        "# in torch, we use tensor, which corresponds to np.array\n",
        "weight_tensor = torch.tensor([neuron_a.weights, neuron_b.weights])\n",
        "print(weight_tensor)\n",
        "\n",
        "# below will make error\n",
        "# torch.tensor([neuron_a.weights, neuron_b.weights, neuron_c.weights])"
      ],
      "metadata": {
        "id": "bgEFHRjzJDF6",
        "outputId": "872d8ab3-b3d2-4985-8a4c-f65e082baec7",
        "colab": {
          "base_uri": "https://localhost:8080/"
        }
      },
      "execution_count": 59,
      "outputs": [
        {
          "output_type": "stream",
          "name": "stdout",
          "text": [
            "[0.8, 1.2, 0.7] [-0.2, 0.5, 1.9]\n",
            "[[ 0.8  1.2  0.7]\n",
            " [-0.2  0.5  1.9]]\n",
            "tensor([[ 0.8000,  1.2000,  0.7000],\n",
            "        [-0.2000,  0.5000,  1.9000]])\n"
          ]
        }
      ]
    },
    {
      "cell_type": "code",
      "source": [
        "# indexing and slicing in tensor (it's same with using array)\n",
        "idx_for_0th_dim = 1\n",
        "idx_for_1st_dim = 2\n",
        "\n",
        "weight_tensor[idx_for_0th_dim, idx_for_1st_dim]"
      ],
      "metadata": {
        "id": "Vhjqi-8dK4ZJ",
        "outputId": "f76076c4-8338-4e49-9586-aae7331fa5c8",
        "colab": {
          "base_uri": "https://localhost:8080/"
        }
      },
      "execution_count": 62,
      "outputs": [
        {
          "output_type": "execute_result",
          "data": {
            "text/plain": [
              "tensor(1.9000)"
            ]
          },
          "metadata": {},
          "execution_count": 62
        }
      ]
    },
    {
      "cell_type": "code",
      "source": [
        "weight_tensor[:, :2] # select every item in 0th axis, select items until index 2 in 1st axis"
      ],
      "metadata": {
        "id": "eOFWfbf5LkDN",
        "outputId": "8dd11f51-f7c5-4888-99f4-92f4771b30a9",
        "colab": {
          "base_uri": "https://localhost:8080/"
        }
      },
      "execution_count": 63,
      "outputs": [
        {
          "output_type": "execute_result",
          "data": {
            "text/plain": [
              "tensor([[ 0.8000,  1.2000],\n",
              "        [-0.2000,  0.5000]])"
            ]
          },
          "metadata": {},
          "execution_count": 63
        }
      ]
    },
    {
      "cell_type": "code",
      "source": [
        "# get matrix multiplication\n",
        "# using torch.mm (matrix multiplication)\n",
        "# torch.mm(matrix_a, matrix_b) # This will calculates matrix_a X matrix_b\n",
        "\n",
        "print(type(input_sample))\n",
        "# torch.mm(input_sample, weight_tensor) # this makes error\n",
        "input_tensor = torch.tensor(input_sample)\n",
        "print(input_tensor, input_tensor.shape, weight_tensor.shape)\n",
        "# torch.mm(input_tensor, weight_tensor)\n",
        "input_tensor = input_tensor.reshape([1, 3])\n",
        "print(input_tensor, input_tensor.shape, weight_tensor.shape)\n",
        "torch.mm(input_tensor, weight_tensor.T) # transpose weight_tensor"
      ],
      "metadata": {
        "id": "G8hAoTRjLzqU",
        "outputId": "6ecee30b-7853-45b1-a5b5-d137177cd0db",
        "colab": {
          "base_uri": "https://localhost:8080/"
        }
      },
      "execution_count": 75,
      "outputs": [
        {
          "output_type": "stream",
          "name": "stdout",
          "text": [
            "<class 'list'>\n",
            "tensor([ 0.5000, -0.3000,  1.3000]) torch.Size([3]) torch.Size([2, 3])\n",
            "tensor([[ 0.5000, -0.3000,  1.3000]]) torch.Size([1, 3]) torch.Size([2, 3])\n"
          ]
        },
        {
          "output_type": "execute_result",
          "data": {
            "text/plain": [
              "tensor([[0.9500, 2.2200]])"
            ]
          },
          "metadata": {},
          "execution_count": 75
        }
      ]
    },
    {
      "cell_type": "code",
      "source": [
        "# transpose vs reshape\n",
        "print(weight_tensor)\n",
        "print(weight_tensor.T)\n",
        "print(weight_tensor.reshape([3,2]) ) # it just re arranges cutting position"
      ],
      "metadata": {
        "id": "56dq3zN6OtVB",
        "outputId": "8c5a05d4-656b-4987-e02f-8efc7774e956",
        "colab": {
          "base_uri": "https://localhost:8080/"
        }
      },
      "execution_count": 77,
      "outputs": [
        {
          "output_type": "stream",
          "name": "stdout",
          "text": [
            "tensor([[ 0.8000,  1.2000,  0.7000],\n",
            "        [-0.2000,  0.5000,  1.9000]])\n",
            "tensor([[ 0.8000, -0.2000],\n",
            "        [ 1.2000,  0.5000],\n",
            "        [ 0.7000,  1.9000]])\n",
            "tensor([[ 0.8000,  1.2000],\n",
            "        [ 0.7000, -0.2000],\n",
            "        [ 0.5000,  1.9000]])\n"
          ]
        }
      ]
    },
    {
      "cell_type": "code",
      "source": [
        "# let's make several input_samples as a matrix\n",
        "input_tensor = torch.tensor([input_sample, another_input_sample])\n",
        "print(input_tensor, input_tensor.shape)\n",
        "middle_output = torch.mm(input_tensor, weight_tensor.T)\n",
        "middle_output"
      ],
      "metadata": {
        "id": "SN0NxldUPkQm",
        "outputId": "07989c72-3867-4748-b2b2-4c0b50ac5b5d",
        "colab": {
          "base_uri": "https://localhost:8080/"
        }
      },
      "execution_count": 82,
      "outputs": [
        {
          "output_type": "stream",
          "name": "stdout",
          "text": [
            "tensor([[ 0.5000, -0.3000,  1.3000],\n",
            "        [-2.0000, -0.5000, -0.1000]]) torch.Size([2, 3])\n"
          ]
        },
        {
          "output_type": "execute_result",
          "data": {
            "text/plain": [
              "tensor([[ 0.9500,  2.2200],\n",
              "        [-2.2700, -0.0400]])"
            ]
          },
          "metadata": {},
          "execution_count": 82
        }
      ]
    },
    {
      "cell_type": "code",
      "source": [
        "weight_c_tensor = torch.tensor([neuron_c.weights])\n",
        "# torch.tensor(neuron_c.weights) is different with torch.tensor([neuron_c.weights])\n",
        "print(weight_c_tensor.shape)\n",
        "\n",
        "final_output = torch.mm(middle_output, weight_c_tensor.T)\n",
        "final_output"
      ],
      "metadata": {
        "id": "hlYCr1NSP65J",
        "outputId": "2d12af9d-04e8-4b0b-b5d9-e5ab5d268352",
        "colab": {
          "base_uri": "https://localhost:8080/"
        }
      },
      "execution_count": 85,
      "outputs": [
        {
          "output_type": "stream",
          "name": "stdout",
          "text": [
            "torch.Size([1, 2])\n"
          ]
        },
        {
          "output_type": "execute_result",
          "data": {
            "text/plain": [
              "tensor([[2.1270],\n",
              "        [3.3410]])"
            ]
          },
          "metadata": {},
          "execution_count": 85
        }
      ]
    },
    {
      "cell_type": "code",
      "source": [
        "# In actual scenario, we define a layer, not a neuron\n",
        "# a layer is a set of neurons that shares the same input\n",
        "# such as neuron_a and neuron_b in the previous example\n",
        "\n",
        "class NeuralLayer:\n",
        "  def __init__(self, input_dim, output_dim):\n",
        "    # output_dim means number of neurons in the layer\n",
        "    self.weights = torch.randn(input_dim, output_dim)\n",
        "\n",
        "  def __call__(self, input):\n",
        "    return torch.mm(input, self.weights)\n",
        "\n",
        "# torch.randn([3,2]) # random numbers from normal distribution (Gaussian distribution)\n",
        "\n",
        "layer = NeuralLayer(input_dim=3, output_dim=2)\n",
        "layer.weights = weight_tensor.T\n",
        "layer(input_tensor)"
      ],
      "metadata": {
        "id": "ZTq7VgVpQnQY",
        "outputId": "c874f599-9d4e-4435-aa23-440ba1c351e9",
        "colab": {
          "base_uri": "https://localhost:8080/"
        }
      },
      "execution_count": 89,
      "outputs": [
        {
          "output_type": "execute_result",
          "data": {
            "text/plain": [
              "tensor([[ 0.9500,  2.2200],\n",
              "        [-2.2700, -0.0400]])"
            ]
          },
          "metadata": {},
          "execution_count": 89
        }
      ]
    },
    {
      "cell_type": "code",
      "source": [
        "torch_layer = torch.nn.Linear(3,2, bias=False)\n",
        "print(torch_layer.weight.shape)\n",
        "torch_layer.weight.data = weight_tensor # copy the weight to the layer\n",
        "torch_layer(input_tensor)"
      ],
      "metadata": {
        "id": "syMFQ3JoSWm2",
        "outputId": "b3c6dfd7-b9be-4972-ae8b-c552a361a3a6",
        "colab": {
          "base_uri": "https://localhost:8080/"
        }
      },
      "execution_count": 93,
      "outputs": [
        {
          "output_type": "stream",
          "name": "stdout",
          "text": [
            "torch.Size([2, 3])\n"
          ]
        },
        {
          "output_type": "execute_result",
          "data": {
            "text/plain": [
              "tensor([[ 0.9500,  2.2200],\n",
              "        [-2.2700, -0.0400]], grad_fn=<MmBackward0>)"
            ]
          },
          "metadata": {},
          "execution_count": 93
        }
      ]
    },
    {
      "cell_type": "markdown",
      "metadata": {
        "id": "S4k1bqyiTa3L"
      },
      "source": [
        "### Update plot in for loop\n",
        "```\n",
        "from IPython import display\n",
        "import matplotlib.pyplot as plt\n",
        "\n",
        "for i in range(10):\n",
        "  plt.plot([i], [i], 'o')\n",
        "  display.clear_output(wait=True)\n",
        "  display.display(plt.gcf())\n",
        "  plt.close()\n",
        "```"
      ]
    },
    {
      "cell_type": "markdown",
      "metadata": {
        "id": "KJa9y0jJBqnJ"
      },
      "source": [
        "## 2. Regression with Multiple Variables\n",
        "  - e.g.: Predict wine quality based on features like acidity, sugar content, and alcohol level."
      ]
    },
    {
      "cell_type": "markdown",
      "metadata": {
        "id": "BJ8sA5wyBqnJ"
      },
      "source": []
    }
  ],
  "metadata": {
    "colab": {
      "provenance": [],
      "include_colab_link": true
    },
    "kernelspec": {
      "display_name": "Python 3",
      "language": "python",
      "name": "python3"
    },
    "language_info": {
      "name": "python",
      "version": "3.8.10"
    },
    "orig_nbformat": 4
  },
  "nbformat": 4,
  "nbformat_minor": 0
}