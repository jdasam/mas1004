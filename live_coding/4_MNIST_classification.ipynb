{
  "cells": [
    {
      "cell_type": "markdown",
      "metadata": {
        "id": "view-in-github",
        "colab_type": "text"
      },
      "source": [
        "<a href=\"https://colab.research.google.com/github/jdasam/mas1004/blob/2024/live_coding/4_MNIST_classification.ipynb\" target=\"_parent\"><img src=\"https://colab.research.google.com/assets/colab-badge.svg\" alt=\"Open In Colab\"/></a>"
      ]
    },
    {
      "cell_type": "markdown",
      "metadata": {
        "id": "CrXrdX_8MhOL"
      },
      "source": [
        "# MNIST classification\n",
        "- In this notebook we will use the MNIST dataset to train a neural network to classify handwritten digits."
      ]
    },
    {
      "cell_type": "code",
      "execution_count": 1,
      "metadata": {
        "id": "AiQ_8GNBzbma"
      },
      "outputs": [],
      "source": [
        "import torch\n",
        "import torch.nn as nn\n",
        "import torchvision.datasets as dsets\n",
        "import torchvision.transforms as transforms\n",
        "import matplotlib.pyplot as plt\n",
        "# make plt grayscale as default\n",
        "plt.rcParams['image.cmap'] = 'gray'\n",
        "\n",
        "DEV = 'cuda' # Use GPU # library for NVIDIA GPU\n",
        "assert torch.cuda.is_available(), \"Make sure you run this Colab in GPU\""
      ]
    },
    {
      "cell_type": "markdown",
      "metadata": {
        "id": "ecsiKWy-MhON"
      },
      "source": [
        "## 0. Download Dataset"
      ]
    },
    {
      "cell_type": "code",
      "execution_count": 2,
      "metadata": {
        "colab": {
          "base_uri": "https://localhost:8080/"
        },
        "id": "lZSO_ROkzbma",
        "outputId": "9a064e77-370c-45dd-8611-a91919107a98"
      },
      "outputs": [
        {
          "output_type": "stream",
          "name": "stdout",
          "text": [
            "Downloading http://yann.lecun.com/exdb/mnist/train-images-idx3-ubyte.gz\n",
            "Failed to download (trying next):\n",
            "<urlopen error [SSL: CERTIFICATE_VERIFY_FAILED] certificate verify failed: certificate has expired (_ssl.c:1007)>\n",
            "\n",
            "Downloading https://ossci-datasets.s3.amazonaws.com/mnist/train-images-idx3-ubyte.gz\n",
            "Downloading https://ossci-datasets.s3.amazonaws.com/mnist/train-images-idx3-ubyte.gz to ./data/MNIST/raw/train-images-idx3-ubyte.gz\n"
          ]
        },
        {
          "output_type": "stream",
          "name": "stderr",
          "text": [
            "100%|██████████| 9.91M/9.91M [00:00<00:00, 47.6MB/s]\n"
          ]
        },
        {
          "output_type": "stream",
          "name": "stdout",
          "text": [
            "Extracting ./data/MNIST/raw/train-images-idx3-ubyte.gz to ./data/MNIST/raw\n",
            "\n",
            "Downloading http://yann.lecun.com/exdb/mnist/train-labels-idx1-ubyte.gz\n",
            "Failed to download (trying next):\n",
            "<urlopen error [SSL: CERTIFICATE_VERIFY_FAILED] certificate verify failed: certificate has expired (_ssl.c:1007)>\n",
            "\n",
            "Downloading https://ossci-datasets.s3.amazonaws.com/mnist/train-labels-idx1-ubyte.gz\n",
            "Downloading https://ossci-datasets.s3.amazonaws.com/mnist/train-labels-idx1-ubyte.gz to ./data/MNIST/raw/train-labels-idx1-ubyte.gz\n"
          ]
        },
        {
          "output_type": "stream",
          "name": "stderr",
          "text": [
            "100%|██████████| 28.9k/28.9k [00:00<00:00, 1.72MB/s]"
          ]
        },
        {
          "output_type": "stream",
          "name": "stdout",
          "text": [
            "Extracting ./data/MNIST/raw/train-labels-idx1-ubyte.gz to ./data/MNIST/raw\n",
            "\n",
            "Downloading http://yann.lecun.com/exdb/mnist/t10k-images-idx3-ubyte.gz\n"
          ]
        },
        {
          "output_type": "stream",
          "name": "stderr",
          "text": [
            "\n"
          ]
        },
        {
          "output_type": "stream",
          "name": "stdout",
          "text": [
            "Failed to download (trying next):\n",
            "<urlopen error [SSL: CERTIFICATE_VERIFY_FAILED] certificate verify failed: certificate has expired (_ssl.c:1007)>\n",
            "\n",
            "Downloading https://ossci-datasets.s3.amazonaws.com/mnist/t10k-images-idx3-ubyte.gz\n",
            "Downloading https://ossci-datasets.s3.amazonaws.com/mnist/t10k-images-idx3-ubyte.gz to ./data/MNIST/raw/t10k-images-idx3-ubyte.gz\n"
          ]
        },
        {
          "output_type": "stream",
          "name": "stderr",
          "text": [
            "100%|██████████| 1.65M/1.65M [00:00<00:00, 11.6MB/s]\n"
          ]
        },
        {
          "output_type": "stream",
          "name": "stdout",
          "text": [
            "Extracting ./data/MNIST/raw/t10k-images-idx3-ubyte.gz to ./data/MNIST/raw\n",
            "\n",
            "Downloading http://yann.lecun.com/exdb/mnist/t10k-labels-idx1-ubyte.gz\n",
            "Failed to download (trying next):\n",
            "<urlopen error [SSL: CERTIFICATE_VERIFY_FAILED] certificate verify failed: certificate has expired (_ssl.c:1007)>\n",
            "\n",
            "Downloading https://ossci-datasets.s3.amazonaws.com/mnist/t10k-labels-idx1-ubyte.gz\n",
            "Downloading https://ossci-datasets.s3.amazonaws.com/mnist/t10k-labels-idx1-ubyte.gz to ./data/MNIST/raw/t10k-labels-idx1-ubyte.gz\n"
          ]
        },
        {
          "output_type": "stream",
          "name": "stderr",
          "text": [
            "100%|██████████| 4.54k/4.54k [00:00<00:00, 13.6MB/s]"
          ]
        },
        {
          "output_type": "stream",
          "name": "stdout",
          "text": [
            "Extracting ./data/MNIST/raw/t10k-labels-idx1-ubyte.gz to ./data/MNIST/raw\n",
            "\n"
          ]
        },
        {
          "output_type": "stream",
          "name": "stderr",
          "text": [
            "\n"
          ]
        }
      ],
      "source": [
        "train_data = dsets.MNIST(root = './data', train = True,\n",
        "                        transform = transforms.ToTensor(), download = True)\n",
        "\n",
        "test_data = dsets.MNIST(root = './data', train = False,\n",
        "                       transform = transforms.ToTensor(), download=True)"
      ]
    },
    {
      "cell_type": "code",
      "source": [
        "img, label = train_data[0]\n",
        "print(img.shape), print(label)"
      ],
      "metadata": {
        "colab": {
          "base_uri": "https://localhost:8080/"
        },
        "id": "aHwOMyOFSFDh",
        "outputId": "4bdd417c-ec42-4218-bc6e-de0798cf009c"
      },
      "execution_count": 3,
      "outputs": [
        {
          "output_type": "stream",
          "name": "stdout",
          "text": [
            "torch.Size([1, 28, 28])\n",
            "5\n"
          ]
        },
        {
          "output_type": "execute_result",
          "data": {
            "text/plain": [
              "(None, None)"
            ]
          },
          "metadata": {},
          "execution_count": 3
        }
      ]
    },
    {
      "cell_type": "code",
      "execution_count": 4,
      "metadata": {
        "colab": {
          "base_uri": "https://localhost:8080/",
          "height": 305
        },
        "id": "GjUEaK-PbOJp",
        "outputId": "e16b5caf-bd2f-4f10-96fb-e6ee921d0587"
      },
      "outputs": [
        {
          "output_type": "execute_result",
          "data": {
            "text/plain": [
              "<matplotlib.image.AxesImage at 0x7b47cf3e6290>"
            ]
          },
          "metadata": {},
          "execution_count": 4
        },
        {
          "output_type": "display_data",
          "data": {
            "text/plain": [
              "<Figure size 640x480 with 2 Axes>"
            ],
            "image/png": "[encoded data removed]"
          },
          "metadata": {}
        }
      ],
      "source": [
        "plt.subplot(1, 2, 1) # use 1 row, 2 column, and use 1st place\n",
        "plt.imshow(img.squeeze())\n",
        "plt.subplot(1,2,2)\n",
        "plt.imshow(train_data[20][0].squeeze())"
      ]
    },
    {
      "cell_type": "code",
      "execution_count": 5,
      "metadata": {
        "id": "2lowHkoQbQ28",
        "colab": {
          "base_uri": "https://localhost:8080/"
        },
        "outputId": "c0574e3d-6ad6-40b0-f5f9-14bbb8633b02"
      },
      "outputs": [
        {
          "output_type": "execute_result",
          "data": {
            "text/plain": [
              "torch.Size([784])"
            ]
          },
          "metadata": {},
          "execution_count": 5
        }
      ],
      "source": [
        "flattened_img = img.reshape(28 * 28)\n",
        "flattened_img = img.reshape(-1)\n",
        "flattened_img.shape"
      ]
    },
    {
      "cell_type": "code",
      "source": [
        "# let's try to make a batch\n",
        "# idx = 0\n",
        "\n",
        "imgs = []\n",
        "labels = []\n",
        "\n",
        "for idx in range(100):\n",
        "  img, label = train_data[idx]\n",
        "  # print(img.shape, label)\n",
        "  imgs.append(img)\n",
        "  labels.append(label)\n",
        "print(labels)\n",
        "# use torch.stack to convert list of tensors to a single tensor with new dimesion\n",
        "\n",
        "stack_result = torch.stack(imgs, dim=0)\n",
        "print(f\"stack in dim0 shape: {stack_result.shape}\")\n",
        "\n",
        "cat_result = torch.cat(imgs, dim=1)\n",
        "print(f\"cat in dim1 shape: {cat_result.shape}\")\n",
        "\n",
        "imgs = torch.stack(imgs, dim=0)\n",
        "labels = torch.tensor(labels)\n",
        "\n",
        "print(f\"imgs.shape = {imgs.shape}, labels.shape = {labels.shape}\")\n",
        "print(labels[:10])"
      ],
      "metadata": {
        "id": "jB40Y9Xa_Jvg",
        "outputId": "5458c6a9-07ff-49ab-855d-e0018b34b5ca",
        "colab": {
          "base_uri": "https://localhost:8080/"
        }
      },
      "execution_count": 6,
      "outputs": [
        {
          "output_type": "stream",
          "name": "stdout",
          "text": [
            "[5, 0, 4, 1, 9, 2, 1, 3, 1, 4, 3, 5, 3, 6, 1, 7, 2, 8, 6, 9, 4, 0, 9, 1, 1, 2, 4, 3, 2, 7, 3, 8, 6, 9, 0, 5, 6, 0, 7, 6, 1, 8, 7, 9, 3, 9, 8, 5, 9, 3, 3, 0, 7, 4, 9, 8, 0, 9, 4, 1, 4, 4, 6, 0, 4, 5, 6, 1, 0, 0, 1, 7, 1, 6, 3, 0, 2, 1, 1, 7, 9, 0, 2, 6, 7, 8, 3, 9, 0, 4, 6, 7, 4, 6, 8, 0, 7, 8, 3, 1]\n",
            "stack in dim0 shape: torch.Size([100, 1, 28, 28])\n",
            "cat in dim1 shape: torch.Size([1, 2800, 28])\n",
            "imgs.shape = torch.Size([100, 1, 28, 28]), labels.shape = torch.Size([100])\n",
            "tensor([5, 0, 4, 1, 9, 2, 1, 3, 1, 4])\n"
          ]
        }
      ]
    },
    {
      "cell_type": "code",
      "execution_count": 7,
      "metadata": {
        "colab": {
          "base_uri": "https://localhost:8080/"
        },
        "id": "KoaP_nyiJAou",
        "outputId": "7e613058-7f05-4423-fc64-bd722be093fb"
      },
      "outputs": [
        {
          "output_type": "stream",
          "name": "stdout",
          "text": [
            "78400 torch.Size([50, 1568])\n",
            "torch.Size([100, 784])\n"
          ]
        }
      ],
      "source": [
        "# flatten that img tensor so that each datasample has 784 numbers\n",
        "\n",
        "# imgs.shape = [100, 1, 28, 28]\n",
        "# -> [100, 784]: 100 samples, and each of sample is 784-dim vector\n",
        "\n",
        "# using reshape\n",
        "reshaped_imgs = imgs.reshape(100, 784)\n",
        "reshaped_imgs = imgs.reshape(100, -1)\n",
        "reshaped_imgs = imgs.reshape(50, -1) # what would be the shape of this?\n",
        "print(imgs.numel(), reshaped_imgs.shape)\n",
        "# reshape has to preserve number of elements in the tensor\n",
        "\n",
        "reshaped_imgs = imgs.reshape(78400).reshape(100, -1) # Reshape is trying to flatten everything and arange tensor again\n",
        "\n",
        "flattend_imgs = imgs.flatten(start_dim=1)\n",
        "print(flattend_imgs.shape)\n",
        "\n"
      ]
    },
    {
      "cell_type": "code",
      "source": [
        "import torch.nn as nn\n",
        "\n",
        "layer1 = nn.Linear(784, 64)\n",
        "relu = nn.ReLU()\n",
        "layer2 = nn.Linear(64,64)\n",
        "\n",
        "x = flattend_imgs\n",
        "# x = layer1(x)\n",
        "# x = relu(x)\n",
        "# x = layer2(x)\n",
        "\n",
        "layers = nn.Sequential(\n",
        "    nn.Linear(784, 64),\n",
        "    nn.ReLU(),\n",
        "    nn.Linear(64, 64),\n",
        "    nn.ReLU(),\n",
        "    nn.Linear(64, 10))\n",
        "\n",
        "layers(x)"
      ],
      "metadata": {
        "collapsed": true,
        "id": "aTFTJn7JEnov",
        "outputId": "2b8ec58c-e1c8-4e93-8ab5-cd335f4b708d",
        "colab": {
          "base_uri": "https://localhost:8080/"
        }
      },
      "execution_count": 8,
      "outputs": [
        {
          "output_type": "execute_result",
          "data": {
            "text/plain": [
              "tensor([[-9.2274e-02,  2.4413e-02, -6.3413e-02,  1.1385e-01, -1.0064e-01,\n",
              "         -4.5700e-02, -1.1104e-01, -2.9401e-02,  4.6581e-02, -7.7787e-02],\n",
              "        [-5.8952e-02, -1.8600e-03, -4.5992e-02,  1.3329e-01, -9.2773e-02,\n",
              "         -3.1835e-02, -1.0991e-01, -2.4711e-02,  9.6005e-03, -8.7778e-02],\n",
              "        [-7.8293e-02,  8.9830e-03, -5.6575e-02,  1.1423e-01, -9.1792e-02,\n",
              "         -4.4564e-02, -1.0361e-01, -3.7725e-02,  1.4814e-02, -9.8619e-02],\n",
              "        [-7.8189e-02, -1.3404e-02, -3.6588e-02,  1.1080e-01, -7.5600e-02,\n",
              "         -5.1268e-02, -1.2594e-01, -2.0702e-02,  4.4855e-02, -1.2188e-01],\n",
              "        [-6.1917e-02,  8.5982e-03, -3.6570e-02,  1.4246e-01, -8.4217e-02,\n",
              "         -4.3461e-02, -9.8702e-02, -1.9489e-02,  3.5429e-02, -1.1813e-01],\n",
              "        [-6.2349e-02,  1.1398e-02, -6.4427e-02,  8.3557e-02, -8.4444e-02,\n",
              "         -3.2010e-02, -9.2288e-02, -1.0050e-02,  2.4885e-02, -8.7899e-02],\n",
              "        [-7.2607e-02, -9.6317e-03, -4.4654e-02,  1.1864e-01, -7.4957e-02,\n",
              "         -2.3854e-02, -1.1752e-01, -9.4464e-03,  1.4668e-02, -7.2710e-02],\n",
              "        [-9.3050e-02,  1.1121e-02, -6.7688e-02,  1.2901e-01, -1.0095e-01,\n",
              "         -5.4117e-02, -1.3646e-01, -5.3169e-02,  2.2139e-02, -1.1022e-01],\n",
              "        [-5.6367e-02, -1.7013e-03, -4.7591e-02,  1.1518e-01, -7.7066e-02,\n",
              "         -3.9773e-02, -9.9634e-02, -8.6637e-03,  3.9611e-02, -6.1748e-02],\n",
              "        [-4.6119e-02,  1.8121e-02, -6.1300e-02,  1.1585e-01, -7.4479e-02,\n",
              "         -3.0400e-02, -9.8264e-02, -1.4502e-02,  5.0710e-03, -1.0056e-01],\n",
              "        [-1.1546e-01, -1.5673e-03, -6.9421e-02,  1.2647e-01, -1.0116e-01,\n",
              "         -4.2097e-02, -1.1665e-01, -3.5904e-02,  8.2838e-03, -7.2514e-02],\n",
              "        [-5.2034e-02,  7.0755e-03, -6.2770e-02,  1.1129e-01, -6.8674e-02,\n",
              "         -3.2035e-02, -1.2228e-01, -9.6841e-03,  1.1237e-02, -7.4569e-02],\n",
              "        [-8.7324e-02,  5.1522e-03, -9.6817e-02,  1.3223e-01, -1.0614e-01,\n",
              "         -6.0418e-02, -1.3671e-01, -3.5979e-02, -4.6588e-03, -1.4932e-01],\n",
              "        [-9.5347e-02, -9.1778e-03, -7.2111e-02,  1.2804e-01, -5.1604e-02,\n",
              "         -4.6768e-02, -9.6756e-02,  3.4680e-02, -3.7694e-03, -7.7005e-02],\n",
              "        [-6.4645e-02, -4.7839e-03, -4.1131e-02,  1.0312e-01, -8.2341e-02,\n",
              "         -2.6210e-02, -1.1050e-01, -1.3919e-02,  3.4491e-02, -6.1936e-02],\n",
              "        [-5.6861e-02, -1.3007e-03, -4.6487e-02,  1.3675e-01, -7.6452e-02,\n",
              "         -3.5252e-02, -7.3482e-02,  5.7768e-03,  9.8702e-03, -1.2219e-01],\n",
              "        [-9.2439e-02,  1.8310e-02, -8.3515e-02,  9.7577e-02, -8.2431e-02,\n",
              "         -3.3278e-02, -1.0315e-01,  2.5446e-02, -3.8237e-02, -1.2667e-01],\n",
              "        [-6.9603e-02,  2.5301e-02, -3.8971e-02,  1.2343e-01, -8.9079e-02,\n",
              "         -4.5096e-02, -1.1377e-01, -3.3694e-02,  5.8349e-02, -1.2416e-01],\n",
              "        [-5.7906e-02,  3.0804e-02, -5.1717e-02,  1.1703e-01, -7.9016e-02,\n",
              "         -1.7560e-02, -1.2598e-01, -7.8318e-03,  3.6708e-02, -7.5337e-02],\n",
              "        [-5.8475e-02,  2.8250e-02, -5.5709e-02,  1.0810e-01, -7.6634e-02,\n",
              "         -2.6643e-02, -1.1484e-01, -2.1712e-02,  4.1256e-02, -9.4262e-02],\n",
              "        [-5.5425e-02, -1.9365e-02, -2.1773e-02,  1.2109e-01, -5.9336e-02,\n",
              "         -4.0647e-02, -1.0475e-01, -2.5085e-02,  4.6172e-02, -1.6136e-01],\n",
              "        [-6.0324e-02, -2.6077e-03, -6.9580e-02,  1.4647e-01, -1.0394e-01,\n",
              "         -4.6290e-02, -1.1140e-01, -1.2073e-02, -1.9594e-02, -5.8086e-02],\n",
              "        [-6.3269e-02,  2.3331e-02, -4.9027e-02,  9.9487e-02, -8.4947e-02,\n",
              "         -4.9710e-02, -1.0420e-01, -2.8633e-02,  4.6175e-02, -1.0424e-01],\n",
              "        [-7.1709e-02, -1.6059e-02, -2.5949e-02,  1.1599e-01, -7.1762e-02,\n",
              "         -4.8131e-02, -1.1990e-01, -2.0614e-02,  4.2067e-02, -1.2408e-01],\n",
              "        [-9.7529e-02,  1.2169e-02, -5.3188e-02,  1.1887e-01, -9.7909e-02,\n",
              "         -5.9983e-02, -8.7836e-02, -1.7589e-02,  2.9084e-02, -8.0586e-02],\n",
              "        [-1.1372e-01,  1.7691e-03, -4.9467e-02,  8.6084e-02, -8.2798e-02,\n",
              "         -4.6797e-02, -1.2877e-01, -5.5128e-02,  4.4392e-02, -1.2955e-01],\n",
              "        [-6.9882e-02,  5.7394e-03, -5.6450e-02,  1.2222e-01, -1.0111e-01,\n",
              "         -2.7436e-02, -1.2297e-01, -2.8080e-03, -6.0981e-03, -1.0524e-01],\n",
              "        [-1.1010e-01,  2.1710e-02, -9.2119e-02,  1.3886e-01, -1.1584e-01,\n",
              "         -5.7567e-02, -1.5027e-01, -6.9135e-02,  1.9954e-02, -1.2561e-01],\n",
              "        [-1.0083e-01,  2.1542e-02, -5.4159e-02,  1.4580e-01, -1.0248e-01,\n",
              "         -3.6734e-02, -1.0326e-01, -6.0831e-03, -1.7482e-02, -1.1030e-01],\n",
              "        [-4.2720e-02, -2.0452e-02, -4.3142e-02,  1.3783e-01, -9.5852e-02,\n",
              "         -5.8490e-02, -8.1017e-02, -1.4740e-02,  9.9331e-03, -1.1172e-01],\n",
              "        [-6.0638e-02,  4.1302e-05, -5.9371e-02,  1.1980e-01, -6.4948e-02,\n",
              "         -4.0811e-02, -1.0832e-01, -7.5547e-04,  1.5464e-02, -8.3562e-02],\n",
              "        [-8.6942e-02, -1.1382e-02, -2.4425e-02,  9.2227e-02, -8.6158e-02,\n",
              "         -5.3266e-02, -8.9650e-02, -5.0489e-02,  4.7131e-02, -9.9906e-02],\n",
              "        [-7.9363e-02,  2.7503e-02, -7.9618e-02,  1.0198e-01, -6.3766e-02,\n",
              "         -2.3534e-02, -9.1960e-02, -1.0458e-03,  2.0541e-02, -7.6247e-02],\n",
              "        [-6.6371e-02,  1.7640e-02, -4.1865e-02,  1.1156e-01, -8.6056e-02,\n",
              "         -2.9846e-02, -1.0340e-01, -9.7539e-03,  3.1315e-02, -1.1448e-01],\n",
              "        [-1.2353e-01,  1.2222e-02, -5.2082e-02,  1.4311e-01, -1.1462e-01,\n",
              "         -4.9533e-02, -9.5959e-02, -1.7857e-02,  1.3637e-02, -7.2659e-02],\n",
              "        [-4.2448e-02, -5.6314e-03, -4.7477e-02,  1.2745e-01, -9.0348e-02,\n",
              "         -4.2682e-02, -8.7500e-02, -9.3710e-03,  3.4393e-03, -9.0720e-02],\n",
              "        [-9.7873e-02, -4.8451e-03, -4.6499e-02,  1.2427e-01, -9.7090e-02,\n",
              "         -3.6898e-02, -1.2553e-01, -2.5642e-02,  2.5594e-02, -7.9756e-02],\n",
              "        [-1.1378e-01,  2.9619e-03, -6.2722e-02,  1.2925e-01, -9.4410e-02,\n",
              "         -3.5354e-02, -9.6180e-02, -1.8004e-02,  1.1740e-02, -7.2578e-02],\n",
              "        [-8.0005e-02,  1.3603e-02, -4.1251e-02,  1.4272e-01, -9.4910e-02,\n",
              "         -4.3361e-02, -7.9721e-02,  4.0410e-02, -2.3741e-02, -1.2223e-01],\n",
              "        [-6.8012e-02,  3.5852e-02, -9.4767e-02,  1.1316e-01, -8.1753e-02,\n",
              "         -2.7822e-02, -8.9756e-02, -1.4034e-02,  1.7907e-02, -5.3443e-02],\n",
              "        [-6.4937e-02,  1.2298e-02, -4.3712e-02,  9.1772e-02, -7.6316e-02,\n",
              "         -5.1518e-02, -9.2838e-02, -1.1377e-02,  3.3220e-02, -5.0775e-02],\n",
              "        [-7.3500e-02,  2.8899e-02, -5.1289e-02,  1.4522e-01, -1.0836e-01,\n",
              "         -6.2401e-02, -1.0812e-01, -2.7421e-02,  3.8765e-02, -9.0969e-02],\n",
              "        [-6.6629e-02,  2.9474e-02, -3.8960e-02,  1.1131e-01, -1.0363e-01,\n",
              "         -4.1329e-02, -9.6936e-02, -7.2141e-03,  3.6154e-02, -6.1570e-02],\n",
              "        [-5.8576e-02,  3.8199e-02, -5.8019e-02,  1.1155e-01, -7.6321e-02,\n",
              "         -3.0006e-02, -1.0299e-01, -1.3789e-02,  4.7624e-02, -9.2779e-02],\n",
              "        [-9.3392e-02, -4.5322e-03, -3.7192e-02,  1.0213e-01, -1.0216e-01,\n",
              "         -3.7174e-02, -1.1238e-01, -4.8629e-02,  3.8346e-02, -1.0830e-01],\n",
              "        [-6.5150e-02,  4.0529e-03, -2.1745e-02,  1.3979e-01, -1.1041e-01,\n",
              "         -4.3811e-02, -1.0140e-01, -6.4691e-03,  1.7992e-02, -1.2393e-01],\n",
              "        [-6.8338e-02, -7.4806e-03, -6.0544e-02,  1.3982e-01, -9.2720e-02,\n",
              "         -5.0534e-02, -8.3886e-02, -2.6248e-02,  4.0241e-04, -1.1162e-01],\n",
              "        [-4.1278e-02,  1.2786e-02, -1.0610e-01,  1.3242e-01, -9.2463e-02,\n",
              "         -4.0512e-02, -1.0309e-01, -1.7687e-02,  2.2828e-02, -1.1442e-01],\n",
              "        [-8.5637e-02,  4.2051e-03, -6.8552e-02,  1.3835e-01, -9.8926e-02,\n",
              "         -4.4511e-02, -1.1315e-01, -1.0437e-02, -7.1107e-03, -8.5399e-02],\n",
              "        [-1.2306e-01,  9.9463e-03, -5.1194e-02,  1.0396e-01, -1.1290e-01,\n",
              "         -4.4287e-02, -1.3458e-01, -5.3711e-02,  4.7168e-02, -8.7737e-02],\n",
              "        [-1.0335e-01,  2.8298e-02, -5.8820e-02,  9.9271e-02, -1.0716e-01,\n",
              "         -5.0446e-02, -1.1240e-01, -2.9494e-03, -3.0641e-03, -6.9268e-02],\n",
              "        [-6.4291e-02, -9.0359e-04, -7.5713e-02,  1.4685e-01, -1.0119e-01,\n",
              "         -4.4089e-02, -1.0768e-01, -1.7445e-02,  5.7526e-03, -9.0366e-02],\n",
              "        [-7.6658e-02, -6.3817e-03, -3.6922e-02,  1.6766e-01, -1.1204e-01,\n",
              "         -3.5233e-02, -1.0856e-01,  7.1148e-03,  3.3417e-03, -8.8017e-02],\n",
              "        [-6.5598e-02, -9.5572e-04, -6.0655e-02,  1.3001e-01, -6.1086e-02,\n",
              "         -4.3905e-02, -1.2835e-01, -1.8266e-02,  3.0214e-02, -1.0417e-01],\n",
              "        [-3.5790e-02,  5.1140e-03, -1.5735e-02,  1.3309e-01, -1.0562e-01,\n",
              "         -4.6051e-02, -7.2405e-02, -2.4960e-02,  1.6962e-02, -1.1304e-01],\n",
              "        [-4.4711e-02, -2.8575e-03, -2.8028e-02,  1.5159e-01, -1.1778e-01,\n",
              "         -3.3417e-02, -1.3784e-01, -3.8983e-02,  2.1812e-02, -1.2130e-01],\n",
              "        [-6.3096e-02,  6.8899e-03, -7.2176e-02,  1.2094e-01, -7.6498e-02,\n",
              "         -5.7524e-02, -7.3581e-02,  1.2799e-02,  1.9719e-03, -1.1118e-01],\n",
              "        [-5.2888e-02,  1.9349e-02, -5.4386e-02,  1.2954e-01, -7.0687e-02,\n",
              "         -3.9624e-02, -9.3045e-02, -7.7905e-04,  3.3754e-02, -1.1862e-01],\n",
              "        [-8.7643e-02, -7.2675e-03, -5.0802e-02,  1.2271e-01, -9.9222e-02,\n",
              "         -4.2693e-02, -1.1639e-01, -3.4229e-02,  1.0232e-02, -1.4835e-01],\n",
              "        [-7.1759e-02, -1.0213e-02, -4.0617e-02,  1.1494e-01, -8.4825e-02,\n",
              "         -5.6581e-02, -1.2568e-01, -2.3088e-02,  4.0264e-02, -1.1169e-01],\n",
              "        [-6.6204e-02, -1.7970e-02, -2.2680e-02,  1.1281e-01, -5.7948e-02,\n",
              "         -3.4434e-02, -9.9040e-02, -7.9901e-03,  8.1814e-03, -1.4672e-01],\n",
              "        [-6.1373e-02,  1.3984e-02, -4.3625e-02,  1.4907e-01, -8.4821e-02,\n",
              "         -6.5205e-02, -1.2803e-01, -2.0856e-02,  5.0312e-02, -1.4032e-01],\n",
              "        [-7.9462e-02,  1.4349e-02, -6.1599e-02,  1.5427e-01, -1.1254e-01,\n",
              "         -4.5703e-02, -1.3562e-01, -3.6844e-02,  4.2170e-02, -8.6745e-02],\n",
              "        [-7.8581e-02, -1.7994e-02, -4.0953e-02,  1.0555e-01, -8.4167e-02,\n",
              "         -2.0416e-02, -1.2182e-01, -2.7186e-02,  1.6199e-02, -8.7016e-02],\n",
              "        [-9.7409e-02,  1.6171e-02, -9.4795e-02,  1.1133e-01, -8.5811e-02,\n",
              "         -3.7082e-02, -1.2339e-01, -9.6647e-03, -7.0372e-04, -5.0942e-02],\n",
              "        [-4.8351e-02, -8.7504e-03, -4.5614e-02,  1.2717e-01, -1.0559e-01,\n",
              "         -4.2906e-02, -1.1001e-01, -3.7372e-02,  2.6866e-02, -1.0748e-01],\n",
              "        [-7.8864e-02,  1.1825e-02, -6.2577e-02,  1.2730e-01, -7.9393e-02,\n",
              "         -3.6260e-02, -1.0159e-01, -1.5951e-02,  2.8257e-02, -8.0109e-02],\n",
              "        [-6.8752e-02,  6.1345e-03, -2.7417e-02,  1.0003e-01, -8.1528e-02,\n",
              "         -5.5537e-02, -1.0179e-01, -3.5626e-02,  4.4234e-02, -9.4492e-02],\n",
              "        [-5.6157e-02,  1.1646e-02, -8.9208e-02,  1.0580e-01, -8.3278e-02,\n",
              "         -2.6838e-02, -8.6084e-02, -1.6112e-02,  2.8241e-02, -1.1224e-01],\n",
              "        [-1.0042e-01,  6.7300e-03, -7.8304e-02,  1.4383e-01, -1.0852e-01,\n",
              "         -5.0653e-02, -1.0377e-01, -1.2686e-02, -2.0227e-02, -8.9129e-02],\n",
              "        [-8.9804e-02, -2.1277e-02, -3.6955e-02,  1.0403e-01, -7.4722e-02,\n",
              "         -2.5702e-02, -1.0306e-01, -4.9192e-03,  2.4985e-02, -4.2528e-02],\n",
              "        [-7.0048e-02, -5.3654e-03, -4.5991e-02,  1.0615e-01, -9.2746e-02,\n",
              "         -3.9129e-02, -9.3894e-02, -1.5052e-02,  1.5740e-03, -9.6448e-02],\n",
              "        [-6.3747e-02,  8.6473e-03, -5.4139e-02,  7.7536e-02, -7.3836e-02,\n",
              "         -3.4703e-02, -9.8077e-02, -1.9217e-02,  4.3442e-02, -4.1829e-02],\n",
              "        [-8.1476e-02, -2.4620e-03, -3.1033e-02,  1.0143e-01, -6.3645e-02,\n",
              "         -3.7224e-02, -8.7502e-02, -2.4500e-02,  5.5289e-02, -8.4421e-02],\n",
              "        [-1.0384e-01, -7.3386e-03, -5.8998e-02,  1.2258e-01, -9.5620e-02,\n",
              "         -3.9756e-02, -1.1638e-01, -2.8239e-02,  2.4721e-03, -9.3423e-02],\n",
              "        [-8.8980e-02,  1.5336e-03, -5.5820e-02,  1.2193e-01, -1.1536e-01,\n",
              "         -4.9463e-02, -1.1343e-01, -3.2416e-02,  5.9562e-03, -9.2151e-02],\n",
              "        [-7.6151e-02,  2.1562e-02, -8.8549e-02,  1.2060e-01, -8.7407e-02,\n",
              "         -3.0605e-02, -1.1815e-01,  1.6745e-03,  1.4843e-02, -1.1085e-01],\n",
              "        [-8.0802e-02, -1.7680e-02, -4.9100e-02,  1.0113e-01, -8.8843e-02,\n",
              "         -5.5273e-02, -1.1688e-01, -2.7441e-02,  3.4808e-02, -1.0972e-01],\n",
              "        [-8.6350e-02,  1.1694e-02, -3.9767e-02,  9.5168e-02, -7.1898e-02,\n",
              "         -4.5861e-02, -1.1273e-01, -1.2803e-02,  2.8835e-02, -1.2596e-01],\n",
              "        [-6.6361e-02, -9.9369e-03, -4.0256e-02,  1.3594e-01, -8.6946e-02,\n",
              "         -5.7728e-02, -9.4467e-02, -1.2617e-02,  1.8174e-02, -1.2299e-01],\n",
              "        [-8.5265e-02,  3.7281e-02, -9.2655e-02,  1.0182e-01, -7.8290e-02,\n",
              "         -6.0734e-02, -8.6844e-02, -1.4304e-03,  8.4753e-04, -6.6057e-02],\n",
              "        [-1.1293e-01,  2.7821e-02, -4.6524e-02,  1.2602e-01, -1.0550e-01,\n",
              "         -3.2267e-02, -9.3851e-02, -1.1386e-02,  2.2721e-02, -5.8639e-02],\n",
              "        [-1.0856e-01,  4.4022e-03, -6.8356e-02,  1.1993e-01, -1.0745e-01,\n",
              "         -3.9269e-02, -1.1843e-01, -4.8754e-03, -3.6930e-02, -1.1815e-01],\n",
              "        [-5.9329e-02,  1.4423e-02, -7.7993e-02,  1.0594e-01, -3.8151e-02,\n",
              "         -4.2916e-02, -6.4709e-02,  2.2124e-02,  3.0574e-02, -9.5537e-02],\n",
              "        [-8.7882e-02,  1.9680e-02, -5.9382e-02,  1.3861e-01, -9.4783e-02,\n",
              "         -6.1223e-02, -1.0450e-01, -2.8030e-03,  1.5387e-02, -1.0400e-01],\n",
              "        [-9.4819e-02,  2.0584e-02, -3.7322e-02,  9.4886e-02, -9.9178e-02,\n",
              "         -3.5598e-02, -1.2790e-01, -4.3132e-02,  4.8210e-02, -1.1394e-01],\n",
              "        [-6.8461e-02,  1.9504e-02, -6.3180e-02,  9.9783e-02, -7.6973e-02,\n",
              "         -3.6336e-02, -1.0313e-01, -2.1801e-02,  3.9250e-02, -8.6475e-02],\n",
              "        [-6.5214e-02,  1.3718e-02, -3.7580e-02,  1.5638e-01, -9.3431e-02,\n",
              "         -3.9199e-02, -8.9325e-02,  2.0556e-02, -1.3371e-02, -1.1375e-01],\n",
              "        [-8.7437e-02, -1.3642e-02, -7.5426e-02,  1.0505e-01, -8.1297e-02,\n",
              "         -2.4095e-02, -1.2006e-01, -5.4998e-03, -1.1036e-02, -1.1201e-01],\n",
              "        [-4.7767e-02,  2.4207e-02, -5.5177e-02,  1.2091e-01, -7.5097e-02,\n",
              "         -4.3338e-02, -7.2177e-02,  3.7169e-03, -1.8208e-03, -7.5716e-02],\n",
              "        [-9.3861e-02, -6.2204e-03, -7.1159e-02,  1.3583e-01, -7.9553e-02,\n",
              "         -5.1162e-02, -1.1259e-01,  6.6324e-03, -7.0755e-03, -7.5888e-02],\n",
              "        [-6.6383e-02,  2.0613e-02, -4.9206e-02,  1.1715e-01, -8.4194e-02,\n",
              "         -5.4888e-02, -6.4857e-02,  9.2266e-03,  9.4666e-04, -9.0896e-02],\n",
              "        [-6.7222e-02,  1.9263e-04, -6.6565e-02,  1.1168e-01, -1.0012e-01,\n",
              "         -2.5356e-02, -1.2284e-01, -9.9986e-03, -3.1806e-03, -9.6351e-02],\n",
              "        [-7.2673e-02,  1.2315e-02, -5.1505e-02,  1.3044e-01, -6.3431e-02,\n",
              "         -4.7118e-02, -8.4431e-02, -8.5988e-03,  4.9452e-02, -9.5680e-02],\n",
              "        [-6.1275e-02, -2.0558e-03, -1.0259e-02,  1.2855e-01, -1.0859e-01,\n",
              "         -4.5758e-02, -8.5924e-02, -3.0429e-02,  4.1324e-02, -9.4800e-02],\n",
              "        [-1.0730e-01,  1.0284e-02, -5.3568e-02,  1.2536e-01, -1.0373e-01,\n",
              "         -4.5138e-02, -1.1629e-01, -3.0669e-02,  2.0218e-02, -8.6284e-02],\n",
              "        [-6.8987e-02,  3.3069e-02, -4.2113e-02,  9.5572e-02, -1.0123e-01,\n",
              "         -2.6474e-02, -8.7848e-02, -6.0102e-03,  2.7518e-02, -7.9347e-02],\n",
              "        [-7.1695e-02,  1.5098e-02, -4.0468e-02,  1.2551e-01, -1.0161e-01,\n",
              "         -3.4223e-02, -1.0534e-01, -2.0763e-02,  2.3046e-02, -1.0412e-01],\n",
              "        [-1.1231e-01,  2.5382e-03, -7.3109e-02,  1.1786e-01, -1.0789e-01,\n",
              "         -5.0101e-02, -1.2962e-01, -2.4522e-02, -2.1848e-02, -1.0484e-01],\n",
              "        [-8.0049e-02,  1.1901e-02, -5.0382e-02,  8.6714e-02, -8.1453e-02,\n",
              "         -3.3337e-02, -1.1822e-01, -2.2679e-02,  3.4972e-02, -1.0433e-01]],\n",
              "       grad_fn=<AddmmBackward0>)"
            ]
          },
          "metadata": {},
          "execution_count": 8
        }
      ]
    },
    {
      "cell_type": "code",
      "source": [
        "# Let's compare batch computation and for loop computation\n",
        "\n",
        "import time\n",
        "device = 'cuda' # gpu driver\n",
        "layers = layers.to(device) # move layer parameters to gpu\n",
        "flattend_imgs = flattend_imgs.to(device)  # move data tensor to gpu\n",
        "\n",
        "start_time = time.time()\n",
        "layers(flattend_imgs)\n",
        "end_time = time.time()\n",
        "print(f\"Batch computation: {end_time - start_time}\")\n",
        "\n",
        "start_time = time.time()\n",
        "for sample in flattend_imgs:\n",
        "  layers(sample)\n",
        "end_time = time.time()\n",
        "print(f\"Sample for-loop computation: {end_time - start_time}\")\n"
      ],
      "metadata": {
        "id": "BFTv5l97F2yd",
        "outputId": "7f79ac8c-0dca-40b3-e94f-a373b0701355",
        "colab": {
          "base_uri": "https://localhost:8080/"
        }
      },
      "execution_count": 9,
      "outputs": [
        {
          "output_type": "stream",
          "name": "stdout",
          "text": [
            "Batch computation: 0.22916007041931152\n",
            "Sample for-loop computation: 0.06736016273498535\n"
          ]
        }
      ]
    },
    {
      "cell_type": "markdown",
      "metadata": {
        "id": "Di6k4tNFMhOP"
      },
      "source": [
        "#### Extra: Practice on Reshape"
      ]
    },
    {
      "cell_type": "code",
      "execution_count": 10,
      "metadata": {
        "colab": {
          "base_uri": "https://localhost:8080/"
        },
        "id": "GRV2V-x2wAPY",
        "outputId": "7e23a2c3-233c-4870-afd8-0e6c65a06c15"
      },
      "outputs": [
        {
          "output_type": "stream",
          "name": "stdout",
          "text": [
            "tensor([ 0,  1,  2,  3,  4,  5,  6,  7,  8,  9, 10, 11])\n",
            "tensor([[ 0,  1,  2,  3],\n",
            "        [ 4,  5,  6,  7],\n",
            "        [ 8,  9, 10, 11]])\n",
            "tensor([[ 0,  1,  2],\n",
            "        [ 3,  4,  5],\n",
            "        [ 6,  7,  8],\n",
            "        [ 9, 10, 11]])\n"
          ]
        }
      ],
      "source": [
        "dummy = torch.arange(12)\n",
        "print(dummy)\n",
        "print(dummy.reshape(3,4))\n",
        "print(dummy.reshape(4,3))"
      ]
    },
    {
      "cell_type": "code",
      "source": [
        "dummy34 = dummy.reshape(3,4)\n",
        "dummy43 = dummy.reshape(4,3)\n",
        "\n",
        "dummy34.permute(1,0).reshape(3,4) ## same with dummy34.T"
      ],
      "metadata": {
        "id": "jdAxClVQ9oVe",
        "outputId": "a0350aad-f0bd-4078-dfe9-72f95164255d",
        "colab": {
          "base_uri": "https://localhost:8080/"
        }
      },
      "execution_count": 11,
      "outputs": [
        {
          "output_type": "execute_result",
          "data": {
            "text/plain": [
              "tensor([[ 0,  4,  8,  1],\n",
              "        [ 5,  9,  2,  6],\n",
              "        [10,  3,  7, 11]])"
            ]
          },
          "metadata": {},
          "execution_count": 11
        }
      ]
    },
    {
      "cell_type": "code",
      "execution_count": 12,
      "metadata": {
        "id": "x8PX0f2EwaJI"
      },
      "outputs": [],
      "source": [
        "# label_tensor = torch.tensor(label_list)\n",
        "# flattened_data.shape, label_tensor.shape"
      ]
    },
    {
      "cell_type": "code",
      "execution_count": 13,
      "metadata": {
        "id": "vs0NMOn5xOLb"
      },
      "outputs": [],
      "source": [
        "# first_data = flattened_data[1]\n",
        "# plt.imshow(first_data.reshape(28, 28))"
      ]
    },
    {
      "cell_type": "code",
      "execution_count": 14,
      "metadata": {
        "id": "YwZs4kLpxqpK"
      },
      "outputs": [],
      "source": [
        "# first_data.shape, first_data"
      ]
    },
    {
      "cell_type": "code",
      "execution_count": 14,
      "metadata": {
        "id": "oO-aDs8Pxqj6"
      },
      "outputs": [],
      "source": []
    },
    {
      "cell_type": "markdown",
      "metadata": {
        "id": "4WX3hNlRdPK6"
      },
      "source": [
        "# 0.0 Using DataLoader"
      ]
    },
    {
      "cell_type": "code",
      "execution_count": 15,
      "metadata": {
        "colab": {
          "base_uri": "https://localhost:8080/"
        },
        "id": "Ii_Vr3IIdo4O",
        "outputId": "7e5edc30-eaa9-4f25-d7bb-1d017cf01d6b"
      },
      "outputs": [
        {
          "output_type": "execute_result",
          "data": {
            "text/plain": [
              "Dataset MNIST\n",
              "    Number of datapoints: 60000\n",
              "    Root location: ./data\n",
              "    Split: Train\n",
              "    StandardTransform\n",
              "Transform: ToTensor()"
            ]
          },
          "metadata": {},
          "execution_count": 15
        }
      ],
      "source": [
        "train_data"
      ]
    },
    {
      "cell_type": "code",
      "source": [
        "img, label = train_data[0] ## calling __getitem__ method of train_data\n",
        "img.shape, label"
      ],
      "metadata": {
        "id": "NyRBT6j5_wJQ",
        "outputId": "39d86240-b2d1-4fff-d0a8-914e0510edf3",
        "colab": {
          "base_uri": "https://localhost:8080/"
        }
      },
      "execution_count": 16,
      "outputs": [
        {
          "output_type": "execute_result",
          "data": {
            "text/plain": [
              "(torch.Size([1, 28, 28]), 5)"
            ]
          },
          "metadata": {},
          "execution_count": 16
        }
      ]
    },
    {
      "cell_type": "code",
      "execution_count": 17,
      "metadata": {
        "colab": {
          "base_uri": "https://localhost:8080/"
        },
        "id": "_IcYNkVAdOg9",
        "outputId": "5f41e237-9ec7-423f-db7e-375dcab4afe6"
      },
      "outputs": [
        {
          "output_type": "execute_result",
          "data": {
            "text/plain": [
              "(60000, torch.Size([784]))"
            ]
          },
          "metadata": {},
          "execution_count": 17
        }
      ],
      "source": [
        "class Dataset:\n",
        "  def __init__(self, data):\n",
        "    self.data = data\n",
        "\n",
        "  # To implement the dataset, you have to declare two methods\n",
        "  # __getitem__ and __len__\n",
        "\n",
        "  def __getitem__(self, idx):\n",
        "    # this method is called when you do train_set[idx]\n",
        "    # here, we want to return our idx-th datasample, in proper format\n",
        "    img, label = self.data[idx]\n",
        "    # return img, label\n",
        "    return img.reshape(-1), label\n",
        "\n",
        "  def __len__(self):\n",
        "    # how many datasample we have in our dataset?\n",
        "    # what is the maximum valid idx for __getitem__\n",
        "    return len(self.data)\n",
        "\n",
        "train_set = Dataset(train_data)\n",
        "# train_set[15]\n",
        "len(train_set), train_set[523][0].shape"
      ]
    },
    {
      "cell_type": "code",
      "source": [
        "from typing import List, Tuple\n",
        "\n",
        "target_idx = [0, 1, 2, 3]\n",
        "target_idx = [23845, 281, 4074, 235]\n",
        "\n",
        "raw_batch = []\n",
        "\n",
        "# for idx in target_idx:\n",
        "#   idx_sample = train_set[idx]\n",
        "#   raw_batch.append(idx_sample)\n",
        "raw_batch = [train_set[idx] for idx in target_idx]\n",
        "print(type(raw_batch), type(raw_batch[0])) # raw batch is list of tuple\n",
        "\n",
        "# below is what collate_fn do\n",
        "\n",
        "def my_custom_collate_fn(raw_batch: List[Tuple]) -> Tuple[torch.Tensor, torch.Tensor]:\n",
        "  img_batch = [sample[0] for sample in raw_batch ]\n",
        "  label_batch = [sample[1] for sample in raw_batch ]\n",
        "\n",
        "  # print(type(img_batch), type(img_batch[0]), type(label_batch[0]))\n",
        "  # print(f\"stack shape: {torch.stack(img_batch).shape}, cat shape: {torch.cat(img_batch).shape}\")\n",
        "  img_batch = torch.stack(img_batch)\n",
        "  label_batch = torch.tensor(label_batch)\n",
        "\n",
        "  # img_batch.shape, label_batch.shape\n",
        "  return img_batch, label_batch\n",
        "\n",
        "\n",
        "batch = my_custom_collate_fn(raw_batch)\n",
        "print(type(batch), type(batch[0]), type(batch[1]))\n",
        "\n",
        "imgs, labels = batch\n",
        "imgs.shape, labels.shape"
      ],
      "metadata": {
        "id": "ywntHfq1Ahy1",
        "outputId": "cf5871fe-47d0-4d20-e0cf-6ce0e32a58d7",
        "colab": {
          "base_uri": "https://localhost:8080/"
        }
      },
      "execution_count": 18,
      "outputs": [
        {
          "output_type": "stream",
          "name": "stdout",
          "text": [
            "<class 'list'> <class 'tuple'>\n",
            "<class 'tuple'> <class 'torch.Tensor'> <class 'torch.Tensor'>\n"
          ]
        },
        {
          "output_type": "execute_result",
          "data": {
            "text/plain": [
              "(torch.Size([4, 784]), torch.Size([4]))"
            ]
          },
          "metadata": {},
          "execution_count": 18
        }
      ]
    },
    {
      "cell_type": "code",
      "source": [
        "# use dataloader\n",
        "\n",
        "train_loader = torch.utils.data.DataLoader(train_set,\n",
        "                                           batch_size=64,\n",
        "                                           shuffle=True,\n",
        "                                           collate_fn=my_custom_collate_fn\n",
        "                                           )\n",
        "\n",
        "for batch in train_loader:\n",
        "  # do something\n",
        "  print(batch[0].shape, batch[1].shape)\n",
        "  break\n",
        "\n",
        "# if you want to get only one single batch from the DataLoader, you can do below\n",
        "# iterator = iter(train_loader)\n",
        "# next(iterator)\n",
        "batch = next(iter(train_loader))"
      ],
      "metadata": {
        "id": "e4lEj7azGCnM",
        "outputId": "2572f6d8-4abc-4bfe-a1e5-bf93b4a3fe78",
        "colab": {
          "base_uri": "https://localhost:8080/"
        }
      },
      "execution_count": 19,
      "outputs": [
        {
          "output_type": "stream",
          "name": "stdout",
          "text": [
            "torch.Size([64, 784]) torch.Size([64])\n"
          ]
        }
      ]
    },
    {
      "cell_type": "markdown",
      "source": [],
      "metadata": {
        "id": "qUzEow5xGfhf"
      }
    },
    {
      "cell_type": "markdown",
      "metadata": {
        "id": "edZN-pPuMhOP"
      },
      "source": [
        "## 1. Make a Model"
      ]
    },
    {
      "cell_type": "code",
      "source": [
        "class Classifier(nn.Module):\n",
        "  def __init__(self, hidden_dim, input_dim=784, out_dim=10):\n",
        "    super().__init__()\n",
        "\n",
        "    self.layers = nn.Sequential(\n",
        "        nn.Linear(input_dim, hidden_dim),\n",
        "        nn.ReLU(),\n",
        "        nn.Linear(hidden_dim, hidden_dim),\n",
        "        nn.ReLU(),\n",
        "        nn.Linear(hidden_dim, out_dim)\n",
        "    )\n",
        "\n",
        "  def forward(self, x:torch.Tensor):\n",
        "    logit = self.layers(x)\n",
        "    prob = logit.softmax(dim=-1)\n",
        "\n",
        "    return prob, logit\n",
        "\n",
        "model = Classifier(hidden_dim=64)\n",
        "\n",
        "prob, logit = model(batch[0])\n",
        "prob.shape, prob[0]"
      ],
      "metadata": {
        "id": "PXzlnLr-GBMS",
        "outputId": "87489cdf-e79b-4e7f-e53a-819cf82e5818",
        "colab": {
          "base_uri": "https://localhost:8080/"
        }
      },
      "execution_count": 31,
      "outputs": [
        {
          "output_type": "execute_result",
          "data": {
            "text/plain": [
              "(torch.Size([64, 10]),\n",
              " tensor([0.0935, 0.0907, 0.0957, 0.0853, 0.1095, 0.1086, 0.1093, 0.1110, 0.0939,\n",
              "         0.1024], grad_fn=<SelectBackward0>))"
            ]
          },
          "metadata": {},
          "execution_count": 31
        }
      ]
    },
    {
      "cell_type": "markdown",
      "metadata": {
        "id": "K0m975ufMhOP"
      },
      "source": [
        "## 1.1 Make Softmax"
      ]
    },
    {
      "cell_type": "markdown",
      "metadata": {
        "id": "5DIkJHsmlDS8"
      },
      "source": [
        "## 2. Training"
      ]
    },
    {
      "cell_type": "markdown",
      "metadata": {
        "id": "gog3CqdTlDS9"
      },
      "source": [
        "### 2.1 Make a Loss Function\n",
        "- Define Negative Log Likelihood Loss\n",
        "  - $L = -\\sum_{i=1}^n\\log(\\hat{y}_{i}^{(c)})$\n",
        "  - $y_{i}^{(c)} \\in (0, 1)$: predicted probability for $i$-th sample to be class $c$, where $c$ is the ground truth label for $i$-th sample\n",
        "- Define Cross Entropy Loss\n",
        "  - $L = -\\sum_{i=1}^ny_{i}\\log(\\hat{y}_{i})$\n",
        "  - $ y_{i} \\in (0,1)^C$: ground truth label for $i$-th sample to be class $c$. $C$ denotes the number of classes.\n",
        "    - One-hot encoding: $y_{i} = [0, 0, 1, 0, 0, 0, 0, 0, 0, 0]$\n",
        "  - $ \\hat{y}_{i} \\in (0, 1)^C$: predicted probability for $i$-th sample to be class $c$\n",
        "    - e.g.: $\\hat{y}_{i} = [0.1, 0.1, 0.5, 0.1, 0.1, 0.0, 0.0, 0.0, 0.0, 0.1]$"
      ]
    },
    {
      "cell_type": "code",
      "source": [
        "imgs, labels = batch\n",
        "prob, logit = model(imgs)\n",
        "print(labels)\n",
        "# calculate loss by comparing prob and labels\n",
        "prob[:16,:-1]"
      ],
      "metadata": {
        "id": "8pVFySHeJjyn",
        "outputId": "cd7572db-44cc-4069-f0ee-052c9f1e060c",
        "colab": {
          "base_uri": "https://localhost:8080/"
        }
      },
      "execution_count": 32,
      "outputs": [
        {
          "output_type": "stream",
          "name": "stdout",
          "text": [
            "tensor([7, 3, 7, 2, 0, 2, 8, 8, 3, 6, 7, 8, 1, 6, 2, 0, 4, 7, 7, 3, 6, 1, 4, 9,\n",
            "        2, 2, 6, 7, 0, 7, 6, 1, 9, 1, 1, 3, 0, 5, 8, 0, 6, 8, 1, 1, 8, 3, 3, 6,\n",
            "        7, 2, 6, 7, 4, 8, 7, 0, 2, 6, 9, 7, 0, 4, 9, 0])\n"
          ]
        },
        {
          "output_type": "execute_result",
          "data": {
            "text/plain": [
              "tensor([[0.0935, 0.0907, 0.0957, 0.0853, 0.1095, 0.1086, 0.1093, 0.1110, 0.0939],\n",
              "        [0.0959, 0.0870, 0.0958, 0.0807, 0.1078, 0.1085, 0.1146, 0.1126, 0.0936],\n",
              "        [0.0943, 0.0894, 0.0943, 0.0835, 0.1060, 0.1105, 0.1108, 0.1172, 0.0894],\n",
              "        [0.0934, 0.0926, 0.0937, 0.0867, 0.1089, 0.1049, 0.1106, 0.1158, 0.0931],\n",
              "        [0.0939, 0.0892, 0.0926, 0.0861, 0.1094, 0.1091, 0.1105, 0.1127, 0.0915],\n",
              "        [0.0971, 0.0917, 0.0918, 0.0856, 0.1072, 0.1093, 0.1122, 0.1152, 0.0900],\n",
              "        [0.0912, 0.0898, 0.0921, 0.0839, 0.1066, 0.1079, 0.1117, 0.1204, 0.0900],\n",
              "        [0.0951, 0.0910, 0.0933, 0.0862, 0.1101, 0.1054, 0.1120, 0.1125, 0.0932],\n",
              "        [0.0934, 0.0869, 0.0940, 0.0867, 0.1077, 0.1088, 0.1129, 0.1121, 0.0950],\n",
              "        [0.0921, 0.0930, 0.0937, 0.0843, 0.1103, 0.1062, 0.1109, 0.1154, 0.0942],\n",
              "        [0.0924, 0.0916, 0.0954, 0.0851, 0.1094, 0.1097, 0.1087, 0.1090, 0.0970],\n",
              "        [0.0937, 0.0880, 0.0944, 0.0854, 0.1078, 0.1084, 0.1131, 0.1132, 0.0921],\n",
              "        [0.0933, 0.0900, 0.0945, 0.0827, 0.1086, 0.1085, 0.1125, 0.1134, 0.0956],\n",
              "        [0.0923, 0.0926, 0.0947, 0.0841, 0.1106, 0.1073, 0.1123, 0.1128, 0.0930],\n",
              "        [0.0943, 0.0918, 0.0948, 0.0874, 0.1095, 0.1063, 0.1099, 0.1100, 0.0947],\n",
              "        [0.0938, 0.0914, 0.0928, 0.0868, 0.1091, 0.1079, 0.1096, 0.1139, 0.0936]],\n",
              "       grad_fn=<SliceBackward0>)"
            ]
          },
          "metadata": {},
          "execution_count": 32
        }
      ]
    },
    {
      "cell_type": "code",
      "source": [
        "# get nll loss\n",
        "\n",
        "# get the probabilty of correct class for each sample\n",
        "\n",
        "correct_class_probs = []\n",
        "for indiv_prob, indiv_label in zip(prob, labels):\n",
        "  # print(indiv_label, indiv_prob)\n",
        "  prob_of_correct_class = indiv_prob[indiv_label]\n",
        "  correct_class_probs.append(prob_of_correct_class)\n",
        "torch.stack(correct_class_probs), prob[torch.arange(len(prob)), labels]\n",
        "\n",
        "def my_nll_fn(prob, labels):\n",
        "  return -torch.log(prob[torch.arange(len(prob)), labels] + 1e-8).mean()\n",
        "\n",
        "correct_probs = prob[torch.arange(len(prob)), labels]\n",
        "\n",
        "\n",
        "loss_fn = torch.nn.NLLLoss()\n",
        "cross_entropy_fn = torch.nn.CrossEntropyLoss()\n",
        "# torch.nn.NLLLoss expects log-probability\n",
        "nll_torch = loss_fn(prob.log(), labels)\n",
        "# torch.nn.CrossEntropyLoss expects logit\n",
        "# softmax contains exponential, and we are applying log to the softmax\n",
        "ce_torch = cross_entropy_fn(logit, labels)\n",
        "\n",
        "nll = -torch.log(correct_probs).mean()\n",
        "nll = my_nll_fn(prob, labels)\n",
        "\n",
        "nll, nll_torch, ce_torch"
      ],
      "metadata": {
        "id": "6FyTFX6TKRbn",
        "outputId": "0f3cba2e-92e2-4e52-84ed-d6a755b9f904",
        "colab": {
          "base_uri": "https://localhost:8080/"
        }
      },
      "execution_count": 40,
      "outputs": [
        {
          "output_type": "execute_result",
          "data": {
            "text/plain": [
              "(tensor(2.3099, grad_fn=<NegBackward0>),\n",
              " tensor(2.3099, grad_fn=<NllLossBackward0>),\n",
              " tensor(2.3099, grad_fn=<NllLossBackward0>))"
            ]
          },
          "metadata": {},
          "execution_count": 40
        }
      ]
    },
    {
      "cell_type": "markdown",
      "metadata": {
        "id": "UAb1YooZlDS9"
      },
      "source": [
        "### 2.2 Define Training Loop"
      ]
    },
    {
      "cell_type": "code",
      "source": [
        "print(isinstance(my_nll_fn, torch.nn.CrossEntropyLoss))\n",
        "print(isinstance(cross_entropy_fn, torch.nn.CrossEntropyLoss))\n",
        "print(isinstance(loss_fn, torch.nn.CrossEntropyLoss))"
      ],
      "metadata": {
        "id": "wLHohasTTx9j",
        "outputId": "637a82c0-c44b-407b-8bd0-93c1d096fbed",
        "colab": {
          "base_uri": "https://localhost:8080/"
        }
      },
      "execution_count": 44,
      "outputs": [
        {
          "output_type": "stream",
          "name": "stdout",
          "text": [
            "False\n",
            "True\n",
            "False\n"
          ]
        }
      ]
    },
    {
      "cell_type": "code",
      "execution_count": 46,
      "metadata": {
        "id": "_v7OnVGXlDS9",
        "colab": {
          "base_uri": "https://localhost:8080/"
        },
        "outputId": "b921feda-6de8-4d02-cfea-3fd367ab85b5"
      },
      "outputs": [
        {
          "output_type": "stream",
          "name": "stdout",
          "text": [
            "2.3124146461486816\n",
            "2.2842438220977783\n",
            "2.2603139877319336\n",
            "2.2360048294067383\n",
            "2.2103424072265625\n",
            "2.182403326034546\n",
            "2.151113271713257\n",
            "2.116023540496826\n",
            "2.077569007873535\n",
            "2.035228967666626\n",
            "1.9889642000198364\n",
            "1.9385145902633667\n",
            "1.8844975233078003\n",
            "1.8272607326507568\n",
            "1.7673392295837402\n",
            "1.7044589519500732\n",
            "1.6394293308258057\n",
            "1.5726392269134521\n",
            "1.5042738914489746\n",
            "1.43446946144104\n",
            "1.3640943765640259\n",
            "1.2937618494033813\n",
            "1.2237094640731812\n",
            "1.1543071269989014\n",
            "1.0860826969146729\n",
            "1.0192009210586548\n",
            "0.9541636109352112\n",
            "0.8913471698760986\n",
            "0.8310197591781616\n",
            "0.7732612490653992\n",
            "0.7180814146995544\n",
            "0.6656787991523743\n",
            "0.6160822510719299\n",
            "0.5693345069885254\n",
            "0.5251968502998352\n",
            "0.4836662709712982\n",
            "0.44454410672187805\n",
            "0.4077688157558441\n",
            "0.3733457028865814\n",
            "0.3413451313972473\n",
            "0.31169402599334717\n",
            "0.28446999192237854\n",
            "0.25951871275901794\n",
            "0.2367459237575531\n",
            "0.21585911512374878\n",
            "0.19666768610477448\n",
            "0.17914971709251404\n",
            "0.1631065011024475\n",
            "0.14844422042369843\n",
            "0.13501033186912537\n",
            "0.12272398173809052\n",
            "0.11155564337968826\n",
            "0.10145135223865509\n",
            "0.0923909842967987\n",
            "0.08419764786958694\n",
            "0.07684565335512161\n",
            "0.07027658820152283\n",
            "0.0643732100725174\n",
            "0.05909524857997894\n",
            "0.05435920134186745\n",
            "0.05010588839650154\n",
            "0.04626283422112465\n",
            "0.04277592897415161\n",
            "0.039613451808691025\n",
            "0.03674212470650673\n",
            "0.03412577137351036\n",
            "0.031752437353134155\n",
            "0.029599908739328384\n",
            "0.027643222361803055\n",
            "0.02587420865893364\n",
            "0.024275414645671844\n",
            "0.022814711555838585\n",
            "0.021479401737451553\n",
            "0.020262394100427628\n",
            "0.01915176585316658\n",
            "0.01813422702252865\n",
            "0.01720370538532734\n",
            "0.01635001413524151\n",
            "0.015568448230624199\n",
            "0.014846979640424252\n",
            "0.014177854172885418\n",
            "0.013556299731135368\n",
            "0.01298072561621666\n",
            "0.01244682539254427\n",
            "0.011950274929404259\n",
            "0.011488481424748898\n",
            "0.011058778502047062\n",
            "0.010659526102244854\n",
            "0.010286089964210987\n",
            "0.009936459362506866\n",
            "0.009609256871044636\n",
            "0.009302210994064808\n",
            "0.009013664908707142\n",
            "0.0087420754134655\n",
            "0.008486260659992695\n",
            "0.008244694210588932\n",
            "0.008016387932002544\n",
            "0.0078001562505960464\n",
            "0.0075956471264362335\n",
            "0.007401745300740004\n"
          ]
        }
      ],
      "source": [
        "def train_one_step(model, optimizer, loss_function, input, target):\n",
        "  pred, logit = model(input) # forward pass. compute the prediction\n",
        "  # if loss_function == torch.nn.CrossEntropyLoss: # if loss_function is torch.nn.CrossEntropyLoss:\n",
        "  if isinstance(loss_function, torch.nn.CrossEntropyLoss):\n",
        "    loss = loss_function(logit, target)\n",
        "  else:\n",
        "    loss = loss_function(pred, target) # compute the loss\n",
        "  loss.backward() # backpropagate theloss. compute the gradient\n",
        "  optimizer.step() # update the parameters based on each gradient\n",
        "  optimizer.zero_grad() # clear the gradient for every parameters\n",
        "  return loss.item() # return the loss value\n",
        "\n",
        "model = Classifier(hidden_dim=64)\n",
        "optimizer = torch.optim.Adam(model.parameters())\n",
        "\n",
        "\n",
        "for _ in range(100):\n",
        "  loss = train_one_step(model, optimizer, cross_entropy_fn, imgs, labels)\n",
        "  print(loss)\n"
      ]
    },
    {
      "cell_type": "markdown",
      "metadata": {
        "id": "LxWrFBaslDS9"
      },
      "source": [
        "### 2.3 Make Batch"
      ]
    },
    {
      "cell_type": "code",
      "source": [
        "batch = next(iter(train_loader))\n"
      ],
      "metadata": {
        "id": "fDBSwaQzVc69"
      },
      "execution_count": 47,
      "outputs": []
    },
    {
      "cell_type": "markdown",
      "metadata": {
        "id": "Ft6Anc_ClDS9"
      },
      "source": [
        "### 2.4 Train"
      ]
    },
    {
      "cell_type": "code",
      "execution_count": 48,
      "metadata": {
        "id": "0eZnsP5fhcsK"
      },
      "outputs": [],
      "source": [
        "DEV = 'cuda' # all uppercase variable name means this variable is global variable"
      ]
    },
    {
      "cell_type": "code",
      "execution_count": 50,
      "metadata": {
        "colab": {
          "base_uri": "https://localhost:8080/",
          "height": 49,
          "referenced_widgets": [
            "14d0e00469b44bc48a963fe11e780363",
            "eb22b5f0c32e42c0b9713deb6735e7e9",
            "e4915fe1c47445b6a7fad1686faab507",
            "2bc7d36aec054258b8cc53152c0bd1d8",
            "2b8cce4f65ee4038a98a268feadedd14",
            "84c8a2ed2a2b4575a16de15a71a8f607",
            "ba65c5e6e5d64d59a659d23dd54857f6",
            "1101039345b640a68027bf1f9a9ba9e8",
            "0645cba19bed468aa4aadd2212998308",
            "b202a1e4a4ab42c8951ad03f030d8229",
            "4067083b1dd14f7a9057c425992c4fe6",
            "89bf2eb28dac41ae869c2cbf366d490f",
            "5fc390e4cdd14a1a926cc7257570e08d",
            "78cc105ef5f34ff89e9c01eed604873d",
            "a0a20f805dd94667af8f83914bbd133b",
            "009bef2cbd8c4109b80311f6250d9c59",
            "143d6d05c4ff40dfaa40851dd75a93b6",
            "23b33d8f1d45409090f62c5d4880da74",
            "a5e017a18e2b476eb18b68c8fe8e93f2",
            "7bb71da30c7443b997fbd635b6528498",
            "9b31c3e452c349cfae59818b68e2f5ca",
            "001a07852c7c4d1d97c101c18e0d3d23",
            "4b5f9455ce85444aacbb8eb5b3979bfd",
            "aa7d9defc7384b28b03eb917f8fdd692",
            "92c7af7535854a80b002253d6dbe6665",
            "fefb3eef1a514123848e9f1ae57549bf",
            "10a3f3c603fe44708fe2e36bad39fded",
            "97222ad0529146b880dd5a61f036b2a4",
            "7ac74fc2ff5946f8a935c3e8fcc61b24",
            "b2d2fbd72c1c47c29ec2bdd5ba7a259a",
            "6264a0f5f0e44d7385fb6b1bdbb5595c",
            "4052f96662d34101b534afc1c54d7d4e",
            "89d3bba9c0264d05a650e7ad190697e4",
            "119cac645200456b869d62d7c93be86d",
            "d35bdfe78e5c40b0905f292519313f69",
            "9b47189d419e45b1b945c531061643b6",
            "ca8518b5fe9d4efaa8e3faf458b4c39c",
            "0b496432d9254d50a11198f0e26dfb99",
            "fa6ff02d74e6486aaf740e980e1e78c3",
            "2805a46552d64c199208e90a88966886",
            "041ade4d7a5748188e0c82c3ecc238a0",
            "dd64985ef3864522a49138f55b03fefb",
            "d0e97ba53fb745b2bd0bcfda025b07ef",
            "0acc1a22134d4952a71d76ff98054fb2",
            "5370cfdb1c794341a8be0531743abf15",
            "d17bbe632563426fa4138cd826235605",
            "1d07efac93a14ada974ff327aa19e31d",
            "e5edd200c20a443792351853b3983aa9",
            "b34bbe190d5d4eccb69b070a238b2880",
            "1ab591848bfd4a1bb015189a9de4a1a7",
            "4ffd24450eec4c0487622355a3b41243",
            "839940f75d464153bd8aa7ee1dbaeb5a",
            "c9ee219e14154a31a3b84d3269af3ab1",
            "afafe9ddf50c46f1b80e22b7b5c9bb5b",
            "c2443d3a3a3040a490ba29f3eb009dd6",
            "3103223871764d43aff586e93b315242",
            "2706714e96ae480fb148a4d5c6c6f0c3",
            "626f7513877e41168f7b1d2b8e0ab80f",
            "1511b6ff15cb4fb09842cd722d28d25b",
            "bd1fa38067734fdb81b9e9688bf3d5fb",
            "6db4b47e60a947199b583ce7e277c742",
            "417a273c7b134dc6b920e3702523b813",
            "b035f1b21d724470b134e206ef0fc916",
            "2d4f63c7cc804c5fb21a86558e334c90",
            "cd680a1a16e9434f905db310f48781a2",
            "df28f7a96d854e3a80cd947ca937205e"
          ]
        },
        "id": "GqaSW0v3lDS9",
        "outputId": "83a0b5b2-a1f8-4d9f-92a8-474cfb049a57"
      },
      "outputs": [
        {
          "output_type": "display_data",
          "data": {
            "text/plain": [
              "  0%|          | 0/5 [00:00<?, ?it/s]"
            ],
            "application/vnd.jupyter.widget-view+json": {
              "version_major": 2,
              "version_minor": 0,
              "model_id": "14d0e00469b44bc48a963fe11e780363"
            }
          },
          "metadata": {}
        },
        {
          "output_type": "display_data",
          "data": {
            "text/plain": [
              "  0%|          | 0/60 [00:00<?, ?it/s]"
            ],
            "application/vnd.jupyter.widget-view+json": {
              "version_major": 2,
              "version_minor": 0,
              "model_id": "89bf2eb28dac41ae869c2cbf366d490f"
            }
          },
          "metadata": {}
        },
        {
          "output_type": "display_data",
          "data": {
            "text/plain": [
              "  0%|          | 0/60 [00:00<?, ?it/s]"
            ],
            "application/vnd.jupyter.widget-view+json": {
              "version_major": 2,
              "version_minor": 0,
              "model_id": "4b5f9455ce85444aacbb8eb5b3979bfd"
            }
          },
          "metadata": {}
        },
        {
          "output_type": "display_data",
          "data": {
            "text/plain": [
              "  0%|          | 0/60 [00:00<?, ?it/s]"
            ],
            "application/vnd.jupyter.widget-view+json": {
              "version_major": 2,
              "version_minor": 0,
              "model_id": "119cac645200456b869d62d7c93be86d"
            }
          },
          "metadata": {}
        },
        {
          "output_type": "display_data",
          "data": {
            "text/plain": [
              "  0%|          | 0/60 [00:00<?, ?it/s]"
            ],
            "application/vnd.jupyter.widget-view+json": {
              "version_major": 2,
              "version_minor": 0,
              "model_id": "5370cfdb1c794341a8be0531743abf15"
            }
          },
          "metadata": {}
        },
        {
          "output_type": "display_data",
          "data": {
            "text/plain": [
              "  0%|          | 0/60 [00:00<?, ?it/s]"
            ],
            "application/vnd.jupyter.widget-view+json": {
              "version_major": 2,
              "version_minor": 0,
              "model_id": "3103223871764d43aff586e93b315242"
            }
          },
          "metadata": {}
        }
      ],
      "source": [
        "import time\n",
        "from tqdm.auto import tqdm\n",
        "\n",
        "model = Classifier(64)\n",
        "train_loader = torch.utils.data.DataLoader(train_set, batch_size=1000, shuffle=True)\n",
        "optimizer = torch.optim.Adam(model.parameters(), lr=0.01)\n",
        "\n",
        "losses = []\n",
        "num_epochs = 5\n",
        "\n",
        "model.to(DEV) # move model to cuda. Move model's parameter on GPU's VRAM\n",
        "\n",
        "for epoch in tqdm(range(num_epochs)):\n",
        "  for batch in tqdm(train_loader, leave=False):\n",
        "    imgs, labels = batch\n",
        "    imgs = imgs.to(DEV)  # Movetensor to GPU's VRAM\n",
        "    labels = labels.to(DEV)\n",
        "    loss = train_one_step(model, optimizer, cross_entropy_fn, imgs, labels)\n",
        "    losses.append(loss)\n"
      ]
    },
    {
      "cell_type": "code",
      "execution_count": 51,
      "metadata": {
        "colab": {
          "base_uri": "https://localhost:8080/",
          "height": 448
        },
        "id": "dF3Yt4sTt6Zh",
        "outputId": "45e93121-5d88-45ef-eddf-9efa1d7e5b42"
      },
      "outputs": [
        {
          "output_type": "execute_result",
          "data": {
            "text/plain": [
              "[<matplotlib.lines.Line2D at 0x7b478b659ed0>]"
            ]
          },
          "metadata": {},
          "execution_count": 51
        },
        {
          "output_type": "display_data",
          "data": {
            "text/plain": [
              "<Figure size 640x480 with 1 Axes>"
            ],
            "image/png": "[encoded data removed]"
          },
          "metadata": {}
        }
      ],
      "source": [
        "plt.plot(losses)"
      ]
    },
    {
      "cell_type": "code",
      "execution_count": 52,
      "metadata": {
        "colab": {
          "base_uri": "https://localhost:8080/"
        },
        "id": "3Wk3UB5Fie4U",
        "outputId": "3b0e35bf-2f60-4f6c-cee8-9709d1661c94"
      },
      "outputs": [
        {
          "output_type": "execute_result",
          "data": {
            "text/plain": [
              "torch.Size([1000, 10])"
            ]
          },
          "metadata": {},
          "execution_count": 52
        }
      ],
      "source": [
        "test_loader = torch.utils.data.DataLoader(Dataset(test_data), batch_size=1000, shuffle=False)\n",
        "\n",
        "test_batch = next(iter(test_loader))\n",
        "# this will make something like \"batch in test_loader\" (iterator)\n",
        "# and only gets the first one\n",
        "imgs, labels = test_batch\n",
        "# imgs.shape\n",
        "\n",
        "pred, logit = model(imgs.to(DEV))\n",
        "pred.shape"
      ]
    },
    {
      "cell_type": "code",
      "source": [
        "pred[:4]"
      ],
      "metadata": {
        "id": "VnvfW0GZW0cz",
        "outputId": "d6bbe0e4-a728-4be0-ade8-99f585927fba",
        "colab": {
          "base_uri": "https://localhost:8080/"
        }
      },
      "execution_count": 53,
      "outputs": [
        {
          "output_type": "execute_result",
          "data": {
            "text/plain": [
              "tensor([[1.3435e-05, 4.0113e-07, 1.8740e-04, 1.8567e-04, 9.4351e-10, 8.6792e-06,\n",
              "         1.0859e-09, 9.9956e-01, 2.4015e-05, 1.6391e-05],\n",
              "        [2.5453e-08, 5.3378e-05, 9.9994e-01, 6.0892e-07, 7.9964e-15, 2.0363e-08,\n",
              "         1.0472e-06, 4.1274e-11, 1.1393e-06, 1.1220e-13],\n",
              "        [3.6629e-06, 9.9899e-01, 1.9744e-04, 7.7949e-05, 7.3541e-05, 1.4945e-05,\n",
              "         7.8009e-05, 1.5153e-04, 3.8820e-04, 2.0427e-05],\n",
              "        [9.9558e-01, 1.1984e-04, 2.6658e-03, 6.6923e-06, 1.5886e-07, 6.7630e-05,\n",
              "         1.0576e-05, 4.9870e-04, 8.9300e-08, 1.0496e-03]], device='cuda:0',\n",
              "       grad_fn=<SliceBackward0>)"
            ]
          },
          "metadata": {},
          "execution_count": 53
        }
      ]
    },
    {
      "cell_type": "code",
      "source": [
        "# Convert probability prediction to Specific one category\n",
        "# We want to get INDEX of probability that makes the maximum value\n",
        "\n",
        "dummy = torch.tensor([4, 1 , -2, 6, 10, 1, 0])\n",
        "# in this case, the maximum value is 10\n",
        "# and 10 is index 4\n",
        "torch.argmax(dummy)"
      ],
      "metadata": {
        "id": "4gxECH8IXALh",
        "outputId": "a32ed697-44ab-401a-f76c-65d0e4314228",
        "colab": {
          "base_uri": "https://localhost:8080/"
        }
      },
      "execution_count": 55,
      "outputs": [
        {
          "output_type": "execute_result",
          "data": {
            "text/plain": [
              "tensor(4)"
            ]
          },
          "metadata": {},
          "execution_count": 55
        }
      ]
    },
    {
      "cell_type": "code",
      "source": [
        "print(pred[:4])\n",
        "print(torch.argmax(pred[:4], dim=-1))"
      ],
      "metadata": {
        "id": "QXDzTIOaXksy",
        "outputId": "b6107eb4-5972-4474-be35-3abfb19cba8b",
        "colab": {
          "base_uri": "https://localhost:8080/"
        }
      },
      "execution_count": 56,
      "outputs": [
        {
          "output_type": "stream",
          "name": "stdout",
          "text": [
            "tensor([[1.3435e-05, 4.0113e-07, 1.8740e-04, 1.8567e-04, 9.4351e-10, 8.6792e-06,\n",
            "         1.0859e-09, 9.9956e-01, 2.4015e-05, 1.6391e-05],\n",
            "        [2.5453e-08, 5.3378e-05, 9.9994e-01, 6.0892e-07, 7.9964e-15, 2.0363e-08,\n",
            "         1.0472e-06, 4.1274e-11, 1.1393e-06, 1.1220e-13],\n",
            "        [3.6629e-06, 9.9899e-01, 1.9744e-04, 7.7949e-05, 7.3541e-05, 1.4945e-05,\n",
            "         7.8009e-05, 1.5153e-04, 3.8820e-04, 2.0427e-05],\n",
            "        [9.9558e-01, 1.1984e-04, 2.6658e-03, 6.6923e-06, 1.5886e-07, 6.7630e-05,\n",
            "         1.0576e-05, 4.9870e-04, 8.9300e-08, 1.0496e-03]], device='cuda:0',\n",
            "       grad_fn=<SliceBackward0>)\n",
            "tensor([7, 2, 1, 0], device='cuda:0')\n"
          ]
        }
      ]
    },
    {
      "cell_type": "code",
      "source": [
        "predicted_class = torch.argmax(pred, dim=-1)\n",
        "print(predicted_class[:20])\n",
        "print(labels[:20])"
      ],
      "metadata": {
        "id": "Ze0xbVwyX05A",
        "outputId": "cd274095-4431-4763-8f04-1dfb210a643e",
        "colab": {
          "base_uri": "https://localhost:8080/"
        }
      },
      "execution_count": 58,
      "outputs": [
        {
          "output_type": "stream",
          "name": "stdout",
          "text": [
            "tensor([7, 2, 1, 0, 4, 1, 4, 9, 5, 9, 0, 6, 9, 0, 1, 5, 9, 7, 8, 4],\n",
            "       device='cuda:0')\n",
            "tensor([7, 2, 1, 0, 4, 1, 4, 9, 5, 9, 0, 6, 9, 0, 1, 5, 9, 7, 3, 4])\n"
          ]
        }
      ]
    },
    {
      "cell_type": "code",
      "source": [
        "# Get Accuracy\n",
        "\n",
        "is_true = predicted_class.cpu() == labels # because it is boolean, it's better to\n",
        "# start the variable name with is_\n",
        "\n",
        "# get number of correct prediction\n",
        "# get number of total prediction\n",
        "\n",
        "acc = (is_true.sum() / is_true.numel()).item()\n",
        "acc"
      ],
      "metadata": {
        "id": "oMTg1JxJYDVb",
        "outputId": "2283c580-5867-4faa-b56c-03d0345cbc8d",
        "colab": {
          "base_uri": "https://localhost:8080/"
        }
      },
      "execution_count": 63,
      "outputs": [
        {
          "output_type": "execute_result",
          "data": {
            "text/plain": [
              "0.9620000123977661"
            ]
          },
          "metadata": {},
          "execution_count": 63
        }
      ]
    },
    {
      "cell_type": "code",
      "source": [
        "def get_accuracy(pred, labels):\n",
        "  predicted_class = torch.argmax(pred, dim=-1)\n",
        "  is_true = predicted_class.to(labels.device) == labels # because it is boolean, it's better to\n",
        "  acc = (is_true.sum() / is_true.numel()).item()\n",
        "  return acc\n"
      ],
      "metadata": {
        "id": "Cx2MrfJEY19_"
      },
      "execution_count": 64,
      "outputs": []
    },
    {
      "cell_type": "code",
      "source": [
        "t_set, v_set = torch.utils.data.random_split(train_set, [50000, 10000])\n",
        "len(t_set.indices), len(v_set.indices) # two sets indices are not overlapped each other"
      ],
      "metadata": {
        "id": "IuVR1sI6Z0w5",
        "outputId": "bcd50af7-05a9-4589-b096-8058402472f3",
        "colab": {
          "base_uri": "https://localhost:8080/"
        }
      },
      "execution_count": 67,
      "outputs": [
        {
          "output_type": "execute_result",
          "data": {
            "text/plain": [
              "(50000, 10000)"
            ]
          },
          "metadata": {},
          "execution_count": 67
        }
      ]
    },
    {
      "cell_type": "code",
      "source": [
        "def train_one_step_acc(model, optimizer, loss_function, input, target):\n",
        "  pred, logit = model(input) # forward pass. compute the prediction\n",
        "  # if loss_function == torch.nn.CrossEntropyLoss: # if loss_function is torch.nn.CrossEntropyLoss:\n",
        "  if isinstance(loss_function, torch.nn.CrossEntropyLoss):\n",
        "    loss = loss_function(logit, target)\n",
        "  else:\n",
        "    loss = loss_function(pred, target) # compute the loss\n",
        "  loss.backward() # backpropagate theloss. compute the gradient\n",
        "  optimizer.step() # update the parameters based on each gradient\n",
        "  optimizer.zero_grad() # clear the gradient for every parameters\n",
        "  acc = get_accuracy(pred, target)\n",
        "  return loss.item(), acc # return the loss value"
      ],
      "metadata": {
        "id": "agisZ_F-agRM"
      },
      "execution_count": 70,
      "outputs": []
    },
    {
      "cell_type": "code",
      "source": [
        "import time\n",
        "from tqdm.auto import tqdm\n",
        "\n",
        "model = Classifier(64)\n",
        "t_set, v_set = torch.utils.data.random_split(train_set, [50000, 10000])\n",
        "train_loader = torch.utils.data.DataLoader(t_set, batch_size=1000, shuffle=True)\n",
        "valid_loader =  torch.utils.data.DataLoader(v_set, batch_size=1000, shuffle=False)\n",
        "optimizer = torch.optim.Adam(model.parameters(), lr=0.01)\n",
        "\n",
        "losses = []\n",
        "train_acc = []\n",
        "total_valid_acc = []\n",
        "num_epochs = 5\n",
        "\n",
        "model.to(DEV) # move model to cuda. Move model's parameter on GPU's VRAM\n",
        "\n",
        "for epoch in tqdm(range(num_epochs)):\n",
        "  for batch in tqdm(train_loader, leave=False):\n",
        "    imgs, labels = batch\n",
        "    imgs = imgs.to(DEV)  # Movetensor to GPU's VRAM\n",
        "    labels = labels.to(DEV)\n",
        "    loss, acc = train_one_step_acc(model, optimizer, cross_entropy_fn, imgs, labels)\n",
        "    losses.append(loss)\n",
        "    train_acc.append(acc)\n",
        "\n",
        "\n",
        "  valid_acc_sum = 0\n",
        "  with torch.inference_mode(): # Code below this line does not calculate gradient\n",
        "    for batch in valid_loader:\n",
        "      imgs, labels = batch\n",
        "      imgs = imgs.to(DEV)  # Movetensor to GPU's VRAM\n",
        "      labels = labels.to(DEV)\n",
        "      pred, logit = model(imgs)\n",
        "      acc = get_accuracy(pred, labels)\n",
        "      valid_acc_sum += acc\n",
        "  valid_acc = valid_acc_sum / len(valid_loader) # number of total batch\n",
        "  total_valid_acc.append(valid_acc)\n",
        "\n"
      ],
      "metadata": {
        "id": "G9Jds1DVZKHD",
        "outputId": "b1d402a8-faed-4c92-93d7-cb483f49434a",
        "colab": {
          "base_uri": "https://localhost:8080/",
          "height": 49,
          "referenced_widgets": [
            "a125c5866de54de2be5c5e826e313c00",
            "2a90ce48f4634a8c8444184958fb1140",
            "01007e47e2f7416f8c3c280505074a69",
            "d4db3d8074454fdcb62cba2e95f21432",
            "b58387a4e7a443aa89a7d17377fed2c5",
            "3927fe7c35b545eb97050f5770660b1b",
            "d3451d5c272a4a879fd21fcc9e466617",
            "4eef27b7033b40c0bd75e6814579b460",
            "1b847bcae66b4d0daf48d99264595ac9",
            "3609fe8d19004930a05d2a00073c7e59",
            "13f8c60790934139b87d488032e3d4ea",
            "8ea5559ffcdc43a982b356df08b35a36",
            "b7ffc49df0f541dc87800afef7a16766",
            "4c0d959132c9447e942adf46d0eb6611",
            "61b7149224d24fca8128ca7233605a35",
            "b42831a1da0e415b9b18b9eea7df62e2",
            "b3b6506ccaea4cf0a18973fc5504bfa6",
            "a364fb0f8bf940608d3a9a25ba03a74d",
            "612df7aa7ace441bbb5f2557e3ad122a",
            "f1fc3f84152a4de2a414b90eb530f05c",
            "32325b4469fe40aab1d53f940807c635",
            "00fdf8d570d24d30b5aebd03b1ba2e1f",
            "d52fc26881a746e4b555399ca2d30a75",
            "69d69264e02445cf89aae0a1a408a1a1",
            "7cd84c6b52434136846f4a88de54af1c",
            "fc734c9a86274a5fb5e6609db8d6f5dd",
            "72663f68424047c18ea9bc9d44d4ff20",
            "fed3297c39d541adb0b0d2a76bdc726d",
            "29f45aaf241643539618e1f46fa9391f",
            "888e851133094f578e559bcfa507b425",
            "6ec5102ef435441a8c1e263b236371e4",
            "ef20203917114ad98590dcf808d00032",
            "c91b5c0a4113442c9f6acc6590d80b62",
            "43c99573c0c6420787abdf7941c10277",
            "5e506f591a2d42568be8aa85b918ca61",
            "b338b55f47b0454f970cfc70c06d2973",
            "f56db0ff98e340909fa4cc0baaef5d5d",
            "452ef2a3218943a89ee308f3ba9a4ff3",
            "3e403ab2934d4488b8a7759c396aa70d",
            "ca75eac0653c4a42af4c1df8884c6513",
            "2863aa2d5a0f407c899b7e94b86d2633",
            "d62c9b6fa7cf4638bac9e90d32f4b2b5",
            "96bb5f295d814597a400d095063dbfae",
            "5fd3fa45030f48fca4b05fbb1b511a93",
            "c12483349d6c4a7e9fc18b238836e79b",
            "3c5eeb94a2a04dfa887581c7da3a6457",
            "4293abfc65d04b0db7044e4a093e02a6",
            "9f3daaabddb94c569c4d512ddc74e5e0",
            "15fc1c64379f422fa5f8fca4fabbefd4",
            "aa2be12d58d4493cbf78eb61689eeb27",
            "b440e63ec6084506a5abea7e9c951b1c",
            "db3c27eabc41437480ea23d0e518a894",
            "c69a61c99b834b8f9b9767265e44564f",
            "f90d5798e46f417a93b16b166a2213df",
            "2dddee814be5462aa6788a86cb719d94",
            "9d487ed3d5ed474a81a29c1dc73ddae2",
            "46056ba21d6d415b8648f977a8c24ce2",
            "81cdd66e74a84c44b86d0588f685bad6",
            "451e9b3384e84ad8881549d2728f18e9",
            "0d7ccc8d778c46369e8f952eb54615b1",
            "37802c4f97ef4431a8c76a3b6c7db141",
            "762b966375cc468294f7b50c3e82650a",
            "66913f00eb34487da9a35ab179f45bd3",
            "652e8b9f58cb45668b247329ec1d803b",
            "e145b736f9a3429691d7871cca511100",
            "d9a2a08d137d4143bd4aabcf38cc0723"
          ]
        }
      },
      "execution_count": 71,
      "outputs": [
        {
          "output_type": "display_data",
          "data": {
            "text/plain": [
              "  0%|          | 0/5 [00:00<?, ?it/s]"
            ],
            "application/vnd.jupyter.widget-view+json": {
              "version_major": 2,
              "version_minor": 0,
              "model_id": "a125c5866de54de2be5c5e826e313c00"
            }
          },
          "metadata": {}
        },
        {
          "output_type": "display_data",
          "data": {
            "text/plain": [
              "  0%|          | 0/50 [00:00<?, ?it/s]"
            ],
            "application/vnd.jupyter.widget-view+json": {
              "version_major": 2,
              "version_minor": 0,
              "model_id": "8ea5559ffcdc43a982b356df08b35a36"
            }
          },
          "metadata": {}
        },
        {
          "output_type": "display_data",
          "data": {
            "text/plain": [
              "  0%|          | 0/50 [00:00<?, ?it/s]"
            ],
            "application/vnd.jupyter.widget-view+json": {
              "version_major": 2,
              "version_minor": 0,
              "model_id": "d52fc26881a746e4b555399ca2d30a75"
            }
          },
          "metadata": {}
        },
        {
          "output_type": "display_data",
          "data": {
            "text/plain": [
              "  0%|          | 0/50 [00:00<?, ?it/s]"
            ],
            "application/vnd.jupyter.widget-view+json": {
              "version_major": 2,
              "version_minor": 0,
              "model_id": "43c99573c0c6420787abdf7941c10277"
            }
          },
          "metadata": {}
        },
        {
          "output_type": "display_data",
          "data": {
            "text/plain": [
              "  0%|          | 0/50 [00:00<?, ?it/s]"
            ],
            "application/vnd.jupyter.widget-view+json": {
              "version_major": 2,
              "version_minor": 0,
              "model_id": "c12483349d6c4a7e9fc18b238836e79b"
            }
          },
          "metadata": {}
        },
        {
          "output_type": "display_data",
          "data": {
            "text/plain": [
              "  0%|          | 0/50 [00:00<?, ?it/s]"
            ],
            "application/vnd.jupyter.widget-view+json": {
              "version_major": 2,
              "version_minor": 0,
              "model_id": "9d487ed3d5ed474a81a29c1dc73ddae2"
            }
          },
          "metadata": {}
        }
      ]
    },
    {
      "cell_type": "code",
      "source": [
        "plt.subplot(2,1,1)\n",
        "plt.plot(train_acc)\n",
        "plt.subplot(2,1,2)\n",
        "plt.plot(total_valid_acc)"
      ],
      "metadata": {
        "id": "Qa9GiJzDb51k",
        "outputId": "7abda4b1-5610-4063-d243-069d3f29a3ea",
        "colab": {
          "base_uri": "https://localhost:8080/",
          "height": 448
        }
      },
      "execution_count": 74,
      "outputs": [
        {
          "output_type": "execute_result",
          "data": {
            "text/plain": [
              "[<matplotlib.lines.Line2D at 0x7b4788218100>]"
            ]
          },
          "metadata": {},
          "execution_count": 74
        },
        {
          "output_type": "display_data",
          "data": {
            "text/plain": [
              "<Figure size 640x480 with 2 Axes>"
            ],
            "image/png": "[encoded data removed]"
          },
          "metadata": {}
        }
      ]
    },
    {
      "cell_type": "code",
      "source": [
        "# Check failure case\n",
        "\n",
        "batch = next(iter(test_loader))\n",
        "\n",
        "imgs, labels = batch\n",
        "pred, logit = model(imgs.to(DEV))\n"
      ],
      "metadata": {
        "id": "tA9PzVrMcQSp"
      },
      "execution_count": 76,
      "outputs": []
    },
    {
      "cell_type": "code",
      "source": [
        "predicted_labels = torch.argmax(pred, dim=-1).cpu()"
      ],
      "metadata": {
        "id": "yPE4Mib7cekK"
      },
      "execution_count": 77,
      "outputs": []
    },
    {
      "cell_type": "code",
      "execution_count": 80,
      "metadata": {
        "colab": {
          "base_uri": "https://localhost:8080/"
        },
        "id": "oDNW1pQ6kJdJ",
        "outputId": "4129fb1f-fb41-44ad-ca67-6b58a901c3e1"
      },
      "outputs": [
        {
          "output_type": "execute_result",
          "data": {
            "text/plain": [
              "(tensor([ 18, 149, 151, 233, 241, 247, 259, 321, 381, 435, 445, 449, 495, 507,\n",
              "         543, 582, 610, 613, 619, 659, 691, 707, 717, 720, 740, 760, 810, 844,\n",
              "         846, 881, 938, 951, 956, 959, 965]),)"
            ]
          },
          "metadata": {},
          "execution_count": 80
        }
      ],
      "source": [
        "torch.where(predicted_labels != labels)\n",
        "# it gives in which indices our model made wrong predictions"
      ]
    },
    {
      "cell_type": "code",
      "execution_count": 86,
      "metadata": {
        "colab": {
          "base_uri": "https://localhost:8080/",
          "height": 466
        },
        "id": "SEX_wTShkhFo",
        "outputId": "bb3b2577-e932-46c9-bfe2-ded84e2f7822"
      },
      "outputs": [
        {
          "output_type": "stream",
          "name": "stdout",
          "text": [
            "GT Label: 7, Predicted: 9\n"
          ]
        },
        {
          "output_type": "execute_result",
          "data": {
            "text/plain": [
              "<matplotlib.image.AxesImage at 0x7b47881086d0>"
            ]
          },
          "metadata": {},
          "execution_count": 86
        },
        {
          "output_type": "display_data",
          "data": {
            "text/plain": [
              "<Figure size 640x480 with 1 Axes>"
            ],
            "image/png": "[encoded data removed]"
          },
          "metadata": {}
        }
      ],
      "source": [
        "idx = 846\n",
        "img, label = test_data[idx]\n",
        "predicted_lb = predicted_labels[idx].item()\n",
        "\n",
        "print(f\"GT Label: {label}, Predicted: {predicted_lb}\")\n",
        "plt.imshow(img.squeeze())"
      ]
    },
    {
      "cell_type": "code",
      "source": [
        "model.layers[0].weight.shape"
      ],
      "metadata": {
        "id": "jfQxIJPPdJ1r",
        "outputId": "167faf3e-ede7-4a35-8aa2-d4a1f1ce6e2b",
        "colab": {
          "base_uri": "https://localhost:8080/"
        }
      },
      "execution_count": 91,
      "outputs": [
        {
          "output_type": "execute_result",
          "data": {
            "text/plain": [
              "torch.Size([64, 784])"
            ]
          },
          "metadata": {},
          "execution_count": 91
        }
      ]
    },
    {
      "cell_type": "code",
      "source": [
        "weight_idx = 10\n",
        "\n",
        "selected_weight = model.layers[0].weight[weight_idx].clone().detach().cpu()\n",
        "plt.imshow(selected_weight.reshape(28, 28))"
      ],
      "metadata": {
        "id": "x35VNSDWdVCM",
        "outputId": "9a2b9bdf-1cee-410b-c7dc-ceabd4da3d8f",
        "colab": {
          "base_uri": "https://localhost:8080/",
          "height": 448
        }
      },
      "execution_count": 102,
      "outputs": [
        {
          "output_type": "execute_result",
          "data": {
            "text/plain": [
              "<matplotlib.image.AxesImage at 0x7b4785f302b0>"
            ]
          },
          "metadata": {},
          "execution_count": 102
        },
        {
          "output_type": "display_data",
          "data": {
            "text/plain": [
              "<Figure size 640x480 with 1 Axes>"
            ],
            "image/png": "[encoded data removed]"
          },
          "metadata": {}
        }
      ]
    },
    {
      "cell_type": "code",
      "source": [
        "plt.figure(figsize=(20,20))\n",
        "\n",
        "for i in range(1, 8):\n",
        "  for j in range(1,8):\n",
        "    plt.subplot(8, 8, i*8 + j)\n",
        "    idx = (i-1) * 8 + j-1\n",
        "    plt.imshow(model.layers[0].weight[idx].clone().detach().cpu().reshape(28,28))"
      ],
      "metadata": {
        "id": "FE_HnvESdug-",
        "outputId": "de8c349c-b63b-42e9-f2a1-bab353b6f928",
        "colab": {
          "base_uri": "https://localhost:8080/",
          "height": 1000
        }
      },
      "execution_count": 106,
      "outputs": [
        {
          "output_type": "stream",
          "name": "stdout",
          "text": [
            "1 1 9\n",
            "1 2 10\n",
            "1 3 11\n",
            "1 4 12\n",
            "1 5 13\n",
            "1 6 14\n",
            "1 7 15\n",
            "2 1 17\n",
            "2 2 18\n",
            "2 3 19\n",
            "2 4 20\n",
            "2 5 21\n",
            "2 6 22\n",
            "2 7 23\n",
            "3 1 25\n",
            "3 2 26\n",
            "3 3 27\n",
            "3 4 28\n",
            "3 5 29\n",
            "3 6 30\n",
            "3 7 31\n",
            "4 1 33\n",
            "4 2 34\n",
            "4 3 35\n",
            "4 4 36\n",
            "4 5 37\n",
            "4 6 38\n",
            "4 7 39\n",
            "5 1 41\n",
            "5 2 42\n",
            "5 3 43\n",
            "5 4 44\n",
            "5 5 45\n",
            "5 6 46\n",
            "5 7 47\n",
            "6 1 49\n",
            "6 2 50\n",
            "6 3 51\n",
            "6 4 52\n",
            "6 5 53\n",
            "6 6 54\n",
            "6 7 55\n",
            "7 1 57\n",
            "7 2 58\n",
            "7 3 59\n",
            "7 4 60\n",
            "7 5 61\n",
            "7 6 62\n",
            "7 7 63\n"
          ]
        },
        {
          "output_type": "display_data",
          "data": {
            "text/plain": [
              "<Figure size 2000x2000 with 49 Axes>"
            ],
            "image/png": "[encoded data removed]"
          },
          "metadata": {}
        }
      ]
    },
    {
      "cell_type": "markdown",
      "metadata": {
        "id": "goTe6y_wlDS9"
      },
      "source": []
    }
  ],
  "metadata": {
    "accelerator": "GPU",
    "colab": {
      "provenance": [],
      "include_colab_link": true
    },
    "kernelspec": {
      "display_name": "Python 3.8.10 64-bit",
      "language": "python",
      "name": "python3"
    },
    "language_info": {
      "codemirror_mode": {
        "name": "ipython",
        "version": 3
      },
      "file_extension": ".py",
      "mimetype": "text/x-python",
      "name": "python",
      "nbconvert_exporter": "python",
      "pygments_lexer": "ipython3",
      "version": "3.8.10"
    },
    "orig_nbformat": 4,
    "vscode": {
      "interpreter": {
        "hash": "31f2aee4e71d21fbe5cf8b01ff0e069b9275f58929596ceb00d14d90e3e16cd6"
      }
    },
    "widgets": {
      "application/vnd.jupyter.widget-state+json": {
        "14d0e00469b44bc48a963fe11e780363": {
          "model_module": "@jupyter-widgets/controls",
          "model_name": "HBoxModel",
          "model_module_version": "1.5.0",
          "state": {
            "_dom_classes": [],
            "_model_module": "@jupyter-widgets/controls",
            "_model_module_version": "1.5.0",
            "_model_name": "HBoxModel",
            "_view_count": null,
            "_view_module": "@jupyter-widgets/controls",
            "_view_module_version": "1.5.0",
            "_view_name": "HBoxView",
            "box_style": "",
            "children": [
              "IPY_MODEL_eb22b5f0c32e42c0b9713deb6735e7e9",
              "IPY_MODEL_e4915fe1c47445b6a7fad1686faab507",
              "IPY_MODEL_2bc7d36aec054258b8cc53152c0bd1d8"
            ],
            "layout": "IPY_MODEL_2b8cce4f65ee4038a98a268feadedd14"
          }
        },
        "eb22b5f0c32e42c0b9713deb6735e7e9": {
          "model_module": "@jupyter-widgets/controls",
          "model_name": "HTMLModel",
          "model_module_version": "1.5.0",
          "state": {
            "_dom_classes": [],
            "_model_module": "@jupyter-widgets/controls",
            "_model_module_version": "1.5.0",
            "_model_name": "HTMLModel",
            "_view_count": null,
            "_view_module": "@jupyter-widgets/controls",
            "_view_module_version": "1.5.0",
            "_view_name": "HTMLView",
            "description": "",
            "description_tooltip": null,
            "layout": "IPY_MODEL_84c8a2ed2a2b4575a16de15a71a8f607",
            "placeholder": "​",
            "style": "IPY_MODEL_ba65c5e6e5d64d59a659d23dd54857f6",
            "value": "100%"
          }
        },
        "e4915fe1c47445b6a7fad1686faab507": {
          "model_module": "@jupyter-widgets/controls",
          "model_name": "FloatProgressModel",
          "model_module_version": "1.5.0",
          "state": {
            "_dom_classes": [],
            "_model_module": "@jupyter-widgets/controls",
            "_model_module_version": "1.5.0",
            "_model_name": "FloatProgressModel",
            "_view_count": null,
            "_view_module": "@jupyter-widgets/controls",
            "_view_module_version": "1.5.0",
            "_view_name": "ProgressView",
            "bar_style": "success",
            "description": "",
            "description_tooltip": null,
            "layout": "IPY_MODEL_1101039345b640a68027bf1f9a9ba9e8",
            "max": 5,
            "min": 0,
            "orientation": "horizontal",
            "style": "IPY_MODEL_0645cba19bed468aa4aadd2212998308",
            "value": 5
          }
        },
        "2bc7d36aec054258b8cc53152c0bd1d8": {
          "model_module": "@jupyter-widgets/controls",
          "model_name": "HTMLModel",
          "model_module_version": "1.5.0",
          "state": {
            "_dom_classes": [],
            "_model_module": "@jupyter-widgets/controls",
            "_model_module_version": "1.5.0",
            "_model_name": "HTMLModel",
            "_view_count": null,
            "_view_module": "@jupyter-widgets/controls",
            "_view_module_version": "1.5.0",
            "_view_name": "HTMLView",
            "description": "",
            "description_tooltip": null,
            "layout": "IPY_MODEL_b202a1e4a4ab42c8951ad03f030d8229",
            "placeholder": "​",
            "style": "IPY_MODEL_4067083b1dd14f7a9057c425992c4fe6",
            "value": " 5/5 [00:40&lt;00:00,  8.02s/it]"
          }
        },
        "2b8cce4f65ee4038a98a268feadedd14": {
          "model_module": "@jupyter-widgets/base",
          "model_name": "LayoutModel",
          "model_module_version": "1.2.0",
          "state": {
            "_model_module": "@jupyter-widgets/base",
            "_model_module_version": "1.2.0",
            "_model_name": "LayoutModel",
            "_view_count": null,
            "_view_module": "@jupyter-widgets/base",
            "_view_module_version": "1.2.0",
            "_view_name": "LayoutView",
            "align_content": null,
            "align_items": null,
            "align_self": null,
            "border": null,
            "bottom": null,
            "display": null,
            "flex": null,
            "flex_flow": null,
            "grid_area": null,
            "grid_auto_columns": null,
            "grid_auto_flow": null,
            "grid_auto_rows": null,
            "grid_column": null,
            "grid_gap": null,
            "grid_row": null,
            "grid_template_areas": null,
            "grid_template_columns": null,
            "grid_template_rows": null,
            "height": null,
            "justify_content": null,
            "justify_items": null,
            "left": null,
            "margin": null,
            "max_height": null,
            "max_width": null,
            "min_height": null,
            "min_width": null,
            "object_fit": null,
            "object_position": null,
            "order": null,
            "overflow": null,
            "overflow_x": null,
            "overflow_y": null,
            "padding": null,
            "right": null,
            "top": null,
            "visibility": null,
            "width": null
          }
        },
        "84c8a2ed2a2b4575a16de15a71a8f607": {
          "model_module": "@jupyter-widgets/base",
          "model_name": "LayoutModel",
          "model_module_version": "1.2.0",
          "state": {
            "_model_module": "@jupyter-widgets/base",
            "_model_module_version": "1.2.0",
            "_model_name": "LayoutModel",
            "_view_count": null,
            "_view_module": "@jupyter-widgets/base",
            "_view_module_version": "1.2.0",
            "_view_name": "LayoutView",
            "align_content": null,
            "align_items": null,
            "align_self": null,
            "border": null,
            "bottom": null,
            "display": null,
            "flex": null,
            "flex_flow": null,
            "grid_area": null,
            "grid_auto_columns": null,
            "grid_auto_flow": null,
            "grid_auto_rows": null,
            "grid_column": null,
            "grid_gap": null,
            "grid_row": null,
            "grid_template_areas": null,
            "grid_template_columns": null,
            "grid_template_rows": null,
            "height": null,
            "justify_content": null,
            "justify_items": null,
            "left": null,
            "margin": null,
            "max_height": null,
            "max_width": null,
            "min_height": null,
            "min_width": null,
            "object_fit": null,
            "object_position": null,
            "order": null,
            "overflow": null,
            "overflow_x": null,
            "overflow_y": null,
            "padding": null,
            "right": null,
            "top": null,
            "visibility": null,
            "width": null
          }
        },
        "ba65c5e6e5d64d59a659d23dd54857f6": {
          "model_module": "@jupyter-widgets/controls",
          "model_name": "DescriptionStyleModel",
          "model_module_version": "1.5.0",
          "state": {
            "_model_module": "@jupyter-widgets/controls",
            "_model_module_version": "1.5.0",
            "_model_name": "DescriptionStyleModel",
            "_view_count": null,
            "_view_module": "@jupyter-widgets/base",
            "_view_module_version": "1.2.0",
            "_view_name": "StyleView",
            "description_width": ""
          }
        },
        "1101039345b640a68027bf1f9a9ba9e8": {
          "model_module": "@jupyter-widgets/base",
          "model_name": "LayoutModel",
          "model_module_version": "1.2.0",
          "state": {
            "_model_module": "@jupyter-widgets/base",
            "_model_module_version": "1.2.0",
            "_model_name": "LayoutModel",
            "_view_count": null,
            "_view_module": "@jupyter-widgets/base",
            "_view_module_version": "1.2.0",
            "_view_name": "LayoutView",
            "align_content": null,
            "align_items": null,
            "align_self": null,
            "border": null,
            "bottom": null,
            "display": null,
            "flex": null,
            "flex_flow": null,
            "grid_area": null,
            "grid_auto_columns": null,
            "grid_auto_flow": null,
            "grid_auto_rows": null,
            "grid_column": null,
            "grid_gap": null,
            "grid_row": null,
            "grid_template_areas": null,
            "grid_template_columns": null,
            "grid_template_rows": null,
            "height": null,
            "justify_content": null,
            "justify_items": null,
            "left": null,
            "margin": null,
            "max_height": null,
            "max_width": null,
            "min_height": null,
            "min_width": null,
            "object_fit": null,
            "object_position": null,
            "order": null,
            "overflow": null,
            "overflow_x": null,
            "overflow_y": null,
            "padding": null,
            "right": null,
            "top": null,
            "visibility": null,
            "width": null
          }
        },
        "0645cba19bed468aa4aadd2212998308": {
          "model_module": "@jupyter-widgets/controls",
          "model_name": "ProgressStyleModel",
          "model_module_version": "1.5.0",
          "state": {
            "_model_module": "@jupyter-widgets/controls",
            "_model_module_version": "1.5.0",
            "_model_name": "ProgressStyleModel",
            "_view_count": null,
            "_view_module": "@jupyter-widgets/base",
            "_view_module_version": "1.2.0",
            "_view_name": "StyleView",
            "bar_color": null,
            "description_width": ""
          }
        },
        "b202a1e4a4ab42c8951ad03f030d8229": {
          "model_module": "@jupyter-widgets/base",
          "model_name": "LayoutModel",
          "model_module_version": "1.2.0",
          "state": {
            "_model_module": "@jupyter-widgets/base",
            "_model_module_version": "1.2.0",
            "_model_name": "LayoutModel",
            "_view_count": null,
            "_view_module": "@jupyter-widgets/base",
            "_view_module_version": "1.2.0",
            "_view_name": "LayoutView",
            "align_content": null,
            "align_items": null,
            "align_self": null,
            "border": null,
            "bottom": null,
            "display": null,
            "flex": null,
            "flex_flow": null,
            "grid_area": null,
            "grid_auto_columns": null,
            "grid_auto_flow": null,
            "grid_auto_rows": null,
            "grid_column": null,
            "grid_gap": null,
            "grid_row": null,
            "grid_template_areas": null,
            "grid_template_columns": null,
            "grid_template_rows": null,
            "height": null,
            "justify_content": null,
            "justify_items": null,
            "left": null,
            "margin": null,
            "max_height": null,
            "max_width": null,
            "min_height": null,
            "min_width": null,
            "object_fit": null,
            "object_position": null,
            "order": null,
            "overflow": null,
            "overflow_x": null,
            "overflow_y": null,
            "padding": null,
            "right": null,
            "top": null,
            "visibility": null,
            "width": null
          }
        },
        "4067083b1dd14f7a9057c425992c4fe6": {
          "model_module": "@jupyter-widgets/controls",
          "model_name": "DescriptionStyleModel",
          "model_module_version": "1.5.0",
          "state": {
            "_model_module": "@jupyter-widgets/controls",
            "_model_module_version": "1.5.0",
            "_model_name": "DescriptionStyleModel",
            "_view_count": null,
            "_view_module": "@jupyter-widgets/base",
            "_view_module_version": "1.2.0",
            "_view_name": "StyleView",
            "description_width": ""
          }
        },
        "89bf2eb28dac41ae869c2cbf366d490f": {
          "model_module": "@jupyter-widgets/controls",
          "model_name": "HBoxModel",
          "model_module_version": "1.5.0",
          "state": {
            "_dom_classes": [],
            "_model_module": "@jupyter-widgets/controls",
            "_model_module_version": "1.5.0",
            "_model_name": "HBoxModel",
            "_view_count": null,
            "_view_module": "@jupyter-widgets/controls",
            "_view_module_version": "1.5.0",
            "_view_name": "HBoxView",
            "box_style": "",
            "children": [
              "IPY_MODEL_5fc390e4cdd14a1a926cc7257570e08d",
              "IPY_MODEL_78cc105ef5f34ff89e9c01eed604873d",
              "IPY_MODEL_a0a20f805dd94667af8f83914bbd133b"
            ],
            "layout": "IPY_MODEL_009bef2cbd8c4109b80311f6250d9c59"
          }
        },
        "5fc390e4cdd14a1a926cc7257570e08d": {
          "model_module": "@jupyter-widgets/controls",
          "model_name": "HTMLModel",
          "model_module_version": "1.5.0",
          "state": {
            "_dom_classes": [],
            "_model_module": "@jupyter-widgets/controls",
            "_model_module_version": "1.5.0",
            "_model_name": "HTMLModel",
            "_view_count": null,
            "_view_module": "@jupyter-widgets/controls",
            "_view_module_version": "1.5.0",
            "_view_name": "HTMLView",
            "description": "",
            "description_tooltip": null,
            "layout": "IPY_MODEL_143d6d05c4ff40dfaa40851dd75a93b6",
            "placeholder": "​",
            "style": "IPY_MODEL_23b33d8f1d45409090f62c5d4880da74",
            "value": "100%"
          }
        },
        "78cc105ef5f34ff89e9c01eed604873d": {
          "model_module": "@jupyter-widgets/controls",
          "model_name": "FloatProgressModel",
          "model_module_version": "1.5.0",
          "state": {
            "_dom_classes": [],
            "_model_module": "@jupyter-widgets/controls",
            "_model_module_version": "1.5.0",
            "_model_name": "FloatProgressModel",
            "_view_count": null,
            "_view_module": "@jupyter-widgets/controls",
            "_view_module_version": "1.5.0",
            "_view_name": "ProgressView",
            "bar_style": "",
            "description": "",
            "description_tooltip": null,
            "layout": "IPY_MODEL_a5e017a18e2b476eb18b68c8fe8e93f2",
            "max": 60,
            "min": 0,
            "orientation": "horizontal",
            "style": "IPY_MODEL_7bb71da30c7443b997fbd635b6528498",
            "value": 60
          }
        },
        "a0a20f805dd94667af8f83914bbd133b": {
          "model_module": "@jupyter-widgets/controls",
          "model_name": "HTMLModel",
          "model_module_version": "1.5.0",
          "state": {
            "_dom_classes": [],
            "_model_module": "@jupyter-widgets/controls",
            "_model_module_version": "1.5.0",
            "_model_name": "HTMLModel",
            "_view_count": null,
            "_view_module": "@jupyter-widgets/controls",
            "_view_module_version": "1.5.0",
            "_view_name": "HTMLView",
            "description": "",
            "description_tooltip": null,
            "layout": "IPY_MODEL_9b31c3e452c349cfae59818b68e2f5ca",
            "placeholder": "​",
            "style": "IPY_MODEL_001a07852c7c4d1d97c101c18e0d3d23",
            "value": " 60/60 [00:08&lt;00:00,  7.62it/s]"
          }
        },
        "009bef2cbd8c4109b80311f6250d9c59": {
          "model_module": "@jupyter-widgets/base",
          "model_name": "LayoutModel",
          "model_module_version": "1.2.0",
          "state": {
            "_model_module": "@jupyter-widgets/base",
            "_model_module_version": "1.2.0",
            "_model_name": "LayoutModel",
            "_view_count": null,
            "_view_module": "@jupyter-widgets/base",
            "_view_module_version": "1.2.0",
            "_view_name": "LayoutView",
            "align_content": null,
            "align_items": null,
            "align_self": null,
            "border": null,
            "bottom": null,
            "display": null,
            "flex": null,
            "flex_flow": null,
            "grid_area": null,
            "grid_auto_columns": null,
            "grid_auto_flow": null,
            "grid_auto_rows": null,
            "grid_column": null,
            "grid_gap": null,
            "grid_row": null,
            "grid_template_areas": null,
            "grid_template_columns": null,
            "grid_template_rows": null,
            "height": null,
            "justify_content": null,
            "justify_items": null,
            "left": null,
            "margin": null,
            "max_height": null,
            "max_width": null,
            "min_height": null,
            "min_width": null,
            "object_fit": null,
            "object_position": null,
            "order": null,
            "overflow": null,
            "overflow_x": null,
            "overflow_y": null,
            "padding": null,
            "right": null,
            "top": null,
            "visibility": "hidden",
            "width": null
          }
        },
        "143d6d05c4ff40dfaa40851dd75a93b6": {
          "model_module": "@jupyter-widgets/base",
          "model_name": "LayoutModel",
          "model_module_version": "1.2.0",
          "state": {
            "_model_module": "@jupyter-widgets/base",
            "_model_module_version": "1.2.0",
            "_model_name": "LayoutModel",
            "_view_count": null,
            "_view_module": "@jupyter-widgets/base",
            "_view_module_version": "1.2.0",
            "_view_name": "LayoutView",
            "align_content": null,
            "align_items": null,
            "align_self": null,
            "border": null,
            "bottom": null,
            "display": null,
            "flex": null,
            "flex_flow": null,
            "grid_area": null,
            "grid_auto_columns": null,
            "grid_auto_flow": null,
            "grid_auto_rows": null,
            "grid_column": null,
            "grid_gap": null,
            "grid_row": null,
            "grid_template_areas": null,
            "grid_template_columns": null,
            "grid_template_rows": null,
            "height": null,
            "justify_content": null,
            "justify_items": null,
            "left": null,
            "margin": null,
            "max_height": null,
            "max_width": null,
            "min_height": null,
            "min_width": null,
            "object_fit": null,
            "object_position": null,
            "order": null,
            "overflow": null,
            "overflow_x": null,
            "overflow_y": null,
            "padding": null,
            "right": null,
            "top": null,
            "visibility": null,
            "width": null
          }
        },
        "23b33d8f1d45409090f62c5d4880da74": {
          "model_module": "@jupyter-widgets/controls",
          "model_name": "DescriptionStyleModel",
          "model_module_version": "1.5.0",
          "state": {
            "_model_module": "@jupyter-widgets/controls",
            "_model_module_version": "1.5.0",
            "_model_name": "DescriptionStyleModel",
            "_view_count": null,
            "_view_module": "@jupyter-widgets/base",
            "_view_module_version": "1.2.0",
            "_view_name": "StyleView",
            "description_width": ""
          }
        },
        "a5e017a18e2b476eb18b68c8fe8e93f2": {
          "model_module": "@jupyter-widgets/base",
          "model_name": "LayoutModel",
          "model_module_version": "1.2.0",
          "state": {
            "_model_module": "@jupyter-widgets/base",
            "_model_module_version": "1.2.0",
            "_model_name": "LayoutModel",
            "_view_count": null,
            "_view_module": "@jupyter-widgets/base",
            "_view_module_version": "1.2.0",
            "_view_name": "LayoutView",
            "align_content": null,
            "align_items": null,
            "align_self": null,
            "border": null,
            "bottom": null,
            "display": null,
            "flex": null,
            "flex_flow": null,
            "grid_area": null,
            "grid_auto_columns": null,
            "grid_auto_flow": null,
            "grid_auto_rows": null,
            "grid_column": null,
            "grid_gap": null,
            "grid_row": null,
            "grid_template_areas": null,
            "grid_template_columns": null,
            "grid_template_rows": null,
            "height": null,
            "justify_content": null,
            "justify_items": null,
            "left": null,
            "margin": null,
            "max_height": null,
            "max_width": null,
            "min_height": null,
            "min_width": null,
            "object_fit": null,
            "object_position": null,
            "order": null,
            "overflow": null,
            "overflow_x": null,
            "overflow_y": null,
            "padding": null,
            "right": null,
            "top": null,
            "visibility": null,
            "width": null
          }
        },
        "7bb71da30c7443b997fbd635b6528498": {
          "model_module": "@jupyter-widgets/controls",
          "model_name": "ProgressStyleModel",
          "model_module_version": "1.5.0",
          "state": {
            "_model_module": "@jupyter-widgets/controls",
            "_model_module_version": "1.5.0",
            "_model_name": "ProgressStyleModel",
            "_view_count": null,
            "_view_module": "@jupyter-widgets/base",
            "_view_module_version": "1.2.0",
            "_view_name": "StyleView",
            "bar_color": null,
            "description_width": ""
          }
        },
        "9b31c3e452c349cfae59818b68e2f5ca": {
          "model_module": "@jupyter-widgets/base",
          "model_name": "LayoutModel",
          "model_module_version": "1.2.0",
          "state": {
            "_model_module": "@jupyter-widgets/base",
            "_model_module_version": "1.2.0",
            "_model_name": "LayoutModel",
            "_view_count": null,
            "_view_module": "@jupyter-widgets/base",
            "_view_module_version": "1.2.0",
            "_view_name": "LayoutView",
            "align_content": null,
            "align_items": null,
            "align_self": null,
            "border": null,
            "bottom": null,
            "display": null,
            "flex": null,
            "flex_flow": null,
            "grid_area": null,
            "grid_auto_columns": null,
            "grid_auto_flow": null,
            "grid_auto_rows": null,
            "grid_column": null,
            "grid_gap": null,
            "grid_row": null,
            "grid_template_areas": null,
            "grid_template_columns": null,
            "grid_template_rows": null,
            "height": null,
            "justify_content": null,
            "justify_items": null,
            "left": null,
            "margin": null,
            "max_height": null,
            "max_width": null,
            "min_height": null,
            "min_width": null,
            "object_fit": null,
            "object_position": null,
            "order": null,
            "overflow": null,
            "overflow_x": null,
            "overflow_y": null,
            "padding": null,
            "right": null,
            "top": null,
            "visibility": null,
            "width": null
          }
        },
        "001a07852c7c4d1d97c101c18e0d3d23": {
          "model_module": "@jupyter-widgets/controls",
          "model_name": "DescriptionStyleModel",
          "model_module_version": "1.5.0",
          "state": {
            "_model_module": "@jupyter-widgets/controls",
            "_model_module_version": "1.5.0",
            "_model_name": "DescriptionStyleModel",
            "_view_count": null,
            "_view_module": "@jupyter-widgets/base",
            "_view_module_version": "1.2.0",
            "_view_name": "StyleView",
            "description_width": ""
          }
        },
        "4b5f9455ce85444aacbb8eb5b3979bfd": {
          "model_module": "@jupyter-widgets/controls",
          "model_name": "HBoxModel",
          "model_module_version": "1.5.0",
          "state": {
            "_dom_classes": [],
            "_model_module": "@jupyter-widgets/controls",
            "_model_module_version": "1.5.0",
            "_model_name": "HBoxModel",
            "_view_count": null,
            "_view_module": "@jupyter-widgets/controls",
            "_view_module_version": "1.5.0",
            "_view_name": "HBoxView",
            "box_style": "",
            "children": [
              "IPY_MODEL_aa7d9defc7384b28b03eb917f8fdd692",
              "IPY_MODEL_92c7af7535854a80b002253d6dbe6665",
              "IPY_MODEL_fefb3eef1a514123848e9f1ae57549bf"
            ],
            "layout": "IPY_MODEL_10a3f3c603fe44708fe2e36bad39fded"
          }
        },
        "aa7d9defc7384b28b03eb917f8fdd692": {
          "model_module": "@jupyter-widgets/controls",
          "model_name": "HTMLModel",
          "model_module_version": "1.5.0",
          "state": {
            "_dom_classes": [],
            "_model_module": "@jupyter-widgets/controls",
            "_model_module_version": "1.5.0",
            "_model_name": "HTMLModel",
            "_view_count": null,
            "_view_module": "@jupyter-widgets/controls",
            "_view_module_version": "1.5.0",
            "_view_name": "HTMLView",
            "description": "",
            "description_tooltip": null,
            "layout": "IPY_MODEL_97222ad0529146b880dd5a61f036b2a4",
            "placeholder": "​",
            "style": "IPY_MODEL_7ac74fc2ff5946f8a935c3e8fcc61b24",
            "value": "100%"
          }
        },
        "92c7af7535854a80b002253d6dbe6665": {
          "model_module": "@jupyter-widgets/controls",
          "model_name": "FloatProgressModel",
          "model_module_version": "1.5.0",
          "state": {
            "_dom_classes": [],
            "_model_module": "@jupyter-widgets/controls",
            "_model_module_version": "1.5.0",
            "_model_name": "FloatProgressModel",
            "_view_count": null,
            "_view_module": "@jupyter-widgets/controls",
            "_view_module_version": "1.5.0",
            "_view_name": "ProgressView",
            "bar_style": "",
            "description": "",
            "description_tooltip": null,
            "layout": "IPY_MODEL_b2d2fbd72c1c47c29ec2bdd5ba7a259a",
            "max": 60,
            "min": 0,
            "orientation": "horizontal",
            "style": "IPY_MODEL_6264a0f5f0e44d7385fb6b1bdbb5595c",
            "value": 60
          }
        },
        "fefb3eef1a514123848e9f1ae57549bf": {
          "model_module": "@jupyter-widgets/controls",
          "model_name": "HTMLModel",
          "model_module_version": "1.5.0",
          "state": {
            "_dom_classes": [],
            "_model_module": "@jupyter-widgets/controls",
            "_model_module_version": "1.5.0",
            "_model_name": "HTMLModel",
            "_view_count": null,
            "_view_module": "@jupyter-widgets/controls",
            "_view_module_version": "1.5.0",
            "_view_name": "HTMLView",
            "description": "",
            "description_tooltip": null,
            "layout": "IPY_MODEL_4052f96662d34101b534afc1c54d7d4e",
            "placeholder": "​",
            "style": "IPY_MODEL_89d3bba9c0264d05a650e7ad190697e4",
            "value": " 60/60 [00:07&lt;00:00,  8.41it/s]"
          }
        },
        "10a3f3c603fe44708fe2e36bad39fded": {
          "model_module": "@jupyter-widgets/base",
          "model_name": "LayoutModel",
          "model_module_version": "1.2.0",
          "state": {
            "_model_module": "@jupyter-widgets/base",
            "_model_module_version": "1.2.0",
            "_model_name": "LayoutModel",
            "_view_count": null,
            "_view_module": "@jupyter-widgets/base",
            "_view_module_version": "1.2.0",
            "_view_name": "LayoutView",
            "align_content": null,
            "align_items": null,
            "align_self": null,
            "border": null,
            "bottom": null,
            "display": null,
            "flex": null,
            "flex_flow": null,
            "grid_area": null,
            "grid_auto_columns": null,
            "grid_auto_flow": null,
            "grid_auto_rows": null,
            "grid_column": null,
            "grid_gap": null,
            "grid_row": null,
            "grid_template_areas": null,
            "grid_template_columns": null,
            "grid_template_rows": null,
            "height": null,
            "justify_content": null,
            "justify_items": null,
            "left": null,
            "margin": null,
            "max_height": null,
            "max_width": null,
            "min_height": null,
            "min_width": null,
            "object_fit": null,
            "object_position": null,
            "order": null,
            "overflow": null,
            "overflow_x": null,
            "overflow_y": null,
            "padding": null,
            "right": null,
            "top": null,
            "visibility": "hidden",
            "width": null
          }
        },
        "97222ad0529146b880dd5a61f036b2a4": {
          "model_module": "@jupyter-widgets/base",
          "model_name": "LayoutModel",
          "model_module_version": "1.2.0",
          "state": {
            "_model_module": "@jupyter-widgets/base",
            "_model_module_version": "1.2.0",
            "_model_name": "LayoutModel",
            "_view_count": null,
            "_view_module": "@jupyter-widgets/base",
            "_view_module_version": "1.2.0",
            "_view_name": "LayoutView",
            "align_content": null,
            "align_items": null,
            "align_self": null,
            "border": null,
            "bottom": null,
            "display": null,
            "flex": null,
            "flex_flow": null,
            "grid_area": null,
            "grid_auto_columns": null,
            "grid_auto_flow": null,
            "grid_auto_rows": null,
            "grid_column": null,
            "grid_gap": null,
            "grid_row": null,
            "grid_template_areas": null,
            "grid_template_columns": null,
            "grid_template_rows": null,
            "height": null,
            "justify_content": null,
            "justify_items": null,
            "left": null,
            "margin": null,
            "max_height": null,
            "max_width": null,
            "min_height": null,
            "min_width": null,
            "object_fit": null,
            "object_position": null,
            "order": null,
            "overflow": null,
            "overflow_x": null,
            "overflow_y": null,
            "padding": null,
            "right": null,
            "top": null,
            "visibility": null,
            "width": null
          }
        },
        "7ac74fc2ff5946f8a935c3e8fcc61b24": {
          "model_module": "@jupyter-widgets/controls",
          "model_name": "DescriptionStyleModel",
          "model_module_version": "1.5.0",
          "state": {
            "_model_module": "@jupyter-widgets/controls",
            "_model_module_version": "1.5.0",
            "_model_name": "DescriptionStyleModel",
            "_view_count": null,
            "_view_module": "@jupyter-widgets/base",
            "_view_module_version": "1.2.0",
            "_view_name": "StyleView",
            "description_width": ""
          }
        },
        "b2d2fbd72c1c47c29ec2bdd5ba7a259a": {
          "model_module": "@jupyter-widgets/base",
          "model_name": "LayoutModel",
          "model_module_version": "1.2.0",
          "state": {
            "_model_module": "@jupyter-widgets/base",
            "_model_module_version": "1.2.0",
            "_model_name": "LayoutModel",
            "_view_count": null,
            "_view_module": "@jupyter-widgets/base",
            "_view_module_version": "1.2.0",
            "_view_name": "LayoutView",
            "align_content": null,
            "align_items": null,
            "align_self": null,
            "border": null,
            "bottom": null,
            "display": null,
            "flex": null,
            "flex_flow": null,
            "grid_area": null,
            "grid_auto_columns": null,
            "grid_auto_flow": null,
            "grid_auto_rows": null,
            "grid_column": null,
            "grid_gap": null,
            "grid_row": null,
            "grid_template_areas": null,
            "grid_template_columns": null,
            "grid_template_rows": null,
            "height": null,
            "justify_content": null,
            "justify_items": null,
            "left": null,
            "margin": null,
            "max_height": null,
            "max_width": null,
            "min_height": null,
            "min_width": null,
            "object_fit": null,
            "object_position": null,
            "order": null,
            "overflow": null,
            "overflow_x": null,
            "overflow_y": null,
            "padding": null,
            "right": null,
            "top": null,
            "visibility": null,
            "width": null
          }
        },
        "6264a0f5f0e44d7385fb6b1bdbb5595c": {
          "model_module": "@jupyter-widgets/controls",
          "model_name": "ProgressStyleModel",
          "model_module_version": "1.5.0",
          "state": {
            "_model_module": "@jupyter-widgets/controls",
            "_model_module_version": "1.5.0",
            "_model_name": "ProgressStyleModel",
            "_view_count": null,
            "_view_module": "@jupyter-widgets/base",
            "_view_module_version": "1.2.0",
            "_view_name": "StyleView",
            "bar_color": null,
            "description_width": ""
          }
        },
        "4052f96662d34101b534afc1c54d7d4e": {
          "model_module": "@jupyter-widgets/base",
          "model_name": "LayoutModel",
          "model_module_version": "1.2.0",
          "state": {
            "_model_module": "@jupyter-widgets/base",
            "_model_module_version": "1.2.0",
            "_model_name": "LayoutModel",
            "_view_count": null,
            "_view_module": "@jupyter-widgets/base",
            "_view_module_version": "1.2.0",
            "_view_name": "LayoutView",
            "align_content": null,
            "align_items": null,
            "align_self": null,
            "border": null,
            "bottom": null,
            "display": null,
            "flex": null,
            "flex_flow": null,
            "grid_area": null,
            "grid_auto_columns": null,
            "grid_auto_flow": null,
            "grid_auto_rows": null,
            "grid_column": null,
            "grid_gap": null,
            "grid_row": null,
            "grid_template_areas": null,
            "grid_template_columns": null,
            "grid_template_rows": null,
            "height": null,
            "justify_content": null,
            "justify_items": null,
            "left": null,
            "margin": null,
            "max_height": null,
            "max_width": null,
            "min_height": null,
            "min_width": null,
            "object_fit": null,
            "object_position": null,
            "order": null,
            "overflow": null,
            "overflow_x": null,
            "overflow_y": null,
            "padding": null,
            "right": null,
            "top": null,
            "visibility": null,
            "width": null
          }
        },
        "89d3bba9c0264d05a650e7ad190697e4": {
          "model_module": "@jupyter-widgets/controls",
          "model_name": "DescriptionStyleModel",
          "model_module_version": "1.5.0",
          "state": {
            "_model_module": "@jupyter-widgets/controls",
            "_model_module_version": "1.5.0",
            "_model_name": "DescriptionStyleModel",
            "_view_count": null,
            "_view_module": "@jupyter-widgets/base",
            "_view_module_version": "1.2.0",
            "_view_name": "StyleView",
            "description_width": ""
          }
        },
        "119cac645200456b869d62d7c93be86d": {
          "model_module": "@jupyter-widgets/controls",
          "model_name": "HBoxModel",
          "model_module_version": "1.5.0",
          "state": {
            "_dom_classes": [],
            "_model_module": "@jupyter-widgets/controls",
            "_model_module_version": "1.5.0",
            "_model_name": "HBoxModel",
            "_view_count": null,
            "_view_module": "@jupyter-widgets/controls",
            "_view_module_version": "1.5.0",
            "_view_name": "HBoxView",
            "box_style": "",
            "children": [
              "IPY_MODEL_d35bdfe78e5c40b0905f292519313f69",
              "IPY_MODEL_9b47189d419e45b1b945c531061643b6",
              "IPY_MODEL_ca8518b5fe9d4efaa8e3faf458b4c39c"
            ],
            "layout": "IPY_MODEL_0b496432d9254d50a11198f0e26dfb99"
          }
        },
        "d35bdfe78e5c40b0905f292519313f69": {
          "model_module": "@jupyter-widgets/controls",
          "model_name": "HTMLModel",
          "model_module_version": "1.5.0",
          "state": {
            "_dom_classes": [],
            "_model_module": "@jupyter-widgets/controls",
            "_model_module_version": "1.5.0",
            "_model_name": "HTMLModel",
            "_view_count": null,
            "_view_module": "@jupyter-widgets/controls",
            "_view_module_version": "1.5.0",
            "_view_name": "HTMLView",
            "description": "",
            "description_tooltip": null,
            "layout": "IPY_MODEL_fa6ff02d74e6486aaf740e980e1e78c3",
            "placeholder": "​",
            "style": "IPY_MODEL_2805a46552d64c199208e90a88966886",
            "value": "100%"
          }
        },
        "9b47189d419e45b1b945c531061643b6": {
          "model_module": "@jupyter-widgets/controls",
          "model_name": "FloatProgressModel",
          "model_module_version": "1.5.0",
          "state": {
            "_dom_classes": [],
            "_model_module": "@jupyter-widgets/controls",
            "_model_module_version": "1.5.0",
            "_model_name": "FloatProgressModel",
            "_view_count": null,
            "_view_module": "@jupyter-widgets/controls",
            "_view_module_version": "1.5.0",
            "_view_name": "ProgressView",
            "bar_style": "",
            "description": "",
            "description_tooltip": null,
            "layout": "IPY_MODEL_041ade4d7a5748188e0c82c3ecc238a0",
            "max": 60,
            "min": 0,
            "orientation": "horizontal",
            "style": "IPY_MODEL_dd64985ef3864522a49138f55b03fefb",
            "value": 60
          }
        },
        "ca8518b5fe9d4efaa8e3faf458b4c39c": {
          "model_module": "@jupyter-widgets/controls",
          "model_name": "HTMLModel",
          "model_module_version": "1.5.0",
          "state": {
            "_dom_classes": [],
            "_model_module": "@jupyter-widgets/controls",
            "_model_module_version": "1.5.0",
            "_model_name": "HTMLModel",
            "_view_count": null,
            "_view_module": "@jupyter-widgets/controls",
            "_view_module_version": "1.5.0",
            "_view_name": "HTMLView",
            "description": "",
            "description_tooltip": null,
            "layout": "IPY_MODEL_d0e97ba53fb745b2bd0bcfda025b07ef",
            "placeholder": "​",
            "style": "IPY_MODEL_0acc1a22134d4952a71d76ff98054fb2",
            "value": " 60/60 [00:08&lt;00:00,  9.04it/s]"
          }
        },
        "0b496432d9254d50a11198f0e26dfb99": {
          "model_module": "@jupyter-widgets/base",
          "model_name": "LayoutModel",
          "model_module_version": "1.2.0",
          "state": {
            "_model_module": "@jupyter-widgets/base",
            "_model_module_version": "1.2.0",
            "_model_name": "LayoutModel",
            "_view_count": null,
            "_view_module": "@jupyter-widgets/base",
            "_view_module_version": "1.2.0",
            "_view_name": "LayoutView",
            "align_content": null,
            "align_items": null,
            "align_self": null,
            "border": null,
            "bottom": null,
            "display": null,
            "flex": null,
            "flex_flow": null,
            "grid_area": null,
            "grid_auto_columns": null,
            "grid_auto_flow": null,
            "grid_auto_rows": null,
            "grid_column": null,
            "grid_gap": null,
            "grid_row": null,
            "grid_template_areas": null,
            "grid_template_columns": null,
            "grid_template_rows": null,
            "height": null,
            "justify_content": null,
            "justify_items": null,
            "left": null,
            "margin": null,
            "max_height": null,
            "max_width": null,
            "min_height": null,
            "min_width": null,
            "object_fit": null,
            "object_position": null,
            "order": null,
            "overflow": null,
            "overflow_x": null,
            "overflow_y": null,
            "padding": null,
            "right": null,
            "top": null,
            "visibility": "hidden",
            "width": null
          }
        },
        "fa6ff02d74e6486aaf740e980e1e78c3": {
          "model_module": "@jupyter-widgets/base",
          "model_name": "LayoutModel",
          "model_module_version": "1.2.0",
          "state": {
            "_model_module": "@jupyter-widgets/base",
            "_model_module_version": "1.2.0",
            "_model_name": "LayoutModel",
            "_view_count": null,
            "_view_module": "@jupyter-widgets/base",
            "_view_module_version": "1.2.0",
            "_view_name": "LayoutView",
            "align_content": null,
            "align_items": null,
            "align_self": null,
            "border": null,
            "bottom": null,
            "display": null,
            "flex": null,
            "flex_flow": null,
            "grid_area": null,
            "grid_auto_columns": null,
            "grid_auto_flow": null,
            "grid_auto_rows": null,
            "grid_column": null,
            "grid_gap": null,
            "grid_row": null,
            "grid_template_areas": null,
            "grid_template_columns": null,
            "grid_template_rows": null,
            "height": null,
            "justify_content": null,
            "justify_items": null,
            "left": null,
            "margin": null,
            "max_height": null,
            "max_width": null,
            "min_height": null,
            "min_width": null,
            "object_fit": null,
            "object_position": null,
            "order": null,
            "overflow": null,
            "overflow_x": null,
            "overflow_y": null,
            "padding": null,
            "right": null,
            "top": null,
            "visibility": null,
            "width": null
          }
        },
        "2805a46552d64c199208e90a88966886": {
          "model_module": "@jupyter-widgets/controls",
          "model_name": "DescriptionStyleModel",
          "model_module_version": "1.5.0",
          "state": {
            "_model_module": "@jupyter-widgets/controls",
            "_model_module_version": "1.5.0",
            "_model_name": "DescriptionStyleModel",
            "_view_count": null,
            "_view_module": "@jupyter-widgets/base",
            "_view_module_version": "1.2.0",
            "_view_name": "StyleView",
            "description_width": ""
          }
        },
        "041ade4d7a5748188e0c82c3ecc238a0": {
          "model_module": "@jupyter-widgets/base",
          "model_name": "LayoutModel",
          "model_module_version": "1.2.0",
          "state": {
            "_model_module": "@jupyter-widgets/base",
            "_model_module_version": "1.2.0",
            "_model_name": "LayoutModel",
            "_view_count": null,
            "_view_module": "@jupyter-widgets/base",
            "_view_module_version": "1.2.0",
            "_view_name": "LayoutView",
            "align_content": null,
            "align_items": null,
            "align_self": null,
            "border": null,
            "bottom": null,
            "display": null,
            "flex": null,
            "flex_flow": null,
            "grid_area": null,
            "grid_auto_columns": null,
            "grid_auto_flow": null,
            "grid_auto_rows": null,
            "grid_column": null,
            "grid_gap": null,
            "grid_row": null,
            "grid_template_areas": null,
            "grid_template_columns": null,
            "grid_template_rows": null,
            "height": null,
            "justify_content": null,
            "justify_items": null,
            "left": null,
            "margin": null,
            "max_height": null,
            "max_width": null,
            "min_height": null,
            "min_width": null,
            "object_fit": null,
            "object_position": null,
            "order": null,
            "overflow": null,
            "overflow_x": null,
            "overflow_y": null,
            "padding": null,
            "right": null,
            "top": null,
            "visibility": null,
            "width": null
          }
        },
        "dd64985ef3864522a49138f55b03fefb": {
          "model_module": "@jupyter-widgets/controls",
          "model_name": "ProgressStyleModel",
          "model_module_version": "1.5.0",
          "state": {
            "_model_module": "@jupyter-widgets/controls",
            "_model_module_version": "1.5.0",
            "_model_name": "ProgressStyleModel",
            "_view_count": null,
            "_view_module": "@jupyter-widgets/base",
            "_view_module_version": "1.2.0",
            "_view_name": "StyleView",
            "bar_color": null,
            "description_width": ""
          }
        },
        "d0e97ba53fb745b2bd0bcfda025b07ef": {
          "model_module": "@jupyter-widgets/base",
          "model_name": "LayoutModel",
          "model_module_version": "1.2.0",
          "state": {
            "_model_module": "@jupyter-widgets/base",
            "_model_module_version": "1.2.0",
            "_model_name": "LayoutModel",
            "_view_count": null,
            "_view_module": "@jupyter-widgets/base",
            "_view_module_version": "1.2.0",
            "_view_name": "LayoutView",
            "align_content": null,
            "align_items": null,
            "align_self": null,
            "border": null,
            "bottom": null,
            "display": null,
            "flex": null,
            "flex_flow": null,
            "grid_area": null,
            "grid_auto_columns": null,
            "grid_auto_flow": null,
            "grid_auto_rows": null,
            "grid_column": null,
            "grid_gap": null,
            "grid_row": null,
            "grid_template_areas": null,
            "grid_template_columns": null,
            "grid_template_rows": null,
            "height": null,
            "justify_content": null,
            "justify_items": null,
            "left": null,
            "margin": null,
            "max_height": null,
            "max_width": null,
            "min_height": null,
            "min_width": null,
            "object_fit": null,
            "object_position": null,
            "order": null,
            "overflow": null,
            "overflow_x": null,
            "overflow_y": null,
            "padding": null,
            "right": null,
            "top": null,
            "visibility": null,
            "width": null
          }
        },
        "0acc1a22134d4952a71d76ff98054fb2": {
          "model_module": "@jupyter-widgets/controls",
          "model_name": "DescriptionStyleModel",
          "model_module_version": "1.5.0",
          "state": {
            "_model_module": "@jupyter-widgets/controls",
            "_model_module_version": "1.5.0",
            "_model_name": "DescriptionStyleModel",
            "_view_count": null,
            "_view_module": "@jupyter-widgets/base",
            "_view_module_version": "1.2.0",
            "_view_name": "StyleView",
            "description_width": ""
          }
        },
        "5370cfdb1c794341a8be0531743abf15": {
          "model_module": "@jupyter-widgets/controls",
          "model_name": "HBoxModel",
          "model_module_version": "1.5.0",
          "state": {
            "_dom_classes": [],
            "_model_module": "@jupyter-widgets/controls",
            "_model_module_version": "1.5.0",
            "_model_name": "HBoxModel",
            "_view_count": null,
            "_view_module": "@jupyter-widgets/controls",
            "_view_module_version": "1.5.0",
            "_view_name": "HBoxView",
            "box_style": "",
            "children": [
              "IPY_MODEL_d17bbe632563426fa4138cd826235605",
              "IPY_MODEL_1d07efac93a14ada974ff327aa19e31d",
              "IPY_MODEL_e5edd200c20a443792351853b3983aa9"
            ],
            "layout": "IPY_MODEL_b34bbe190d5d4eccb69b070a238b2880"
          }
        },
        "d17bbe632563426fa4138cd826235605": {
          "model_module": "@jupyter-widgets/controls",
          "model_name": "HTMLModel",
          "model_module_version": "1.5.0",
          "state": {
            "_dom_classes": [],
            "_model_module": "@jupyter-widgets/controls",
            "_model_module_version": "1.5.0",
            "_model_name": "HTMLModel",
            "_view_count": null,
            "_view_module": "@jupyter-widgets/controls",
            "_view_module_version": "1.5.0",
            "_view_name": "HTMLView",
            "description": "",
            "description_tooltip": null,
            "layout": "IPY_MODEL_1ab591848bfd4a1bb015189a9de4a1a7",
            "placeholder": "​",
            "style": "IPY_MODEL_4ffd24450eec4c0487622355a3b41243",
            "value": "100%"
          }
        },
        "1d07efac93a14ada974ff327aa19e31d": {
          "model_module": "@jupyter-widgets/controls",
          "model_name": "FloatProgressModel",
          "model_module_version": "1.5.0",
          "state": {
            "_dom_classes": [],
            "_model_module": "@jupyter-widgets/controls",
            "_model_module_version": "1.5.0",
            "_model_name": "FloatProgressModel",
            "_view_count": null,
            "_view_module": "@jupyter-widgets/controls",
            "_view_module_version": "1.5.0",
            "_view_name": "ProgressView",
            "bar_style": "",
            "description": "",
            "description_tooltip": null,
            "layout": "IPY_MODEL_839940f75d464153bd8aa7ee1dbaeb5a",
            "max": 60,
            "min": 0,
            "orientation": "horizontal",
            "style": "IPY_MODEL_c9ee219e14154a31a3b84d3269af3ab1",
            "value": 60
          }
        },
        "e5edd200c20a443792351853b3983aa9": {
          "model_module": "@jupyter-widgets/controls",
          "model_name": "HTMLModel",
          "model_module_version": "1.5.0",
          "state": {
            "_dom_classes": [],
            "_model_module": "@jupyter-widgets/controls",
            "_model_module_version": "1.5.0",
            "_model_name": "HTMLModel",
            "_view_count": null,
            "_view_module": "@jupyter-widgets/controls",
            "_view_module_version": "1.5.0",
            "_view_name": "HTMLView",
            "description": "",
            "description_tooltip": null,
            "layout": "IPY_MODEL_afafe9ddf50c46f1b80e22b7b5c9bb5b",
            "placeholder": "​",
            "style": "IPY_MODEL_c2443d3a3a3040a490ba29f3eb009dd6",
            "value": " 60/60 [00:07&lt;00:00,  6.49it/s]"
          }
        },
        "b34bbe190d5d4eccb69b070a238b2880": {
          "model_module": "@jupyter-widgets/base",
          "model_name": "LayoutModel",
          "model_module_version": "1.2.0",
          "state": {
            "_model_module": "@jupyter-widgets/base",
            "_model_module_version": "1.2.0",
            "_model_name": "LayoutModel",
            "_view_count": null,
            "_view_module": "@jupyter-widgets/base",
            "_view_module_version": "1.2.0",
            "_view_name": "LayoutView",
            "align_content": null,
            "align_items": null,
            "align_self": null,
            "border": null,
            "bottom": null,
            "display": null,
            "flex": null,
            "flex_flow": null,
            "grid_area": null,
            "grid_auto_columns": null,
            "grid_auto_flow": null,
            "grid_auto_rows": null,
            "grid_column": null,
            "grid_gap": null,
            "grid_row": null,
            "grid_template_areas": null,
            "grid_template_columns": null,
            "grid_template_rows": null,
            "height": null,
            "justify_content": null,
            "justify_items": null,
            "left": null,
            "margin": null,
            "max_height": null,
            "max_width": null,
            "min_height": null,
            "min_width": null,
            "object_fit": null,
            "object_position": null,
            "order": null,
            "overflow": null,
            "overflow_x": null,
            "overflow_y": null,
            "padding": null,
            "right": null,
            "top": null,
            "visibility": "hidden",
            "width": null
          }
        },
        "1ab591848bfd4a1bb015189a9de4a1a7": {
          "model_module": "@jupyter-widgets/base",
          "model_name": "LayoutModel",
          "model_module_version": "1.2.0",
          "state": {
            "_model_module": "@jupyter-widgets/base",
            "_model_module_version": "1.2.0",
            "_model_name": "LayoutModel",
            "_view_count": null,
            "_view_module": "@jupyter-widgets/base",
            "_view_module_version": "1.2.0",
            "_view_name": "LayoutView",
            "align_content": null,
            "align_items": null,
            "align_self": null,
            "border": null,
            "bottom": null,
            "display": null,
            "flex": null,
            "flex_flow": null,
            "grid_area": null,
            "grid_auto_columns": null,
            "grid_auto_flow": null,
            "grid_auto_rows": null,
            "grid_column": null,
            "grid_gap": null,
            "grid_row": null,
            "grid_template_areas": null,
            "grid_template_columns": null,
            "grid_template_rows": null,
            "height": null,
            "justify_content": null,
            "justify_items": null,
            "left": null,
            "margin": null,
            "max_height": null,
            "max_width": null,
            "min_height": null,
            "min_width": null,
            "object_fit": null,
            "object_position": null,
            "order": null,
            "overflow": null,
            "overflow_x": null,
            "overflow_y": null,
            "padding": null,
            "right": null,
            "top": null,
            "visibility": null,
            "width": null
          }
        },
        "4ffd24450eec4c0487622355a3b41243": {
          "model_module": "@jupyter-widgets/controls",
          "model_name": "DescriptionStyleModel",
          "model_module_version": "1.5.0",
          "state": {
            "_model_module": "@jupyter-widgets/controls",
            "_model_module_version": "1.5.0",
            "_model_name": "DescriptionStyleModel",
            "_view_count": null,
            "_view_module": "@jupyter-widgets/base",
            "_view_module_version": "1.2.0",
            "_view_name": "StyleView",
            "description_width": ""
          }
        },
        "839940f75d464153bd8aa7ee1dbaeb5a": {
          "model_module": "@jupyter-widgets/base",
          "model_name": "LayoutModel",
          "model_module_version": "1.2.0",
          "state": {
            "_model_module": "@jupyter-widgets/base",
            "_model_module_version": "1.2.0",
            "_model_name": "LayoutModel",
            "_view_count": null,
            "_view_module": "@jupyter-widgets/base",
            "_view_module_version": "1.2.0",
            "_view_name": "LayoutView",
            "align_content": null,
            "align_items": null,
            "align_self": null,
            "border": null,
            "bottom": null,
            "display": null,
            "flex": null,
            "flex_flow": null,
            "grid_area": null,
            "grid_auto_columns": null,
            "grid_auto_flow": null,
            "grid_auto_rows": null,
            "grid_column": null,
            "grid_gap": null,
            "grid_row": null,
            "grid_template_areas": null,
            "grid_template_columns": null,
            "grid_template_rows": null,
            "height": null,
            "justify_content": null,
            "justify_items": null,
            "left": null,
            "margin": null,
            "max_height": null,
            "max_width": null,
            "min_height": null,
            "min_width": null,
            "object_fit": null,
            "object_position": null,
            "order": null,
            "overflow": null,
            "overflow_x": null,
            "overflow_y": null,
            "padding": null,
            "right": null,
            "top": null,
            "visibility": null,
            "width": null
          }
        },
        "c9ee219e14154a31a3b84d3269af3ab1": {
          "model_module": "@jupyter-widgets/controls",
          "model_name": "ProgressStyleModel",
          "model_module_version": "1.5.0",
          "state": {
            "_model_module": "@jupyter-widgets/controls",
            "_model_module_version": "1.5.0",
            "_model_name": "ProgressStyleModel",
            "_view_count": null,
            "_view_module": "@jupyter-widgets/base",
            "_view_module_version": "1.2.0",
            "_view_name": "StyleView",
            "bar_color": null,
            "description_width": ""
          }
        },
        "afafe9ddf50c46f1b80e22b7b5c9bb5b": {
          "model_module": "@jupyter-widgets/base",
          "model_name": "LayoutModel",
          "model_module_version": "1.2.0",
          "state": {
            "_model_module": "@jupyter-widgets/base",
            "_model_module_version": "1.2.0",
            "_model_name": "LayoutModel",
            "_view_count": null,
            "_view_module": "@jupyter-widgets/base",
            "_view_module_version": "1.2.0",
            "_view_name": "LayoutView",
            "align_content": null,
            "align_items": null,
            "align_self": null,
            "border": null,
            "bottom": null,
            "display": null,
            "flex": null,
            "flex_flow": null,
            "grid_area": null,
            "grid_auto_columns": null,
            "grid_auto_flow": null,
            "grid_auto_rows": null,
            "grid_column": null,
            "grid_gap": null,
            "grid_row": null,
            "grid_template_areas": null,
            "grid_template_columns": null,
            "grid_template_rows": null,
            "height": null,
            "justify_content": null,
            "justify_items": null,
            "left": null,
            "margin": null,
            "max_height": null,
            "max_width": null,
            "min_height": null,
            "min_width": null,
            "object_fit": null,
            "object_position": null,
            "order": null,
            "overflow": null,
            "overflow_x": null,
            "overflow_y": null,
            "padding": null,
            "right": null,
            "top": null,
            "visibility": null,
            "width": null
          }
        },
        "c2443d3a3a3040a490ba29f3eb009dd6": {
          "model_module": "@jupyter-widgets/controls",
          "model_name": "DescriptionStyleModel",
          "model_module_version": "1.5.0",
          "state": {
            "_model_module": "@jupyter-widgets/controls",
            "_model_module_version": "1.5.0",
            "_model_name": "DescriptionStyleModel",
            "_view_count": null,
            "_view_module": "@jupyter-widgets/base",
            "_view_module_version": "1.2.0",
            "_view_name": "StyleView",
            "description_width": ""
          }
        },
        "3103223871764d43aff586e93b315242": {
          "model_module": "@jupyter-widgets/controls",
          "model_name": "HBoxModel",
          "model_module_version": "1.5.0",
          "state": {
            "_dom_classes": [],
            "_model_module": "@jupyter-widgets/controls",
            "_model_module_version": "1.5.0",
            "_model_name": "HBoxModel",
            "_view_count": null,
            "_view_module": "@jupyter-widgets/controls",
            "_view_module_version": "1.5.0",
            "_view_name": "HBoxView",
            "box_style": "",
            "children": [
              "IPY_MODEL_2706714e96ae480fb148a4d5c6c6f0c3",
              "IPY_MODEL_626f7513877e41168f7b1d2b8e0ab80f",
              "IPY_MODEL_1511b6ff15cb4fb09842cd722d28d25b"
            ],
            "layout": "IPY_MODEL_bd1fa38067734fdb81b9e9688bf3d5fb"
          }
        },
        "2706714e96ae480fb148a4d5c6c6f0c3": {
          "model_module": "@jupyter-widgets/controls",
          "model_name": "HTMLModel",
          "model_module_version": "1.5.0",
          "state": {
            "_dom_classes": [],
            "_model_module": "@jupyter-widgets/controls",
            "_model_module_version": "1.5.0",
            "_model_name": "HTMLModel",
            "_view_count": null,
            "_view_module": "@jupyter-widgets/controls",
            "_view_module_version": "1.5.0",
            "_view_name": "HTMLView",
            "description": "",
            "description_tooltip": null,
            "layout": "IPY_MODEL_6db4b47e60a947199b583ce7e277c742",
            "placeholder": "​",
            "style": "IPY_MODEL_417a273c7b134dc6b920e3702523b813",
            "value": "100%"
          }
        },
        "626f7513877e41168f7b1d2b8e0ab80f": {
          "model_module": "@jupyter-widgets/controls",
          "model_name": "FloatProgressModel",
          "model_module_version": "1.5.0",
          "state": {
            "_dom_classes": [],
            "_model_module": "@jupyter-widgets/controls",
            "_model_module_version": "1.5.0",
            "_model_name": "FloatProgressModel",
            "_view_count": null,
            "_view_module": "@jupyter-widgets/controls",
            "_view_module_version": "1.5.0",
            "_view_name": "ProgressView",
            "bar_style": "",
            "description": "",
            "description_tooltip": null,
            "layout": "IPY_MODEL_b035f1b21d724470b134e206ef0fc916",
            "max": 60,
            "min": 0,
            "orientation": "horizontal",
            "style": "IPY_MODEL_2d4f63c7cc804c5fb21a86558e334c90",
            "value": 60
          }
        },
        "1511b6ff15cb4fb09842cd722d28d25b": {
          "model_module": "@jupyter-widgets/controls",
          "model_name": "HTMLModel",
          "model_module_version": "1.5.0",
          "state": {
            "_dom_classes": [],
            "_model_module": "@jupyter-widgets/controls",
            "_model_module_version": "1.5.0",
            "_model_name": "HTMLModel",
            "_view_count": null,
            "_view_module": "@jupyter-widgets/controls",
            "_view_module_version": "1.5.0",
            "_view_name": "HTMLView",
            "description": "",
            "description_tooltip": null,
            "layout": "IPY_MODEL_cd680a1a16e9434f905db310f48781a2",
            "placeholder": "​",
            "style": "IPY_MODEL_df28f7a96d854e3a80cd947ca937205e",
            "value": " 60/60 [00:08&lt;00:00,  8.74it/s]"
          }
        },
        "bd1fa38067734fdb81b9e9688bf3d5fb": {
          "model_module": "@jupyter-widgets/base",
          "model_name": "LayoutModel",
          "model_module_version": "1.2.0",
          "state": {
            "_model_module": "@jupyter-widgets/base",
            "_model_module_version": "1.2.0",
            "_model_name": "LayoutModel",
            "_view_count": null,
            "_view_module": "@jupyter-widgets/base",
            "_view_module_version": "1.2.0",
            "_view_name": "LayoutView",
            "align_content": null,
            "align_items": null,
            "align_self": null,
            "border": null,
            "bottom": null,
            "display": null,
            "flex": null,
            "flex_flow": null,
            "grid_area": null,
            "grid_auto_columns": null,
            "grid_auto_flow": null,
            "grid_auto_rows": null,
            "grid_column": null,
            "grid_gap": null,
            "grid_row": null,
            "grid_template_areas": null,
            "grid_template_columns": null,
            "grid_template_rows": null,
            "height": null,
            "justify_content": null,
            "justify_items": null,
            "left": null,
            "margin": null,
            "max_height": null,
            "max_width": null,
            "min_height": null,
            "min_width": null,
            "object_fit": null,
            "object_position": null,
            "order": null,
            "overflow": null,
            "overflow_x": null,
            "overflow_y": null,
            "padding": null,
            "right": null,
            "top": null,
            "visibility": "hidden",
            "width": null
          }
        },
        "6db4b47e60a947199b583ce7e277c742": {
          "model_module": "@jupyter-widgets/base",
          "model_name": "LayoutModel",
          "model_module_version": "1.2.0",
          "state": {
            "_model_module": "@jupyter-widgets/base",
            "_model_module_version": "1.2.0",
            "_model_name": "LayoutModel",
            "_view_count": null,
            "_view_module": "@jupyter-widgets/base",
            "_view_module_version": "1.2.0",
            "_view_name": "LayoutView",
            "align_content": null,
            "align_items": null,
            "align_self": null,
            "border": null,
            "bottom": null,
            "display": null,
            "flex": null,
            "flex_flow": null,
            "grid_area": null,
            "grid_auto_columns": null,
            "grid_auto_flow": null,
            "grid_auto_rows": null,
            "grid_column": null,
            "grid_gap": null,
            "grid_row": null,
            "grid_template_areas": null,
            "grid_template_columns": null,
            "grid_template_rows": null,
            "height": null,
            "justify_content": null,
            "justify_items": null,
            "left": null,
            "margin": null,
            "max_height": null,
            "max_width": null,
            "min_height": null,
            "min_width": null,
            "object_fit": null,
            "object_position": null,
            "order": null,
            "overflow": null,
            "overflow_x": null,
            "overflow_y": null,
            "padding": null,
            "right": null,
            "top": null,
            "visibility": null,
            "width": null
          }
        },
        "417a273c7b134dc6b920e3702523b813": {
          "model_module": "@jupyter-widgets/controls",
          "model_name": "DescriptionStyleModel",
          "model_module_version": "1.5.0",
          "state": {
            "_model_module": "@jupyter-widgets/controls",
            "_model_module_version": "1.5.0",
            "_model_name": "DescriptionStyleModel",
            "_view_count": null,
            "_view_module": "@jupyter-widgets/base",
            "_view_module_version": "1.2.0",
            "_view_name": "StyleView",
            "description_width": ""
          }
        },
        "b035f1b21d724470b134e206ef0fc916": {
          "model_module": "@jupyter-widgets/base",
          "model_name": "LayoutModel",
          "model_module_version": "1.2.0",
          "state": {
            "_model_module": "@jupyter-widgets/base",
            "_model_module_version": "1.2.0",
            "_model_name": "LayoutModel",
            "_view_count": null,
            "_view_module": "@jupyter-widgets/base",
            "_view_module_version": "1.2.0",
            "_view_name": "LayoutView",
            "align_content": null,
            "align_items": null,
            "align_self": null,
            "border": null,
            "bottom": null,
            "display": null,
            "flex": null,
            "flex_flow": null,
            "grid_area": null,
            "grid_auto_columns": null,
            "grid_auto_flow": null,
            "grid_auto_rows": null,
            "grid_column": null,
            "grid_gap": null,
            "grid_row": null,
            "grid_template_areas": null,
            "grid_template_columns": null,
            "grid_template_rows": null,
            "height": null,
            "justify_content": null,
            "justify_items": null,
            "left": null,
            "margin": null,
            "max_height": null,
            "max_width": null,
            "min_height": null,
            "min_width": null,
            "object_fit": null,
            "object_position": null,
            "order": null,
            "overflow": null,
            "overflow_x": null,
            "overflow_y": null,
            "padding": null,
            "right": null,
            "top": null,
            "visibility": null,
            "width": null
          }
        },
        "2d4f63c7cc804c5fb21a86558e334c90": {
          "model_module": "@jupyter-widgets/controls",
          "model_name": "ProgressStyleModel",
          "model_module_version": "1.5.0",
          "state": {
            "_model_module": "@jupyter-widgets/controls",
            "_model_module_version": "1.5.0",
            "_model_name": "ProgressStyleModel",
            "_view_count": null,
            "_view_module": "@jupyter-widgets/base",
            "_view_module_version": "1.2.0",
            "_view_name": "StyleView",
            "bar_color": null,
            "description_width": ""
          }
        },
        "cd680a1a16e9434f905db310f48781a2": {
          "model_module": "@jupyter-widgets/base",
          "model_name": "LayoutModel",
          "model_module_version": "1.2.0",
          "state": {
            "_model_module": "@jupyter-widgets/base",
            "_model_module_version": "1.2.0",
            "_model_name": "LayoutModel",
            "_view_count": null,
            "_view_module": "@jupyter-widgets/base",
            "_view_module_version": "1.2.0",
            "_view_name": "LayoutView",
            "align_content": null,
            "align_items": null,
            "align_self": null,
            "border": null,
            "bottom": null,
            "display": null,
            "flex": null,
            "flex_flow": null,
            "grid_area": null,
            "grid_auto_columns": null,
            "grid_auto_flow": null,
            "grid_auto_rows": null,
            "grid_column": null,
            "grid_gap": null,
            "grid_row": null,
            "grid_template_areas": null,
            "grid_template_columns": null,
            "grid_template_rows": null,
            "height": null,
            "justify_content": null,
            "justify_items": null,
            "left": null,
            "margin": null,
            "max_height": null,
            "max_width": null,
            "min_height": null,
            "min_width": null,
            "object_fit": null,
            "object_position": null,
            "order": null,
            "overflow": null,
            "overflow_x": null,
            "overflow_y": null,
            "padding": null,
            "right": null,
            "top": null,
            "visibility": null,
            "width": null
          }
        },
        "df28f7a96d854e3a80cd947ca937205e": {
          "model_module": "@jupyter-widgets/controls",
          "model_name": "DescriptionStyleModel",
          "model_module_version": "1.5.0",
          "state": {
            "_model_module": "@jupyter-widgets/controls",
            "_model_module_version": "1.5.0",
            "_model_name": "DescriptionStyleModel",
            "_view_count": null,
            "_view_module": "@jupyter-widgets/base",
            "_view_module_version": "1.2.0",
            "_view_name": "StyleView",
            "description_width": ""
          }
        },
        "a125c5866de54de2be5c5e826e313c00": {
          "model_module": "@jupyter-widgets/controls",
          "model_name": "HBoxModel",
          "model_module_version": "1.5.0",
          "state": {
            "_dom_classes": [],
            "_model_module": "@jupyter-widgets/controls",
            "_model_module_version": "1.5.0",
            "_model_name": "HBoxModel",
            "_view_count": null,
            "_view_module": "@jupyter-widgets/controls",
            "_view_module_version": "1.5.0",
            "_view_name": "HBoxView",
            "box_style": "",
            "children": [
              "IPY_MODEL_2a90ce48f4634a8c8444184958fb1140",
              "IPY_MODEL_01007e47e2f7416f8c3c280505074a69",
              "IPY_MODEL_d4db3d8074454fdcb62cba2e95f21432"
            ],
            "layout": "IPY_MODEL_b58387a4e7a443aa89a7d17377fed2c5"
          }
        },
        "2a90ce48f4634a8c8444184958fb1140": {
          "model_module": "@jupyter-widgets/controls",
          "model_name": "HTMLModel",
          "model_module_version": "1.5.0",
          "state": {
            "_dom_classes": [],
            "_model_module": "@jupyter-widgets/controls",
            "_model_module_version": "1.5.0",
            "_model_name": "HTMLModel",
            "_view_count": null,
            "_view_module": "@jupyter-widgets/controls",
            "_view_module_version": "1.5.0",
            "_view_name": "HTMLView",
            "description": "",
            "description_tooltip": null,
            "layout": "IPY_MODEL_3927fe7c35b545eb97050f5770660b1b",
            "placeholder": "​",
            "style": "IPY_MODEL_d3451d5c272a4a879fd21fcc9e466617",
            "value": "100%"
          }
        },
        "01007e47e2f7416f8c3c280505074a69": {
          "model_module": "@jupyter-widgets/controls",
          "model_name": "FloatProgressModel",
          "model_module_version": "1.5.0",
          "state": {
            "_dom_classes": [],
            "_model_module": "@jupyter-widgets/controls",
            "_model_module_version": "1.5.0",
            "_model_name": "FloatProgressModel",
            "_view_count": null,
            "_view_module": "@jupyter-widgets/controls",
            "_view_module_version": "1.5.0",
            "_view_name": "ProgressView",
            "bar_style": "success",
            "description": "",
            "description_tooltip": null,
            "layout": "IPY_MODEL_4eef27b7033b40c0bd75e6814579b460",
            "max": 5,
            "min": 0,
            "orientation": "horizontal",
            "style": "IPY_MODEL_1b847bcae66b4d0daf48d99264595ac9",
            "value": 5
          }
        },
        "d4db3d8074454fdcb62cba2e95f21432": {
          "model_module": "@jupyter-widgets/controls",
          "model_name": "HTMLModel",
          "model_module_version": "1.5.0",
          "state": {
            "_dom_classes": [],
            "_model_module": "@jupyter-widgets/controls",
            "_model_module_version": "1.5.0",
            "_model_name": "HTMLModel",
            "_view_count": null,
            "_view_module": "@jupyter-widgets/controls",
            "_view_module_version": "1.5.0",
            "_view_name": "HTMLView",
            "description": "",
            "description_tooltip": null,
            "layout": "IPY_MODEL_3609fe8d19004930a05d2a00073c7e59",
            "placeholder": "​",
            "style": "IPY_MODEL_13f8c60790934139b87d488032e3d4ea",
            "value": " 5/5 [00:41&lt;00:00,  8.29s/it]"
          }
        },
        "b58387a4e7a443aa89a7d17377fed2c5": {
          "model_module": "@jupyter-widgets/base",
          "model_name": "LayoutModel",
          "model_module_version": "1.2.0",
          "state": {
            "_model_module": "@jupyter-widgets/base",
            "_model_module_version": "1.2.0",
            "_model_name": "LayoutModel",
            "_view_count": null,
            "_view_module": "@jupyter-widgets/base",
            "_view_module_version": "1.2.0",
            "_view_name": "LayoutView",
            "align_content": null,
            "align_items": null,
            "align_self": null,
            "border": null,
            "bottom": null,
            "display": null,
            "flex": null,
            "flex_flow": null,
            "grid_area": null,
            "grid_auto_columns": null,
            "grid_auto_flow": null,
            "grid_auto_rows": null,
            "grid_column": null,
            "grid_gap": null,
            "grid_row": null,
            "grid_template_areas": null,
            "grid_template_columns": null,
            "grid_template_rows": null,
            "height": null,
            "justify_content": null,
            "justify_items": null,
            "left": null,
            "margin": null,
            "max_height": null,
            "max_width": null,
            "min_height": null,
            "min_width": null,
            "object_fit": null,
            "object_position": null,
            "order": null,
            "overflow": null,
            "overflow_x": null,
            "overflow_y": null,
            "padding": null,
            "right": null,
            "top": null,
            "visibility": null,
            "width": null
          }
        },
        "3927fe7c35b545eb97050f5770660b1b": {
          "model_module": "@jupyter-widgets/base",
          "model_name": "LayoutModel",
          "model_module_version": "1.2.0",
          "state": {
            "_model_module": "@jupyter-widgets/base",
            "_model_module_version": "1.2.0",
            "_model_name": "LayoutModel",
            "_view_count": null,
            "_view_module": "@jupyter-widgets/base",
            "_view_module_version": "1.2.0",
            "_view_name": "LayoutView",
            "align_content": null,
            "align_items": null,
            "align_self": null,
            "border": null,
            "bottom": null,
            "display": null,
            "flex": null,
            "flex_flow": null,
            "grid_area": null,
            "grid_auto_columns": null,
            "grid_auto_flow": null,
            "grid_auto_rows": null,
            "grid_column": null,
            "grid_gap": null,
            "grid_row": null,
            "grid_template_areas": null,
            "grid_template_columns": null,
            "grid_template_rows": null,
            "height": null,
            "justify_content": null,
            "justify_items": null,
            "left": null,
            "margin": null,
            "max_height": null,
            "max_width": null,
            "min_height": null,
            "min_width": null,
            "object_fit": null,
            "object_position": null,
            "order": null,
            "overflow": null,
            "overflow_x": null,
            "overflow_y": null,
            "padding": null,
            "right": null,
            "top": null,
            "visibility": null,
            "width": null
          }
        },
        "d3451d5c272a4a879fd21fcc9e466617": {
          "model_module": "@jupyter-widgets/controls",
          "model_name": "DescriptionStyleModel",
          "model_module_version": "1.5.0",
          "state": {
            "_model_module": "@jupyter-widgets/controls",
            "_model_module_version": "1.5.0",
            "_model_name": "DescriptionStyleModel",
            "_view_count": null,
            "_view_module": "@jupyter-widgets/base",
            "_view_module_version": "1.2.0",
            "_view_name": "StyleView",
            "description_width": ""
          }
        },
        "4eef27b7033b40c0bd75e6814579b460": {
          "model_module": "@jupyter-widgets/base",
          "model_name": "LayoutModel",
          "model_module_version": "1.2.0",
          "state": {
            "_model_module": "@jupyter-widgets/base",
            "_model_module_version": "1.2.0",
            "_model_name": "LayoutModel",
            "_view_count": null,
            "_view_module": "@jupyter-widgets/base",
            "_view_module_version": "1.2.0",
            "_view_name": "LayoutView",
            "align_content": null,
            "align_items": null,
            "align_self": null,
            "border": null,
            "bottom": null,
            "display": null,
            "flex": null,
            "flex_flow": null,
            "grid_area": null,
            "grid_auto_columns": null,
            "grid_auto_flow": null,
            "grid_auto_rows": null,
            "grid_column": null,
            "grid_gap": null,
            "grid_row": null,
            "grid_template_areas": null,
            "grid_template_columns": null,
            "grid_template_rows": null,
            "height": null,
            "justify_content": null,
            "justify_items": null,
            "left": null,
            "margin": null,
            "max_height": null,
            "max_width": null,
            "min_height": null,
            "min_width": null,
            "object_fit": null,
            "object_position": null,
            "order": null,
            "overflow": null,
            "overflow_x": null,
            "overflow_y": null,
            "padding": null,
            "right": null,
            "top": null,
            "visibility": null,
            "width": null
          }
        },
        "1b847bcae66b4d0daf48d99264595ac9": {
          "model_module": "@jupyter-widgets/controls",
          "model_name": "ProgressStyleModel",
          "model_module_version": "1.5.0",
          "state": {
            "_model_module": "@jupyter-widgets/controls",
            "_model_module_version": "1.5.0",
            "_model_name": "ProgressStyleModel",
            "_view_count": null,
            "_view_module": "@jupyter-widgets/base",
            "_view_module_version": "1.2.0",
            "_view_name": "StyleView",
            "bar_color": null,
            "description_width": ""
          }
        },
        "3609fe8d19004930a05d2a00073c7e59": {
          "model_module": "@jupyter-widgets/base",
          "model_name": "LayoutModel",
          "model_module_version": "1.2.0",
          "state": {
            "_model_module": "@jupyter-widgets/base",
            "_model_module_version": "1.2.0",
            "_model_name": "LayoutModel",
            "_view_count": null,
            "_view_module": "@jupyter-widgets/base",
            "_view_module_version": "1.2.0",
            "_view_name": "LayoutView",
            "align_content": null,
            "align_items": null,
            "align_self": null,
            "border": null,
            "bottom": null,
            "display": null,
            "flex": null,
            "flex_flow": null,
            "grid_area": null,
            "grid_auto_columns": null,
            "grid_auto_flow": null,
            "grid_auto_rows": null,
            "grid_column": null,
            "grid_gap": null,
            "grid_row": null,
            "grid_template_areas": null,
            "grid_template_columns": null,
            "grid_template_rows": null,
            "height": null,
            "justify_content": null,
            "justify_items": null,
            "left": null,
            "margin": null,
            "max_height": null,
            "max_width": null,
            "min_height": null,
            "min_width": null,
            "object_fit": null,
            "object_position": null,
            "order": null,
            "overflow": null,
            "overflow_x": null,
            "overflow_y": null,
            "padding": null,
            "right": null,
            "top": null,
            "visibility": null,
            "width": null
          }
        },
        "13f8c60790934139b87d488032e3d4ea": {
          "model_module": "@jupyter-widgets/controls",
          "model_name": "DescriptionStyleModel",
          "model_module_version": "1.5.0",
          "state": {
            "_model_module": "@jupyter-widgets/controls",
            "_model_module_version": "1.5.0",
            "_model_name": "DescriptionStyleModel",
            "_view_count": null,
            "_view_module": "@jupyter-widgets/base",
            "_view_module_version": "1.2.0",
            "_view_name": "StyleView",
            "description_width": ""
          }
        },
        "8ea5559ffcdc43a982b356df08b35a36": {
          "model_module": "@jupyter-widgets/controls",
          "model_name": "HBoxModel",
          "model_module_version": "1.5.0",
          "state": {
            "_dom_classes": [],
            "_model_module": "@jupyter-widgets/controls",
            "_model_module_version": "1.5.0",
            "_model_name": "HBoxModel",
            "_view_count": null,
            "_view_module": "@jupyter-widgets/controls",
            "_view_module_version": "1.5.0",
            "_view_name": "HBoxView",
            "box_style": "",
            "children": [
              "IPY_MODEL_b7ffc49df0f541dc87800afef7a16766",
              "IPY_MODEL_4c0d959132c9447e942adf46d0eb6611",
              "IPY_MODEL_61b7149224d24fca8128ca7233605a35"
            ],
            "layout": "IPY_MODEL_b42831a1da0e415b9b18b9eea7df62e2"
          }
        },
        "b7ffc49df0f541dc87800afef7a16766": {
          "model_module": "@jupyter-widgets/controls",
          "model_name": "HTMLModel",
          "model_module_version": "1.5.0",
          "state": {
            "_dom_classes": [],
            "_model_module": "@jupyter-widgets/controls",
            "_model_module_version": "1.5.0",
            "_model_name": "HTMLModel",
            "_view_count": null,
            "_view_module": "@jupyter-widgets/controls",
            "_view_module_version": "1.5.0",
            "_view_name": "HTMLView",
            "description": "",
            "description_tooltip": null,
            "layout": "IPY_MODEL_b3b6506ccaea4cf0a18973fc5504bfa6",
            "placeholder": "​",
            "style": "IPY_MODEL_a364fb0f8bf940608d3a9a25ba03a74d",
            "value": "100%"
          }
        },
        "4c0d959132c9447e942adf46d0eb6611": {
          "model_module": "@jupyter-widgets/controls",
          "model_name": "FloatProgressModel",
          "model_module_version": "1.5.0",
          "state": {
            "_dom_classes": [],
            "_model_module": "@jupyter-widgets/controls",
            "_model_module_version": "1.5.0",
            "_model_name": "FloatProgressModel",
            "_view_count": null,
            "_view_module": "@jupyter-widgets/controls",
            "_view_module_version": "1.5.0",
            "_view_name": "ProgressView",
            "bar_style": "",
            "description": "",
            "description_tooltip": null,
            "layout": "IPY_MODEL_612df7aa7ace441bbb5f2557e3ad122a",
            "max": 50,
            "min": 0,
            "orientation": "horizontal",
            "style": "IPY_MODEL_f1fc3f84152a4de2a414b90eb530f05c",
            "value": 50
          }
        },
        "61b7149224d24fca8128ca7233605a35": {
          "model_module": "@jupyter-widgets/controls",
          "model_name": "HTMLModel",
          "model_module_version": "1.5.0",
          "state": {
            "_dom_classes": [],
            "_model_module": "@jupyter-widgets/controls",
            "_model_module_version": "1.5.0",
            "_model_name": "HTMLModel",
            "_view_count": null,
            "_view_module": "@jupyter-widgets/controls",
            "_view_module_version": "1.5.0",
            "_view_name": "HTMLView",
            "description": "",
            "description_tooltip": null,
            "layout": "IPY_MODEL_32325b4469fe40aab1d53f940807c635",
            "placeholder": "​",
            "style": "IPY_MODEL_00fdf8d570d24d30b5aebd03b1ba2e1f",
            "value": " 50/50 [00:06&lt;00:00,  6.16it/s]"
          }
        },
        "b42831a1da0e415b9b18b9eea7df62e2": {
          "model_module": "@jupyter-widgets/base",
          "model_name": "LayoutModel",
          "model_module_version": "1.2.0",
          "state": {
            "_model_module": "@jupyter-widgets/base",
            "_model_module_version": "1.2.0",
            "_model_name": "LayoutModel",
            "_view_count": null,
            "_view_module": "@jupyter-widgets/base",
            "_view_module_version": "1.2.0",
            "_view_name": "LayoutView",
            "align_content": null,
            "align_items": null,
            "align_self": null,
            "border": null,
            "bottom": null,
            "display": null,
            "flex": null,
            "flex_flow": null,
            "grid_area": null,
            "grid_auto_columns": null,
            "grid_auto_flow": null,
            "grid_auto_rows": null,
            "grid_column": null,
            "grid_gap": null,
            "grid_row": null,
            "grid_template_areas": null,
            "grid_template_columns": null,
            "grid_template_rows": null,
            "height": null,
            "justify_content": null,
            "justify_items": null,
            "left": null,
            "margin": null,
            "max_height": null,
            "max_width": null,
            "min_height": null,
            "min_width": null,
            "object_fit": null,
            "object_position": null,
            "order": null,
            "overflow": null,
            "overflow_x": null,
            "overflow_y": null,
            "padding": null,
            "right": null,
            "top": null,
            "visibility": "hidden",
            "width": null
          }
        },
        "b3b6506ccaea4cf0a18973fc5504bfa6": {
          "model_module": "@jupyter-widgets/base",
          "model_name": "LayoutModel",
          "model_module_version": "1.2.0",
          "state": {
            "_model_module": "@jupyter-widgets/base",
            "_model_module_version": "1.2.0",
            "_model_name": "LayoutModel",
            "_view_count": null,
            "_view_module": "@jupyter-widgets/base",
            "_view_module_version": "1.2.0",
            "_view_name": "LayoutView",
            "align_content": null,
            "align_items": null,
            "align_self": null,
            "border": null,
            "bottom": null,
            "display": null,
            "flex": null,
            "flex_flow": null,
            "grid_area": null,
            "grid_auto_columns": null,
            "grid_auto_flow": null,
            "grid_auto_rows": null,
            "grid_column": null,
            "grid_gap": null,
            "grid_row": null,
            "grid_template_areas": null,
            "grid_template_columns": null,
            "grid_template_rows": null,
            "height": null,
            "justify_content": null,
            "justify_items": null,
            "left": null,
            "margin": null,
            "max_height": null,
            "max_width": null,
            "min_height": null,
            "min_width": null,
            "object_fit": null,
            "object_position": null,
            "order": null,
            "overflow": null,
            "overflow_x": null,
            "overflow_y": null,
            "padding": null,
            "right": null,
            "top": null,
            "visibility": null,
            "width": null
          }
        },
        "a364fb0f8bf940608d3a9a25ba03a74d": {
          "model_module": "@jupyter-widgets/controls",
          "model_name": "DescriptionStyleModel",
          "model_module_version": "1.5.0",
          "state": {
            "_model_module": "@jupyter-widgets/controls",
            "_model_module_version": "1.5.0",
            "_model_name": "DescriptionStyleModel",
            "_view_count": null,
            "_view_module": "@jupyter-widgets/base",
            "_view_module_version": "1.2.0",
            "_view_name": "StyleView",
            "description_width": ""
          }
        },
        "612df7aa7ace441bbb5f2557e3ad122a": {
          "model_module": "@jupyter-widgets/base",
          "model_name": "LayoutModel",
          "model_module_version": "1.2.0",
          "state": {
            "_model_module": "@jupyter-widgets/base",
            "_model_module_version": "1.2.0",
            "_model_name": "LayoutModel",
            "_view_count": null,
            "_view_module": "@jupyter-widgets/base",
            "_view_module_version": "1.2.0",
            "_view_name": "LayoutView",
            "align_content": null,
            "align_items": null,
            "align_self": null,
            "border": null,
            "bottom": null,
            "display": null,
            "flex": null,
            "flex_flow": null,
            "grid_area": null,
            "grid_auto_columns": null,
            "grid_auto_flow": null,
            "grid_auto_rows": null,
            "grid_column": null,
            "grid_gap": null,
            "grid_row": null,
            "grid_template_areas": null,
            "grid_template_columns": null,
            "grid_template_rows": null,
            "height": null,
            "justify_content": null,
            "justify_items": null,
            "left": null,
            "margin": null,
            "max_height": null,
            "max_width": null,
            "min_height": null,
            "min_width": null,
            "object_fit": null,
            "object_position": null,
            "order": null,
            "overflow": null,
            "overflow_x": null,
            "overflow_y": null,
            "padding": null,
            "right": null,
            "top": null,
            "visibility": null,
            "width": null
          }
        },
        "f1fc3f84152a4de2a414b90eb530f05c": {
          "model_module": "@jupyter-widgets/controls",
          "model_name": "ProgressStyleModel",
          "model_module_version": "1.5.0",
          "state": {
            "_model_module": "@jupyter-widgets/controls",
            "_model_module_version": "1.5.0",
            "_model_name": "ProgressStyleModel",
            "_view_count": null,
            "_view_module": "@jupyter-widgets/base",
            "_view_module_version": "1.2.0",
            "_view_name": "StyleView",
            "bar_color": null,
            "description_width": ""
          }
        },
        "32325b4469fe40aab1d53f940807c635": {
          "model_module": "@jupyter-widgets/base",
          "model_name": "LayoutModel",
          "model_module_version": "1.2.0",
          "state": {
            "_model_module": "@jupyter-widgets/base",
            "_model_module_version": "1.2.0",
            "_model_name": "LayoutModel",
            "_view_count": null,
            "_view_module": "@jupyter-widgets/base",
            "_view_module_version": "1.2.0",
            "_view_name": "LayoutView",
            "align_content": null,
            "align_items": null,
            "align_self": null,
            "border": null,
            "bottom": null,
            "display": null,
            "flex": null,
            "flex_flow": null,
            "grid_area": null,
            "grid_auto_columns": null,
            "grid_auto_flow": null,
            "grid_auto_rows": null,
            "grid_column": null,
            "grid_gap": null,
            "grid_row": null,
            "grid_template_areas": null,
            "grid_template_columns": null,
            "grid_template_rows": null,
            "height": null,
            "justify_content": null,
            "justify_items": null,
            "left": null,
            "margin": null,
            "max_height": null,
            "max_width": null,
            "min_height": null,
            "min_width": null,
            "object_fit": null,
            "object_position": null,
            "order": null,
            "overflow": null,
            "overflow_x": null,
            "overflow_y": null,
            "padding": null,
            "right": null,
            "top": null,
            "visibility": null,
            "width": null
          }
        },
        "00fdf8d570d24d30b5aebd03b1ba2e1f": {
          "model_module": "@jupyter-widgets/controls",
          "model_name": "DescriptionStyleModel",
          "model_module_version": "1.5.0",
          "state": {
            "_model_module": "@jupyter-widgets/controls",
            "_model_module_version": "1.5.0",
            "_model_name": "DescriptionStyleModel",
            "_view_count": null,
            "_view_module": "@jupyter-widgets/base",
            "_view_module_version": "1.2.0",
            "_view_name": "StyleView",
            "description_width": ""
          }
        },
        "d52fc26881a746e4b555399ca2d30a75": {
          "model_module": "@jupyter-widgets/controls",
          "model_name": "HBoxModel",
          "model_module_version": "1.5.0",
          "state": {
            "_dom_classes": [],
            "_model_module": "@jupyter-widgets/controls",
            "_model_module_version": "1.5.0",
            "_model_name": "HBoxModel",
            "_view_count": null,
            "_view_module": "@jupyter-widgets/controls",
            "_view_module_version": "1.5.0",
            "_view_name": "HBoxView",
            "box_style": "",
            "children": [
              "IPY_MODEL_69d69264e02445cf89aae0a1a408a1a1",
              "IPY_MODEL_7cd84c6b52434136846f4a88de54af1c",
              "IPY_MODEL_fc734c9a86274a5fb5e6609db8d6f5dd"
            ],
            "layout": "IPY_MODEL_72663f68424047c18ea9bc9d44d4ff20"
          }
        },
        "69d69264e02445cf89aae0a1a408a1a1": {
          "model_module": "@jupyter-widgets/controls",
          "model_name": "HTMLModel",
          "model_module_version": "1.5.0",
          "state": {
            "_dom_classes": [],
            "_model_module": "@jupyter-widgets/controls",
            "_model_module_version": "1.5.0",
            "_model_name": "HTMLModel",
            "_view_count": null,
            "_view_module": "@jupyter-widgets/controls",
            "_view_module_version": "1.5.0",
            "_view_name": "HTMLView",
            "description": "",
            "description_tooltip": null,
            "layout": "IPY_MODEL_fed3297c39d541adb0b0d2a76bdc726d",
            "placeholder": "​",
            "style": "IPY_MODEL_29f45aaf241643539618e1f46fa9391f",
            "value": "100%"
          }
        },
        "7cd84c6b52434136846f4a88de54af1c": {
          "model_module": "@jupyter-widgets/controls",
          "model_name": "FloatProgressModel",
          "model_module_version": "1.5.0",
          "state": {
            "_dom_classes": [],
            "_model_module": "@jupyter-widgets/controls",
            "_model_module_version": "1.5.0",
            "_model_name": "FloatProgressModel",
            "_view_count": null,
            "_view_module": "@jupyter-widgets/controls",
            "_view_module_version": "1.5.0",
            "_view_name": "ProgressView",
            "bar_style": "",
            "description": "",
            "description_tooltip": null,
            "layout": "IPY_MODEL_888e851133094f578e559bcfa507b425",
            "max": 50,
            "min": 0,
            "orientation": "horizontal",
            "style": "IPY_MODEL_6ec5102ef435441a8c1e263b236371e4",
            "value": 50
          }
        },
        "fc734c9a86274a5fb5e6609db8d6f5dd": {
          "model_module": "@jupyter-widgets/controls",
          "model_name": "HTMLModel",
          "model_module_version": "1.5.0",
          "state": {
            "_dom_classes": [],
            "_model_module": "@jupyter-widgets/controls",
            "_model_module_version": "1.5.0",
            "_model_name": "HTMLModel",
            "_view_count": null,
            "_view_module": "@jupyter-widgets/controls",
            "_view_module_version": "1.5.0",
            "_view_name": "HTMLView",
            "description": "",
            "description_tooltip": null,
            "layout": "IPY_MODEL_ef20203917114ad98590dcf808d00032",
            "placeholder": "​",
            "style": "IPY_MODEL_c91b5c0a4113442c9f6acc6590d80b62",
            "value": " 50/50 [00:06&lt;00:00,  7.75it/s]"
          }
        },
        "72663f68424047c18ea9bc9d44d4ff20": {
          "model_module": "@jupyter-widgets/base",
          "model_name": "LayoutModel",
          "model_module_version": "1.2.0",
          "state": {
            "_model_module": "@jupyter-widgets/base",
            "_model_module_version": "1.2.0",
            "_model_name": "LayoutModel",
            "_view_count": null,
            "_view_module": "@jupyter-widgets/base",
            "_view_module_version": "1.2.0",
            "_view_name": "LayoutView",
            "align_content": null,
            "align_items": null,
            "align_self": null,
            "border": null,
            "bottom": null,
            "display": null,
            "flex": null,
            "flex_flow": null,
            "grid_area": null,
            "grid_auto_columns": null,
            "grid_auto_flow": null,
            "grid_auto_rows": null,
            "grid_column": null,
            "grid_gap": null,
            "grid_row": null,
            "grid_template_areas": null,
            "grid_template_columns": null,
            "grid_template_rows": null,
            "height": null,
            "justify_content": null,
            "justify_items": null,
            "left": null,
            "margin": null,
            "max_height": null,
            "max_width": null,
            "min_height": null,
            "min_width": null,
            "object_fit": null,
            "object_position": null,
            "order": null,
            "overflow": null,
            "overflow_x": null,
            "overflow_y": null,
            "padding": null,
            "right": null,
            "top": null,
            "visibility": "hidden",
            "width": null
          }
        },
        "fed3297c39d541adb0b0d2a76bdc726d": {
          "model_module": "@jupyter-widgets/base",
          "model_name": "LayoutModel",
          "model_module_version": "1.2.0",
          "state": {
            "_model_module": "@jupyter-widgets/base",
            "_model_module_version": "1.2.0",
            "_model_name": "LayoutModel",
            "_view_count": null,
            "_view_module": "@jupyter-widgets/base",
            "_view_module_version": "1.2.0",
            "_view_name": "LayoutView",
            "align_content": null,
            "align_items": null,
            "align_self": null,
            "border": null,
            "bottom": null,
            "display": null,
            "flex": null,
            "flex_flow": null,
            "grid_area": null,
            "grid_auto_columns": null,
            "grid_auto_flow": null,
            "grid_auto_rows": null,
            "grid_column": null,
            "grid_gap": null,
            "grid_row": null,
            "grid_template_areas": null,
            "grid_template_columns": null,
            "grid_template_rows": null,
            "height": null,
            "justify_content": null,
            "justify_items": null,
            "left": null,
            "margin": null,
            "max_height": null,
            "max_width": null,
            "min_height": null,
            "min_width": null,
            "object_fit": null,
            "object_position": null,
            "order": null,
            "overflow": null,
            "overflow_x": null,
            "overflow_y": null,
            "padding": null,
            "right": null,
            "top": null,
            "visibility": null,
            "width": null
          }
        },
        "29f45aaf241643539618e1f46fa9391f": {
          "model_module": "@jupyter-widgets/controls",
          "model_name": "DescriptionStyleModel",
          "model_module_version": "1.5.0",
          "state": {
            "_model_module": "@jupyter-widgets/controls",
            "_model_module_version": "1.5.0",
            "_model_name": "DescriptionStyleModel",
            "_view_count": null,
            "_view_module": "@jupyter-widgets/base",
            "_view_module_version": "1.2.0",
            "_view_name": "StyleView",
            "description_width": ""
          }
        },
        "888e851133094f578e559bcfa507b425": {
          "model_module": "@jupyter-widgets/base",
          "model_name": "LayoutModel",
          "model_module_version": "1.2.0",
          "state": {
            "_model_module": "@jupyter-widgets/base",
            "_model_module_version": "1.2.0",
            "_model_name": "LayoutModel",
            "_view_count": null,
            "_view_module": "@jupyter-widgets/base",
            "_view_module_version": "1.2.0",
            "_view_name": "LayoutView",
            "align_content": null,
            "align_items": null,
            "align_self": null,
            "border": null,
            "bottom": null,
            "display": null,
            "flex": null,
            "flex_flow": null,
            "grid_area": null,
            "grid_auto_columns": null,
            "grid_auto_flow": null,
            "grid_auto_rows": null,
            "grid_column": null,
            "grid_gap": null,
            "grid_row": null,
            "grid_template_areas": null,
            "grid_template_columns": null,
            "grid_template_rows": null,
            "height": null,
            "justify_content": null,
            "justify_items": null,
            "left": null,
            "margin": null,
            "max_height": null,
            "max_width": null,
            "min_height": null,
            "min_width": null,
            "object_fit": null,
            "object_position": null,
            "order": null,
            "overflow": null,
            "overflow_x": null,
            "overflow_y": null,
            "padding": null,
            "right": null,
            "top": null,
            "visibility": null,
            "width": null
          }
        },
        "6ec5102ef435441a8c1e263b236371e4": {
          "model_module": "@jupyter-widgets/controls",
          "model_name": "ProgressStyleModel",
          "model_module_version": "1.5.0",
          "state": {
            "_model_module": "@jupyter-widgets/controls",
            "_model_module_version": "1.5.0",
            "_model_name": "ProgressStyleModel",
            "_view_count": null,
            "_view_module": "@jupyter-widgets/base",
            "_view_module_version": "1.2.0",
            "_view_name": "StyleView",
            "bar_color": null,
            "description_width": ""
          }
        },
        "ef20203917114ad98590dcf808d00032": {
          "model_module": "@jupyter-widgets/base",
          "model_name": "LayoutModel",
          "model_module_version": "1.2.0",
          "state": {
            "_model_module": "@jupyter-widgets/base",
            "_model_module_version": "1.2.0",
            "_model_name": "LayoutModel",
            "_view_count": null,
            "_view_module": "@jupyter-widgets/base",
            "_view_module_version": "1.2.0",
            "_view_name": "LayoutView",
            "align_content": null,
            "align_items": null,
            "align_self": null,
            "border": null,
            "bottom": null,
            "display": null,
            "flex": null,
            "flex_flow": null,
            "grid_area": null,
            "grid_auto_columns": null,
            "grid_auto_flow": null,
            "grid_auto_rows": null,
            "grid_column": null,
            "grid_gap": null,
            "grid_row": null,
            "grid_template_areas": null,
            "grid_template_columns": null,
            "grid_template_rows": null,
            "height": null,
            "justify_content": null,
            "justify_items": null,
            "left": null,
            "margin": null,
            "max_height": null,
            "max_width": null,
            "min_height": null,
            "min_width": null,
            "object_fit": null,
            "object_position": null,
            "order": null,
            "overflow": null,
            "overflow_x": null,
            "overflow_y": null,
            "padding": null,
            "right": null,
            "top": null,
            "visibility": null,
            "width": null
          }
        },
        "c91b5c0a4113442c9f6acc6590d80b62": {
          "model_module": "@jupyter-widgets/controls",
          "model_name": "DescriptionStyleModel",
          "model_module_version": "1.5.0",
          "state": {
            "_model_module": "@jupyter-widgets/controls",
            "_model_module_version": "1.5.0",
            "_model_name": "DescriptionStyleModel",
            "_view_count": null,
            "_view_module": "@jupyter-widgets/base",
            "_view_module_version": "1.2.0",
            "_view_name": "StyleView",
            "description_width": ""
          }
        },
        "43c99573c0c6420787abdf7941c10277": {
          "model_module": "@jupyter-widgets/controls",
          "model_name": "HBoxModel",
          "model_module_version": "1.5.0",
          "state": {
            "_dom_classes": [],
            "_model_module": "@jupyter-widgets/controls",
            "_model_module_version": "1.5.0",
            "_model_name": "HBoxModel",
            "_view_count": null,
            "_view_module": "@jupyter-widgets/controls",
            "_view_module_version": "1.5.0",
            "_view_name": "HBoxView",
            "box_style": "",
            "children": [
              "IPY_MODEL_5e506f591a2d42568be8aa85b918ca61",
              "IPY_MODEL_b338b55f47b0454f970cfc70c06d2973",
              "IPY_MODEL_f56db0ff98e340909fa4cc0baaef5d5d"
            ],
            "layout": "IPY_MODEL_452ef2a3218943a89ee308f3ba9a4ff3"
          }
        },
        "5e506f591a2d42568be8aa85b918ca61": {
          "model_module": "@jupyter-widgets/controls",
          "model_name": "HTMLModel",
          "model_module_version": "1.5.0",
          "state": {
            "_dom_classes": [],
            "_model_module": "@jupyter-widgets/controls",
            "_model_module_version": "1.5.0",
            "_model_name": "HTMLModel",
            "_view_count": null,
            "_view_module": "@jupyter-widgets/controls",
            "_view_module_version": "1.5.0",
            "_view_name": "HTMLView",
            "description": "",
            "description_tooltip": null,
            "layout": "IPY_MODEL_3e403ab2934d4488b8a7759c396aa70d",
            "placeholder": "​",
            "style": "IPY_MODEL_ca75eac0653c4a42af4c1df8884c6513",
            "value": "100%"
          }
        },
        "b338b55f47b0454f970cfc70c06d2973": {
          "model_module": "@jupyter-widgets/controls",
          "model_name": "FloatProgressModel",
          "model_module_version": "1.5.0",
          "state": {
            "_dom_classes": [],
            "_model_module": "@jupyter-widgets/controls",
            "_model_module_version": "1.5.0",
            "_model_name": "FloatProgressModel",
            "_view_count": null,
            "_view_module": "@jupyter-widgets/controls",
            "_view_module_version": "1.5.0",
            "_view_name": "ProgressView",
            "bar_style": "",
            "description": "",
            "description_tooltip": null,
            "layout": "IPY_MODEL_2863aa2d5a0f407c899b7e94b86d2633",
            "max": 50,
            "min": 0,
            "orientation": "horizontal",
            "style": "IPY_MODEL_d62c9b6fa7cf4638bac9e90d32f4b2b5",
            "value": 50
          }
        },
        "f56db0ff98e340909fa4cc0baaef5d5d": {
          "model_module": "@jupyter-widgets/controls",
          "model_name": "HTMLModel",
          "model_module_version": "1.5.0",
          "state": {
            "_dom_classes": [],
            "_model_module": "@jupyter-widgets/controls",
            "_model_module_version": "1.5.0",
            "_model_name": "HTMLModel",
            "_view_count": null,
            "_view_module": "@jupyter-widgets/controls",
            "_view_module_version": "1.5.0",
            "_view_name": "HTMLView",
            "description": "",
            "description_tooltip": null,
            "layout": "IPY_MODEL_96bb5f295d814597a400d095063dbfae",
            "placeholder": "​",
            "style": "IPY_MODEL_5fd3fa45030f48fca4b05fbb1b511a93",
            "value": " 50/50 [00:09&lt;00:00,  7.50it/s]"
          }
        },
        "452ef2a3218943a89ee308f3ba9a4ff3": {
          "model_module": "@jupyter-widgets/base",
          "model_name": "LayoutModel",
          "model_module_version": "1.2.0",
          "state": {
            "_model_module": "@jupyter-widgets/base",
            "_model_module_version": "1.2.0",
            "_model_name": "LayoutModel",
            "_view_count": null,
            "_view_module": "@jupyter-widgets/base",
            "_view_module_version": "1.2.0",
            "_view_name": "LayoutView",
            "align_content": null,
            "align_items": null,
            "align_self": null,
            "border": null,
            "bottom": null,
            "display": null,
            "flex": null,
            "flex_flow": null,
            "grid_area": null,
            "grid_auto_columns": null,
            "grid_auto_flow": null,
            "grid_auto_rows": null,
            "grid_column": null,
            "grid_gap": null,
            "grid_row": null,
            "grid_template_areas": null,
            "grid_template_columns": null,
            "grid_template_rows": null,
            "height": null,
            "justify_content": null,
            "justify_items": null,
            "left": null,
            "margin": null,
            "max_height": null,
            "max_width": null,
            "min_height": null,
            "min_width": null,
            "object_fit": null,
            "object_position": null,
            "order": null,
            "overflow": null,
            "overflow_x": null,
            "overflow_y": null,
            "padding": null,
            "right": null,
            "top": null,
            "visibility": "hidden",
            "width": null
          }
        },
        "3e403ab2934d4488b8a7759c396aa70d": {
          "model_module": "@jupyter-widgets/base",
          "model_name": "LayoutModel",
          "model_module_version": "1.2.0",
          "state": {
            "_model_module": "@jupyter-widgets/base",
            "_model_module_version": "1.2.0",
            "_model_name": "LayoutModel",
            "_view_count": null,
            "_view_module": "@jupyter-widgets/base",
            "_view_module_version": "1.2.0",
            "_view_name": "LayoutView",
            "align_content": null,
            "align_items": null,
            "align_self": null,
            "border": null,
            "bottom": null,
            "display": null,
            "flex": null,
            "flex_flow": null,
            "grid_area": null,
            "grid_auto_columns": null,
            "grid_auto_flow": null,
            "grid_auto_rows": null,
            "grid_column": null,
            "grid_gap": null,
            "grid_row": null,
            "grid_template_areas": null,
            "grid_template_columns": null,
            "grid_template_rows": null,
            "height": null,
            "justify_content": null,
            "justify_items": null,
            "left": null,
            "margin": null,
            "max_height": null,
            "max_width": null,
            "min_height": null,
            "min_width": null,
            "object_fit": null,
            "object_position": null,
            "order": null,
            "overflow": null,
            "overflow_x": null,
            "overflow_y": null,
            "padding": null,
            "right": null,
            "top": null,
            "visibility": null,
            "width": null
          }
        },
        "ca75eac0653c4a42af4c1df8884c6513": {
          "model_module": "@jupyter-widgets/controls",
          "model_name": "DescriptionStyleModel",
          "model_module_version": "1.5.0",
          "state": {
            "_model_module": "@jupyter-widgets/controls",
            "_model_module_version": "1.5.0",
            "_model_name": "DescriptionStyleModel",
            "_view_count": null,
            "_view_module": "@jupyter-widgets/base",
            "_view_module_version": "1.2.0",
            "_view_name": "StyleView",
            "description_width": ""
          }
        },
        "2863aa2d5a0f407c899b7e94b86d2633": {
          "model_module": "@jupyter-widgets/base",
          "model_name": "LayoutModel",
          "model_module_version": "1.2.0",
          "state": {
            "_model_module": "@jupyter-widgets/base",
            "_model_module_version": "1.2.0",
            "_model_name": "LayoutModel",
            "_view_count": null,
            "_view_module": "@jupyter-widgets/base",
            "_view_module_version": "1.2.0",
            "_view_name": "LayoutView",
            "align_content": null,
            "align_items": null,
            "align_self": null,
            "border": null,
            "bottom": null,
            "display": null,
            "flex": null,
            "flex_flow": null,
            "grid_area": null,
            "grid_auto_columns": null,
            "grid_auto_flow": null,
            "grid_auto_rows": null,
            "grid_column": null,
            "grid_gap": null,
            "grid_row": null,
            "grid_template_areas": null,
            "grid_template_columns": null,
            "grid_template_rows": null,
            "height": null,
            "justify_content": null,
            "justify_items": null,
            "left": null,
            "margin": null,
            "max_height": null,
            "max_width": null,
            "min_height": null,
            "min_width": null,
            "object_fit": null,
            "object_position": null,
            "order": null,
            "overflow": null,
            "overflow_x": null,
            "overflow_y": null,
            "padding": null,
            "right": null,
            "top": null,
            "visibility": null,
            "width": null
          }
        },
        "d62c9b6fa7cf4638bac9e90d32f4b2b5": {
          "model_module": "@jupyter-widgets/controls",
          "model_name": "ProgressStyleModel",
          "model_module_version": "1.5.0",
          "state": {
            "_model_module": "@jupyter-widgets/controls",
            "_model_module_version": "1.5.0",
            "_model_name": "ProgressStyleModel",
            "_view_count": null,
            "_view_module": "@jupyter-widgets/base",
            "_view_module_version": "1.2.0",
            "_view_name": "StyleView",
            "bar_color": null,
            "description_width": ""
          }
        },
        "96bb5f295d814597a400d095063dbfae": {
          "model_module": "@jupyter-widgets/base",
          "model_name": "LayoutModel",
          "model_module_version": "1.2.0",
          "state": {
            "_model_module": "@jupyter-widgets/base",
            "_model_module_version": "1.2.0",
            "_model_name": "LayoutModel",
            "_view_count": null,
            "_view_module": "@jupyter-widgets/base",
            "_view_module_version": "1.2.0",
            "_view_name": "LayoutView",
            "align_content": null,
            "align_items": null,
            "align_self": null,
            "border": null,
            "bottom": null,
            "display": null,
            "flex": null,
            "flex_flow": null,
            "grid_area": null,
            "grid_auto_columns": null,
            "grid_auto_flow": null,
            "grid_auto_rows": null,
            "grid_column": null,
            "grid_gap": null,
            "grid_row": null,
            "grid_template_areas": null,
            "grid_template_columns": null,
            "grid_template_rows": null,
            "height": null,
            "justify_content": null,
            "justify_items": null,
            "left": null,
            "margin": null,
            "max_height": null,
            "max_width": null,
            "min_height": null,
            "min_width": null,
            "object_fit": null,
            "object_position": null,
            "order": null,
            "overflow": null,
            "overflow_x": null,
            "overflow_y": null,
            "padding": null,
            "right": null,
            "top": null,
            "visibility": null,
            "width": null
          }
        },
        "5fd3fa45030f48fca4b05fbb1b511a93": {
          "model_module": "@jupyter-widgets/controls",
          "model_name": "DescriptionStyleModel",
          "model_module_version": "1.5.0",
          "state": {
            "_model_module": "@jupyter-widgets/controls",
            "_model_module_version": "1.5.0",
            "_model_name": "DescriptionStyleModel",
            "_view_count": null,
            "_view_module": "@jupyter-widgets/base",
            "_view_module_version": "1.2.0",
            "_view_name": "StyleView",
            "description_width": ""
          }
        },
        "c12483349d6c4a7e9fc18b238836e79b": {
          "model_module": "@jupyter-widgets/controls",
          "model_name": "HBoxModel",
          "model_module_version": "1.5.0",
          "state": {
            "_dom_classes": [],
            "_model_module": "@jupyter-widgets/controls",
            "_model_module_version": "1.5.0",
            "_model_name": "HBoxModel",
            "_view_count": null,
            "_view_module": "@jupyter-widgets/controls",
            "_view_module_version": "1.5.0",
            "_view_name": "HBoxView",
            "box_style": "",
            "children": [
              "IPY_MODEL_3c5eeb94a2a04dfa887581c7da3a6457",
              "IPY_MODEL_4293abfc65d04b0db7044e4a093e02a6",
              "IPY_MODEL_9f3daaabddb94c569c4d512ddc74e5e0"
            ],
            "layout": "IPY_MODEL_15fc1c64379f422fa5f8fca4fabbefd4"
          }
        },
        "3c5eeb94a2a04dfa887581c7da3a6457": {
          "model_module": "@jupyter-widgets/controls",
          "model_name": "HTMLModel",
          "model_module_version": "1.5.0",
          "state": {
            "_dom_classes": [],
            "_model_module": "@jupyter-widgets/controls",
            "_model_module_version": "1.5.0",
            "_model_name": "HTMLModel",
            "_view_count": null,
            "_view_module": "@jupyter-widgets/controls",
            "_view_module_version": "1.5.0",
            "_view_name": "HTMLView",
            "description": "",
            "description_tooltip": null,
            "layout": "IPY_MODEL_aa2be12d58d4493cbf78eb61689eeb27",
            "placeholder": "​",
            "style": "IPY_MODEL_b440e63ec6084506a5abea7e9c951b1c",
            "value": "100%"
          }
        },
        "4293abfc65d04b0db7044e4a093e02a6": {
          "model_module": "@jupyter-widgets/controls",
          "model_name": "FloatProgressModel",
          "model_module_version": "1.5.0",
          "state": {
            "_dom_classes": [],
            "_model_module": "@jupyter-widgets/controls",
            "_model_module_version": "1.5.0",
            "_model_name": "FloatProgressModel",
            "_view_count": null,
            "_view_module": "@jupyter-widgets/controls",
            "_view_module_version": "1.5.0",
            "_view_name": "ProgressView",
            "bar_style": "",
            "description": "",
            "description_tooltip": null,
            "layout": "IPY_MODEL_db3c27eabc41437480ea23d0e518a894",
            "max": 50,
            "min": 0,
            "orientation": "horizontal",
            "style": "IPY_MODEL_c69a61c99b834b8f9b9767265e44564f",
            "value": 50
          }
        },
        "9f3daaabddb94c569c4d512ddc74e5e0": {
          "model_module": "@jupyter-widgets/controls",
          "model_name": "HTMLModel",
          "model_module_version": "1.5.0",
          "state": {
            "_dom_classes": [],
            "_model_module": "@jupyter-widgets/controls",
            "_model_module_version": "1.5.0",
            "_model_name": "HTMLModel",
            "_view_count": null,
            "_view_module": "@jupyter-widgets/controls",
            "_view_module_version": "1.5.0",
            "_view_name": "HTMLView",
            "description": "",
            "description_tooltip": null,
            "layout": "IPY_MODEL_f90d5798e46f417a93b16b166a2213df",
            "placeholder": "​",
            "style": "IPY_MODEL_2dddee814be5462aa6788a86cb719d94",
            "value": " 50/50 [00:07&lt;00:00,  5.64it/s]"
          }
        },
        "15fc1c64379f422fa5f8fca4fabbefd4": {
          "model_module": "@jupyter-widgets/base",
          "model_name": "LayoutModel",
          "model_module_version": "1.2.0",
          "state": {
            "_model_module": "@jupyter-widgets/base",
            "_model_module_version": "1.2.0",
            "_model_name": "LayoutModel",
            "_view_count": null,
            "_view_module": "@jupyter-widgets/base",
            "_view_module_version": "1.2.0",
            "_view_name": "LayoutView",
            "align_content": null,
            "align_items": null,
            "align_self": null,
            "border": null,
            "bottom": null,
            "display": null,
            "flex": null,
            "flex_flow": null,
            "grid_area": null,
            "grid_auto_columns": null,
            "grid_auto_flow": null,
            "grid_auto_rows": null,
            "grid_column": null,
            "grid_gap": null,
            "grid_row": null,
            "grid_template_areas": null,
            "grid_template_columns": null,
            "grid_template_rows": null,
            "height": null,
            "justify_content": null,
            "justify_items": null,
            "left": null,
            "margin": null,
            "max_height": null,
            "max_width": null,
            "min_height": null,
            "min_width": null,
            "object_fit": null,
            "object_position": null,
            "order": null,
            "overflow": null,
            "overflow_x": null,
            "overflow_y": null,
            "padding": null,
            "right": null,
            "top": null,
            "visibility": "hidden",
            "width": null
          }
        },
        "aa2be12d58d4493cbf78eb61689eeb27": {
          "model_module": "@jupyter-widgets/base",
          "model_name": "LayoutModel",
          "model_module_version": "1.2.0",
          "state": {
            "_model_module": "@jupyter-widgets/base",
            "_model_module_version": "1.2.0",
            "_model_name": "LayoutModel",
            "_view_count": null,
            "_view_module": "@jupyter-widgets/base",
            "_view_module_version": "1.2.0",
            "_view_name": "LayoutView",
            "align_content": null,
            "align_items": null,
            "align_self": null,
            "border": null,
            "bottom": null,
            "display": null,
            "flex": null,
            "flex_flow": null,
            "grid_area": null,
            "grid_auto_columns": null,
            "grid_auto_flow": null,
            "grid_auto_rows": null,
            "grid_column": null,
            "grid_gap": null,
            "grid_row": null,
            "grid_template_areas": null,
            "grid_template_columns": null,
            "grid_template_rows": null,
            "height": null,
            "justify_content": null,
            "justify_items": null,
            "left": null,
            "margin": null,
            "max_height": null,
            "max_width": null,
            "min_height": null,
            "min_width": null,
            "object_fit": null,
            "object_position": null,
            "order": null,
            "overflow": null,
            "overflow_x": null,
            "overflow_y": null,
            "padding": null,
            "right": null,
            "top": null,
            "visibility": null,
            "width": null
          }
        },
        "b440e63ec6084506a5abea7e9c951b1c": {
          "model_module": "@jupyter-widgets/controls",
          "model_name": "DescriptionStyleModel",
          "model_module_version": "1.5.0",
          "state": {
            "_model_module": "@jupyter-widgets/controls",
            "_model_module_version": "1.5.0",
            "_model_name": "DescriptionStyleModel",
            "_view_count": null,
            "_view_module": "@jupyter-widgets/base",
            "_view_module_version": "1.2.0",
            "_view_name": "StyleView",
            "description_width": ""
          }
        },
        "db3c27eabc41437480ea23d0e518a894": {
          "model_module": "@jupyter-widgets/base",
          "model_name": "LayoutModel",
          "model_module_version": "1.2.0",
          "state": {
            "_model_module": "@jupyter-widgets/base",
            "_model_module_version": "1.2.0",
            "_model_name": "LayoutModel",
            "_view_count": null,
            "_view_module": "@jupyter-widgets/base",
            "_view_module_version": "1.2.0",
            "_view_name": "LayoutView",
            "align_content": null,
            "align_items": null,
            "align_self": null,
            "border": null,
            "bottom": null,
            "display": null,
            "flex": null,
            "flex_flow": null,
            "grid_area": null,
            "grid_auto_columns": null,
            "grid_auto_flow": null,
            "grid_auto_rows": null,
            "grid_column": null,
            "grid_gap": null,
            "grid_row": null,
            "grid_template_areas": null,
            "grid_template_columns": null,
            "grid_template_rows": null,
            "height": null,
            "justify_content": null,
            "justify_items": null,
            "left": null,
            "margin": null,
            "max_height": null,
            "max_width": null,
            "min_height": null,
            "min_width": null,
            "object_fit": null,
            "object_position": null,
            "order": null,
            "overflow": null,
            "overflow_x": null,
            "overflow_y": null,
            "padding": null,
            "right": null,
            "top": null,
            "visibility": null,
            "width": null
          }
        },
        "c69a61c99b834b8f9b9767265e44564f": {
          "model_module": "@jupyter-widgets/controls",
          "model_name": "ProgressStyleModel",
          "model_module_version": "1.5.0",
          "state": {
            "_model_module": "@jupyter-widgets/controls",
            "_model_module_version": "1.5.0",
            "_model_name": "ProgressStyleModel",
            "_view_count": null,
            "_view_module": "@jupyter-widgets/base",
            "_view_module_version": "1.2.0",
            "_view_name": "StyleView",
            "bar_color": null,
            "description_width": ""
          }
        },
        "f90d5798e46f417a93b16b166a2213df": {
          "model_module": "@jupyter-widgets/base",
          "model_name": "LayoutModel",
          "model_module_version": "1.2.0",
          "state": {
            "_model_module": "@jupyter-widgets/base",
            "_model_module_version": "1.2.0",
            "_model_name": "LayoutModel",
            "_view_count": null,
            "_view_module": "@jupyter-widgets/base",
            "_view_module_version": "1.2.0",
            "_view_name": "LayoutView",
            "align_content": null,
            "align_items": null,
            "align_self": null,
            "border": null,
            "bottom": null,
            "display": null,
            "flex": null,
            "flex_flow": null,
            "grid_area": null,
            "grid_auto_columns": null,
            "grid_auto_flow": null,
            "grid_auto_rows": null,
            "grid_column": null,
            "grid_gap": null,
            "grid_row": null,
            "grid_template_areas": null,
            "grid_template_columns": null,
            "grid_template_rows": null,
            "height": null,
            "justify_content": null,
            "justify_items": null,
            "left": null,
            "margin": null,
            "max_height": null,
            "max_width": null,
            "min_height": null,
            "min_width": null,
            "object_fit": null,
            "object_position": null,
            "order": null,
            "overflow": null,
            "overflow_x": null,
            "overflow_y": null,
            "padding": null,
            "right": null,
            "top": null,
            "visibility": null,
            "width": null
          }
        },
        "2dddee814be5462aa6788a86cb719d94": {
          "model_module": "@jupyter-widgets/controls",
          "model_name": "DescriptionStyleModel",
          "model_module_version": "1.5.0",
          "state": {
            "_model_module": "@jupyter-widgets/controls",
            "_model_module_version": "1.5.0",
            "_model_name": "DescriptionStyleModel",
            "_view_count": null,
            "_view_module": "@jupyter-widgets/base",
            "_view_module_version": "1.2.0",
            "_view_name": "StyleView",
            "description_width": ""
          }
        },
        "9d487ed3d5ed474a81a29c1dc73ddae2": {
          "model_module": "@jupyter-widgets/controls",
          "model_name": "HBoxModel",
          "model_module_version": "1.5.0",
          "state": {
            "_dom_classes": [],
            "_model_module": "@jupyter-widgets/controls",
            "_model_module_version": "1.5.0",
            "_model_name": "HBoxModel",
            "_view_count": null,
            "_view_module": "@jupyter-widgets/controls",
            "_view_module_version": "1.5.0",
            "_view_name": "HBoxView",
            "box_style": "",
            "children": [
              "IPY_MODEL_46056ba21d6d415b8648f977a8c24ce2",
              "IPY_MODEL_81cdd66e74a84c44b86d0588f685bad6",
              "IPY_MODEL_451e9b3384e84ad8881549d2728f18e9"
            ],
            "layout": "IPY_MODEL_0d7ccc8d778c46369e8f952eb54615b1"
          }
        },
        "46056ba21d6d415b8648f977a8c24ce2": {
          "model_module": "@jupyter-widgets/controls",
          "model_name": "HTMLModel",
          "model_module_version": "1.5.0",
          "state": {
            "_dom_classes": [],
            "_model_module": "@jupyter-widgets/controls",
            "_model_module_version": "1.5.0",
            "_model_name": "HTMLModel",
            "_view_count": null,
            "_view_module": "@jupyter-widgets/controls",
            "_view_module_version": "1.5.0",
            "_view_name": "HTMLView",
            "description": "",
            "description_tooltip": null,
            "layout": "IPY_MODEL_37802c4f97ef4431a8c76a3b6c7db141",
            "placeholder": "​",
            "style": "IPY_MODEL_762b966375cc468294f7b50c3e82650a",
            "value": "100%"
          }
        },
        "81cdd66e74a84c44b86d0588f685bad6": {
          "model_module": "@jupyter-widgets/controls",
          "model_name": "FloatProgressModel",
          "model_module_version": "1.5.0",
          "state": {
            "_dom_classes": [],
            "_model_module": "@jupyter-widgets/controls",
            "_model_module_version": "1.5.0",
            "_model_name": "FloatProgressModel",
            "_view_count": null,
            "_view_module": "@jupyter-widgets/controls",
            "_view_module_version": "1.5.0",
            "_view_name": "ProgressView",
            "bar_style": "",
            "description": "",
            "description_tooltip": null,
            "layout": "IPY_MODEL_66913f00eb34487da9a35ab179f45bd3",
            "max": 50,
            "min": 0,
            "orientation": "horizontal",
            "style": "IPY_MODEL_652e8b9f58cb45668b247329ec1d803b",
            "value": 50
          }
        },
        "451e9b3384e84ad8881549d2728f18e9": {
          "model_module": "@jupyter-widgets/controls",
          "model_name": "HTMLModel",
          "model_module_version": "1.5.0",
          "state": {
            "_dom_classes": [],
            "_model_module": "@jupyter-widgets/controls",
            "_model_module_version": "1.5.0",
            "_model_name": "HTMLModel",
            "_view_count": null,
            "_view_module": "@jupyter-widgets/controls",
            "_view_module_version": "1.5.0",
            "_view_name": "HTMLView",
            "description": "",
            "description_tooltip": null,
            "layout": "IPY_MODEL_e145b736f9a3429691d7871cca511100",
            "placeholder": "​",
            "style": "IPY_MODEL_d9a2a08d137d4143bd4aabcf38cc0723",
            "value": " 50/50 [00:06&lt;00:00,  9.18it/s]"
          }
        },
        "0d7ccc8d778c46369e8f952eb54615b1": {
          "model_module": "@jupyter-widgets/base",
          "model_name": "LayoutModel",
          "model_module_version": "1.2.0",
          "state": {
            "_model_module": "@jupyter-widgets/base",
            "_model_module_version": "1.2.0",
            "_model_name": "LayoutModel",
            "_view_count": null,
            "_view_module": "@jupyter-widgets/base",
            "_view_module_version": "1.2.0",
            "_view_name": "LayoutView",
            "align_content": null,
            "align_items": null,
            "align_self": null,
            "border": null,
            "bottom": null,
            "display": null,
            "flex": null,
            "flex_flow": null,
            "grid_area": null,
            "grid_auto_columns": null,
            "grid_auto_flow": null,
            "grid_auto_rows": null,
            "grid_column": null,
            "grid_gap": null,
            "grid_row": null,
            "grid_template_areas": null,
            "grid_template_columns": null,
            "grid_template_rows": null,
            "height": null,
            "justify_content": null,
            "justify_items": null,
            "left": null,
            "margin": null,
            "max_height": null,
            "max_width": null,
            "min_height": null,
            "min_width": null,
            "object_fit": null,
            "object_position": null,
            "order": null,
            "overflow": null,
            "overflow_x": null,
            "overflow_y": null,
            "padding": null,
            "right": null,
            "top": null,
            "visibility": "hidden",
            "width": null
          }
        },
        "37802c4f97ef4431a8c76a3b6c7db141": {
          "model_module": "@jupyter-widgets/base",
          "model_name": "LayoutModel",
          "model_module_version": "1.2.0",
          "state": {
            "_model_module": "@jupyter-widgets/base",
            "_model_module_version": "1.2.0",
            "_model_name": "LayoutModel",
            "_view_count": null,
            "_view_module": "@jupyter-widgets/base",
            "_view_module_version": "1.2.0",
            "_view_name": "LayoutView",
            "align_content": null,
            "align_items": null,
            "align_self": null,
            "border": null,
            "bottom": null,
            "display": null,
            "flex": null,
            "flex_flow": null,
            "grid_area": null,
            "grid_auto_columns": null,
            "grid_auto_flow": null,
            "grid_auto_rows": null,
            "grid_column": null,
            "grid_gap": null,
            "grid_row": null,
            "grid_template_areas": null,
            "grid_template_columns": null,
            "grid_template_rows": null,
            "height": null,
            "justify_content": null,
            "justify_items": null,
            "left": null,
            "margin": null,
            "max_height": null,
            "max_width": null,
            "min_height": null,
            "min_width": null,
            "object_fit": null,
            "object_position": null,
            "order": null,
            "overflow": null,
            "overflow_x": null,
            "overflow_y": null,
            "padding": null,
            "right": null,
            "top": null,
            "visibility": null,
            "width": null
          }
        },
        "762b966375cc468294f7b50c3e82650a": {
          "model_module": "@jupyter-widgets/controls",
          "model_name": "DescriptionStyleModel",
          "model_module_version": "1.5.0",
          "state": {
            "_model_module": "@jupyter-widgets/controls",
            "_model_module_version": "1.5.0",
            "_model_name": "DescriptionStyleModel",
            "_view_count": null,
            "_view_module": "@jupyter-widgets/base",
            "_view_module_version": "1.2.0",
            "_view_name": "StyleView",
            "description_width": ""
          }
        },
        "66913f00eb34487da9a35ab179f45bd3": {
          "model_module": "@jupyter-widgets/base",
          "model_name": "LayoutModel",
          "model_module_version": "1.2.0",
          "state": {
            "_model_module": "@jupyter-widgets/base",
            "_model_module_version": "1.2.0",
            "_model_name": "LayoutModel",
            "_view_count": null,
            "_view_module": "@jupyter-widgets/base",
            "_view_module_version": "1.2.0",
            "_view_name": "LayoutView",
            "align_content": null,
            "align_items": null,
            "align_self": null,
            "border": null,
            "bottom": null,
            "display": null,
            "flex": null,
            "flex_flow": null,
            "grid_area": null,
            "grid_auto_columns": null,
            "grid_auto_flow": null,
            "grid_auto_rows": null,
            "grid_column": null,
            "grid_gap": null,
            "grid_row": null,
            "grid_template_areas": null,
            "grid_template_columns": null,
            "grid_template_rows": null,
            "height": null,
            "justify_content": null,
            "justify_items": null,
            "left": null,
            "margin": null,
            "max_height": null,
            "max_width": null,
            "min_height": null,
            "min_width": null,
            "object_fit": null,
            "object_position": null,
            "order": null,
            "overflow": null,
            "overflow_x": null,
            "overflow_y": null,
            "padding": null,
            "right": null,
            "top": null,
            "visibility": null,
            "width": null
          }
        },
        "652e8b9f58cb45668b247329ec1d803b": {
          "model_module": "@jupyter-widgets/controls",
          "model_name": "ProgressStyleModel",
          "model_module_version": "1.5.0",
          "state": {
            "_model_module": "@jupyter-widgets/controls",
            "_model_module_version": "1.5.0",
            "_model_name": "ProgressStyleModel",
            "_view_count": null,
            "_view_module": "@jupyter-widgets/base",
            "_view_module_version": "1.2.0",
            "_view_name": "StyleView",
            "bar_color": null,
            "description_width": ""
          }
        },
        "e145b736f9a3429691d7871cca511100": {
          "model_module": "@jupyter-widgets/base",
          "model_name": "LayoutModel",
          "model_module_version": "1.2.0",
          "state": {
            "_model_module": "@jupyter-widgets/base",
            "_model_module_version": "1.2.0",
            "_model_name": "LayoutModel",
            "_view_count": null,
            "_view_module": "@jupyter-widgets/base",
            "_view_module_version": "1.2.0",
            "_view_name": "LayoutView",
            "align_content": null,
            "align_items": null,
            "align_self": null,
            "border": null,
            "bottom": null,
            "display": null,
            "flex": null,
            "flex_flow": null,
            "grid_area": null,
            "grid_auto_columns": null,
            "grid_auto_flow": null,
            "grid_auto_rows": null,
            "grid_column": null,
            "grid_gap": null,
            "grid_row": null,
            "grid_template_areas": null,
            "grid_template_columns": null,
            "grid_template_rows": null,
            "height": null,
            "justify_content": null,
            "justify_items": null,
            "left": null,
            "margin": null,
            "max_height": null,
            "max_width": null,
            "min_height": null,
            "min_width": null,
            "object_fit": null,
            "object_position": null,
            "order": null,
            "overflow": null,
            "overflow_x": null,
            "overflow_y": null,
            "padding": null,
            "right": null,
            "top": null,
            "visibility": null,
            "width": null
          }
        },
        "d9a2a08d137d4143bd4aabcf38cc0723": {
          "model_module": "@jupyter-widgets/controls",
          "model_name": "DescriptionStyleModel",
          "model_module_version": "1.5.0",
          "state": {
            "_model_module": "@jupyter-widgets/controls",
            "_model_module_version": "1.5.0",
            "_model_name": "DescriptionStyleModel",
            "_view_count": null,
            "_view_module": "@jupyter-widgets/base",
            "_view_module_version": "1.2.0",
            "_view_name": "StyleView",
            "description_width": ""
          }
        }
      }
    }
  },
  "nbformat": 4,
  "nbformat_minor": 0
}