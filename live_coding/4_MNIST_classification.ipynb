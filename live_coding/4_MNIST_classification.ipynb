{
  "cells": [
    {
      "cell_type": "markdown",
      "metadata": {
        "id": "view-in-github",
        "colab_type": "text"
      },
      "source": [
        "<a href=\"https://colab.research.google.com/github/jdasam/mas1004/blob/2024/live_coding/4_MNIST_classification.ipynb\" target=\"_parent\"><img src=\"https://colab.research.google.com/assets/colab-badge.svg\" alt=\"Open In Colab\"/></a>"
      ]
    },
    {
      "cell_type": "markdown",
      "metadata": {
        "id": "CrXrdX_8MhOL"
      },
      "source": [
        "# MNIST classification\n",
        "- In this notebook we will use the MNIST dataset to train a neural network to classify handwritten digits."
      ]
    },
    {
      "cell_type": "code",
      "execution_count": 1,
      "metadata": {
        "id": "AiQ_8GNBzbma"
      },
      "outputs": [],
      "source": [
        "import torch\n",
        "import torch.nn as nn\n",
        "import torchvision.datasets as dsets\n",
        "import torchvision.transforms as transforms\n",
        "import matplotlib.pyplot as plt\n",
        "# make plt grayscale as default\n",
        "plt.rcParams['image.cmap'] = 'gray'\n",
        "\n",
        "DEV = 'cuda' # Use GPU # library for NVIDIA GPU\n",
        "assert torch.cuda.is_available(), \"Make sure you run this Colab in GPU\""
      ]
    },
    {
      "cell_type": "markdown",
      "metadata": {
        "id": "ecsiKWy-MhON"
      },
      "source": [
        "## 0. Download Dataset"
      ]
    },
    {
      "cell_type": "code",
      "execution_count": 2,
      "metadata": {
        "colab": {
          "base_uri": "https://localhost:8080/"
        },
        "id": "lZSO_ROkzbma",
        "outputId": "44e0fcea-e375-44ab-ad05-50269057ee96"
      },
      "outputs": [
        {
          "output_type": "stream",
          "name": "stdout",
          "text": [
            "Downloading http://yann.lecun.com/exdb/mnist/train-images-idx3-ubyte.gz\n",
            "Failed to download (trying next):\n",
            "<urlopen error [SSL: CERTIFICATE_VERIFY_FAILED] certificate verify failed: certificate has expired (_ssl.c:1007)>\n",
            "\n",
            "Downloading https://ossci-datasets.s3.amazonaws.com/mnist/train-images-idx3-ubyte.gz\n",
            "Downloading https://ossci-datasets.s3.amazonaws.com/mnist/train-images-idx3-ubyte.gz to ./data/MNIST/raw/train-images-idx3-ubyte.gz\n"
          ]
        },
        {
          "output_type": "stream",
          "name": "stderr",
          "text": [
            "100%|██████████| 9912422/9912422 [00:00<00:00, 12785339.21it/s]\n"
          ]
        },
        {
          "output_type": "stream",
          "name": "stdout",
          "text": [
            "Extracting ./data/MNIST/raw/train-images-idx3-ubyte.gz to ./data/MNIST/raw\n",
            "\n",
            "Downloading http://yann.lecun.com/exdb/mnist/train-labels-idx1-ubyte.gz\n",
            "Failed to download (trying next):\n",
            "<urlopen error [SSL: CERTIFICATE_VERIFY_FAILED] certificate verify failed: certificate has expired (_ssl.c:1007)>\n",
            "\n",
            "Downloading https://ossci-datasets.s3.amazonaws.com/mnist/train-labels-idx1-ubyte.gz\n",
            "Downloading https://ossci-datasets.s3.amazonaws.com/mnist/train-labels-idx1-ubyte.gz to ./data/MNIST/raw/train-labels-idx1-ubyte.gz\n"
          ]
        },
        {
          "output_type": "stream",
          "name": "stderr",
          "text": [
            "100%|██████████| 28881/28881 [00:00<00:00, 349902.93it/s]\n"
          ]
        },
        {
          "output_type": "stream",
          "name": "stdout",
          "text": [
            "Extracting ./data/MNIST/raw/train-labels-idx1-ubyte.gz to ./data/MNIST/raw\n",
            "\n",
            "Downloading http://yann.lecun.com/exdb/mnist/t10k-images-idx3-ubyte.gz\n",
            "Failed to download (trying next):\n",
            "<urlopen error [SSL: CERTIFICATE_VERIFY_FAILED] certificate verify failed: certificate has expired (_ssl.c:1007)>\n",
            "\n",
            "Downloading https://ossci-datasets.s3.amazonaws.com/mnist/t10k-images-idx3-ubyte.gz\n",
            "Downloading https://ossci-datasets.s3.amazonaws.com/mnist/t10k-images-idx3-ubyte.gz to ./data/MNIST/raw/t10k-images-idx3-ubyte.gz\n"
          ]
        },
        {
          "output_type": "stream",
          "name": "stderr",
          "text": [
            "100%|██████████| 1648877/1648877 [00:02<00:00, 660211.15it/s]\n"
          ]
        },
        {
          "output_type": "stream",
          "name": "stdout",
          "text": [
            "Extracting ./data/MNIST/raw/t10k-images-idx3-ubyte.gz to ./data/MNIST/raw\n",
            "\n",
            "Downloading http://yann.lecun.com/exdb/mnist/t10k-labels-idx1-ubyte.gz\n",
            "Failed to download (trying next):\n",
            "<urlopen error [SSL: CERTIFICATE_VERIFY_FAILED] certificate verify failed: certificate has expired (_ssl.c:1007)>\n",
            "\n",
            "Downloading https://ossci-datasets.s3.amazonaws.com/mnist/t10k-labels-idx1-ubyte.gz\n",
            "Downloading https://ossci-datasets.s3.amazonaws.com/mnist/t10k-labels-idx1-ubyte.gz to ./data/MNIST/raw/t10k-labels-idx1-ubyte.gz\n"
          ]
        },
        {
          "output_type": "stream",
          "name": "stderr",
          "text": [
            "100%|██████████| 4542/4542 [00:00<00:00, 6917403.33it/s]"
          ]
        },
        {
          "output_type": "stream",
          "name": "stdout",
          "text": [
            "Extracting ./data/MNIST/raw/t10k-labels-idx1-ubyte.gz to ./data/MNIST/raw\n",
            "\n"
          ]
        },
        {
          "output_type": "stream",
          "name": "stderr",
          "text": [
            "\n"
          ]
        }
      ],
      "source": [
        "train_data = dsets.MNIST(root = './data', train = True,\n",
        "                        transform = transforms.ToTensor(), download = True)\n",
        "\n",
        "test_data = dsets.MNIST(root = './data', train = False,\n",
        "                       transform = transforms.ToTensor(), download=True)"
      ]
    },
    {
      "cell_type": "code",
      "source": [
        "img, label = train_data[0]\n",
        "print(img.shape), print(label)"
      ],
      "metadata": {
        "id": "aHwOMyOFSFDh",
        "outputId": "d094400b-8a28-4067-99e7-c1d2de0d05b6",
        "colab": {
          "base_uri": "https://localhost:8080/"
        }
      },
      "execution_count": 15,
      "outputs": [
        {
          "output_type": "stream",
          "name": "stdout",
          "text": [
            "torch.Size([1, 28, 28])\n",
            "5\n"
          ]
        },
        {
          "output_type": "execute_result",
          "data": {
            "text/plain": [
              "(None, None)"
            ]
          },
          "metadata": {},
          "execution_count": 15
        }
      ]
    },
    {
      "cell_type": "code",
      "execution_count": null,
      "metadata": {
        "colab": {
          "base_uri": "https://localhost:8080/"
        },
        "id": "lgxLk-KAH7LY",
        "outputId": "fbd01288-1ea2-41fd-b6e0-d394c97fc1eb"
      },
      "outputs": [
        {
          "data": {
            "text/plain": [
              "(list, torch.Tensor)"
            ]
          },
          "execution_count": 15,
          "metadata": {},
          "output_type": "execute_result"
        }
      ],
      "source": [
        "# imgs is a list of tensor\n",
        "type(imgs), type(imgs[0])\n",
        "# we want to convert a list of tensor to a single tensor"
      ]
    },
    {
      "cell_type": "code",
      "execution_count": 14,
      "metadata": {
        "colab": {
          "base_uri": "https://localhost:8080/",
          "height": 305
        },
        "id": "GjUEaK-PbOJp",
        "outputId": "ecc8fab7-b85d-47d3-b532-3f1aa150b611"
      },
      "outputs": [
        {
          "output_type": "execute_result",
          "data": {
            "text/plain": [
              "<matplotlib.image.AxesImage at 0x7b5e8c2981f0>"
            ]
          },
          "metadata": {},
          "execution_count": 14
        },
        {
          "output_type": "display_data",
          "data": {
            "text/plain": [
              "<Figure size 640x480 with 2 Axes>"
            ],
            "image/png": "[encoded data removed]"
          },
          "metadata": {}
        }
      ],
      "source": [
        "plt.subplot(1, 2, 1) # use 1 row, 2 column, and use 1st place\n",
        "plt.imshow(img.squeeze())\n",
        "plt.subplot(1,2,2)\n",
        "plt.imshow(train_data[1][0].squeeze())"
      ]
    },
    {
      "cell_type": "code",
      "execution_count": 18,
      "metadata": {
        "id": "2lowHkoQbQ28",
        "outputId": "6f89002c-0188-4626-e26e-d87200357ec7",
        "colab": {
          "base_uri": "https://localhost:8080/"
        }
      },
      "outputs": [
        {
          "output_type": "execute_result",
          "data": {
            "text/plain": [
              "torch.Size([784])"
            ]
          },
          "metadata": {},
          "execution_count": 18
        }
      ],
      "source": [
        "flattened_img = img.reshape(28 * 28)\n",
        "flattened_img = img.reshape(-1)\n",
        "flattened_img.shape"
      ]
    },
    {
      "cell_type": "code",
      "execution_count": null,
      "metadata": {
        "colab": {
          "base_uri": "https://localhost:8080/"
        },
        "id": "KoaP_nyiJAou",
        "outputId": "cfd11eea-31c8-46e8-c078-444ddf009a5c"
      },
      "outputs": [
        {
          "data": {
            "text/plain": [
              "torch.Size([60000, 784])"
            ]
          },
          "execution_count": 89,
          "metadata": {},
          "output_type": "execute_result"
        }
      ],
      "source": [
        "# flatten that img tensor so that each datasample has 784 numbers\n",
        "\n",
        "# data_tensor = out.reshape(1000, 784)\n",
        "data_tensor = out.reshape(-1, 784)\n",
        "data_tensor.shape\n",
        "\n"
      ]
    },
    {
      "cell_type": "markdown",
      "metadata": {
        "id": "Di6k4tNFMhOP"
      },
      "source": [
        "#### Extra: Practice on Reshape"
      ]
    },
    {
      "cell_type": "code",
      "execution_count": null,
      "metadata": {
        "colab": {
          "base_uri": "https://localhost:8080/"
        },
        "id": "bOaZajlauwTu",
        "outputId": "540f8d34-cf77-4a79-d8ce-94cc9ab009d7"
      },
      "outputs": [
        {
          "data": {
            "text/plain": [
              "(tensor([[  0,   1,   2,  ..., 781, 782, 783],\n",
              "         [  0,   1,   2,  ..., 781, 782, 783],\n",
              "         [  0,   1,   2,  ..., 781, 782, 783],\n",
              "         ...,\n",
              "         [  0,   1,   2,  ..., 781, 782, 783],\n",
              "         [  0,   1,   2,  ..., 781, 782, 783],\n",
              "         [  0,   1,   2,  ..., 781, 782, 783]]),\n",
              " torch.Size([1000, 784]))"
            ]
          },
          "execution_count": 21,
          "metadata": {},
          "output_type": "execute_result"
        }
      ],
      "source": [
        "# what is difference between reshape(1000, 784) and reshape(784, 1000)\n",
        "test = torch.arange(784).repeat(1000, 1)\n",
        "test, test.shape"
      ]
    },
    {
      "cell_type": "code",
      "execution_count": null,
      "metadata": {
        "colab": {
          "base_uri": "https://localhost:8080/"
        },
        "id": "DEDWFKCpvTyY",
        "outputId": "7fb19dab-1a81-4009-fddb-0375ebb80850"
      },
      "outputs": [
        {
          "data": {
            "text/plain": [
              "torch.Size([784000])"
            ]
          },
          "execution_count": 22,
          "metadata": {},
          "output_type": "execute_result"
        }
      ],
      "source": [
        "test_flattened = test.reshape(-1) # 784000 dim vector\n",
        "test_flattened.shape"
      ]
    },
    {
      "cell_type": "code",
      "execution_count": null,
      "metadata": {
        "colab": {
          "base_uri": "https://localhost:8080/"
        },
        "id": "EAlsniEfva1d",
        "outputId": "0d8ebbe3-08b1-4d16-ccc8-13e0baccfad0"
      },
      "outputs": [
        {
          "data": {
            "text/plain": [
              "(tensor([[  0,   1,   2,  ..., 781, 782, 783],\n",
              "         [  0,   1,   2,  ..., 781, 782, 783],\n",
              "         [  0,   1,   2,  ..., 781, 782, 783],\n",
              "         ...,\n",
              "         [  0,   1,   2,  ..., 781, 782, 783],\n",
              "         [  0,   1,   2,  ..., 781, 782, 783],\n",
              "         [  0,   1,   2,  ..., 781, 782, 783]]),\n",
              " tensor([[  0,   1,   2,  ..., 213, 214, 215],\n",
              "         [216, 217, 218,  ..., 429, 430, 431],\n",
              "         [432, 433, 434,  ..., 645, 646, 647],\n",
              "         ...,\n",
              "         [136, 137, 138,  ..., 349, 350, 351],\n",
              "         [352, 353, 354,  ..., 565, 566, 567],\n",
              "         [568, 569, 570,  ..., 781, 782, 783]]))"
            ]
          },
          "execution_count": 23,
          "metadata": {},
          "output_type": "execute_result"
        }
      ],
      "source": [
        "reshaped_a = test_flattened.reshape(1000, 784)\n",
        "reshaped_b = test_flattened.reshape(784, 1000)\n",
        "reshaped_a, reshaped_b"
      ]
    },
    {
      "cell_type": "code",
      "execution_count": null,
      "metadata": {
        "colab": {
          "base_uri": "https://localhost:8080/"
        },
        "id": "GRV2V-x2wAPY",
        "outputId": "23e1520b-a70a-4260-eec1-5cf8208ca069"
      },
      "outputs": [
        {
          "name": "stdout",
          "output_type": "stream",
          "text": [
            "tensor([ 0,  1,  2,  3,  4,  5,  6,  7,  8,  9, 10, 11])\n",
            "tensor([[ 0,  1,  2,  3],\n",
            "        [ 4,  5,  6,  7],\n",
            "        [ 8,  9, 10, 11]])\n",
            "tensor([[ 0,  1,  2],\n",
            "        [ 3,  4,  5],\n",
            "        [ 6,  7,  8],\n",
            "        [ 9, 10, 11]])\n"
          ]
        }
      ],
      "source": [
        "dummy = torch.arange(12)\n",
        "print(dummy)\n",
        "print(dummy.reshape(3,4))\n",
        "print(dummy.reshape(4,3))"
      ]
    },
    {
      "cell_type": "code",
      "execution_count": null,
      "metadata": {
        "colab": {
          "base_uri": "https://localhost:8080/",
          "height": 198
        },
        "id": "x8PX0f2EwaJI",
        "outputId": "a8c98ff1-c08b-4d00-bdfe-839646c0c480"
      },
      "outputs": [
        {
          "ename": "NameError",
          "evalue": "ignored",
          "output_type": "error",
          "traceback": [
            "\u001b[0;31m---------------------------------------------------------------------------\u001b[0m",
            "\u001b[0;31mNameError\u001b[0m                                 Traceback (most recent call last)",
            "\u001b[0;32m<ipython-input-25-b6e24e6c2e87>\u001b[0m in \u001b[0;36m<cell line: 1>\u001b[0;34m()\u001b[0m\n\u001b[0;32m----> 1\u001b[0;31m \u001b[0mlabel_tensor\u001b[0m \u001b[0;34m=\u001b[0m \u001b[0mtorch\u001b[0m\u001b[0;34m.\u001b[0m\u001b[0mtensor\u001b[0m\u001b[0;34m(\u001b[0m\u001b[0mlabel_list\u001b[0m\u001b[0;34m)\u001b[0m\u001b[0;34m\u001b[0m\u001b[0;34m\u001b[0m\u001b[0m\n\u001b[0m\u001b[1;32m      2\u001b[0m \u001b[0mflattened_data\u001b[0m\u001b[0;34m.\u001b[0m\u001b[0mshape\u001b[0m\u001b[0;34m,\u001b[0m \u001b[0mlabel_tensor\u001b[0m\u001b[0;34m.\u001b[0m\u001b[0mshape\u001b[0m\u001b[0;34m\u001b[0m\u001b[0;34m\u001b[0m\u001b[0m\n",
            "\u001b[0;31mNameError\u001b[0m: name 'label_list' is not defined"
          ]
        }
      ],
      "source": [
        "# label_tensor = torch.tensor(label_list)\n",
        "# flattened_data.shape, label_tensor.shape"
      ]
    },
    {
      "cell_type": "code",
      "execution_count": null,
      "metadata": {
        "id": "vs0NMOn5xOLb"
      },
      "outputs": [],
      "source": [
        "# first_data = flattened_data[1]\n",
        "# plt.imshow(first_data.reshape(28, 28))"
      ]
    },
    {
      "cell_type": "code",
      "execution_count": null,
      "metadata": {
        "id": "YwZs4kLpxqpK"
      },
      "outputs": [],
      "source": [
        "# first_data.shape, first_data"
      ]
    },
    {
      "cell_type": "code",
      "execution_count": null,
      "metadata": {
        "id": "oO-aDs8Pxqj6"
      },
      "outputs": [],
      "source": []
    },
    {
      "cell_type": "markdown",
      "metadata": {
        "id": "4WX3hNlRdPK6"
      },
      "source": [
        "# 0.0 Using DataLoader"
      ]
    },
    {
      "cell_type": "code",
      "execution_count": 19,
      "metadata": {
        "colab": {
          "base_uri": "https://localhost:8080/"
        },
        "id": "Ii_Vr3IIdo4O",
        "outputId": "7da35b33-96ff-4166-cf13-ae7819c0bc33"
      },
      "outputs": [
        {
          "output_type": "execute_result",
          "data": {
            "text/plain": [
              "Dataset MNIST\n",
              "    Number of datapoints: 60000\n",
              "    Root location: ./data\n",
              "    Split: Train\n",
              "    StandardTransform\n",
              "Transform: ToTensor()"
            ]
          },
          "metadata": {},
          "execution_count": 19
        }
      ],
      "source": [
        "train_data"
      ]
    },
    {
      "cell_type": "code",
      "execution_count": 20,
      "metadata": {
        "colab": {
          "base_uri": "https://localhost:8080/"
        },
        "id": "_IcYNkVAdOg9",
        "outputId": "0cc06102-ee6d-4062-a32d-ba7acff5a767"
      },
      "outputs": [
        {
          "output_type": "execute_result",
          "data": {
            "text/plain": [
              "60000"
            ]
          },
          "metadata": {},
          "execution_count": 20
        }
      ],
      "source": [
        "class Dataset:\n",
        "  def __init__(self, data):\n",
        "    self.data = data\n",
        "\n",
        "  # To implement the dataset, you have to declare two methods\n",
        "  # __getitem__ and __len__\n",
        "\n",
        "  def __getitem__(self, idx):\n",
        "    # this method is called when you do train_set[idx]\n",
        "    # here, we want to return our idx-th datasample, in proper format\n",
        "    img, label = self.data[idx]\n",
        "    # return img, label\n",
        "    return img.reshape(-1), label\n",
        "\n",
        "  def __len__(self):\n",
        "    # how many datasample we have in our dataset?\n",
        "    # what is the maximum valid idx for __getitem__\n",
        "    return len(self.data)\n",
        "\n",
        "train_set = Dataset(train_data)\n",
        "# train_set[15]\n",
        "len(train_set)"
      ]
    },
    {
      "cell_type": "code",
      "execution_count": 21,
      "metadata": {
        "colab": {
          "base_uri": "https://localhost:8080/"
        },
        "id": "YIjHvMi7f3Uv",
        "outputId": "acbbb2d1-2ec0-445c-d397-359d273a6f8b"
      },
      "outputs": [
        {
          "output_type": "execute_result",
          "data": {
            "text/plain": [
              "(tensor([0.0000, 0.0000, 0.0000, 0.0000, 0.0000, 0.0000, 0.0000, 0.0000, 0.0000,\n",
              "         0.0000, 0.0000, 0.0000, 0.0000, 0.0000, 0.0000, 0.0000, 0.0000, 0.0000,\n",
              "         0.0000, 0.0000, 0.0000, 0.0000, 0.0000, 0.0000, 0.0000, 0.0000, 0.0000,\n",
              "         0.0000, 0.0000, 0.0000, 0.0000, 0.0000, 0.0000, 0.0000, 0.0000, 0.0000,\n",
              "         0.0000, 0.0000, 0.0000, 0.0000, 0.0000, 0.0000, 0.0000, 0.0000, 0.0000,\n",
              "         0.0000, 0.0000, 0.0000, 0.0000, 0.0000, 0.0000, 0.0000, 0.0000, 0.0000,\n",
              "         0.0000, 0.0000, 0.0000, 0.0000, 0.0000, 0.0000, 0.0000, 0.0000, 0.0000,\n",
              "         0.0000, 0.0000, 0.0000, 0.0000, 0.0000, 0.0000, 0.0000, 0.0000, 0.0000,\n",
              "         0.0000, 0.0000, 0.0000, 0.0000, 0.0000, 0.0000, 0.0000, 0.0000, 0.0000,\n",
              "         0.0000, 0.0000, 0.0000, 0.0000, 0.0000, 0.0000, 0.0000, 0.0000, 0.0000,\n",
              "         0.0000, 0.0000, 0.0000, 0.0000, 0.0000, 0.0000, 0.0000, 0.0000, 0.0000,\n",
              "         0.0000, 0.0000, 0.0000, 0.0000, 0.0000, 0.0000, 0.0000, 0.0000, 0.0000,\n",
              "         0.0000, 0.0000, 0.0000, 0.0000, 0.0000, 0.0000, 0.0000, 0.0000, 0.0000,\n",
              "         0.0000, 0.0000, 0.0000, 0.0000, 0.0000, 0.0000, 0.0000, 0.0000, 0.0000,\n",
              "         0.0000, 0.0000, 0.0000, 0.0000, 0.0000, 0.0000, 0.0000, 0.0000, 0.0000,\n",
              "         0.0000, 0.0000, 0.0000, 0.0000, 0.0000, 0.0000, 0.0000, 0.0000, 0.0000,\n",
              "         0.0000, 0.0000, 0.0000, 0.0000, 0.0000, 0.0000, 0.0000, 0.0000, 0.0118,\n",
              "         0.0706, 0.0706, 0.0706, 0.4941, 0.5333, 0.6863, 0.1020, 0.6510, 1.0000,\n",
              "         0.9686, 0.4980, 0.0000, 0.0000, 0.0000, 0.0000, 0.0000, 0.0000, 0.0000,\n",
              "         0.0000, 0.0000, 0.0000, 0.0000, 0.0000, 0.1176, 0.1412, 0.3686, 0.6039,\n",
              "         0.6667, 0.9922, 0.9922, 0.9922, 0.9922, 0.9922, 0.8824, 0.6745, 0.9922,\n",
              "         0.9490, 0.7647, 0.2510, 0.0000, 0.0000, 0.0000, 0.0000, 0.0000, 0.0000,\n",
              "         0.0000, 0.0000, 0.0000, 0.0000, 0.0000, 0.1922, 0.9333, 0.9922, 0.9922,\n",
              "         0.9922, 0.9922, 0.9922, 0.9922, 0.9922, 0.9922, 0.9843, 0.3647, 0.3216,\n",
              "         0.3216, 0.2196, 0.1529, 0.0000, 0.0000, 0.0000, 0.0000, 0.0000, 0.0000,\n",
              "         0.0000, 0.0000, 0.0000, 0.0000, 0.0000, 0.0000, 0.0706, 0.8588, 0.9922,\n",
              "         0.9922, 0.9922, 0.9922, 0.9922, 0.7765, 0.7137, 0.9686, 0.9451, 0.0000,\n",
              "         0.0000, 0.0000, 0.0000, 0.0000, 0.0000, 0.0000, 0.0000, 0.0000, 0.0000,\n",
              "         0.0000, 0.0000, 0.0000, 0.0000, 0.0000, 0.0000, 0.0000, 0.0000, 0.3137,\n",
              "         0.6118, 0.4196, 0.9922, 0.9922, 0.8039, 0.0431, 0.0000, 0.1686, 0.6039,\n",
              "         0.0000, 0.0000, 0.0000, 0.0000, 0.0000, 0.0000, 0.0000, 0.0000, 0.0000,\n",
              "         0.0000, 0.0000, 0.0000, 0.0000, 0.0000, 0.0000, 0.0000, 0.0000, 0.0000,\n",
              "         0.0000, 0.0549, 0.0039, 0.6039, 0.9922, 0.3529, 0.0000, 0.0000, 0.0000,\n",
              "         0.0000, 0.0000, 0.0000, 0.0000, 0.0000, 0.0000, 0.0000, 0.0000, 0.0000,\n",
              "         0.0000, 0.0000, 0.0000, 0.0000, 0.0000, 0.0000, 0.0000, 0.0000, 0.0000,\n",
              "         0.0000, 0.0000, 0.0000, 0.0000, 0.5451, 0.9922, 0.7451, 0.0078, 0.0000,\n",
              "         0.0000, 0.0000, 0.0000, 0.0000, 0.0000, 0.0000, 0.0000, 0.0000, 0.0000,\n",
              "         0.0000, 0.0000, 0.0000, 0.0000, 0.0000, 0.0000, 0.0000, 0.0000, 0.0000,\n",
              "         0.0000, 0.0000, 0.0000, 0.0000, 0.0000, 0.0431, 0.7451, 0.9922, 0.2745,\n",
              "         0.0000, 0.0000, 0.0000, 0.0000, 0.0000, 0.0000, 0.0000, 0.0000, 0.0000,\n",
              "         0.0000, 0.0000, 0.0000, 0.0000, 0.0000, 0.0000, 0.0000, 0.0000, 0.0000,\n",
              "         0.0000, 0.0000, 0.0000, 0.0000, 0.0000, 0.0000, 0.0000, 0.1373, 0.9451,\n",
              "         0.8824, 0.6275, 0.4235, 0.0039, 0.0000, 0.0000, 0.0000, 0.0000, 0.0000,\n",
              "         0.0000, 0.0000, 0.0000, 0.0000, 0.0000, 0.0000, 0.0000, 0.0000, 0.0000,\n",
              "         0.0000, 0.0000, 0.0000, 0.0000, 0.0000, 0.0000, 0.0000, 0.0000, 0.0000,\n",
              "         0.3176, 0.9412, 0.9922, 0.9922, 0.4667, 0.0980, 0.0000, 0.0000, 0.0000,\n",
              "         0.0000, 0.0000, 0.0000, 0.0000, 0.0000, 0.0000, 0.0000, 0.0000, 0.0000,\n",
              "         0.0000, 0.0000, 0.0000, 0.0000, 0.0000, 0.0000, 0.0000, 0.0000, 0.0000,\n",
              "         0.0000, 0.0000, 0.1765, 0.7294, 0.9922, 0.9922, 0.5882, 0.1059, 0.0000,\n",
              "         0.0000, 0.0000, 0.0000, 0.0000, 0.0000, 0.0000, 0.0000, 0.0000, 0.0000,\n",
              "         0.0000, 0.0000, 0.0000, 0.0000, 0.0000, 0.0000, 0.0000, 0.0000, 0.0000,\n",
              "         0.0000, 0.0000, 0.0000, 0.0000, 0.0627, 0.3647, 0.9882, 0.9922, 0.7333,\n",
              "         0.0000, 0.0000, 0.0000, 0.0000, 0.0000, 0.0000, 0.0000, 0.0000, 0.0000,\n",
              "         0.0000, 0.0000, 0.0000, 0.0000, 0.0000, 0.0000, 0.0000, 0.0000, 0.0000,\n",
              "         0.0000, 0.0000, 0.0000, 0.0000, 0.0000, 0.0000, 0.0000, 0.9765, 0.9922,\n",
              "         0.9765, 0.2510, 0.0000, 0.0000, 0.0000, 0.0000, 0.0000, 0.0000, 0.0000,\n",
              "         0.0000, 0.0000, 0.0000, 0.0000, 0.0000, 0.0000, 0.0000, 0.0000, 0.0000,\n",
              "         0.0000, 0.0000, 0.0000, 0.0000, 0.0000, 0.1804, 0.5098, 0.7176, 0.9922,\n",
              "         0.9922, 0.8118, 0.0078, 0.0000, 0.0000, 0.0000, 0.0000, 0.0000, 0.0000,\n",
              "         0.0000, 0.0000, 0.0000, 0.0000, 0.0000, 0.0000, 0.0000, 0.0000, 0.0000,\n",
              "         0.0000, 0.0000, 0.0000, 0.0000, 0.1529, 0.5804, 0.8980, 0.9922, 0.9922,\n",
              "         0.9922, 0.9804, 0.7137, 0.0000, 0.0000, 0.0000, 0.0000, 0.0000, 0.0000,\n",
              "         0.0000, 0.0000, 0.0000, 0.0000, 0.0000, 0.0000, 0.0000, 0.0000, 0.0000,\n",
              "         0.0000, 0.0000, 0.0000, 0.0941, 0.4471, 0.8667, 0.9922, 0.9922, 0.9922,\n",
              "         0.9922, 0.7882, 0.3059, 0.0000, 0.0000, 0.0000, 0.0000, 0.0000, 0.0000,\n",
              "         0.0000, 0.0000, 0.0000, 0.0000, 0.0000, 0.0000, 0.0000, 0.0000, 0.0000,\n",
              "         0.0000, 0.0000, 0.0902, 0.2588, 0.8353, 0.9922, 0.9922, 0.9922, 0.9922,\n",
              "         0.7765, 0.3176, 0.0078, 0.0000, 0.0000, 0.0000, 0.0000, 0.0000, 0.0000,\n",
              "         0.0000, 0.0000, 0.0000, 0.0000, 0.0000, 0.0000, 0.0000, 0.0000, 0.0000,\n",
              "         0.0000, 0.0706, 0.6706, 0.8588, 0.9922, 0.9922, 0.9922, 0.9922, 0.7647,\n",
              "         0.3137, 0.0353, 0.0000, 0.0000, 0.0000, 0.0000, 0.0000, 0.0000, 0.0000,\n",
              "         0.0000, 0.0000, 0.0000, 0.0000, 0.0000, 0.0000, 0.0000, 0.0000, 0.0000,\n",
              "         0.2157, 0.6745, 0.8863, 0.9922, 0.9922, 0.9922, 0.9922, 0.9569, 0.5216,\n",
              "         0.0431, 0.0000, 0.0000, 0.0000, 0.0000, 0.0000, 0.0000, 0.0000, 0.0000,\n",
              "         0.0000, 0.0000, 0.0000, 0.0000, 0.0000, 0.0000, 0.0000, 0.0000, 0.0000,\n",
              "         0.0000, 0.5333, 0.9922, 0.9922, 0.9922, 0.8314, 0.5294, 0.5176, 0.0627,\n",
              "         0.0000, 0.0000, 0.0000, 0.0000, 0.0000, 0.0000, 0.0000, 0.0000, 0.0000,\n",
              "         0.0000, 0.0000, 0.0000, 0.0000, 0.0000, 0.0000, 0.0000, 0.0000, 0.0000,\n",
              "         0.0000, 0.0000, 0.0000, 0.0000, 0.0000, 0.0000, 0.0000, 0.0000, 0.0000,\n",
              "         0.0000, 0.0000, 0.0000, 0.0000, 0.0000, 0.0000, 0.0000, 0.0000, 0.0000,\n",
              "         0.0000, 0.0000, 0.0000, 0.0000, 0.0000, 0.0000, 0.0000, 0.0000, 0.0000,\n",
              "         0.0000, 0.0000, 0.0000, 0.0000, 0.0000, 0.0000, 0.0000, 0.0000, 0.0000,\n",
              "         0.0000, 0.0000, 0.0000, 0.0000, 0.0000, 0.0000, 0.0000, 0.0000, 0.0000,\n",
              "         0.0000, 0.0000, 0.0000, 0.0000, 0.0000, 0.0000, 0.0000, 0.0000, 0.0000,\n",
              "         0.0000, 0.0000, 0.0000, 0.0000, 0.0000, 0.0000, 0.0000, 0.0000, 0.0000,\n",
              "         0.0000, 0.0000, 0.0000, 0.0000, 0.0000, 0.0000, 0.0000, 0.0000, 0.0000,\n",
              "         0.0000, 0.0000, 0.0000, 0.0000, 0.0000, 0.0000, 0.0000, 0.0000, 0.0000,\n",
              "         0.0000]),\n",
              " 5)"
            ]
          },
          "metadata": {},
          "execution_count": 21
        }
      ],
      "source": [
        "train_set[0]"
      ]
    },
    {
      "cell_type": "code",
      "execution_count": 24,
      "metadata": {
        "colab": {
          "base_uri": "https://localhost:8080/"
        },
        "id": "gZoc4SQ5fIP0",
        "outputId": "60f2238b-69bc-4e92-c6c2-1f2b1a06f0e6"
      },
      "outputs": [
        {
          "output_type": "execute_result",
          "data": {
            "text/plain": [
              "torch.Size([16, 784])"
            ]
          },
          "metadata": {},
          "execution_count": 24
        }
      ],
      "source": [
        "train_loader = torch.utils.data.DataLoader(train_set, batch_size=16, shuffle=True)\n",
        "\n",
        "for batch in train_loader:\n",
        "  imgs, labels = batch\n",
        "  break\n",
        "imgs.shape\n"
      ]
    },
    {
      "cell_type": "markdown",
      "metadata": {
        "id": "edZN-pPuMhOP"
      },
      "source": [
        "## 1. Make a Model"
      ]
    },
    {
      "cell_type": "code",
      "execution_count": 25,
      "metadata": {
        "colab": {
          "base_uri": "https://localhost:8080/"
        },
        "id": "4j5TEbRWwsH8",
        "outputId": "3c50916f-f080-4d2c-af80-d5f67170ba44"
      },
      "outputs": [
        {
          "output_type": "execute_result",
          "data": {
            "text/plain": [
              "(torch.Size([16, 10]),\n",
              " tensor([[0.1030, 0.0987, 0.1143, 0.1168, 0.0911, 0.1122, 0.0994, 0.0814, 0.0871,\n",
              "          0.0960],\n",
              "         [0.1029, 0.0997, 0.1080, 0.1160, 0.0900, 0.1151, 0.0959, 0.0810, 0.0858,\n",
              "          0.1056],\n",
              "         [0.1017, 0.0978, 0.1149, 0.1135, 0.0895, 0.1111, 0.1021, 0.0812, 0.0898,\n",
              "          0.0985],\n",
              "         [0.1044, 0.0998, 0.1150, 0.1200, 0.0942, 0.1115, 0.0932, 0.0820, 0.0870,\n",
              "          0.0930],\n",
              "         [0.1000, 0.1000, 0.1164, 0.1162, 0.0917, 0.1085, 0.1004, 0.0822, 0.0856,\n",
              "          0.0990],\n",
              "         [0.1000, 0.0973, 0.1120, 0.1133, 0.0923, 0.1139, 0.1018, 0.0827, 0.0877,\n",
              "          0.0989],\n",
              "         [0.1001, 0.0968, 0.1142, 0.1199, 0.0908, 0.1109, 0.1001, 0.0820, 0.0865,\n",
              "          0.0988],\n",
              "         [0.1024, 0.1012, 0.1128, 0.1134, 0.0916, 0.1102, 0.0961, 0.0839, 0.0910,\n",
              "          0.0975],\n",
              "         [0.0993, 0.0978, 0.1129, 0.1177, 0.0932, 0.1122, 0.1008, 0.0825, 0.0834,\n",
              "          0.1002],\n",
              "         [0.1034, 0.0977, 0.1129, 0.1162, 0.0891, 0.1122, 0.1007, 0.0796, 0.0887,\n",
              "          0.0996]], grad_fn=<SliceBackward0>))"
            ]
          },
          "metadata": {},
          "execution_count": 25
        }
      ],
      "source": [
        "class Classifier(nn.Module):\n",
        "  def __init__(self, input_dim=784, num_class=10):\n",
        "    super().__init__()\n",
        "    # Let's make three layer models\n",
        "\n",
        "    # What we know: input_dim = 784\n",
        "    # number_of_categories = 10\n",
        "    hidden_dim = 64\n",
        "    hidden_dim2= 32\n",
        "\n",
        "    self.layer1 = nn.Linear(in_features=input_dim, out_features=hidden_dim)\n",
        "    self.layer2 = nn.Linear(in_features=hidden_dim, out_features=hidden_dim2)\n",
        "    self.layer3 = nn.Linear(in_features=hidden_dim2, out_features=num_class)\n",
        "\n",
        "  def forward(self, x):\n",
        "    x = self.layer1(x)\n",
        "    x = x.relu()\n",
        "    x = self.layer2(x)\n",
        "    x = x.relu()\n",
        "    logit = self.layer3(x)\n",
        "    prob = logit.softmax(dim=-1)\n",
        "    return prob, logit\n",
        "\n",
        "model = Classifier()\n",
        "\n",
        "torch.set_printoptions(sci_mode=False)\n",
        "pred, logit = model(imgs)\n",
        "pred.shape, pred[:10]"
      ]
    },
    {
      "cell_type": "code",
      "source": [
        "exp_logit = torch.exp(logit)\n",
        "sum_exp_logit = exp_logit.sum(dim=1)\n",
        "sum_exp_logit, sum_exp_logit.shape\n",
        "sum_exp_logit = sum_exp_logit.reshape(-1, 1)\n",
        "prob = exp_logit / sum_exp_logit\n",
        "prob"
      ],
      "metadata": {
        "id": "CppbaOQFUZcE",
        "outputId": "f61a94ef-7fc8-40b2-91e3-5b492c7da948",
        "colab": {
          "base_uri": "https://localhost:8080/"
        }
      },
      "execution_count": 30,
      "outputs": [
        {
          "output_type": "execute_result",
          "data": {
            "text/plain": [
              "tensor([[0.1030, 0.0987, 0.1143, 0.1168, 0.0911, 0.1122, 0.0994, 0.0814, 0.0871,\n",
              "         0.0960],\n",
              "        [0.1029, 0.0997, 0.1080, 0.1160, 0.0900, 0.1151, 0.0959, 0.0810, 0.0858,\n",
              "         0.1056],\n",
              "        [0.1017, 0.0978, 0.1149, 0.1135, 0.0895, 0.1111, 0.1021, 0.0812, 0.0898,\n",
              "         0.0985],\n",
              "        [0.1044, 0.0998, 0.1150, 0.1200, 0.0942, 0.1115, 0.0932, 0.0820, 0.0870,\n",
              "         0.0930],\n",
              "        [0.1000, 0.1000, 0.1164, 0.1162, 0.0917, 0.1085, 0.1004, 0.0822, 0.0856,\n",
              "         0.0990],\n",
              "        [0.1000, 0.0973, 0.1120, 0.1133, 0.0923, 0.1139, 0.1018, 0.0827, 0.0877,\n",
              "         0.0989],\n",
              "        [0.1001, 0.0968, 0.1142, 0.1199, 0.0908, 0.1109, 0.1001, 0.0820, 0.0865,\n",
              "         0.0988],\n",
              "        [0.1024, 0.1012, 0.1128, 0.1134, 0.0916, 0.1102, 0.0961, 0.0839, 0.0910,\n",
              "         0.0975],\n",
              "        [0.0993, 0.0978, 0.1129, 0.1177, 0.0932, 0.1122, 0.1008, 0.0825, 0.0834,\n",
              "         0.1002],\n",
              "        [0.1034, 0.0977, 0.1129, 0.1162, 0.0891, 0.1122, 0.1007, 0.0796, 0.0887,\n",
              "         0.0996],\n",
              "        [0.1032, 0.0998, 0.1154, 0.1119, 0.0911, 0.1139, 0.0972, 0.0827, 0.0896,\n",
              "         0.0953],\n",
              "        [0.1001, 0.0964, 0.1156, 0.1156, 0.0903, 0.1112, 0.1038, 0.0824, 0.0884,\n",
              "         0.0962],\n",
              "        [0.0996, 0.1017, 0.1138, 0.1181, 0.0899, 0.1130, 0.0997, 0.0823, 0.0850,\n",
              "         0.0969],\n",
              "        [0.0999, 0.0970, 0.1138, 0.1175, 0.0931, 0.1112, 0.1012, 0.0828, 0.0870,\n",
              "         0.0966],\n",
              "        [0.1043, 0.0953, 0.1144, 0.1149, 0.0923, 0.1137, 0.0989, 0.0836, 0.0857,\n",
              "         0.0969],\n",
              "        [0.1003, 0.0977, 0.1121, 0.1138, 0.0910, 0.1141, 0.1018, 0.0826, 0.0874,\n",
              "         0.0991]], grad_fn=<DivBackward0>)"
            ]
          },
          "metadata": {},
          "execution_count": 30
        }
      ]
    },
    {
      "cell_type": "code",
      "source": [],
      "metadata": {
        "id": "C_aM-BuTUZMT"
      },
      "execution_count": null,
      "outputs": []
    },
    {
      "cell_type": "code",
      "execution_count": null,
      "metadata": {
        "colab": {
          "base_uri": "https://localhost:8080/"
        },
        "id": "Z9-23RjllijW",
        "outputId": "693ee8d9-c073-40d2-c39b-e945fff2e611"
      },
      "outputs": [
        {
          "name": "stdout",
          "output_type": "stream",
          "text": [
            "tensor([-0.1781, -0.1639,  0.2204,  0.0454, -0.0955, -0.1440, -0.1863, -0.1799,\n",
            "        -0.0735,  0.2191], grad_fn=<SelectBackward0>) tensor([0.0872, 0.0885, 0.1299, 0.1091, 0.0947, 0.0903, 0.0865, 0.0871, 0.0969,\n",
            "        0.1298], grad_fn=<SelectBackward0>)\n",
            "tensor([ 5.0000, -0.1639,  0.2204,  0.0454, -0.0955, -0.1440, -0.1863, -0.1799,\n",
            "        -0.0735,  0.2191], grad_fn=<CopySlices>)\n",
            "tensor([0.9443, 0.0054, 0.0079, 0.0067, 0.0058, 0.0055, 0.0053, 0.0053, 0.0059,\n",
            "        0.0079], grad_fn=<SoftmaxBackward0>)\n",
            "tensor([-0.1781, -5.0000, -5.0000, -5.0000, -5.0000, -5.0000, -5.0000, -5.0000,\n",
            "        -5.0000, -5.0000], grad_fn=<CopySlices>)\n",
            "tensor([0.9324, 0.0075, 0.0075, 0.0075, 0.0075, 0.0075, 0.0075, 0.0075, 0.0075,\n",
            "        0.0075], grad_fn=<SoftmaxBackward0>)\n"
          ]
        }
      ],
      "source": [
        "print(logit[0], pred[0])\n",
        "edited_logit1 = logit[0].clone()\n",
        "edited_logit1[0] = 5.0\n",
        "print(edited_logit1)\n",
        "print(edited_logit1.softmax(dim=-1))\n",
        "edited_logit2 = logit[0].clone()\n",
        "edited_logit2[1:] = -5\n",
        "print(edited_logit2)\n",
        "print(edited_logit2.softmax(dim=-1))\n"
      ]
    },
    {
      "cell_type": "code",
      "execution_count": null,
      "metadata": {
        "id": "zmEGXE9_00-2"
      },
      "outputs": [],
      "source": [
        "# We want to convert the output into a range of probability\n",
        "# Why we use softmax function"
      ]
    },
    {
      "cell_type": "markdown",
      "metadata": {
        "id": "K0m975ufMhOP"
      },
      "source": [
        "## 1.1 Make Softmax"
      ]
    },
    {
      "cell_type": "code",
      "execution_count": null,
      "metadata": {
        "id": "TLsBrXEz1euZ"
      },
      "outputs": [],
      "source": [
        "torch.set_printoptions(sci_mode=False)\n",
        "def my_softmax(x, dim=0):\n",
        "  exp_x = torch.exp(x)\n",
        "  return exp_x / torch.sum(exp_x, dim=1, keepdim=True)\n",
        "my_softmax(pred, dim=1)"
      ]
    },
    {
      "cell_type": "code",
      "execution_count": null,
      "metadata": {
        "id": "aGNZPqkyfOCD"
      },
      "outputs": [],
      "source": [
        "pred.softmax(dim=1)"
      ]
    },
    {
      "cell_type": "code",
      "execution_count": null,
      "metadata": {
        "id": "bAn0rRXIeI-n"
      },
      "outputs": [],
      "source": [
        "test = pred[:3]\n",
        "print(test)\n",
        "print(torch.exp(test))\n",
        "print(torch.exp(test).sum(dim=1, keepdim=True))"
      ]
    },
    {
      "cell_type": "markdown",
      "metadata": {
        "id": "5DIkJHsmlDS8"
      },
      "source": [
        "## 2. Training"
      ]
    },
    {
      "cell_type": "markdown",
      "metadata": {
        "id": "gog3CqdTlDS9"
      },
      "source": [
        "### 2.1 Make a Loss Function\n",
        "- Define Negative Log Likelihood Loss\n",
        "  - $L = -\\sum_{i=1}^n\\log(\\hat{y}_{i}^{(c)})$\n",
        "  - $y_{i}^{(c)} \\in (0, 1)$: predicted probability for $i$-th sample to be class $c$, where $c$ is the ground truth label for $i$-th sample\n",
        "- Define Cross Entropy Loss\n",
        "  - $L = -\\sum_{i=1}^ny_{i}\\log(\\hat{y}_{i})$\n",
        "  - $ y_{i} \\in (0,1)^C$: ground truth label for $i$-th sample to be class $c$. $C$ denotes the number of classes.\n",
        "    - One-hot encoding: $y_{i} = [0, 0, 1, 0, 0, 0, 0, 0, 0, 0]$\n",
        "  - $ \\hat{y}_{i} \\in (0, 1)^C$: predicted probability for $i$-th sample to be class $c$\n",
        "    - e.g.: $\\hat{y}_{i} = [0.1, 0.1, 0.5, 0.1, 0.1, 0.0, 0.0, 0.0, 0.0, 0.1]$"
      ]
    },
    {
      "cell_type": "code",
      "execution_count": null,
      "metadata": {
        "colab": {
          "base_uri": "https://localhost:8080/",
          "height": 234
        },
        "id": "R8zTqa3glDS9",
        "outputId": "24af9e87-52e5-4ed5-ad6e-f046652f558c"
      },
      "outputs": [
        {
          "ename": "NameError",
          "evalue": "ignored",
          "output_type": "error",
          "traceback": [
            "\u001b[0;31m---------------------------------------------------------------------------\u001b[0m",
            "\u001b[0;31mNameError\u001b[0m                                 Traceback (most recent call last)",
            "\u001b[0;32m<ipython-input-44-677c739ae59b>\u001b[0m in \u001b[0;36m<cell line: 34>\u001b[0;34m()\u001b[0m\n\u001b[1;32m     32\u001b[0m \u001b[0;31m# predicted_probs = torch.tensor(predicted_probs)\u001b[0m\u001b[0;34m\u001b[0m\u001b[0;34m\u001b[0m\u001b[0m\n\u001b[1;32m     33\u001b[0m \u001b[0;34m\u001b[0m\u001b[0m\n\u001b[0;32m---> 34\u001b[0;31m \u001b[0mloss\u001b[0m \u001b[0;34m=\u001b[0m \u001b[0mget_negative_log_likelihood\u001b[0m\u001b[0;34m(\u001b[0m\u001b[0mpred\u001b[0m\u001b[0;34m,\u001b[0m \u001b[0mlabel_tensor\u001b[0m\u001b[0;34m)\u001b[0m\u001b[0;34m\u001b[0m\u001b[0;34m\u001b[0m\u001b[0m\n\u001b[0m\u001b[1;32m     35\u001b[0m \u001b[0mloss\u001b[0m\u001b[0;34m\u001b[0m\u001b[0;34m\u001b[0m\u001b[0m\n",
            "\u001b[0;31mNameError\u001b[0m: name 'label_tensor' is not defined"
          ]
        }
      ],
      "source": [
        "def get_negative_log_likelihood(pred, target, eps=1e-8):\n",
        "  predicted_probs = []\n",
        "  # for i in range(len(pred)): #len(pred) means number of samples, or pred.shape[0]\n",
        "  #   i_th_pred = pred[i]\n",
        "  #   correct_label = target[i]\n",
        "  #   predicted_prob_for_correct_class = i_th_pred[correct_label]\n",
        "  #   # print(i_th_pred, correct_label, predicted_prob_for_correct_class)\n",
        "  #   predicted_probs.append(predicted_prob_for_correct_class)\n",
        "\n",
        "  # predicted_probs = torch.tensor(predicted_probs)\n",
        "  predicted_probs = pred[torch.arange(len(target)), target]\n",
        "  return -torch.log(predicted_probs + eps).mean()\n",
        "\n",
        "def get_cross_entropy(pred, target, eps=1e-8):\n",
        "  return\n",
        "\n",
        "def make_one_hot_vector(target, num_class=10):\n",
        "  return\n",
        "\n",
        "# pred.shape, label_tensor.shape\n",
        "# print(pred[:5])\n",
        "# print(label_tensor[:5])\n",
        "\n",
        "# predicted_probs = []\n",
        "# for i in range(len(pred)): #len(pred) means number of samples, or pred.shape[0]\n",
        "#   i_th_pred = pred[i]\n",
        "#   correct_label = label_tensor[i]\n",
        "#   predicted_prob_for_correct_class = i_th_pred[correct_label]\n",
        "#   # print(i_th_pred, correct_label, predicted_prob_for_correct_class)\n",
        "#   predicted_probs.append(predicted_prob_for_correct_class)\n",
        "\n",
        "# predicted_probs = torch.tensor(predicted_probs)\n",
        "\n",
        "loss = get_negative_log_likelihood(pred, label_tensor)\n",
        "loss"
      ]
    },
    {
      "cell_type": "code",
      "execution_count": null,
      "metadata": {
        "id": "Dic0y0W9o9UB"
      },
      "outputs": [],
      "source": [
        "# you can index tensor by list of indices\n",
        "# [(0, target[0]), (1, target[1]), (2, target[2])]\n",
        "# for i, c in zip(torch.arange(len(label_tensor)), label_tensor):\n",
        "#   print(i,c)\n",
        "\n",
        "pred[torch.arange(len(label_tensor)), label_tensor]"
      ]
    },
    {
      "cell_type": "code",
      "execution_count": null,
      "metadata": {
        "colab": {
          "base_uri": "https://localhost:8080/"
        },
        "id": "EdtuDETdoZ-U",
        "outputId": "bada75d0-631a-4360-9f5a-d110556304f9"
      },
      "outputs": [
        {
          "data": {
            "text/plain": [
              "tensor(2.3195)"
            ]
          },
          "execution_count": 57,
          "metadata": {},
          "output_type": "execute_result"
        }
      ],
      "source": [
        "-torch.log(predicted_probs).mean()"
      ]
    },
    {
      "cell_type": "markdown",
      "metadata": {
        "id": "UAb1YooZlDS9"
      },
      "source": [
        "### 2.2 Define Training Loop"
      ]
    },
    {
      "cell_type": "code",
      "execution_count": null,
      "metadata": {
        "id": "_v7OnVGXlDS9"
      },
      "outputs": [],
      "source": [
        "def train_one_step(model, optimizer, loss_function, input, target):\n",
        "  pred, logit = model(input) # forward pass. compute the prediction\n",
        "  loss = loss_function(pred, target) # compute the loss\n",
        "  loss.backward() # backpropagate theloss. compute the gradient\n",
        "  optimizer.step() # update the parameters based on each gradient\n",
        "  optimizer.zero_grad() # clear the gradient for every parameters\n",
        "  return loss.item() # return the loss value\n"
      ]
    },
    {
      "cell_type": "markdown",
      "metadata": {
        "id": "LxWrFBaslDS9"
      },
      "source": [
        "### 2.3 Make Batch"
      ]
    },
    {
      "cell_type": "code",
      "execution_count": null,
      "metadata": {
        "colab": {
          "base_uri": "https://localhost:8080/"
        },
        "id": "-LITfMJdlDS9",
        "outputId": "ba1068dd-7ab2-4e4f-9b8a-38af31307b06"
      },
      "outputs": [
        {
          "data": {
            "text/plain": [
              "tensor(True)"
            ]
          },
          "execution_count": 70,
          "metadata": {},
          "output_type": "execute_result"
        }
      ],
      "source": [
        "def get_batch(input_tensor, label_tensor, batch_size, start_idx):\n",
        "  # slice input tensor from start_idx:start_idx + batch_size\n",
        "\n",
        "  return input_tensor[start_idx:start_idx+batch_size], label_tensor[start_idx:start_idx+batch_size]\n",
        "\n",
        "batch_size = 64\n",
        "start_idx = 10\n",
        "batch_input, batch_label = get_batch(data_tensor, label_tensor, batch_size, start_idx)\n",
        "(batch_input[0] == data_tensor[10]).all()"
      ]
    },
    {
      "cell_type": "markdown",
      "metadata": {
        "id": "Ft6Anc_ClDS9"
      },
      "source": [
        "### 2.4 Train"
      ]
    },
    {
      "cell_type": "code",
      "execution_count": null,
      "metadata": {
        "colab": {
          "base_uri": "https://localhost:8080/",
          "height": 36
        },
        "id": "0eZnsP5fhcsK",
        "outputId": "d25eaa6d-5b8e-4e53-99c8-f57bcd66e45d"
      },
      "outputs": [
        {
          "data": {
            "application/vnd.google.colaboratory.intrinsic+json": {
              "type": "string"
            },
            "text/plain": [
              "'cuda'"
            ]
          },
          "execution_count": 46,
          "metadata": {},
          "output_type": "execute_result"
        }
      ],
      "source": [
        "DEV"
      ]
    },
    {
      "cell_type": "code",
      "execution_count": null,
      "metadata": {
        "colab": {
          "base_uri": "https://localhost:8080/"
        },
        "id": "Qi8qkAhfiBr9",
        "outputId": "1bbbaac6-dcd4-485e-9c67-844390e9cd11"
      },
      "outputs": [
        {
          "name": "stdout",
          "output_type": "stream",
          "text": [
            "Requirement already satisfied: tqdm in /usr/local/lib/python3.10/dist-packages (4.66.1)\n"
          ]
        }
      ],
      "source": [
        "!pip install tqdm"
      ]
    },
    {
      "cell_type": "code",
      "execution_count": null,
      "metadata": {
        "colab": {
          "base_uri": "https://localhost:8080/",
          "height": 49,
          "referenced_widgets": [
            "10bdc2333b4d47e6b9c600636b526caa",
            "eef9d8a8561d41d284b5640a0ceb8369",
            "e028b639f5fb4b159457c5b1a68e3ca4",
            "cbd9fb7e6b204e1aa76b3386ed779567",
            "687d1dc4ac5d41929711bfe4891ff9fe",
            "8b84ddf5431c4af1be40d17cd50f46a4",
            "0fe51b12ced44df0af0fe4ef51240c12",
            "14df7fbe192a44db813be8692e355c94",
            "aa909094d16844fd96bde361bfe97e6c",
            "9d40d9f9c62f41e4a97ad5ec55063ffb",
            "4c0b3c049abc4086ac67d4440c9f0aaf",
            "99ba717774c64606990d30e0823a1271",
            "58d3002e0ea540199589d5a4c66fd3f0",
            "59bc3d4caec14709ac0d5a3bf7b259a2",
            "165ceb08d71d44e3a1421814bd202602",
            "8108b70e9e70493abe9c97673a52e7c1",
            "85b4f64125454e3bba6cee3cdd73fa7c",
            "466b08583b604e88a71bf3ed29e7b848",
            "5c67eb3a59dd43f8833ab4f7108e19cc",
            "23bc598b17a247348b795e91207b69d3",
            "27f552cb26ad4fc5b8dea28d3f97f74a",
            "f2e4362f2d4445cfb0c16964e7e0e8e8",
            "a0e66fcd14d24cf9926554198b9a65fc",
            "045573e73ee345989e5b83481d0a2475",
            "b1e8792269d249b5a452d5e9a2cf2a0c",
            "4bd797554f6341ada7c0281d67a44168",
            "d970ae514d7b44058f3675c97ff9a65a",
            "eda37397b2dd4f05bc8ac9016f271d7b",
            "b7bc4c06ea5f4b83aa8468620a8e2a2d",
            "251455e693a44ad3b4940dd31bcb2659",
            "7cab9a64ce264f7ab8e56621add5dcf3",
            "8c6ccf26cdab4058a43dfd1bf32b43c2",
            "a092293a1c0a4109bdf6d9c80e79eba8",
            "7d674997e21c490c82ef27f7eb2940b3",
            "a7b57e0a78be4819bbd9176ea59dd1a0",
            "919a34601e88473eb2a6073f53daa6a6",
            "229b5bd1c66c424ea523cd7cfe485223",
            "64f3f109db2a4490bb71bbacb4cbdae6",
            "d0f38dc6b824403c837a80cafc46f038",
            "812080d7e771489a9992f691db7dbb42",
            "bcfb86d2ab21424b9c6a300b665d1b64",
            "e6dd373ff4dc4937b57d0a82a386d307",
            "9a99864f0e7d4b4598d52c8a068fda37",
            "9f87c47a69cb4010a3c94620d496e30e",
            "7613fec5999749c7ad64355858b30aa2",
            "111799d762f44526a7bcef410dff3d21",
            "833c06bd814f44c2a483665f0abc5cd2",
            "bda2a18f45cc40a4b52c1436d016e0af",
            "5987d5e4660b4d2f822140e00e21bf1e",
            "28911d0443224d748345157ab491c1c9",
            "e05de9a34ed440bebc442ef49e1a602c",
            "6c6777a12714419bbca667f9a6eeba5b",
            "04e4b75c24b9417693a74c07b6a9b3d6",
            "5f9d9e5b6f6346e2b952b0e246200e9a",
            "f0fc29083c93441d8a20eebb8c2a4190",
            "6f0df854c46f471aac09e3c44dbd8297",
            "8bf8b319fd35459b85bd37c209209c46",
            "5d6d4ea6bf7b420da8c4f49a64b51048",
            "fb3969571d424d20b673b941ebf680e8",
            "082969f91b324685ac5dc686b4e37a1e",
            "6d44aa827b794b169bbcffcb1879131f",
            "f70656ab9de54516aae2e9458cbb96e9",
            "e2027dee857c457a95cb7cb81b88a9f8",
            "adb4128aa9684d7ca2d5bebb96831f55",
            "8cea1716552a4787a87ff058251000b9",
            "7cec0b7165814584848f4a96de85cbca"
          ]
        },
        "id": "GqaSW0v3lDS9",
        "outputId": "f1098a07-6808-43f3-adbf-7b1a27258fdf"
      },
      "outputs": [
        {
          "data": {
            "application/vnd.jupyter.widget-view+json": {
              "model_id": "10bdc2333b4d47e6b9c600636b526caa",
              "version_major": 2,
              "version_minor": 0
            },
            "text/plain": [
              "  0%|          | 0/5 [00:00<?, ?it/s]"
            ]
          },
          "metadata": {},
          "output_type": "display_data"
        },
        {
          "data": {
            "application/vnd.jupyter.widget-view+json": {
              "model_id": "99ba717774c64606990d30e0823a1271",
              "version_major": 2,
              "version_minor": 0
            },
            "text/plain": [
              "  0%|          | 0/60 [00:00<?, ?it/s]"
            ]
          },
          "metadata": {},
          "output_type": "display_data"
        },
        {
          "data": {
            "application/vnd.jupyter.widget-view+json": {
              "model_id": "a0e66fcd14d24cf9926554198b9a65fc",
              "version_major": 2,
              "version_minor": 0
            },
            "text/plain": [
              "  0%|          | 0/60 [00:00<?, ?it/s]"
            ]
          },
          "metadata": {},
          "output_type": "display_data"
        },
        {
          "data": {
            "application/vnd.jupyter.widget-view+json": {
              "model_id": "7d674997e21c490c82ef27f7eb2940b3",
              "version_major": 2,
              "version_minor": 0
            },
            "text/plain": [
              "  0%|          | 0/60 [00:00<?, ?it/s]"
            ]
          },
          "metadata": {},
          "output_type": "display_data"
        },
        {
          "data": {
            "application/vnd.jupyter.widget-view+json": {
              "model_id": "7613fec5999749c7ad64355858b30aa2",
              "version_major": 2,
              "version_minor": 0
            },
            "text/plain": [
              "  0%|          | 0/60 [00:00<?, ?it/s]"
            ]
          },
          "metadata": {},
          "output_type": "display_data"
        },
        {
          "data": {
            "application/vnd.jupyter.widget-view+json": {
              "model_id": "6f0df854c46f471aac09e3c44dbd8297",
              "version_major": 2,
              "version_minor": 0
            },
            "text/plain": [
              "  0%|          | 0/60 [00:00<?, ?it/s]"
            ]
          },
          "metadata": {},
          "output_type": "display_data"
        }
      ],
      "source": [
        "import time\n",
        "from tqdm.auto import tqdm\n",
        "\n",
        "model = Classifier()\n",
        "train_loader = torch.utils.data.DataLoader(train_set, batch_size=1000, shuffle=True)\n",
        "optimizer = torch.optim.Adam(model.parameters(), lr=0.01)\n",
        "loss_function = get_negative_log_likelihood\n",
        "\n",
        "losses = []\n",
        "num_epochs = 5\n",
        "\n",
        "model.to(DEV) # move model to cuda. Move model's parameter on GPU's VRAM\n",
        "\n",
        "for epoch in tqdm(range(num_epochs)):\n",
        "  for batch in tqdm(train_loader, leave=False):\n",
        "    input_batch, target_batch = batch\n",
        "    input_batch = input_batch.to(DEV)  # Movetensor to GPU's VRAM\n",
        "    target_batch = target_batch.to(DEV)\n",
        "    loss = train_one_step(model, optimizer, loss_function, input_batch, target_batch)\n",
        "    losses.append(loss)\n",
        "\n",
        "\n"
      ]
    },
    {
      "cell_type": "code",
      "execution_count": null,
      "metadata": {
        "id": "feNJgvZEh03-"
      },
      "outputs": [],
      "source": [
        "# batch_size = 10000\n",
        "# num_batch_per_epoch = len(data_tensor) // batch_size # TODO\n",
        "# # num_batch_per_epoch\n",
        "\n",
        "# for epoch in range(num_epochs):\n",
        "#   # rand_idx = torch.randperm(len(data_tensor))\n",
        "#   # data_tensor = data_tensor[rand_idx]\n",
        "#   # label_tensor = label_tensor[rand_idx]\n",
        "#   start_time = time.time()\n",
        "#   for batch_idx in range(num_batch_per_epoch):\n",
        "#     batch_start_idx = batch_idx * batch_size\n",
        "#     input_batch, target_batch = get_batch(data_tensor, label_tensor, batch_size, batch_start_idx)\n",
        "#     loss = train_one_step(model, optimizer, loss_function, input_batch, target_batch)\n",
        "#     losses.append(loss)\n",
        "#   end_time = time.time()\n",
        "#   print(end_time - start_time)"
      ]
    },
    {
      "cell_type": "code",
      "execution_count": null,
      "metadata": {
        "colab": {
          "base_uri": "https://localhost:8080/",
          "height": 448
        },
        "id": "dF3Yt4sTt6Zh",
        "outputId": "0391e99e-f2f1-4f2e-9435-5b52f8fe537c"
      },
      "outputs": [
        {
          "data": {
            "text/plain": [
              "[<matplotlib.lines.Line2D at 0x7d80933165c0>]"
            ]
          },
          "execution_count": 53,
          "metadata": {},
          "output_type": "execute_result"
        },
        {
          "data": {
            "image/png": "[encoded data removed]",
            "text/plain": [
              "<Figure size 640x480 with 1 Axes>"
            ]
          },
          "metadata": {},
          "output_type": "display_data"
        }
      ],
      "source": [
        "plt.plot(losses)"
      ]
    },
    {
      "cell_type": "code",
      "execution_count": null,
      "metadata": {
        "colab": {
          "base_uri": "https://localhost:8080/"
        },
        "id": "3Wk3UB5Fie4U",
        "outputId": "2e0ad6ed-d643-43cb-938f-5159fbadf9eb"
      },
      "outputs": [
        {
          "data": {
            "text/plain": [
              "torch.Size([1000, 10])"
            ]
          },
          "execution_count": 60,
          "metadata": {},
          "output_type": "execute_result"
        }
      ],
      "source": [
        "test_loader = torch.utils.data.DataLoader(Dataset(test_data), batch_size=1000, shuffle=False)\n",
        "\n",
        "test_batch = next(iter(test_loader))\n",
        "# this will make something like \"batch in test_loader\" (iterator)\n",
        "# and only gets the first one\n",
        "imgs, labels = test_batch\n",
        "# imgs.shape\n",
        "\n",
        "pred, logit = model(imgs.to(DEV))\n",
        "pred.shape"
      ]
    },
    {
      "cell_type": "code",
      "execution_count": null,
      "metadata": {
        "colab": {
          "base_uri": "https://localhost:8080/"
        },
        "id": "xhT1mHdMjNA-",
        "outputId": "0d13ca83-fffb-4ccd-c625-7729681851b2"
      },
      "outputs": [
        {
          "data": {
            "text/plain": [
              "tensor([[    0.0000,     0.0000,     0.0003,     0.0000,     0.0000,     0.0000,\n",
              "             0.0000,     0.9996,     0.0000,     0.0001],\n",
              "        [    0.0000,     0.0005,     0.9995,     0.0000,     0.0000,     0.0000,\n",
              "             0.0000,     0.0000,     0.0000,     0.0000],\n",
              "        [    0.0000,     0.9975,     0.0001,     0.0000,     0.0009,     0.0000,\n",
              "             0.0000,     0.0013,     0.0001,     0.0001]], device='cuda:0',\n",
              "       grad_fn=<SliceBackward0>)"
            ]
          },
          "execution_count": 62,
          "metadata": {},
          "output_type": "execute_result"
        }
      ],
      "source": [
        "pred[0:3]"
      ]
    },
    {
      "cell_type": "code",
      "execution_count": null,
      "metadata": {
        "colab": {
          "base_uri": "https://localhost:8080/"
        },
        "id": "K7CRDk0LjkGE",
        "outputId": "34eb36c7-7ffb-4515-b765-0c9ea3ca632b"
      },
      "outputs": [
        {
          "data": {
            "text/plain": [
              "tensor([7, 2, 1, 0, 4, 1, 4, 9, 5, 9])"
            ]
          },
          "execution_count": 68,
          "metadata": {},
          "output_type": "execute_result"
        }
      ],
      "source": [
        "# torch.argmax\n",
        "# return the indices that has maximum value\n",
        "predicted_labels = torch.argmax(pred, dim=1).cpu()\n",
        "predicted_labels[:10]"
      ]
    },
    {
      "cell_type": "code",
      "execution_count": null,
      "metadata": {
        "colab": {
          "base_uri": "https://localhost:8080/"
        },
        "id": "7Z_jR5uWj2lG",
        "outputId": "5e2accb6-e29a-44c9-f5f0-81d9c3fe102c"
      },
      "outputs": [
        {
          "data": {
            "text/plain": [
              "0.965"
            ]
          },
          "execution_count": 69,
          "metadata": {},
          "output_type": "execute_result"
        }
      ],
      "source": [
        "(predicted_labels == labels).sum().item() / len(labels)"
      ]
    },
    {
      "cell_type": "code",
      "execution_count": null,
      "metadata": {
        "colab": {
          "base_uri": "https://localhost:8080/"
        },
        "id": "oDNW1pQ6kJdJ",
        "outputId": "daa426f5-28f4-40eb-bac3-2aafc5f5249e"
      },
      "outputs": [
        {
          "data": {
            "text/plain": [
              "(tensor([104, 124, 151, 158, 241, 247, 259, 320, 321, 336, 340, 359, 381, 414,\n",
              "         435, 445, 464, 495, 530, 578, 582, 583, 610, 659, 691, 707, 720, 810,\n",
              "         844, 895, 938, 947, 951, 965, 992]),)"
            ]
          },
          "execution_count": 72,
          "metadata": {},
          "output_type": "execute_result"
        }
      ],
      "source": [
        "torch.where(predicted_labels != labels)\n",
        "# it gives in which indices our model made wrong predictions"
      ]
    },
    {
      "cell_type": "code",
      "execution_count": null,
      "metadata": {
        "colab": {
          "base_uri": "https://localhost:8080/",
          "height": 466
        },
        "id": "SEX_wTShkhFo",
        "outputId": "bd802a53-0f9d-43f3-dbde-813deaa409ca"
      },
      "outputs": [
        {
          "name": "stdout",
          "output_type": "stream",
          "text": [
            "GT Label: 9, Predicted: 5\n"
          ]
        },
        {
          "data": {
            "text/plain": [
              "<matplotlib.image.AxesImage at 0x7d80908b9de0>"
            ]
          },
          "execution_count": 79,
          "metadata": {},
          "output_type": "execute_result"
        },
        {
          "data": {
            "image/png": "[encoded data removed]",
            "text/plain": [
              "<Figure size 640x480 with 1 Axes>"
            ]
          },
          "metadata": {},
          "output_type": "display_data"
        }
      ],
      "source": [
        "idx = 241\n",
        "img, label = test_data[idx]\n",
        "predicted_lb = predicted_labels[idx].item()\n",
        "\n",
        "print(f\"GT Label: {label}, Predicted: {predicted_lb}\")\n",
        "plt.imshow(img.squeeze())"
      ]
    },
    {
      "cell_type": "markdown",
      "metadata": {
        "id": "goTe6y_wlDS9"
      },
      "source": []
    }
  ],
  "metadata": {
    "accelerator": "GPU",
    "colab": {
      "provenance": [],
      "include_colab_link": true
    },
    "kernelspec": {
      "display_name": "Python 3.8.10 64-bit",
      "language": "python",
      "name": "python3"
    },
    "language_info": {
      "codemirror_mode": {
        "name": "ipython",
        "version": 3
      },
      "file_extension": ".py",
      "mimetype": "text/x-python",
      "name": "python",
      "nbconvert_exporter": "python",
      "pygments_lexer": "ipython3",
      "version": "3.8.10"
    },
    "orig_nbformat": 4,
    "vscode": {
      "interpreter": {
        "hash": "31f2aee4e71d21fbe5cf8b01ff0e069b9275f58929596ceb00d14d90e3e16cd6"
      }
    },
    "widgets": {
      "application/vnd.jupyter.widget-state+json": {
        "045573e73ee345989e5b83481d0a2475": {
          "model_module": "@jupyter-widgets/controls",
          "model_module_version": "1.5.0",
          "model_name": "HTMLModel",
          "state": {
            "_dom_classes": [],
            "_model_module": "@jupyter-widgets/controls",
            "_model_module_version": "1.5.0",
            "_model_name": "HTMLModel",
            "_view_count": null,
            "_view_module": "@jupyter-widgets/controls",
            "_view_module_version": "1.5.0",
            "_view_name": "HTMLView",
            "description": "",
            "description_tooltip": null,
            "layout": "IPY_MODEL_eda37397b2dd4f05bc8ac9016f271d7b",
            "placeholder": "​",
            "style": "IPY_MODEL_b7bc4c06ea5f4b83aa8468620a8e2a2d",
            "value": "100%"
          }
        },
        "04e4b75c24b9417693a74c07b6a9b3d6": {
          "model_module": "@jupyter-widgets/controls",
          "model_module_version": "1.5.0",
          "model_name": "ProgressStyleModel",
          "state": {
            "_model_module": "@jupyter-widgets/controls",
            "_model_module_version": "1.5.0",
            "_model_name": "ProgressStyleModel",
            "_view_count": null,
            "_view_module": "@jupyter-widgets/base",
            "_view_module_version": "1.2.0",
            "_view_name": "StyleView",
            "bar_color": null,
            "description_width": ""
          }
        },
        "082969f91b324685ac5dc686b4e37a1e": {
          "model_module": "@jupyter-widgets/base",
          "model_module_version": "1.2.0",
          "model_name": "LayoutModel",
          "state": {
            "_model_module": "@jupyter-widgets/base",
            "_model_module_version": "1.2.0",
            "_model_name": "LayoutModel",
            "_view_count": null,
            "_view_module": "@jupyter-widgets/base",
            "_view_module_version": "1.2.0",
            "_view_name": "LayoutView",
            "align_content": null,
            "align_items": null,
            "align_self": null,
            "border": null,
            "bottom": null,
            "display": null,
            "flex": null,
            "flex_flow": null,
            "grid_area": null,
            "grid_auto_columns": null,
            "grid_auto_flow": null,
            "grid_auto_rows": null,
            "grid_column": null,
            "grid_gap": null,
            "grid_row": null,
            "grid_template_areas": null,
            "grid_template_columns": null,
            "grid_template_rows": null,
            "height": null,
            "justify_content": null,
            "justify_items": null,
            "left": null,
            "margin": null,
            "max_height": null,
            "max_width": null,
            "min_height": null,
            "min_width": null,
            "object_fit": null,
            "object_position": null,
            "order": null,
            "overflow": null,
            "overflow_x": null,
            "overflow_y": null,
            "padding": null,
            "right": null,
            "top": null,
            "visibility": "hidden",
            "width": null
          }
        },
        "0fe51b12ced44df0af0fe4ef51240c12": {
          "model_module": "@jupyter-widgets/controls",
          "model_module_version": "1.5.0",
          "model_name": "DescriptionStyleModel",
          "state": {
            "_model_module": "@jupyter-widgets/controls",
            "_model_module_version": "1.5.0",
            "_model_name": "DescriptionStyleModel",
            "_view_count": null,
            "_view_module": "@jupyter-widgets/base",
            "_view_module_version": "1.2.0",
            "_view_name": "StyleView",
            "description_width": ""
          }
        },
        "10bdc2333b4d47e6b9c600636b526caa": {
          "model_module": "@jupyter-widgets/controls",
          "model_module_version": "1.5.0",
          "model_name": "HBoxModel",
          "state": {
            "_dom_classes": [],
            "_model_module": "@jupyter-widgets/controls",
            "_model_module_version": "1.5.0",
            "_model_name": "HBoxModel",
            "_view_count": null,
            "_view_module": "@jupyter-widgets/controls",
            "_view_module_version": "1.5.0",
            "_view_name": "HBoxView",
            "box_style": "",
            "children": [
              "IPY_MODEL_eef9d8a8561d41d284b5640a0ceb8369",
              "IPY_MODEL_e028b639f5fb4b159457c5b1a68e3ca4",
              "IPY_MODEL_cbd9fb7e6b204e1aa76b3386ed779567"
            ],
            "layout": "IPY_MODEL_687d1dc4ac5d41929711bfe4891ff9fe"
          }
        },
        "111799d762f44526a7bcef410dff3d21": {
          "model_module": "@jupyter-widgets/controls",
          "model_module_version": "1.5.0",
          "model_name": "HTMLModel",
          "state": {
            "_dom_classes": [],
            "_model_module": "@jupyter-widgets/controls",
            "_model_module_version": "1.5.0",
            "_model_name": "HTMLModel",
            "_view_count": null,
            "_view_module": "@jupyter-widgets/controls",
            "_view_module_version": "1.5.0",
            "_view_name": "HTMLView",
            "description": "",
            "description_tooltip": null,
            "layout": "IPY_MODEL_28911d0443224d748345157ab491c1c9",
            "placeholder": "​",
            "style": "IPY_MODEL_e05de9a34ed440bebc442ef49e1a602c",
            "value": "100%"
          }
        },
        "14df7fbe192a44db813be8692e355c94": {
          "model_module": "@jupyter-widgets/base",
          "model_module_version": "1.2.0",
          "model_name": "LayoutModel",
          "state": {
            "_model_module": "@jupyter-widgets/base",
            "_model_module_version": "1.2.0",
            "_model_name": "LayoutModel",
            "_view_count": null,
            "_view_module": "@jupyter-widgets/base",
            "_view_module_version": "1.2.0",
            "_view_name": "LayoutView",
            "align_content": null,
            "align_items": null,
            "align_self": null,
            "border": null,
            "bottom": null,
            "display": null,
            "flex": null,
            "flex_flow": null,
            "grid_area": null,
            "grid_auto_columns": null,
            "grid_auto_flow": null,
            "grid_auto_rows": null,
            "grid_column": null,
            "grid_gap": null,
            "grid_row": null,
            "grid_template_areas": null,
            "grid_template_columns": null,
            "grid_template_rows": null,
            "height": null,
            "justify_content": null,
            "justify_items": null,
            "left": null,
            "margin": null,
            "max_height": null,
            "max_width": null,
            "min_height": null,
            "min_width": null,
            "object_fit": null,
            "object_position": null,
            "order": null,
            "overflow": null,
            "overflow_x": null,
            "overflow_y": null,
            "padding": null,
            "right": null,
            "top": null,
            "visibility": null,
            "width": null
          }
        },
        "165ceb08d71d44e3a1421814bd202602": {
          "model_module": "@jupyter-widgets/controls",
          "model_module_version": "1.5.0",
          "model_name": "HTMLModel",
          "state": {
            "_dom_classes": [],
            "_model_module": "@jupyter-widgets/controls",
            "_model_module_version": "1.5.0",
            "_model_name": "HTMLModel",
            "_view_count": null,
            "_view_module": "@jupyter-widgets/controls",
            "_view_module_version": "1.5.0",
            "_view_name": "HTMLView",
            "description": "",
            "description_tooltip": null,
            "layout": "IPY_MODEL_27f552cb26ad4fc5b8dea28d3f97f74a",
            "placeholder": "​",
            "style": "IPY_MODEL_f2e4362f2d4445cfb0c16964e7e0e8e8",
            "value": " 60/60 [00:13&lt;00:00,  8.39it/s]"
          }
        },
        "229b5bd1c66c424ea523cd7cfe485223": {
          "model_module": "@jupyter-widgets/controls",
          "model_module_version": "1.5.0",
          "model_name": "HTMLModel",
          "state": {
            "_dom_classes": [],
            "_model_module": "@jupyter-widgets/controls",
            "_model_module_version": "1.5.0",
            "_model_name": "HTMLModel",
            "_view_count": null,
            "_view_module": "@jupyter-widgets/controls",
            "_view_module_version": "1.5.0",
            "_view_name": "HTMLView",
            "description": "",
            "description_tooltip": null,
            "layout": "IPY_MODEL_9a99864f0e7d4b4598d52c8a068fda37",
            "placeholder": "​",
            "style": "IPY_MODEL_9f87c47a69cb4010a3c94620d496e30e",
            "value": " 60/60 [00:07&lt;00:00,  7.30it/s]"
          }
        },
        "23bc598b17a247348b795e91207b69d3": {
          "model_module": "@jupyter-widgets/controls",
          "model_module_version": "1.5.0",
          "model_name": "ProgressStyleModel",
          "state": {
            "_model_module": "@jupyter-widgets/controls",
            "_model_module_version": "1.5.0",
            "_model_name": "ProgressStyleModel",
            "_view_count": null,
            "_view_module": "@jupyter-widgets/base",
            "_view_module_version": "1.2.0",
            "_view_name": "StyleView",
            "bar_color": null,
            "description_width": ""
          }
        },
        "251455e693a44ad3b4940dd31bcb2659": {
          "model_module": "@jupyter-widgets/base",
          "model_module_version": "1.2.0",
          "model_name": "LayoutModel",
          "state": {
            "_model_module": "@jupyter-widgets/base",
            "_model_module_version": "1.2.0",
            "_model_name": "LayoutModel",
            "_view_count": null,
            "_view_module": "@jupyter-widgets/base",
            "_view_module_version": "1.2.0",
            "_view_name": "LayoutView",
            "align_content": null,
            "align_items": null,
            "align_self": null,
            "border": null,
            "bottom": null,
            "display": null,
            "flex": null,
            "flex_flow": null,
            "grid_area": null,
            "grid_auto_columns": null,
            "grid_auto_flow": null,
            "grid_auto_rows": null,
            "grid_column": null,
            "grid_gap": null,
            "grid_row": null,
            "grid_template_areas": null,
            "grid_template_columns": null,
            "grid_template_rows": null,
            "height": null,
            "justify_content": null,
            "justify_items": null,
            "left": null,
            "margin": null,
            "max_height": null,
            "max_width": null,
            "min_height": null,
            "min_width": null,
            "object_fit": null,
            "object_position": null,
            "order": null,
            "overflow": null,
            "overflow_x": null,
            "overflow_y": null,
            "padding": null,
            "right": null,
            "top": null,
            "visibility": null,
            "width": null
          }
        },
        "27f552cb26ad4fc5b8dea28d3f97f74a": {
          "model_module": "@jupyter-widgets/base",
          "model_module_version": "1.2.0",
          "model_name": "LayoutModel",
          "state": {
            "_model_module": "@jupyter-widgets/base",
            "_model_module_version": "1.2.0",
            "_model_name": "LayoutModel",
            "_view_count": null,
            "_view_module": "@jupyter-widgets/base",
            "_view_module_version": "1.2.0",
            "_view_name": "LayoutView",
            "align_content": null,
            "align_items": null,
            "align_self": null,
            "border": null,
            "bottom": null,
            "display": null,
            "flex": null,
            "flex_flow": null,
            "grid_area": null,
            "grid_auto_columns": null,
            "grid_auto_flow": null,
            "grid_auto_rows": null,
            "grid_column": null,
            "grid_gap": null,
            "grid_row": null,
            "grid_template_areas": null,
            "grid_template_columns": null,
            "grid_template_rows": null,
            "height": null,
            "justify_content": null,
            "justify_items": null,
            "left": null,
            "margin": null,
            "max_height": null,
            "max_width": null,
            "min_height": null,
            "min_width": null,
            "object_fit": null,
            "object_position": null,
            "order": null,
            "overflow": null,
            "overflow_x": null,
            "overflow_y": null,
            "padding": null,
            "right": null,
            "top": null,
            "visibility": null,
            "width": null
          }
        },
        "28911d0443224d748345157ab491c1c9": {
          "model_module": "@jupyter-widgets/base",
          "model_module_version": "1.2.0",
          "model_name": "LayoutModel",
          "state": {
            "_model_module": "@jupyter-widgets/base",
            "_model_module_version": "1.2.0",
            "_model_name": "LayoutModel",
            "_view_count": null,
            "_view_module": "@jupyter-widgets/base",
            "_view_module_version": "1.2.0",
            "_view_name": "LayoutView",
            "align_content": null,
            "align_items": null,
            "align_self": null,
            "border": null,
            "bottom": null,
            "display": null,
            "flex": null,
            "flex_flow": null,
            "grid_area": null,
            "grid_auto_columns": null,
            "grid_auto_flow": null,
            "grid_auto_rows": null,
            "grid_column": null,
            "grid_gap": null,
            "grid_row": null,
            "grid_template_areas": null,
            "grid_template_columns": null,
            "grid_template_rows": null,
            "height": null,
            "justify_content": null,
            "justify_items": null,
            "left": null,
            "margin": null,
            "max_height": null,
            "max_width": null,
            "min_height": null,
            "min_width": null,
            "object_fit": null,
            "object_position": null,
            "order": null,
            "overflow": null,
            "overflow_x": null,
            "overflow_y": null,
            "padding": null,
            "right": null,
            "top": null,
            "visibility": null,
            "width": null
          }
        },
        "466b08583b604e88a71bf3ed29e7b848": {
          "model_module": "@jupyter-widgets/controls",
          "model_module_version": "1.5.0",
          "model_name": "DescriptionStyleModel",
          "state": {
            "_model_module": "@jupyter-widgets/controls",
            "_model_module_version": "1.5.0",
            "_model_name": "DescriptionStyleModel",
            "_view_count": null,
            "_view_module": "@jupyter-widgets/base",
            "_view_module_version": "1.2.0",
            "_view_name": "StyleView",
            "description_width": ""
          }
        },
        "4bd797554f6341ada7c0281d67a44168": {
          "model_module": "@jupyter-widgets/controls",
          "model_module_version": "1.5.0",
          "model_name": "HTMLModel",
          "state": {
            "_dom_classes": [],
            "_model_module": "@jupyter-widgets/controls",
            "_model_module_version": "1.5.0",
            "_model_name": "HTMLModel",
            "_view_count": null,
            "_view_module": "@jupyter-widgets/controls",
            "_view_module_version": "1.5.0",
            "_view_name": "HTMLView",
            "description": "",
            "description_tooltip": null,
            "layout": "IPY_MODEL_8c6ccf26cdab4058a43dfd1bf32b43c2",
            "placeholder": "​",
            "style": "IPY_MODEL_a092293a1c0a4109bdf6d9c80e79eba8",
            "value": " 60/60 [00:07&lt;00:00,  8.99it/s]"
          }
        },
        "4c0b3c049abc4086ac67d4440c9f0aaf": {
          "model_module": "@jupyter-widgets/controls",
          "model_module_version": "1.5.0",
          "model_name": "DescriptionStyleModel",
          "state": {
            "_model_module": "@jupyter-widgets/controls",
            "_model_module_version": "1.5.0",
            "_model_name": "DescriptionStyleModel",
            "_view_count": null,
            "_view_module": "@jupyter-widgets/base",
            "_view_module_version": "1.2.0",
            "_view_name": "StyleView",
            "description_width": ""
          }
        },
        "58d3002e0ea540199589d5a4c66fd3f0": {
          "model_module": "@jupyter-widgets/controls",
          "model_module_version": "1.5.0",
          "model_name": "HTMLModel",
          "state": {
            "_dom_classes": [],
            "_model_module": "@jupyter-widgets/controls",
            "_model_module_version": "1.5.0",
            "_model_name": "HTMLModel",
            "_view_count": null,
            "_view_module": "@jupyter-widgets/controls",
            "_view_module_version": "1.5.0",
            "_view_name": "HTMLView",
            "description": "",
            "description_tooltip": null,
            "layout": "IPY_MODEL_85b4f64125454e3bba6cee3cdd73fa7c",
            "placeholder": "​",
            "style": "IPY_MODEL_466b08583b604e88a71bf3ed29e7b848",
            "value": "100%"
          }
        },
        "5987d5e4660b4d2f822140e00e21bf1e": {
          "model_module": "@jupyter-widgets/base",
          "model_module_version": "1.2.0",
          "model_name": "LayoutModel",
          "state": {
            "_model_module": "@jupyter-widgets/base",
            "_model_module_version": "1.2.0",
            "_model_name": "LayoutModel",
            "_view_count": null,
            "_view_module": "@jupyter-widgets/base",
            "_view_module_version": "1.2.0",
            "_view_name": "LayoutView",
            "align_content": null,
            "align_items": null,
            "align_self": null,
            "border": null,
            "bottom": null,
            "display": null,
            "flex": null,
            "flex_flow": null,
            "grid_area": null,
            "grid_auto_columns": null,
            "grid_auto_flow": null,
            "grid_auto_rows": null,
            "grid_column": null,
            "grid_gap": null,
            "grid_row": null,
            "grid_template_areas": null,
            "grid_template_columns": null,
            "grid_template_rows": null,
            "height": null,
            "justify_content": null,
            "justify_items": null,
            "left": null,
            "margin": null,
            "max_height": null,
            "max_width": null,
            "min_height": null,
            "min_width": null,
            "object_fit": null,
            "object_position": null,
            "order": null,
            "overflow": null,
            "overflow_x": null,
            "overflow_y": null,
            "padding": null,
            "right": null,
            "top": null,
            "visibility": "hidden",
            "width": null
          }
        },
        "59bc3d4caec14709ac0d5a3bf7b259a2": {
          "model_module": "@jupyter-widgets/controls",
          "model_module_version": "1.5.0",
          "model_name": "FloatProgressModel",
          "state": {
            "_dom_classes": [],
            "_model_module": "@jupyter-widgets/controls",
            "_model_module_version": "1.5.0",
            "_model_name": "FloatProgressModel",
            "_view_count": null,
            "_view_module": "@jupyter-widgets/controls",
            "_view_module_version": "1.5.0",
            "_view_name": "ProgressView",
            "bar_style": "",
            "description": "",
            "description_tooltip": null,
            "layout": "IPY_MODEL_5c67eb3a59dd43f8833ab4f7108e19cc",
            "max": 60,
            "min": 0,
            "orientation": "horizontal",
            "style": "IPY_MODEL_23bc598b17a247348b795e91207b69d3",
            "value": 60
          }
        },
        "5c67eb3a59dd43f8833ab4f7108e19cc": {
          "model_module": "@jupyter-widgets/base",
          "model_module_version": "1.2.0",
          "model_name": "LayoutModel",
          "state": {
            "_model_module": "@jupyter-widgets/base",
            "_model_module_version": "1.2.0",
            "_model_name": "LayoutModel",
            "_view_count": null,
            "_view_module": "@jupyter-widgets/base",
            "_view_module_version": "1.2.0",
            "_view_name": "LayoutView",
            "align_content": null,
            "align_items": null,
            "align_self": null,
            "border": null,
            "bottom": null,
            "display": null,
            "flex": null,
            "flex_flow": null,
            "grid_area": null,
            "grid_auto_columns": null,
            "grid_auto_flow": null,
            "grid_auto_rows": null,
            "grid_column": null,
            "grid_gap": null,
            "grid_row": null,
            "grid_template_areas": null,
            "grid_template_columns": null,
            "grid_template_rows": null,
            "height": null,
            "justify_content": null,
            "justify_items": null,
            "left": null,
            "margin": null,
            "max_height": null,
            "max_width": null,
            "min_height": null,
            "min_width": null,
            "object_fit": null,
            "object_position": null,
            "order": null,
            "overflow": null,
            "overflow_x": null,
            "overflow_y": null,
            "padding": null,
            "right": null,
            "top": null,
            "visibility": null,
            "width": null
          }
        },
        "5d6d4ea6bf7b420da8c4f49a64b51048": {
          "model_module": "@jupyter-widgets/controls",
          "model_module_version": "1.5.0",
          "model_name": "FloatProgressModel",
          "state": {
            "_dom_classes": [],
            "_model_module": "@jupyter-widgets/controls",
            "_model_module_version": "1.5.0",
            "_model_name": "FloatProgressModel",
            "_view_count": null,
            "_view_module": "@jupyter-widgets/controls",
            "_view_module_version": "1.5.0",
            "_view_name": "ProgressView",
            "bar_style": "",
            "description": "",
            "description_tooltip": null,
            "layout": "IPY_MODEL_e2027dee857c457a95cb7cb81b88a9f8",
            "max": 60,
            "min": 0,
            "orientation": "horizontal",
            "style": "IPY_MODEL_adb4128aa9684d7ca2d5bebb96831f55",
            "value": 60
          }
        },
        "5f9d9e5b6f6346e2b952b0e246200e9a": {
          "model_module": "@jupyter-widgets/base",
          "model_module_version": "1.2.0",
          "model_name": "LayoutModel",
          "state": {
            "_model_module": "@jupyter-widgets/base",
            "_model_module_version": "1.2.0",
            "_model_name": "LayoutModel",
            "_view_count": null,
            "_view_module": "@jupyter-widgets/base",
            "_view_module_version": "1.2.0",
            "_view_name": "LayoutView",
            "align_content": null,
            "align_items": null,
            "align_self": null,
            "border": null,
            "bottom": null,
            "display": null,
            "flex": null,
            "flex_flow": null,
            "grid_area": null,
            "grid_auto_columns": null,
            "grid_auto_flow": null,
            "grid_auto_rows": null,
            "grid_column": null,
            "grid_gap": null,
            "grid_row": null,
            "grid_template_areas": null,
            "grid_template_columns": null,
            "grid_template_rows": null,
            "height": null,
            "justify_content": null,
            "justify_items": null,
            "left": null,
            "margin": null,
            "max_height": null,
            "max_width": null,
            "min_height": null,
            "min_width": null,
            "object_fit": null,
            "object_position": null,
            "order": null,
            "overflow": null,
            "overflow_x": null,
            "overflow_y": null,
            "padding": null,
            "right": null,
            "top": null,
            "visibility": null,
            "width": null
          }
        },
        "64f3f109db2a4490bb71bbacb4cbdae6": {
          "model_module": "@jupyter-widgets/base",
          "model_module_version": "1.2.0",
          "model_name": "LayoutModel",
          "state": {
            "_model_module": "@jupyter-widgets/base",
            "_model_module_version": "1.2.0",
            "_model_name": "LayoutModel",
            "_view_count": null,
            "_view_module": "@jupyter-widgets/base",
            "_view_module_version": "1.2.0",
            "_view_name": "LayoutView",
            "align_content": null,
            "align_items": null,
            "align_self": null,
            "border": null,
            "bottom": null,
            "display": null,
            "flex": null,
            "flex_flow": null,
            "grid_area": null,
            "grid_auto_columns": null,
            "grid_auto_flow": null,
            "grid_auto_rows": null,
            "grid_column": null,
            "grid_gap": null,
            "grid_row": null,
            "grid_template_areas": null,
            "grid_template_columns": null,
            "grid_template_rows": null,
            "height": null,
            "justify_content": null,
            "justify_items": null,
            "left": null,
            "margin": null,
            "max_height": null,
            "max_width": null,
            "min_height": null,
            "min_width": null,
            "object_fit": null,
            "object_position": null,
            "order": null,
            "overflow": null,
            "overflow_x": null,
            "overflow_y": null,
            "padding": null,
            "right": null,
            "top": null,
            "visibility": "hidden",
            "width": null
          }
        },
        "687d1dc4ac5d41929711bfe4891ff9fe": {
          "model_module": "@jupyter-widgets/base",
          "model_module_version": "1.2.0",
          "model_name": "LayoutModel",
          "state": {
            "_model_module": "@jupyter-widgets/base",
            "_model_module_version": "1.2.0",
            "_model_name": "LayoutModel",
            "_view_count": null,
            "_view_module": "@jupyter-widgets/base",
            "_view_module_version": "1.2.0",
            "_view_name": "LayoutView",
            "align_content": null,
            "align_items": null,
            "align_self": null,
            "border": null,
            "bottom": null,
            "display": null,
            "flex": null,
            "flex_flow": null,
            "grid_area": null,
            "grid_auto_columns": null,
            "grid_auto_flow": null,
            "grid_auto_rows": null,
            "grid_column": null,
            "grid_gap": null,
            "grid_row": null,
            "grid_template_areas": null,
            "grid_template_columns": null,
            "grid_template_rows": null,
            "height": null,
            "justify_content": null,
            "justify_items": null,
            "left": null,
            "margin": null,
            "max_height": null,
            "max_width": null,
            "min_height": null,
            "min_width": null,
            "object_fit": null,
            "object_position": null,
            "order": null,
            "overflow": null,
            "overflow_x": null,
            "overflow_y": null,
            "padding": null,
            "right": null,
            "top": null,
            "visibility": null,
            "width": null
          }
        },
        "6c6777a12714419bbca667f9a6eeba5b": {
          "model_module": "@jupyter-widgets/base",
          "model_module_version": "1.2.0",
          "model_name": "LayoutModel",
          "state": {
            "_model_module": "@jupyter-widgets/base",
            "_model_module_version": "1.2.0",
            "_model_name": "LayoutModel",
            "_view_count": null,
            "_view_module": "@jupyter-widgets/base",
            "_view_module_version": "1.2.0",
            "_view_name": "LayoutView",
            "align_content": null,
            "align_items": null,
            "align_self": null,
            "border": null,
            "bottom": null,
            "display": null,
            "flex": null,
            "flex_flow": null,
            "grid_area": null,
            "grid_auto_columns": null,
            "grid_auto_flow": null,
            "grid_auto_rows": null,
            "grid_column": null,
            "grid_gap": null,
            "grid_row": null,
            "grid_template_areas": null,
            "grid_template_columns": null,
            "grid_template_rows": null,
            "height": null,
            "justify_content": null,
            "justify_items": null,
            "left": null,
            "margin": null,
            "max_height": null,
            "max_width": null,
            "min_height": null,
            "min_width": null,
            "object_fit": null,
            "object_position": null,
            "order": null,
            "overflow": null,
            "overflow_x": null,
            "overflow_y": null,
            "padding": null,
            "right": null,
            "top": null,
            "visibility": null,
            "width": null
          }
        },
        "6d44aa827b794b169bbcffcb1879131f": {
          "model_module": "@jupyter-widgets/base",
          "model_module_version": "1.2.0",
          "model_name": "LayoutModel",
          "state": {
            "_model_module": "@jupyter-widgets/base",
            "_model_module_version": "1.2.0",
            "_model_name": "LayoutModel",
            "_view_count": null,
            "_view_module": "@jupyter-widgets/base",
            "_view_module_version": "1.2.0",
            "_view_name": "LayoutView",
            "align_content": null,
            "align_items": null,
            "align_self": null,
            "border": null,
            "bottom": null,
            "display": null,
            "flex": null,
            "flex_flow": null,
            "grid_area": null,
            "grid_auto_columns": null,
            "grid_auto_flow": null,
            "grid_auto_rows": null,
            "grid_column": null,
            "grid_gap": null,
            "grid_row": null,
            "grid_template_areas": null,
            "grid_template_columns": null,
            "grid_template_rows": null,
            "height": null,
            "justify_content": null,
            "justify_items": null,
            "left": null,
            "margin": null,
            "max_height": null,
            "max_width": null,
            "min_height": null,
            "min_width": null,
            "object_fit": null,
            "object_position": null,
            "order": null,
            "overflow": null,
            "overflow_x": null,
            "overflow_y": null,
            "padding": null,
            "right": null,
            "top": null,
            "visibility": null,
            "width": null
          }
        },
        "6f0df854c46f471aac09e3c44dbd8297": {
          "model_module": "@jupyter-widgets/controls",
          "model_module_version": "1.5.0",
          "model_name": "HBoxModel",
          "state": {
            "_dom_classes": [],
            "_model_module": "@jupyter-widgets/controls",
            "_model_module_version": "1.5.0",
            "_model_name": "HBoxModel",
            "_view_count": null,
            "_view_module": "@jupyter-widgets/controls",
            "_view_module_version": "1.5.0",
            "_view_name": "HBoxView",
            "box_style": "",
            "children": [
              "IPY_MODEL_8bf8b319fd35459b85bd37c209209c46",
              "IPY_MODEL_5d6d4ea6bf7b420da8c4f49a64b51048",
              "IPY_MODEL_fb3969571d424d20b673b941ebf680e8"
            ],
            "layout": "IPY_MODEL_082969f91b324685ac5dc686b4e37a1e"
          }
        },
        "7613fec5999749c7ad64355858b30aa2": {
          "model_module": "@jupyter-widgets/controls",
          "model_module_version": "1.5.0",
          "model_name": "HBoxModel",
          "state": {
            "_dom_classes": [],
            "_model_module": "@jupyter-widgets/controls",
            "_model_module_version": "1.5.0",
            "_model_name": "HBoxModel",
            "_view_count": null,
            "_view_module": "@jupyter-widgets/controls",
            "_view_module_version": "1.5.0",
            "_view_name": "HBoxView",
            "box_style": "",
            "children": [
              "IPY_MODEL_111799d762f44526a7bcef410dff3d21",
              "IPY_MODEL_833c06bd814f44c2a483665f0abc5cd2",
              "IPY_MODEL_bda2a18f45cc40a4b52c1436d016e0af"
            ],
            "layout": "IPY_MODEL_5987d5e4660b4d2f822140e00e21bf1e"
          }
        },
        "7cab9a64ce264f7ab8e56621add5dcf3": {
          "model_module": "@jupyter-widgets/controls",
          "model_module_version": "1.5.0",
          "model_name": "ProgressStyleModel",
          "state": {
            "_model_module": "@jupyter-widgets/controls",
            "_model_module_version": "1.5.0",
            "_model_name": "ProgressStyleModel",
            "_view_count": null,
            "_view_module": "@jupyter-widgets/base",
            "_view_module_version": "1.2.0",
            "_view_name": "StyleView",
            "bar_color": null,
            "description_width": ""
          }
        },
        "7cec0b7165814584848f4a96de85cbca": {
          "model_module": "@jupyter-widgets/controls",
          "model_module_version": "1.5.0",
          "model_name": "DescriptionStyleModel",
          "state": {
            "_model_module": "@jupyter-widgets/controls",
            "_model_module_version": "1.5.0",
            "_model_name": "DescriptionStyleModel",
            "_view_count": null,
            "_view_module": "@jupyter-widgets/base",
            "_view_module_version": "1.2.0",
            "_view_name": "StyleView",
            "description_width": ""
          }
        },
        "7d674997e21c490c82ef27f7eb2940b3": {
          "model_module": "@jupyter-widgets/controls",
          "model_module_version": "1.5.0",
          "model_name": "HBoxModel",
          "state": {
            "_dom_classes": [],
            "_model_module": "@jupyter-widgets/controls",
            "_model_module_version": "1.5.0",
            "_model_name": "HBoxModel",
            "_view_count": null,
            "_view_module": "@jupyter-widgets/controls",
            "_view_module_version": "1.5.0",
            "_view_name": "HBoxView",
            "box_style": "",
            "children": [
              "IPY_MODEL_a7b57e0a78be4819bbd9176ea59dd1a0",
              "IPY_MODEL_919a34601e88473eb2a6073f53daa6a6",
              "IPY_MODEL_229b5bd1c66c424ea523cd7cfe485223"
            ],
            "layout": "IPY_MODEL_64f3f109db2a4490bb71bbacb4cbdae6"
          }
        },
        "8108b70e9e70493abe9c97673a52e7c1": {
          "model_module": "@jupyter-widgets/base",
          "model_module_version": "1.2.0",
          "model_name": "LayoutModel",
          "state": {
            "_model_module": "@jupyter-widgets/base",
            "_model_module_version": "1.2.0",
            "_model_name": "LayoutModel",
            "_view_count": null,
            "_view_module": "@jupyter-widgets/base",
            "_view_module_version": "1.2.0",
            "_view_name": "LayoutView",
            "align_content": null,
            "align_items": null,
            "align_self": null,
            "border": null,
            "bottom": null,
            "display": null,
            "flex": null,
            "flex_flow": null,
            "grid_area": null,
            "grid_auto_columns": null,
            "grid_auto_flow": null,
            "grid_auto_rows": null,
            "grid_column": null,
            "grid_gap": null,
            "grid_row": null,
            "grid_template_areas": null,
            "grid_template_columns": null,
            "grid_template_rows": null,
            "height": null,
            "justify_content": null,
            "justify_items": null,
            "left": null,
            "margin": null,
            "max_height": null,
            "max_width": null,
            "min_height": null,
            "min_width": null,
            "object_fit": null,
            "object_position": null,
            "order": null,
            "overflow": null,
            "overflow_x": null,
            "overflow_y": null,
            "padding": null,
            "right": null,
            "top": null,
            "visibility": "hidden",
            "width": null
          }
        },
        "812080d7e771489a9992f691db7dbb42": {
          "model_module": "@jupyter-widgets/controls",
          "model_module_version": "1.5.0",
          "model_name": "DescriptionStyleModel",
          "state": {
            "_model_module": "@jupyter-widgets/controls",
            "_model_module_version": "1.5.0",
            "_model_name": "DescriptionStyleModel",
            "_view_count": null,
            "_view_module": "@jupyter-widgets/base",
            "_view_module_version": "1.2.0",
            "_view_name": "StyleView",
            "description_width": ""
          }
        },
        "833c06bd814f44c2a483665f0abc5cd2": {
          "model_module": "@jupyter-widgets/controls",
          "model_module_version": "1.5.0",
          "model_name": "FloatProgressModel",
          "state": {
            "_dom_classes": [],
            "_model_module": "@jupyter-widgets/controls",
            "_model_module_version": "1.5.0",
            "_model_name": "FloatProgressModel",
            "_view_count": null,
            "_view_module": "@jupyter-widgets/controls",
            "_view_module_version": "1.5.0",
            "_view_name": "ProgressView",
            "bar_style": "",
            "description": "",
            "description_tooltip": null,
            "layout": "IPY_MODEL_6c6777a12714419bbca667f9a6eeba5b",
            "max": 60,
            "min": 0,
            "orientation": "horizontal",
            "style": "IPY_MODEL_04e4b75c24b9417693a74c07b6a9b3d6",
            "value": 60
          }
        },
        "85b4f64125454e3bba6cee3cdd73fa7c": {
          "model_module": "@jupyter-widgets/base",
          "model_module_version": "1.2.0",
          "model_name": "LayoutModel",
          "state": {
            "_model_module": "@jupyter-widgets/base",
            "_model_module_version": "1.2.0",
            "_model_name": "LayoutModel",
            "_view_count": null,
            "_view_module": "@jupyter-widgets/base",
            "_view_module_version": "1.2.0",
            "_view_name": "LayoutView",
            "align_content": null,
            "align_items": null,
            "align_self": null,
            "border": null,
            "bottom": null,
            "display": null,
            "flex": null,
            "flex_flow": null,
            "grid_area": null,
            "grid_auto_columns": null,
            "grid_auto_flow": null,
            "grid_auto_rows": null,
            "grid_column": null,
            "grid_gap": null,
            "grid_row": null,
            "grid_template_areas": null,
            "grid_template_columns": null,
            "grid_template_rows": null,
            "height": null,
            "justify_content": null,
            "justify_items": null,
            "left": null,
            "margin": null,
            "max_height": null,
            "max_width": null,
            "min_height": null,
            "min_width": null,
            "object_fit": null,
            "object_position": null,
            "order": null,
            "overflow": null,
            "overflow_x": null,
            "overflow_y": null,
            "padding": null,
            "right": null,
            "top": null,
            "visibility": null,
            "width": null
          }
        },
        "8b84ddf5431c4af1be40d17cd50f46a4": {
          "model_module": "@jupyter-widgets/base",
          "model_module_version": "1.2.0",
          "model_name": "LayoutModel",
          "state": {
            "_model_module": "@jupyter-widgets/base",
            "_model_module_version": "1.2.0",
            "_model_name": "LayoutModel",
            "_view_count": null,
            "_view_module": "@jupyter-widgets/base",
            "_view_module_version": "1.2.0",
            "_view_name": "LayoutView",
            "align_content": null,
            "align_items": null,
            "align_self": null,
            "border": null,
            "bottom": null,
            "display": null,
            "flex": null,
            "flex_flow": null,
            "grid_area": null,
            "grid_auto_columns": null,
            "grid_auto_flow": null,
            "grid_auto_rows": null,
            "grid_column": null,
            "grid_gap": null,
            "grid_row": null,
            "grid_template_areas": null,
            "grid_template_columns": null,
            "grid_template_rows": null,
            "height": null,
            "justify_content": null,
            "justify_items": null,
            "left": null,
            "margin": null,
            "max_height": null,
            "max_width": null,
            "min_height": null,
            "min_width": null,
            "object_fit": null,
            "object_position": null,
            "order": null,
            "overflow": null,
            "overflow_x": null,
            "overflow_y": null,
            "padding": null,
            "right": null,
            "top": null,
            "visibility": null,
            "width": null
          }
        },
        "8bf8b319fd35459b85bd37c209209c46": {
          "model_module": "@jupyter-widgets/controls",
          "model_module_version": "1.5.0",
          "model_name": "HTMLModel",
          "state": {
            "_dom_classes": [],
            "_model_module": "@jupyter-widgets/controls",
            "_model_module_version": "1.5.0",
            "_model_name": "HTMLModel",
            "_view_count": null,
            "_view_module": "@jupyter-widgets/controls",
            "_view_module_version": "1.5.0",
            "_view_name": "HTMLView",
            "description": "",
            "description_tooltip": null,
            "layout": "IPY_MODEL_6d44aa827b794b169bbcffcb1879131f",
            "placeholder": "​",
            "style": "IPY_MODEL_f70656ab9de54516aae2e9458cbb96e9",
            "value": "100%"
          }
        },
        "8c6ccf26cdab4058a43dfd1bf32b43c2": {
          "model_module": "@jupyter-widgets/base",
          "model_module_version": "1.2.0",
          "model_name": "LayoutModel",
          "state": {
            "_model_module": "@jupyter-widgets/base",
            "_model_module_version": "1.2.0",
            "_model_name": "LayoutModel",
            "_view_count": null,
            "_view_module": "@jupyter-widgets/base",
            "_view_module_version": "1.2.0",
            "_view_name": "LayoutView",
            "align_content": null,
            "align_items": null,
            "align_self": null,
            "border": null,
            "bottom": null,
            "display": null,
            "flex": null,
            "flex_flow": null,
            "grid_area": null,
            "grid_auto_columns": null,
            "grid_auto_flow": null,
            "grid_auto_rows": null,
            "grid_column": null,
            "grid_gap": null,
            "grid_row": null,
            "grid_template_areas": null,
            "grid_template_columns": null,
            "grid_template_rows": null,
            "height": null,
            "justify_content": null,
            "justify_items": null,
            "left": null,
            "margin": null,
            "max_height": null,
            "max_width": null,
            "min_height": null,
            "min_width": null,
            "object_fit": null,
            "object_position": null,
            "order": null,
            "overflow": null,
            "overflow_x": null,
            "overflow_y": null,
            "padding": null,
            "right": null,
            "top": null,
            "visibility": null,
            "width": null
          }
        },
        "8cea1716552a4787a87ff058251000b9": {
          "model_module": "@jupyter-widgets/base",
          "model_module_version": "1.2.0",
          "model_name": "LayoutModel",
          "state": {
            "_model_module": "@jupyter-widgets/base",
            "_model_module_version": "1.2.0",
            "_model_name": "LayoutModel",
            "_view_count": null,
            "_view_module": "@jupyter-widgets/base",
            "_view_module_version": "1.2.0",
            "_view_name": "LayoutView",
            "align_content": null,
            "align_items": null,
            "align_self": null,
            "border": null,
            "bottom": null,
            "display": null,
            "flex": null,
            "flex_flow": null,
            "grid_area": null,
            "grid_auto_columns": null,
            "grid_auto_flow": null,
            "grid_auto_rows": null,
            "grid_column": null,
            "grid_gap": null,
            "grid_row": null,
            "grid_template_areas": null,
            "grid_template_columns": null,
            "grid_template_rows": null,
            "height": null,
            "justify_content": null,
            "justify_items": null,
            "left": null,
            "margin": null,
            "max_height": null,
            "max_width": null,
            "min_height": null,
            "min_width": null,
            "object_fit": null,
            "object_position": null,
            "order": null,
            "overflow": null,
            "overflow_x": null,
            "overflow_y": null,
            "padding": null,
            "right": null,
            "top": null,
            "visibility": null,
            "width": null
          }
        },
        "919a34601e88473eb2a6073f53daa6a6": {
          "model_module": "@jupyter-widgets/controls",
          "model_module_version": "1.5.0",
          "model_name": "FloatProgressModel",
          "state": {
            "_dom_classes": [],
            "_model_module": "@jupyter-widgets/controls",
            "_model_module_version": "1.5.0",
            "_model_name": "FloatProgressModel",
            "_view_count": null,
            "_view_module": "@jupyter-widgets/controls",
            "_view_module_version": "1.5.0",
            "_view_name": "ProgressView",
            "bar_style": "",
            "description": "",
            "description_tooltip": null,
            "layout": "IPY_MODEL_bcfb86d2ab21424b9c6a300b665d1b64",
            "max": 60,
            "min": 0,
            "orientation": "horizontal",
            "style": "IPY_MODEL_e6dd373ff4dc4937b57d0a82a386d307",
            "value": 60
          }
        },
        "99ba717774c64606990d30e0823a1271": {
          "model_module": "@jupyter-widgets/controls",
          "model_module_version": "1.5.0",
          "model_name": "HBoxModel",
          "state": {
            "_dom_classes": [],
            "_model_module": "@jupyter-widgets/controls",
            "_model_module_version": "1.5.0",
            "_model_name": "HBoxModel",
            "_view_count": null,
            "_view_module": "@jupyter-widgets/controls",
            "_view_module_version": "1.5.0",
            "_view_name": "HBoxView",
            "box_style": "",
            "children": [
              "IPY_MODEL_58d3002e0ea540199589d5a4c66fd3f0",
              "IPY_MODEL_59bc3d4caec14709ac0d5a3bf7b259a2",
              "IPY_MODEL_165ceb08d71d44e3a1421814bd202602"
            ],
            "layout": "IPY_MODEL_8108b70e9e70493abe9c97673a52e7c1"
          }
        },
        "9a99864f0e7d4b4598d52c8a068fda37": {
          "model_module": "@jupyter-widgets/base",
          "model_module_version": "1.2.0",
          "model_name": "LayoutModel",
          "state": {
            "_model_module": "@jupyter-widgets/base",
            "_model_module_version": "1.2.0",
            "_model_name": "LayoutModel",
            "_view_count": null,
            "_view_module": "@jupyter-widgets/base",
            "_view_module_version": "1.2.0",
            "_view_name": "LayoutView",
            "align_content": null,
            "align_items": null,
            "align_self": null,
            "border": null,
            "bottom": null,
            "display": null,
            "flex": null,
            "flex_flow": null,
            "grid_area": null,
            "grid_auto_columns": null,
            "grid_auto_flow": null,
            "grid_auto_rows": null,
            "grid_column": null,
            "grid_gap": null,
            "grid_row": null,
            "grid_template_areas": null,
            "grid_template_columns": null,
            "grid_template_rows": null,
            "height": null,
            "justify_content": null,
            "justify_items": null,
            "left": null,
            "margin": null,
            "max_height": null,
            "max_width": null,
            "min_height": null,
            "min_width": null,
            "object_fit": null,
            "object_position": null,
            "order": null,
            "overflow": null,
            "overflow_x": null,
            "overflow_y": null,
            "padding": null,
            "right": null,
            "top": null,
            "visibility": null,
            "width": null
          }
        },
        "9d40d9f9c62f41e4a97ad5ec55063ffb": {
          "model_module": "@jupyter-widgets/base",
          "model_module_version": "1.2.0",
          "model_name": "LayoutModel",
          "state": {
            "_model_module": "@jupyter-widgets/base",
            "_model_module_version": "1.2.0",
            "_model_name": "LayoutModel",
            "_view_count": null,
            "_view_module": "@jupyter-widgets/base",
            "_view_module_version": "1.2.0",
            "_view_name": "LayoutView",
            "align_content": null,
            "align_items": null,
            "align_self": null,
            "border": null,
            "bottom": null,
            "display": null,
            "flex": null,
            "flex_flow": null,
            "grid_area": null,
            "grid_auto_columns": null,
            "grid_auto_flow": null,
            "grid_auto_rows": null,
            "grid_column": null,
            "grid_gap": null,
            "grid_row": null,
            "grid_template_areas": null,
            "grid_template_columns": null,
            "grid_template_rows": null,
            "height": null,
            "justify_content": null,
            "justify_items": null,
            "left": null,
            "margin": null,
            "max_height": null,
            "max_width": null,
            "min_height": null,
            "min_width": null,
            "object_fit": null,
            "object_position": null,
            "order": null,
            "overflow": null,
            "overflow_x": null,
            "overflow_y": null,
            "padding": null,
            "right": null,
            "top": null,
            "visibility": null,
            "width": null
          }
        },
        "9f87c47a69cb4010a3c94620d496e30e": {
          "model_module": "@jupyter-widgets/controls",
          "model_module_version": "1.5.0",
          "model_name": "DescriptionStyleModel",
          "state": {
            "_model_module": "@jupyter-widgets/controls",
            "_model_module_version": "1.5.0",
            "_model_name": "DescriptionStyleModel",
            "_view_count": null,
            "_view_module": "@jupyter-widgets/base",
            "_view_module_version": "1.2.0",
            "_view_name": "StyleView",
            "description_width": ""
          }
        },
        "a092293a1c0a4109bdf6d9c80e79eba8": {
          "model_module": "@jupyter-widgets/controls",
          "model_module_version": "1.5.0",
          "model_name": "DescriptionStyleModel",
          "state": {
            "_model_module": "@jupyter-widgets/controls",
            "_model_module_version": "1.5.0",
            "_model_name": "DescriptionStyleModel",
            "_view_count": null,
            "_view_module": "@jupyter-widgets/base",
            "_view_module_version": "1.2.0",
            "_view_name": "StyleView",
            "description_width": ""
          }
        },
        "a0e66fcd14d24cf9926554198b9a65fc": {
          "model_module": "@jupyter-widgets/controls",
          "model_module_version": "1.5.0",
          "model_name": "HBoxModel",
          "state": {
            "_dom_classes": [],
            "_model_module": "@jupyter-widgets/controls",
            "_model_module_version": "1.5.0",
            "_model_name": "HBoxModel",
            "_view_count": null,
            "_view_module": "@jupyter-widgets/controls",
            "_view_module_version": "1.5.0",
            "_view_name": "HBoxView",
            "box_style": "",
            "children": [
              "IPY_MODEL_045573e73ee345989e5b83481d0a2475",
              "IPY_MODEL_b1e8792269d249b5a452d5e9a2cf2a0c",
              "IPY_MODEL_4bd797554f6341ada7c0281d67a44168"
            ],
            "layout": "IPY_MODEL_d970ae514d7b44058f3675c97ff9a65a"
          }
        },
        "a7b57e0a78be4819bbd9176ea59dd1a0": {
          "model_module": "@jupyter-widgets/controls",
          "model_module_version": "1.5.0",
          "model_name": "HTMLModel",
          "state": {
            "_dom_classes": [],
            "_model_module": "@jupyter-widgets/controls",
            "_model_module_version": "1.5.0",
            "_model_name": "HTMLModel",
            "_view_count": null,
            "_view_module": "@jupyter-widgets/controls",
            "_view_module_version": "1.5.0",
            "_view_name": "HTMLView",
            "description": "",
            "description_tooltip": null,
            "layout": "IPY_MODEL_d0f38dc6b824403c837a80cafc46f038",
            "placeholder": "​",
            "style": "IPY_MODEL_812080d7e771489a9992f691db7dbb42",
            "value": "100%"
          }
        },
        "aa909094d16844fd96bde361bfe97e6c": {
          "model_module": "@jupyter-widgets/controls",
          "model_module_version": "1.5.0",
          "model_name": "ProgressStyleModel",
          "state": {
            "_model_module": "@jupyter-widgets/controls",
            "_model_module_version": "1.5.0",
            "_model_name": "ProgressStyleModel",
            "_view_count": null,
            "_view_module": "@jupyter-widgets/base",
            "_view_module_version": "1.2.0",
            "_view_name": "StyleView",
            "bar_color": null,
            "description_width": ""
          }
        },
        "adb4128aa9684d7ca2d5bebb96831f55": {
          "model_module": "@jupyter-widgets/controls",
          "model_module_version": "1.5.0",
          "model_name": "ProgressStyleModel",
          "state": {
            "_model_module": "@jupyter-widgets/controls",
            "_model_module_version": "1.5.0",
            "_model_name": "ProgressStyleModel",
            "_view_count": null,
            "_view_module": "@jupyter-widgets/base",
            "_view_module_version": "1.2.0",
            "_view_name": "StyleView",
            "bar_color": null,
            "description_width": ""
          }
        },
        "b1e8792269d249b5a452d5e9a2cf2a0c": {
          "model_module": "@jupyter-widgets/controls",
          "model_module_version": "1.5.0",
          "model_name": "FloatProgressModel",
          "state": {
            "_dom_classes": [],
            "_model_module": "@jupyter-widgets/controls",
            "_model_module_version": "1.5.0",
            "_model_name": "FloatProgressModel",
            "_view_count": null,
            "_view_module": "@jupyter-widgets/controls",
            "_view_module_version": "1.5.0",
            "_view_name": "ProgressView",
            "bar_style": "",
            "description": "",
            "description_tooltip": null,
            "layout": "IPY_MODEL_251455e693a44ad3b4940dd31bcb2659",
            "max": 60,
            "min": 0,
            "orientation": "horizontal",
            "style": "IPY_MODEL_7cab9a64ce264f7ab8e56621add5dcf3",
            "value": 60
          }
        },
        "b7bc4c06ea5f4b83aa8468620a8e2a2d": {
          "model_module": "@jupyter-widgets/controls",
          "model_module_version": "1.5.0",
          "model_name": "DescriptionStyleModel",
          "state": {
            "_model_module": "@jupyter-widgets/controls",
            "_model_module_version": "1.5.0",
            "_model_name": "DescriptionStyleModel",
            "_view_count": null,
            "_view_module": "@jupyter-widgets/base",
            "_view_module_version": "1.2.0",
            "_view_name": "StyleView",
            "description_width": ""
          }
        },
        "bcfb86d2ab21424b9c6a300b665d1b64": {
          "model_module": "@jupyter-widgets/base",
          "model_module_version": "1.2.0",
          "model_name": "LayoutModel",
          "state": {
            "_model_module": "@jupyter-widgets/base",
            "_model_module_version": "1.2.0",
            "_model_name": "LayoutModel",
            "_view_count": null,
            "_view_module": "@jupyter-widgets/base",
            "_view_module_version": "1.2.0",
            "_view_name": "LayoutView",
            "align_content": null,
            "align_items": null,
            "align_self": null,
            "border": null,
            "bottom": null,
            "display": null,
            "flex": null,
            "flex_flow": null,
            "grid_area": null,
            "grid_auto_columns": null,
            "grid_auto_flow": null,
            "grid_auto_rows": null,
            "grid_column": null,
            "grid_gap": null,
            "grid_row": null,
            "grid_template_areas": null,
            "grid_template_columns": null,
            "grid_template_rows": null,
            "height": null,
            "justify_content": null,
            "justify_items": null,
            "left": null,
            "margin": null,
            "max_height": null,
            "max_width": null,
            "min_height": null,
            "min_width": null,
            "object_fit": null,
            "object_position": null,
            "order": null,
            "overflow": null,
            "overflow_x": null,
            "overflow_y": null,
            "padding": null,
            "right": null,
            "top": null,
            "visibility": null,
            "width": null
          }
        },
        "bda2a18f45cc40a4b52c1436d016e0af": {
          "model_module": "@jupyter-widgets/controls",
          "model_module_version": "1.5.0",
          "model_name": "HTMLModel",
          "state": {
            "_dom_classes": [],
            "_model_module": "@jupyter-widgets/controls",
            "_model_module_version": "1.5.0",
            "_model_name": "HTMLModel",
            "_view_count": null,
            "_view_module": "@jupyter-widgets/controls",
            "_view_module_version": "1.5.0",
            "_view_name": "HTMLView",
            "description": "",
            "description_tooltip": null,
            "layout": "IPY_MODEL_5f9d9e5b6f6346e2b952b0e246200e9a",
            "placeholder": "​",
            "style": "IPY_MODEL_f0fc29083c93441d8a20eebb8c2a4190",
            "value": " 60/60 [00:07&lt;00:00,  6.53it/s]"
          }
        },
        "cbd9fb7e6b204e1aa76b3386ed779567": {
          "model_module": "@jupyter-widgets/controls",
          "model_module_version": "1.5.0",
          "model_name": "HTMLModel",
          "state": {
            "_dom_classes": [],
            "_model_module": "@jupyter-widgets/controls",
            "_model_module_version": "1.5.0",
            "_model_name": "HTMLModel",
            "_view_count": null,
            "_view_module": "@jupyter-widgets/controls",
            "_view_module_version": "1.5.0",
            "_view_name": "HTMLView",
            "description": "",
            "description_tooltip": null,
            "layout": "IPY_MODEL_9d40d9f9c62f41e4a97ad5ec55063ffb",
            "placeholder": "​",
            "style": "IPY_MODEL_4c0b3c049abc4086ac67d4440c9f0aaf",
            "value": " 5/5 [00:44&lt;00:00,  8.10s/it]"
          }
        },
        "d0f38dc6b824403c837a80cafc46f038": {
          "model_module": "@jupyter-widgets/base",
          "model_module_version": "1.2.0",
          "model_name": "LayoutModel",
          "state": {
            "_model_module": "@jupyter-widgets/base",
            "_model_module_version": "1.2.0",
            "_model_name": "LayoutModel",
            "_view_count": null,
            "_view_module": "@jupyter-widgets/base",
            "_view_module_version": "1.2.0",
            "_view_name": "LayoutView",
            "align_content": null,
            "align_items": null,
            "align_self": null,
            "border": null,
            "bottom": null,
            "display": null,
            "flex": null,
            "flex_flow": null,
            "grid_area": null,
            "grid_auto_columns": null,
            "grid_auto_flow": null,
            "grid_auto_rows": null,
            "grid_column": null,
            "grid_gap": null,
            "grid_row": null,
            "grid_template_areas": null,
            "grid_template_columns": null,
            "grid_template_rows": null,
            "height": null,
            "justify_content": null,
            "justify_items": null,
            "left": null,
            "margin": null,
            "max_height": null,
            "max_width": null,
            "min_height": null,
            "min_width": null,
            "object_fit": null,
            "object_position": null,
            "order": null,
            "overflow": null,
            "overflow_x": null,
            "overflow_y": null,
            "padding": null,
            "right": null,
            "top": null,
            "visibility": null,
            "width": null
          }
        },
        "d970ae514d7b44058f3675c97ff9a65a": {
          "model_module": "@jupyter-widgets/base",
          "model_module_version": "1.2.0",
          "model_name": "LayoutModel",
          "state": {
            "_model_module": "@jupyter-widgets/base",
            "_model_module_version": "1.2.0",
            "_model_name": "LayoutModel",
            "_view_count": null,
            "_view_module": "@jupyter-widgets/base",
            "_view_module_version": "1.2.0",
            "_view_name": "LayoutView",
            "align_content": null,
            "align_items": null,
            "align_self": null,
            "border": null,
            "bottom": null,
            "display": null,
            "flex": null,
            "flex_flow": null,
            "grid_area": null,
            "grid_auto_columns": null,
            "grid_auto_flow": null,
            "grid_auto_rows": null,
            "grid_column": null,
            "grid_gap": null,
            "grid_row": null,
            "grid_template_areas": null,
            "grid_template_columns": null,
            "grid_template_rows": null,
            "height": null,
            "justify_content": null,
            "justify_items": null,
            "left": null,
            "margin": null,
            "max_height": null,
            "max_width": null,
            "min_height": null,
            "min_width": null,
            "object_fit": null,
            "object_position": null,
            "order": null,
            "overflow": null,
            "overflow_x": null,
            "overflow_y": null,
            "padding": null,
            "right": null,
            "top": null,
            "visibility": "hidden",
            "width": null
          }
        },
        "e028b639f5fb4b159457c5b1a68e3ca4": {
          "model_module": "@jupyter-widgets/controls",
          "model_module_version": "1.5.0",
          "model_name": "FloatProgressModel",
          "state": {
            "_dom_classes": [],
            "_model_module": "@jupyter-widgets/controls",
            "_model_module_version": "1.5.0",
            "_model_name": "FloatProgressModel",
            "_view_count": null,
            "_view_module": "@jupyter-widgets/controls",
            "_view_module_version": "1.5.0",
            "_view_name": "ProgressView",
            "bar_style": "success",
            "description": "",
            "description_tooltip": null,
            "layout": "IPY_MODEL_14df7fbe192a44db813be8692e355c94",
            "max": 5,
            "min": 0,
            "orientation": "horizontal",
            "style": "IPY_MODEL_aa909094d16844fd96bde361bfe97e6c",
            "value": 5
          }
        },
        "e05de9a34ed440bebc442ef49e1a602c": {
          "model_module": "@jupyter-widgets/controls",
          "model_module_version": "1.5.0",
          "model_name": "DescriptionStyleModel",
          "state": {
            "_model_module": "@jupyter-widgets/controls",
            "_model_module_version": "1.5.0",
            "_model_name": "DescriptionStyleModel",
            "_view_count": null,
            "_view_module": "@jupyter-widgets/base",
            "_view_module_version": "1.2.0",
            "_view_name": "StyleView",
            "description_width": ""
          }
        },
        "e2027dee857c457a95cb7cb81b88a9f8": {
          "model_module": "@jupyter-widgets/base",
          "model_module_version": "1.2.0",
          "model_name": "LayoutModel",
          "state": {
            "_model_module": "@jupyter-widgets/base",
            "_model_module_version": "1.2.0",
            "_model_name": "LayoutModel",
            "_view_count": null,
            "_view_module": "@jupyter-widgets/base",
            "_view_module_version": "1.2.0",
            "_view_name": "LayoutView",
            "align_content": null,
            "align_items": null,
            "align_self": null,
            "border": null,
            "bottom": null,
            "display": null,
            "flex": null,
            "flex_flow": null,
            "grid_area": null,
            "grid_auto_columns": null,
            "grid_auto_flow": null,
            "grid_auto_rows": null,
            "grid_column": null,
            "grid_gap": null,
            "grid_row": null,
            "grid_template_areas": null,
            "grid_template_columns": null,
            "grid_template_rows": null,
            "height": null,
            "justify_content": null,
            "justify_items": null,
            "left": null,
            "margin": null,
            "max_height": null,
            "max_width": null,
            "min_height": null,
            "min_width": null,
            "object_fit": null,
            "object_position": null,
            "order": null,
            "overflow": null,
            "overflow_x": null,
            "overflow_y": null,
            "padding": null,
            "right": null,
            "top": null,
            "visibility": null,
            "width": null
          }
        },
        "e6dd373ff4dc4937b57d0a82a386d307": {
          "model_module": "@jupyter-widgets/controls",
          "model_module_version": "1.5.0",
          "model_name": "ProgressStyleModel",
          "state": {
            "_model_module": "@jupyter-widgets/controls",
            "_model_module_version": "1.5.0",
            "_model_name": "ProgressStyleModel",
            "_view_count": null,
            "_view_module": "@jupyter-widgets/base",
            "_view_module_version": "1.2.0",
            "_view_name": "StyleView",
            "bar_color": null,
            "description_width": ""
          }
        },
        "eda37397b2dd4f05bc8ac9016f271d7b": {
          "model_module": "@jupyter-widgets/base",
          "model_module_version": "1.2.0",
          "model_name": "LayoutModel",
          "state": {
            "_model_module": "@jupyter-widgets/base",
            "_model_module_version": "1.2.0",
            "_model_name": "LayoutModel",
            "_view_count": null,
            "_view_module": "@jupyter-widgets/base",
            "_view_module_version": "1.2.0",
            "_view_name": "LayoutView",
            "align_content": null,
            "align_items": null,
            "align_self": null,
            "border": null,
            "bottom": null,
            "display": null,
            "flex": null,
            "flex_flow": null,
            "grid_area": null,
            "grid_auto_columns": null,
            "grid_auto_flow": null,
            "grid_auto_rows": null,
            "grid_column": null,
            "grid_gap": null,
            "grid_row": null,
            "grid_template_areas": null,
            "grid_template_columns": null,
            "grid_template_rows": null,
            "height": null,
            "justify_content": null,
            "justify_items": null,
            "left": null,
            "margin": null,
            "max_height": null,
            "max_width": null,
            "min_height": null,
            "min_width": null,
            "object_fit": null,
            "object_position": null,
            "order": null,
            "overflow": null,
            "overflow_x": null,
            "overflow_y": null,
            "padding": null,
            "right": null,
            "top": null,
            "visibility": null,
            "width": null
          }
        },
        "eef9d8a8561d41d284b5640a0ceb8369": {
          "model_module": "@jupyter-widgets/controls",
          "model_module_version": "1.5.0",
          "model_name": "HTMLModel",
          "state": {
            "_dom_classes": [],
            "_model_module": "@jupyter-widgets/controls",
            "_model_module_version": "1.5.0",
            "_model_name": "HTMLModel",
            "_view_count": null,
            "_view_module": "@jupyter-widgets/controls",
            "_view_module_version": "1.5.0",
            "_view_name": "HTMLView",
            "description": "",
            "description_tooltip": null,
            "layout": "IPY_MODEL_8b84ddf5431c4af1be40d17cd50f46a4",
            "placeholder": "​",
            "style": "IPY_MODEL_0fe51b12ced44df0af0fe4ef51240c12",
            "value": "100%"
          }
        },
        "f0fc29083c93441d8a20eebb8c2a4190": {
          "model_module": "@jupyter-widgets/controls",
          "model_module_version": "1.5.0",
          "model_name": "DescriptionStyleModel",
          "state": {
            "_model_module": "@jupyter-widgets/controls",
            "_model_module_version": "1.5.0",
            "_model_name": "DescriptionStyleModel",
            "_view_count": null,
            "_view_module": "@jupyter-widgets/base",
            "_view_module_version": "1.2.0",
            "_view_name": "StyleView",
            "description_width": ""
          }
        },
        "f2e4362f2d4445cfb0c16964e7e0e8e8": {
          "model_module": "@jupyter-widgets/controls",
          "model_module_version": "1.5.0",
          "model_name": "DescriptionStyleModel",
          "state": {
            "_model_module": "@jupyter-widgets/controls",
            "_model_module_version": "1.5.0",
            "_model_name": "DescriptionStyleModel",
            "_view_count": null,
            "_view_module": "@jupyter-widgets/base",
            "_view_module_version": "1.2.0",
            "_view_name": "StyleView",
            "description_width": ""
          }
        },
        "f70656ab9de54516aae2e9458cbb96e9": {
          "model_module": "@jupyter-widgets/controls",
          "model_module_version": "1.5.0",
          "model_name": "DescriptionStyleModel",
          "state": {
            "_model_module": "@jupyter-widgets/controls",
            "_model_module_version": "1.5.0",
            "_model_name": "DescriptionStyleModel",
            "_view_count": null,
            "_view_module": "@jupyter-widgets/base",
            "_view_module_version": "1.2.0",
            "_view_name": "StyleView",
            "description_width": ""
          }
        },
        "fb3969571d424d20b673b941ebf680e8": {
          "model_module": "@jupyter-widgets/controls",
          "model_module_version": "1.5.0",
          "model_name": "HTMLModel",
          "state": {
            "_dom_classes": [],
            "_model_module": "@jupyter-widgets/controls",
            "_model_module_version": "1.5.0",
            "_model_name": "HTMLModel",
            "_view_count": null,
            "_view_module": "@jupyter-widgets/controls",
            "_view_module_version": "1.5.0",
            "_view_name": "HTMLView",
            "description": "",
            "description_tooltip": null,
            "layout": "IPY_MODEL_8cea1716552a4787a87ff058251000b9",
            "placeholder": "​",
            "style": "IPY_MODEL_7cec0b7165814584848f4a96de85cbca",
            "value": " 60/60 [00:07&lt;00:00,  8.46it/s]"
          }
        }
      }
    }
  },
  "nbformat": 4,
  "nbformat_minor": 0
}