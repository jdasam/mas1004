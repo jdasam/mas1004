{
  "cells": [
    {
      "cell_type": "markdown",
      "metadata": {
        "id": "view-in-github",
        "colab_type": "text"
      },
      "source": [
        "<a href=\"https://colab.research.google.com/github/jdasam/mas1004-2023/blob/main/live_coding/5_collaborative_filtering.ipynb\" target=\"_parent\"><img src=\"https://colab.research.google.com/assets/colab-badge.svg\" alt=\"Open In Colab\"/></a>"
      ]
    },
    {
      "cell_type": "markdown",
      "metadata": {
        "id": "oJilvhV6imDY"
      },
      "source": [
        "# 0. Import Library and Download data"
      ]
    },
    {
      "cell_type": "code",
      "execution_count": 1,
      "metadata": {
        "id": "Ni3hUvDtHYN0",
        "outputId": "b57a675a-88ac-46b8-a981-813135a54e45",
        "colab": {
          "base_uri": "https://localhost:8080/"
        }
      },
      "outputs": [
        {
          "output_type": "stream",
          "name": "stdout",
          "text": [
            "--2023-11-16 06:07:39--  https://files.grouplens.org/datasets/movielens/ml-latest-small.zip\n",
            "Resolving files.grouplens.org (files.grouplens.org)... 128.101.65.152\n",
            "Connecting to files.grouplens.org (files.grouplens.org)|128.101.65.152|:443... connected.\n",
            "HTTP request sent, awaiting response... 200 OK\n",
            "Length: 978202 (955K) [application/zip]\n",
            "Saving to: ‘ml-latest-small.zip’\n",
            "\n",
            "ml-latest-small.zip 100%[===================>] 955.28K  3.07MB/s    in 0.3s    \n",
            "\n",
            "2023-11-16 06:07:40 (3.07 MB/s) - ‘ml-latest-small.zip’ saved [978202/978202]\n",
            "\n",
            "Archive:  ml-latest-small.zip\n",
            "   creating: ml-latest-small/\n",
            "  inflating: ml-latest-small/links.csv  \n",
            "  inflating: ml-latest-small/tags.csv  \n",
            "  inflating: ml-latest-small/ratings.csv  \n",
            "  inflating: ml-latest-small/README.txt  \n",
            "  inflating: ml-latest-small/movies.csv  \n"
          ]
        }
      ],
      "source": [
        "!wget https://files.grouplens.org/datasets/movielens/ml-latest-small.zip\n",
        "!unzip ml-latest-small.zip"
      ]
    },
    {
      "cell_type": "markdown",
      "source": [
        "### Import libraries and functions"
      ],
      "metadata": {
        "id": "0Z8a8PMaHrau"
      }
    },
    {
      "cell_type": "code",
      "execution_count": 2,
      "metadata": {
        "id": "1jzyNviCHYN1"
      },
      "outputs": [],
      "source": [
        "from tqdm.auto import tqdm\n",
        "import pandas as pd\n",
        "import torch\n",
        "import torch.nn as nn\n",
        "import matplotlib.pyplot as plt\n",
        "import numpy as np\n",
        "\n",
        "class RatingSet:\n",
        "  def __init__(self, csv_path='ml-latest-small/ratings.csv'):\n",
        "    self.ratings = pd.read_csv(csv_path)\n",
        "\n",
        "    # how many unique users exist in this dataset\n",
        "    self.n_users = len(set(self.ratings['userId']))\n",
        "    self.n_movies = len(set(self.ratings['movieId']))\n",
        "\n",
        "    # list the every ids of included users\n",
        "    self.user_ids = list(set(self.ratings['userId']))\n",
        "    self.movie_ids = sorted(list(set(self.ratings['movieId'])))\n",
        "\n",
        "    # we have to find in which idx the given movieId exists in this dataset's movie ID\n",
        "    self.movie2idx = {id: idx for idx, id in enumerate(self.movie_ids)}\n",
        "    self.user2idx = {id: idx for idx, id in enumerate(self.user_ids)}\n",
        "\n",
        "  def __len__(self): # how many data sample exists in the dataset\n",
        "    return len(self.ratings) # number of ratings in the dataset\n",
        "\n",
        "  def __getitem__(self, idx): # get the idx-th sample from the dataset\n",
        "    idx_row = self.ratings.iloc[idx]\n",
        "\n",
        "    user_id = self.user2idx[idx_row.userId]\n",
        "    movie_id = self.movie2idx[idx_row.movieId]\n",
        "    rating = idx_row.rating\n",
        "\n",
        "    return user_id, movie_id, torch.tensor(rating, dtype=torch.float32)\n",
        "\n",
        "class MatrixFactorizer(nn.Module):\n",
        "  def __init__(self, n_user, n_movie, n_factor):\n",
        "    super().__init__()\n",
        "\n",
        "    self.user_embedding = nn.Embedding(n_user, n_factor)\n",
        "    self.movie_embedding = nn.Embedding(n_movie, n_factor)\n",
        "\n",
        "    self.user_embedding.weight.data /= n_factor\n",
        "    self.movie_embedding.weight.data /= n_factor\n",
        "\n",
        "    self.scale = 5.5\n",
        "\n",
        "  def scaled_sigmoid(self, x):\n",
        "    return 1/(1+torch.exp(-x/self.scale)) * self.scale\n",
        "\n",
        "  def forward(self, user_id, movie_id):\n",
        "    user_emb_vec = self.user_embedding(user_id)\n",
        "    movie_emb_vec = self.movie_embedding(movie_id)\n",
        "\n",
        "    elem_wise_multiplication_result = user_emb_vec * movie_emb_vec\n",
        "    dot_prod_result = elem_wise_multiplication_result.sum(dim=1)\n",
        "\n",
        "    return self.scaled_sigmoid(dot_prod_result)\n",
        "\n",
        "\n",
        "\n",
        "class MatrixFactorizerWithBias(MatrixFactorizer):\n",
        "  def __init__(self, n_user, n_movie, n_factor):\n",
        "    super().__init__(n_user, n_movie, n_factor)\n",
        "    self.user_bias = nn.Embedding(n_user, 1)\n",
        "    self.movie_bias = nn.Embedding(n_movie, 1)\n",
        "    self.user_bias.weight.data = torch.zeros(n_user, 1)\n",
        "    self.movie_bias.weight.data = torch.zeros(n_movie, 1)\n",
        "\n",
        "\n",
        "  def forward(self, user_id, movie_id):\n",
        "    user_emb_vec = self.user_embedding(user_id)\n",
        "    movie_emb_vec = self.movie_embedding(movie_id)\n",
        "\n",
        "    elem_wise_multiplication_result = user_emb_vec * movie_emb_vec\n",
        "    dot_prod_result = elem_wise_multiplication_result.sum(dim=1)\n",
        "    dot_prod_result += self.user_bias(user_id)[:, 0] + self.movie_bias(movie_id)[:, 0]\n",
        "\n",
        "    return self.scaled_sigmoid(dot_prod_result)\n",
        "\n",
        "class Trainer:\n",
        "  def __init__(self, model, train_loader, valid_loader, model_name='movielens', device='cpu'):\n",
        "    self.model = model\n",
        "    self.train_loader = train_loader\n",
        "    self.valid_loader = valid_loader\n",
        "    self.device = device\n",
        "    self.model.to(self.device)\n",
        "    self.criterion = nn.MSELoss()\n",
        "    self.optimizer = torch.optim.Adam(self.model.parameters(), lr=1e-3)\n",
        "    self.acc_threshold = 0.5\n",
        "    self.best_loss = torch.inf\n",
        "    self.best_acc = 0.0\n",
        "    self.train_losses = []\n",
        "    self.valid_losses = []\n",
        "    self.train_accs = []\n",
        "    self.valid_accs = []\n",
        "    self.model_name = model_name\n",
        "\n",
        "  def validation(self):\n",
        "    self.model.eval() # change the model from train mode to evaluation mode\n",
        "    # Some models work in different ways based on whtehter it is on training step\n",
        "    # or on inference step\n",
        "\n",
        "    # In validation step, you don't have to calculate the gradient\n",
        "    # with torch.no_grad():\n",
        "\n",
        "    current_loss = 0\n",
        "    num_total_correct_pred = 0\n",
        "    with torch.inference_mode(): # every torch computation under this indent\n",
        "    # will be run without calculating the gradient or computation history\n",
        "      for batch in self.valid_loader:\n",
        "        user_ids, movie_ids, ratings = batch\n",
        "        user_ids, movie_ids, ratings = user_ids.to(self.device), movie_ids.to(self.device), ratings.to(self.device)\n",
        "\n",
        "        self.optimizer.zero_grad()\n",
        "        outputs = self.model(user_ids, movie_ids)\n",
        "\n",
        "        loss = self.criterion(outputs, ratings) # you have to feed log_probs\n",
        "\n",
        "        num_acc_pred = (torch.abs(outputs - ratings) < self.acc_threshold).sum()\n",
        "\n",
        "        num_total_correct_pred += num_acc_pred.item()\n",
        "        # in validation stage, we don't care about single batch's loss\n",
        "        # we want to see the result for total images of validation set\n",
        "\n",
        "        current_loss += loss.item() * len(ratings)\n",
        "        # instead of adding the mean loss, we add sum of loss\n",
        "        # because the batch size can be different\n",
        "    mean_loss = current_loss / len(self.valid_loader.dataset)\n",
        "    mean_acc = num_total_correct_pred / len(self.valid_loader.dataset) # number of total datasample in the validation loader\n",
        "    return mean_loss, mean_acc\n",
        "    # return {'loss': mean_loss, 'acc': mean_acc}\n",
        "\n",
        "\n",
        "  def train_by_number_of_epochs(self, num_epochs):\n",
        "    for epoch in tqdm(range(num_epochs)):\n",
        "      self.model.train()\n",
        "      for batch in tqdm(self.train_loader, leave=False):\n",
        "        user_ids, movie_ids, ratings = batch\n",
        "        user_ids, movie_ids, ratings = user_ids.to(self.device), movie_ids.to(self.device), ratings.to(self.device)\n",
        "        self.optimizer.zero_grad()\n",
        "        outputs = self.model(user_ids, movie_ids)\n",
        "\n",
        "        loss = self.criterion(outputs, ratings) # you have to feed log_probs\n",
        "\n",
        "        acc = (torch.abs(outputs - ratings) < self.acc_threshold).sum() / len(ratings)\n",
        "        # for torch.nn.NLLLoss\n",
        "        loss.backward()\n",
        "        self.optimizer.step()\n",
        "\n",
        "        self.train_losses.append(loss.item())\n",
        "        self.train_accs.append(acc.item())\n",
        "        # don't try self.train_losses.append(loss)\n",
        "      # training step has ended\n",
        "      # we want to test our model on the validation set\n",
        "      valid_loss, valid_acc = self.validation()\n",
        "\n",
        "      # is this model the best?\n",
        "      # let's decide it based on valid_acc\n",
        "      if valid_acc > self.best_acc:\n",
        "        self.best_acc = valid_acc\n",
        "\n",
        "        # If it is the best model, save the model's weight'\n",
        "        models_parameters = self.model.state_dict()\n",
        "        print(f\"Saving best model at epoch {len(self.valid_accs)}, acc: {valid_acc}\")\n",
        "        torch.save(models_parameters, f'{self.model_name}_best.pt')\n",
        "\n",
        "      self.valid_losses.append(valid_loss)\n",
        "      self.valid_accs.append(valid_acc)\n",
        "\n",
        "    # Plot Accuracy curve\n",
        "    plt.plot(self.train_accs)\n",
        "    plt.plot(range(len(self.train_loader)-1, len(self.train_accs), len(self.train_loader)) ,self.valid_accs)\n",
        "    plt.title(\"Accuracy\")"
      ]
    },
    {
      "cell_type": "markdown",
      "metadata": {
        "id": "naxjqnVRHYN2"
      },
      "source": [
        "## Prepare Data Split and DataLoader"
      ]
    },
    {
      "cell_type": "code",
      "execution_count": 3,
      "metadata": {
        "id": "pMFog-xcHYN2"
      },
      "outputs": [],
      "source": [
        "movies = pd.read_csv('ml-latest-small/movies.csv')\n",
        "ratings = pd.read_csv('ml-latest-small/ratings.csv')\n",
        "\n",
        "movies = movies[movies['movieId'].isin(ratings['movieId'])]\n",
        "movies.reset_index(drop=True, inplace=True)\n",
        "movies['title'].to_csv(\"list_of_movie_titles.csv\")\n",
        "\n",
        "dataset = RatingSet()\n",
        "num_train = int(len(dataset)*0.9) # 90% is used for the training\n",
        "num_valid = int(len(dataset)*0.05) # 5% is used for the validation\n",
        "num_test = len(dataset) - num_train - num_valid # the remaining is used for the test\n",
        "# num_test = int(len(dataset)*0.05)\n",
        "\n",
        "train_set, valid_set, test_set = torch.utils.data.random_split(dataset,\n",
        "                                              [num_train, num_valid, num_test],\n",
        "                                               generator=torch.Generator().manual_seed(0))\n",
        "# randomly split the dataset into train/valid/test\n",
        "\n",
        "\n",
        "train_loader = torch.utils.data.DataLoader(train_set, batch_size=64, shuffle=True, num_workers=2)\n",
        "valid_loader = torch.utils.data.DataLoader(valid_set, batch_size=512, shuffle=False)\n",
        "test_loader = torch.utils.data.DataLoader(test_set, batch_size=512, shuffle=False)"
      ]
    },
    {
      "cell_type": "code",
      "source": [
        "# ratings['userId'] # ratings has 100836 ratings\n",
        "len(set(ratings['userId'].values)) # How many unique users exists?: 610 unique users\n",
        "# How many unique movies exists?\n",
        "len(set(ratings['movieId'].values))  # How many unique movie exists?: 9724 unique movies\n",
        "# Are the movies rated in equal numbers?\n",
        "\n",
        "from collections import Counter\n",
        "movie_counter = Counter(ratings['movieId'].values)\n",
        "movie_counter.most_common(10)"
      ],
      "metadata": {
        "id": "HLIhwFOKkYKJ",
        "outputId": "592826d5-331d-4e15-8f6b-60929e97447f",
        "colab": {
          "base_uri": "https://localhost:8080/"
        }
      },
      "execution_count": 4,
      "outputs": [
        {
          "output_type": "execute_result",
          "data": {
            "text/plain": [
              "[(356, 329),\n",
              " (318, 317),\n",
              " (296, 307),\n",
              " (593, 279),\n",
              " (2571, 278),\n",
              " (260, 251),\n",
              " (480, 238),\n",
              " (110, 237),\n",
              " (589, 224),\n",
              " (527, 220)]"
            ]
          },
          "metadata": {},
          "execution_count": 4
        }
      ]
    },
    {
      "cell_type": "code",
      "source": [
        "dataset.movie2idx[362] #movieId to uniqueId\n",
        "# movieId 362 is 320th movie in our dataset\n"
      ],
      "metadata": {
        "id": "XlRAxIwtmb7-",
        "outputId": "a9c488c5-9eb2-4cd7-b9c4-46662bb1d68d",
        "colab": {
          "base_uri": "https://localhost:8080/"
        }
      },
      "execution_count": 5,
      "outputs": [
        {
          "output_type": "execute_result",
          "data": {
            "text/plain": [
              "320"
            ]
          },
          "metadata": {},
          "execution_count": 5
        }
      ]
    },
    {
      "cell_type": "code",
      "source": [
        "ratings"
      ],
      "metadata": {
        "id": "cYaouy0vnWls",
        "outputId": "1ba4b990-330f-418b-bd55-521dc231007a",
        "colab": {
          "base_uri": "https://localhost:8080/",
          "height": 423
        }
      },
      "execution_count": 6,
      "outputs": [
        {
          "output_type": "execute_result",
          "data": {
            "text/plain": [
              "        userId  movieId  rating   timestamp\n",
              "0            1        1     4.0   964982703\n",
              "1            1        3     4.0   964981247\n",
              "2            1        6     4.0   964982224\n",
              "3            1       47     5.0   964983815\n",
              "4            1       50     5.0   964982931\n",
              "...        ...      ...     ...         ...\n",
              "100831     610   166534     4.0  1493848402\n",
              "100832     610   168248     5.0  1493850091\n",
              "100833     610   168250     5.0  1494273047\n",
              "100834     610   168252     5.0  1493846352\n",
              "100835     610   170875     3.0  1493846415\n",
              "\n",
              "[100836 rows x 4 columns]"
            ],
            "text/html": [
              "\n",
              "  <div id=\"df-46e6ad24-748e-4a13-99bd-ae41c13948ff\" class=\"colab-df-container\">\n",
              "    <div>\n",
              "<style scoped>\n",
              "    .dataframe tbody tr th:only-of-type {\n",
              "        vertical-align: middle;\n",
              "    }\n",
              "\n",
              "    .dataframe tbody tr th {\n",
              "        vertical-align: top;\n",
              "    }\n",
              "\n",
              "    .dataframe thead th {\n",
              "        text-align: right;\n",
              "    }\n",
              "</style>\n",
              "<table border=\"1\" class=\"dataframe\">\n",
              "  <thead>\n",
              "    <tr style=\"text-align: right;\">\n",
              "      <th></th>\n",
              "      <th>userId</th>\n",
              "      <th>movieId</th>\n",
              "      <th>rating</th>\n",
              "      <th>timestamp</th>\n",
              "    </tr>\n",
              "  </thead>\n",
              "  <tbody>\n",
              "    <tr>\n",
              "      <th>0</th>\n",
              "      <td>1</td>\n",
              "      <td>1</td>\n",
              "      <td>4.0</td>\n",
              "      <td>964982703</td>\n",
              "    </tr>\n",
              "    <tr>\n",
              "      <th>1</th>\n",
              "      <td>1</td>\n",
              "      <td>3</td>\n",
              "      <td>4.0</td>\n",
              "      <td>964981247</td>\n",
              "    </tr>\n",
              "    <tr>\n",
              "      <th>2</th>\n",
              "      <td>1</td>\n",
              "      <td>6</td>\n",
              "      <td>4.0</td>\n",
              "      <td>964982224</td>\n",
              "    </tr>\n",
              "    <tr>\n",
              "      <th>3</th>\n",
              "      <td>1</td>\n",
              "      <td>47</td>\n",
              "      <td>5.0</td>\n",
              "      <td>964983815</td>\n",
              "    </tr>\n",
              "    <tr>\n",
              "      <th>4</th>\n",
              "      <td>1</td>\n",
              "      <td>50</td>\n",
              "      <td>5.0</td>\n",
              "      <td>964982931</td>\n",
              "    </tr>\n",
              "    <tr>\n",
              "      <th>...</th>\n",
              "      <td>...</td>\n",
              "      <td>...</td>\n",
              "      <td>...</td>\n",
              "      <td>...</td>\n",
              "    </tr>\n",
              "    <tr>\n",
              "      <th>100831</th>\n",
              "      <td>610</td>\n",
              "      <td>166534</td>\n",
              "      <td>4.0</td>\n",
              "      <td>1493848402</td>\n",
              "    </tr>\n",
              "    <tr>\n",
              "      <th>100832</th>\n",
              "      <td>610</td>\n",
              "      <td>168248</td>\n",
              "      <td>5.0</td>\n",
              "      <td>1493850091</td>\n",
              "    </tr>\n",
              "    <tr>\n",
              "      <th>100833</th>\n",
              "      <td>610</td>\n",
              "      <td>168250</td>\n",
              "      <td>5.0</td>\n",
              "      <td>1494273047</td>\n",
              "    </tr>\n",
              "    <tr>\n",
              "      <th>100834</th>\n",
              "      <td>610</td>\n",
              "      <td>168252</td>\n",
              "      <td>5.0</td>\n",
              "      <td>1493846352</td>\n",
              "    </tr>\n",
              "    <tr>\n",
              "      <th>100835</th>\n",
              "      <td>610</td>\n",
              "      <td>170875</td>\n",
              "      <td>3.0</td>\n",
              "      <td>1493846415</td>\n",
              "    </tr>\n",
              "  </tbody>\n",
              "</table>\n",
              "<p>100836 rows × 4 columns</p>\n",
              "</div>\n",
              "    <div class=\"colab-df-buttons\">\n",
              "\n",
              "  <div class=\"colab-df-container\">\n",
              "    <button class=\"colab-df-convert\" onclick=\"convertToInteractive('df-46e6ad24-748e-4a13-99bd-ae41c13948ff')\"\n",
              "            title=\"Convert this dataframe to an interactive table.\"\n",
              "            style=\"display:none;\">\n",
              "\n",
              "  <svg xmlns=\"http://www.w3.org/2000/svg\" height=\"24px\" viewBox=\"0 -960 960 960\">\n",
              "    <path d=\"M120-120v-720h720v720H120Zm60-500h600v-160H180v160Zm220 220h160v-160H400v160Zm0 220h160v-160H400v160ZM180-400h160v-160H180v160Zm440 0h160v-160H620v160ZM180-180h160v-160H180v160Zm440 0h160v-160H620v160Z\"/>\n",
              "  </svg>\n",
              "    </button>\n",
              "\n",
              "  <style>\n",
              "    .colab-df-container {\n",
              "      display:flex;\n",
              "      gap: 12px;\n",
              "    }\n",
              "\n",
              "    .colab-df-convert {\n",
              "      background-color: #E8F0FE;\n",
              "      border: none;\n",
              "      border-radius: 50%;\n",
              "      cursor: pointer;\n",
              "      display: none;\n",
              "      fill: #1967D2;\n",
              "      height: 32px;\n",
              "      padding: 0 0 0 0;\n",
              "      width: 32px;\n",
              "    }\n",
              "\n",
              "    .colab-df-convert:hover {\n",
              "      background-color: #E2EBFA;\n",
              "      box-shadow: 0px 1px 2px rgba(60, 64, 67, 0.3), 0px 1px 3px 1px rgba(60, 64, 67, 0.15);\n",
              "      fill: #174EA6;\n",
              "    }\n",
              "\n",
              "    .colab-df-buttons div {\n",
              "      margin-bottom: 4px;\n",
              "    }\n",
              "\n",
              "    [theme=dark] .colab-df-convert {\n",
              "      background-color: #3B4455;\n",
              "      fill: #D2E3FC;\n",
              "    }\n",
              "\n",
              "    [theme=dark] .colab-df-convert:hover {\n",
              "      background-color: #434B5C;\n",
              "      box-shadow: 0px 1px 3px 1px rgba(0, 0, 0, 0.15);\n",
              "      filter: drop-shadow(0px 1px 2px rgba(0, 0, 0, 0.3));\n",
              "      fill: #FFFFFF;\n",
              "    }\n",
              "  </style>\n",
              "\n",
              "    <script>\n",
              "      const buttonEl =\n",
              "        document.querySelector('#df-46e6ad24-748e-4a13-99bd-ae41c13948ff button.colab-df-convert');\n",
              "      buttonEl.style.display =\n",
              "        google.colab.kernel.accessAllowed ? 'block' : 'none';\n",
              "\n",
              "      async function convertToInteractive(key) {\n",
              "        const element = document.querySelector('#df-46e6ad24-748e-4a13-99bd-ae41c13948ff');\n",
              "        const dataTable =\n",
              "          await google.colab.kernel.invokeFunction('convertToInteractive',\n",
              "                                                    [key], {});\n",
              "        if (!dataTable) return;\n",
              "\n",
              "        const docLinkHtml = 'Like what you see? Visit the ' +\n",
              "          '<a target=\"_blank\" href=https://colab.research.google.com/notebooks/data_table.ipynb>data table notebook</a>'\n",
              "          + ' to learn more about interactive tables.';\n",
              "        element.innerHTML = '';\n",
              "        dataTable['output_type'] = 'display_data';\n",
              "        await google.colab.output.renderOutput(dataTable, element);\n",
              "        const docLink = document.createElement('div');\n",
              "        docLink.innerHTML = docLinkHtml;\n",
              "        element.appendChild(docLink);\n",
              "      }\n",
              "    </script>\n",
              "  </div>\n",
              "\n",
              "\n",
              "<div id=\"df-962d1797-15a0-4fc4-8234-fe21a2a940cf\">\n",
              "  <button class=\"colab-df-quickchart\" onclick=\"quickchart('df-962d1797-15a0-4fc4-8234-fe21a2a940cf')\"\n",
              "            title=\"Suggest charts\"\n",
              "            style=\"display:none;\">\n",
              "\n",
              "<svg xmlns=\"http://www.w3.org/2000/svg\" height=\"24px\"viewBox=\"0 0 24 24\"\n",
              "     width=\"24px\">\n",
              "    <g>\n",
              "        <path d=\"M19 3H5c-1.1 0-2 .9-2 2v14c0 1.1.9 2 2 2h14c1.1 0 2-.9 2-2V5c0-1.1-.9-2-2-2zM9 17H7v-7h2v7zm4 0h-2V7h2v10zm4 0h-2v-4h2v4z\"/>\n",
              "    </g>\n",
              "</svg>\n",
              "  </button>\n",
              "\n",
              "<style>\n",
              "  .colab-df-quickchart {\n",
              "      --bg-color: #E8F0FE;\n",
              "      --fill-color: #1967D2;\n",
              "      --hover-bg-color: #E2EBFA;\n",
              "      --hover-fill-color: #174EA6;\n",
              "      --disabled-fill-color: #AAA;\n",
              "      --disabled-bg-color: #DDD;\n",
              "  }\n",
              "\n",
              "  [theme=dark] .colab-df-quickchart {\n",
              "      --bg-color: #3B4455;\n",
              "      --fill-color: #D2E3FC;\n",
              "      --hover-bg-color: #434B5C;\n",
              "      --hover-fill-color: #FFFFFF;\n",
              "      --disabled-bg-color: #3B4455;\n",
              "      --disabled-fill-color: #666;\n",
              "  }\n",
              "\n",
              "  .colab-df-quickchart {\n",
              "    background-color: var(--bg-color);\n",
              "    border: none;\n",
              "    border-radius: 50%;\n",
              "    cursor: pointer;\n",
              "    display: none;\n",
              "    fill: var(--fill-color);\n",
              "    height: 32px;\n",
              "    padding: 0;\n",
              "    width: 32px;\n",
              "  }\n",
              "\n",
              "  .colab-df-quickchart:hover {\n",
              "    background-color: var(--hover-bg-color);\n",
              "    box-shadow: 0 1px 2px rgba(60, 64, 67, 0.3), 0 1px 3px 1px rgba(60, 64, 67, 0.15);\n",
              "    fill: var(--button-hover-fill-color);\n",
              "  }\n",
              "\n",
              "  .colab-df-quickchart-complete:disabled,\n",
              "  .colab-df-quickchart-complete:disabled:hover {\n",
              "    background-color: var(--disabled-bg-color);\n",
              "    fill: var(--disabled-fill-color);\n",
              "    box-shadow: none;\n",
              "  }\n",
              "\n",
              "  .colab-df-spinner {\n",
              "    border: 2px solid var(--fill-color);\n",
              "    border-color: transparent;\n",
              "    border-bottom-color: var(--fill-color);\n",
              "    animation:\n",
              "      spin 1s steps(1) infinite;\n",
              "  }\n",
              "\n",
              "  @keyframes spin {\n",
              "    0% {\n",
              "      border-color: transparent;\n",
              "      border-bottom-color: var(--fill-color);\n",
              "      border-left-color: var(--fill-color);\n",
              "    }\n",
              "    20% {\n",
              "      border-color: transparent;\n",
              "      border-left-color: var(--fill-color);\n",
              "      border-top-color: var(--fill-color);\n",
              "    }\n",
              "    30% {\n",
              "      border-color: transparent;\n",
              "      border-left-color: var(--fill-color);\n",
              "      border-top-color: var(--fill-color);\n",
              "      border-right-color: var(--fill-color);\n",
              "    }\n",
              "    40% {\n",
              "      border-color: transparent;\n",
              "      border-right-color: var(--fill-color);\n",
              "      border-top-color: var(--fill-color);\n",
              "    }\n",
              "    60% {\n",
              "      border-color: transparent;\n",
              "      border-right-color: var(--fill-color);\n",
              "    }\n",
              "    80% {\n",
              "      border-color: transparent;\n",
              "      border-right-color: var(--fill-color);\n",
              "      border-bottom-color: var(--fill-color);\n",
              "    }\n",
              "    90% {\n",
              "      border-color: transparent;\n",
              "      border-bottom-color: var(--fill-color);\n",
              "    }\n",
              "  }\n",
              "</style>\n",
              "\n",
              "  <script>\n",
              "    async function quickchart(key) {\n",
              "      const quickchartButtonEl =\n",
              "        document.querySelector('#' + key + ' button');\n",
              "      quickchartButtonEl.disabled = true;  // To prevent multiple clicks.\n",
              "      quickchartButtonEl.classList.add('colab-df-spinner');\n",
              "      try {\n",
              "        const charts = await google.colab.kernel.invokeFunction(\n",
              "            'suggestCharts', [key], {});\n",
              "      } catch (error) {\n",
              "        console.error('Error during call to suggestCharts:', error);\n",
              "      }\n",
              "      quickchartButtonEl.classList.remove('colab-df-spinner');\n",
              "      quickchartButtonEl.classList.add('colab-df-quickchart-complete');\n",
              "    }\n",
              "    (() => {\n",
              "      let quickchartButtonEl =\n",
              "        document.querySelector('#df-962d1797-15a0-4fc4-8234-fe21a2a940cf button');\n",
              "      quickchartButtonEl.style.display =\n",
              "        google.colab.kernel.accessAllowed ? 'block' : 'none';\n",
              "    })();\n",
              "  </script>\n",
              "</div>\n",
              "    </div>\n",
              "  </div>\n"
            ]
          },
          "metadata": {},
          "execution_count": 6
        }
      ]
    },
    {
      "cell_type": "code",
      "source": [
        "dataset[1000]"
      ],
      "metadata": {
        "id": "rbCO-wX9nV0A",
        "outputId": "f8ac16a2-d81d-493e-9c5b-b39583b10d4f",
        "colab": {
          "base_uri": "https://localhost:8080/"
        }
      },
      "execution_count": 7,
      "outputs": [
        {
          "output_type": "execute_result",
          "data": {
            "text/plain": [
              "(6, 5791, tensor(3.5000))"
            ]
          },
          "metadata": {},
          "execution_count": 7
        }
      ]
    },
    {
      "cell_type": "code",
      "source": [
        "train_batch = next(iter(train_loader))\n",
        "# train_batch\n",
        "user, item, rating = train_batch"
      ],
      "metadata": {
        "id": "HTh7z06xoBuI"
      },
      "execution_count": 8,
      "outputs": []
    },
    {
      "cell_type": "code",
      "source": [
        "print(user, user.shape)  # 64 integers, representing ID of user for each rating\n",
        "print(item, item.shape)  # 64 integers representing ID of movie for each rating\n",
        "print(rating, rating.shape) # 64 float values (0.5 - 5.0) representing the score of each rating"
      ],
      "metadata": {
        "id": "NzHgs4MopdYM",
        "outputId": "e7e79b22-3b3b-4c62-bf7c-7ea911c54ed9",
        "colab": {
          "base_uri": "https://localhost:8080/"
        }
      },
      "execution_count": 12,
      "outputs": [
        {
          "output_type": "stream",
          "name": "stdout",
          "text": [
            "tensor([201, 306, 468, 143, 521, 447, 427, 379, 325, 605, 173, 173,  20, 489,\n",
            "        599, 287, 598, 178, 404, 602,  78, 104, 513, 473, 136, 595,  16,  84,\n",
            "        164, 341, 526,  67,  88, 416, 447, 293,  22,  58, 245, 397, 479, 104,\n",
            "        181, 306,  90, 524,  67,  73, 598, 120, 296, 379, 355, 447, 265, 338,\n",
            "        233,  41, 516,  20, 176, 110, 124, 352]) torch.Size([64])\n",
            "tensor([1043, 6511,  967, 2979, 7307, 8572, 1008, 4786, 7537, 4796,  166,  202,\n",
            "        7285, 6501, 6471,  812, 2522,  302, 1257, 1753, 2019,  697,  412, 1160,\n",
            "        1290,  507,  928, 1070, 3953, 2391, 1575, 2171, 9514,  827, 3002, 1605,\n",
            "        4963, 1098, 3633,  899,  302, 5780, 1291, 6236, 1056, 6203, 5682, 5113,\n",
            "        2742,    5,  645, 8632, 2035, 3094,  483, 6912,  899, 1070, 5324, 6630,\n",
            "        6612, 8218,  983,  508]) torch.Size([64])\n",
            "tensor([3.0000, 4.5000, 4.0000, 4.5000, 4.0000, 2.5000, 2.5000, 4.0000, 4.5000,\n",
            "        4.0000, 2.0000, 5.0000, 3.5000, 3.0000, 4.0000, 2.0000, 1.5000, 3.0000,\n",
            "        4.0000, 4.0000, 5.0000, 4.0000, 4.0000, 4.0000, 4.0000, 3.0000, 4.5000,\n",
            "        1.0000, 3.0000, 1.0000, 5.0000, 3.5000, 2.0000, 3.5000, 4.0000, 5.0000,\n",
            "        5.0000, 3.0000, 5.0000, 4.5000, 3.5000, 4.0000, 3.5000, 2.5000, 4.5000,\n",
            "        4.0000, 1.0000, 3.5000, 2.5000, 5.0000, 3.0000, 2.0000, 3.5000, 0.5000,\n",
            "        2.0000, 3.5000, 4.0000, 2.0000, 1.0000, 3.5000, 3.5000, 4.5000, 3.5000,\n",
            "        4.0000]) torch.Size([64])\n"
          ]
        }
      ]
    },
    {
      "cell_type": "code",
      "source": [
        "class MatrixFactorizer(nn.Module):\n",
        "  def __init__(self, n_users, n_items, emb_size=32):\n",
        "    super().__init__()\n",
        "    self.user_embedding = nn.Embedding(n_users, emb_size)\n",
        "    self.movie_embedding = nn.Embedding(n_items, emb_size)\n",
        "\n",
        "    self.user_embedding.weight.data /= 5\n",
        "    self.movie_embedding.weight.data /= 5\n",
        "\n",
        "    # We can add bias term\n",
        "    # Some users always give higher score or lower score compare to the others\n",
        "    # Some movies always gets higher score regardless of users' tastes\n",
        "\n",
        "    self.user_bias = nn.Embedding(n_users, 1)\n",
        "    self.movie_bias = nn.Embedding(n_items, 1)\n",
        "    # Bias are usually initialized to 0\n",
        "    self.user_bias.weight.data = torch.zeros_like(self.user_bias.weight.data)\n",
        "    self.movie_bias.weight.data = torch.zeros_like(self.movie_bias.weight.data)\n",
        "\n",
        "  def forward(self, user, item):\n",
        "    # user: torch.LongTensor of shape [BatchSize]\n",
        "    # item: torch.LongTensor of shape [BatchSize]\n",
        "    user_embs = self.user_embedding(user)\n",
        "    item_embs = self.movie_embedding(item)\n",
        "    # ratings = (user_embs * item_embs).sum(dim=1)\n",
        "    ratings = torch.stack([torch.dot(u,i) for u, i in zip(user_embs, item_embs)], dim=0) # shape: [BatchSize]\n",
        "\n",
        "    user_bias = self.user_bias(user) # shape: [BatchSize, 1]\n",
        "    item_bias = self.movie_bias(item) # shape: [BatchSize, 1]\n",
        "    ratings += user_bias[:,0] + item_bias[:,0]\n",
        "\n",
        "    return scale_func(ratings)\n",
        "\n",
        "model = MatrixFactorizer(dataset.n_users, dataset.n_movies)\n",
        "estimated_ratings = model(user, item)\n",
        "\n",
        "loss = ((estimated_ratings - rating) ** 2).mean()\n",
        "loss"
      ],
      "metadata": {
        "id": "KlgQBIjRoQJH",
        "outputId": "e7326da5-6900-41ff-de56-98f37d19464e",
        "colab": {
          "base_uri": "https://localhost:8080/"
        }
      },
      "execution_count": 59,
      "outputs": [
        {
          "output_type": "execute_result",
          "data": {
            "text/plain": [
              "tensor(1.7670, grad_fn=<MeanBackward0>)"
            ]
          },
          "metadata": {},
          "execution_count": 59
        }
      ]
    },
    {
      "cell_type": "code",
      "source": [
        "# our desired output range is 0.5 - 5.0\n",
        "estimated_ratings"
      ],
      "metadata": {
        "id": "SOn4DBYszson",
        "outputId": "21d947d2-dded-4efa-cdbf-ba8e3c2f0384",
        "colab": {
          "base_uri": "https://localhost:8080/"
        }
      },
      "execution_count": 42,
      "outputs": [
        {
          "output_type": "execute_result",
          "data": {
            "text/plain": [
              "tensor([2.5072, 2.2614, 2.7689, 2.9535, 3.1927, 2.9213, 3.3011, 2.8932, 2.7468,\n",
              "        2.6127, 2.8330, 3.0359, 2.4825, 3.0852, 2.5510, 2.7960, 3.0955, 2.5766,\n",
              "        2.7227, 2.4331, 2.8388, 2.9011, 2.6245, 3.4899, 2.8220, 2.9985, 2.7690,\n",
              "        3.4263, 2.9977, 1.9095, 2.6950, 2.5838, 1.9851, 3.2545, 2.8340, 3.1855,\n",
              "        2.7124, 2.9349, 3.1474, 2.9529, 3.0317, 2.2917, 2.5333, 2.6513, 2.9128,\n",
              "        3.3158, 2.6237, 2.4694, 2.4773, 2.1140, 3.0890, 2.2730, 2.9035, 2.6146,\n",
              "        2.7140, 2.5695, 2.9129, 3.2779, 3.1201, 2.6734, 3.2098, 3.1485, 2.6493,\n",
              "        2.7708], grad_fn=<MulBackward0>)"
            ]
          },
          "metadata": {},
          "execution_count": 42
        }
      ]
    },
    {
      "cell_type": "code",
      "source": [
        "# Let's make a scale function using sigmoid\n",
        "# Our scale function takes any range of real number and output the value between 0 - 5.5\n",
        "def scale_func(x):\n",
        "  return 5.5 / (1 + torch.exp(-x))\n",
        "\n",
        "input_x =( torch.arange(100) - 50) / 10\n",
        "output_y = scale_func(input_x)\n",
        "\n",
        "import matplotlib.pyplot as plt\n",
        "plt.plot(input_x, output_y)"
      ],
      "metadata": {
        "id": "2mmIRNuKz_Dj",
        "outputId": "cd7aca71-7f44-4607-80d7-45cca225e7a7",
        "colab": {
          "base_uri": "https://localhost:8080/",
          "height": 448
        }
      },
      "execution_count": 40,
      "outputs": [
        {
          "output_type": "execute_result",
          "data": {
            "text/plain": [
              "[<matplotlib.lines.Line2D at 0x7ee56e9d70a0>]"
            ]
          },
          "metadata": {},
          "execution_count": 40
        },
        {
          "output_type": "display_data",
          "data": {
            "text/plain": [
              "<Figure size 640x480 with 1 Axes>"
            ],
            "image/png": "[encoded data removed]"
          },
          "metadata": {}
        }
      ]
    },
    {
      "cell_type": "code",
      "source": [
        "model.user_embedding.weight"
      ],
      "metadata": {
        "id": "aJZQDhAtzMzE",
        "outputId": "69be3454-1fa1-461f-a293-96e4b548ec20",
        "colab": {
          "base_uri": "https://localhost:8080/"
        }
      },
      "execution_count": 35,
      "outputs": [
        {
          "output_type": "execute_result",
          "data": {
            "text/plain": [
              "Parameter containing:\n",
              "tensor([[-0.4332,  0.8321, -0.2507,  ..., -1.6110, -0.5892, -0.4966],\n",
              "        [-0.9514, -0.4461,  0.7440,  ...,  0.1693,  1.3386,  0.6830],\n",
              "        [-1.3046,  0.0785,  1.5610,  ...,  1.6140, -0.7015, -0.5609],\n",
              "        ...,\n",
              "        [ 0.5926, -1.6051,  0.5481,  ...,  0.2476,  0.2591, -0.0480],\n",
              "        [-0.3809, -0.5333,  1.0066,  ...,  0.9466,  0.7886, -0.7374],\n",
              "        [ 0.3037, -0.0956,  0.6444,  ...,  0.0796,  0.5563, -1.1835]],\n",
              "       requires_grad=True)"
            ]
          },
          "metadata": {},
          "execution_count": 35
        }
      ]
    },
    {
      "cell_type": "code",
      "source": [
        "torch.set_printoptions(sci_mode=False)"
      ],
      "metadata": {
        "id": "nwlxjr1hxAPw"
      },
      "execution_count": 20,
      "outputs": []
    },
    {
      "cell_type": "code",
      "source": [
        "# Model takes (user ID and movie ID), and estimates the rating score of the movie by the given user\n",
        "\n",
        "# The model converts user ID into a user embedding\n",
        "user_id = user[0:3]\n",
        "print(user_id, user_id.shape)\n",
        "item_id = item[0:3]\n",
        "print(item_id, item_id.shape)\n",
        "user_emb = model.user_embedding(user_id)\n",
        "print(user_emb, user_emb.shape)\n",
        "# The model can convert movie ID into a movie embedding\n",
        "item_emb = model.movie_embedding(item_id)\n",
        "print(item_emb, item_emb.shape)\n",
        "\n",
        "out = user_emb * item_emb\n",
        "out_sum = out.sum(dim=1)\n",
        "print(out, out.shape)\n",
        "print(out_sum, out_sum.shape)"
      ],
      "metadata": {
        "id": "F-PXhxI6wN8N",
        "outputId": "33bfdfed-9a30-4952-9779-d4cbb9c6f401",
        "colab": {
          "base_uri": "https://localhost:8080/"
        }
      },
      "execution_count": 28,
      "outputs": [
        {
          "output_type": "stream",
          "name": "stdout",
          "text": [
            "tensor([201, 306, 468]) torch.Size([3])\n",
            "tensor([1043, 6511,  967]) torch.Size([3])\n",
            "tensor([[    -1.7346,      0.3231,      2.0028,     -0.4986,      0.8656,\n",
            "              2.4215,     -0.0694,      1.5671,     -1.1851,     -2.4179,\n",
            "              0.8504,     -1.0280,      0.1178,     -0.2578,     -0.3241,\n",
            "              0.1395,      1.5041,      0.4540,      0.8833,     -0.0183,\n",
            "             -1.4805,      0.4346,     -0.1449,     -1.2439,     -0.0889,\n",
            "             -0.0290,      0.3837,     -0.7831,     -1.8396,     -0.9640,\n",
            "              1.1122,      0.0022],\n",
            "        [     0.9389,      0.1433,     -1.2471,      1.2819,      1.1305,\n",
            "             -0.0746,     -0.2843,      0.2654,     -0.3773,     -1.8451,\n",
            "              0.5940,     -0.3061,      0.2237,     -0.6967,      1.1979,\n",
            "             -0.7906,     -0.4566,     -0.3806,     -1.6096,     -0.9699,\n",
            "             -0.5248,      0.4230,     -2.3089,      0.6864,     -2.7536,\n",
            "              0.0657,      0.5473,      0.4263,      0.6744,      0.7318,\n",
            "             -0.9480,      0.6640],\n",
            "        [    -2.0290,     -2.0459,      0.5894,     -0.0592,     -0.7191,\n",
            "             -1.2621,      0.2341,      0.0718,      0.2301,      0.9538,\n",
            "              0.9674,     -0.7873,     -1.2667,      0.8057,     -0.7473,\n",
            "             -0.3821,      1.7783,      0.5417,     -1.2226,      1.9597,\n",
            "              0.3679,      2.9509,      0.7791,     -0.6205,      0.1411,\n",
            "             -0.2229,     -1.6288,     -0.3801,     -0.6176,      0.0976,\n",
            "              0.4444,      0.2171]], grad_fn=<EmbeddingBackward0>) torch.Size([3, 32])\n",
            "tensor([[-1.6290,  0.2601,  0.3236,  1.3103, -0.5319,  0.1170, -0.1722,  0.3898,\n",
            "         -0.8146,  1.8350,  0.2856,  0.5060,  0.6552, -0.7867,  2.1035, -1.2155,\n",
            "          0.4142,  0.4608, -0.4675,  0.0198, -0.3030,  0.3876, -0.4579, -0.0977,\n",
            "         -0.2063, -0.7142, -0.2881, -0.0311,  0.3048, -1.2026,  0.6000, -0.5435],\n",
            "        [ 1.7642,  1.2735,  0.5096,  1.4765, -0.0639,  0.1072, -0.6050, -0.6073,\n",
            "          0.9776, -1.0203, -0.5917, -1.1715, -0.6427, -0.8707, -1.2557, -0.3843,\n",
            "         -1.0657,  1.9808, -0.4807, -0.0230,  1.4263, -0.2917,  0.2893,  0.0550,\n",
            "          1.2588, -0.2246,  0.0140, -0.3118,  1.4600, -1.8731,  0.1926,  1.3228],\n",
            "        [-0.8638,  0.4391, -0.0177,  0.7987,  0.9250, -0.7433,  1.1686, -1.5805,\n",
            "          0.0570, -0.2501, -2.3706,  0.0213, -0.2329,  0.0439, -0.8588, -0.7989,\n",
            "          0.1989,  1.7231, -1.0510, -0.5582, -0.0851, -0.7360,  0.4369,  0.4121,\n",
            "         -1.0231, -0.7051,  0.8938, -0.6899,  0.3942,  1.3663, -0.5912,  0.4707]],\n",
            "       grad_fn=<EmbeddingBackward0>) torch.Size([3, 32])\n",
            "tensor([[     2.8257,      0.0840,      0.6481,     -0.6534,     -0.4604,\n",
            "              0.2833,      0.0119,      0.6109,      0.9654,     -4.4368,\n",
            "              0.2429,     -0.5201,      0.0772,      0.2028,     -0.6818,\n",
            "             -0.1696,      0.6230,      0.2092,     -0.4129,     -0.0004,\n",
            "              0.4486,      0.1685,      0.0664,      0.1215,      0.0183,\n",
            "              0.0207,     -0.1105,      0.0244,     -0.5607,      1.1593,\n",
            "              0.6674,     -0.0012],\n",
            "        [     1.6564,      0.1825,     -0.6355,      1.8927,     -0.0723,\n",
            "             -0.0080,      0.1720,     -0.1612,     -0.3689,      1.8825,\n",
            "             -0.3515,      0.3586,     -0.1437,      0.6066,     -1.5042,\n",
            "              0.3038,      0.4866,     -0.7538,      0.7737,      0.0223,\n",
            "             -0.7485,     -0.1234,     -0.6681,      0.0377,     -3.4662,\n",
            "             -0.0147,      0.0076,     -0.1329,      0.9847,     -1.3708,\n",
            "             -0.1826,      0.8784],\n",
            "        [     1.7526,     -0.8982,     -0.0104,     -0.0473,     -0.6652,\n",
            "              0.9382,      0.2736,     -0.1135,      0.0131,     -0.2385,\n",
            "             -2.2934,     -0.0167,      0.2950,      0.0353,      0.6418,\n",
            "              0.3052,      0.3538,      0.9334,      1.2849,     -1.0940,\n",
            "             -0.0313,     -2.1718,      0.3404,     -0.2557,     -0.1443,\n",
            "              0.1572,     -1.4559,      0.2622,     -0.2434,      0.1334,\n",
            "             -0.2627,      0.1022]], grad_fn=<MulBackward0>) torch.Size([3, 32])\n",
            "tensor([ 1.4718, -0.4600, -2.1203], grad_fn=<SumBackward1>) torch.Size([3])\n"
          ]
        }
      ]
    },
    {
      "cell_type": "code",
      "source": [
        "for u, i in zip(user_emb, item_emb):\n",
        "  print(torch.dot(u,i))\n",
        "\n",
        "torch.stack([torch.dot(u,i) for u, i in zip(user_emb, item_emb)], dim=0)\n",
        ""
      ],
      "metadata": {
        "id": "Wpy73Kdsyck7",
        "outputId": "88c6bc76-a812-4b9c-d1f9-3e101f6caa34",
        "colab": {
          "base_uri": "https://localhost:8080/"
        }
      },
      "execution_count": 31,
      "outputs": [
        {
          "output_type": "stream",
          "name": "stdout",
          "text": [
            "tensor(1.4718, grad_fn=<DotBackward0>)\n",
            "tensor(-0.4600, grad_fn=<DotBackward0>)\n",
            "tensor(-2.1203, grad_fn=<DotBackward0>)\n"
          ]
        },
        {
          "output_type": "execute_result",
          "data": {
            "text/plain": [
              "tensor([ 1.4718, -0.4600, -2.1203], grad_fn=<StackBackward0>)"
            ]
          },
          "metadata": {},
          "execution_count": 31
        }
      ]
    },
    {
      "cell_type": "code",
      "source": [],
      "metadata": {
        "id": "sQ7myBdrwaM3"
      },
      "execution_count": null,
      "outputs": []
    },
    {
      "cell_type": "code",
      "source": [],
      "metadata": {
        "id": "VJAFIt5Gvq7R"
      },
      "execution_count": null,
      "outputs": []
    },
    {
      "cell_type": "code",
      "source": [
        "train_loader = torch.utils.data.DataLoader(train_set, batch_size=256, shuffle=True, num_workers=2)\n",
        "DEV = 'cuda'\n",
        "model = MatrixFactorizer(dataset.n_users, dataset.n_movies)\n",
        "model.to(DEV)\n",
        "optimizer = torch.optim.Adam(model.parameters(), lr=1e-2)\n",
        "\n",
        "num_epochs = 3\n",
        "\n",
        "loss_record = []\n",
        "\n",
        "for epoch in tqdm(range(num_epochs)):\n",
        "  for batch in tqdm(train_loader, leave=False):\n",
        "    user, item, rating = batch\n",
        "    estimated_ratings = model(user.to(DEV), item.to(DEV))\n",
        "    loss = ((estimated_ratings - rating.to(DEV)) ** 2).mean()\n",
        "    loss.backward()\n",
        "    optimizer.step()\n",
        "    optimizer.zero_grad()\n",
        "    loss_record.append(loss.item())"
      ],
      "metadata": {
        "id": "xcl9O2TNqeGf",
        "outputId": "7b834edc-51f9-4a0f-a49a-922d0620c4c7",
        "colab": {
          "base_uri": "https://localhost:8080/",
          "height": 49,
          "referenced_widgets": [
            "c83e91d06bf14c39aa798ba565efc0e1",
            "f2df75e3f4c141e6ab13d862f36bbcb4",
            "7db9c4cbb20f478aa23a7c901a0cda13",
            "37ba4001d7e2439bad1fe565b817b8bb",
            "db99d86189ca4aff8b1883593dd91ccc",
            "8fe617e789494f698fcb56cc03e670a1",
            "38778e2072254e4b99c225992ad79ced",
            "492dce82e0394392b676d6c3dbeb5513",
            "46f3aacaab7c4343bab79739db22161a",
            "0c9e6c2b9eae426686eaa87f8cf74a8c",
            "20c2939fb76d425abaae9be8b91b3b1d",
            "c3c7fb99eb4d45859ab6dfef444880cc",
            "a887a41934124c018fff5aefe1a16e10",
            "1812d25c16d54150931dc11f194eecc1",
            "e93bd6fdb3254f8e87a22c86c733e328",
            "bc8b352e9b464d8f86596a016be4a116",
            "9795c69f0d7c4adca215770baf81e7c1",
            "27bcd66e19a9437dae1a00c505e82a9f",
            "bf84090777fd4955af1ca7b530b7d0d0",
            "7619f941486047af93ad24c5c06875de",
            "f24227cd251b43fbb20af925dba73504",
            "91431c4b1788418689d13124ea9a53eb",
            "2dc70d4bbadc4d24a2ec3f23dbcef754",
            "4e876163f41745a9ac2cda20987ba679",
            "0d46aee3e73742a8b4cf5942aa63992e",
            "2147de2b76d24f6ab30a5e6616598002",
            "4be8c92be1454e36970db6683f818a6f",
            "0f5b3f590f544b68bd0c929d64d4493d",
            "549bc99446df4fc3b484cbd7829c293e",
            "d173246c5a53453089fc945af0f8a743",
            "151ab289e23b4a3aa4545fe45626899a",
            "875f5f78a780437a83fccd5a68bbeadc",
            "c47b5058350e477a80d6e07cb5cb19e2",
            "b404854963a74b70ab79bb0449634561",
            "1a54ee479f5149b6a52a9349f308fd69",
            "51545ea23bca47e386675c866968ce21",
            "0f01c3647f55485fb48701394fe6952b",
            "0b4bdcfe99884971839d2d9dbe52a2ab",
            "61731370ffe64674ae8e3382f8b2bfee",
            "470bc7537dd3498391624e99dda97218",
            "318da13b2bfa46c7b1ac3772ce62229b",
            "fa267ca573a240eca785beb02b1e7a12",
            "14270f734abd4abdba1e1664cdf6971b",
            "292d161eb4044d6981adbd4af1b1a207"
          ]
        }
      },
      "execution_count": 60,
      "outputs": [
        {
          "output_type": "display_data",
          "data": {
            "text/plain": [
              "  0%|          | 0/3 [00:00<?, ?it/s]"
            ],
            "application/vnd.jupyter.widget-view+json": {
              "version_major": 2,
              "version_minor": 0,
              "model_id": "c83e91d06bf14c39aa798ba565efc0e1"
            }
          },
          "metadata": {}
        },
        {
          "output_type": "display_data",
          "data": {
            "text/plain": [
              "  0%|          | 0/355 [00:00<?, ?it/s]"
            ],
            "application/vnd.jupyter.widget-view+json": {
              "version_major": 2,
              "version_minor": 0,
              "model_id": "c3c7fb99eb4d45859ab6dfef444880cc"
            }
          },
          "metadata": {}
        },
        {
          "output_type": "display_data",
          "data": {
            "text/plain": [
              "  0%|          | 0/355 [00:00<?, ?it/s]"
            ],
            "application/vnd.jupyter.widget-view+json": {
              "version_major": 2,
              "version_minor": 0,
              "model_id": "2dc70d4bbadc4d24a2ec3f23dbcef754"
            }
          },
          "metadata": {}
        },
        {
          "output_type": "display_data",
          "data": {
            "text/plain": [
              "  0%|          | 0/355 [00:00<?, ?it/s]"
            ],
            "application/vnd.jupyter.widget-view+json": {
              "version_major": 2,
              "version_minor": 0,
              "model_id": "b404854963a74b70ab79bb0449634561"
            }
          },
          "metadata": {}
        }
      ]
    },
    {
      "cell_type": "code",
      "source": [
        "plt.plot(loss_record)"
      ],
      "metadata": {
        "id": "rJpO2hbYrJt2",
        "outputId": "997eb5e7-e3b5-4fd1-b731-7d9dde4f3b0a",
        "colab": {
          "base_uri": "https://localhost:8080/",
          "height": 448
        }
      },
      "execution_count": 61,
      "outputs": [
        {
          "output_type": "execute_result",
          "data": {
            "text/plain": [
              "[<matplotlib.lines.Line2D at 0x7ee54b7f0940>]"
            ]
          },
          "metadata": {},
          "execution_count": 61
        },
        {
          "output_type": "display_data",
          "data": {
            "text/plain": [
              "<Figure size 640x480 with 1 Axes>"
            ],
            "image/png": "[encoded data removed]"
          },
          "metadata": {}
        }
      ]
    },
    {
      "cell_type": "code",
      "source": [
        "model.to('cpu')\n",
        "estimated_ratings = model(user, item)\n",
        "\n",
        "loss = ((estimated_ratings - rating) ** 2).mean()\n",
        "loss"
      ],
      "metadata": {
        "id": "qmKZEr-p1uNC",
        "outputId": "81df1c9c-a9c5-4209-86e9-a6ad117b292a",
        "colab": {
          "base_uri": "https://localhost:8080/"
        }
      },
      "execution_count": 62,
      "outputs": [
        {
          "output_type": "execute_result",
          "data": {
            "text/plain": [
              "tensor(0.2649, grad_fn=<MeanBackward0>)"
            ]
          },
          "metadata": {},
          "execution_count": 62
        }
      ]
    },
    {
      "cell_type": "code",
      "source": [
        "estimated_ratings"
      ],
      "metadata": {
        "id": "PN1Xu6SA1xBt",
        "outputId": "dbfb305f-e86e-4e93-ac52-c9a79b1e46b3",
        "colab": {
          "base_uri": "https://localhost:8080/"
        }
      },
      "execution_count": 63,
      "outputs": [
        {
          "output_type": "execute_result",
          "data": {
            "text/plain": [
              "tensor([3.8922, 2.3191, 4.3560, 4.4157, 4.6399, 4.4044, 3.7939, 4.1541, 4.1518,\n",
              "        3.9520, 1.1103, 4.2031, 2.9370, 3.8968, 4.1461, 4.0448, 2.9991, 3.2684,\n",
              "        2.8123, 3.9875, 3.6631, 4.4365, 4.6928, 4.4015, 4.5942, 1.9468, 3.6178,\n",
              "        3.4978, 2.9288, 4.1832, 3.8399, 3.2272, 3.7554, 3.5469, 4.2424, 4.4259,\n",
              "        3.0834, 3.7923, 2.8381, 3.4588, 3.7166, 3.1507, 4.0612, 4.2482, 4.2173,\n",
              "        5.0174, 4.0214, 1.7065, 3.1276, 3.0949, 1.5662, 2.1189, 4.1353, 3.3403,\n",
              "        3.3199, 1.8417, 2.9613, 1.4612, 3.7942, 3.1998, 4.2812, 3.3937, 3.1759,\n",
              "        2.6935, 3.1747, 3.7742, 4.2204, 4.1819, 4.1472, 4.3716, 3.8014, 3.4917,\n",
              "        4.2966, 4.6196, 3.7455, 3.7257, 3.1975, 4.1001, 4.8654, 4.2206, 3.3228,\n",
              "        4.0844, 1.6040, 4.3118, 4.5362, 2.4574, 4.0671, 4.3914, 3.4076, 5.0816,\n",
              "        2.5303, 3.5234, 4.4316, 4.5935, 4.5647, 3.4053, 3.4164, 2.5276, 3.6143,\n",
              "        3.3711, 3.5364, 4.3747, 4.5758, 3.6912, 4.2246, 3.6863, 3.5434, 3.8257,\n",
              "        1.5974, 3.4423, 4.5351, 3.0414, 3.0209, 1.5276, 2.9959, 3.9868, 1.6579,\n",
              "        3.8764, 4.2873, 3.4569, 4.4877, 3.7854, 3.6045, 2.7918, 4.2386, 4.4789,\n",
              "        3.4598, 4.9045], grad_fn=<MulBackward0>)"
            ]
          },
          "metadata": {},
          "execution_count": 63
        }
      ]
    },
    {
      "cell_type": "code",
      "source": [
        "torch.argmax(model.movie_bias.weight)"
      ],
      "metadata": {
        "id": "JnXcbGTZ4Nmb",
        "outputId": "21e6db10-ccfc-4f5d-f3cf-85e11210637e",
        "colab": {
          "base_uri": "https://localhost:8080/"
        }
      },
      "execution_count": 66,
      "outputs": [
        {
          "output_type": "execute_result",
          "data": {
            "text/plain": [
              "tensor(277)"
            ]
          },
          "metadata": {},
          "execution_count": 66
        }
      ]
    },
    {
      "cell_type": "code",
      "source": [
        "model.movie_bias.weight[277]"
      ],
      "metadata": {
        "id": "Kmz8ahPk4amJ",
        "outputId": "88f6372e-277b-49eb-9a91-b2762437eaa8",
        "colab": {
          "base_uri": "https://localhost:8080/"
        }
      },
      "execution_count": 67,
      "outputs": [
        {
          "output_type": "execute_result",
          "data": {
            "text/plain": [
              "tensor([1.0309], grad_fn=<SelectBackward0>)"
            ]
          },
          "metadata": {},
          "execution_count": 67
        }
      ]
    },
    {
      "cell_type": "code",
      "source": [
        "dataset.movie_ids[277]"
      ],
      "metadata": {
        "id": "paReltx14fLF",
        "outputId": "70a53665-f4e6-4248-c9fa-36048b4921fb",
        "colab": {
          "base_uri": "https://localhost:8080/"
        }
      },
      "execution_count": 70,
      "outputs": [
        {
          "output_type": "execute_result",
          "data": {
            "text/plain": [
              "318"
            ]
          },
          "metadata": {},
          "execution_count": 70
        }
      ]
    },
    {
      "cell_type": "code",
      "source": [
        "dataset.movie2idx[314]"
      ],
      "metadata": {
        "id": "5AE8eHQg5Avf",
        "outputId": "5efdc80a-b236-4289-9a1d-a81073679f0b",
        "colab": {
          "base_uri": "https://localhost:8080/"
        }
      },
      "execution_count": 71,
      "outputs": [
        {
          "output_type": "execute_result",
          "data": {
            "text/plain": [
              "273"
            ]
          },
          "metadata": {},
          "execution_count": 71
        }
      ]
    },
    {
      "cell_type": "code",
      "source": [
        "model.movie_bias.weight[273]"
      ],
      "metadata": {
        "id": "wtMOB-2e5Hyh",
        "outputId": "5af213e3-c3c1-4928-873d-dad143a8bd3d",
        "colab": {
          "base_uri": "https://localhost:8080/"
        }
      },
      "execution_count": 72,
      "outputs": [
        {
          "output_type": "execute_result",
          "data": {
            "text/plain": [
              "tensor([0.2566], grad_fn=<SelectBackward0>)"
            ]
          },
          "metadata": {},
          "execution_count": 72
        }
      ]
    }
  ],
  "metadata": {
    "colab": {
      "collapsed_sections": [
        "UJU3PVESURq8"
      ],
      "provenance": [],
      "gpuType": "T4",
      "include_colab_link": true
    },
    "kernelspec": {
      "display_name": "Python 3",
      "name": "python3"
    },
    "language_info": {
      "codemirror_mode": {
        "name": "ipython",
        "version": 3
      },
      "file_extension": ".py",
      "mimetype": "text/x-python",
      "name": "python",
      "nbconvert_exporter": "python",
      "pygments_lexer": "ipython3",
      "version": "3.8.10"
    },
    "vscode": {
      "interpreter": {
        "hash": "31f2aee4e71d21fbe5cf8b01ff0e069b9275f58929596ceb00d14d90e3e16cd6"
      }
    },
    "widgets": {
      "application/vnd.jupyter.widget-state+json": {
        "c83e91d06bf14c39aa798ba565efc0e1": {
          "model_module": "@jupyter-widgets/controls",
          "model_name": "HBoxModel",
          "model_module_version": "1.5.0",
          "state": {
            "_dom_classes": [],
            "_model_module": "@jupyter-widgets/controls",
            "_model_module_version": "1.5.0",
            "_model_name": "HBoxModel",
            "_view_count": null,
            "_view_module": "@jupyter-widgets/controls",
            "_view_module_version": "1.5.0",
            "_view_name": "HBoxView",
            "box_style": "",
            "children": [
              "IPY_MODEL_f2df75e3f4c141e6ab13d862f36bbcb4",
              "IPY_MODEL_7db9c4cbb20f478aa23a7c901a0cda13",
              "IPY_MODEL_37ba4001d7e2439bad1fe565b817b8bb"
            ],
            "layout": "IPY_MODEL_db99d86189ca4aff8b1883593dd91ccc"
          }
        },
        "f2df75e3f4c141e6ab13d862f36bbcb4": {
          "model_module": "@jupyter-widgets/controls",
          "model_name": "HTMLModel",
          "model_module_version": "1.5.0",
          "state": {
            "_dom_classes": [],
            "_model_module": "@jupyter-widgets/controls",
            "_model_module_version": "1.5.0",
            "_model_name": "HTMLModel",
            "_view_count": null,
            "_view_module": "@jupyter-widgets/controls",
            "_view_module_version": "1.5.0",
            "_view_name": "HTMLView",
            "description": "",
            "description_tooltip": null,
            "layout": "IPY_MODEL_8fe617e789494f698fcb56cc03e670a1",
            "placeholder": "​",
            "style": "IPY_MODEL_38778e2072254e4b99c225992ad79ced",
            "value": "100%"
          }
        },
        "7db9c4cbb20f478aa23a7c901a0cda13": {
          "model_module": "@jupyter-widgets/controls",
          "model_name": "FloatProgressModel",
          "model_module_version": "1.5.0",
          "state": {
            "_dom_classes": [],
            "_model_module": "@jupyter-widgets/controls",
            "_model_module_version": "1.5.0",
            "_model_name": "FloatProgressModel",
            "_view_count": null,
            "_view_module": "@jupyter-widgets/controls",
            "_view_module_version": "1.5.0",
            "_view_name": "ProgressView",
            "bar_style": "success",
            "description": "",
            "description_tooltip": null,
            "layout": "IPY_MODEL_492dce82e0394392b676d6c3dbeb5513",
            "max": 3,
            "min": 0,
            "orientation": "horizontal",
            "style": "IPY_MODEL_46f3aacaab7c4343bab79739db22161a",
            "value": 3
          }
        },
        "37ba4001d7e2439bad1fe565b817b8bb": {
          "model_module": "@jupyter-widgets/controls",
          "model_name": "HTMLModel",
          "model_module_version": "1.5.0",
          "state": {
            "_dom_classes": [],
            "_model_module": "@jupyter-widgets/controls",
            "_model_module_version": "1.5.0",
            "_model_name": "HTMLModel",
            "_view_count": null,
            "_view_module": "@jupyter-widgets/controls",
            "_view_module_version": "1.5.0",
            "_view_name": "HTMLView",
            "description": "",
            "description_tooltip": null,
            "layout": "IPY_MODEL_0c9e6c2b9eae426686eaa87f8cf74a8c",
            "placeholder": "​",
            "style": "IPY_MODEL_20c2939fb76d425abaae9be8b91b3b1d",
            "value": " 3/3 [01:04&lt;00:00, 21.18s/it]"
          }
        },
        "db99d86189ca4aff8b1883593dd91ccc": {
          "model_module": "@jupyter-widgets/base",
          "model_name": "LayoutModel",
          "model_module_version": "1.2.0",
          "state": {
            "_model_module": "@jupyter-widgets/base",
            "_model_module_version": "1.2.0",
            "_model_name": "LayoutModel",
            "_view_count": null,
            "_view_module": "@jupyter-widgets/base",
            "_view_module_version": "1.2.0",
            "_view_name": "LayoutView",
            "align_content": null,
            "align_items": null,
            "align_self": null,
            "border": null,
            "bottom": null,
            "display": null,
            "flex": null,
            "flex_flow": null,
            "grid_area": null,
            "grid_auto_columns": null,
            "grid_auto_flow": null,
            "grid_auto_rows": null,
            "grid_column": null,
            "grid_gap": null,
            "grid_row": null,
            "grid_template_areas": null,
            "grid_template_columns": null,
            "grid_template_rows": null,
            "height": null,
            "justify_content": null,
            "justify_items": null,
            "left": null,
            "margin": null,
            "max_height": null,
            "max_width": null,
            "min_height": null,
            "min_width": null,
            "object_fit": null,
            "object_position": null,
            "order": null,
            "overflow": null,
            "overflow_x": null,
            "overflow_y": null,
            "padding": null,
            "right": null,
            "top": null,
            "visibility": null,
            "width": null
          }
        },
        "8fe617e789494f698fcb56cc03e670a1": {
          "model_module": "@jupyter-widgets/base",
          "model_name": "LayoutModel",
          "model_module_version": "1.2.0",
          "state": {
            "_model_module": "@jupyter-widgets/base",
            "_model_module_version": "1.2.0",
            "_model_name": "LayoutModel",
            "_view_count": null,
            "_view_module": "@jupyter-widgets/base",
            "_view_module_version": "1.2.0",
            "_view_name": "LayoutView",
            "align_content": null,
            "align_items": null,
            "align_self": null,
            "border": null,
            "bottom": null,
            "display": null,
            "flex": null,
            "flex_flow": null,
            "grid_area": null,
            "grid_auto_columns": null,
            "grid_auto_flow": null,
            "grid_auto_rows": null,
            "grid_column": null,
            "grid_gap": null,
            "grid_row": null,
            "grid_template_areas": null,
            "grid_template_columns": null,
            "grid_template_rows": null,
            "height": null,
            "justify_content": null,
            "justify_items": null,
            "left": null,
            "margin": null,
            "max_height": null,
            "max_width": null,
            "min_height": null,
            "min_width": null,
            "object_fit": null,
            "object_position": null,
            "order": null,
            "overflow": null,
            "overflow_x": null,
            "overflow_y": null,
            "padding": null,
            "right": null,
            "top": null,
            "visibility": null,
            "width": null
          }
        },
        "38778e2072254e4b99c225992ad79ced": {
          "model_module": "@jupyter-widgets/controls",
          "model_name": "DescriptionStyleModel",
          "model_module_version": "1.5.0",
          "state": {
            "_model_module": "@jupyter-widgets/controls",
            "_model_module_version": "1.5.0",
            "_model_name": "DescriptionStyleModel",
            "_view_count": null,
            "_view_module": "@jupyter-widgets/base",
            "_view_module_version": "1.2.0",
            "_view_name": "StyleView",
            "description_width": ""
          }
        },
        "492dce82e0394392b676d6c3dbeb5513": {
          "model_module": "@jupyter-widgets/base",
          "model_name": "LayoutModel",
          "model_module_version": "1.2.0",
          "state": {
            "_model_module": "@jupyter-widgets/base",
            "_model_module_version": "1.2.0",
            "_model_name": "LayoutModel",
            "_view_count": null,
            "_view_module": "@jupyter-widgets/base",
            "_view_module_version": "1.2.0",
            "_view_name": "LayoutView",
            "align_content": null,
            "align_items": null,
            "align_self": null,
            "border": null,
            "bottom": null,
            "display": null,
            "flex": null,
            "flex_flow": null,
            "grid_area": null,
            "grid_auto_columns": null,
            "grid_auto_flow": null,
            "grid_auto_rows": null,
            "grid_column": null,
            "grid_gap": null,
            "grid_row": null,
            "grid_template_areas": null,
            "grid_template_columns": null,
            "grid_template_rows": null,
            "height": null,
            "justify_content": null,
            "justify_items": null,
            "left": null,
            "margin": null,
            "max_height": null,
            "max_width": null,
            "min_height": null,
            "min_width": null,
            "object_fit": null,
            "object_position": null,
            "order": null,
            "overflow": null,
            "overflow_x": null,
            "overflow_y": null,
            "padding": null,
            "right": null,
            "top": null,
            "visibility": null,
            "width": null
          }
        },
        "46f3aacaab7c4343bab79739db22161a": {
          "model_module": "@jupyter-widgets/controls",
          "model_name": "ProgressStyleModel",
          "model_module_version": "1.5.0",
          "state": {
            "_model_module": "@jupyter-widgets/controls",
            "_model_module_version": "1.5.0",
            "_model_name": "ProgressStyleModel",
            "_view_count": null,
            "_view_module": "@jupyter-widgets/base",
            "_view_module_version": "1.2.0",
            "_view_name": "StyleView",
            "bar_color": null,
            "description_width": ""
          }
        },
        "0c9e6c2b9eae426686eaa87f8cf74a8c": {
          "model_module": "@jupyter-widgets/base",
          "model_name": "LayoutModel",
          "model_module_version": "1.2.0",
          "state": {
            "_model_module": "@jupyter-widgets/base",
            "_model_module_version": "1.2.0",
            "_model_name": "LayoutModel",
            "_view_count": null,
            "_view_module": "@jupyter-widgets/base",
            "_view_module_version": "1.2.0",
            "_view_name": "LayoutView",
            "align_content": null,
            "align_items": null,
            "align_self": null,
            "border": null,
            "bottom": null,
            "display": null,
            "flex": null,
            "flex_flow": null,
            "grid_area": null,
            "grid_auto_columns": null,
            "grid_auto_flow": null,
            "grid_auto_rows": null,
            "grid_column": null,
            "grid_gap": null,
            "grid_row": null,
            "grid_template_areas": null,
            "grid_template_columns": null,
            "grid_template_rows": null,
            "height": null,
            "justify_content": null,
            "justify_items": null,
            "left": null,
            "margin": null,
            "max_height": null,
            "max_width": null,
            "min_height": null,
            "min_width": null,
            "object_fit": null,
            "object_position": null,
            "order": null,
            "overflow": null,
            "overflow_x": null,
            "overflow_y": null,
            "padding": null,
            "right": null,
            "top": null,
            "visibility": null,
            "width": null
          }
        },
        "20c2939fb76d425abaae9be8b91b3b1d": {
          "model_module": "@jupyter-widgets/controls",
          "model_name": "DescriptionStyleModel",
          "model_module_version": "1.5.0",
          "state": {
            "_model_module": "@jupyter-widgets/controls",
            "_model_module_version": "1.5.0",
            "_model_name": "DescriptionStyleModel",
            "_view_count": null,
            "_view_module": "@jupyter-widgets/base",
            "_view_module_version": "1.2.0",
            "_view_name": "StyleView",
            "description_width": ""
          }
        },
        "c3c7fb99eb4d45859ab6dfef444880cc": {
          "model_module": "@jupyter-widgets/controls",
          "model_name": "HBoxModel",
          "model_module_version": "1.5.0",
          "state": {
            "_dom_classes": [],
            "_model_module": "@jupyter-widgets/controls",
            "_model_module_version": "1.5.0",
            "_model_name": "HBoxModel",
            "_view_count": null,
            "_view_module": "@jupyter-widgets/controls",
            "_view_module_version": "1.5.0",
            "_view_name": "HBoxView",
            "box_style": "",
            "children": [
              "IPY_MODEL_a887a41934124c018fff5aefe1a16e10",
              "IPY_MODEL_1812d25c16d54150931dc11f194eecc1",
              "IPY_MODEL_e93bd6fdb3254f8e87a22c86c733e328"
            ],
            "layout": "IPY_MODEL_bc8b352e9b464d8f86596a016be4a116"
          }
        },
        "a887a41934124c018fff5aefe1a16e10": {
          "model_module": "@jupyter-widgets/controls",
          "model_name": "HTMLModel",
          "model_module_version": "1.5.0",
          "state": {
            "_dom_classes": [],
            "_model_module": "@jupyter-widgets/controls",
            "_model_module_version": "1.5.0",
            "_model_name": "HTMLModel",
            "_view_count": null,
            "_view_module": "@jupyter-widgets/controls",
            "_view_module_version": "1.5.0",
            "_view_name": "HTMLView",
            "description": "",
            "description_tooltip": null,
            "layout": "IPY_MODEL_9795c69f0d7c4adca215770baf81e7c1",
            "placeholder": "​",
            "style": "IPY_MODEL_27bcd66e19a9437dae1a00c505e82a9f",
            "value": " 99%"
          }
        },
        "1812d25c16d54150931dc11f194eecc1": {
          "model_module": "@jupyter-widgets/controls",
          "model_name": "FloatProgressModel",
          "model_module_version": "1.5.0",
          "state": {
            "_dom_classes": [],
            "_model_module": "@jupyter-widgets/controls",
            "_model_module_version": "1.5.0",
            "_model_name": "FloatProgressModel",
            "_view_count": null,
            "_view_module": "@jupyter-widgets/controls",
            "_view_module_version": "1.5.0",
            "_view_name": "ProgressView",
            "bar_style": "",
            "description": "",
            "description_tooltip": null,
            "layout": "IPY_MODEL_bf84090777fd4955af1ca7b530b7d0d0",
            "max": 355,
            "min": 0,
            "orientation": "horizontal",
            "style": "IPY_MODEL_7619f941486047af93ad24c5c06875de",
            "value": 355
          }
        },
        "e93bd6fdb3254f8e87a22c86c733e328": {
          "model_module": "@jupyter-widgets/controls",
          "model_name": "HTMLModel",
          "model_module_version": "1.5.0",
          "state": {
            "_dom_classes": [],
            "_model_module": "@jupyter-widgets/controls",
            "_model_module_version": "1.5.0",
            "_model_name": "HTMLModel",
            "_view_count": null,
            "_view_module": "@jupyter-widgets/controls",
            "_view_module_version": "1.5.0",
            "_view_name": "HTMLView",
            "description": "",
            "description_tooltip": null,
            "layout": "IPY_MODEL_f24227cd251b43fbb20af925dba73504",
            "placeholder": "​",
            "style": "IPY_MODEL_91431c4b1788418689d13124ea9a53eb",
            "value": " 351/355 [00:18&lt;00:00, 23.75it/s]"
          }
        },
        "bc8b352e9b464d8f86596a016be4a116": {
          "model_module": "@jupyter-widgets/base",
          "model_name": "LayoutModel",
          "model_module_version": "1.2.0",
          "state": {
            "_model_module": "@jupyter-widgets/base",
            "_model_module_version": "1.2.0",
            "_model_name": "LayoutModel",
            "_view_count": null,
            "_view_module": "@jupyter-widgets/base",
            "_view_module_version": "1.2.0",
            "_view_name": "LayoutView",
            "align_content": null,
            "align_items": null,
            "align_self": null,
            "border": null,
            "bottom": null,
            "display": null,
            "flex": null,
            "flex_flow": null,
            "grid_area": null,
            "grid_auto_columns": null,
            "grid_auto_flow": null,
            "grid_auto_rows": null,
            "grid_column": null,
            "grid_gap": null,
            "grid_row": null,
            "grid_template_areas": null,
            "grid_template_columns": null,
            "grid_template_rows": null,
            "height": null,
            "justify_content": null,
            "justify_items": null,
            "left": null,
            "margin": null,
            "max_height": null,
            "max_width": null,
            "min_height": null,
            "min_width": null,
            "object_fit": null,
            "object_position": null,
            "order": null,
            "overflow": null,
            "overflow_x": null,
            "overflow_y": null,
            "padding": null,
            "right": null,
            "top": null,
            "visibility": "hidden",
            "width": null
          }
        },
        "9795c69f0d7c4adca215770baf81e7c1": {
          "model_module": "@jupyter-widgets/base",
          "model_name": "LayoutModel",
          "model_module_version": "1.2.0",
          "state": {
            "_model_module": "@jupyter-widgets/base",
            "_model_module_version": "1.2.0",
            "_model_name": "LayoutModel",
            "_view_count": null,
            "_view_module": "@jupyter-widgets/base",
            "_view_module_version": "1.2.0",
            "_view_name": "LayoutView",
            "align_content": null,
            "align_items": null,
            "align_self": null,
            "border": null,
            "bottom": null,
            "display": null,
            "flex": null,
            "flex_flow": null,
            "grid_area": null,
            "grid_auto_columns": null,
            "grid_auto_flow": null,
            "grid_auto_rows": null,
            "grid_column": null,
            "grid_gap": null,
            "grid_row": null,
            "grid_template_areas": null,
            "grid_template_columns": null,
            "grid_template_rows": null,
            "height": null,
            "justify_content": null,
            "justify_items": null,
            "left": null,
            "margin": null,
            "max_height": null,
            "max_width": null,
            "min_height": null,
            "min_width": null,
            "object_fit": null,
            "object_position": null,
            "order": null,
            "overflow": null,
            "overflow_x": null,
            "overflow_y": null,
            "padding": null,
            "right": null,
            "top": null,
            "visibility": null,
            "width": null
          }
        },
        "27bcd66e19a9437dae1a00c505e82a9f": {
          "model_module": "@jupyter-widgets/controls",
          "model_name": "DescriptionStyleModel",
          "model_module_version": "1.5.0",
          "state": {
            "_model_module": "@jupyter-widgets/controls",
            "_model_module_version": "1.5.0",
            "_model_name": "DescriptionStyleModel",
            "_view_count": null,
            "_view_module": "@jupyter-widgets/base",
            "_view_module_version": "1.2.0",
            "_view_name": "StyleView",
            "description_width": ""
          }
        },
        "bf84090777fd4955af1ca7b530b7d0d0": {
          "model_module": "@jupyter-widgets/base",
          "model_name": "LayoutModel",
          "model_module_version": "1.2.0",
          "state": {
            "_model_module": "@jupyter-widgets/base",
            "_model_module_version": "1.2.0",
            "_model_name": "LayoutModel",
            "_view_count": null,
            "_view_module": "@jupyter-widgets/base",
            "_view_module_version": "1.2.0",
            "_view_name": "LayoutView",
            "align_content": null,
            "align_items": null,
            "align_self": null,
            "border": null,
            "bottom": null,
            "display": null,
            "flex": null,
            "flex_flow": null,
            "grid_area": null,
            "grid_auto_columns": null,
            "grid_auto_flow": null,
            "grid_auto_rows": null,
            "grid_column": null,
            "grid_gap": null,
            "grid_row": null,
            "grid_template_areas": null,
            "grid_template_columns": null,
            "grid_template_rows": null,
            "height": null,
            "justify_content": null,
            "justify_items": null,
            "left": null,
            "margin": null,
            "max_height": null,
            "max_width": null,
            "min_height": null,
            "min_width": null,
            "object_fit": null,
            "object_position": null,
            "order": null,
            "overflow": null,
            "overflow_x": null,
            "overflow_y": null,
            "padding": null,
            "right": null,
            "top": null,
            "visibility": null,
            "width": null
          }
        },
        "7619f941486047af93ad24c5c06875de": {
          "model_module": "@jupyter-widgets/controls",
          "model_name": "ProgressStyleModel",
          "model_module_version": "1.5.0",
          "state": {
            "_model_module": "@jupyter-widgets/controls",
            "_model_module_version": "1.5.0",
            "_model_name": "ProgressStyleModel",
            "_view_count": null,
            "_view_module": "@jupyter-widgets/base",
            "_view_module_version": "1.2.0",
            "_view_name": "StyleView",
            "bar_color": null,
            "description_width": ""
          }
        },
        "f24227cd251b43fbb20af925dba73504": {
          "model_module": "@jupyter-widgets/base",
          "model_name": "LayoutModel",
          "model_module_version": "1.2.0",
          "state": {
            "_model_module": "@jupyter-widgets/base",
            "_model_module_version": "1.2.0",
            "_model_name": "LayoutModel",
            "_view_count": null,
            "_view_module": "@jupyter-widgets/base",
            "_view_module_version": "1.2.0",
            "_view_name": "LayoutView",
            "align_content": null,
            "align_items": null,
            "align_self": null,
            "border": null,
            "bottom": null,
            "display": null,
            "flex": null,
            "flex_flow": null,
            "grid_area": null,
            "grid_auto_columns": null,
            "grid_auto_flow": null,
            "grid_auto_rows": null,
            "grid_column": null,
            "grid_gap": null,
            "grid_row": null,
            "grid_template_areas": null,
            "grid_template_columns": null,
            "grid_template_rows": null,
            "height": null,
            "justify_content": null,
            "justify_items": null,
            "left": null,
            "margin": null,
            "max_height": null,
            "max_width": null,
            "min_height": null,
            "min_width": null,
            "object_fit": null,
            "object_position": null,
            "order": null,
            "overflow": null,
            "overflow_x": null,
            "overflow_y": null,
            "padding": null,
            "right": null,
            "top": null,
            "visibility": null,
            "width": null
          }
        },
        "91431c4b1788418689d13124ea9a53eb": {
          "model_module": "@jupyter-widgets/controls",
          "model_name": "DescriptionStyleModel",
          "model_module_version": "1.5.0",
          "state": {
            "_model_module": "@jupyter-widgets/controls",
            "_model_module_version": "1.5.0",
            "_model_name": "DescriptionStyleModel",
            "_view_count": null,
            "_view_module": "@jupyter-widgets/base",
            "_view_module_version": "1.2.0",
            "_view_name": "StyleView",
            "description_width": ""
          }
        },
        "2dc70d4bbadc4d24a2ec3f23dbcef754": {
          "model_module": "@jupyter-widgets/controls",
          "model_name": "HBoxModel",
          "model_module_version": "1.5.0",
          "state": {
            "_dom_classes": [],
            "_model_module": "@jupyter-widgets/controls",
            "_model_module_version": "1.5.0",
            "_model_name": "HBoxModel",
            "_view_count": null,
            "_view_module": "@jupyter-widgets/controls",
            "_view_module_version": "1.5.0",
            "_view_name": "HBoxView",
            "box_style": "",
            "children": [
              "IPY_MODEL_4e876163f41745a9ac2cda20987ba679",
              "IPY_MODEL_0d46aee3e73742a8b4cf5942aa63992e",
              "IPY_MODEL_2147de2b76d24f6ab30a5e6616598002"
            ],
            "layout": "IPY_MODEL_4be8c92be1454e36970db6683f818a6f"
          }
        },
        "4e876163f41745a9ac2cda20987ba679": {
          "model_module": "@jupyter-widgets/controls",
          "model_name": "HTMLModel",
          "model_module_version": "1.5.0",
          "state": {
            "_dom_classes": [],
            "_model_module": "@jupyter-widgets/controls",
            "_model_module_version": "1.5.0",
            "_model_name": "HTMLModel",
            "_view_count": null,
            "_view_module": "@jupyter-widgets/controls",
            "_view_module_version": "1.5.0",
            "_view_name": "HTMLView",
            "description": "",
            "description_tooltip": null,
            "layout": "IPY_MODEL_0f5b3f590f544b68bd0c929d64d4493d",
            "placeholder": "​",
            "style": "IPY_MODEL_549bc99446df4fc3b484cbd7829c293e",
            "value": "100%"
          }
        },
        "0d46aee3e73742a8b4cf5942aa63992e": {
          "model_module": "@jupyter-widgets/controls",
          "model_name": "FloatProgressModel",
          "model_module_version": "1.5.0",
          "state": {
            "_dom_classes": [],
            "_model_module": "@jupyter-widgets/controls",
            "_model_module_version": "1.5.0",
            "_model_name": "FloatProgressModel",
            "_view_count": null,
            "_view_module": "@jupyter-widgets/controls",
            "_view_module_version": "1.5.0",
            "_view_name": "ProgressView",
            "bar_style": "",
            "description": "",
            "description_tooltip": null,
            "layout": "IPY_MODEL_d173246c5a53453089fc945af0f8a743",
            "max": 355,
            "min": 0,
            "orientation": "horizontal",
            "style": "IPY_MODEL_151ab289e23b4a3aa4545fe45626899a",
            "value": 355
          }
        },
        "2147de2b76d24f6ab30a5e6616598002": {
          "model_module": "@jupyter-widgets/controls",
          "model_name": "HTMLModel",
          "model_module_version": "1.5.0",
          "state": {
            "_dom_classes": [],
            "_model_module": "@jupyter-widgets/controls",
            "_model_module_version": "1.5.0",
            "_model_name": "HTMLModel",
            "_view_count": null,
            "_view_module": "@jupyter-widgets/controls",
            "_view_module_version": "1.5.0",
            "_view_name": "HTMLView",
            "description": "",
            "description_tooltip": null,
            "layout": "IPY_MODEL_875f5f78a780437a83fccd5a68bbeadc",
            "placeholder": "​",
            "style": "IPY_MODEL_c47b5058350e477a80d6e07cb5cb19e2",
            "value": " 354/355 [00:28&lt;00:00, 26.60it/s]"
          }
        },
        "4be8c92be1454e36970db6683f818a6f": {
          "model_module": "@jupyter-widgets/base",
          "model_name": "LayoutModel",
          "model_module_version": "1.2.0",
          "state": {
            "_model_module": "@jupyter-widgets/base",
            "_model_module_version": "1.2.0",
            "_model_name": "LayoutModel",
            "_view_count": null,
            "_view_module": "@jupyter-widgets/base",
            "_view_module_version": "1.2.0",
            "_view_name": "LayoutView",
            "align_content": null,
            "align_items": null,
            "align_self": null,
            "border": null,
            "bottom": null,
            "display": null,
            "flex": null,
            "flex_flow": null,
            "grid_area": null,
            "grid_auto_columns": null,
            "grid_auto_flow": null,
            "grid_auto_rows": null,
            "grid_column": null,
            "grid_gap": null,
            "grid_row": null,
            "grid_template_areas": null,
            "grid_template_columns": null,
            "grid_template_rows": null,
            "height": null,
            "justify_content": null,
            "justify_items": null,
            "left": null,
            "margin": null,
            "max_height": null,
            "max_width": null,
            "min_height": null,
            "min_width": null,
            "object_fit": null,
            "object_position": null,
            "order": null,
            "overflow": null,
            "overflow_x": null,
            "overflow_y": null,
            "padding": null,
            "right": null,
            "top": null,
            "visibility": "hidden",
            "width": null
          }
        },
        "0f5b3f590f544b68bd0c929d64d4493d": {
          "model_module": "@jupyter-widgets/base",
          "model_name": "LayoutModel",
          "model_module_version": "1.2.0",
          "state": {
            "_model_module": "@jupyter-widgets/base",
            "_model_module_version": "1.2.0",
            "_model_name": "LayoutModel",
            "_view_count": null,
            "_view_module": "@jupyter-widgets/base",
            "_view_module_version": "1.2.0",
            "_view_name": "LayoutView",
            "align_content": null,
            "align_items": null,
            "align_self": null,
            "border": null,
            "bottom": null,
            "display": null,
            "flex": null,
            "flex_flow": null,
            "grid_area": null,
            "grid_auto_columns": null,
            "grid_auto_flow": null,
            "grid_auto_rows": null,
            "grid_column": null,
            "grid_gap": null,
            "grid_row": null,
            "grid_template_areas": null,
            "grid_template_columns": null,
            "grid_template_rows": null,
            "height": null,
            "justify_content": null,
            "justify_items": null,
            "left": null,
            "margin": null,
            "max_height": null,
            "max_width": null,
            "min_height": null,
            "min_width": null,
            "object_fit": null,
            "object_position": null,
            "order": null,
            "overflow": null,
            "overflow_x": null,
            "overflow_y": null,
            "padding": null,
            "right": null,
            "top": null,
            "visibility": null,
            "width": null
          }
        },
        "549bc99446df4fc3b484cbd7829c293e": {
          "model_module": "@jupyter-widgets/controls",
          "model_name": "DescriptionStyleModel",
          "model_module_version": "1.5.0",
          "state": {
            "_model_module": "@jupyter-widgets/controls",
            "_model_module_version": "1.5.0",
            "_model_name": "DescriptionStyleModel",
            "_view_count": null,
            "_view_module": "@jupyter-widgets/base",
            "_view_module_version": "1.2.0",
            "_view_name": "StyleView",
            "description_width": ""
          }
        },
        "d173246c5a53453089fc945af0f8a743": {
          "model_module": "@jupyter-widgets/base",
          "model_name": "LayoutModel",
          "model_module_version": "1.2.0",
          "state": {
            "_model_module": "@jupyter-widgets/base",
            "_model_module_version": "1.2.0",
            "_model_name": "LayoutModel",
            "_view_count": null,
            "_view_module": "@jupyter-widgets/base",
            "_view_module_version": "1.2.0",
            "_view_name": "LayoutView",
            "align_content": null,
            "align_items": null,
            "align_self": null,
            "border": null,
            "bottom": null,
            "display": null,
            "flex": null,
            "flex_flow": null,
            "grid_area": null,
            "grid_auto_columns": null,
            "grid_auto_flow": null,
            "grid_auto_rows": null,
            "grid_column": null,
            "grid_gap": null,
            "grid_row": null,
            "grid_template_areas": null,
            "grid_template_columns": null,
            "grid_template_rows": null,
            "height": null,
            "justify_content": null,
            "justify_items": null,
            "left": null,
            "margin": null,
            "max_height": null,
            "max_width": null,
            "min_height": null,
            "min_width": null,
            "object_fit": null,
            "object_position": null,
            "order": null,
            "overflow": null,
            "overflow_x": null,
            "overflow_y": null,
            "padding": null,
            "right": null,
            "top": null,
            "visibility": null,
            "width": null
          }
        },
        "151ab289e23b4a3aa4545fe45626899a": {
          "model_module": "@jupyter-widgets/controls",
          "model_name": "ProgressStyleModel",
          "model_module_version": "1.5.0",
          "state": {
            "_model_module": "@jupyter-widgets/controls",
            "_model_module_version": "1.5.0",
            "_model_name": "ProgressStyleModel",
            "_view_count": null,
            "_view_module": "@jupyter-widgets/base",
            "_view_module_version": "1.2.0",
            "_view_name": "StyleView",
            "bar_color": null,
            "description_width": ""
          }
        },
        "875f5f78a780437a83fccd5a68bbeadc": {
          "model_module": "@jupyter-widgets/base",
          "model_name": "LayoutModel",
          "model_module_version": "1.2.0",
          "state": {
            "_model_module": "@jupyter-widgets/base",
            "_model_module_version": "1.2.0",
            "_model_name": "LayoutModel",
            "_view_count": null,
            "_view_module": "@jupyter-widgets/base",
            "_view_module_version": "1.2.0",
            "_view_name": "LayoutView",
            "align_content": null,
            "align_items": null,
            "align_self": null,
            "border": null,
            "bottom": null,
            "display": null,
            "flex": null,
            "flex_flow": null,
            "grid_area": null,
            "grid_auto_columns": null,
            "grid_auto_flow": null,
            "grid_auto_rows": null,
            "grid_column": null,
            "grid_gap": null,
            "grid_row": null,
            "grid_template_areas": null,
            "grid_template_columns": null,
            "grid_template_rows": null,
            "height": null,
            "justify_content": null,
            "justify_items": null,
            "left": null,
            "margin": null,
            "max_height": null,
            "max_width": null,
            "min_height": null,
            "min_width": null,
            "object_fit": null,
            "object_position": null,
            "order": null,
            "overflow": null,
            "overflow_x": null,
            "overflow_y": null,
            "padding": null,
            "right": null,
            "top": null,
            "visibility": null,
            "width": null
          }
        },
        "c47b5058350e477a80d6e07cb5cb19e2": {
          "model_module": "@jupyter-widgets/controls",
          "model_name": "DescriptionStyleModel",
          "model_module_version": "1.5.0",
          "state": {
            "_model_module": "@jupyter-widgets/controls",
            "_model_module_version": "1.5.0",
            "_model_name": "DescriptionStyleModel",
            "_view_count": null,
            "_view_module": "@jupyter-widgets/base",
            "_view_module_version": "1.2.0",
            "_view_name": "StyleView",
            "description_width": ""
          }
        },
        "b404854963a74b70ab79bb0449634561": {
          "model_module": "@jupyter-widgets/controls",
          "model_name": "HBoxModel",
          "model_module_version": "1.5.0",
          "state": {
            "_dom_classes": [],
            "_model_module": "@jupyter-widgets/controls",
            "_model_module_version": "1.5.0",
            "_model_name": "HBoxModel",
            "_view_count": null,
            "_view_module": "@jupyter-widgets/controls",
            "_view_module_version": "1.5.0",
            "_view_name": "HBoxView",
            "box_style": "",
            "children": [
              "IPY_MODEL_1a54ee479f5149b6a52a9349f308fd69",
              "IPY_MODEL_51545ea23bca47e386675c866968ce21",
              "IPY_MODEL_0f01c3647f55485fb48701394fe6952b"
            ],
            "layout": "IPY_MODEL_0b4bdcfe99884971839d2d9dbe52a2ab"
          }
        },
        "1a54ee479f5149b6a52a9349f308fd69": {
          "model_module": "@jupyter-widgets/controls",
          "model_name": "HTMLModel",
          "model_module_version": "1.5.0",
          "state": {
            "_dom_classes": [],
            "_model_module": "@jupyter-widgets/controls",
            "_model_module_version": "1.5.0",
            "_model_name": "HTMLModel",
            "_view_count": null,
            "_view_module": "@jupyter-widgets/controls",
            "_view_module_version": "1.5.0",
            "_view_name": "HTMLView",
            "description": "",
            "description_tooltip": null,
            "layout": "IPY_MODEL_61731370ffe64674ae8e3382f8b2bfee",
            "placeholder": "​",
            "style": "IPY_MODEL_470bc7537dd3498391624e99dda97218",
            "value": "100%"
          }
        },
        "51545ea23bca47e386675c866968ce21": {
          "model_module": "@jupyter-widgets/controls",
          "model_name": "FloatProgressModel",
          "model_module_version": "1.5.0",
          "state": {
            "_dom_classes": [],
            "_model_module": "@jupyter-widgets/controls",
            "_model_module_version": "1.5.0",
            "_model_name": "FloatProgressModel",
            "_view_count": null,
            "_view_module": "@jupyter-widgets/controls",
            "_view_module_version": "1.5.0",
            "_view_name": "ProgressView",
            "bar_style": "",
            "description": "",
            "description_tooltip": null,
            "layout": "IPY_MODEL_318da13b2bfa46c7b1ac3772ce62229b",
            "max": 355,
            "min": 0,
            "orientation": "horizontal",
            "style": "IPY_MODEL_fa267ca573a240eca785beb02b1e7a12",
            "value": 355
          }
        },
        "0f01c3647f55485fb48701394fe6952b": {
          "model_module": "@jupyter-widgets/controls",
          "model_name": "HTMLModel",
          "model_module_version": "1.5.0",
          "state": {
            "_dom_classes": [],
            "_model_module": "@jupyter-widgets/controls",
            "_model_module_version": "1.5.0",
            "_model_name": "HTMLModel",
            "_view_count": null,
            "_view_module": "@jupyter-widgets/controls",
            "_view_module_version": "1.5.0",
            "_view_name": "HTMLView",
            "description": "",
            "description_tooltip": null,
            "layout": "IPY_MODEL_14270f734abd4abdba1e1664cdf6971b",
            "placeholder": "​",
            "style": "IPY_MODEL_292d161eb4044d6981adbd4af1b1a207",
            "value": " 354/355 [00:17&lt;00:00, 24.64it/s]"
          }
        },
        "0b4bdcfe99884971839d2d9dbe52a2ab": {
          "model_module": "@jupyter-widgets/base",
          "model_name": "LayoutModel",
          "model_module_version": "1.2.0",
          "state": {
            "_model_module": "@jupyter-widgets/base",
            "_model_module_version": "1.2.0",
            "_model_name": "LayoutModel",
            "_view_count": null,
            "_view_module": "@jupyter-widgets/base",
            "_view_module_version": "1.2.0",
            "_view_name": "LayoutView",
            "align_content": null,
            "align_items": null,
            "align_self": null,
            "border": null,
            "bottom": null,
            "display": null,
            "flex": null,
            "flex_flow": null,
            "grid_area": null,
            "grid_auto_columns": null,
            "grid_auto_flow": null,
            "grid_auto_rows": null,
            "grid_column": null,
            "grid_gap": null,
            "grid_row": null,
            "grid_template_areas": null,
            "grid_template_columns": null,
            "grid_template_rows": null,
            "height": null,
            "justify_content": null,
            "justify_items": null,
            "left": null,
            "margin": null,
            "max_height": null,
            "max_width": null,
            "min_height": null,
            "min_width": null,
            "object_fit": null,
            "object_position": null,
            "order": null,
            "overflow": null,
            "overflow_x": null,
            "overflow_y": null,
            "padding": null,
            "right": null,
            "top": null,
            "visibility": "hidden",
            "width": null
          }
        },
        "61731370ffe64674ae8e3382f8b2bfee": {
          "model_module": "@jupyter-widgets/base",
          "model_name": "LayoutModel",
          "model_module_version": "1.2.0",
          "state": {
            "_model_module": "@jupyter-widgets/base",
            "_model_module_version": "1.2.0",
            "_model_name": "LayoutModel",
            "_view_count": null,
            "_view_module": "@jupyter-widgets/base",
            "_view_module_version": "1.2.0",
            "_view_name": "LayoutView",
            "align_content": null,
            "align_items": null,
            "align_self": null,
            "border": null,
            "bottom": null,
            "display": null,
            "flex": null,
            "flex_flow": null,
            "grid_area": null,
            "grid_auto_columns": null,
            "grid_auto_flow": null,
            "grid_auto_rows": null,
            "grid_column": null,
            "grid_gap": null,
            "grid_row": null,
            "grid_template_areas": null,
            "grid_template_columns": null,
            "grid_template_rows": null,
            "height": null,
            "justify_content": null,
            "justify_items": null,
            "left": null,
            "margin": null,
            "max_height": null,
            "max_width": null,
            "min_height": null,
            "min_width": null,
            "object_fit": null,
            "object_position": null,
            "order": null,
            "overflow": null,
            "overflow_x": null,
            "overflow_y": null,
            "padding": null,
            "right": null,
            "top": null,
            "visibility": null,
            "width": null
          }
        },
        "470bc7537dd3498391624e99dda97218": {
          "model_module": "@jupyter-widgets/controls",
          "model_name": "DescriptionStyleModel",
          "model_module_version": "1.5.0",
          "state": {
            "_model_module": "@jupyter-widgets/controls",
            "_model_module_version": "1.5.0",
            "_model_name": "DescriptionStyleModel",
            "_view_count": null,
            "_view_module": "@jupyter-widgets/base",
            "_view_module_version": "1.2.0",
            "_view_name": "StyleView",
            "description_width": ""
          }
        },
        "318da13b2bfa46c7b1ac3772ce62229b": {
          "model_module": "@jupyter-widgets/base",
          "model_name": "LayoutModel",
          "model_module_version": "1.2.0",
          "state": {
            "_model_module": "@jupyter-widgets/base",
            "_model_module_version": "1.2.0",
            "_model_name": "LayoutModel",
            "_view_count": null,
            "_view_module": "@jupyter-widgets/base",
            "_view_module_version": "1.2.0",
            "_view_name": "LayoutView",
            "align_content": null,
            "align_items": null,
            "align_self": null,
            "border": null,
            "bottom": null,
            "display": null,
            "flex": null,
            "flex_flow": null,
            "grid_area": null,
            "grid_auto_columns": null,
            "grid_auto_flow": null,
            "grid_auto_rows": null,
            "grid_column": null,
            "grid_gap": null,
            "grid_row": null,
            "grid_template_areas": null,
            "grid_template_columns": null,
            "grid_template_rows": null,
            "height": null,
            "justify_content": null,
            "justify_items": null,
            "left": null,
            "margin": null,
            "max_height": null,
            "max_width": null,
            "min_height": null,
            "min_width": null,
            "object_fit": null,
            "object_position": null,
            "order": null,
            "overflow": null,
            "overflow_x": null,
            "overflow_y": null,
            "padding": null,
            "right": null,
            "top": null,
            "visibility": null,
            "width": null
          }
        },
        "fa267ca573a240eca785beb02b1e7a12": {
          "model_module": "@jupyter-widgets/controls",
          "model_name": "ProgressStyleModel",
          "model_module_version": "1.5.0",
          "state": {
            "_model_module": "@jupyter-widgets/controls",
            "_model_module_version": "1.5.0",
            "_model_name": "ProgressStyleModel",
            "_view_count": null,
            "_view_module": "@jupyter-widgets/base",
            "_view_module_version": "1.2.0",
            "_view_name": "StyleView",
            "bar_color": null,
            "description_width": ""
          }
        },
        "14270f734abd4abdba1e1664cdf6971b": {
          "model_module": "@jupyter-widgets/base",
          "model_name": "LayoutModel",
          "model_module_version": "1.2.0",
          "state": {
            "_model_module": "@jupyter-widgets/base",
            "_model_module_version": "1.2.0",
            "_model_name": "LayoutModel",
            "_view_count": null,
            "_view_module": "@jupyter-widgets/base",
            "_view_module_version": "1.2.0",
            "_view_name": "LayoutView",
            "align_content": null,
            "align_items": null,
            "align_self": null,
            "border": null,
            "bottom": null,
            "display": null,
            "flex": null,
            "flex_flow": null,
            "grid_area": null,
            "grid_auto_columns": null,
            "grid_auto_flow": null,
            "grid_auto_rows": null,
            "grid_column": null,
            "grid_gap": null,
            "grid_row": null,
            "grid_template_areas": null,
            "grid_template_columns": null,
            "grid_template_rows": null,
            "height": null,
            "justify_content": null,
            "justify_items": null,
            "left": null,
            "margin": null,
            "max_height": null,
            "max_width": null,
            "min_height": null,
            "min_width": null,
            "object_fit": null,
            "object_position": null,
            "order": null,
            "overflow": null,
            "overflow_x": null,
            "overflow_y": null,
            "padding": null,
            "right": null,
            "top": null,
            "visibility": null,
            "width": null
          }
        },
        "292d161eb4044d6981adbd4af1b1a207": {
          "model_module": "@jupyter-widgets/controls",
          "model_name": "DescriptionStyleModel",
          "model_module_version": "1.5.0",
          "state": {
            "_model_module": "@jupyter-widgets/controls",
            "_model_module_version": "1.5.0",
            "_model_name": "DescriptionStyleModel",
            "_view_count": null,
            "_view_module": "@jupyter-widgets/base",
            "_view_module_version": "1.2.0",
            "_view_name": "StyleView",
            "description_width": ""
          }
        }
      }
    },
    "accelerator": "GPU"
  },
  "nbformat": 4,
  "nbformat_minor": 0
}