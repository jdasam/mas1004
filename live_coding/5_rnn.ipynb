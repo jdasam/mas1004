{
 "cells": [
  {
   "cell_type": "code",
   "execution_count": null,
   "metadata": {},
   "outputs": [],
   "source": [
    "# download data\n",
    "!wget https://archive.ics.uci.edu/static/public/591/gender+by+name.zip\n",
    "!unzip gender+by+name.zip"
   ]
  },
  {
   "cell_type": "code",
   "execution_count": null,
   "metadata": {},
   "outputs": [],
   "source": [
    "import pandas as pd\n",
    "df = pd.read_csv('name_gender_dataset.csv')\n",
    "unique_gender_df = df.drop_duplicates(['Name'])\n",
    "names = unique_gender_df['Name'].values\n",
    "genders = unique_gender_df['Gender'].values\n"
   ]
  }
 ],
 "metadata": {
  "kernelspec": {
   "display_name": "Python 3",
   "language": "python",
   "name": "python3"
  },
  "language_info": {
   "name": "python",
   "version": "3.9.6"
  }
 },
 "nbformat": 4,
 "nbformat_minor": 2
}
