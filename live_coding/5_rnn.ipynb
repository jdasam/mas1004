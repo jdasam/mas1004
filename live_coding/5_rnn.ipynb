{
  "cells": [
    {
      "cell_type": "markdown",
      "metadata": {
        "id": "view-in-github",
        "colab_type": "text"
      },
      "source": [
        "<a href=\"https://colab.research.google.com/github/jdasam/mas1004/blob/2024/live_coding/5_rnn.ipynb\" target=\"_parent\"><img src=\"https://colab.research.google.com/assets/colab-badge.svg\" alt=\"Open In Colab\"/></a>"
      ]
    },
    {
      "cell_type": "code",
      "execution_count": 1,
      "metadata": {
        "colab": {
          "base_uri": "https://localhost:8080/"
        },
        "id": "n_kJ3ZHxbpA2",
        "outputId": "0f7eab04-fd64-4010-8ce2-45cc57ba6d3f"
      },
      "outputs": [
        {
          "output_type": "stream",
          "name": "stdout",
          "text": [
            "--2024-11-21 06:35:44--  https://archive.ics.uci.edu/static/public/591/gender+by+name.zip\n",
            "Resolving archive.ics.uci.edu (archive.ics.uci.edu)... 128.195.10.252\n",
            "Connecting to archive.ics.uci.edu (archive.ics.uci.edu)|128.195.10.252|:443... connected.\n",
            "HTTP request sent, awaiting response... 200 OK\n",
            "Length: unspecified\n",
            "Saving to: ‘gender+by+name.zip’\n",
            "\n",
            "gender+by+name.zip      [   <=>              ]   3.60M  6.41MB/s    in 0.6s    \n",
            "\n",
            "2024-11-21 06:35:45 (6.41 MB/s) - ‘gender+by+name.zip’ saved [3774735]\n",
            "\n",
            "Archive:  gender+by+name.zip\n",
            " extracting: name_gender_dataset.csv  \n"
          ]
        }
      ],
      "source": [
        "# download data\n",
        "!wget https://archive.ics.uci.edu/static/public/591/gender+by+name.zip\n",
        "!unzip gender+by+name.zip"
      ]
    },
    {
      "cell_type": "code",
      "execution_count": 5,
      "metadata": {
        "id": "-zH5vtQXbpA2"
      },
      "outputs": [],
      "source": [
        "import pandas as pd\n",
        "df = pd.read_csv('name_gender_dataset.csv')\n",
        "unique_gender_df = df.drop_duplicates(['Name'])\n",
        "names = unique_gender_df['Name'].values\n",
        "genders = unique_gender_df['Gender'].values\n",
        "\n",
        "# names.tolist()\n"
      ]
    },
    {
      "cell_type": "markdown",
      "source": [
        "- `nn.Linear()`: $\\mathbf{Wx} + \\mathbf{b}$\n",
        "  - x $\\in \\mathbb{R}^d$\n",
        "\n",
        "- `RNN`\n",
        "  - $h_t = \\tanh (W_{xh}x_t + W_{hh}h_{t-1} + b) $\n",
        "  -  $h_t = \\tanh (W_{xh}x_t + b_x + W_{hh}h_{t-1} + b_h) $"
      ],
      "metadata": {
        "id": "362uCVRQcWa2"
      }
    },
    {
      "cell_type": "code",
      "source": [],
      "metadata": {
        "id": "lOmrvfRYefu0"
      },
      "execution_count": null,
      "outputs": []
    },
    {
      "cell_type": "code",
      "source": [
        "# Building Recurrent Neural Network\n",
        "import torch\n",
        "previous_hidden_state = torch.randn(7).tanh()\n",
        "current_input = torch.randn(5)\n",
        "\n",
        "print(previous_hidden_state, current_input)"
      ],
      "metadata": {
        "id": "lAXYtM89cFA4",
        "outputId": "d74d4772-ba24-4ab1-b7e4-2ab940e2a555",
        "colab": {
          "base_uri": "https://localhost:8080/"
        }
      },
      "execution_count": 11,
      "outputs": [
        {
          "output_type": "stream",
          "name": "stdout",
          "text": [
            "tensor([-0.2374,  0.9852,  0.2457,  0.1904,  0.8968,  0.5553,  0.9421]) tensor([ 0.1504,  2.1990, -0.5906, -0.1655, -0.1131])\n"
          ]
        }
      ]
    },
    {
      "cell_type": "code",
      "source": [
        "# Make longer input\n",
        "number_of_tokens = 9\n",
        "token_embedding_size = 5\n",
        "\n",
        "input_sequence = torch.randn((number_of_tokens, token_embedding_size))\n",
        "input_sequence.shape"
      ],
      "metadata": {
        "id": "qHT1FjXwhWiC",
        "outputId": "5e11a760-a679-4dc2-e033-df7afb3187aa",
        "colab": {
          "base_uri": "https://localhost:8080/"
        }
      },
      "execution_count": 15,
      "outputs": [
        {
          "output_type": "execute_result",
          "data": {
            "text/plain": [
              "torch.Size([9, 5])"
            ]
          },
          "metadata": {},
          "execution_count": 15
        }
      ]
    },
    {
      "cell_type": "code",
      "source": [
        "for cur_input in input_sequence:\n",
        "  print(cur_input)\n",
        "# for i in range(len(input_sequence)):\n",
        "#   print(input_sequence[i])"
      ],
      "metadata": {
        "id": "Kt17-6nUjMPP",
        "outputId": "5edd95d0-14ad-46de-e68b-1013f4ac42c5",
        "colab": {
          "base_uri": "https://localhost:8080/"
        }
      },
      "execution_count": 18,
      "outputs": [
        {
          "output_type": "stream",
          "name": "stdout",
          "text": [
            "tensor([ 0.1883, -0.8698,  0.8420,  0.4382,  0.1950])\n",
            "tensor([-0.6335, -1.2110, -0.5960,  0.1198,  0.5531])\n",
            "tensor([ 0.3202,  0.0699,  1.1909, -0.9390, -1.0263])\n",
            "tensor([-1.3726,  2.4775, -0.4886,  1.1196, -0.0905])\n",
            "tensor([-0.8446,  1.8695, -0.3196,  0.0235,  0.5834])\n",
            "tensor([ 1.2356, -0.3399,  0.1605,  0.2606,  1.1375])\n",
            "tensor([-0.2882, -0.6564,  0.5704, -0.6938, -0.2129])\n",
            "tensor([-1.7821, -1.2197,  0.2701,  0.1403,  0.6418])\n",
            "tensor([ 0.1810, -0.7498, -1.6920, -1.3025,  1.3241])\n"
          ]
        }
      ]
    },
    {
      "cell_type": "code",
      "source": [
        "import torch.nn as nn\n",
        "\n",
        "class MyRNN:\n",
        "  def __init__(self, input_dim, output_dim):\n",
        "    self.xh = nn.Linear(input_dim, output_dim)\n",
        "    self.hh = nn.Linear(output_dim, output_dim, bias=False)\n",
        "    self.hidden_size = output_dim\n",
        "\n",
        "  def run_one_step(self, current_input, previous_output):\n",
        "    out = self.xh(current_input) + self.hh(previous_output)\n",
        "    out = out.tanh()\n",
        "    return out\n",
        "\n",
        "  def run_sequence(self, input_sequence, last_hidden_state=None):\n",
        "    if last_hidden_state is None:\n",
        "      last_hidden_state = torch.zeros(self.hidden_size)\n",
        "\n",
        "    outputs = []\n",
        "    for cur_input in input_sequence:\n",
        "      last_hidden_state = self.run_one_step(cur_input, last_hidden_state)\n",
        "      outputs.append(last_hidden_state)\n",
        "\n",
        "    return torch.stack(outputs)\n",
        "\n",
        "\n",
        "rnn = MyRNN(input_dim=5, output_dim=7)\n",
        "# rnn.run_one_step(current_input, previous_hidden_state)\n",
        "rnn.run_sequence(input_sequence)"
      ],
      "metadata": {
        "id": "tlA_5rimegOm",
        "outputId": "b7e8ecb7-5c8d-4448-8860-ede148a4c5e6",
        "colab": {
          "base_uri": "https://localhost:8080/"
        }
      },
      "execution_count": 20,
      "outputs": [
        {
          "output_type": "execute_result",
          "data": {
            "text/plain": [
              "tensor([[-0.4771, -0.3320,  0.0756, -0.4062,  0.1258,  0.0620, -0.1833],\n",
              "        [-0.5957,  0.4569,  0.0726,  0.1967, -0.6884, -0.5386,  0.5966],\n",
              "        [-0.4063, -0.6572, -0.0639, -0.8374,  0.6214,  0.6223, -0.6699],\n",
              "        [ 0.2159,  0.7672,  0.9366, -0.3814,  0.6713,  0.7312,  0.8167],\n",
              "        [ 0.1331,  0.7417,  0.8792, -0.7471,  0.4889, -0.0286, -0.0763],\n",
              "        [-0.0055,  0.7557,  0.1285, -0.2088,  0.6357, -0.7966, -0.6023],\n",
              "        [-0.4253, -0.1544, -0.4811, -0.3965,  0.4023, -0.0944, -0.1270],\n",
              "        [-0.4319, -0.3542,  0.2626, -0.3648, -0.7713,  0.0845,  0.5615],\n",
              "        [-0.1893,  0.9389,  0.1143,  0.0564, -0.9426, -0.9483,  0.2609]],\n",
              "       grad_fn=<StackBackward0>)"
            ]
          },
          "metadata": {},
          "execution_count": 20
        }
      ]
    },
    {
      "cell_type": "code",
      "source": [
        "modified_sequence = input_sequence.clone()\n",
        "modified_sequence[4,:] = 0\n",
        "modified_sequence"
      ],
      "metadata": {
        "id": "LYKp0bUmkgPP",
        "outputId": "bbce02c0-6c5b-4e39-c8f9-6cc7a93629ce",
        "colab": {
          "base_uri": "https://localhost:8080/"
        }
      },
      "execution_count": 22,
      "outputs": [
        {
          "output_type": "execute_result",
          "data": {
            "text/plain": [
              "tensor([[ 0.1883, -0.8698,  0.8420,  0.4382,  0.1950],\n",
              "        [-0.6335, -1.2110, -0.5960,  0.1198,  0.5531],\n",
              "        [ 0.3202,  0.0699,  1.1909, -0.9390, -1.0263],\n",
              "        [-1.3726,  2.4775, -0.4886,  1.1196, -0.0905],\n",
              "        [ 0.0000,  0.0000,  0.0000,  0.0000,  0.0000],\n",
              "        [ 1.2356, -0.3399,  0.1605,  0.2606,  1.1375],\n",
              "        [-0.2882, -0.6564,  0.5704, -0.6938, -0.2129],\n",
              "        [-1.7821, -1.2197,  0.2701,  0.1403,  0.6418],\n",
              "        [ 0.1810, -0.7498, -1.6920, -1.3025,  1.3241]])"
            ]
          },
          "metadata": {},
          "execution_count": 22
        }
      ]
    },
    {
      "cell_type": "code",
      "source": [
        "rnn.run_sequence(modified_sequence)"
      ],
      "metadata": {
        "id": "cVaMWnHBkqo5",
        "outputId": "5de50d9a-3918-46b4-86c0-d2cd3df65cff",
        "colab": {
          "base_uri": "https://localhost:8080/"
        }
      },
      "execution_count": 23,
      "outputs": [
        {
          "output_type": "execute_result",
          "data": {
            "text/plain": [
              "tensor([[-0.4771, -0.3320,  0.0756, -0.4062,  0.1258,  0.0620, -0.1833],\n",
              "        [-0.5957,  0.4569,  0.0726,  0.1967, -0.6884, -0.5386,  0.5966],\n",
              "        [-0.4063, -0.6572, -0.0639, -0.8374,  0.6214,  0.6223, -0.6699],\n",
              "        [ 0.2159,  0.7672,  0.9366, -0.3814,  0.6713,  0.7312,  0.8167],\n",
              "        [-0.3479,  0.4803,  0.3535, -0.4024,  0.5282, -0.2599, -0.2210],\n",
              "        [ 0.1090,  0.6747, -0.0148, -0.1594,  0.5768, -0.7119, -0.5218],\n",
              "        [-0.3857, -0.1714, -0.4636, -0.4201,  0.2944, -0.0791, -0.1076],\n",
              "        [-0.4556, -0.3612,  0.2993, -0.3882, -0.7900,  0.0836,  0.5567],\n",
              "        [-0.1985,  0.9402,  0.1258,  0.0591, -0.9414, -0.9486,  0.2587]],\n",
              "       grad_fn=<StackBackward0>)"
            ]
          },
          "metadata": {},
          "execution_count": 23
        }
      ]
    }
  ],
  "metadata": {
    "kernelspec": {
      "display_name": "Python 3",
      "language": "python",
      "name": "python3"
    },
    "language_info": {
      "name": "python",
      "version": "3.9.6"
    },
    "colab": {
      "provenance": [],
      "include_colab_link": true
    }
  },
  "nbformat": 4,
  "nbformat_minor": 0
}