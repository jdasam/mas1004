{
 "cells": [
  {
   "cell_type": "markdown",
   "metadata": {},
   "source": [
    "# Recurrent Neural Network"
   ]
  },
  {
   "cell_type": "code",
   "execution_count": 1,
   "metadata": {},
   "outputs": [
    {
     "name": "stdout",
     "output_type": "stream",
     "text": [
      "--2023-11-23 14:34:46--  https://archive.ics.uci.edu/static/public/591/gender+by+name.zip\n",
      "Resolving archive.ics.uci.edu (archive.ics.uci.edu)... 128.195.10.252\n",
      "Connecting to archive.ics.uci.edu (archive.ics.uci.edu)|128.195.10.252|:443... connected.\n",
      "HTTP request sent, awaiting response... 200 OK\n",
      "Length: unspecified\n",
      "Saving to: ‘gender+by+name.zip’\n",
      "\n",
      "gender+by+name.zip      [     <=>            ]   3.60M  3.23MB/s    in 1.1s    \n",
      "\n",
      "2023-11-23 14:34:48 (3.23 MB/s) - ‘gender+by+name.zip’ saved [3774735]\n",
      "\n"
     ]
    }
   ],
   "source": [
    "# download data\n",
    "!wget https://archive.ics.uci.edu/static/public/591/gender+by+name.zip\n",
    "!unzip gender+by+name.zip"
   ]
  },
  {
   "cell_type": "code",
   "execution_count": 21,
   "metadata": {},
   "outputs": [],
   "source": [
    "import pandas as pd\n",
    "df = pd.read_csv('name_gender_dataset.csv')\n",
    "unique_gender_df = df.drop_duplicates(['Name'])\n",
    "names = unique_gender_df['Name'].values\n",
    "genders = unique_gender_df['Gender'].values"
   ]
  }
 ],
 "metadata": {
  "kernelspec": {
   "display_name": "Python 3",
   "language": "python",
   "name": "python3"
  },
  "language_info": {
   "codemirror_mode": {
    "name": "ipython",
    "version": 3
   },
   "file_extension": ".py",
   "mimetype": "text/x-python",
   "name": "python",
   "nbconvert_exporter": "python",
   "pygments_lexer": "ipython3",
   "version": "3.8.10"
  }
 },
 "nbformat": 4,
 "nbformat_minor": 2
}
