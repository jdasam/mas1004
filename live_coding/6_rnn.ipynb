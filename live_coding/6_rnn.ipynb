{
  "cells": [
    {
      "cell_type": "markdown",
      "metadata": {
        "id": "view-in-github",
        "colab_type": "text"
      },
      "source": [
        "<a href=\"https://colab.research.google.com/github/jdasam/mas1004-2023/blob/main/live_coding/6_rnn.ipynb\" target=\"_parent\"><img src=\"https://colab.research.google.com/assets/colab-badge.svg\" alt=\"Open In Colab\"/></a>"
      ]
    },
    {
      "cell_type": "markdown",
      "metadata": {
        "id": "hBBvWEFq7ka3"
      },
      "source": [
        "# Recurrent Neural Network"
      ]
    },
    {
      "cell_type": "code",
      "execution_count": 1,
      "metadata": {
        "colab": {
          "base_uri": "https://localhost:8080/"
        },
        "id": "qepSDrJv7ka4",
        "outputId": "3c6a3fde-2645-4d20-f79d-bfbfc65b130c"
      },
      "outputs": [
        {
          "output_type": "stream",
          "name": "stdout",
          "text": [
            "--2023-11-30 06:00:51--  https://archive.ics.uci.edu/static/public/591/gender+by+name.zip\n",
            "Resolving archive.ics.uci.edu (archive.ics.uci.edu)... 128.195.10.252\n",
            "Connecting to archive.ics.uci.edu (archive.ics.uci.edu)|128.195.10.252|:443... connected.\n",
            "HTTP request sent, awaiting response... 200 OK\n",
            "Length: unspecified\n",
            "Saving to: ‘gender+by+name.zip’\n",
            "\n",
            "gender+by+name.zip      [     <=>            ]   3.60M  2.95MB/s    in 1.2s    \n",
            "\n",
            "2023-11-30 06:00:53 (2.95 MB/s) - ‘gender+by+name.zip’ saved [3774735]\n",
            "\n",
            "Archive:  gender+by+name.zip\n",
            " extracting: name_gender_dataset.csv  \n"
          ]
        }
      ],
      "source": [
        "# download data\n",
        "!wget https://archive.ics.uci.edu/static/public/591/gender+by+name.zip\n",
        "!unzip gender+by+name.zip"
      ]
    },
    {
      "cell_type": "code",
      "execution_count": 2,
      "metadata": {
        "id": "RMjCUSah7ka5"
      },
      "outputs": [],
      "source": [
        "import pandas as pd\n",
        "df = pd.read_csv('name_gender_dataset.csv')\n",
        "unique_gender_df = df.drop_duplicates(['Name'])\n",
        "names = unique_gender_df['Name'].values\n",
        "genders = unique_gender_df['Gender'].values"
      ]
    },
    {
      "cell_type": "code",
      "source": [
        "df"
      ],
      "metadata": {
        "id": "QTtbSBiE0RoE",
        "outputId": "26485d61-8274-48b1-8967-c401c82558f6",
        "colab": {
          "base_uri": "https://localhost:8080/",
          "height": 424
        }
      },
      "execution_count": 3,
      "outputs": [
        {
          "output_type": "execute_result",
          "data": {
            "text/plain": [
              "           Name Gender    Count   Probability\n",
              "0         James      M  5304407  1.451679e-02\n",
              "1          John      M  5260831  1.439753e-02\n",
              "2        Robert      M  4970386  1.360266e-02\n",
              "3       Michael      M  4579950  1.253414e-02\n",
              "4       William      M  4226608  1.156713e-02\n",
              "...         ...    ...      ...           ...\n",
              "147264   Zylenn      M        1  2.736740e-09\n",
              "147265   Zymeon      M        1  2.736740e-09\n",
              "147266   Zyndel      M        1  2.736740e-09\n",
              "147267   Zyshan      M        1  2.736740e-09\n",
              "147268    Zyton      M        1  2.736740e-09\n",
              "\n",
              "[147269 rows x 4 columns]"
            ],
            "text/html": [
              "\n",
              "  <div id=\"df-4bdb820f-d94f-4129-883c-a76bb7479e7a\" class=\"colab-df-container\">\n",
              "    <div>\n",
              "<style scoped>\n",
              "    .dataframe tbody tr th:only-of-type {\n",
              "        vertical-align: middle;\n",
              "    }\n",
              "\n",
              "    .dataframe tbody tr th {\n",
              "        vertical-align: top;\n",
              "    }\n",
              "\n",
              "    .dataframe thead th {\n",
              "        text-align: right;\n",
              "    }\n",
              "</style>\n",
              "<table border=\"1\" class=\"dataframe\">\n",
              "  <thead>\n",
              "    <tr style=\"text-align: right;\">\n",
              "      <th></th>\n",
              "      <th>Name</th>\n",
              "      <th>Gender</th>\n",
              "      <th>Count</th>\n",
              "      <th>Probability</th>\n",
              "    </tr>\n",
              "  </thead>\n",
              "  <tbody>\n",
              "    <tr>\n",
              "      <th>0</th>\n",
              "      <td>James</td>\n",
              "      <td>M</td>\n",
              "      <td>5304407</td>\n",
              "      <td>1.451679e-02</td>\n",
              "    </tr>\n",
              "    <tr>\n",
              "      <th>1</th>\n",
              "      <td>John</td>\n",
              "      <td>M</td>\n",
              "      <td>5260831</td>\n",
              "      <td>1.439753e-02</td>\n",
              "    </tr>\n",
              "    <tr>\n",
              "      <th>2</th>\n",
              "      <td>Robert</td>\n",
              "      <td>M</td>\n",
              "      <td>4970386</td>\n",
              "      <td>1.360266e-02</td>\n",
              "    </tr>\n",
              "    <tr>\n",
              "      <th>3</th>\n",
              "      <td>Michael</td>\n",
              "      <td>M</td>\n",
              "      <td>4579950</td>\n",
              "      <td>1.253414e-02</td>\n",
              "    </tr>\n",
              "    <tr>\n",
              "      <th>4</th>\n",
              "      <td>William</td>\n",
              "      <td>M</td>\n",
              "      <td>4226608</td>\n",
              "      <td>1.156713e-02</td>\n",
              "    </tr>\n",
              "    <tr>\n",
              "      <th>...</th>\n",
              "      <td>...</td>\n",
              "      <td>...</td>\n",
              "      <td>...</td>\n",
              "      <td>...</td>\n",
              "    </tr>\n",
              "    <tr>\n",
              "      <th>147264</th>\n",
              "      <td>Zylenn</td>\n",
              "      <td>M</td>\n",
              "      <td>1</td>\n",
              "      <td>2.736740e-09</td>\n",
              "    </tr>\n",
              "    <tr>\n",
              "      <th>147265</th>\n",
              "      <td>Zymeon</td>\n",
              "      <td>M</td>\n",
              "      <td>1</td>\n",
              "      <td>2.736740e-09</td>\n",
              "    </tr>\n",
              "    <tr>\n",
              "      <th>147266</th>\n",
              "      <td>Zyndel</td>\n",
              "      <td>M</td>\n",
              "      <td>1</td>\n",
              "      <td>2.736740e-09</td>\n",
              "    </tr>\n",
              "    <tr>\n",
              "      <th>147267</th>\n",
              "      <td>Zyshan</td>\n",
              "      <td>M</td>\n",
              "      <td>1</td>\n",
              "      <td>2.736740e-09</td>\n",
              "    </tr>\n",
              "    <tr>\n",
              "      <th>147268</th>\n",
              "      <td>Zyton</td>\n",
              "      <td>M</td>\n",
              "      <td>1</td>\n",
              "      <td>2.736740e-09</td>\n",
              "    </tr>\n",
              "  </tbody>\n",
              "</table>\n",
              "<p>147269 rows × 4 columns</p>\n",
              "</div>\n",
              "    <div class=\"colab-df-buttons\">\n",
              "\n",
              "  <div class=\"colab-df-container\">\n",
              "    <button class=\"colab-df-convert\" onclick=\"convertToInteractive('df-4bdb820f-d94f-4129-883c-a76bb7479e7a')\"\n",
              "            title=\"Convert this dataframe to an interactive table.\"\n",
              "            style=\"display:none;\">\n",
              "\n",
              "  <svg xmlns=\"http://www.w3.org/2000/svg\" height=\"24px\" viewBox=\"0 -960 960 960\">\n",
              "    <path d=\"M120-120v-720h720v720H120Zm60-500h600v-160H180v160Zm220 220h160v-160H400v160Zm0 220h160v-160H400v160ZM180-400h160v-160H180v160Zm440 0h160v-160H620v160ZM180-180h160v-160H180v160Zm440 0h160v-160H620v160Z\"/>\n",
              "  </svg>\n",
              "    </button>\n",
              "\n",
              "  <style>\n",
              "    .colab-df-container {\n",
              "      display:flex;\n",
              "      gap: 12px;\n",
              "    }\n",
              "\n",
              "    .colab-df-convert {\n",
              "      background-color: #E8F0FE;\n",
              "      border: none;\n",
              "      border-radius: 50%;\n",
              "      cursor: pointer;\n",
              "      display: none;\n",
              "      fill: #1967D2;\n",
              "      height: 32px;\n",
              "      padding: 0 0 0 0;\n",
              "      width: 32px;\n",
              "    }\n",
              "\n",
              "    .colab-df-convert:hover {\n",
              "      background-color: #E2EBFA;\n",
              "      box-shadow: 0px 1px 2px rgba(60, 64, 67, 0.3), 0px 1px 3px 1px rgba(60, 64, 67, 0.15);\n",
              "      fill: #174EA6;\n",
              "    }\n",
              "\n",
              "    .colab-df-buttons div {\n",
              "      margin-bottom: 4px;\n",
              "    }\n",
              "\n",
              "    [theme=dark] .colab-df-convert {\n",
              "      background-color: #3B4455;\n",
              "      fill: #D2E3FC;\n",
              "    }\n",
              "\n",
              "    [theme=dark] .colab-df-convert:hover {\n",
              "      background-color: #434B5C;\n",
              "      box-shadow: 0px 1px 3px 1px rgba(0, 0, 0, 0.15);\n",
              "      filter: drop-shadow(0px 1px 2px rgba(0, 0, 0, 0.3));\n",
              "      fill: #FFFFFF;\n",
              "    }\n",
              "  </style>\n",
              "\n",
              "    <script>\n",
              "      const buttonEl =\n",
              "        document.querySelector('#df-4bdb820f-d94f-4129-883c-a76bb7479e7a button.colab-df-convert');\n",
              "      buttonEl.style.display =\n",
              "        google.colab.kernel.accessAllowed ? 'block' : 'none';\n",
              "\n",
              "      async function convertToInteractive(key) {\n",
              "        const element = document.querySelector('#df-4bdb820f-d94f-4129-883c-a76bb7479e7a');\n",
              "        const dataTable =\n",
              "          await google.colab.kernel.invokeFunction('convertToInteractive',\n",
              "                                                    [key], {});\n",
              "        if (!dataTable) return;\n",
              "\n",
              "        const docLinkHtml = 'Like what you see? Visit the ' +\n",
              "          '<a target=\"_blank\" href=https://colab.research.google.com/notebooks/data_table.ipynb>data table notebook</a>'\n",
              "          + ' to learn more about interactive tables.';\n",
              "        element.innerHTML = '';\n",
              "        dataTable['output_type'] = 'display_data';\n",
              "        await google.colab.output.renderOutput(dataTable, element);\n",
              "        const docLink = document.createElement('div');\n",
              "        docLink.innerHTML = docLinkHtml;\n",
              "        element.appendChild(docLink);\n",
              "      }\n",
              "    </script>\n",
              "  </div>\n",
              "\n",
              "\n",
              "<div id=\"df-5fc24865-aa43-4597-8e1d-2a90e6f47319\">\n",
              "  <button class=\"colab-df-quickchart\" onclick=\"quickchart('df-5fc24865-aa43-4597-8e1d-2a90e6f47319')\"\n",
              "            title=\"Suggest charts\"\n",
              "            style=\"display:none;\">\n",
              "\n",
              "<svg xmlns=\"http://www.w3.org/2000/svg\" height=\"24px\"viewBox=\"0 0 24 24\"\n",
              "     width=\"24px\">\n",
              "    <g>\n",
              "        <path d=\"M19 3H5c-1.1 0-2 .9-2 2v14c0 1.1.9 2 2 2h14c1.1 0 2-.9 2-2V5c0-1.1-.9-2-2-2zM9 17H7v-7h2v7zm4 0h-2V7h2v10zm4 0h-2v-4h2v4z\"/>\n",
              "    </g>\n",
              "</svg>\n",
              "  </button>\n",
              "\n",
              "<style>\n",
              "  .colab-df-quickchart {\n",
              "      --bg-color: #E8F0FE;\n",
              "      --fill-color: #1967D2;\n",
              "      --hover-bg-color: #E2EBFA;\n",
              "      --hover-fill-color: #174EA6;\n",
              "      --disabled-fill-color: #AAA;\n",
              "      --disabled-bg-color: #DDD;\n",
              "  }\n",
              "\n",
              "  [theme=dark] .colab-df-quickchart {\n",
              "      --bg-color: #3B4455;\n",
              "      --fill-color: #D2E3FC;\n",
              "      --hover-bg-color: #434B5C;\n",
              "      --hover-fill-color: #FFFFFF;\n",
              "      --disabled-bg-color: #3B4455;\n",
              "      --disabled-fill-color: #666;\n",
              "  }\n",
              "\n",
              "  .colab-df-quickchart {\n",
              "    background-color: var(--bg-color);\n",
              "    border: none;\n",
              "    border-radius: 50%;\n",
              "    cursor: pointer;\n",
              "    display: none;\n",
              "    fill: var(--fill-color);\n",
              "    height: 32px;\n",
              "    padding: 0;\n",
              "    width: 32px;\n",
              "  }\n",
              "\n",
              "  .colab-df-quickchart:hover {\n",
              "    background-color: var(--hover-bg-color);\n",
              "    box-shadow: 0 1px 2px rgba(60, 64, 67, 0.3), 0 1px 3px 1px rgba(60, 64, 67, 0.15);\n",
              "    fill: var(--button-hover-fill-color);\n",
              "  }\n",
              "\n",
              "  .colab-df-quickchart-complete:disabled,\n",
              "  .colab-df-quickchart-complete:disabled:hover {\n",
              "    background-color: var(--disabled-bg-color);\n",
              "    fill: var(--disabled-fill-color);\n",
              "    box-shadow: none;\n",
              "  }\n",
              "\n",
              "  .colab-df-spinner {\n",
              "    border: 2px solid var(--fill-color);\n",
              "    border-color: transparent;\n",
              "    border-bottom-color: var(--fill-color);\n",
              "    animation:\n",
              "      spin 1s steps(1) infinite;\n",
              "  }\n",
              "\n",
              "  @keyframes spin {\n",
              "    0% {\n",
              "      border-color: transparent;\n",
              "      border-bottom-color: var(--fill-color);\n",
              "      border-left-color: var(--fill-color);\n",
              "    }\n",
              "    20% {\n",
              "      border-color: transparent;\n",
              "      border-left-color: var(--fill-color);\n",
              "      border-top-color: var(--fill-color);\n",
              "    }\n",
              "    30% {\n",
              "      border-color: transparent;\n",
              "      border-left-color: var(--fill-color);\n",
              "      border-top-color: var(--fill-color);\n",
              "      border-right-color: var(--fill-color);\n",
              "    }\n",
              "    40% {\n",
              "      border-color: transparent;\n",
              "      border-right-color: var(--fill-color);\n",
              "      border-top-color: var(--fill-color);\n",
              "    }\n",
              "    60% {\n",
              "      border-color: transparent;\n",
              "      border-right-color: var(--fill-color);\n",
              "    }\n",
              "    80% {\n",
              "      border-color: transparent;\n",
              "      border-right-color: var(--fill-color);\n",
              "      border-bottom-color: var(--fill-color);\n",
              "    }\n",
              "    90% {\n",
              "      border-color: transparent;\n",
              "      border-bottom-color: var(--fill-color);\n",
              "    }\n",
              "  }\n",
              "</style>\n",
              "\n",
              "  <script>\n",
              "    async function quickchart(key) {\n",
              "      const quickchartButtonEl =\n",
              "        document.querySelector('#' + key + ' button');\n",
              "      quickchartButtonEl.disabled = true;  // To prevent multiple clicks.\n",
              "      quickchartButtonEl.classList.add('colab-df-spinner');\n",
              "      try {\n",
              "        const charts = await google.colab.kernel.invokeFunction(\n",
              "            'suggestCharts', [key], {});\n",
              "      } catch (error) {\n",
              "        console.error('Error during call to suggestCharts:', error);\n",
              "      }\n",
              "      quickchartButtonEl.classList.remove('colab-df-spinner');\n",
              "      quickchartButtonEl.classList.add('colab-df-quickchart-complete');\n",
              "    }\n",
              "    (() => {\n",
              "      let quickchartButtonEl =\n",
              "        document.querySelector('#df-5fc24865-aa43-4597-8e1d-2a90e6f47319 button');\n",
              "      quickchartButtonEl.style.display =\n",
              "        google.colab.kernel.accessAllowed ? 'block' : 'none';\n",
              "    })();\n",
              "  </script>\n",
              "</div>\n",
              "    </div>\n",
              "  </div>\n"
            ]
          },
          "metadata": {},
          "execution_count": 3
        }
      ]
    },
    {
      "cell_type": "code",
      "source": [
        "df_filtered = df[df['Count']>10]\n",
        "df_filtered"
      ],
      "metadata": {
        "id": "0lX9tTtm0fOD",
        "outputId": "b3af5e73-a4af-41ae-e06e-dea3380cb5db",
        "colab": {
          "base_uri": "https://localhost:8080/",
          "height": 424
        }
      },
      "execution_count": 9,
      "outputs": [
        {
          "output_type": "execute_result",
          "data": {
            "text/plain": [
              "            Name Gender    Count   Probability\n",
              "0          James      M  5304407  1.451679e-02\n",
              "1           John      M  5260831  1.439753e-02\n",
              "2         Robert      M  4970386  1.360266e-02\n",
              "3        Michael      M  4579950  1.253414e-02\n",
              "4        William      M  4226608  1.156713e-02\n",
              "...          ...    ...      ...           ...\n",
              "83518    Zmarion      M       11  3.010410e-08\n",
              "83519     Zonnie      M       11  3.010410e-08\n",
              "83520      Zyell      M       11  3.010410e-08\n",
              "83521  Zyquavion      M       11  3.010410e-08\n",
              "83522       Zyus      M       11  3.010410e-08\n",
              "\n",
              "[83523 rows x 4 columns]"
            ],
            "text/html": [
              "\n",
              "  <div id=\"df-7982f412-8314-41ce-bc22-9edfaa590d34\" class=\"colab-df-container\">\n",
              "    <div>\n",
              "<style scoped>\n",
              "    .dataframe tbody tr th:only-of-type {\n",
              "        vertical-align: middle;\n",
              "    }\n",
              "\n",
              "    .dataframe tbody tr th {\n",
              "        vertical-align: top;\n",
              "    }\n",
              "\n",
              "    .dataframe thead th {\n",
              "        text-align: right;\n",
              "    }\n",
              "</style>\n",
              "<table border=\"1\" class=\"dataframe\">\n",
              "  <thead>\n",
              "    <tr style=\"text-align: right;\">\n",
              "      <th></th>\n",
              "      <th>Name</th>\n",
              "      <th>Gender</th>\n",
              "      <th>Count</th>\n",
              "      <th>Probability</th>\n",
              "    </tr>\n",
              "  </thead>\n",
              "  <tbody>\n",
              "    <tr>\n",
              "      <th>0</th>\n",
              "      <td>James</td>\n",
              "      <td>M</td>\n",
              "      <td>5304407</td>\n",
              "      <td>1.451679e-02</td>\n",
              "    </tr>\n",
              "    <tr>\n",
              "      <th>1</th>\n",
              "      <td>John</td>\n",
              "      <td>M</td>\n",
              "      <td>5260831</td>\n",
              "      <td>1.439753e-02</td>\n",
              "    </tr>\n",
              "    <tr>\n",
              "      <th>2</th>\n",
              "      <td>Robert</td>\n",
              "      <td>M</td>\n",
              "      <td>4970386</td>\n",
              "      <td>1.360266e-02</td>\n",
              "    </tr>\n",
              "    <tr>\n",
              "      <th>3</th>\n",
              "      <td>Michael</td>\n",
              "      <td>M</td>\n",
              "      <td>4579950</td>\n",
              "      <td>1.253414e-02</td>\n",
              "    </tr>\n",
              "    <tr>\n",
              "      <th>4</th>\n",
              "      <td>William</td>\n",
              "      <td>M</td>\n",
              "      <td>4226608</td>\n",
              "      <td>1.156713e-02</td>\n",
              "    </tr>\n",
              "    <tr>\n",
              "      <th>...</th>\n",
              "      <td>...</td>\n",
              "      <td>...</td>\n",
              "      <td>...</td>\n",
              "      <td>...</td>\n",
              "    </tr>\n",
              "    <tr>\n",
              "      <th>83518</th>\n",
              "      <td>Zmarion</td>\n",
              "      <td>M</td>\n",
              "      <td>11</td>\n",
              "      <td>3.010410e-08</td>\n",
              "    </tr>\n",
              "    <tr>\n",
              "      <th>83519</th>\n",
              "      <td>Zonnie</td>\n",
              "      <td>M</td>\n",
              "      <td>11</td>\n",
              "      <td>3.010410e-08</td>\n",
              "    </tr>\n",
              "    <tr>\n",
              "      <th>83520</th>\n",
              "      <td>Zyell</td>\n",
              "      <td>M</td>\n",
              "      <td>11</td>\n",
              "      <td>3.010410e-08</td>\n",
              "    </tr>\n",
              "    <tr>\n",
              "      <th>83521</th>\n",
              "      <td>Zyquavion</td>\n",
              "      <td>M</td>\n",
              "      <td>11</td>\n",
              "      <td>3.010410e-08</td>\n",
              "    </tr>\n",
              "    <tr>\n",
              "      <th>83522</th>\n",
              "      <td>Zyus</td>\n",
              "      <td>M</td>\n",
              "      <td>11</td>\n",
              "      <td>3.010410e-08</td>\n",
              "    </tr>\n",
              "  </tbody>\n",
              "</table>\n",
              "<p>83523 rows × 4 columns</p>\n",
              "</div>\n",
              "    <div class=\"colab-df-buttons\">\n",
              "\n",
              "  <div class=\"colab-df-container\">\n",
              "    <button class=\"colab-df-convert\" onclick=\"convertToInteractive('df-7982f412-8314-41ce-bc22-9edfaa590d34')\"\n",
              "            title=\"Convert this dataframe to an interactive table.\"\n",
              "            style=\"display:none;\">\n",
              "\n",
              "  <svg xmlns=\"http://www.w3.org/2000/svg\" height=\"24px\" viewBox=\"0 -960 960 960\">\n",
              "    <path d=\"M120-120v-720h720v720H120Zm60-500h600v-160H180v160Zm220 220h160v-160H400v160Zm0 220h160v-160H400v160ZM180-400h160v-160H180v160Zm440 0h160v-160H620v160ZM180-180h160v-160H180v160Zm440 0h160v-160H620v160Z\"/>\n",
              "  </svg>\n",
              "    </button>\n",
              "\n",
              "  <style>\n",
              "    .colab-df-container {\n",
              "      display:flex;\n",
              "      gap: 12px;\n",
              "    }\n",
              "\n",
              "    .colab-df-convert {\n",
              "      background-color: #E8F0FE;\n",
              "      border: none;\n",
              "      border-radius: 50%;\n",
              "      cursor: pointer;\n",
              "      display: none;\n",
              "      fill: #1967D2;\n",
              "      height: 32px;\n",
              "      padding: 0 0 0 0;\n",
              "      width: 32px;\n",
              "    }\n",
              "\n",
              "    .colab-df-convert:hover {\n",
              "      background-color: #E2EBFA;\n",
              "      box-shadow: 0px 1px 2px rgba(60, 64, 67, 0.3), 0px 1px 3px 1px rgba(60, 64, 67, 0.15);\n",
              "      fill: #174EA6;\n",
              "    }\n",
              "\n",
              "    .colab-df-buttons div {\n",
              "      margin-bottom: 4px;\n",
              "    }\n",
              "\n",
              "    [theme=dark] .colab-df-convert {\n",
              "      background-color: #3B4455;\n",
              "      fill: #D2E3FC;\n",
              "    }\n",
              "\n",
              "    [theme=dark] .colab-df-convert:hover {\n",
              "      background-color: #434B5C;\n",
              "      box-shadow: 0px 1px 3px 1px rgba(0, 0, 0, 0.15);\n",
              "      filter: drop-shadow(0px 1px 2px rgba(0, 0, 0, 0.3));\n",
              "      fill: #FFFFFF;\n",
              "    }\n",
              "  </style>\n",
              "\n",
              "    <script>\n",
              "      const buttonEl =\n",
              "        document.querySelector('#df-7982f412-8314-41ce-bc22-9edfaa590d34 button.colab-df-convert');\n",
              "      buttonEl.style.display =\n",
              "        google.colab.kernel.accessAllowed ? 'block' : 'none';\n",
              "\n",
              "      async function convertToInteractive(key) {\n",
              "        const element = document.querySelector('#df-7982f412-8314-41ce-bc22-9edfaa590d34');\n",
              "        const dataTable =\n",
              "          await google.colab.kernel.invokeFunction('convertToInteractive',\n",
              "                                                    [key], {});\n",
              "        if (!dataTable) return;\n",
              "\n",
              "        const docLinkHtml = 'Like what you see? Visit the ' +\n",
              "          '<a target=\"_blank\" href=https://colab.research.google.com/notebooks/data_table.ipynb>data table notebook</a>'\n",
              "          + ' to learn more about interactive tables.';\n",
              "        element.innerHTML = '';\n",
              "        dataTable['output_type'] = 'display_data';\n",
              "        await google.colab.output.renderOutput(dataTable, element);\n",
              "        const docLink = document.createElement('div');\n",
              "        docLink.innerHTML = docLinkHtml;\n",
              "        element.appendChild(docLink);\n",
              "      }\n",
              "    </script>\n",
              "  </div>\n",
              "\n",
              "\n",
              "<div id=\"df-14e77ffd-c739-4fa1-806e-dd3614a6249a\">\n",
              "  <button class=\"colab-df-quickchart\" onclick=\"quickchart('df-14e77ffd-c739-4fa1-806e-dd3614a6249a')\"\n",
              "            title=\"Suggest charts\"\n",
              "            style=\"display:none;\">\n",
              "\n",
              "<svg xmlns=\"http://www.w3.org/2000/svg\" height=\"24px\"viewBox=\"0 0 24 24\"\n",
              "     width=\"24px\">\n",
              "    <g>\n",
              "        <path d=\"M19 3H5c-1.1 0-2 .9-2 2v14c0 1.1.9 2 2 2h14c1.1 0 2-.9 2-2V5c0-1.1-.9-2-2-2zM9 17H7v-7h2v7zm4 0h-2V7h2v10zm4 0h-2v-4h2v4z\"/>\n",
              "    </g>\n",
              "</svg>\n",
              "  </button>\n",
              "\n",
              "<style>\n",
              "  .colab-df-quickchart {\n",
              "      --bg-color: #E8F0FE;\n",
              "      --fill-color: #1967D2;\n",
              "      --hover-bg-color: #E2EBFA;\n",
              "      --hover-fill-color: #174EA6;\n",
              "      --disabled-fill-color: #AAA;\n",
              "      --disabled-bg-color: #DDD;\n",
              "  }\n",
              "\n",
              "  [theme=dark] .colab-df-quickchart {\n",
              "      --bg-color: #3B4455;\n",
              "      --fill-color: #D2E3FC;\n",
              "      --hover-bg-color: #434B5C;\n",
              "      --hover-fill-color: #FFFFFF;\n",
              "      --disabled-bg-color: #3B4455;\n",
              "      --disabled-fill-color: #666;\n",
              "  }\n",
              "\n",
              "  .colab-df-quickchart {\n",
              "    background-color: var(--bg-color);\n",
              "    border: none;\n",
              "    border-radius: 50%;\n",
              "    cursor: pointer;\n",
              "    display: none;\n",
              "    fill: var(--fill-color);\n",
              "    height: 32px;\n",
              "    padding: 0;\n",
              "    width: 32px;\n",
              "  }\n",
              "\n",
              "  .colab-df-quickchart:hover {\n",
              "    background-color: var(--hover-bg-color);\n",
              "    box-shadow: 0 1px 2px rgba(60, 64, 67, 0.3), 0 1px 3px 1px rgba(60, 64, 67, 0.15);\n",
              "    fill: var(--button-hover-fill-color);\n",
              "  }\n",
              "\n",
              "  .colab-df-quickchart-complete:disabled,\n",
              "  .colab-df-quickchart-complete:disabled:hover {\n",
              "    background-color: var(--disabled-bg-color);\n",
              "    fill: var(--disabled-fill-color);\n",
              "    box-shadow: none;\n",
              "  }\n",
              "\n",
              "  .colab-df-spinner {\n",
              "    border: 2px solid var(--fill-color);\n",
              "    border-color: transparent;\n",
              "    border-bottom-color: var(--fill-color);\n",
              "    animation:\n",
              "      spin 1s steps(1) infinite;\n",
              "  }\n",
              "\n",
              "  @keyframes spin {\n",
              "    0% {\n",
              "      border-color: transparent;\n",
              "      border-bottom-color: var(--fill-color);\n",
              "      border-left-color: var(--fill-color);\n",
              "    }\n",
              "    20% {\n",
              "      border-color: transparent;\n",
              "      border-left-color: var(--fill-color);\n",
              "      border-top-color: var(--fill-color);\n",
              "    }\n",
              "    30% {\n",
              "      border-color: transparent;\n",
              "      border-left-color: var(--fill-color);\n",
              "      border-top-color: var(--fill-color);\n",
              "      border-right-color: var(--fill-color);\n",
              "    }\n",
              "    40% {\n",
              "      border-color: transparent;\n",
              "      border-right-color: var(--fill-color);\n",
              "      border-top-color: var(--fill-color);\n",
              "    }\n",
              "    60% {\n",
              "      border-color: transparent;\n",
              "      border-right-color: var(--fill-color);\n",
              "    }\n",
              "    80% {\n",
              "      border-color: transparent;\n",
              "      border-right-color: var(--fill-color);\n",
              "      border-bottom-color: var(--fill-color);\n",
              "    }\n",
              "    90% {\n",
              "      border-color: transparent;\n",
              "      border-bottom-color: var(--fill-color);\n",
              "    }\n",
              "  }\n",
              "</style>\n",
              "\n",
              "  <script>\n",
              "    async function quickchart(key) {\n",
              "      const quickchartButtonEl =\n",
              "        document.querySelector('#' + key + ' button');\n",
              "      quickchartButtonEl.disabled = true;  // To prevent multiple clicks.\n",
              "      quickchartButtonEl.classList.add('colab-df-spinner');\n",
              "      try {\n",
              "        const charts = await google.colab.kernel.invokeFunction(\n",
              "            'suggestCharts', [key], {});\n",
              "      } catch (error) {\n",
              "        console.error('Error during call to suggestCharts:', error);\n",
              "      }\n",
              "      quickchartButtonEl.classList.remove('colab-df-spinner');\n",
              "      quickchartButtonEl.classList.add('colab-df-quickchart-complete');\n",
              "    }\n",
              "    (() => {\n",
              "      let quickchartButtonEl =\n",
              "        document.querySelector('#df-14e77ffd-c739-4fa1-806e-dd3614a6249a button');\n",
              "      quickchartButtonEl.style.display =\n",
              "        google.colab.kernel.accessAllowed ? 'block' : 'none';\n",
              "    })();\n",
              "  </script>\n",
              "</div>\n",
              "    </div>\n",
              "  </div>\n"
            ]
          },
          "metadata": {},
          "execution_count": 9
        }
      ]
    },
    {
      "cell_type": "code",
      "source": [
        "df['Name']==\"James\""
      ],
      "metadata": {
        "id": "7xmi3e5u0mVQ",
        "outputId": "e3cefac5-f618-4950-8f04-4d1b311586e5",
        "colab": {
          "base_uri": "https://localhost:8080/"
        }
      },
      "execution_count": 4,
      "outputs": [
        {
          "output_type": "execute_result",
          "data": {
            "text/plain": [
              "0          True\n",
              "1         False\n",
              "2         False\n",
              "3         False\n",
              "4         False\n",
              "          ...  \n",
              "147264    False\n",
              "147265    False\n",
              "147266    False\n",
              "147267    False\n",
              "147268    False\n",
              "Name: Name, Length: 147269, dtype: bool"
            ]
          },
          "metadata": {},
          "execution_count": 4
        }
      ]
    },
    {
      "cell_type": "code",
      "source": [
        "df[df['Name']==\"James\"]"
      ],
      "metadata": {
        "id": "oK9dqqMe72eY",
        "outputId": "14cbcc36-7dbc-4fd6-de41-33840a1bf305",
        "colab": {
          "base_uri": "https://localhost:8080/",
          "height": 112
        }
      },
      "execution_count": null,
      "outputs": [
        {
          "output_type": "execute_result",
          "data": {
            "text/plain": [
              "       Name Gender    Count  Probability\n",
              "0     James      M  5304407     0.014517\n",
              "1615  James      F    23963     0.000066"
            ],
            "text/html": [
              "\n",
              "  <div id=\"df-f3e2d3ac-f6ce-4fc5-83a1-72068d66b47f\" class=\"colab-df-container\">\n",
              "    <div>\n",
              "<style scoped>\n",
              "    .dataframe tbody tr th:only-of-type {\n",
              "        vertical-align: middle;\n",
              "    }\n",
              "\n",
              "    .dataframe tbody tr th {\n",
              "        vertical-align: top;\n",
              "    }\n",
              "\n",
              "    .dataframe thead th {\n",
              "        text-align: right;\n",
              "    }\n",
              "</style>\n",
              "<table border=\"1\" class=\"dataframe\">\n",
              "  <thead>\n",
              "    <tr style=\"text-align: right;\">\n",
              "      <th></th>\n",
              "      <th>Name</th>\n",
              "      <th>Gender</th>\n",
              "      <th>Count</th>\n",
              "      <th>Probability</th>\n",
              "    </tr>\n",
              "  </thead>\n",
              "  <tbody>\n",
              "    <tr>\n",
              "      <th>0</th>\n",
              "      <td>James</td>\n",
              "      <td>M</td>\n",
              "      <td>5304407</td>\n",
              "      <td>0.014517</td>\n",
              "    </tr>\n",
              "    <tr>\n",
              "      <th>1615</th>\n",
              "      <td>James</td>\n",
              "      <td>F</td>\n",
              "      <td>23963</td>\n",
              "      <td>0.000066</td>\n",
              "    </tr>\n",
              "  </tbody>\n",
              "</table>\n",
              "</div>\n",
              "    <div class=\"colab-df-buttons\">\n",
              "\n",
              "  <div class=\"colab-df-container\">\n",
              "    <button class=\"colab-df-convert\" onclick=\"convertToInteractive('df-f3e2d3ac-f6ce-4fc5-83a1-72068d66b47f')\"\n",
              "            title=\"Convert this dataframe to an interactive table.\"\n",
              "            style=\"display:none;\">\n",
              "\n",
              "  <svg xmlns=\"http://www.w3.org/2000/svg\" height=\"24px\" viewBox=\"0 -960 960 960\">\n",
              "    <path d=\"M120-120v-720h720v720H120Zm60-500h600v-160H180v160Zm220 220h160v-160H400v160Zm0 220h160v-160H400v160ZM180-400h160v-160H180v160Zm440 0h160v-160H620v160ZM180-180h160v-160H180v160Zm440 0h160v-160H620v160Z\"/>\n",
              "  </svg>\n",
              "    </button>\n",
              "\n",
              "  <style>\n",
              "    .colab-df-container {\n",
              "      display:flex;\n",
              "      gap: 12px;\n",
              "    }\n",
              "\n",
              "    .colab-df-convert {\n",
              "      background-color: #E8F0FE;\n",
              "      border: none;\n",
              "      border-radius: 50%;\n",
              "      cursor: pointer;\n",
              "      display: none;\n",
              "      fill: #1967D2;\n",
              "      height: 32px;\n",
              "      padding: 0 0 0 0;\n",
              "      width: 32px;\n",
              "    }\n",
              "\n",
              "    .colab-df-convert:hover {\n",
              "      background-color: #E2EBFA;\n",
              "      box-shadow: 0px 1px 2px rgba(60, 64, 67, 0.3), 0px 1px 3px 1px rgba(60, 64, 67, 0.15);\n",
              "      fill: #174EA6;\n",
              "    }\n",
              "\n",
              "    .colab-df-buttons div {\n",
              "      margin-bottom: 4px;\n",
              "    }\n",
              "\n",
              "    [theme=dark] .colab-df-convert {\n",
              "      background-color: #3B4455;\n",
              "      fill: #D2E3FC;\n",
              "    }\n",
              "\n",
              "    [theme=dark] .colab-df-convert:hover {\n",
              "      background-color: #434B5C;\n",
              "      box-shadow: 0px 1px 3px 1px rgba(0, 0, 0, 0.15);\n",
              "      filter: drop-shadow(0px 1px 2px rgba(0, 0, 0, 0.3));\n",
              "      fill: #FFFFFF;\n",
              "    }\n",
              "  </style>\n",
              "\n",
              "    <script>\n",
              "      const buttonEl =\n",
              "        document.querySelector('#df-f3e2d3ac-f6ce-4fc5-83a1-72068d66b47f button.colab-df-convert');\n",
              "      buttonEl.style.display =\n",
              "        google.colab.kernel.accessAllowed ? 'block' : 'none';\n",
              "\n",
              "      async function convertToInteractive(key) {\n",
              "        const element = document.querySelector('#df-f3e2d3ac-f6ce-4fc5-83a1-72068d66b47f');\n",
              "        const dataTable =\n",
              "          await google.colab.kernel.invokeFunction('convertToInteractive',\n",
              "                                                    [key], {});\n",
              "        if (!dataTable) return;\n",
              "\n",
              "        const docLinkHtml = 'Like what you see? Visit the ' +\n",
              "          '<a target=\"_blank\" href=https://colab.research.google.com/notebooks/data_table.ipynb>data table notebook</a>'\n",
              "          + ' to learn more about interactive tables.';\n",
              "        element.innerHTML = '';\n",
              "        dataTable['output_type'] = 'display_data';\n",
              "        await google.colab.output.renderOutput(dataTable, element);\n",
              "        const docLink = document.createElement('div');\n",
              "        docLink.innerHTML = docLinkHtml;\n",
              "        element.appendChild(docLink);\n",
              "      }\n",
              "    </script>\n",
              "  </div>\n",
              "\n",
              "\n",
              "<div id=\"df-6af53ab7-c93c-4f96-bed2-f74f2e0ae139\">\n",
              "  <button class=\"colab-df-quickchart\" onclick=\"quickchart('df-6af53ab7-c93c-4f96-bed2-f74f2e0ae139')\"\n",
              "            title=\"Suggest charts\"\n",
              "            style=\"display:none;\">\n",
              "\n",
              "<svg xmlns=\"http://www.w3.org/2000/svg\" height=\"24px\"viewBox=\"0 0 24 24\"\n",
              "     width=\"24px\">\n",
              "    <g>\n",
              "        <path d=\"M19 3H5c-1.1 0-2 .9-2 2v14c0 1.1.9 2 2 2h14c1.1 0 2-.9 2-2V5c0-1.1-.9-2-2-2zM9 17H7v-7h2v7zm4 0h-2V7h2v10zm4 0h-2v-4h2v4z\"/>\n",
              "    </g>\n",
              "</svg>\n",
              "  </button>\n",
              "\n",
              "<style>\n",
              "  .colab-df-quickchart {\n",
              "      --bg-color: #E8F0FE;\n",
              "      --fill-color: #1967D2;\n",
              "      --hover-bg-color: #E2EBFA;\n",
              "      --hover-fill-color: #174EA6;\n",
              "      --disabled-fill-color: #AAA;\n",
              "      --disabled-bg-color: #DDD;\n",
              "  }\n",
              "\n",
              "  [theme=dark] .colab-df-quickchart {\n",
              "      --bg-color: #3B4455;\n",
              "      --fill-color: #D2E3FC;\n",
              "      --hover-bg-color: #434B5C;\n",
              "      --hover-fill-color: #FFFFFF;\n",
              "      --disabled-bg-color: #3B4455;\n",
              "      --disabled-fill-color: #666;\n",
              "  }\n",
              "\n",
              "  .colab-df-quickchart {\n",
              "    background-color: var(--bg-color);\n",
              "    border: none;\n",
              "    border-radius: 50%;\n",
              "    cursor: pointer;\n",
              "    display: none;\n",
              "    fill: var(--fill-color);\n",
              "    height: 32px;\n",
              "    padding: 0;\n",
              "    width: 32px;\n",
              "  }\n",
              "\n",
              "  .colab-df-quickchart:hover {\n",
              "    background-color: var(--hover-bg-color);\n",
              "    box-shadow: 0 1px 2px rgba(60, 64, 67, 0.3), 0 1px 3px 1px rgba(60, 64, 67, 0.15);\n",
              "    fill: var(--button-hover-fill-color);\n",
              "  }\n",
              "\n",
              "  .colab-df-quickchart-complete:disabled,\n",
              "  .colab-df-quickchart-complete:disabled:hover {\n",
              "    background-color: var(--disabled-bg-color);\n",
              "    fill: var(--disabled-fill-color);\n",
              "    box-shadow: none;\n",
              "  }\n",
              "\n",
              "  .colab-df-spinner {\n",
              "    border: 2px solid var(--fill-color);\n",
              "    border-color: transparent;\n",
              "    border-bottom-color: var(--fill-color);\n",
              "    animation:\n",
              "      spin 1s steps(1) infinite;\n",
              "  }\n",
              "\n",
              "  @keyframes spin {\n",
              "    0% {\n",
              "      border-color: transparent;\n",
              "      border-bottom-color: var(--fill-color);\n",
              "      border-left-color: var(--fill-color);\n",
              "    }\n",
              "    20% {\n",
              "      border-color: transparent;\n",
              "      border-left-color: var(--fill-color);\n",
              "      border-top-color: var(--fill-color);\n",
              "    }\n",
              "    30% {\n",
              "      border-color: transparent;\n",
              "      border-left-color: var(--fill-color);\n",
              "      border-top-color: var(--fill-color);\n",
              "      border-right-color: var(--fill-color);\n",
              "    }\n",
              "    40% {\n",
              "      border-color: transparent;\n",
              "      border-right-color: var(--fill-color);\n",
              "      border-top-color: var(--fill-color);\n",
              "    }\n",
              "    60% {\n",
              "      border-color: transparent;\n",
              "      border-right-color: var(--fill-color);\n",
              "    }\n",
              "    80% {\n",
              "      border-color: transparent;\n",
              "      border-right-color: var(--fill-color);\n",
              "      border-bottom-color: var(--fill-color);\n",
              "    }\n",
              "    90% {\n",
              "      border-color: transparent;\n",
              "      border-bottom-color: var(--fill-color);\n",
              "    }\n",
              "  }\n",
              "</style>\n",
              "\n",
              "  <script>\n",
              "    async function quickchart(key) {\n",
              "      const quickchartButtonEl =\n",
              "        document.querySelector('#' + key + ' button');\n",
              "      quickchartButtonEl.disabled = true;  // To prevent multiple clicks.\n",
              "      quickchartButtonEl.classList.add('colab-df-spinner');\n",
              "      try {\n",
              "        const charts = await google.colab.kernel.invokeFunction(\n",
              "            'suggestCharts', [key], {});\n",
              "      } catch (error) {\n",
              "        console.error('Error during call to suggestCharts:', error);\n",
              "      }\n",
              "      quickchartButtonEl.classList.remove('colab-df-spinner');\n",
              "      quickchartButtonEl.classList.add('colab-df-quickchart-complete');\n",
              "    }\n",
              "    (() => {\n",
              "      let quickchartButtonEl =\n",
              "        document.querySelector('#df-6af53ab7-c93c-4f96-bed2-f74f2e0ae139 button');\n",
              "      quickchartButtonEl.style.display =\n",
              "        google.colab.kernel.accessAllowed ? 'block' : 'none';\n",
              "    })();\n",
              "  </script>\n",
              "</div>\n",
              "    </div>\n",
              "  </div>\n"
            ]
          },
          "metadata": {},
          "execution_count": 5
        }
      ]
    },
    {
      "cell_type": "code",
      "source": [
        "idx = 10001\n",
        "\n",
        "names[idx], genders[idx]"
      ],
      "metadata": {
        "id": "c8IpdoGz8J7k",
        "outputId": "714a965a-7263-4949-a831-176e3aba722c",
        "colab": {
          "base_uri": "https://localhost:8080/"
        }
      },
      "execution_count": 10,
      "outputs": [
        {
          "output_type": "execute_result",
          "data": {
            "text/plain": [
              "('Yitzchak', 'M')"
            ]
          },
          "metadata": {},
          "execution_count": 10
        }
      ]
    },
    {
      "cell_type": "code",
      "source": [
        "genders"
      ],
      "metadata": {
        "id": "CTMSRkHr8QTb",
        "outputId": "6f90f0b9-cd6b-4ed0-f4da-f34d8dcf40bd",
        "colab": {
          "base_uri": "https://localhost:8080/"
        }
      },
      "execution_count": 11,
      "outputs": [
        {
          "output_type": "execute_result",
          "data": {
            "text/plain": [
              "array(['M', 'M', 'M', ..., 'M', 'M', 'M'], dtype=object)"
            ]
          },
          "metadata": {},
          "execution_count": 11
        }
      ]
    },
    {
      "cell_type": "code",
      "source": [
        "# first, convert every name into lower case\n",
        "names_list = names.tolist()\n",
        "names_list = [name.lower() for name in names_list]\n",
        "names_list\n"
      ],
      "metadata": {
        "id": "2xudR9HX8hZc"
      },
      "execution_count": null,
      "outputs": []
    },
    {
      "cell_type": "code",
      "source": [
        "# What kind of unique characters exist in our names?\n",
        "\n",
        "name_example = names_list[100]\n",
        "name_example\n",
        "for char in name_example:\n",
        "  print(char)\n",
        "\n",
        "entire_chars = [char for name in names_list for char in name]\n",
        "len(names_list), len(entire_chars)"
      ],
      "metadata": {
        "id": "JIZt0Qx38_h8",
        "outputId": "d42d1cce-1142-4166-80f8-8fb28d5f5db0",
        "colab": {
          "base_uri": "https://localhost:8080/"
        }
      },
      "execution_count": 13,
      "outputs": [
        {
          "output_type": "stream",
          "name": "stdout",
          "text": [
            "a\n",
            "d\n",
            "a\n",
            "m\n"
          ]
        },
        {
          "output_type": "execute_result",
          "data": {
            "text/plain": [
              "(133910, 912815)"
            ]
          },
          "metadata": {},
          "execution_count": 13
        }
      ]
    },
    {
      "cell_type": "code",
      "source": [
        "unique_chars = list(set(entire_chars))\n",
        "unique_chars"
      ],
      "metadata": {
        "id": "AvTuxfio9i8b",
        "outputId": "7d59dbde-336a-4bbe-a0ec-c32f87f5efbe",
        "colab": {
          "base_uri": "https://localhost:8080/"
        }
      },
      "execution_count": 71,
      "outputs": [
        {
          "output_type": "execute_result",
          "data": {
            "text/plain": [
              "['c',\n",
              " '-',\n",
              " '\"',\n",
              " 't',\n",
              " '9',\n",
              " '5',\n",
              " \"'\",\n",
              " 'w',\n",
              " '?',\n",
              " '1',\n",
              " 'k',\n",
              " 's',\n",
              " '7',\n",
              " 'z',\n",
              " '…',\n",
              " '.',\n",
              " 'à',\n",
              " 'd',\n",
              " '(',\n",
              " ',',\n",
              " 'œ',\n",
              " 'x',\n",
              " '[',\n",
              " 'j',\n",
              " 'o',\n",
              " 'b',\n",
              " 'l',\n",
              " '&',\n",
              " 'e',\n",
              " 'q',\n",
              " '¡',\n",
              " 'ö',\n",
              " 'n',\n",
              " 'v',\n",
              " 'm',\n",
              " 'g',\n",
              " 'a',\n",
              " 'u',\n",
              " ')',\n",
              " '/',\n",
              " 'f',\n",
              " '@',\n",
              " '8',\n",
              " ';',\n",
              " 'y',\n",
              " 'r',\n",
              " 'h',\n",
              " 'p',\n",
              " '0',\n",
              " 'i']"
            ]
          },
          "metadata": {},
          "execution_count": 71
        }
      ]
    },
    {
      "cell_type": "code",
      "source": [
        "special_chars = '?'\n",
        "special_names = [name for name in names_list if special_chars in name]\n",
        "special_names"
      ],
      "metadata": {
        "id": "BGo8xjaf9xZY",
        "outputId": "fc996fbb-2e93-4cd2-f6fd-ba5f4333ba2d",
        "colab": {
          "base_uri": "https://localhost:8080/"
        }
      },
      "execution_count": 15,
      "outputs": [
        {
          "output_type": "execute_result",
          "data": {
            "text/plain": [
              "['de?anne', 'rene?', 'sher?ee']"
            ]
          },
          "metadata": {},
          "execution_count": 15
        }
      ]
    },
    {
      "cell_type": "code",
      "source": [
        "unique_chars"
      ],
      "metadata": {
        "id": "9_Y-1zoP-qtF"
      },
      "execution_count": null,
      "outputs": []
    },
    {
      "cell_type": "code",
      "source": [
        "print(sorted(unique_chars)[30:40])\n",
        "print(unique_chars[30:40])# sorted does not change the original input\n",
        "# sorted(alist) make a new variable"
      ],
      "metadata": {
        "id": "WlDmTiII1_jo",
        "outputId": "52072f6c-f95b-4ec3-b98d-368ebcf08335",
        "colab": {
          "base_uri": "https://localhost:8080/"
        }
      },
      "execution_count": 21,
      "outputs": [
        {
          "output_type": "stream",
          "name": "stdout",
          "text": [
            "['l', 'm', 'n', 'o', 'p', 'q', 'r', 's', 't', 'u']\n",
            "['¡', 'ö', 'n', 'v', 'm', 'g', 'a', 'u', ')', '/']\n"
          ]
        }
      ]
    },
    {
      "cell_type": "code",
      "source": [
        "# tip: sorting the list in Python\n",
        "unique_chars.sort() # this will sort the list and save it to the original variable\n",
        "print(unique_chars[30:40])\n",
        "\n",
        "# if you run below, unique_chars will become none\n",
        "# unique_chars = unique_chars.sort() # .sort() returns None\n",
        "# print(unique_chars[30:40])\n"
      ],
      "metadata": {
        "id": "pfYMG07W1ziC",
        "outputId": "d6849fc4-2b4e-4381-be7e-9cb815d9d8de",
        "colab": {
          "base_uri": "https://localhost:8080/",
          "height": 234
        }
      },
      "execution_count": 23,
      "outputs": [
        {
          "output_type": "stream",
          "name": "stdout",
          "text": [
            "['l', 'm', 'n', 'o', 'p', 'q', 'r', 's', 't', 'u']\n"
          ]
        },
        {
          "output_type": "error",
          "ename": "TypeError",
          "evalue": "ignored",
          "traceback": [
            "\u001b[0;31m---------------------------------------------------------------------------\u001b[0m",
            "\u001b[0;31mTypeError\u001b[0m                                 Traceback (most recent call last)",
            "\u001b[0;32m<ipython-input-23-fe79a26f419b>\u001b[0m in \u001b[0;36m<cell line: 7>\u001b[0;34m()\u001b[0m\n\u001b[1;32m      5\u001b[0m \u001b[0;31m# if you run below,\u001b[0m\u001b[0;34m\u001b[0m\u001b[0;34m\u001b[0m\u001b[0m\n\u001b[1;32m      6\u001b[0m \u001b[0munique_chars\u001b[0m \u001b[0;34m=\u001b[0m \u001b[0munique_chars\u001b[0m\u001b[0;34m.\u001b[0m\u001b[0msort\u001b[0m\u001b[0;34m(\u001b[0m\u001b[0;34m)\u001b[0m\u001b[0;34m\u001b[0m\u001b[0;34m\u001b[0m\u001b[0m\n\u001b[0;32m----> 7\u001b[0;31m \u001b[0mprint\u001b[0m\u001b[0;34m(\u001b[0m\u001b[0munique_chars\u001b[0m\u001b[0;34m[\u001b[0m\u001b[0;36m30\u001b[0m\u001b[0;34m:\u001b[0m\u001b[0;36m40\u001b[0m\u001b[0;34m]\u001b[0m\u001b[0;34m)\u001b[0m\u001b[0;34m\u001b[0m\u001b[0;34m\u001b[0m\u001b[0m\n\u001b[0m",
            "\u001b[0;31mTypeError\u001b[0m: 'NoneType' object is not subscriptable"
          ]
        }
      ]
    },
    {
      "cell_type": "code",
      "source": [
        "unique_chars = sorted(unique_chars) # this is our vocabulary\n",
        "if unique_chars[0] != '<pad>':\n",
        "  unique_chars = ['<pad>', '<start>', '<end>'] + unique_chars\n",
        "\n",
        "char = 'c'\n",
        "# Get the index of this char in the vocab\n",
        "char_idx = unique_chars.index(char)\n",
        "char_idx, unique_chars[char_idx]\n",
        "\n",
        "# alist.index usually takes bit long\n",
        "# to make it faster, we use dictionary\n",
        "char2idx = {}\n",
        "\n",
        "for char in unique_chars:\n",
        "  char2idx[char] = unique_chars.index(char)\n",
        "print(char2idx)\n",
        "char2idx[char] # now we can get the index of the char by indexing dictionary\n",
        "\n",
        "char2idx = {char: idx for idx, char in enumerate(unique_chars)}\n",
        "print(char2idx)"
      ],
      "metadata": {
        "id": "JAXWxLNV-L4n",
        "outputId": "5ceb0730-cb14-454d-f46b-c10cc3b29fb4",
        "colab": {
          "base_uri": "https://localhost:8080/"
        }
      },
      "execution_count": 72,
      "outputs": [
        {
          "output_type": "stream",
          "name": "stdout",
          "text": [
            "{'<pad>': 0, '<start>': 1, '<end>': 2, '\"': 3, '&': 4, \"'\": 5, '(': 6, ')': 7, ',': 8, '-': 9, '.': 10, '/': 11, '0': 12, '1': 13, '5': 14, '7': 15, '8': 16, '9': 17, ';': 18, '?': 19, '@': 20, '[': 21, 'a': 22, 'b': 23, 'c': 24, 'd': 25, 'e': 26, 'f': 27, 'g': 28, 'h': 29, 'i': 30, 'j': 31, 'k': 32, 'l': 33, 'm': 34, 'n': 35, 'o': 36, 'p': 37, 'q': 38, 'r': 39, 's': 40, 't': 41, 'u': 42, 'v': 43, 'w': 44, 'x': 45, 'y': 46, 'z': 47, '¡': 48, 'à': 49, 'ö': 50, 'œ': 51, '…': 52}\n",
            "{'<pad>': 0, '<start>': 1, '<end>': 2, '\"': 3, '&': 4, \"'\": 5, '(': 6, ')': 7, ',': 8, '-': 9, '.': 10, '/': 11, '0': 12, '1': 13, '5': 14, '7': 15, '8': 16, '9': 17, ';': 18, '?': 19, '@': 20, '[': 21, 'a': 22, 'b': 23, 'c': 24, 'd': 25, 'e': 26, 'f': 27, 'g': 28, 'h': 29, 'i': 30, 'j': 31, 'k': 32, 'l': 33, 'm': 34, 'n': 35, 'o': 36, 'p': 37, 'q': 38, 'r': 39, 's': 40, 't': 41, 'u': 42, 'v': 43, 'w': 44, 'x': 45, 'y': 46, 'z': 47, '¡': 48, 'à': 49, 'ö': 50, 'œ': 51, '…': 52}\n"
          ]
        }
      ]
    },
    {
      "cell_type": "code",
      "source": [
        "def convert_str_to_list_of_integers(astr):\n",
        "  return [1] + [char2idx[char] for char in astr] + [2]\n",
        "  # output = []\n",
        "  # for char in astr:\n",
        "  #   converted_idx = char2idx[char]\n",
        "  #   output.append(converted_idx)\n",
        "\n",
        "convert_str_to_list_of_integers('robert')\n"
      ],
      "metadata": {
        "id": "AP8wvFvG_vA5",
        "outputId": "f5315685-baa8-4995-a8ea-b940a3db8eab",
        "colab": {
          "base_uri": "https://localhost:8080/"
        }
      },
      "execution_count": 74,
      "outputs": [
        {
          "output_type": "execute_result",
          "data": {
            "text/plain": [
              "[1, 39, 36, 23, 26, 39, 41, 2]"
            ]
          },
          "metadata": {},
          "execution_count": 74
        }
      ]
    },
    {
      "cell_type": "code",
      "source": [
        "# convert every name into the list of integer\n",
        "names_converted = [convert_str_to_list_of_integers(name) for name in names_list]\n"
      ],
      "metadata": {
        "id": "FWd7DBp6AM4L"
      },
      "execution_count": 75,
      "outputs": []
    },
    {
      "cell_type": "code",
      "source": [
        "def decode_name(name_in_ints, unique_chars):\n",
        "  # name_in_ints = [28, 33, 26, 32]\n",
        "  output = []\n",
        "  for index in name_in_ints:\n",
        "    decoded_character = unique_chars[index]\n",
        "    output.append(decoded_character)\n",
        "  return ''.join(output)\n",
        "\n",
        "decode_name(names_converted[3], unique_chars)\n"
      ],
      "metadata": {
        "id": "7olOt5eU3TTt",
        "outputId": "94be5f24-112e-4a21-d35d-2f27cc522604",
        "colab": {
          "base_uri": "https://localhost:8080/",
          "height": 36
        }
      },
      "execution_count": 76,
      "outputs": [
        {
          "output_type": "execute_result",
          "data": {
            "text/plain": [
              "'<start>michael<end>'"
            ],
            "application/vnd.google.colaboratory.intrinsic+json": {
              "type": "string"
            }
          },
          "metadata": {},
          "execution_count": 76
        }
      ]
    },
    {
      "cell_type": "code",
      "source": [
        "names_converted[1]"
      ],
      "metadata": {
        "id": "Yf8V3Om6AXrb",
        "outputId": "6465f1a8-ed8e-405b-85b1-b9360a409c5e",
        "colab": {
          "base_uri": "https://localhost:8080/"
        }
      },
      "execution_count": 32,
      "outputs": [
        {
          "output_type": "execute_result",
          "data": {
            "text/plain": [
              "[28, 33, 26, 32]"
            ]
          },
          "metadata": {},
          "execution_count": 32
        }
      ]
    },
    {
      "cell_type": "code",
      "source": [
        "import torch\n",
        "# make it to a tensor\n",
        "idx = 100\n",
        "conv_name = names_converted[idx]\n",
        "name_tensor = torch.tensor(conv_name)\n",
        "conv_name, torch.tensor(conv_name)\n"
      ],
      "metadata": {
        "id": "QVYEh9_2AhPW",
        "outputId": "e4a55611-2ebb-4e5b-d20b-fccffc04a814",
        "colab": {
          "base_uri": "https://localhost:8080/"
        }
      },
      "execution_count": 77,
      "outputs": [
        {
          "output_type": "execute_result",
          "data": {
            "text/plain": [
              "([1, 22, 25, 22, 34, 2], tensor([ 1, 22, 25, 22, 34,  2]))"
            ]
          },
          "metadata": {},
          "execution_count": 77
        }
      ]
    },
    {
      "cell_type": "code",
      "source": [
        "# convert this integer tensor into a sequence of vector\n",
        "import torch.nn as nn\n",
        "\n",
        "emb_size = 3\n",
        "char_emb_layer = nn.Embedding(len(unique_chars), emb_size)\n",
        "\n",
        "char_emb = char_emb_layer(name_tensor)\n",
        "char_emb"
      ],
      "metadata": {
        "id": "xhVIaI-hA5R4",
        "outputId": "e9116ad2-4c90-468e-a0d5-d1cc564fc7eb",
        "colab": {
          "base_uri": "https://localhost:8080/"
        }
      },
      "execution_count": 45,
      "outputs": [
        {
          "output_type": "execute_result",
          "data": {
            "text/plain": [
              "tensor([[ 1.6216, -1.3224, -0.4019],\n",
              "        [ 0.6087,  0.1270,  0.8422],\n",
              "        [ 1.6216, -1.3224, -0.4019],\n",
              "        [ 1.6969, -0.3571,  0.7382]], grad_fn=<EmbeddingBackward0>)"
            ]
          },
          "metadata": {},
          "execution_count": 45
        }
      ]
    },
    {
      "cell_type": "code",
      "source": [
        "class RNN(nn.Module):\n",
        "  def __init__(self, input_size, hidden_size):\n",
        "    # inherit from the superclass\n",
        "    super().__init__()\n",
        "    # hidden_size means the dimension of RNN's output (and also the input for the next step)\n",
        "    self.hidden_to_hidden = nn.Linear(hidden_size, hidden_size) #WX +b\n",
        "    self.input_to_hidden = nn.Linear(input_size, hidden_size) #WX + b\n",
        "    self.hidden_size = hidden_size\n",
        "\n",
        "  def forward(self, inputs):\n",
        "    seq_len = inputs.shape[0]\n",
        "    # print(f'seq_len is {seq_len}')\n",
        "    prev_hidden = torch.zeros(self.hidden_size).to(inputs.device)\n",
        "    # goal: calculate the hidden state for each timestep in the sequence\n",
        "    outputs = []\n",
        "    for i in range(seq_len):\n",
        "      # do something\n",
        "      # current_char = inputs[i:i+1] # this is same with seq_len[i].unsqueeze(0)\n",
        "      current_char = inputs[i]\n",
        "      current_hidden = self.input_to_hidden(current_char)\n",
        "      temp_prev_hidden = self.hidden_to_hidden(prev_hidden)\n",
        "      # print(current_hidden)\n",
        "      # print(temp_prev_hidden)\n",
        "      current_hidden = current_hidden + temp_prev_hidden\n",
        "      current_hidden_act = torch.tanh(current_hidden)\n",
        "      prev_hidden = current_hidden_act # define current output to the next input\n",
        "      # print(current_hidden_act)\n",
        "      outputs.append(current_hidden_act)\n",
        "    return torch.stack(outputs, dim=0)\n",
        "\n",
        "rnn_model = RNN(input_size=emb_size, hidden_size=7)\n",
        "\n",
        "# rnn_model.input_to_hidden(char_emb_layer(name_tensor))\n",
        "print(char_emb.shape)\n",
        "out = rnn_model(char_emb)\n",
        "print(out.shape)"
      ],
      "metadata": {
        "id": "aeEcU3Re4cUX",
        "outputId": "40d32026-69b8-401b-8aab-151e9b2ac030",
        "colab": {
          "base_uri": "https://localhost:8080/"
        }
      },
      "execution_count": 95,
      "outputs": [
        {
          "output_type": "stream",
          "name": "stdout",
          "text": [
            "torch.Size([4, 3])\n",
            "torch.Size([4, 7])\n"
          ]
        }
      ]
    },
    {
      "cell_type": "code",
      "source": [
        "class LanguageModel(nn.Module):\n",
        "  def __init__(self, vocab_size, emb_size, hidden_size):\n",
        "    # inherit from the superclass\n",
        "    super().__init__()\n",
        "\n",
        "    self.char_emb_layer = nn.Embedding(vocab_size, emb_size)\n",
        "    self.rnn = RNN(emb_size, hidden_size)\n",
        "    self.rnn2 = RNN(hidden_size, hidden_size)\n",
        "    self.logit_proj = nn.Linear(hidden_size, vocab_size)\n",
        "\n",
        "  def forward(self, x):\n",
        "    embs = self.char_emb_layer(x)\n",
        "    rnn_hidden = self.rnn(embs)\n",
        "    rnn_hidden = self.rnn2(rnn_hidden)\n",
        "    logit = self.logit_proj(rnn_hidden)\n",
        "    return logit.softmax(dim=-1)\n",
        "\n",
        "torch.manual_seed(0)\n",
        "model = LanguageModel(len(unique_chars), emb_size=32, hidden_size=64)\n",
        "out = model(name_tensor[:-1])\n",
        "out"
      ],
      "metadata": {
        "id": "T6Tsvvlw9NQm",
        "outputId": "9588f3f0-8676-407e-b68d-afe2bff03d55",
        "colab": {
          "base_uri": "https://localhost:8080/"
        }
      },
      "execution_count": 97,
      "outputs": [
        {
          "output_type": "execute_result",
          "data": {
            "text/plain": [
              "tensor([[0.0245, 0.0207, 0.0201, 0.0201, 0.0170, 0.0205, 0.0232, 0.0214, 0.0196,\n",
              "         0.0166, 0.0234, 0.0182, 0.0154, 0.0180, 0.0172, 0.0198, 0.0146, 0.0133,\n",
              "         0.0200, 0.0133, 0.0162, 0.0246, 0.0204, 0.0162, 0.0212, 0.0173, 0.0189,\n",
              "         0.0187, 0.0175, 0.0252, 0.0177, 0.0152, 0.0287, 0.0229, 0.0193, 0.0207,\n",
              "         0.0163, 0.0186, 0.0122, 0.0161, 0.0187, 0.0159, 0.0174, 0.0161, 0.0216,\n",
              "         0.0186, 0.0123, 0.0190, 0.0230, 0.0151, 0.0217, 0.0212, 0.0185],\n",
              "        [0.0208, 0.0223, 0.0191, 0.0240, 0.0193, 0.0263, 0.0196, 0.0216, 0.0161,\n",
              "         0.0174, 0.0209, 0.0092, 0.0185, 0.0124, 0.0173, 0.0171, 0.0203, 0.0165,\n",
              "         0.0101, 0.0183, 0.0229, 0.0223, 0.0181, 0.0119, 0.0164, 0.0215, 0.0277,\n",
              "         0.0207, 0.0222, 0.0231, 0.0142, 0.0119, 0.0139, 0.0228, 0.0219, 0.0188,\n",
              "         0.0180, 0.0201, 0.0185, 0.0186, 0.0183, 0.0228, 0.0203, 0.0201, 0.0220,\n",
              "         0.0159, 0.0214, 0.0156, 0.0225, 0.0143, 0.0155, 0.0181, 0.0206],\n",
              "        [0.0192, 0.0197, 0.0260, 0.0169, 0.0188, 0.0161, 0.0216, 0.0199, 0.0150,\n",
              "         0.0182, 0.0268, 0.0166, 0.0129, 0.0159, 0.0215, 0.0171, 0.0219, 0.0197,\n",
              "         0.0118, 0.0140, 0.0168, 0.0198, 0.0226, 0.0164, 0.0161, 0.0193, 0.0201,\n",
              "         0.0203, 0.0161, 0.0235, 0.0242, 0.0204, 0.0175, 0.0117, 0.0202, 0.0231,\n",
              "         0.0257, 0.0182, 0.0148, 0.0166, 0.0205, 0.0276, 0.0146, 0.0145, 0.0164,\n",
              "         0.0170, 0.0193, 0.0186, 0.0180, 0.0146, 0.0201, 0.0280, 0.0180],\n",
              "        [0.0181, 0.0179, 0.0184, 0.0156, 0.0175, 0.0187, 0.0144, 0.0161, 0.0200,\n",
              "         0.0142, 0.0257, 0.0205, 0.0173, 0.0135, 0.0187, 0.0180, 0.0139, 0.0163,\n",
              "         0.0127, 0.0170, 0.0209, 0.0278, 0.0249, 0.0146, 0.0194, 0.0183, 0.0174,\n",
              "         0.0191, 0.0201, 0.0216, 0.0202, 0.0190, 0.0209, 0.0128, 0.0212, 0.0216,\n",
              "         0.0269, 0.0169, 0.0145, 0.0175, 0.0205, 0.0242, 0.0195, 0.0147, 0.0210,\n",
              "         0.0207, 0.0190, 0.0184, 0.0209, 0.0174, 0.0151, 0.0257, 0.0227],\n",
              "        [0.0219, 0.0174, 0.0214, 0.0225, 0.0201, 0.0183, 0.0208, 0.0209, 0.0176,\n",
              "         0.0164, 0.0158, 0.0162, 0.0169, 0.0194, 0.0214, 0.0132, 0.0152, 0.0140,\n",
              "         0.0166, 0.0140, 0.0164, 0.0257, 0.0313, 0.0168, 0.0206, 0.0199, 0.0218,\n",
              "         0.0213, 0.0153, 0.0239, 0.0191, 0.0192, 0.0185, 0.0181, 0.0189, 0.0196,\n",
              "         0.0167, 0.0186, 0.0173, 0.0134, 0.0256, 0.0190, 0.0167, 0.0198, 0.0214,\n",
              "         0.0210, 0.0143, 0.0164, 0.0207, 0.0162, 0.0179, 0.0175, 0.0215],\n",
              "        [0.0234, 0.0199, 0.0181, 0.0247, 0.0211, 0.0244, 0.0174, 0.0186, 0.0177,\n",
              "         0.0175, 0.0186, 0.0122, 0.0180, 0.0118, 0.0156, 0.0151, 0.0177, 0.0218,\n",
              "         0.0149, 0.0165, 0.0179, 0.0198, 0.0190, 0.0130, 0.0184, 0.0197, 0.0228,\n",
              "         0.0184, 0.0247, 0.0196, 0.0179, 0.0144, 0.0169, 0.0224, 0.0236, 0.0227,\n",
              "         0.0163, 0.0206, 0.0137, 0.0210, 0.0211, 0.0191, 0.0206, 0.0193, 0.0184,\n",
              "         0.0155, 0.0253, 0.0147, 0.0220, 0.0167, 0.0177, 0.0227, 0.0191]],\n",
              "       grad_fn=<SoftmaxBackward0>)"
            ]
          },
          "metadata": {},
          "execution_count": 97
        }
      ]
    },
    {
      "cell_type": "code",
      "source": [
        "def get_nll_loss(pred, target, eps=1e-8):\n",
        "  prob_of_correct_class = pred[torch.arange(len(target)), target]\n",
        "  return -torch.log(prob_of_correct_class + eps).mean()\n",
        "\n",
        "\n",
        "input_seq = name_tensor[:-1] # excluding end token\n",
        "target_seq = name_tensor[1:] # excluding start token\n",
        "\n",
        "prob = model(input_seq)\n",
        "loss = get_nll_loss(prob, target_seq)\n",
        "loss"
      ],
      "metadata": {
        "id": "adXNJRLXAEwE",
        "outputId": "b7db190b-e8ea-464f-d5b7-8d0ca6e02f1b",
        "colab": {
          "base_uri": "https://localhost:8080/"
        }
      },
      "execution_count": 86,
      "outputs": [
        {
          "output_type": "execute_result",
          "data": {
            "text/plain": [
              "tensor(3.8973, grad_fn=<NegBackward0>)"
            ]
          },
          "metadata": {},
          "execution_count": 86
        }
      ]
    },
    {
      "cell_type": "code",
      "source": [
        "from tqdm.auto import tqdm\n",
        "optimizer = torch.optim.Adam(model.parameters())\n",
        "device = 'cuda'\n",
        "model.to(device)\n",
        "loss_records = []\n",
        "for name in tqdm(names_converted):\n",
        "  name_tensor = torch.tensor(name)\n",
        "  input_seq = name_tensor[:-1] # excluding end token\n",
        "  target_seq = name_tensor[1:] # excluding start token\n",
        "\n",
        "  prob = model(input_seq.to(device))\n",
        "  loss = get_nll_loss(prob, target_seq)\n",
        "  loss.backward()\n",
        "  optimizer.step()\n",
        "  optimizer.zero_grad()\n",
        "\n",
        "  loss_records.append(loss.item())\n"
      ],
      "metadata": {
        "id": "SMgyMK2iEY4Y",
        "outputId": "eea67a0a-7cf4-4d46-f6be-1b6de0cd1539",
        "colab": {
          "base_uri": "https://localhost:8080/",
          "height": 505,
          "referenced_widgets": [
            "34f2e22751f84491be6de44308d3a60d",
            "cbf9db9bf08f4479b43d534644a96b95",
            "3ed75cbaa3b74d52a8f8b64db4a25bfc",
            "fdb855239c36489580b88947462f7743",
            "afaa718eb1f443059320b64d9a763ff1",
            "c973d8d1981d48cda0260b8da2f5edc0",
            "d47d7fb0588e493baf387a2af3d9c868",
            "6d4e2f9a3ffb49f98236b6839f4b4a40",
            "896cef11b9d0433494bbc3f77f635eae",
            "532ff0e8c5454570aa66ac6d1e9f1035",
            "dc4b0f895bc0438c801cfa57f34ca32a"
          ]
        }
      },
      "execution_count": 98,
      "outputs": [
        {
          "output_type": "display_data",
          "data": {
            "text/plain": [
              "  0%|          | 0/133910 [00:00<?, ?it/s]"
            ],
            "application/vnd.jupyter.widget-view+json": {
              "version_major": 2,
              "version_minor": 0,
              "model_id": "34f2e22751f84491be6de44308d3a60d"
            }
          },
          "metadata": {}
        },
        {
          "output_type": "error",
          "ename": "KeyboardInterrupt",
          "evalue": "ignored",
          "traceback": [
            "\u001b[0;31m---------------------------------------------------------------------------\u001b[0m",
            "\u001b[0;31mKeyboardInterrupt\u001b[0m                         Traceback (most recent call last)",
            "\u001b[0;32m<ipython-input-98-8cddd149948d>\u001b[0m in \u001b[0;36m<cell line: 6>\u001b[0;34m()\u001b[0m\n\u001b[1;32m     11\u001b[0m   \u001b[0mprob\u001b[0m \u001b[0;34m=\u001b[0m \u001b[0mmodel\u001b[0m\u001b[0;34m(\u001b[0m\u001b[0minput_seq\u001b[0m\u001b[0;34m.\u001b[0m\u001b[0mto\u001b[0m\u001b[0;34m(\u001b[0m\u001b[0mdevice\u001b[0m\u001b[0;34m)\u001b[0m\u001b[0;34m)\u001b[0m\u001b[0;34m\u001b[0m\u001b[0;34m\u001b[0m\u001b[0m\n\u001b[1;32m     12\u001b[0m   \u001b[0mloss\u001b[0m \u001b[0;34m=\u001b[0m \u001b[0mget_nll_loss\u001b[0m\u001b[0;34m(\u001b[0m\u001b[0mprob\u001b[0m\u001b[0;34m,\u001b[0m \u001b[0mtarget_seq\u001b[0m\u001b[0;34m)\u001b[0m\u001b[0;34m\u001b[0m\u001b[0;34m\u001b[0m\u001b[0m\n\u001b[0;32m---> 13\u001b[0;31m   \u001b[0mloss\u001b[0m\u001b[0;34m.\u001b[0m\u001b[0mbackward\u001b[0m\u001b[0;34m(\u001b[0m\u001b[0;34m)\u001b[0m\u001b[0;34m\u001b[0m\u001b[0;34m\u001b[0m\u001b[0m\n\u001b[0m\u001b[1;32m     14\u001b[0m   \u001b[0moptimizer\u001b[0m\u001b[0;34m.\u001b[0m\u001b[0mstep\u001b[0m\u001b[0;34m(\u001b[0m\u001b[0;34m)\u001b[0m\u001b[0;34m\u001b[0m\u001b[0;34m\u001b[0m\u001b[0m\n\u001b[1;32m     15\u001b[0m   \u001b[0moptimizer\u001b[0m\u001b[0;34m.\u001b[0m\u001b[0mzero_grad\u001b[0m\u001b[0;34m(\u001b[0m\u001b[0;34m)\u001b[0m\u001b[0;34m\u001b[0m\u001b[0;34m\u001b[0m\u001b[0m\n",
            "\u001b[0;32m/usr/local/lib/python3.10/dist-packages/torch/_tensor.py\u001b[0m in \u001b[0;36mbackward\u001b[0;34m(self, gradient, retain_graph, create_graph, inputs)\u001b[0m\n\u001b[1;32m    490\u001b[0m                 \u001b[0minputs\u001b[0m\u001b[0;34m=\u001b[0m\u001b[0minputs\u001b[0m\u001b[0;34m,\u001b[0m\u001b[0;34m\u001b[0m\u001b[0;34m\u001b[0m\u001b[0m\n\u001b[1;32m    491\u001b[0m             )\n\u001b[0;32m--> 492\u001b[0;31m         torch.autograd.backward(\n\u001b[0m\u001b[1;32m    493\u001b[0m             \u001b[0mself\u001b[0m\u001b[0;34m,\u001b[0m \u001b[0mgradient\u001b[0m\u001b[0;34m,\u001b[0m \u001b[0mretain_graph\u001b[0m\u001b[0;34m,\u001b[0m \u001b[0mcreate_graph\u001b[0m\u001b[0;34m,\u001b[0m \u001b[0minputs\u001b[0m\u001b[0;34m=\u001b[0m\u001b[0minputs\u001b[0m\u001b[0;34m\u001b[0m\u001b[0;34m\u001b[0m\u001b[0m\n\u001b[1;32m    494\u001b[0m         )\n",
            "\u001b[0;32m/usr/local/lib/python3.10/dist-packages/torch/autograd/__init__.py\u001b[0m in \u001b[0;36mbackward\u001b[0;34m(tensors, grad_tensors, retain_graph, create_graph, grad_variables, inputs)\u001b[0m\n\u001b[1;32m    249\u001b[0m     \u001b[0;31m# some Python versions print out the first line of a multi-line function\u001b[0m\u001b[0;34m\u001b[0m\u001b[0;34m\u001b[0m\u001b[0m\n\u001b[1;32m    250\u001b[0m     \u001b[0;31m# calls in the traceback and some print out the last line\u001b[0m\u001b[0;34m\u001b[0m\u001b[0;34m\u001b[0m\u001b[0m\n\u001b[0;32m--> 251\u001b[0;31m     Variable._execution_engine.run_backward(  # Calls into the C++ engine to run the backward pass\n\u001b[0m\u001b[1;32m    252\u001b[0m         \u001b[0mtensors\u001b[0m\u001b[0;34m,\u001b[0m\u001b[0;34m\u001b[0m\u001b[0;34m\u001b[0m\u001b[0m\n\u001b[1;32m    253\u001b[0m         \u001b[0mgrad_tensors_\u001b[0m\u001b[0;34m,\u001b[0m\u001b[0;34m\u001b[0m\u001b[0;34m\u001b[0m\u001b[0m\n",
            "\u001b[0;31mKeyboardInterrupt\u001b[0m: "
          ]
        }
      ]
    },
    {
      "cell_type": "code",
      "source": [
        "plt."
      ],
      "metadata": {
        "id": "_SDcp6ZeE6nR"
      },
      "execution_count": null,
      "outputs": []
    }
  ],
  "metadata": {
    "kernelspec": {
      "display_name": "Python 3",
      "name": "python3"
    },
    "language_info": {
      "codemirror_mode": {
        "name": "ipython",
        "version": 3
      },
      "file_extension": ".py",
      "mimetype": "text/x-python",
      "name": "python",
      "nbconvert_exporter": "python",
      "pygments_lexer": "ipython3",
      "version": "3.8.10"
    },
    "colab": {
      "provenance": [],
      "gpuType": "T4",
      "include_colab_link": true
    },
    "accelerator": "GPU",
    "widgets": {
      "application/vnd.jupyter.widget-state+json": {
        "34f2e22751f84491be6de44308d3a60d": {
          "model_module": "@jupyter-widgets/controls",
          "model_name": "HBoxModel",
          "model_module_version": "1.5.0",
          "state": {
            "_dom_classes": [],
            "_model_module": "@jupyter-widgets/controls",
            "_model_module_version": "1.5.0",
            "_model_name": "HBoxModel",
            "_view_count": null,
            "_view_module": "@jupyter-widgets/controls",
            "_view_module_version": "1.5.0",
            "_view_name": "HBoxView",
            "box_style": "",
            "children": [
              "IPY_MODEL_cbf9db9bf08f4479b43d534644a96b95",
              "IPY_MODEL_3ed75cbaa3b74d52a8f8b64db4a25bfc",
              "IPY_MODEL_fdb855239c36489580b88947462f7743"
            ],
            "layout": "IPY_MODEL_afaa718eb1f443059320b64d9a763ff1"
          }
        },
        "cbf9db9bf08f4479b43d534644a96b95": {
          "model_module": "@jupyter-widgets/controls",
          "model_name": "HTMLModel",
          "model_module_version": "1.5.0",
          "state": {
            "_dom_classes": [],
            "_model_module": "@jupyter-widgets/controls",
            "_model_module_version": "1.5.0",
            "_model_name": "HTMLModel",
            "_view_count": null,
            "_view_module": "@jupyter-widgets/controls",
            "_view_module_version": "1.5.0",
            "_view_name": "HTMLView",
            "description": "",
            "description_tooltip": null,
            "layout": "IPY_MODEL_c973d8d1981d48cda0260b8da2f5edc0",
            "placeholder": "​",
            "style": "IPY_MODEL_d47d7fb0588e493baf387a2af3d9c868",
            "value": "  5%"
          }
        },
        "3ed75cbaa3b74d52a8f8b64db4a25bfc": {
          "model_module": "@jupyter-widgets/controls",
          "model_name": "FloatProgressModel",
          "model_module_version": "1.5.0",
          "state": {
            "_dom_classes": [],
            "_model_module": "@jupyter-widgets/controls",
            "_model_module_version": "1.5.0",
            "_model_name": "FloatProgressModel",
            "_view_count": null,
            "_view_module": "@jupyter-widgets/controls",
            "_view_module_version": "1.5.0",
            "_view_name": "ProgressView",
            "bar_style": "danger",
            "description": "",
            "description_tooltip": null,
            "layout": "IPY_MODEL_6d4e2f9a3ffb49f98236b6839f4b4a40",
            "max": 133910,
            "min": 0,
            "orientation": "horizontal",
            "style": "IPY_MODEL_896cef11b9d0433494bbc3f77f635eae",
            "value": 7310
          }
        },
        "fdb855239c36489580b88947462f7743": {
          "model_module": "@jupyter-widgets/controls",
          "model_name": "HTMLModel",
          "model_module_version": "1.5.0",
          "state": {
            "_dom_classes": [],
            "_model_module": "@jupyter-widgets/controls",
            "_model_module_version": "1.5.0",
            "_model_name": "HTMLModel",
            "_view_count": null,
            "_view_module": "@jupyter-widgets/controls",
            "_view_module_version": "1.5.0",
            "_view_name": "HTMLView",
            "description": "",
            "description_tooltip": null,
            "layout": "IPY_MODEL_532ff0e8c5454570aa66ac6d1e9f1035",
            "placeholder": "​",
            "style": "IPY_MODEL_dc4b0f895bc0438c801cfa57f34ca32a",
            "value": " 7310/133910 [01:00&lt;21:11, 99.60it/s]"
          }
        },
        "afaa718eb1f443059320b64d9a763ff1": {
          "model_module": "@jupyter-widgets/base",
          "model_name": "LayoutModel",
          "model_module_version": "1.2.0",
          "state": {
            "_model_module": "@jupyter-widgets/base",
            "_model_module_version": "1.2.0",
            "_model_name": "LayoutModel",
            "_view_count": null,
            "_view_module": "@jupyter-widgets/base",
            "_view_module_version": "1.2.0",
            "_view_name": "LayoutView",
            "align_content": null,
            "align_items": null,
            "align_self": null,
            "border": null,
            "bottom": null,
            "display": null,
            "flex": null,
            "flex_flow": null,
            "grid_area": null,
            "grid_auto_columns": null,
            "grid_auto_flow": null,
            "grid_auto_rows": null,
            "grid_column": null,
            "grid_gap": null,
            "grid_row": null,
            "grid_template_areas": null,
            "grid_template_columns": null,
            "grid_template_rows": null,
            "height": null,
            "justify_content": null,
            "justify_items": null,
            "left": null,
            "margin": null,
            "max_height": null,
            "max_width": null,
            "min_height": null,
            "min_width": null,
            "object_fit": null,
            "object_position": null,
            "order": null,
            "overflow": null,
            "overflow_x": null,
            "overflow_y": null,
            "padding": null,
            "right": null,
            "top": null,
            "visibility": null,
            "width": null
          }
        },
        "c973d8d1981d48cda0260b8da2f5edc0": {
          "model_module": "@jupyter-widgets/base",
          "model_name": "LayoutModel",
          "model_module_version": "1.2.0",
          "state": {
            "_model_module": "@jupyter-widgets/base",
            "_model_module_version": "1.2.0",
            "_model_name": "LayoutModel",
            "_view_count": null,
            "_view_module": "@jupyter-widgets/base",
            "_view_module_version": "1.2.0",
            "_view_name": "LayoutView",
            "align_content": null,
            "align_items": null,
            "align_self": null,
            "border": null,
            "bottom": null,
            "display": null,
            "flex": null,
            "flex_flow": null,
            "grid_area": null,
            "grid_auto_columns": null,
            "grid_auto_flow": null,
            "grid_auto_rows": null,
            "grid_column": null,
            "grid_gap": null,
            "grid_row": null,
            "grid_template_areas": null,
            "grid_template_columns": null,
            "grid_template_rows": null,
            "height": null,
            "justify_content": null,
            "justify_items": null,
            "left": null,
            "margin": null,
            "max_height": null,
            "max_width": null,
            "min_height": null,
            "min_width": null,
            "object_fit": null,
            "object_position": null,
            "order": null,
            "overflow": null,
            "overflow_x": null,
            "overflow_y": null,
            "padding": null,
            "right": null,
            "top": null,
            "visibility": null,
            "width": null
          }
        },
        "d47d7fb0588e493baf387a2af3d9c868": {
          "model_module": "@jupyter-widgets/controls",
          "model_name": "DescriptionStyleModel",
          "model_module_version": "1.5.0",
          "state": {
            "_model_module": "@jupyter-widgets/controls",
            "_model_module_version": "1.5.0",
            "_model_name": "DescriptionStyleModel",
            "_view_count": null,
            "_view_module": "@jupyter-widgets/base",
            "_view_module_version": "1.2.0",
            "_view_name": "StyleView",
            "description_width": ""
          }
        },
        "6d4e2f9a3ffb49f98236b6839f4b4a40": {
          "model_module": "@jupyter-widgets/base",
          "model_name": "LayoutModel",
          "model_module_version": "1.2.0",
          "state": {
            "_model_module": "@jupyter-widgets/base",
            "_model_module_version": "1.2.0",
            "_model_name": "LayoutModel",
            "_view_count": null,
            "_view_module": "@jupyter-widgets/base",
            "_view_module_version": "1.2.0",
            "_view_name": "LayoutView",
            "align_content": null,
            "align_items": null,
            "align_self": null,
            "border": null,
            "bottom": null,
            "display": null,
            "flex": null,
            "flex_flow": null,
            "grid_area": null,
            "grid_auto_columns": null,
            "grid_auto_flow": null,
            "grid_auto_rows": null,
            "grid_column": null,
            "grid_gap": null,
            "grid_row": null,
            "grid_template_areas": null,
            "grid_template_columns": null,
            "grid_template_rows": null,
            "height": null,
            "justify_content": null,
            "justify_items": null,
            "left": null,
            "margin": null,
            "max_height": null,
            "max_width": null,
            "min_height": null,
            "min_width": null,
            "object_fit": null,
            "object_position": null,
            "order": null,
            "overflow": null,
            "overflow_x": null,
            "overflow_y": null,
            "padding": null,
            "right": null,
            "top": null,
            "visibility": null,
            "width": null
          }
        },
        "896cef11b9d0433494bbc3f77f635eae": {
          "model_module": "@jupyter-widgets/controls",
          "model_name": "ProgressStyleModel",
          "model_module_version": "1.5.0",
          "state": {
            "_model_module": "@jupyter-widgets/controls",
            "_model_module_version": "1.5.0",
            "_model_name": "ProgressStyleModel",
            "_view_count": null,
            "_view_module": "@jupyter-widgets/base",
            "_view_module_version": "1.2.0",
            "_view_name": "StyleView",
            "bar_color": null,
            "description_width": ""
          }
        },
        "532ff0e8c5454570aa66ac6d1e9f1035": {
          "model_module": "@jupyter-widgets/base",
          "model_name": "LayoutModel",
          "model_module_version": "1.2.0",
          "state": {
            "_model_module": "@jupyter-widgets/base",
            "_model_module_version": "1.2.0",
            "_model_name": "LayoutModel",
            "_view_count": null,
            "_view_module": "@jupyter-widgets/base",
            "_view_module_version": "1.2.0",
            "_view_name": "LayoutView",
            "align_content": null,
            "align_items": null,
            "align_self": null,
            "border": null,
            "bottom": null,
            "display": null,
            "flex": null,
            "flex_flow": null,
            "grid_area": null,
            "grid_auto_columns": null,
            "grid_auto_flow": null,
            "grid_auto_rows": null,
            "grid_column": null,
            "grid_gap": null,
            "grid_row": null,
            "grid_template_areas": null,
            "grid_template_columns": null,
            "grid_template_rows": null,
            "height": null,
            "justify_content": null,
            "justify_items": null,
            "left": null,
            "margin": null,
            "max_height": null,
            "max_width": null,
            "min_height": null,
            "min_width": null,
            "object_fit": null,
            "object_position": null,
            "order": null,
            "overflow": null,
            "overflow_x": null,
            "overflow_y": null,
            "padding": null,
            "right": null,
            "top": null,
            "visibility": null,
            "width": null
          }
        },
        "dc4b0f895bc0438c801cfa57f34ca32a": {
          "model_module": "@jupyter-widgets/controls",
          "model_name": "DescriptionStyleModel",
          "model_module_version": "1.5.0",
          "state": {
            "_model_module": "@jupyter-widgets/controls",
            "_model_module_version": "1.5.0",
            "_model_name": "DescriptionStyleModel",
            "_view_count": null,
            "_view_module": "@jupyter-widgets/base",
            "_view_module_version": "1.2.0",
            "_view_name": "StyleView",
            "description_width": ""
          }
        }
      }
    }
  },
  "nbformat": 4,
  "nbformat_minor": 0
}