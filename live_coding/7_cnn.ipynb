{
  "cells": [
    {
      "cell_type": "markdown",
      "metadata": {
        "id": "view-in-github",
        "colab_type": "text"
      },
      "source": [
        "<a href=\"https://colab.research.google.com/github/jdasam/mas1004-2023/blob/main/live_coding/7_cnn.ipynb\" target=\"_parent\"><img src=\"https://colab.research.google.com/assets/colab-badge.svg\" alt=\"Open In Colab\"/></a>"
      ]
    },
    {
      "cell_type": "markdown",
      "metadata": {
        "id": "CrXrdX_8MhOL"
      },
      "source": [
        "# MNIST classification with CNN\n"
      ]
    },
    {
      "cell_type": "code",
      "execution_count": 1,
      "metadata": {
        "id": "AiQ_8GNBzbma",
        "outputId": "50c6eca4-7c77-4d1c-9f97-6172dec797d3",
        "colab": {
          "base_uri": "https://localhost:8080/"
        }
      },
      "outputs": [
        {
          "output_type": "stream",
          "name": "stdout",
          "text": [
            "Requirement already satisfied: tqdm in /usr/local/lib/python3.10/dist-packages (4.66.1)\n"
          ]
        }
      ],
      "source": [
        "!pip install tqdm\n",
        "\n",
        "import time\n",
        "from tqdm.auto import tqdm\n",
        "import torch\n",
        "import torch.nn as nn\n",
        "import torchvision.datasets as dsets\n",
        "import torchvision.transforms as transforms\n",
        "import matplotlib.pyplot as plt\n",
        "# make plt grayscale as default\n",
        "plt.rcParams['image.cmap'] = 'gray'\n",
        "\n",
        "DEV = 'cuda' # Use GPU # library for NVIDIA GPU\n",
        "assert torch.cuda.is_available(), \"Make sure you run this Colab in GPU\""
      ]
    },
    {
      "cell_type": "markdown",
      "metadata": {
        "id": "ecsiKWy-MhON"
      },
      "source": [
        "## 0. Download Dataset"
      ]
    },
    {
      "cell_type": "code",
      "execution_count": 2,
      "metadata": {
        "colab": {
          "base_uri": "https://localhost:8080/"
        },
        "id": "lZSO_ROkzbma",
        "outputId": "b6e63c1e-c1fc-4e7a-b8b5-2207816ea94a"
      },
      "outputs": [
        {
          "output_type": "stream",
          "name": "stdout",
          "text": [
            "Downloading http://yann.lecun.com/exdb/mnist/train-images-idx3-ubyte.gz\n",
            "Downloading http://yann.lecun.com/exdb/mnist/train-images-idx3-ubyte.gz to ./data/MNIST/raw/train-images-idx3-ubyte.gz\n"
          ]
        },
        {
          "output_type": "stream",
          "name": "stderr",
          "text": [
            "100%|██████████| 9912422/9912422 [00:00<00:00, 148706680.85it/s]"
          ]
        },
        {
          "output_type": "stream",
          "name": "stdout",
          "text": [
            "Extracting ./data/MNIST/raw/train-images-idx3-ubyte.gz to ./data/MNIST/raw\n"
          ]
        },
        {
          "output_type": "stream",
          "name": "stderr",
          "text": [
            "\n"
          ]
        },
        {
          "output_type": "stream",
          "name": "stdout",
          "text": [
            "\n",
            "Downloading http://yann.lecun.com/exdb/mnist/train-labels-idx1-ubyte.gz\n",
            "Downloading http://yann.lecun.com/exdb/mnist/train-labels-idx1-ubyte.gz to ./data/MNIST/raw/train-labels-idx1-ubyte.gz\n"
          ]
        },
        {
          "output_type": "stream",
          "name": "stderr",
          "text": [
            "100%|██████████| 28881/28881 [00:00<00:00, 119228045.10it/s]\n"
          ]
        },
        {
          "output_type": "stream",
          "name": "stdout",
          "text": [
            "Extracting ./data/MNIST/raw/train-labels-idx1-ubyte.gz to ./data/MNIST/raw\n",
            "\n",
            "Downloading http://yann.lecun.com/exdb/mnist/t10k-images-idx3-ubyte.gz\n",
            "Downloading http://yann.lecun.com/exdb/mnist/t10k-images-idx3-ubyte.gz to ./data/MNIST/raw/t10k-images-idx3-ubyte.gz\n"
          ]
        },
        {
          "output_type": "stream",
          "name": "stderr",
          "text": [
            "100%|██████████| 1648877/1648877 [00:00<00:00, 29878907.29it/s]\n"
          ]
        },
        {
          "output_type": "stream",
          "name": "stdout",
          "text": [
            "Extracting ./data/MNIST/raw/t10k-images-idx3-ubyte.gz to ./data/MNIST/raw\n",
            "\n",
            "Downloading http://yann.lecun.com/exdb/mnist/t10k-labels-idx1-ubyte.gz\n",
            "Downloading http://yann.lecun.com/exdb/mnist/t10k-labels-idx1-ubyte.gz to ./data/MNIST/raw/t10k-labels-idx1-ubyte.gz\n"
          ]
        },
        {
          "output_type": "stream",
          "name": "stderr",
          "text": [
            "100%|██████████| 4542/4542 [00:00<00:00, 23317660.67it/s]\n"
          ]
        },
        {
          "output_type": "stream",
          "name": "stdout",
          "text": [
            "Extracting ./data/MNIST/raw/t10k-labels-idx1-ubyte.gz to ./data/MNIST/raw\n",
            "\n"
          ]
        }
      ],
      "source": [
        "train_data = dsets.MNIST(root = './data', train = True,\n",
        "                        transform = transforms.ToTensor(), download = True)\n",
        "\n",
        "test_data = dsets.MNIST(root = './data', train = False,\n",
        "                       transform = transforms.ToTensor(), download=True)"
      ]
    },
    {
      "cell_type": "code",
      "execution_count": null,
      "metadata": {
        "id": "qD0mwg4uDsuD"
      },
      "outputs": [],
      "source": [
        "# See how our data looks like\n",
        "# you can get the i-th data from the dataset class using dataset[i]\n",
        "train_data[0] # this will return (image tensor, label)"
      ]
    },
    {
      "cell_type": "code",
      "execution_count": 3,
      "metadata": {
        "colab": {
          "base_uri": "https://localhost:8080/",
          "height": 448
        },
        "id": "EXFjbt2hEflz",
        "outputId": "b0f17090-fa91-4a61-f555-e9b5bd8e683f"
      },
      "outputs": [
        {
          "output_type": "stream",
          "name": "stdout",
          "text": [
            "Label is 8\n"
          ]
        },
        {
          "output_type": "display_data",
          "data": {
            "text/plain": [
              "<Figure size 640x480 with 1 Axes>"
            ],
            "image/png": "[encoded data removed]"
          },
          "metadata": {}
        }
      ],
      "source": [
        "data_idx = 59999\n",
        "# You can load the data sample from the dataset, using [idx]\n",
        "img, label = train_data[data_idx] # get the data_idx-th sample from the train_data\n",
        "img = img.squeeze()\n",
        "\n",
        "plt.imshow(img), # plt.imshow visualize 2D image\n",
        "print(f'Label is {label}') # f means formatted string"
      ]
    },
    {
      "cell_type": "code",
      "source": [
        "# make simple kernel and apply it to the image\n",
        "# plt.imshow(img[10:13, 10:13])\n",
        "sliced_input = img[10:13, 10:13]\n",
        "\n",
        "custom_kernel = torch.tensor([[1, 1, 1], [0, 0, 0], [-1, -1, -1] ])\n",
        "print(custom_kernel)\n",
        "plt.imshow(custom_kernel)\n",
        "# kernel_output = (sliced_input * custom_kernel).sum() # take the element-wise multiplication and take sum\n",
        "# kernel_output"
      ],
      "metadata": {
        "id": "88wgmXSR9anF",
        "outputId": "e91f68ce-a62f-4652-c0f7-3c4edf190a66",
        "colab": {
          "base_uri": "https://localhost:8080/",
          "height": 507
        }
      },
      "execution_count": 22,
      "outputs": [
        {
          "output_type": "stream",
          "name": "stdout",
          "text": [
            "tensor([[ 1,  1,  1],\n",
            "        [ 0,  0,  0],\n",
            "        [-1, -1, -1]])\n"
          ]
        },
        {
          "output_type": "execute_result",
          "data": {
            "text/plain": [
              "<matplotlib.image.AxesImage at 0x7efbd5b218a0>"
            ]
          },
          "metadata": {},
          "execution_count": 22
        },
        {
          "output_type": "display_data",
          "data": {
            "text/plain": [
              "<Figure size 640x480 with 1 Axes>"
            ],
            "image/png": "[encoded data removed]"
          },
          "metadata": {}
        }
      ]
    },
    {
      "cell_type": "code",
      "source": [
        "pad_size = 1\n",
        "padded_img = torch.zeros(img.shape[0] + pad_size * 2, img.shape[1] + pad_size *2 )\n",
        "padded_img.shape\n",
        "padded_img[pad_size:-pad_size, pad_size:-pad_size] = img\n",
        "plt.imshow(padded_img)"
      ],
      "metadata": {
        "id": "-_yp-gKtD1K0",
        "outputId": "af74ee6b-e08a-4ece-a5e5-77ac2829f2b1",
        "colab": {
          "base_uri": "https://localhost:8080/",
          "height": 448
        }
      },
      "execution_count": 30,
      "outputs": [
        {
          "output_type": "execute_result",
          "data": {
            "text/plain": [
              "<matplotlib.image.AxesImage at 0x7efbd537eb00>"
            ]
          },
          "metadata": {},
          "execution_count": 30
        },
        {
          "output_type": "display_data",
          "data": {
            "text/plain": [
              "<Figure size 640x480 with 1 Axes>"
            ],
            "image/png": "[encoded data removed]"
          },
          "metadata": {}
        }
      ]
    },
    {
      "cell_type": "code",
      "source": [
        "# We will move our kernel throughout the image and see the result\n",
        "kernel_size = 3\n",
        "\n",
        "total_outputs = []\n",
        "img = padded_img\n",
        "for h in range(img.shape[0] - (kernel_size -1) ):\n",
        "  row_output = []\n",
        "  for w in range(img.shape[1] - (kernel_size -1) ):\n",
        "    sliced_img = img[h:h+3, w:w+3]\n",
        "    convolution_output = (sliced_img * custom_kernel).sum().item()\n",
        "    # print(convolution_output)\n",
        "    row_output.append(convolution_output)\n",
        "  # print(row_output)\n",
        "  total_outputs.append(row_output)\n",
        "total_outputs = torch.tensor(total_outputs)\n",
        "total_outputs.shape"
      ],
      "metadata": {
        "id": "GPV1lpj5-dLl",
        "outputId": "0ef32fc5-8592-40e9-fb54-9921327a9ded",
        "colab": {
          "base_uri": "https://localhost:8080/"
        }
      },
      "execution_count": 31,
      "outputs": [
        {
          "output_type": "execute_result",
          "data": {
            "text/plain": [
              "torch.Size([28, 28])"
            ]
          },
          "metadata": {},
          "execution_count": 31
        }
      ]
    },
    {
      "cell_type": "code",
      "source": [
        "plt.imshow(total_outputs)"
      ],
      "metadata": {
        "id": "lcdeJhirAzWX",
        "outputId": "a38e1b26-6dae-4296-999e-2e1f71f25156",
        "colab": {
          "base_uri": "https://localhost:8080/",
          "height": 448
        }
      },
      "execution_count": 32,
      "outputs": [
        {
          "output_type": "execute_result",
          "data": {
            "text/plain": [
              "<matplotlib.image.AxesImage at 0x7efbd5381b10>"
            ]
          },
          "metadata": {},
          "execution_count": 32
        },
        {
          "output_type": "display_data",
          "data": {
            "text/plain": [
              "<Figure size 640x480 with 1 Axes>"
            ],
            "image/png": "[encoded data removed]"
          },
          "metadata": {}
        }
      ]
    },
    {
      "cell_type": "markdown",
      "metadata": {
        "id": "4WX3hNlRdPK6"
      },
      "source": [
        "# 0.0 Using DataLoader"
      ]
    },
    {
      "cell_type": "code",
      "execution_count": null,
      "metadata": {
        "id": "Ii_Vr3IIdo4O"
      },
      "outputs": [],
      "source": [
        "train_data"
      ]
    },
    {
      "cell_type": "code",
      "execution_count": null,
      "metadata": {
        "id": "_IcYNkVAdOg9"
      },
      "outputs": [],
      "source": [
        "class Dataset:\n",
        "  def __init__(self, data):\n",
        "    self.data = data\n",
        "\n",
        "  # To implement the dataset, you have to declare two methods\n",
        "  # __getitem__ and __len__\n",
        "\n",
        "  def __getitem__(self, idx):\n",
        "    # this method is called when you do train_set[idx]\n",
        "    # here, we want to return our idx-th datasample, in proper format\n",
        "    img, label = self.data[idx]\n",
        "    # return img, label\n",
        "    return img.reshape(-1), label\n",
        "\n",
        "  def __len__(self):\n",
        "    # how many datasample we have in our dataset?\n",
        "    # what is the maximum valid idx for __getitem__\n",
        "    return len(self.data)\n",
        "\n",
        "train_set = Dataset(train_data)\n",
        "# train_set[15]\n",
        "len(train_set)"
      ]
    },
    {
      "cell_type": "code",
      "execution_count": null,
      "metadata": {
        "id": "gZoc4SQ5fIP0"
      },
      "outputs": [],
      "source": [
        "train_loader = torch.utils.data.DataLoader(train_set, batch_size=16, shuffle=True)\n",
        "\n",
        "for batch in train_loader:\n",
        "  imgs, labels = batch\n",
        "  break\n",
        "imgs.shape\n"
      ]
    },
    {
      "cell_type": "markdown",
      "metadata": {
        "id": "edZN-pPuMhOP"
      },
      "source": [
        "## 1. Make a Model"
      ]
    },
    {
      "cell_type": "code",
      "execution_count": null,
      "metadata": {
        "id": "4j5TEbRWwsH8"
      },
      "outputs": [],
      "source": [
        "class Classifier(nn.Module):\n",
        "  def __init__(self, input_dim=784, num_class=10):\n",
        "    super().__init__()\n",
        "    # Let's make three layer models\n",
        "\n",
        "    # What we know: input_dim = 784\n",
        "    # number_of_categories = 10\n",
        "    hidden_dim = 64\n",
        "    hidden_dim2 = 32\n",
        "\n",
        "    self.layer1 = nn.Linear(input_dim, hidden_dim)\n",
        "    self.layer2 = nn.Linear(hidden_dim, hidden_dim2)\n",
        "    self.layer3 = nn.Linear(hidden_dim2, num_class)\n",
        "    # self.layer = nn.Linear(784, 123)\n",
        "\n",
        "  def forward(self, x): # x is an input\n",
        "    # x is a tensor with a shape of [Num samples, 784]\n",
        "\n",
        "    # we want to predict the probability of each category label for a given input\n",
        "    # we have 10 different categories in our dataset\n",
        "\n",
        "    x = self.layer1(x)\n",
        "    x = x.relu()\n",
        "    x = self.layer2(x)\n",
        "    x = x.relu()\n",
        "    logit = self.layer3(x)\n",
        "    prob = logit.softmax(dim=-1)\n",
        "    return prob, logit\n",
        "\n",
        "\n",
        "model = Classifier()\n",
        "\n",
        "torch.set_printoptions(sci_mode=False)\n",
        "pred, logit = model(imgs)\n",
        "pred.shape, pred[:10]"
      ]
    },
    {
      "cell_type": "markdown",
      "metadata": {
        "id": "5DIkJHsmlDS8"
      },
      "source": [
        "## 2. Training"
      ]
    },
    {
      "cell_type": "markdown",
      "metadata": {
        "id": "gog3CqdTlDS9"
      },
      "source": [
        "### 2.1 Make a Loss Function\n",
        "- Define Negative Log Likelihood Loss\n",
        "  - $L = -\\sum_{i=1}^n\\log(\\hat{y}_{i}^{(c)})$\n",
        "  - $y_{i}^{(c)} \\in (0, 1)$: predicted probability for $i$-th sample to be class $c$, where $c$ is the ground truth label for $i$-th sample\n",
        "- Define Cross Entropy Loss\n",
        "  - $L = -\\sum_{i=1}^ny_{i}\\log(\\hat{y}_{i})$\n",
        "  - $ y_{i} \\in (0,1)^C$: ground truth label for $i$-th sample to be class $c$. $C$ denotes the number of classes.\n",
        "    - One-hot encoding: $y_{i} = [0, 0, 1, 0, 0, 0, 0, 0, 0, 0]$\n",
        "  - $ \\hat{y}_{i} \\in (0, 1)^C$: predicted probability for $i$-th sample to be class $c$\n",
        "    - e.g.: $\\hat{y}_{i} = [0.1, 0.1, 0.5, 0.1, 0.1, 0.0, 0.0, 0.0, 0.0, 0.1]$"
      ]
    },
    {
      "cell_type": "code",
      "execution_count": null,
      "metadata": {
        "id": "R8zTqa3glDS9"
      },
      "outputs": [],
      "source": [
        "def get_negative_log_likelihood(pred, target, eps=1e-8):\n",
        "  predicted_probs = []\n",
        "  # for i in range(len(pred)): #len(pred) means number of samples, or pred.shape[0]\n",
        "  #   i_th_pred = pred[i]\n",
        "  #   correct_label = target[i]\n",
        "  #   predicted_prob_for_correct_class = i_th_pred[correct_label]\n",
        "  #   # print(i_th_pred, correct_label, predicted_prob_for_correct_class)\n",
        "  #   predicted_probs.append(predicted_prob_for_correct_class)\n",
        "\n",
        "  # predicted_probs = torch.tensor(predicted_probs)\n",
        "  predicted_probs = pred[torch.arange(len(target)), target]\n",
        "  return -torch.log(predicted_probs + eps).mean()\n",
        "\n",
        "def get_cross_entropy(pred, target, eps=1e-8):\n",
        "  return\n",
        "\n",
        "def make_one_hot_vector(target, num_class=10):\n",
        "  return\n",
        "\n",
        "# pred.shape, label_tensor.shape\n",
        "# print(pred[:5])\n",
        "# print(label_tensor[:5])\n",
        "\n",
        "# predicted_probs = []\n",
        "# for i in range(len(pred)): #len(pred) means number of samples, or pred.shape[0]\n",
        "#   i_th_pred = pred[i]\n",
        "#   correct_label = label_tensor[i]\n",
        "#   predicted_prob_for_correct_class = i_th_pred[correct_label]\n",
        "#   # print(i_th_pred, correct_label, predicted_prob_for_correct_class)\n",
        "#   predicted_probs.append(predicted_prob_for_correct_class)\n",
        "\n",
        "# predicted_probs = torch.tensor(predicted_probs)\n",
        "\n",
        "loss = get_negative_log_likelihood(pred, label_tensor)\n",
        "loss"
      ]
    },
    {
      "cell_type": "code",
      "execution_count": null,
      "metadata": {
        "id": "Dic0y0W9o9UB"
      },
      "outputs": [],
      "source": [
        "# you can index tensor by list of indices\n",
        "# [(0, target[0]), (1, target[1]), (2, target[2])]\n",
        "# for i, c in zip(torch.arange(len(label_tensor)), label_tensor):\n",
        "#   print(i,c)\n",
        "\n",
        "pred[torch.arange(len(label_tensor)), label_tensor]"
      ]
    },
    {
      "cell_type": "code",
      "execution_count": null,
      "metadata": {
        "id": "EdtuDETdoZ-U"
      },
      "outputs": [],
      "source": [
        "-torch.log(predicted_probs).mean()"
      ]
    },
    {
      "cell_type": "markdown",
      "metadata": {
        "id": "UAb1YooZlDS9"
      },
      "source": [
        "### 2.2 Define Training Loop"
      ]
    },
    {
      "cell_type": "code",
      "execution_count": null,
      "metadata": {
        "id": "_v7OnVGXlDS9"
      },
      "outputs": [],
      "source": [
        "def train_one_step(model, optimizer, loss_function, input, target):\n",
        "  pred, logit = model(input) # forward pass. compute the prediction\n",
        "  loss = loss_function(pred, target) # compute the loss\n",
        "  loss.backward() # backpropagate theloss. compute the gradient\n",
        "  optimizer.step() # update the parameters based on each gradient\n",
        "  optimizer.zero_grad() # clear the gradient for every parameters\n",
        "  return loss.item() # return the loss value\n"
      ]
    },
    {
      "cell_type": "markdown",
      "metadata": {
        "id": "LxWrFBaslDS9"
      },
      "source": [
        "### 2.3 Make Batch"
      ]
    },
    {
      "cell_type": "code",
      "execution_count": null,
      "metadata": {
        "id": "-LITfMJdlDS9"
      },
      "outputs": [],
      "source": [
        "def get_batch(input_tensor, label_tensor, batch_size, start_idx):\n",
        "  # slice input tensor from start_idx:start_idx + batch_size\n",
        "\n",
        "  return input_tensor[start_idx:start_idx+batch_size], label_tensor[start_idx:start_idx+batch_size]\n",
        "\n",
        "batch_size = 64\n",
        "start_idx = 10\n",
        "batch_input, batch_label = get_batch(data_tensor, label_tensor, batch_size, start_idx)\n",
        "(batch_input[0] == data_tensor[10]).all()"
      ]
    },
    {
      "cell_type": "markdown",
      "metadata": {
        "id": "Ft6Anc_ClDS9"
      },
      "source": [
        "### 2.4 Train"
      ]
    },
    {
      "cell_type": "code",
      "execution_count": null,
      "metadata": {
        "id": "0eZnsP5fhcsK"
      },
      "outputs": [],
      "source": [
        "DEV"
      ]
    },
    {
      "cell_type": "code",
      "execution_count": null,
      "metadata": {
        "id": "Qi8qkAhfiBr9"
      },
      "outputs": [],
      "source": []
    },
    {
      "cell_type": "code",
      "execution_count": null,
      "metadata": {
        "id": "GqaSW0v3lDS9"
      },
      "outputs": [],
      "source": [
        "\n",
        "\n",
        "model = Classifier()\n",
        "train_loader = torch.utils.data.DataLoader(train_set, batch_size=1000, shuffle=True)\n",
        "optimizer = torch.optim.Adam(model.parameters(), lr=0.01)\n",
        "loss_function = get_negative_log_likelihood\n",
        "\n",
        "losses = []\n",
        "num_epochs = 5\n",
        "\n",
        "model.to(DEV) # move model to cuda. Move model's parameter on GPU's VRAM\n",
        "\n",
        "for epoch in tqdm(range(num_epochs)):\n",
        "  for batch in tqdm(train_loader, leave=False):\n",
        "    input_batch, target_batch = batch\n",
        "    input_batch = input_batch.to(DEV)  # Movetensor to GPU's VRAM\n",
        "    target_batch = target_batch.to(DEV)\n",
        "    loss = train_one_step(model, optimizer, loss_function, input_batch, target_batch)\n",
        "    losses.append(loss)\n",
        "\n",
        "\n"
      ]
    },
    {
      "cell_type": "code",
      "execution_count": null,
      "metadata": {
        "id": "dF3Yt4sTt6Zh"
      },
      "outputs": [],
      "source": [
        "plt.plot(losses)"
      ]
    },
    {
      "cell_type": "code",
      "execution_count": null,
      "metadata": {
        "id": "3Wk3UB5Fie4U"
      },
      "outputs": [],
      "source": [
        "test_loader = torch.utils.data.DataLoader(Dataset(test_data), batch_size=1000, shuffle=False)\n",
        "\n",
        "test_batch = next(iter(test_loader))\n",
        "# this will make something like \"batch in test_loader\" (iterator)\n",
        "# and only gets the first one\n",
        "imgs, labels = test_batch\n",
        "# imgs.shape\n",
        "\n",
        "pred, logit = model(imgs.to(DEV))\n",
        "pred.shape"
      ]
    },
    {
      "cell_type": "code",
      "execution_count": null,
      "metadata": {
        "id": "xhT1mHdMjNA-"
      },
      "outputs": [],
      "source": [
        "pred[0:3]"
      ]
    },
    {
      "cell_type": "code",
      "execution_count": null,
      "metadata": {
        "id": "K7CRDk0LjkGE"
      },
      "outputs": [],
      "source": [
        "# torch.argmax\n",
        "# return the indices that has maximum value\n",
        "predicted_labels = torch.argmax(pred, dim=1).cpu()\n",
        "predicted_labels[:10]"
      ]
    },
    {
      "cell_type": "code",
      "execution_count": null,
      "metadata": {
        "id": "7Z_jR5uWj2lG"
      },
      "outputs": [],
      "source": [
        "(predicted_labels == labels).sum().item() / len(labels)"
      ]
    },
    {
      "cell_type": "code",
      "execution_count": null,
      "metadata": {
        "id": "oDNW1pQ6kJdJ"
      },
      "outputs": [],
      "source": [
        "torch.where(predicted_labels != labels)\n",
        "# it gives in which indices our model made wrong predictions"
      ]
    },
    {
      "cell_type": "code",
      "execution_count": null,
      "metadata": {
        "id": "SEX_wTShkhFo"
      },
      "outputs": [],
      "source": [
        "idx = 241\n",
        "img, label = test_data[idx]\n",
        "predicted_lb = predicted_labels[idx].item()\n",
        "\n",
        "print(f\"GT Label: {label}, Predicted: {predicted_lb}\")\n",
        "plt.imshow(img.squeeze())"
      ]
    },
    {
      "cell_type": "markdown",
      "metadata": {
        "id": "goTe6y_wlDS9"
      },
      "source": []
    }
  ],
  "metadata": {
    "accelerator": "GPU",
    "colab": {
      "provenance": [],
      "include_colab_link": true
    },
    "kernelspec": {
      "display_name": "Python 3.8.10 64-bit",
      "language": "python",
      "name": "python3"
    },
    "language_info": {
      "codemirror_mode": {
        "name": "ipython",
        "version": 3
      },
      "file_extension": ".py",
      "mimetype": "text/x-python",
      "name": "python",
      "nbconvert_exporter": "python",
      "pygments_lexer": "ipython3",
      "version": "3.8.10"
    },
    "orig_nbformat": 4,
    "vscode": {
      "interpreter": {
        "hash": "31f2aee4e71d21fbe5cf8b01ff0e069b9275f58929596ceb00d14d90e3e16cd6"
      }
    }
  },
  "nbformat": 4,
  "nbformat_minor": 0
}